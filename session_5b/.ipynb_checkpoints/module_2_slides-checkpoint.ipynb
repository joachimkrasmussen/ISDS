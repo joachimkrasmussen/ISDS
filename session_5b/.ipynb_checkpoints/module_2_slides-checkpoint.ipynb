{
 "cells": [
  {
   "cell_type": "markdown",
   "metadata": {
    "slideshow": {
     "slide_type": "slide"
    }
   },
   "source": [
    "# Session 1 Recap\n",
    "\n",
    "*Joachim Kahr Rasmussen*"
   ]
  },
  {
   "cell_type": "markdown",
   "metadata": {
    "slideshow": {
     "slide_type": "slide"
    }
   },
   "source": [
    "## Recap (I/II) \n",
    "\n",
    "Three trends driving increasing interest in data science:\n",
    "- **Data** is increasingly available\n",
    "- Faster and bigger **computers**\n",
    "- Improved **algorithms**, methods for computation amd accessability of tools\n",
    "\n",
    "*Social data science* captures certain applications of data science within social sciences:\n",
    "- **Handling** (big) sets of structured (tabular) and unstructured (image, text and social media) data\n",
    "- **Analyzing** data with machine learning techniques (statistics, causal inference and economic modelling)"
   ]
  },
  {
   "cell_type": "markdown",
   "metadata": {
    "slideshow": {
     "slide_type": "slide"
    }
   },
   "source": [
    "## Recap (II/II) \n",
    "\n",
    "In this course, we use Python for most tasks:\n",
    "- **Other popular languages** out there (e.g. R and Julia)\n",
    "- However, Python is becoming increasingly popular due to **broad applicability** (data structuring, ML, general programming) and **ease of learning**\n",
    "\n",
    "However, not that easy to learn... Remember:\n",
    "- Coding takes **time** and **practice** to learn\n",
    "- We are here to **help** you!\n",
    "- Eventually, you will **learn the fundamentals**\n",
    "\n",
    "When you have learned the fundamentals, there are other margins to focus on:\n",
    "- **Speed**: Use functions and classes when possible\n",
    "- **Clarity**: Remember to annotate code so that others (including 'future you') understand what you have done"
   ]
  },
  {
   "cell_type": "markdown",
   "metadata": {
    "slideshow": {
     "slide_type": "slide"
    }
   },
   "source": [
    "## Questions?\n",
    "\n",
    "<center><img src='https://media.giphy.com/media/7PfwoiCwBp6Ra/giphy.gif' alt=\"Drawing\" style=\"width: 400px;\"/></center>"
   ]
  },
  {
   "cell_type": "markdown",
   "metadata": {
    "slideshow": {
     "slide_type": "slide"
    }
   },
   "source": [
    "# Session 2: Git, Markdown, Strings and APIs\n",
    "\n",
    "*Joachim Kahr Rasmussen*"
   ]
  },
  {
   "cell_type": "markdown",
   "metadata": {
    "slideshow": {
     "slide_type": "slide"
    }
   },
   "source": [
    "## Overview of Session\n",
    "\n",
    "Today, we will work with strings, requests and APIs. In particular, we will cover:\n",
    "1. Git for version control:\n",
    "    - It is useful when several people are colaborating on the same code. \n",
    "    - Today: Motivation for trying Git\n",
    "2. Markdown for exposition:\n",
    "    - How to start using Markdown \n",
    "3. Text as data:\n",
    "    - What is a string, and how do we work with it?\n",
    "    - What kinds of text data does there exist?\n",
    "4. Key Based Containers:\n",
    "    - What is a dictionary, and how is this different from lists and tuples?\n",
    "    - When are dictionaries useful, and how do we work with them?\n",
    "5. Interacting with the web:\n",
    "    - What is HTTP and HTML?\n",
    "    - What is an API, and how do interact with it?\n",
    "6. Leveraging APIs:\n",
    "    - What kinds of data can be extracted via an API?\n",
    "    - How do we translate an API into useful data?"
   ]
  },
  {
   "cell_type": "markdown",
   "metadata": {
    "slideshow": {
     "slide_type": "slide"
    }
   },
   "source": [
    "## Associated Readings\n",
    "\n",
    "Gazarov (2016): \"What is an API? In English, please.\"\n",
    "- Excellent and easily understood intro to the concept\n",
    "- Examples of different 'types' of APIs\n",
    "- Intro to the concepts of servers, clients and HTML\n",
    "\n",
    "PDA:\n",
    "- Section 2.3: How to work with strings in Python\n",
    "- Section 3.3: Opening text files, interpreting characters\n",
    "- Section 6.1: Opening and working with CSV files\n",
    "- Section 6.3: Intro to interacting with APIs\n",
    "- Section 7.3: Manipulating strings\n",
    "\n",
    "Zachery (2015):\n",
    "- **Technical** guide to Git"
   ]
  },
  {
   "cell_type": "markdown",
   "metadata": {
    "slideshow": {
     "slide_type": "slide"
    }
   },
   "source": [
    "# Git for Version Control"
   ]
  },
  {
   "cell_type": "markdown",
   "metadata": {
    "slideshow": {
     "slide_type": "slide"
    }
   },
   "source": [
    "## Git for Version Control - a Non-technical Overview\n",
    "\n",
    "Git is a tool for command line:"
   ]
  },
  {
   "cell_type": "markdown",
   "metadata": {
    "slideshow": {
     "slide_type": "fragment"
    }
   },
   "source": [
    "1) \"Track changes\" system for files\n",
    "- A log of all changes is kept - from nothing to current version\n",
    "- All changes are explicitly declared by you, may annotate\n",
    "  - You can try out things, but only save meaningful changes!"
   ]
  },
  {
   "cell_type": "markdown",
   "metadata": {
    "slideshow": {
     "slide_type": "fragment"
    }
   },
   "source": [
    "2) Share the files you want, how you want \n",
    "- A git folder, called **repository**, can be copied by others\n",
    "- Many sites allow public and private repositories - you decide access\n",
    "    \n"
   ]
  },
  {
   "cell_type": "markdown",
   "metadata": {
    "slideshow": {
     "slide_type": "slide"
    }
   },
   "source": [
    "## Why version control: Track of files/code"
   ]
  },
  {
   "cell_type": "markdown",
   "metadata": {
    "slideshow": {
     "slide_type": "slide"
    }
   },
   "source": [
    "### Without git\n",
    "<img src=\"https://raw.githubusercontent.com/abjer/sds2017/master/slides/figures/nogit.jpg\" style=\"margin: 0 0 -400px 0\" alt=\"Donald Duck\">\n",
    " "
   ]
  },
  {
   "cell_type": "markdown",
   "metadata": {
    "slideshow": {
     "slide_type": "slide"
    }
   },
   "source": [
    "### With Git\n",
    "![](https://raw.githubusercontent.com/abjer/sds2017/master/slides/figures/git.jpg)"
   ]
  },
  {
   "cell_type": "markdown",
   "metadata": {
    "slideshow": {
     "slide_type": "slide"
    }
   },
   "source": [
    "## What Dropbox/Google Drive etc. does\n",
    "\n",
    "Synchronize folder (including subfolders)\n",
    "- All changes are synchronized continuously (no choice)\n",
    "- If shared you keep the latest copy (one month reversion)"
   ]
  },
  {
   "cell_type": "markdown",
   "metadata": {
    "slideshow": {
     "slide_type": "slide"
    }
   },
   "source": [
    "## What Git does\n",
    "\n",
    "- Keeps a log of the entire history of changes to files. \n",
    "- You can decide **what** and **when** to put in this log.\n",
    "- You can syncronize the log\n",
    "    - in a centralized place, e.g. GitHub (which can be public or private).\n",
    "    - in a decentralized place, e.g. your servers, your computer\n",
    "- Others can see **who** contributed from this log."
   ]
  },
  {
   "cell_type": "markdown",
   "metadata": {
    "slideshow": {
     "slide_type": "slide"
    }
   },
   "source": [
    "## Why is Git useful\n",
    "\n",
    "Can scale to many people as it solves:\n",
    "- Handling of conflicting copies \n",
    "- Removes clutter: Only keep relevant changes $\\rightarrow$ Less use for space\n",
    "- Eternal memory: You can revert changes that are very old!\n",
    "- Contributions: Clear attribution of work"
   ]
  },
  {
   "cell_type": "markdown",
   "metadata": {
    "slideshow": {
     "slide_type": "slide"
    }
   },
   "source": [
    "## Vocabulary\n",
    "\n",
    "\n",
    "- Git: Git is an open source command line program for version control.\n",
    "- Repository: the location where your files are stored\n",
    "- GitHub: Company/web services that hosts Git repositories and enables 'social coding'\n",
    "- Clone: copy another repositiry to a new location (e.g. from GitHub to your PC)\n",
    "- Pull: to download the newest version of a repository\n",
    "- Push: push the changes you have made, to the repository"
   ]
  },
  {
   "cell_type": "markdown",
   "metadata": {
    "slideshow": {
     "slide_type": "slide"
    }
   },
   "source": [
    "## Git in this course\n",
    "\n",
    "\n",
    "\n",
    "Homepage hosted on [underlying github repo](https://github.com/abjer/sds2019)\n",
    "- Has all material and info\n",
    "- Careful: always ***copy*** notebooks if you use(lectures and exercises!!!)"
   ]
  },
  {
   "cell_type": "markdown",
   "metadata": {
    "slideshow": {
     "slide_type": "slide"
    }
   },
   "source": [
    "## Alternatives \n",
    "\n",
    "*GitHub for Mac/Windows*\n",
    "- A point and click version of Git.\n",
    "\n",
    "*Google's [Colab](https://colab.research.google.com/notebooks/welcome.ipynb)* \n",
    "- Is a combination of Google Docs and Jupyter Notebook. \n",
    "- Plug and play: is an easy to use, less flexible, alternative. "
   ]
  },
  {
   "cell_type": "markdown",
   "metadata": {
    "slideshow": {
     "slide_type": "slide"
    }
   },
   "source": [
    "# Markdown for Exposition"
   ]
  },
  {
   "cell_type": "markdown",
   "metadata": {
    "slideshow": {
     "slide_type": "slide"
    }
   },
   "source": [
    "## LaTeX vs Markdown (I/II)\n",
    "\n",
    "[LaTeX](https://en.wikipedia.org/wiki/LaTeX) is often used for creating slides in economics and social sciences more generally. \n",
    "\n",
    "Undeniable advantages:\n",
    "- Same language for slides and documents\n",
    "- Capable of creating beautiful scientific written products\n",
    "- Lots of people within academia can do the coding\n",
    "- Can be written jointly in [Overleaf](https://www.overleaf.com/)"
   ]
  },
  {
   "cell_type": "markdown",
   "metadata": {
    "slideshow": {
     "slide_type": "slide"
    }
   },
   "source": [
    "## Example of Latex Slide\n",
    "\n",
    "<img src=\"https://github.com/joachimkrasmussen/ISDS/blob/master/session_1/Latex_slides_preview.png?raw=true\" alt=\"drawing\" width=\"600\"/>"
   ]
  },
  {
   "cell_type": "markdown",
   "metadata": {
    "slideshow": {
     "slide_type": "slide"
    }
   },
   "source": [
    "## Example of Latex Document\n",
    "<img src=\"https://github.com/joachimkrasmussen/ISDS/blob/master/session_1/Latex_doc_preview.png?raw=true\" alt=\"drawing\" width=\"600\"/>\n"
   ]
  },
  {
   "cell_type": "markdown",
   "metadata": {
    "slideshow": {
     "slide_type": "slide"
    }
   },
   "source": [
    "## LaTeX vs Markdown (II/II)\n",
    "\n",
    "However, it has some problems. In particular:\n",
    "- Background code is heavy to read $-$ and write!\n",
    "- If including many images, it can be heavy to compile...\n",
    "\n",
    "Any alternative?\n",
    "\n"
   ]
  },
  {
   "cell_type": "markdown",
   "metadata": {
    "slideshow": {
     "slide_type": "fragment"
    }
   },
   "source": [
    "Yes: markdown. Like python, keeps code simple. Example:\n",
    "        \n",
    "Making italic text:\n",
    "- markdown: `*Some text*`\n",
    "- LaTeX: `\\textit{Some text}`\n",
    "\n",
    "In addition: Works very well with Jupyter + can be used for making homepages!\n",
    "\n",
    "How do you learn it? Open our notebook cells or see tutorial in reading lsit"
   ]
  },
  {
   "cell_type": "markdown",
   "metadata": {
    "slideshow": {
     "slide_type": "slide"
    }
   },
   "source": [
    "## Headlines\n",
    "\n",
    "\\# This will be the headline    \n",
    "\\#\\# This will be the sub headline  \n",
    "\\#\\#\\# And so on \n",
    "\n",
    "---------------------\n",
    "\n",
    "# This will be the headline\n",
    "## This will be the sub headline\n",
    "### And so on\n"
   ]
  },
  {
   "cell_type": "markdown",
   "metadata": {
    "slideshow": {
     "slide_type": "slide"
    }
   },
   "source": [
    "## Bold and italics\n",
    "\n",
    "- \\*\\*Text in bold\\*\\* ->  **Text in bold**\n",
    "\n",
    "- \\*Text in italics\\* -> *Text in italics* \n",
    "\n",
    "\\> This text will be indented \n",
    "> This text will be indented \n"
   ]
  },
  {
   "cell_type": "markdown",
   "metadata": {
    "slideshow": {
     "slide_type": "slide"
    }
   },
   "source": [
    "## Lists\n",
    "\n",
    "``` \n",
    "- fruits \n",
    "    - apples\n",
    "        - macintosh\n",
    "        - red delicious\n",
    "    - pears \n",
    "    - peaches\n",
    "- vegetables\n",
    "    - broccoli\n",
    "    - chard \n",
    "```"
   ]
  },
  {
   "cell_type": "markdown",
   "metadata": {
    "slideshow": {
     "slide_type": "slide"
    }
   },
   "source": [
    "## ... gives you this list\n",
    "- fruits \n",
    "    - apples\n",
    "        - macintosh\n",
    "        - red delicious\n",
    "    - pears \n",
    "    - peaches\n",
    "- vegetables\n",
    "    - broccoli\n",
    "    - chard"
   ]
  },
  {
   "cell_type": "markdown",
   "metadata": {
    "slideshow": {
     "slide_type": "slide"
    }
   },
   "source": [
    "## Links\n",
    "\n",
    "This is how you insert a link `[name of link](URL)` \n",
    "```\n",
    "The subreddit [DataIsBeautiful](https://www.reddit.com/r/dataisbeautiful/) loves data\n",
    "```\n",
    "\n",
    "-> \n",
    "\n",
    "The subreddit [DataIsBeautiful](https://www.reddit.com/r/dataisbeautiful/) loves data\n"
   ]
  },
  {
   "cell_type": "markdown",
   "metadata": {
    "slideshow": {
     "slide_type": "slide"
    }
   },
   "source": [
    "## Images\n",
    "It is almost the same, to insert an image `![](URL)`\n",
    "\n",
    "```\n",
    "This is a cat ![](https://upload.wikimedia.org/wikipedia/commons/a/a2/Cat_Golden_Chinchilla.jpg)\n",
    "```\n",
    "\n",
    "This is a cat ![](https://upload.wikimedia.org/wikipedia/commons/a/a2/Cat_Golden_Chinchilla.jpg)"
   ]
  },
  {
   "cell_type": "markdown",
   "metadata": {
    "slideshow": {
     "slide_type": "slide"
    }
   },
   "source": [
    "# Text as Data"
   ]
  },
  {
   "cell_type": "markdown",
   "metadata": {
    "slideshow": {
     "slide_type": "slide"
    }
   },
   "source": [
    "## Why Text Data\n",
    "\n",
    "Data is everywhere... and collection is taking speed! \n",
    "- Personal devices and [what we have at home](https://www.washingtonpost.com/technology/2019/05/06/alexa-has-been-eavesdropping-you-this-whole-time/)\n",
    "- Online in terms of news websites, wikipedia, social media, blogs, document archives \n",
    "\n",
    "Working with text data opens up interesting new avenues for analysis and research. Some cool examples:\n",
    "  - [The predictive information from central bank meeting minutes](https://sekhansen.github.io/pdf_files/qje_2018.pdf)\n",
    "  - [Choice of words by politicians - which shows increased polarization](https://www.brown.edu/Research/Shapiro/pdfs/politext.pdf)"
   ]
  },
  {
   "cell_type": "markdown",
   "metadata": {
    "slideshow": {
     "slide_type": "slide"
    }
   },
   "source": [
    "## How Text Data\n",
    "\n",
    "Data from the web often comes in HTML or other text format\n",
    "\n",
    "In this course, you will get tools to do basic work with text as data.\n",
    "\n",
    "However, in order to do that:\n",
    "\n",
    "- learn how to manipulate and save strings\n",
    "- save our text data in smart ways (JSON)\n",
    "- interact with the web\n",
    "\n",
    "First things first..."
   ]
  },
  {
   "cell_type": "markdown",
   "metadata": {
    "slideshow": {
     "slide_type": "slide"
    }
   },
   "source": [
    "## Strings Recap\n",
    "\n",
    "*What are strings? What do they consist of?*"
   ]
  },
  {
   "cell_type": "markdown",
   "metadata": {
    "slideshow": {
     "slide_type": "fragment"
    }
   },
   "source": [
    "Strings are sequential containers of characters    "
   ]
  },
  {
   "cell_type": "markdown",
   "metadata": {
    "slideshow": {
     "slide_type": "fragment"
    }
   },
   "source": [
    "Python characters can be:\n",
    "- Unicode (`UTF`)  \n",
    "    - Characters from European and Asian language and much more\n",
    "    - 16 bit information\n",
    "    - Python 3 default and newer web, e.g. [møn.dk](https://møn.dk)        \n",
    "-  American Standard Code (`ascii`)\n",
    "    - Characters from English alphabet, numbers, symbols for writing \n",
    "    - 8 bit information\n",
    "    - (Python 2 default, faster)"
   ]
  },
  {
   "cell_type": "markdown",
   "metadata": {
    "slideshow": {
     "slide_type": "slide"
    }
   },
   "source": [
    "## String Concatenation\n",
    "\n",
    "*How can I combine strings?*"
   ]
  },
  {
   "cell_type": "markdown",
   "metadata": {
    "slideshow": {
     "slide_type": "fragment"
    }
   },
   "source": [
    "Strings can be added together..."
   ]
  },
  {
   "cell_type": "code",
   "execution_count": 5,
   "metadata": {
    "slideshow": {
     "slide_type": "fragment"
    }
   },
   "outputs": [
    {
     "name": "stdout",
     "output_type": "stream",
     "text": [
      "police officer\n"
     ]
    }
   ],
   "source": [
    "s1 = 'police'\n",
    "s2 = 'officer'\n",
    "\n",
    "print(s1 + ' ' + s2)"
   ]
  },
  {
   "cell_type": "markdown",
   "metadata": {
    "slideshow": {
     "slide_type": "fragment"
    }
   },
   "source": [
    "... arranged via lists..."
   ]
  },
  {
   "cell_type": "code",
   "execution_count": 6,
   "metadata": {
    "slideshow": {
     "slide_type": "fragment"
    }
   },
   "outputs": [
    {
     "name": "stdout",
     "output_type": "stream",
     "text": [
      "['police', 'officer', 'arrests']\n"
     ]
    }
   ],
   "source": [
    "s = ' '\n",
    "my_list = [s1, s2, 'arrests']\n",
    "\n",
    "print(my_list)"
   ]
  },
  {
   "cell_type": "markdown",
   "metadata": {
    "slideshow": {
     "slide_type": "fragment"
    }
   },
   "source": [
    "... and koined in order to, say, write sentences"
   ]
  },
  {
   "cell_type": "code",
   "execution_count": 9,
   "metadata": {
    "slideshow": {
     "slide_type": "fragment"
    }
   },
   "outputs": [
    {
     "name": "stdout",
     "output_type": "stream",
     "text": [
      "police officer arrests\n"
     ]
    }
   ],
   "source": [
    "my_join_string = s.join(my_list)\n",
    "\n",
    "print(my_join_string)"
   ]
  },
  {
   "cell_type": "code",
   "execution_count": 10,
   "metadata": {
    "slideshow": {
     "slide_type": "fragment"
    }
   },
   "outputs": [
    {
     "name": "stdout",
     "output_type": "stream",
     "text": [
      "police+officer+arrests\n"
     ]
    }
   ],
   "source": [
    "s_ = '+'\n",
    "my_join_string2 = s_.join(my_list)\n",
    "\n",
    "print(my_join_string2)"
   ]
  },
  {
   "cell_type": "markdown",
   "metadata": {
    "slideshow": {
     "slide_type": "fragment"
    }
   },
   "source": [
    "## String Changing Case\n",
    "\n",
    "*Can I alter the sentence-case of strings?*"
   ]
  },
  {
   "cell_type": "markdown",
   "metadata": {
    "slideshow": {
     "slide_type": "fragment"
    }
   },
   "source": [
    "- Yes using the string methods `upper`, `lower`, `capitalize`. Example:"
   ]
  },
  {
   "cell_type": "code",
   "execution_count": 11,
   "metadata": {
    "slideshow": {
     "slide_type": "fragment"
    }
   },
   "outputs": [
    {
     "data": {
      "text/plain": [
       "'POLICE'"
      ]
     },
     "execution_count": 11,
     "metadata": {},
     "output_type": "execute_result"
    }
   ],
   "source": [
    "s1.upper()"
   ]
  },
  {
   "cell_type": "markdown",
   "metadata": {
    "slideshow": {
     "slide_type": "slide"
    }
   },
   "source": [
    "## Substrings\n",
    "*How can I check if a substring is contained in the string?*"
   ]
  },
  {
   "cell_type": "markdown",
   "metadata": {
    "slideshow": {
     "slide_type": "fragment"
    }
   },
   "source": [
    "- in/not in"
   ]
  },
  {
   "cell_type": "code",
   "execution_count": 24,
   "metadata": {
    "slideshow": {
     "slide_type": "fragment"
    }
   },
   "outputs": [
    {
     "data": {
      "text/plain": [
       "True"
      ]
     },
     "execution_count": 24,
     "metadata": {},
     "output_type": "execute_result"
    }
   ],
   "source": [
    "'pol' in s1 #Check in string\n"
   ]
  },
  {
   "cell_type": "code",
   "execution_count": 25,
   "metadata": {
    "slideshow": {
     "slide_type": "fragment"
    }
   },
   "outputs": [
    {
     "data": {
      "text/plain": [
       "[True, False, False]"
      ]
     },
     "execution_count": 25,
     "metadata": {},
     "output_type": "execute_result"
    }
   ],
   "source": [
    "[('pol' in my_s) for my_s in my_list] #Check in list of strings"
   ]
  },
  {
   "cell_type": "markdown",
   "metadata": {
    "slideshow": {
     "slide_type": "fragment"
    }
   },
   "source": [
    "*How can I replace a specific substring?*"
   ]
  },
  {
   "cell_type": "markdown",
   "metadata": {
    "slideshow": {
     "slide_type": "fragment"
    }
   },
   "source": [
    "- replace"
   ]
  },
  {
   "cell_type": "code",
   "execution_count": 26,
   "metadata": {
    "slideshow": {
     "slide_type": "fragment"
    }
   },
   "outputs": [
    {
     "data": {
      "text/plain": [
       "'malice'"
      ]
     },
     "execution_count": 26,
     "metadata": {},
     "output_type": "execute_result"
    }
   ],
   "source": [
    "s1.replace('po', 'ma') #Replace in string\n"
   ]
  },
  {
   "cell_type": "code",
   "execution_count": 29,
   "metadata": {
    "slideshow": {
     "slide_type": "fragment"
    }
   },
   "outputs": [
    {
     "data": {
      "text/plain": [
       "['malice', 'officer', 'arrests']"
      ]
     },
     "execution_count": 29,
     "metadata": {},
     "output_type": "execute_result"
    }
   ],
   "source": [
    "[(my_s.replace('po', 'ma')) for my_s in my_list] #Replace in list of strings\n"
   ]
  },
  {
   "cell_type": "markdown",
   "metadata": {
    "slideshow": {
     "slide_type": "fragment"
    }
   },
   "source": [
    "*Can I also access a string via indices? (in the sequence of characters)*"
   ]
  },
  {
   "cell_type": "markdown",
   "metadata": {
    "slideshow": {
     "slide_type": "fragment"
    }
   },
   "source": [
    "- sequence form - slicing/indexing"
   ]
  },
  {
   "cell_type": "code",
   "execution_count": 34,
   "metadata": {
    "slideshow": {
     "slide_type": "fragment"
    }
   },
   "outputs": [
    {
     "name": "stdout",
     "output_type": "stream",
     "text": [
      "poli\n"
     ]
    }
   ],
   "source": [
    "print(s1[:4]) #Return first 4 symbols"
   ]
  },
  {
   "cell_type": "code",
   "execution_count": 35,
   "metadata": {
    "slideshow": {
     "slide_type": "fragment"
    }
   },
   "outputs": [
    {
     "name": "stdout",
     "output_type": "stream",
     "text": [
      "lice\n"
     ]
    }
   ],
   "source": [
    "print(s1[-4:]) #Return last 4 symbols"
   ]
  },
  {
   "cell_type": "code",
   "execution_count": 36,
   "metadata": {
    "slideshow": {
     "slide_type": "fragment"
    }
   },
   "outputs": [
    {
     "name": "stdout",
     "output_type": "stream",
     "text": [
      "lice\n"
     ]
    }
   ],
   "source": [
    "print(s1[len(s1)-4:]) #Return last 4 symbols"
   ]
  },
  {
   "cell_type": "markdown",
   "metadata": {
    "slideshow": {
     "slide_type": "slide"
    }
   },
   "source": [
    "## Strings quiz\n",
    "*Which Python object do strings remind you of?*"
   ]
  },
  {
   "cell_type": "markdown",
   "metadata": {
    "slideshow": {
     "slide_type": "fragment"
    }
   },
   "source": [
    "- Lists work like strings.\n",
    "  - Concatention (`+`, `*`) works the same way.\n",
    "  - We check if element/character is contained with `in`.\n",
    "  - We can slice and use indices for."
   ]
  },
  {
   "cell_type": "markdown",
   "metadata": {
    "slideshow": {
     "slide_type": "slide"
    }
   },
   "source": [
    "## More about strings \n",
    "\n",
    "There are many things about strings which we have not covered:\n",
    "\n",
    "- Methods for splitting or combining strings etc.\n",
    "- [String formatting](http://www.python-course.eu/python3_formatted_output.php) is exceptionally useful, e.g for making URLs, printing etc. \n"
   ]
  },
  {
   "cell_type": "markdown",
   "metadata": {
    "slideshow": {
     "slide_type": "slide"
    }
   },
   "source": [
    "# Key Based Containers"
   ]
  },
  {
   "cell_type": "markdown",
   "metadata": {
    "slideshow": {
     "slide_type": "slide"
    }
   },
   "source": [
    "## Containers recap\n",
    "\n",
    "*What are containers? Which have we seen?*"
   ]
  },
  {
   "cell_type": "markdown",
   "metadata": {
    "slideshow": {
     "slide_type": "fragment"
    }
   },
   "source": [
    "Sequential containers:\n",
    "- `list` which we can modify (**mutable**).\n",
    "    - useful to collect data on the go\n",
    "- `tuple` which is after initial assignment (**immutable**)\n",
    "     - tuples are faster as they can do less things\n",
    "- `array` \n",
    "    - which is mutable in content (i.e. we can change elements)\n",
    "    - but immutable in size\n",
    "    - great for data analysis"
   ]
  },
  {
   "cell_type": "markdown",
   "metadata": {
    "slideshow": {
     "slide_type": "fragment"
    }
   },
   "source": [
    "Non-sequential containers:\n",
    "- Dictionaries (`dict`) which are accessed by keys (immutable objects).\n",
    "    - Focus of tomorrow.\n",
    "- Sets (`set`) where elements are\n",
    "    - unique (no duplicates) \n",
    "    - not ordered\n",
    "    - disadvantage: cannot access specific elements!"
   ]
  },
  {
   "cell_type": "markdown",
   "metadata": {
    "slideshow": {
     "slide_type": "slide"
    }
   },
   "source": [
    "## Dictionaries (I/II)\n",
    "\n",
    "*How can we make a container which is accessed by arbitrary keys?*"
   ]
  },
  {
   "cell_type": "markdown",
   "metadata": {
    "slideshow": {
     "slide_type": "fragment"
    }
   },
   "source": [
    "By using a dictionary, `dict`. Try executing the two pieces of code below:"
   ]
  },
  {
   "cell_type": "code",
   "execution_count": 48,
   "metadata": {
    "slideshow": {
     "slide_type": "-"
    }
   },
   "outputs": [
    {
     "name": "stdout",
     "output_type": "stream",
     "text": [
      "Lecturer 1\n"
     ]
    }
   ],
   "source": [
    "my_dict = {'Andreas': 'Lecturer 3',\n",
    "           'Joachim': 'Lecturer 1',\n",
    "           'Nicklas': 'Lecturer 2',\n",
    "           'Terne': 'Lecturer 4'}\n",
    "\n",
    "print(my_dict['Joachim'])"
   ]
  },
  {
   "cell_type": "code",
   "execution_count": 49,
   "metadata": {
    "slideshow": {
     "slide_type": "-"
    }
   },
   "outputs": [
    {
     "name": "stdout",
     "output_type": "stream",
     "text": [
      "1000\n"
     ]
    }
   ],
   "source": [
    "my_new_dict = {}\n",
    "for a in range(0,100):\n",
    "    my_new_dict[\"cube%s\" %a] = a**3\n",
    "    \n",
    "print(my_new_dict['cube10'])"
   ]
  },
  {
   "cell_type": "markdown",
   "metadata": {
    "slideshow": {
     "slide_type": "slide"
    }
   },
   "source": [
    "## Dictionaries (II/II)\n",
    "\n",
    "Dictionaries can also be constructed from two associated lists. These are tied together with the `zip` function. Try the following code:"
   ]
  },
  {
   "cell_type": "code",
   "execution_count": 51,
   "metadata": {
    "slideshow": {
     "slide_type": "-"
    }
   },
   "outputs": [
    {
     "name": "stdout",
     "output_type": "stream",
     "text": [
      "[('a', 2), ('b', 3), ('c', 4)]\n"
     ]
    }
   ],
   "source": [
    "keys = ['a', 'b', 'c']\n",
    "values = range(2,5)\n",
    "\n",
    "key_value_pairs = list(zip(keys, values))\n",
    "print(key_value_pairs) #Print as a list of tuples"
   ]
  },
  {
   "cell_type": "code",
   "execution_count": 54,
   "metadata": {
    "scrolled": true,
    "slideshow": {
     "slide_type": "-"
    }
   },
   "outputs": [
    {
     "name": "stdout",
     "output_type": "stream",
     "text": [
      "{'a': 2, 'b': 3, 'c': 4}\n"
     ]
    }
   ],
   "source": [
    "my_dict2 = dict(key_value_pairs)\n",
    "print(my_dict2) #Print dictionary"
   ]
  },
  {
   "cell_type": "code",
   "execution_count": 55,
   "metadata": {},
   "outputs": [
    {
     "name": "stdout",
     "output_type": "stream",
     "text": [
      "2\n"
     ]
    }
   ],
   "source": [
    "print(my_dict2['a']) #Fetch the value associated with 'a'"
   ]
  },
  {
   "cell_type": "markdown",
   "metadata": {
    "slideshow": {
     "slide_type": "slide"
    }
   },
   "source": [
    "## Storing Containers\n",
    "\n",
    "*Does there exist a file format for easy storage of containers?*"
   ]
  },
  {
   "cell_type": "markdown",
   "metadata": {
    "slideshow": {
     "slide_type": "fragment"
    }
   },
   "source": [
    "Yes, the JSON file format.\n",
    "- Can store lists and dictionaries.\n",
    "- Syntax is the same as Python lists and dictionaries - only add quotation marks. \n",
    "    - Example: `'{\"a\":1,\"b\":1}'`"
   ]
  },
  {
   "cell_type": "markdown",
   "metadata": {
    "slideshow": {
     "slide_type": "fragment"
    }
   },
   "source": [
    "*Why is JSON so useful?*"
   ]
  },
  {
   "cell_type": "markdown",
   "metadata": {
    "slideshow": {
     "slide_type": "fragment"
    }
   },
   "source": [
    "- Standard format that looks exactly like Python.\n",
    "- Extreme flexibility:\n",
    "    - Can hold any list or dictionary of any depth which contains only float, int, str.\n",
    "    - Does not work well with other formats, but normally holds any structured data.\n",
    "        - Extension to spatial data: GeoJSON"
   ]
  },
  {
   "cell_type": "markdown",
   "metadata": {
    "slideshow": {
     "slide_type": "slide"
    }
   },
   "source": [
    "# Interacting with the Web"
   ]
  },
  {
   "cell_type": "markdown",
   "metadata": {
    "slideshow": {
     "slide_type": "slide"
    }
   },
   "source": [
    "## The Internet as Data (I/II)\n",
    "\n",
    "When we surf around the internet we are exposed to a wealth of information."
   ]
  },
  {
   "cell_type": "markdown",
   "metadata": {
    "slideshow": {
     "slide_type": "fragment"
    }
   },
   "source": [
    "- What if we could take this and analyze it?"
   ]
  },
  {
   "cell_type": "markdown",
   "metadata": {
    "slideshow": {
     "slide_type": "fragment"
    }
   },
   "source": [
    "Well, we can. And we will. "
   ]
  },
  {
   "cell_type": "markdown",
   "metadata": {
    "slideshow": {
     "slide_type": "fragment"
    }
   },
   "source": [
    "Examples: Facebook, Twitter, Reddit, Wikipedia, Airbnb etc."
   ]
  },
  {
   "cell_type": "markdown",
   "metadata": {
    "slideshow": {
     "slide_type": "slide"
    }
   },
   "source": [
    "## The Internet as Data (II/II)\n",
    "\n",
    "Sometimes we get lucky. The data is served to us."
   ]
  },
  {
   "cell_type": "markdown",
   "metadata": {
    "slideshow": {
     "slide_type": "fragment"
    }
   },
   "source": [
    "- The data is provided as an `API` service (today)\n",
    "- The data can extracted by queries on underlying tables (scraping sessions)\n"
   ]
  },
  {
   "cell_type": "markdown",
   "metadata": {
    "slideshow": {
     "slide_type": "fragment"
    }
   },
   "source": [
    "However, often we need to do the work ourselves (scraping sessions)\n",
    "\n",
    "- We need to explore the structure of the webpage we are interested in\n",
    "- We can extract relevant elements \n",
    "   "
   ]
  },
  {
   "cell_type": "markdown",
   "metadata": {
    "slideshow": {
     "slide_type": "slide"
    }
   },
   "source": [
    "## Web Interactions\n",
    "\n",
    "In the words of Gazarov (2016): The web can be seen as a large network of connected servers\n",
    "- Every page on the internet is stored somewhere on a remote server\n",
    "    - Remove server $\\sim$ remotely located computer that is optimized to process requests"
   ]
  },
  {
   "cell_type": "markdown",
   "metadata": {
    "slideshow": {
     "slide_type": "fragment"
    }
   },
   "source": [
    "- When accessing a web page through browser:\n",
    "    - Your browser (the *client*) sends a request to the website's server\n",
    "    - The server then sends code back to the browser\n",
    "    - This code is interpreted by the browser and displayed\n"
   ]
  },
  {
   "cell_type": "markdown",
   "metadata": {
    "slideshow": {
     "slide_type": "fragment"
    }
   },
   "source": [
    "- Websites come in the form of HTML $-$ APIs only contain data (often in *JSON* format) without presentational overhead"
   ]
  },
  {
   "cell_type": "markdown",
   "metadata": {
    "slideshow": {
     "slide_type": "slide"
    }
   },
   "source": [
    "## The Web Protocol\n",
    "*What is `http` and where is it used?*"
   ]
  },
  {
   "cell_type": "markdown",
   "metadata": {
    "slideshow": {
     "slide_type": "fragment"
    }
   },
   "source": [
    "- `http` stands for HyperText Transfer Protocol.\n",
    "- `http` is good for transmitting the data when a webpage is visited:\n",
    "   - the visiting client sends request for URL or object;\n",
    "   - the server returns relevant data if active."
   ]
  },
  {
   "cell_type": "markdown",
   "metadata": {
    "slideshow": {
     "slide_type": "fragment"
    }
   },
   "source": [
    "*Should we care about `http`?*"
   ]
  },
  {
   "cell_type": "markdown",
   "metadata": {
    "slideshow": {
     "slide_type": "fragment"
    }
   },
   "source": [
    "- In this course we ***do not*** care explicitly about `http`. \n",
    "- We use a Python module called `requests` as a `http` interface.\n",
    "- However... Some useful advice - you should **always**:\n",
    "  - use the encrypted version, `https`;\n",
    "  - use authenticated connection, i.e. private login, whenever possible."
   ]
  },
  {
   "cell_type": "markdown",
   "metadata": {
    "slideshow": {
     "slide_type": "slide"
    }
   },
   "source": [
    "## Markup Language\n",
    "*What is `html` and where is it used?*"
   ]
  },
  {
   "cell_type": "markdown",
   "metadata": {
    "slideshow": {
     "slide_type": "fragment"
    }
   },
   "source": [
    "- HyperText Markup Lanugage\n",
    "- `html` is a language for communicating how a webpage looks like and behaves.\n",
    "  - That is, `html` contains: content, design, available actions."
   ]
  },
  {
   "cell_type": "markdown",
   "metadata": {
    "slideshow": {
     "slide_type": "fragment"
    }
   },
   "source": [
    "*Should we care about `html`?*"
   ]
  },
  {
   "cell_type": "markdown",
   "metadata": {
    "slideshow": {
     "slide_type": "fragment"
    }
   },
   "source": [
    "- Yes, `html` is often where the interesting data can be found.\n",
    "- Sometimes, we are lucky, and instead of `html` we get a JSON in return. \n",
    "- Getting data from `html` will the topic of the subsequent scraping sessions."
   ]
  },
  {
   "cell_type": "markdown",
   "metadata": {
    "slideshow": {
     "slide_type": "slide"
    }
   },
   "source": [
    "# Leveraging APIs "
   ]
  },
  {
   "cell_type": "markdown",
   "metadata": {
    "slideshow": {
     "slide_type": "slide"
    }
   },
   "source": [
    "## Web APIs (I/IV)\n",
    "*So when do we get lucky, i.e. when is `html` not important?*"
   ]
  },
  {
   "cell_type": "markdown",
   "metadata": {
    "slideshow": {
     "slide_type": "fragment"
    }
   },
   "source": [
    "- When we get a Application Programming Interface (`API`) on the web\n",
    "- What does this mean?\n",
    "  - We send a query to the Web API \n",
    "  - We get a response from the Web API with data back in return, typically as JSON.\n",
    "  - The API usually provides access to a database or some service"
   ]
  },
  {
   "cell_type": "markdown",
   "metadata": {
    "slideshow": {
     "slide_type": "slide"
    }
   },
   "source": [
    "## Web APIs (II/IV)\n",
    "*So where is the API?*"
   ]
  },
  {
   "cell_type": "markdown",
   "metadata": {
    "slideshow": {
     "slide_type": "fragment"
    }
   },
   "source": [
    "- Usually on separate sub-domain, e.g. `api.github.com`\n",
    "- Sometimes hidden in code (see sessions on scraping) "
   ]
  },
  {
   "cell_type": "markdown",
   "metadata": {
    "slideshow": {
     "slide_type": "fragment"
    }
   },
   "source": [
    "*So how do we know how the API works?*"
   ]
  },
  {
   "cell_type": "markdown",
   "metadata": {
    "slideshow": {
     "slide_type": "fragment"
    }
   },
   "source": [
    "- There usually is some documentation. E.g. google [\"api github com\"](https://www.google.com/search?q=api+github)"
   ]
  },
  {
   "cell_type": "markdown",
   "metadata": {
    "slideshow": {
     "slide_type": "slide"
    }
   },
   "source": [
    "## Web APIs (III/IV)\n",
    "*So is data free? As in free lunch?*"
   ]
  },
  {
   "cell_type": "markdown",
   "metadata": {
    "slideshow": {
     "slide_type": "fragment"
    }
   },
   "source": [
    "- Most commercial APIs require authentication and have limited free usage\n",
    "  - e.g. Google Maps, various weather services\n",
    "- Some open APIs that are free\n",
    "  - Danish \n",
    "    - Danish statistics (DST)\n",
    "    - Danish weather data (DMI, this fall)\n",
    "    - Danish spatial data (DAWA, danish addresses) \n",
    "  - Global\n",
    "      - OpenStreetMaps, Wikipedia\n",
    "- If no authentication is required the API may be delimited.\n",
    "  - This means only a certain number of requests can be handled per second or per hour from a given IP address."
   ]
  },
  {
   "cell_type": "markdown",
   "metadata": {
    "slideshow": {
     "slide_type": "slide"
    }
   },
   "source": [
    "## Web APIs (IV/IV)\n",
    "*So how do make the URLs?*"
   ]
  },
  {
   "cell_type": "markdown",
   "metadata": {
    "slideshow": {
     "slide_type": "fragment"
    }
   },
   "source": [
    "- An `API` query is a URL consisting of:\n",
    "  - Server URL, e.g. `https://api.github.com`\n",
    "  - Endpoint path, `/users/abjer/repos`"
   ]
  },
  {
   "cell_type": "markdown",
   "metadata": {
    "slideshow": {
     "slide_type": "slide"
    }
   },
   "source": [
    "## Web APIs in Python (I/V)\n",
    "*How do make a simple query?*"
   ]
  },
  {
   "cell_type": "code",
   "execution_count": 59,
   "metadata": {
    "slideshow": {
     "slide_type": "fragment"
    }
   },
   "outputs": [
    {
     "name": "stdout",
     "output_type": "stream",
     "text": [
      "https://api.github.com/users/abjer/repos\n"
     ]
    }
   ],
   "source": [
    "server_url = 'https://api.github.com'\n",
    "endpoint_path = '/users/abjer/repos'\n",
    "url = server_url + endpoint_path\n",
    "\n",
    "print(url)"
   ]
  },
  {
   "cell_type": "markdown",
   "metadata": {
    "slideshow": {
     "slide_type": "slide"
    }
   },
   "source": [
    "## Web APIs in Python (II/V)\n",
    "*How can we send a query with the `requests` module?*"
   ]
  },
  {
   "cell_type": "code",
   "execution_count": 61,
   "metadata": {
    "slideshow": {
     "slide_type": "fragment"
    }
   },
   "outputs": [
    {
     "data": {
      "text/plain": [
       "'[{\"id\":111244798,\"node_id\":\"MDEwOlJlcG9zaXRvcnkxMTEyNDQ3OTg=\",\"name\":\"abjer.github.io\",\"full_name\":\"abjer/abjer.github.io\",\"private\":false,\"owner\":{\"login\":\"abjer\",\"id\":6363844,\"node_id\":\"MDQ6VXNlcjYzNjM4NDQ=\",\"avatar_url\":\"https://avatars.githubusercontent.com/u/6363844?v=4\",\"gravatar_id\":\"\",\"url\":\"https://api.github.com/users/abjer\",\"html_url\":\"https://github.com/abjer\",\"followers_url\":\"https://api.github.com/users/abjer/followers\",\"following_url\":\"https://api.github.com/users/abjer/following{/other_user}\",\"gists_url\":\"https://api.github.com/users/abjer/gists{/gist_id}\",\"starred_url\":\"https://api.github.com/users/abjer/starred{/owner}{/repo}\",\"subscriptions_url\":\"https://api.github.com/users/abjer/subscriptions\",\"organizations_url\":\"https://api.github.com/users/abjer/orgs\",\"repos_url\":\"https://api.github.com/users/abjer/repos\",\"events_url\":\"https://api.github.com/users/abjer/events{/privacy}\",\"received_events_url\":\"https://api.github.com/users/abjer/received_events\",\"type\":\"User\",\"site_admin\":false},\"html_url\":\"https://github.com/abjer/abjer.github.io\",\"description\":\"Repository for personal webpage https://abjer.github.io\",\"fork\":false,\"url\":\"https://api.github.com/repos/abjer/abjer.github.io\",\"forks_url\":\"https://api.github.com/repos/abjer/abjer.github.io/forks\",\"keys_url\":\"https://api.github.com/repos/abjer/abjer.github.io/keys{/key_id}\",\"collaborators_url\":\"https://api.github.com/repos/abjer/abjer.github.io/collaborators{/collaborator}\",\"teams_url\":\"https://api.github.com/repos/abjer/abjer.github.io/teams\",\"hooks_url\":\"https://api.github.com/repos/abjer/abjer.github.io/hooks\",\"issue_events_url\":\"https://api.github.com/repos/abjer/abjer.github.io/issues/events{/number}\",\"events_url\":\"https://api.github.com/repos/abjer/abjer.github.io/events\",\"assignees_url\":\"https://api.github.com/repos/abjer/abjer.github.io/assignees{/user}\",\"branches_url\":\"https://api.github.com/repos/abjer/abjer.github.io/branches{/branch}\",\"tags_url\":\"https://api.github.com/repos/abjer/abjer.github.io/tags\",\"blobs_url\":\"https://api.github.com/repos/abjer/abjer.github.io/git/blobs{/sha}\",\"git_tags_url\":\"https://api.github.com/repos/abjer/abjer.github.io/git/tags{/sha}\",\"git_refs_url\":\"https://api.github.com/repos/abjer/abjer.github.io/git/refs{/sha}\",\"trees_url\":\"https://api.github.com/repos/abjer/abjer.github.io/git/trees{/sha}\",\"statuses_url\":\"https://api.github.com/repos/abjer/abjer.github.io/statuses/{sha}\",\"languages_url\":\"https://api.github.com/repos/abjer/abjer.github.io/languages\",\"stargazers_url\":\"https://api.github.com/repos/abjer/abjer.github.io/stargazers\",\"contributors_url\":\"https://api.github.com/repos/abjer/abjer.github.io/contributors\",\"subscribers_url\":\"https://api.github.com/repos/abjer/abjer.github.io/subscribers\",\"subscription_url\":\"https://api.github.com/repos/abjer/abjer.github.io/subscription\",\"commits_url\":\"https://api.github.com/repos/abjer/abjer.github.io/commits{/sha}\",\"git_commits_url\":\"https://api.github.com/repos/abjer/abjer.github.io/git/commits{/sha}\",\"comments_url\":\"https://api.github.com/repos/abjer/abjer.github.io/comments{/number}\",\"issue_comment_url\":\"https://api.github.com/repos/abjer/abjer.github.io/issues/comments{/number}\",\"contents_url\":\"https://api.github.com/repos/abjer/abjer.github.io/contents/{+path}\",\"compare_url\":\"https://api.github.com/repos/abjer/abjer.github.io/compare/{base}...{head}\",\"merges_url\":\"https://api.github.com/repos/abjer/abjer.github.io/merges\",\"archive_url\":\"https://api.github.com/repos/abjer/abjer.github.io/{archive_format}{/ref}\",\"downloads_url\":\"https://api.github.com/repos/abjer/abjer.github.io/downloads\",\"issues_url\":\"https://api.github.com/repos/abjer/abjer.github.io/issues{/number}\",\"pulls_url\":\"https://api.github.com/repos/abjer/abjer.github.io/pulls{/number}\",\"milestones_url\":\"https://api.github.com/repos/abjer/abjer.github.io/milestones{/number}\",\"notifications_url\":\"https://api.github.com/repos/abjer/abjer.github.io/notifications{?since,all,participating}\",\"labels_url\":\"https://api.github.com/repos/abjer/abjer.github.io/labels{/name}\",\"releases_url\":\"https://api.github.com/repos/abjer/abjer.github.io/releases{/id}\",\"deployments_url\":\"https://api.github.com/repos/abjer/abjer.github.io/deployments\",\"created_at\":\"2017-11-18T22:34:19Z\",\"updated_at\":\"2021-04-02T20:31:13Z\",\"pushed_at\":\"2021-04-02T20:31:11Z\",\"git_url\":\"git://github.com/abjer/abjer.github.io.git\",\"ssh_url\":\"git@github.com:abjer/abjer.github.io.git\",\"clone_url\":\"https://github.com/abjer/abjer.github.io.git\",\"svn_url\":\"https://github.com/abjer/abjer.github.io\",\"homepage\":null,\"size\":3621,\"stargazers_count\":0,\"watchers_count\":0,\"language\":\"HTML\",\"has_issues\":true,\"has_projects\":true,\"has_downloads\":true,\"has_wiki\":true,\"has_pages\":true,\"forks_count\":0,\"mirror_url\":null,\"archived\":false,\"disabled\":false,\"open_issues_count\":0,\"license\":null,\"forks\":0,\"open_issues\":0,\"watchers\":0,\"default_branch\":\"master\"},{\"id\":154833054,\"node_id\":\"MDEwOlJlcG9zaXRvcnkxNTQ4MzMwNTQ=\",\"name\":\"dask\",\"full_name\":\"abjer/dask\",\"private\":false,\"owner\":{\"login\":\"abjer\",\"id\":6363844,\"node_id\":\"MDQ6VXNlcjYzNjM4NDQ=\",\"avatar_url\":\"https://avatars.githubusercontent.com/u/6363844?v=4\",\"gravatar_id\":\"\",\"url\":\"https://api.github.com/users/abjer\",\"html_url\":\"https://github.com/abjer\",\"followers_url\":\"https://api.github.com/users/abjer/followers\",\"following_url\":\"https://api.github.com/users/abjer/following{/other_user}\",\"gists_url\":\"https://api.github.com/users/abjer/gists{/gist_id}\",\"starred_url\":\"https://api.github.com/users/abjer/starred{/owner}{/repo}\",\"subscriptions_url\":\"https://api.github.com/users/abjer/subscriptions\",\"organizations_url\":\"https://api.github.com/users/abjer/orgs\",\"repos_url\":\"https://api.github.com/users/abjer/repos\",\"events_url\":\"https://api.github.com/users/abjer/events{/privacy}\",\"received_events_url\":\"https://api.github.com/users/abjer/received_events\",\"type\":\"User\",\"site_admin\":false},\"html_url\":\"https://github.com/abjer/dask\",\"description\":\"Parallel computing with task scheduling\",\"fork\":true,\"url\":\"https://api.github.com/repos/abjer/dask\",\"forks_url\":\"https://api.github.com/repos/abjer/dask/forks\",\"keys_url\":\"https://api.github.com/repos/abjer/dask/keys{/key_id}\",\"collaborators_url\":\"https://api.github.com/repos/abjer/dask/collaborators{/collaborator}\",\"teams_url\":\"https://api.github.com/repos/abjer/dask/teams\",\"hooks_url\":\"https://api.github.com/repos/abjer/dask/hooks\",\"issue_events_url\":\"https://api.github.com/repos/abjer/dask/issues/events{/number}\",\"events_url\":\"https://api.github.com/repos/abjer/dask/events\",\"assignees_url\":\"https://api.github.com/repos/abjer/dask/assignees{/user}\",\"branches_url\":\"https://api.github.com/repos/abjer/dask/branches{/branch}\",\"tags_url\":\"https://api.github.com/repos/abjer/dask/tags\",\"blobs_url\":\"https://api.github.com/repos/abjer/dask/git/blobs{/sha}\",\"git_tags_url\":\"https://api.github.com/repos/abjer/dask/git/tags{/sha}\",\"git_refs_url\":\"https://api.github.com/repos/abjer/dask/git/refs{/sha}\",\"trees_url\":\"https://api.github.com/repos/abjer/dask/git/trees{/sha}\",\"statuses_url\":\"https://api.github.com/repos/abjer/dask/statuses/{sha}\",\"languages_url\":\"https://api.github.com/repos/abjer/dask/languages\",\"stargazers_url\":\"https://api.github.com/repos/abjer/dask/stargazers\",\"contributors_url\":\"https://api.github.com/repos/abjer/dask/contributors\",\"subscribers_url\":\"https://api.github.com/repos/abjer/dask/subscribers\",\"subscription_url\":\"https://api.github.com/repos/abjer/dask/subscription\",\"commits_url\":\"https://api.github.com/repos/abjer/dask/commits{/sha}\",\"git_commits_url\":\"https://api.github.com/repos/abjer/dask/git/commits{/sha}\",\"comments_url\":\"https://api.github.com/repos/abjer/dask/comments{/number}\",\"issue_comment_url\":\"https://api.github.com/repos/abjer/dask/issues/comments{/number}\",\"contents_url\":\"https://api.github.com/repos/abjer/dask/contents/{+path}\",\"compare_url\":\"https://api.github.com/repos/abjer/dask/compare/{base}...{head}\",\"merges_url\":\"https://api.github.com/repos/abjer/dask/merges\",\"archive_url\":\"https://api.github.com/repos/abjer/dask/{archive_format}{/ref}\",\"downloads_url\":\"https://api.github.com/repos/abjer/dask/downloads\",\"issues_url\":\"https://api.github.com/repos/abjer/dask/issues{/number}\",\"pulls_url\":\"https://api.github.com/repos/abjer/dask/pulls{/number}\",\"milestones_url\":\"https://api.github.com/repos/abjer/dask/milestones{/number}\",\"notifications_url\":\"https://api.github.com/repos/abjer/dask/notifications{?since,all,participating}\",\"labels_url\":\"https://api.github.com/repos/abjer/dask/labels{/name}\",\"releases_url\":\"https://api.github.com/repos/abjer/dask/releases{/id}\",\"deployments_url\":\"https://api.github.com/repos/abjer/dask/deployments\",\"created_at\":\"2018-10-26T12:42:46Z\",\"updated_at\":\"2018-10-26T12:42:49Z\",\"pushed_at\":\"2018-10-26T12:23:38Z\",\"git_url\":\"git://github.com/abjer/dask.git\",\"ssh_url\":\"git@github.com:abjer/dask.git\",\"clone_url\":\"https://github.com/abjer/dask.git\",\"svn_url\":\"https://github.com/abjer/dask\",\"homepage\":\"https://dask.org\",\"size\":18265,\"stargazers_count\":0,\"watchers_count\":0,\"language\":\"Python\",\"has_issues\":false,\"has_projects\":true,\"has_downloads\":true,\"has_wiki\":true,\"has_pages\":false,\"forks_count\":0,\"mirror_url\":null,\"archived\":false,\"disabled\":false,\"open_issues_count\":0,\"license\":{\"key\":\"other\",\"name\":\"Other\",\"spdx_id\":\"NOASSERTION\",\"url\":null,\"node_id\":\"MDc6TGljZW5zZTA=\"},\"forks\":0,\"open_issues\":0,\"watchers\":0,\"default_branch\":\"master\"},{\"id\":60264492,\"node_id\":\"MDEwOlJlcG9zaXRvcnk2MDI2NDQ5Mg==\",\"name\":\"geopandas\",\"full_name\":\"abjer/geopandas\",\"private\":false,\"owner\":{\"login\":\"abjer\",\"id\":6363844,\"node_id\":\"MDQ6VXNlcjYzNjM4NDQ=\",\"avatar_url\":\"https://avatars.githubusercontent.com/u/6363844?v=4\",\"gravatar_id\":\"\",\"url\":\"https://api.github.com/users/abjer\",\"html_url\":\"https://github.com/abjer\",\"followers_url\":\"https://api.github.com/users/abjer/followers\",\"following_url\":\"https://api.github.com/users/abjer/following{/other_user}\",\"gists_url\":\"https://api.github.com/users/abjer/gists{/gist_id}\",\"starred_url\":\"https://api.github.com/users/abjer/starred{/owner}{/repo}\",\"subscriptions_url\":\"https://api.github.com/users/abjer/subscriptions\",\"organizations_url\":\"https://api.github.com/users/abjer/orgs\",\"repos_url\":\"https://api.github.com/users/abjer/repos\",\"events_url\":\"https://api.github.com/users/abjer/events{/privacy}\",\"received_events_url\":\"https://api.github.com/users/abjer/received_events\",\"type\":\"User\",\"site_admin\":false},\"html_url\":\"https://github.com/abjer/geopandas\",\"description\":\"Python tools for geographic data\",\"fork\":true,\"url\":\"https://api.github.com/repos/abjer/geopandas\",\"forks_url\":\"https://api.github.com/repos/abjer/geopandas/forks\",\"keys_url\":\"https://api.github.com/repos/abjer/geopandas/keys{/key_id}\",\"collaborators_url\":\"https://api.github.com/repos/abjer/geopandas/collaborators{/collaborator}\",\"teams_url\":\"https://api.github.com/repos/abjer/geopandas/teams\",\"hooks_url\":\"https://api.github.com/repos/abjer/geopandas/hooks\",\"issue_events_url\":\"https://api.github.com/repos/abjer/geopandas/issues/events{/number}\",\"events_url\":\"https://api.github.com/repos/abjer/geopandas/events\",\"assignees_url\":\"https://api.github.com/repos/abjer/geopandas/assignees{/user}\",\"branches_url\":\"https://api.github.com/repos/abjer/geopandas/branches{/branch}\",\"tags_url\":\"https://api.github.com/repos/abjer/geopandas/tags\",\"blobs_url\":\"https://api.github.com/repos/abjer/geopandas/git/blobs{/sha}\",\"git_tags_url\":\"https://api.github.com/repos/abjer/geopandas/git/tags{/sha}\",\"git_refs_url\":\"https://api.github.com/repos/abjer/geopandas/git/refs{/sha}\",\"trees_url\":\"https://api.github.com/repos/abjer/geopandas/git/trees{/sha}\",\"statuses_url\":\"https://api.github.com/repos/abjer/geopandas/statuses/{sha}\",\"languages_url\":\"https://api.github.com/repos/abjer/geopandas/languages\",\"stargazers_url\":\"https://api.github.com/repos/abjer/geopandas/stargazers\",\"contributors_url\":\"https://api.github.com/repos/abjer/geopandas/contributors\",\"subscribers_url\":\"https://api.github.com/repos/abjer/geopandas/subscribers\",\"subscription_url\":\"https://api.github.com/repos/abjer/geopandas/subscription\",\"commits_url\":\"https://api.github.com/repos/abjer/geopandas/commits{/sha}\",\"git_commits_url\":\"https://api.github.com/repos/abjer/geopandas/git/commits{/sha}\",\"comments_url\":\"https://api.github.com/repos/abjer/geopandas/comments{/number}\",\"issue_comment_url\":\"https://api.github.com/repos/abjer/geopandas/issues/comments{/number}\",\"contents_url\":\"https://api.github.com/repos/abjer/geopandas/contents/{+path}\",\"compare_url\":\"https://api.github.com/repos/abjer/geopandas/compare/{base}...{head}\",\"merges_url\":\"https://api.github.com/repos/abjer/geopandas/merges\",\"archive_url\":\"https://api.github.com/repos/abjer/geopandas/{archive_format}{/ref}\",\"downloads_url\":\"https://api.github.com/repos/abjer/geopandas/downloads\",\"issues_url\":\"https://api.github.com/repos/abjer/geopandas/issues{/number}\",\"pulls_url\":\"https://api.github.com/repos/abjer/geopandas/pulls{/number}\",\"milestones_url\":\"https://api.github.com/repos/abjer/geopandas/milestones{/number}\",\"notifications_url\":\"https://api.github.com/repos/abjer/geopandas/notifications{?since,all,participating}\",\"labels_url\":\"https://api.github.com/repos/abjer/geopandas/labels{/name}\",\"releases_url\":\"https://api.github.com/repos/abjer/geopandas/releases{/id}\",\"deployments_url\":\"https://api.github.com/repos/abjer/geopandas/deployments\",\"created_at\":\"2016-06-02T13:02:59Z\",\"updated_at\":\"2016-06-02T13:03:00Z\",\"pushed_at\":\"2016-06-17T13:11:35Z\",\"git_url\":\"git://github.com/abjer/geopandas.git\",\"ssh_url\":\"git@github.com:abjer/geopandas.git\",\"clone_url\":\"https://github.com/abjer/geopandas.git\",\"svn_url\":\"https://github.com/abjer/geopandas\",\"homepage\":\"\",\"size\":3627,\"stargazers_count\":0,\"watchers_count\":0,\"language\":\"Python\",\"has_issues\":false,\"has_projects\":true,\"has_downloads\":true,\"has_wiki\":true,\"has_pages\":false,\"forks_count\":0,\"mirror_url\":null,\"archived\":false,\"disabled\":false,\"open_issues_count\":0,\"license\":{\"key\":\"bsd-3-clause\",\"name\":\"BSD 3-Clause \\\\\"New\\\\\" or \\\\\"Revised\\\\\" License\",\"spdx_id\":\"BSD-3-Clause\",\"url\":\"https://api.github.com/licenses/bsd-3-clause\",\"node_id\":\"MDc6TGljZW5zZTU=\"},\"forks\":0,\"open_issues\":0,\"watchers\":0,\"default_branch\":\"master\"},{\"id\":274619454,\"node_id\":\"MDEwOlJlcG9zaXRvcnkyNzQ2MTk0NTQ=\",\"name\":\"isds2020\",\"full_name\":\"abjer/isds2020\",\"private\":false,\"owner\":{\"login\":\"abjer\",\"id\":6363844,\"node_id\":\"MDQ6VXNlcjYzNjM4NDQ=\",\"avatar_url\":\"https://avatars.githubusercontent.com/u/6363844?v=4\",\"gravatar_id\":\"\",\"url\":\"https://api.github.com/users/abjer\",\"html_url\":\"https://github.com/abjer\",\"followers_url\":\"https://api.github.com/users/abjer/followers\",\"following_url\":\"https://api.github.com/users/abjer/following{/other_user}\",\"gists_url\":\"https://api.github.com/users/abjer/gists{/gist_id}\",\"starred_url\":\"https://api.github.com/users/abjer/starred{/owner}{/repo}\",\"subscriptions_url\":\"https://api.github.com/users/abjer/subscriptions\",\"organizations_url\":\"https://api.github.com/users/abjer/orgs\",\"repos_url\":\"https://api.github.com/users/abjer/repos\",\"events_url\":\"https://api.github.com/users/abjer/events{/privacy}\",\"received_events_url\":\"https://api.github.com/users/abjer/received_events\",\"type\":\"User\",\"site_admin\":false},\"html_url\":\"https://github.com/abjer/isds2020\",\"description\":\"Introduction to Social Data Science 2020 - a summer school course  abjer.github.io/isds2020\",\"fork\":false,\"url\":\"https://api.github.com/repos/abjer/isds2020\",\"forks_url\":\"https://api.github.com/repos/abjer/isds2020/forks\",\"keys_url\":\"https://api.github.com/repos/abjer/isds2020/keys{/key_id}\",\"collaborators_url\":\"https://api.github.com/repos/abjer/isds2020/collaborators{/collaborator}\",\"teams_url\":\"https://api.github.com/repos/abjer/isds2020/teams\",\"hooks_url\":\"https://api.github.com/repos/abjer/isds2020/hooks\",\"issue_events_url\":\"https://api.github.com/repos/abjer/isds2020/issues/events{/number}\",\"events_url\":\"https://api.github.com/repos/abjer/isds2020/events\",\"assignees_url\":\"https://api.github.com/repos/abjer/isds2020/assignees{/user}\",\"branches_url\":\"https://api.github.com/repos/abjer/isds2020/branches{/branch}\",\"tags_url\":\"https://api.github.com/repos/abjer/isds2020/tags\",\"blobs_url\":\"https://api.github.com/repos/abjer/isds2020/git/blobs{/sha}\",\"git_tags_url\":\"https://api.github.com/repos/abjer/isds2020/git/tags{/sha}\",\"git_refs_url\":\"https://api.github.com/repos/abjer/isds2020/git/refs{/sha}\",\"trees_url\":\"https://api.github.com/repos/abjer/isds2020/git/trees{/sha}\",\"statuses_url\":\"https://api.github.com/repos/abjer/isds2020/statuses/{sha}\",\"languages_url\":\"https://api.github.com/repos/abjer/isds2020/languages\",\"stargazers_url\":\"https://api.github.com/repos/abjer/isds2020/stargazers\",\"contributors_url\":\"https://api.github.com/repos/abjer/isds2020/contributors\",\"subscribers_url\":\"https://api.github.com/repos/abjer/isds2020/subscribers\",\"subscription_url\":\"https://api.github.com/repos/abjer/isds2020/subscription\",\"commits_url\":\"https://api.github.com/repos/abjer/isds2020/commits{/sha}\",\"git_commits_url\":\"https://api.github.com/repos/abjer/isds2020/git/commits{/sha}\",\"comments_url\":\"https://api.github.com/repos/abjer/isds2020/comments{/number}\",\"issue_comment_url\":\"https://api.github.com/repos/abjer/isds2020/issues/comments{/number}\",\"contents_url\":\"https://api.github.com/repos/abjer/isds2020/contents/{+path}\",\"compare_url\":\"https://api.github.com/repos/abjer/isds2020/compare/{base}...{head}\",\"merges_url\":\"https://api.github.com/repos/abjer/isds2020/merges\",\"archive_url\":\"https://api.github.com/repos/abjer/isds2020/{archive_format}{/ref}\",\"downloads_url\":\"https://api.github.com/repos/abjer/isds2020/downloads\",\"issues_url\":\"https://api.github.com/repos/abjer/isds2020/issues{/number}\",\"pulls_url\":\"https://api.github.com/repos/abjer/isds2020/pulls{/number}\",\"milestones_url\":\"https://api.github.com/repos/abjer/isds2020/milestones{/number}\",\"notifications_url\":\"https://api.github.com/repos/abjer/isds2020/notifications{?since,all,participating}\",\"labels_url\":\"https://api.github.com/repos/abjer/isds2020/labels{/name}\",\"releases_url\":\"https://api.github.com/repos/abjer/isds2020/releases{/id}\",\"deployments_url\":\"https://api.github.com/repos/abjer/isds2020/deployments\",\"created_at\":\"2020-06-24T08:43:15Z\",\"updated_at\":\"2021-04-18T19:11:41Z\",\"pushed_at\":\"2020-08-30T10:10:50Z\",\"git_url\":\"git://github.com/abjer/isds2020.git\",\"ssh_url\":\"git@github.com:abjer/isds2020.git\",\"clone_url\":\"https://github.com/abjer/isds2020.git\",\"svn_url\":\"https://github.com/abjer/isds2020\",\"homepage\":null,\"size\":67757,\"stargazers_count\":52,\"watchers_count\":52,\"language\":\"Jupyter Notebook\",\"has_issues\":true,\"has_projects\":true,\"has_downloads\":true,\"has_wiki\":true,\"has_pages\":true,\"forks_count\":88,\"mirror_url\":null,\"archived\":false,\"disabled\":false,\"open_issues_count\":36,\"license\":null,\"forks\":88,\"open_issues\":36,\"watchers\":52,\"default_branch\":\"master\"},{\"id\":362621800,\"node_id\":\"MDEwOlJlcG9zaXRvcnkzNjI2MjE4MDA=\",\"name\":\"mle_phd_oslo\",\"full_name\":\"abjer/mle_phd_oslo\",\"private\":false,\"owner\":{\"login\":\"abjer\",\"id\":6363844,\"node_id\":\"MDQ6VXNlcjYzNjM4NDQ=\",\"avatar_url\":\"https://avatars.githubusercontent.com/u/6363844?v=4\",\"gravatar_id\":\"\",\"url\":\"https://api.github.com/users/abjer\",\"html_url\":\"https://github.com/abjer\",\"followers_url\":\"https://api.github.com/users/abjer/followers\",\"following_url\":\"https://api.github.com/users/abjer/following{/other_user}\",\"gists_url\":\"https://api.github.com/users/abjer/gists{/gist_id}\",\"starred_url\":\"https://api.github.com/users/abjer/starred{/owner}{/repo}\",\"subscriptions_url\":\"https://api.github.com/users/abjer/subscriptions\",\"organizations_url\":\"https://api.github.com/users/abjer/orgs\",\"repos_url\":\"https://api.github.com/users/abjer/repos\",\"events_url\":\"https://api.github.com/users/abjer/events{/privacy}\",\"received_events_url\":\"https://api.github.com/users/abjer/received_events\",\"type\":\"User\",\"site_admin\":false},\"html_url\":\"https://github.com/abjer/mle_phd_oslo\",\"description\":null,\"fork\":false,\"url\":\"https://api.github.com/repos/abjer/mle_phd_oslo\",\"forks_url\":\"https://api.github.com/repos/abjer/mle_phd_oslo/forks\",\"keys_url\":\"https://api.github.com/repos/abjer/mle_phd_oslo/keys{/key_id}\",\"collaborators_url\":\"https://api.github.com/repos/abjer/mle_phd_oslo/collaborators{/collaborator}\",\"teams_url\":\"https://api.github.com/repos/abjer/mle_phd_oslo/teams\",\"hooks_url\":\"https://api.github.com/repos/abjer/mle_phd_oslo/hooks\",\"issue_events_url\":\"https://api.github.com/repos/abjer/mle_phd_oslo/issues/events{/number}\",\"events_url\":\"https://api.github.com/repos/abjer/mle_phd_oslo/events\",\"assignees_url\":\"https://api.github.com/repos/abjer/mle_phd_oslo/assignees{/user}\",\"branches_url\":\"https://api.github.com/repos/abjer/mle_phd_oslo/branches{/branch}\",\"tags_url\":\"https://api.github.com/repos/abjer/mle_phd_oslo/tags\",\"blobs_url\":\"https://api.github.com/repos/abjer/mle_phd_oslo/git/blobs{/sha}\",\"git_tags_url\":\"https://api.github.com/repos/abjer/mle_phd_oslo/git/tags{/sha}\",\"git_refs_url\":\"https://api.github.com/repos/abjer/mle_phd_oslo/git/refs{/sha}\",\"trees_url\":\"https://api.github.com/repos/abjer/mle_phd_oslo/git/trees{/sha}\",\"statuses_url\":\"https://api.github.com/repos/abjer/mle_phd_oslo/statuses/{sha}\",\"languages_url\":\"https://api.github.com/repos/abjer/mle_phd_oslo/languages\",\"stargazers_url\":\"https://api.github.com/repos/abjer/mle_phd_oslo/stargazers\",\"contributors_url\":\"https://api.github.com/repos/abjer/mle_phd_oslo/contributors\",\"subscribers_url\":\"https://api.github.com/repos/abjer/mle_phd_oslo/subscribers\",\"subscription_url\":\"https://api.github.com/repos/abjer/mle_phd_oslo/subscription\",\"commits_url\":\"https://api.github.com/repos/abjer/mle_phd_oslo/commits{/sha}\",\"git_commits_url\":\"https://api.github.com/repos/abjer/mle_phd_oslo/git/commits{/sha}\",\"comments_url\":\"https://api.github.com/repos/abjer/mle_phd_oslo/comments{/number}\",\"issue_comment_url\":\"https://api.github.com/repos/abjer/mle_phd_oslo/issues/comments{/number}\",\"contents_url\":\"https://api.github.com/repos/abjer/mle_phd_oslo/contents/{+path}\",\"compare_url\":\"https://api.github.com/repos/abjer/mle_phd_oslo/compare/{base}...{head}\",\"merges_url\":\"https://api.github.com/repos/abjer/mle_phd_oslo/merges\",\"archive_url\":\"https://api.github.com/repos/abjer/mle_phd_oslo/{archive_format}{/ref}\",\"downloads_url\":\"https://api.github.com/repos/abjer/mle_phd_oslo/downloads\",\"issues_url\":\"https://api.github.com/repos/abjer/mle_phd_oslo/issues{/number}\",\"pulls_url\":\"https://api.github.com/repos/abjer/mle_phd_oslo/pulls{/number}\",\"milestones_url\":\"https://api.github.com/repos/abjer/mle_phd_oslo/milestones{/number}\",\"notifications_url\":\"https://api.github.com/repos/abjer/mle_phd_oslo/notifications{?since,all,participating}\",\"labels_url\":\"https://api.github.com/repos/abjer/mle_phd_oslo/labels{/name}\",\"releases_url\":\"https://api.github.com/repos/abjer/mle_phd_oslo/releases{/id}\",\"deployments_url\":\"https://api.github.com/repos/abjer/mle_phd_oslo/deployments\",\"created_at\":\"2021-04-28T22:22:38Z\",\"updated_at\":\"2021-05-30T10:41:54Z\",\"pushed_at\":\"2021-05-30T10:41:51Z\",\"git_url\":\"git://github.com/abjer/mle_phd_oslo.git\",\"ssh_url\":\"git@github.com:abjer/mle_phd_oslo.git\",\"clone_url\":\"https://github.com/abjer/mle_phd_oslo.git\",\"svn_url\":\"https://github.com/abjer/mle_phd_oslo\",\"homepage\":null,\"size\":3169,\"stargazers_count\":1,\"watchers_count\":1,\"language\":\"Jupyter Notebook\",\"has_issues\":true,\"has_projects\":true,\"has_downloads\":true,\"has_wiki\":true,\"has_pages\":false,\"forks_count\":5,\"mirror_url\":null,\"archived\":false,\"disabled\":false,\"open_issues_count\":0,\"license\":null,\"forks\":5,\"open_issues\":0,\"watchers\":1,\"default_branch\":\"main\"},{\"id\":117970609,\"node_id\":\"MDEwOlJlcG9zaXRvcnkxMTc5NzA2MDk=\",\"name\":\"privacy_spatial\",\"full_name\":\"abjer/privacy_spatial\",\"private\":false,\"owner\":{\"login\":\"abjer\",\"id\":6363844,\"node_id\":\"MDQ6VXNlcjYzNjM4NDQ=\",\"avatar_url\":\"https://avatars.githubusercontent.com/u/6363844?v=4\",\"gravatar_id\":\"\",\"url\":\"https://api.github.com/users/abjer\",\"html_url\":\"https://github.com/abjer\",\"followers_url\":\"https://api.github.com/users/abjer/followers\",\"following_url\":\"https://api.github.com/users/abjer/following{/other_user}\",\"gists_url\":\"https://api.github.com/users/abjer/gists{/gist_id}\",\"starred_url\":\"https://api.github.com/users/abjer/starred{/owner}{/repo}\",\"subscriptions_url\":\"https://api.github.com/users/abjer/subscriptions\",\"organizations_url\":\"https://api.github.com/users/abjer/orgs\",\"repos_url\":\"https://api.github.com/users/abjer/repos\",\"events_url\":\"https://api.github.com/users/abjer/events{/privacy}\",\"received_events_url\":\"https://api.github.com/users/abjer/received_events\",\"type\":\"User\",\"site_admin\":false},\"html_url\":\"https://github.com/abjer/privacy_spatial\",\"description\":\"This is a repository for code companioning the paper \\\\\"Privacy in spatial data with high resolution and time invariance\\\\\" written by Andreas Bjerre-Nielsen and Mikkel Høst Gandil.\",\"fork\":false,\"url\":\"https://api.github.com/repos/abjer/privacy_spatial\",\"forks_url\":\"https://api.github.com/repos/abjer/privacy_spatial/forks\",\"keys_url\":\"https://api.github.com/repos/abjer/privacy_spatial/keys{/key_id}\",\"collaborators_url\":\"https://api.github.com/repos/abjer/privacy_spatial/collaborators{/collaborator}\",\"teams_url\":\"https://api.github.com/repos/abjer/privacy_spatial/teams\",\"hooks_url\":\"https://api.github.com/repos/abjer/privacy_spatial/hooks\",\"issue_events_url\":\"https://api.github.com/repos/abjer/privacy_spatial/issues/events{/number}\",\"events_url\":\"https://api.github.com/repos/abjer/privacy_spatial/events\",\"assignees_url\":\"https://api.github.com/repos/abjer/privacy_spatial/assignees{/user}\",\"branches_url\":\"https://api.github.com/repos/abjer/privacy_spatial/branches{/branch}\",\"tags_url\":\"https://api.github.com/repos/abjer/privacy_spatial/tags\",\"blobs_url\":\"https://api.github.com/repos/abjer/privacy_spatial/git/blobs{/sha}\",\"git_tags_url\":\"https://api.github.com/repos/abjer/privacy_spatial/git/tags{/sha}\",\"git_refs_url\":\"https://api.github.com/repos/abjer/privacy_spatial/git/refs{/sha}\",\"trees_url\":\"https://api.github.com/repos/abjer/privacy_spatial/git/trees{/sha}\",\"statuses_url\":\"https://api.github.com/repos/abjer/privacy_spatial/statuses/{sha}\",\"languages_url\":\"https://api.github.com/repos/abjer/privacy_spatial/languages\",\"stargazers_url\":\"https://api.github.com/repos/abjer/privacy_spatial/stargazers\",\"contributors_url\":\"https://api.github.com/repos/abjer/privacy_spatial/contributors\",\"subscribers_url\":\"https://api.github.com/repos/abjer/privacy_spatial/subscribers\",\"subscription_url\":\"https://api.github.com/repos/abjer/privacy_spatial/subscription\",\"commits_url\":\"https://api.github.com/repos/abjer/privacy_spatial/commits{/sha}\",\"git_commits_url\":\"https://api.github.com/repos/abjer/privacy_spatial/git/commits{/sha}\",\"comments_url\":\"https://api.github.com/repos/abjer/privacy_spatial/comments{/number}\",\"issue_comment_url\":\"https://api.github.com/repos/abjer/privacy_spatial/issues/comments{/number}\",\"contents_url\":\"https://api.github.com/repos/abjer/privacy_spatial/contents/{+path}\",\"compare_url\":\"https://api.github.com/repos/abjer/privacy_spatial/compare/{base}...{head}\",\"merges_url\":\"https://api.github.com/repos/abjer/privacy_spatial/merges\",\"archive_url\":\"https://api.github.com/repos/abjer/privacy_spatial/{archive_format}{/ref}\",\"downloads_url\":\"https://api.github.com/repos/abjer/privacy_spatial/downloads\",\"issues_url\":\"https://api.github.com/repos/abjer/privacy_spatial/issues{/number}\",\"pulls_url\":\"https://api.github.com/repos/abjer/privacy_spatial/pulls{/number}\",\"milestones_url\":\"https://api.github.com/repos/abjer/privacy_spatial/milestones{/number}\",\"notifications_url\":\"https://api.github.com/repos/abjer/privacy_spatial/notifications{?since,all,participating}\",\"labels_url\":\"https://api.github.com/repos/abjer/privacy_spatial/labels{/name}\",\"releases_url\":\"https://api.github.com/repos/abjer/privacy_spatial/releases{/id}\",\"deployments_url\":\"https://api.github.com/repos/abjer/privacy_spatial/deployments\",\"created_at\":\"2018-01-18T10:52:21Z\",\"updated_at\":\"2021-04-09T06:26:39Z\",\"pushed_at\":\"2021-04-09T06:26:37Z\",\"git_url\":\"git://github.com/abjer/privacy_spatial.git\",\"ssh_url\":\"git@github.com:abjer/privacy_spatial.git\",\"clone_url\":\"https://github.com/abjer/privacy_spatial.git\",\"svn_url\":\"https://github.com/abjer/privacy_spatial\",\"homepage\":null,\"size\":3417,\"stargazers_count\":0,\"watchers_count\":0,\"language\":\"Jupyter Notebook\",\"has_issues\":true,\"has_projects\":true,\"has_downloads\":true,\"has_wiki\":true,\"has_pages\":false,\"forks_count\":0,\"mirror_url\":null,\"archived\":false,\"disabled\":false,\"open_issues_count\":0,\"license\":{\"key\":\"mit\",\"name\":\"MIT License\",\"spdx_id\":\"MIT\",\"url\":\"https://api.github.com/licenses/mit\",\"node_id\":\"MDc6TGljZW5zZTEz\"},\"forks\":0,\"open_issues\":0,\"watchers\":0,\"default_branch\":\"master\"},{\"id\":101880227,\"node_id\":\"MDEwOlJlcG9zaXRvcnkxMDE4ODAyMjc=\",\"name\":\"scikit-learn\",\"full_name\":\"abjer/scikit-learn\",\"private\":false,\"owner\":{\"login\":\"abjer\",\"id\":6363844,\"node_id\":\"MDQ6VXNlcjYzNjM4NDQ=\",\"avatar_url\":\"https://avatars.githubusercontent.com/u/6363844?v=4\",\"gravatar_id\":\"\",\"url\":\"https://api.github.com/users/abjer\",\"html_url\":\"https://github.com/abjer\",\"followers_url\":\"https://api.github.com/users/abjer/followers\",\"following_url\":\"https://api.github.com/users/abjer/following{/other_user}\",\"gists_url\":\"https://api.github.com/users/abjer/gists{/gist_id}\",\"starred_url\":\"https://api.github.com/users/abjer/starred{/owner}{/repo}\",\"subscriptions_url\":\"https://api.github.com/users/abjer/subscriptions\",\"organizations_url\":\"https://api.github.com/users/abjer/orgs\",\"repos_url\":\"https://api.github.com/users/abjer/repos\",\"events_url\":\"https://api.github.com/users/abjer/events{/privacy}\",\"received_events_url\":\"https://api.github.com/users/abjer/received_events\",\"type\":\"User\",\"site_admin\":false},\"html_url\":\"https://github.com/abjer/scikit-learn\",\"description\":\"scikit-learn: machine learning in Python\",\"fork\":true,\"url\":\"https://api.github.com/repos/abjer/scikit-learn\",\"forks_url\":\"https://api.github.com/repos/abjer/scikit-learn/forks\",\"keys_url\":\"https://api.github.com/repos/abjer/scikit-learn/keys{/key_id}\",\"collaborators_url\":\"https://api.github.com/repos/abjer/scikit-learn/collaborators{/collaborator}\",\"teams_url\":\"https://api.github.com/repos/abjer/scikit-learn/teams\",\"hooks_url\":\"https://api.github.com/repos/abjer/scikit-learn/hooks\",\"issue_events_url\":\"https://api.github.com/repos/abjer/scikit-learn/issues/events{/number}\",\"events_url\":\"https://api.github.com/repos/abjer/scikit-learn/events\",\"assignees_url\":\"https://api.github.com/repos/abjer/scikit-learn/assignees{/user}\",\"branches_url\":\"https://api.github.com/repos/abjer/scikit-learn/branches{/branch}\",\"tags_url\":\"https://api.github.com/repos/abjer/scikit-learn/tags\",\"blobs_url\":\"https://api.github.com/repos/abjer/scikit-learn/git/blobs{/sha}\",\"git_tags_url\":\"https://api.github.com/repos/abjer/scikit-learn/git/tags{/sha}\",\"git_refs_url\":\"https://api.github.com/repos/abjer/scikit-learn/git/refs{/sha}\",\"trees_url\":\"https://api.github.com/repos/abjer/scikit-learn/git/trees{/sha}\",\"statuses_url\":\"https://api.github.com/repos/abjer/scikit-learn/statuses/{sha}\",\"languages_url\":\"https://api.github.com/repos/abjer/scikit-learn/languages\",\"stargazers_url\":\"https://api.github.com/repos/abjer/scikit-learn/stargazers\",\"contributors_url\":\"https://api.github.com/repos/abjer/scikit-learn/contributors\",\"subscribers_url\":\"https://api.github.com/repos/abjer/scikit-learn/subscribers\",\"subscription_url\":\"https://api.github.com/repos/abjer/scikit-learn/subscription\",\"commits_url\":\"https://api.github.com/repos/abjer/scikit-learn/commits{/sha}\",\"git_commits_url\":\"https://api.github.com/repos/abjer/scikit-learn/git/commits{/sha}\",\"comments_url\":\"https://api.github.com/repos/abjer/scikit-learn/comments{/number}\",\"issue_comment_url\":\"https://api.github.com/repos/abjer/scikit-learn/issues/comments{/number}\",\"contents_url\":\"https://api.github.com/repos/abjer/scikit-learn/contents/{+path}\",\"compare_url\":\"https://api.github.com/repos/abjer/scikit-learn/compare/{base}...{head}\",\"merges_url\":\"https://api.github.com/repos/abjer/scikit-learn/merges\",\"archive_url\":\"https://api.github.com/repos/abjer/scikit-learn/{archive_format}{/ref}\",\"downloads_url\":\"https://api.github.com/repos/abjer/scikit-learn/downloads\",\"issues_url\":\"https://api.github.com/repos/abjer/scikit-learn/issues{/number}\",\"pulls_url\":\"https://api.github.com/repos/abjer/scikit-learn/pulls{/number}\",\"milestones_url\":\"https://api.github.com/repos/abjer/scikit-learn/milestones{/number}\",\"notifications_url\":\"https://api.github.com/repos/abjer/scikit-learn/notifications{?since,all,participating}\",\"labels_url\":\"https://api.github.com/repos/abjer/scikit-learn/labels{/name}\",\"releases_url\":\"https://api.github.com/repos/abjer/scikit-learn/releases{/id}\",\"deployments_url\":\"https://api.github.com/repos/abjer/scikit-learn/deployments\",\"created_at\":\"2017-08-30T12:45:31Z\",\"updated_at\":\"2019-08-30T15:01:03Z\",\"pushed_at\":\"2017-11-21T08:27:50Z\",\"git_url\":\"git://github.com/abjer/scikit-learn.git\",\"ssh_url\":\"git@github.com:abjer/scikit-learn.git\",\"clone_url\":\"https://github.com/abjer/scikit-learn.git\",\"svn_url\":\"https://github.com/abjer/scikit-learn\",\"homepage\":\"http://scikit-learn.org\",\"size\":86246,\"stargazers_count\":0,\"watchers_count\":0,\"language\":\"Python\",\"has_issues\":false,\"has_projects\":true,\"has_downloads\":true,\"has_wiki\":true,\"has_pages\":false,\"forks_count\":0,\"mirror_url\":null,\"archived\":false,\"disabled\":false,\"open_issues_count\":0,\"license\":{\"key\":\"other\",\"name\":\"Other\",\"spdx_id\":\"NOASSERTION\",\"url\":null,\"node_id\":\"MDc6TGljZW5zZTA=\"},\"forks\":0,\"open_issues\":0,\"watchers\":0,\"default_branch\":\"master\"},{\"id\":138614833,\"node_id\":\"MDEwOlJlcG9zaXRvcnkxMzg2MTQ4MzM=\",\"name\":\"sds\",\"full_name\":\"abjer/sds\",\"private\":false,\"owner\":{\"login\":\"abjer\",\"id\":6363844,\"node_id\":\"MDQ6VXNlcjYzNjM4NDQ=\",\"avatar_url\":\"https://avatars.githubusercontent.com/u/6363844?v=4\",\"gravatar_id\":\"\",\"url\":\"https://api.github.com/users/abjer\",\"html_url\":\"https://github.com/abjer\",\"followers_url\":\"https://api.github.com/users/abjer/followers\",\"following_url\":\"https://api.github.com/users/abjer/following{/other_user}\",\"gists_url\":\"https://api.github.com/users/abjer/gists{/gist_id}\",\"starred_url\":\"https://api.github.com/users/abjer/starred{/owner}{/repo}\",\"subscriptions_url\":\"https://api.github.com/users/abjer/subscriptions\",\"organizations_url\":\"https://api.github.com/users/abjer/orgs\",\"repos_url\":\"https://api.github.com/users/abjer/repos\",\"events_url\":\"https://api.github.com/users/abjer/events{/privacy}\",\"received_events_url\":\"https://api.github.com/users/abjer/received_events\",\"type\":\"User\",\"site_admin\":false},\"html_url\":\"https://github.com/abjer/sds\",\"description\":\"Social Data Science - a summer school course\",\"fork\":false,\"url\":\"https://api.github.com/repos/abjer/sds\",\"forks_url\":\"https://api.github.com/repos/abjer/sds/forks\",\"keys_url\":\"https://api.github.com/repos/abjer/sds/keys{/key_id}\",\"collaborators_url\":\"https://api.github.com/repos/abjer/sds/collaborators{/collaborator}\",\"teams_url\":\"https://api.github.com/repos/abjer/sds/teams\",\"hooks_url\":\"https://api.github.com/repos/abjer/sds/hooks\",\"issue_events_url\":\"https://api.github.com/repos/abjer/sds/issues/events{/number}\",\"events_url\":\"https://api.github.com/repos/abjer/sds/events\",\"assignees_url\":\"https://api.github.com/repos/abjer/sds/assignees{/user}\",\"branches_url\":\"https://api.github.com/repos/abjer/sds/branches{/branch}\",\"tags_url\":\"https://api.github.com/repos/abjer/sds/tags\",\"blobs_url\":\"https://api.github.com/repos/abjer/sds/git/blobs{/sha}\",\"git_tags_url\":\"https://api.github.com/repos/abjer/sds/git/tags{/sha}\",\"git_refs_url\":\"https://api.github.com/repos/abjer/sds/git/refs{/sha}\",\"trees_url\":\"https://api.github.com/repos/abjer/sds/git/trees{/sha}\",\"statuses_url\":\"https://api.github.com/repos/abjer/sds/statuses/{sha}\",\"languages_url\":\"https://api.github.com/repos/abjer/sds/languages\",\"stargazers_url\":\"https://api.github.com/repos/abjer/sds/stargazers\",\"contributors_url\":\"https://api.github.com/repos/abjer/sds/contributors\",\"subscribers_url\":\"https://api.github.com/repos/abjer/sds/subscribers\",\"subscription_url\":\"https://api.github.com/repos/abjer/sds/subscription\",\"commits_url\":\"https://api.github.com/repos/abjer/sds/commits{/sha}\",\"git_commits_url\":\"https://api.github.com/repos/abjer/sds/git/commits{/sha}\",\"comments_url\":\"https://api.github.com/repos/abjer/sds/comments{/number}\",\"issue_comment_url\":\"https://api.github.com/repos/abjer/sds/issues/comments{/number}\",\"contents_url\":\"https://api.github.com/repos/abjer/sds/contents/{+path}\",\"compare_url\":\"https://api.github.com/repos/abjer/sds/compare/{base}...{head}\",\"merges_url\":\"https://api.github.com/repos/abjer/sds/merges\",\"archive_url\":\"https://api.github.com/repos/abjer/sds/{archive_format}{/ref}\",\"downloads_url\":\"https://api.github.com/repos/abjer/sds/downloads\",\"issues_url\":\"https://api.github.com/repos/abjer/sds/issues{/number}\",\"pulls_url\":\"https://api.github.com/repos/abjer/sds/pulls{/number}\",\"milestones_url\":\"https://api.github.com/repos/abjer/sds/milestones{/number}\",\"notifications_url\":\"https://api.github.com/repos/abjer/sds/notifications{?since,all,participating}\",\"labels_url\":\"https://api.github.com/repos/abjer/sds/labels{/name}\",\"releases_url\":\"https://api.github.com/repos/abjer/sds/releases{/id}\",\"deployments_url\":\"https://api.github.com/repos/abjer/sds/deployments\",\"created_at\":\"2018-06-25T15:34:49Z\",\"updated_at\":\"2021-02-18T15:40:11Z\",\"pushed_at\":\"2018-08-31T15:52:46Z\",\"git_url\":\"git://github.com/abjer/sds.git\",\"ssh_url\":\"git@github.com:abjer/sds.git\",\"clone_url\":\"https://github.com/abjer/sds.git\",\"svn_url\":\"https://github.com/abjer/sds\",\"homepage\":\"https://abjer.github.io/sds\",\"size\":50932,\"stargazers_count\":16,\"watchers_count\":16,\"language\":\"Jupyter Notebook\",\"has_issues\":true,\"has_projects\":true,\"has_downloads\":true,\"has_wiki\":true,\"has_pages\":true,\"forks_count\":34,\"mirror_url\":null,\"archived\":false,\"disabled\":false,\"open_issues_count\":1,\"license\":null,\"forks\":34,\"open_issues\":1,\"watchers\":16,\"default_branch\":\"master\"},{\"id\":96548644,\"node_id\":\"MDEwOlJlcG9zaXRvcnk5NjU0ODY0NA==\",\"name\":\"sds2017\",\"full_name\":\"abjer/sds2017\",\"private\":false,\"owner\":{\"login\":\"abjer\",\"id\":6363844,\"node_id\":\"MDQ6VXNlcjYzNjM4NDQ=\",\"avatar_url\":\"https://avatars.githubusercontent.com/u/6363844?v=4\",\"gravatar_id\":\"\",\"url\":\"https://api.github.com/users/abjer\",\"html_url\":\"https://github.com/abjer\",\"followers_url\":\"https://api.github.com/users/abjer/followers\",\"following_url\":\"https://api.github.com/users/abjer/following{/other_user}\",\"gists_url\":\"https://api.github.com/users/abjer/gists{/gist_id}\",\"starred_url\":\"https://api.github.com/users/abjer/starred{/owner}{/repo}\",\"subscriptions_url\":\"https://api.github.com/users/abjer/subscriptions\",\"organizations_url\":\"https://api.github.com/users/abjer/orgs\",\"repos_url\":\"https://api.github.com/users/abjer/repos\",\"events_url\":\"https://api.github.com/users/abjer/events{/privacy}\",\"received_events_url\":\"https://api.github.com/users/abjer/received_events\",\"type\":\"User\",\"site_admin\":false},\"html_url\":\"https://github.com/abjer/sds2017\",\"description\":\"Social Data Science summer school course\",\"fork\":true,\"url\":\"https://api.github.com/repos/abjer/sds2017\",\"forks_url\":\"https://api.github.com/repos/abjer/sds2017/forks\",\"keys_url\":\"https://api.github.com/repos/abjer/sds2017/keys{/key_id}\",\"collaborators_url\":\"https://api.github.com/repos/abjer/sds2017/collaborators{/collaborator}\",\"teams_url\":\"https://api.github.com/repos/abjer/sds2017/teams\",\"hooks_url\":\"https://api.github.com/repos/abjer/sds2017/hooks\",\"issue_events_url\":\"https://api.github.com/repos/abjer/sds2017/issues/events{/number}\",\"events_url\":\"https://api.github.com/repos/abjer/sds2017/events\",\"assignees_url\":\"https://api.github.com/repos/abjer/sds2017/assignees{/user}\",\"branches_url\":\"https://api.github.com/repos/abjer/sds2017/branches{/branch}\",\"tags_url\":\"https://api.github.com/repos/abjer/sds2017/tags\",\"blobs_url\":\"https://api.github.com/repos/abjer/sds2017/git/blobs{/sha}\",\"git_tags_url\":\"https://api.github.com/repos/abjer/sds2017/git/tags{/sha}\",\"git_refs_url\":\"https://api.github.com/repos/abjer/sds2017/git/refs{/sha}\",\"trees_url\":\"https://api.github.com/repos/abjer/sds2017/git/trees{/sha}\",\"statuses_url\":\"https://api.github.com/repos/abjer/sds2017/statuses/{sha}\",\"languages_url\":\"https://api.github.com/repos/abjer/sds2017/languages\",\"stargazers_url\":\"https://api.github.com/repos/abjer/sds2017/stargazers\",\"contributors_url\":\"https://api.github.com/repos/abjer/sds2017/contributors\",\"subscribers_url\":\"https://api.github.com/repos/abjer/sds2017/subscribers\",\"subscription_url\":\"https://api.github.com/repos/abjer/sds2017/subscription\",\"commits_url\":\"https://api.github.com/repos/abjer/sds2017/commits{/sha}\",\"git_commits_url\":\"https://api.github.com/repos/abjer/sds2017/git/commits{/sha}\",\"comments_url\":\"https://api.github.com/repos/abjer/sds2017/comments{/number}\",\"issue_comment_url\":\"https://api.github.com/repos/abjer/sds2017/issues/comments{/number}\",\"contents_url\":\"https://api.github.com/repos/abjer/sds2017/contents/{+path}\",\"compare_url\":\"https://api.github.com/repos/abjer/sds2017/compare/{base}...{head}\",\"merges_url\":\"https://api.github.com/repos/abjer/sds2017/merges\",\"archive_url\":\"https://api.github.com/repos/abjer/sds2017/{archive_format}{/ref}\",\"downloads_url\":\"https://api.github.com/repos/abjer/sds2017/downloads\",\"issues_url\":\"https://api.github.com/repos/abjer/sds2017/issues{/number}\",\"pulls_url\":\"https://api.github.com/repos/abjer/sds2017/pulls{/number}\",\"milestones_url\":\"https://api.github.com/repos/abjer/sds2017/milestones{/number}\",\"notifications_url\":\"https://api.github.com/repos/abjer/sds2017/notifications{?since,all,participating}\",\"labels_url\":\"https://api.github.com/repos/abjer/sds2017/labels{/name}\",\"releases_url\":\"https://api.github.com/repos/abjer/sds2017/releases{/id}\",\"deployments_url\":\"https://api.github.com/repos/abjer/sds2017/deployments\",\"created_at\":\"2017-07-07T14:52:37Z\",\"updated_at\":\"2018-07-19T15:04:55Z\",\"pushed_at\":\"2018-07-19T15:04:53Z\",\"git_url\":\"git://github.com/abjer/sds2017.git\",\"ssh_url\":\"git@github.com:abjer/sds2017.git\",\"clone_url\":\"https://github.com/abjer/sds2017.git\",\"svn_url\":\"https://github.com/abjer/sds2017\",\"homepage\":\"https://abjer.github.io/sds2017/\",\"size\":259720,\"stargazers_count\":1,\"watchers_count\":1,\"language\":\"Jupyter Notebook\",\"has_issues\":false,\"has_projects\":true,\"has_downloads\":true,\"has_wiki\":true,\"has_pages\":true,\"forks_count\":4,\"mirror_url\":null,\"archived\":false,\"disabled\":false,\"open_issues_count\":0,\"license\":null,\"forks\":4,\"open_issues\":0,\"watchers\":1,\"default_branch\":\"master\"},{\"id\":193163621,\"node_id\":\"MDEwOlJlcG9zaXRvcnkxOTMxNjM2MjE=\",\"name\":\"sds2019\",\"full_name\":\"abjer/sds2019\",\"private\":false,\"owner\":{\"login\":\"abjer\",\"id\":6363844,\"node_id\":\"MDQ6VXNlcjYzNjM4NDQ=\",\"avatar_url\":\"https://avatars.githubusercontent.com/u/6363844?v=4\",\"gravatar_id\":\"\",\"url\":\"https://api.github.com/users/abjer\",\"html_url\":\"https://github.com/abjer\",\"followers_url\":\"https://api.github.com/users/abjer/followers\",\"following_url\":\"https://api.github.com/users/abjer/following{/other_user}\",\"gists_url\":\"https://api.github.com/users/abjer/gists{/gist_id}\",\"starred_url\":\"https://api.github.com/users/abjer/starred{/owner}{/repo}\",\"subscriptions_url\":\"https://api.github.com/users/abjer/subscriptions\",\"organizations_url\":\"https://api.github.com/users/abjer/orgs\",\"repos_url\":\"https://api.github.com/users/abjer/repos\",\"events_url\":\"https://api.github.com/users/abjer/events{/privacy}\",\"received_events_url\":\"https://api.github.com/users/abjer/received_events\",\"type\":\"User\",\"site_admin\":false},\"html_url\":\"https://github.com/abjer/sds2019\",\"description\":\"Social Data Science 2019 - a summer school course \",\"fork\":false,\"url\":\"https://api.github.com/repos/abjer/sds2019\",\"forks_url\":\"https://api.github.com/repos/abjer/sds2019/forks\",\"keys_url\":\"https://api.github.com/repos/abjer/sds2019/keys{/key_id}\",\"collaborators_url\":\"https://api.github.com/repos/abjer/sds2019/collaborators{/collaborator}\",\"teams_url\":\"https://api.github.com/repos/abjer/sds2019/teams\",\"hooks_url\":\"https://api.github.com/repos/abjer/sds2019/hooks\",\"issue_events_url\":\"https://api.github.com/repos/abjer/sds2019/issues/events{/number}\",\"events_url\":\"https://api.github.com/repos/abjer/sds2019/events\",\"assignees_url\":\"https://api.github.com/repos/abjer/sds2019/assignees{/user}\",\"branches_url\":\"https://api.github.com/repos/abjer/sds2019/branches{/branch}\",\"tags_url\":\"https://api.github.com/repos/abjer/sds2019/tags\",\"blobs_url\":\"https://api.github.com/repos/abjer/sds2019/git/blobs{/sha}\",\"git_tags_url\":\"https://api.github.com/repos/abjer/sds2019/git/tags{/sha}\",\"git_refs_url\":\"https://api.github.com/repos/abjer/sds2019/git/refs{/sha}\",\"trees_url\":\"https://api.github.com/repos/abjer/sds2019/git/trees{/sha}\",\"statuses_url\":\"https://api.github.com/repos/abjer/sds2019/statuses/{sha}\",\"languages_url\":\"https://api.github.com/repos/abjer/sds2019/languages\",\"stargazers_url\":\"https://api.github.com/repos/abjer/sds2019/stargazers\",\"contributors_url\":\"https://api.github.com/repos/abjer/sds2019/contributors\",\"subscribers_url\":\"https://api.github.com/repos/abjer/sds2019/subscribers\",\"subscription_url\":\"https://api.github.com/repos/abjer/sds2019/subscription\",\"commits_url\":\"https://api.github.com/repos/abjer/sds2019/commits{/sha}\",\"git_commits_url\":\"https://api.github.com/repos/abjer/sds2019/git/commits{/sha}\",\"comments_url\":\"https://api.github.com/repos/abjer/sds2019/comments{/number}\",\"issue_comment_url\":\"https://api.github.com/repos/abjer/sds2019/issues/comments{/number}\",\"contents_url\":\"https://api.github.com/repos/abjer/sds2019/contents/{+path}\",\"compare_url\":\"https://api.github.com/repos/abjer/sds2019/compare/{base}...{head}\",\"merges_url\":\"https://api.github.com/repos/abjer/sds2019/merges\",\"archive_url\":\"https://api.github.com/repos/abjer/sds2019/{archive_format}{/ref}\",\"downloads_url\":\"https://api.github.com/repos/abjer/sds2019/downloads\",\"issues_url\":\"https://api.github.com/repos/abjer/sds2019/issues{/number}\",\"pulls_url\":\"https://api.github.com/repos/abjer/sds2019/pulls{/number}\",\"milestones_url\":\"https://api.github.com/repos/abjer/sds2019/milestones{/number}\",\"notifications_url\":\"https://api.github.com/repos/abjer/sds2019/notifications{?since,all,participating}\",\"labels_url\":\"https://api.github.com/repos/abjer/sds2019/labels{/name}\",\"releases_url\":\"https://api.github.com/repos/abjer/sds2019/releases{/id}\",\"deployments_url\":\"https://api.github.com/repos/abjer/sds2019/deployments\",\"created_at\":\"2019-06-21T21:46:41Z\",\"updated_at\":\"2021-03-03T10:21:19Z\",\"pushed_at\":\"2019-08-26T19:51:16Z\",\"git_url\":\"git://github.com/abjer/sds2019.git\",\"ssh_url\":\"git@github.com:abjer/sds2019.git\",\"clone_url\":\"https://github.com/abjer/sds2019.git\",\"svn_url\":\"https://github.com/abjer/sds2019\",\"homepage\":\"https://abjer.github.io/sds2019\",\"size\":38053,\"stargazers_count\":46,\"watchers_count\":46,\"language\":\"Jupyter Notebook\",\"has_issues\":true,\"has_projects\":true,\"has_downloads\":true,\"has_wiki\":true,\"has_pages\":true,\"forks_count\":98,\"mirror_url\":null,\"archived\":false,\"disabled\":false,\"open_issues_count\":36,\"license\":null,\"forks\":98,\"open_issues\":36,\"watchers\":46,\"default_branch\":\"master\"},{\"id\":237177147,\"node_id\":\"MDEwOlJlcG9zaXRvcnkyMzcxNzcxNDc=\",\"name\":\"sds_eml_2020\",\"full_name\":\"abjer/sds_eml_2020\",\"private\":false,\"owner\":{\"login\":\"abjer\",\"id\":6363844,\"node_id\":\"MDQ6VXNlcjYzNjM4NDQ=\",\"avatar_url\":\"https://avatars.githubusercontent.com/u/6363844?v=4\",\"gravatar_id\":\"\",\"url\":\"https://api.github.com/users/abjer\",\"html_url\":\"https://github.com/abjer\",\"followers_url\":\"https://api.github.com/users/abjer/followers\",\"following_url\":\"https://api.github.com/users/abjer/following{/other_user}\",\"gists_url\":\"https://api.github.com/users/abjer/gists{/gist_id}\",\"starred_url\":\"https://api.github.com/users/abjer/starred{/owner}{/repo}\",\"subscriptions_url\":\"https://api.github.com/users/abjer/subscriptions\",\"organizations_url\":\"https://api.github.com/users/abjer/orgs\",\"repos_url\":\"https://api.github.com/users/abjer/repos\",\"events_url\":\"https://api.github.com/users/abjer/events{/privacy}\",\"received_events_url\":\"https://api.github.com/users/abjer/received_events\",\"type\":\"User\",\"site_admin\":false},\"html_url\":\"https://github.com/abjer/sds_eml_2020\",\"description\":\"Course page for KU course on econometrics and machine learning\",\"fork\":false,\"url\":\"https://api.github.com/repos/abjer/sds_eml_2020\",\"forks_url\":\"https://api.github.com/repos/abjer/sds_eml_2020/forks\",\"keys_url\":\"https://api.github.com/repos/abjer/sds_eml_2020/keys{/key_id}\",\"collaborators_url\":\"https://api.github.com/repos/abjer/sds_eml_2020/collaborators{/collaborator}\",\"teams_url\":\"https://api.github.com/repos/abjer/sds_eml_2020/teams\",\"hooks_url\":\"https://api.github.com/repos/abjer/sds_eml_2020/hooks\",\"issue_events_url\":\"https://api.github.com/repos/abjer/sds_eml_2020/issues/events{/number}\",\"events_url\":\"https://api.github.com/repos/abjer/sds_eml_2020/events\",\"assignees_url\":\"https://api.github.com/repos/abjer/sds_eml_2020/assignees{/user}\",\"branches_url\":\"https://api.github.com/repos/abjer/sds_eml_2020/branches{/branch}\",\"tags_url\":\"https://api.github.com/repos/abjer/sds_eml_2020/tags\",\"blobs_url\":\"https://api.github.com/repos/abjer/sds_eml_2020/git/blobs{/sha}\",\"git_tags_url\":\"https://api.github.com/repos/abjer/sds_eml_2020/git/tags{/sha}\",\"git_refs_url\":\"https://api.github.com/repos/abjer/sds_eml_2020/git/refs{/sha}\",\"trees_url\":\"https://api.github.com/repos/abjer/sds_eml_2020/git/trees{/sha}\",\"statuses_url\":\"https://api.github.com/repos/abjer/sds_eml_2020/statuses/{sha}\",\"languages_url\":\"https://api.github.com/repos/abjer/sds_eml_2020/languages\",\"stargazers_url\":\"https://api.github.com/repos/abjer/sds_eml_2020/stargazers\",\"contributors_url\":\"https://api.github.com/repos/abjer/sds_eml_2020/contributors\",\"subscribers_url\":\"https://api.github.com/repos/abjer/sds_eml_2020/subscribers\",\"subscription_url\":\"https://api.github.com/repos/abjer/sds_eml_2020/subscription\",\"commits_url\":\"https://api.github.com/repos/abjer/sds_eml_2020/commits{/sha}\",\"git_commits_url\":\"https://api.github.com/repos/abjer/sds_eml_2020/git/commits{/sha}\",\"comments_url\":\"https://api.github.com/repos/abjer/sds_eml_2020/comments{/number}\",\"issue_comment_url\":\"https://api.github.com/repos/abjer/sds_eml_2020/issues/comments{/number}\",\"contents_url\":\"https://api.github.com/repos/abjer/sds_eml_2020/contents/{+path}\",\"compare_url\":\"https://api.github.com/repos/abjer/sds_eml_2020/compare/{base}...{head}\",\"merges_url\":\"https://api.github.com/repos/abjer/sds_eml_2020/merges\",\"archive_url\":\"https://api.github.com/repos/abjer/sds_eml_2020/{archive_format}{/ref}\",\"downloads_url\":\"https://api.github.com/repos/abjer/sds_eml_2020/downloads\",\"issues_url\":\"https://api.github.com/repos/abjer/sds_eml_2020/issues{/number}\",\"pulls_url\":\"https://api.github.com/repos/abjer/sds_eml_2020/pulls{/number}\",\"milestones_url\":\"https://api.github.com/repos/abjer/sds_eml_2020/milestones{/number}\",\"notifications_url\":\"https://api.github.com/repos/abjer/sds_eml_2020/notifications{?since,all,participating}\",\"labels_url\":\"https://api.github.com/repos/abjer/sds_eml_2020/labels{/name}\",\"releases_url\":\"https://api.github.com/repos/abjer/sds_eml_2020/releases{/id}\",\"deployments_url\":\"https://api.github.com/repos/abjer/sds_eml_2020/deployments\",\"created_at\":\"2020-01-30T09:13:36Z\",\"updated_at\":\"2021-03-16T12:24:41Z\",\"pushed_at\":\"2020-06-10T12:33:23Z\",\"git_url\":\"git://github.com/abjer/sds_eml_2020.git\",\"ssh_url\":\"git@github.com:abjer/sds_eml_2020.git\",\"clone_url\":\"https://github.com/abjer/sds_eml_2020.git\",\"svn_url\":\"https://github.com/abjer/sds_eml_2020\",\"homepage\":\"https://kurser.ku.dk/course/A%C3%98KK08400U\",\"size\":43402,\"stargazers_count\":20,\"watchers_count\":20,\"language\":\"Jupyter Notebook\",\"has_issues\":true,\"has_projects\":true,\"has_downloads\":true,\"has_wiki\":true,\"has_pages\":false,\"forks_count\":27,\"mirror_url\":null,\"archived\":false,\"disabled\":false,\"open_issues_count\":1,\"license\":null,\"forks\":27,\"open_issues\":1,\"watchers\":20,\"default_branch\":\"master\"},{\"id\":162166617,\"node_id\":\"MDEwOlJlcG9zaXRvcnkxNjIxNjY2MTc=\",\"name\":\"tsds\",\"full_name\":\"abjer/tsds\",\"private\":false,\"owner\":{\"login\":\"abjer\",\"id\":6363844,\"node_id\":\"MDQ6VXNlcjYzNjM4NDQ=\",\"avatar_url\":\"https://avatars.githubusercontent.com/u/6363844?v=4\",\"gravatar_id\":\"\",\"url\":\"https://api.github.com/users/abjer\",\"html_url\":\"https://github.com/abjer\",\"followers_url\":\"https://api.github.com/users/abjer/followers\",\"following_url\":\"https://api.github.com/users/abjer/following{/other_user}\",\"gists_url\":\"https://api.github.com/users/abjer/gists{/gist_id}\",\"starred_url\":\"https://api.github.com/users/abjer/starred{/owner}{/repo}\",\"subscriptions_url\":\"https://api.github.com/users/abjer/subscriptions\",\"organizations_url\":\"https://api.github.com/users/abjer/orgs\",\"repos_url\":\"https://api.github.com/users/abjer/repos\",\"events_url\":\"https://api.github.com/users/abjer/events{/privacy}\",\"received_events_url\":\"https://api.github.com/users/abjer/received_events\",\"type\":\"User\",\"site_admin\":false},\"html_url\":\"https://github.com/abjer/tsds\",\"description\":\"Course page for Topics in Social Data Science @ UPCH: https://kurser.ku.dk/course/a%C3%98kk08371u/2018-2019\",\"fork\":false,\"url\":\"https://api.github.com/repos/abjer/tsds\",\"forks_url\":\"https://api.github.com/repos/abjer/tsds/forks\",\"keys_url\":\"https://api.github.com/repos/abjer/tsds/keys{/key_id}\",\"collaborators_url\":\"https://api.github.com/repos/abjer/tsds/collaborators{/collaborator}\",\"teams_url\":\"https://api.github.com/repos/abjer/tsds/teams\",\"hooks_url\":\"https://api.github.com/repos/abjer/tsds/hooks\",\"issue_events_url\":\"https://api.github.com/repos/abjer/tsds/issues/events{/number}\",\"events_url\":\"https://api.github.com/repos/abjer/tsds/events\",\"assignees_url\":\"https://api.github.com/repos/abjer/tsds/assignees{/user}\",\"branches_url\":\"https://api.github.com/repos/abjer/tsds/branches{/branch}\",\"tags_url\":\"https://api.github.com/repos/abjer/tsds/tags\",\"blobs_url\":\"https://api.github.com/repos/abjer/tsds/git/blobs{/sha}\",\"git_tags_url\":\"https://api.github.com/repos/abjer/tsds/git/tags{/sha}\",\"git_refs_url\":\"https://api.github.com/repos/abjer/tsds/git/refs{/sha}\",\"trees_url\":\"https://api.github.com/repos/abjer/tsds/git/trees{/sha}\",\"statuses_url\":\"https://api.github.com/repos/abjer/tsds/statuses/{sha}\",\"languages_url\":\"https://api.github.com/repos/abjer/tsds/languages\",\"stargazers_url\":\"https://api.github.com/repos/abjer/tsds/stargazers\",\"contributors_url\":\"https://api.github.com/repos/abjer/tsds/contributors\",\"subscribers_url\":\"https://api.github.com/repos/abjer/tsds/subscribers\",\"subscription_url\":\"https://api.github.com/repos/abjer/tsds/subscription\",\"commits_url\":\"https://api.github.com/repos/abjer/tsds/commits{/sha}\",\"git_commits_url\":\"https://api.github.com/repos/abjer/tsds/git/commits{/sha}\",\"comments_url\":\"https://api.github.com/repos/abjer/tsds/comments{/number}\",\"issue_comment_url\":\"https://api.github.com/repos/abjer/tsds/issues/comments{/number}\",\"contents_url\":\"https://api.github.com/repos/abjer/tsds/contents/{+path}\",\"compare_url\":\"https://api.github.com/repos/abjer/tsds/compare/{base}...{head}\",\"merges_url\":\"https://api.github.com/repos/abjer/tsds/merges\",\"archive_url\":\"https://api.github.com/repos/abjer/tsds/{archive_format}{/ref}\",\"downloads_url\":\"https://api.github.com/repos/abjer/tsds/downloads\",\"issues_url\":\"https://api.github.com/repos/abjer/tsds/issues{/number}\",\"pulls_url\":\"https://api.github.com/repos/abjer/tsds/pulls{/number}\",\"milestones_url\":\"https://api.github.com/repos/abjer/tsds/milestones{/number}\",\"notifications_url\":\"https://api.github.com/repos/abjer/tsds/notifications{?since,all,participating}\",\"labels_url\":\"https://api.github.com/repos/abjer/tsds/labels{/name}\",\"releases_url\":\"https://api.github.com/repos/abjer/tsds/releases{/id}\",\"deployments_url\":\"https://api.github.com/repos/abjer/tsds/deployments\",\"created_at\":\"2018-12-17T17:27:55Z\",\"updated_at\":\"2019-08-21T13:17:16Z\",\"pushed_at\":\"2019-05-13T17:30:52Z\",\"git_url\":\"git://github.com/abjer/tsds.git\",\"ssh_url\":\"git@github.com:abjer/tsds.git\",\"clone_url\":\"https://github.com/abjer/tsds.git\",\"svn_url\":\"https://github.com/abjer/tsds\",\"homepage\":null,\"size\":80049,\"stargazers_count\":5,\"watchers_count\":5,\"language\":\"Jupyter Notebook\",\"has_issues\":true,\"has_projects\":true,\"has_downloads\":true,\"has_wiki\":true,\"has_pages\":false,\"forks_count\":14,\"mirror_url\":null,\"archived\":false,\"disabled\":false,\"open_issues_count\":1,\"license\":null,\"forks\":14,\"open_issues\":1,\"watchers\":5,\"default_branch\":\"master\"},{\"id\":111412351,\"node_id\":\"MDEwOlJlcG9zaXRvcnkxMTE0MTIzNTE=\",\"name\":\"tsds2018\",\"full_name\":\"abjer/tsds2018\",\"private\":false,\"owner\":{\"login\":\"abjer\",\"id\":6363844,\"node_id\":\"MDQ6VXNlcjYzNjM4NDQ=\",\"avatar_url\":\"https://avatars.githubusercontent.com/u/6363844?v=4\",\"gravatar_id\":\"\",\"url\":\"https://api.github.com/users/abjer\",\"html_url\":\"https://github.com/abjer\",\"followers_url\":\"https://api.github.com/users/abjer/followers\",\"following_url\":\"https://api.github.com/users/abjer/following{/other_user}\",\"gists_url\":\"https://api.github.com/users/abjer/gists{/gist_id}\",\"starred_url\":\"https://api.github.com/users/abjer/starred{/owner}{/repo}\",\"subscriptions_url\":\"https://api.github.com/users/abjer/subscriptions\",\"organizations_url\":\"https://api.github.com/users/abjer/orgs\",\"repos_url\":\"https://api.github.com/users/abjer/repos\",\"events_url\":\"https://api.github.com/users/abjer/events{/privacy}\",\"received_events_url\":\"https://api.github.com/users/abjer/received_events\",\"type\":\"User\",\"site_admin\":false},\"html_url\":\"https://github.com/abjer/tsds2018\",\"description\":\"Course page for Topics in Social Data Science @ UPCH: https://kurser.ku.dk/course/a%C3%98kk08371u/2017-2018\",\"fork\":false,\"url\":\"https://api.github.com/repos/abjer/tsds2018\",\"forks_url\":\"https://api.github.com/repos/abjer/tsds2018/forks\",\"keys_url\":\"https://api.github.com/repos/abjer/tsds2018/keys{/key_id}\",\"collaborators_url\":\"https://api.github.com/repos/abjer/tsds2018/collaborators{/collaborator}\",\"teams_url\":\"https://api.github.com/repos/abjer/tsds2018/teams\",\"hooks_url\":\"https://api.github.com/repos/abjer/tsds2018/hooks\",\"issue_events_url\":\"https://api.github.com/repos/abjer/tsds2018/issues/events{/number}\",\"events_url\":\"https://api.github.com/repos/abjer/tsds2018/events\",\"assignees_url\":\"https://api.github.com/repos/abjer/tsds2018/assignees{/user}\",\"branches_url\":\"https://api.github.com/repos/abjer/tsds2018/branches{/branch}\",\"tags_url\":\"https://api.github.com/repos/abjer/tsds2018/tags\",\"blobs_url\":\"https://api.github.com/repos/abjer/tsds2018/git/blobs{/sha}\",\"git_tags_url\":\"https://api.github.com/repos/abjer/tsds2018/git/tags{/sha}\",\"git_refs_url\":\"https://api.github.com/repos/abjer/tsds2018/git/refs{/sha}\",\"trees_url\":\"https://api.github.com/repos/abjer/tsds2018/git/trees{/sha}\",\"statuses_url\":\"https://api.github.com/repos/abjer/tsds2018/statuses/{sha}\",\"languages_url\":\"https://api.github.com/repos/abjer/tsds2018/languages\",\"stargazers_url\":\"https://api.github.com/repos/abjer/tsds2018/stargazers\",\"contributors_url\":\"https://api.github.com/repos/abjer/tsds2018/contributors\",\"subscribers_url\":\"https://api.github.com/repos/abjer/tsds2018/subscribers\",\"subscription_url\":\"https://api.github.com/repos/abjer/tsds2018/subscription\",\"commits_url\":\"https://api.github.com/repos/abjer/tsds2018/commits{/sha}\",\"git_commits_url\":\"https://api.github.com/repos/abjer/tsds2018/git/commits{/sha}\",\"comments_url\":\"https://api.github.com/repos/abjer/tsds2018/comments{/number}\",\"issue_comment_url\":\"https://api.github.com/repos/abjer/tsds2018/issues/comments{/number}\",\"contents_url\":\"https://api.github.com/repos/abjer/tsds2018/contents/{+path}\",\"compare_url\":\"https://api.github.com/repos/abjer/tsds2018/compare/{base}...{head}\",\"merges_url\":\"https://api.github.com/repos/abjer/tsds2018/merges\",\"archive_url\":\"https://api.github.com/repos/abjer/tsds2018/{archive_format}{/ref}\",\"downloads_url\":\"https://api.github.com/repos/abjer/tsds2018/downloads\",\"issues_url\":\"https://api.github.com/repos/abjer/tsds2018/issues{/number}\",\"pulls_url\":\"https://api.github.com/repos/abjer/tsds2018/pulls{/number}\",\"milestones_url\":\"https://api.github.com/repos/abjer/tsds2018/milestones{/number}\",\"notifications_url\":\"https://api.github.com/repos/abjer/tsds2018/notifications{?since,all,participating}\",\"labels_url\":\"https://api.github.com/repos/abjer/tsds2018/labels{/name}\",\"releases_url\":\"https://api.github.com/repos/abjer/tsds2018/releases{/id}\",\"deployments_url\":\"https://api.github.com/repos/abjer/tsds2018/deployments\",\"created_at\":\"2017-11-20T13:13:52Z\",\"updated_at\":\"2020-09-02T14:09:56Z\",\"pushed_at\":\"2018-12-17T17:32:17Z\",\"git_url\":\"git://github.com/abjer/tsds2018.git\",\"ssh_url\":\"git@github.com:abjer/tsds2018.git\",\"clone_url\":\"https://github.com/abjer/tsds2018.git\",\"svn_url\":\"https://github.com/abjer/tsds2018\",\"homepage\":\"\",\"size\":50467,\"stargazers_count\":14,\"watchers_count\":14,\"language\":\"Jupyter Notebook\",\"has_issues\":true,\"has_projects\":true,\"has_downloads\":true,\"has_wiki\":true,\"has_pages\":false,\"forks_count\":20,\"mirror_url\":null,\"archived\":false,\"disabled\":false,\"open_issues_count\":0,\"license\":null,\"forks\":20,\"open_issues\":0,\"watchers\":14,\"default_branch\":\"master\"}]'"
      ]
     },
     "execution_count": 61,
     "metadata": {},
     "output_type": "execute_result"
    }
   ],
   "source": [
    "import requests # import the module requests\n",
    "response = requests.get(url) # submit query with `get` and save response as object\n",
    "\n",
    "response.text"
   ]
  },
  {
   "cell_type": "markdown",
   "metadata": {
    "slideshow": {
     "slide_type": "slide"
    }
   },
   "source": [
    "## Web APIs in Python (III/V)\n",
    "*How do extract anything useful from this type of response?*"
   ]
  },
  {
   "cell_type": "markdown",
   "metadata": {
    "slideshow": {
     "slide_type": "fragment"
    }
   },
   "source": [
    "We can get the HTML response."
   ]
  },
  {
   "cell_type": "code",
   "execution_count": 63,
   "metadata": {
    "slideshow": {
     "slide_type": "fragment"
    }
   },
   "outputs": [
    {
     "name": "stdout",
     "output_type": "stream",
     "text": [
      "61124\n",
      "[{\"id\":111244798,\"node_id\":\"MDEwOlJlcG9zaXRvcnkxMTEyNDQ3OTg=\",\"name\":\"abjer.github.io\",\"full_name\":\"abjer/abjer.github.io\",\"private\":false,\"owner\":{\"login\":\"abjer\",\"id\":6363844,\"node_id\":\"MDQ6VXNlcjYzNjM4NDQ=\",\"avatar_url\":\"https://avatars.githubusercontent.com/u/6363844?v=4\",\"gravatar_id\":\"\",\"url\":\"https://api.github.com/users/abjer\",\"html_url\":\"https://github.com/abjer\",\"followers_url\":\"https://api.github.com/users/abjer/followers\",\"following_url\":\"https://api.github.com/users/abjer/following{\n"
     ]
    }
   ],
   "source": [
    "print(len(response.text))\n",
    "\n",
    "print(response.text[:500])"
   ]
  },
  {
   "cell_type": "markdown",
   "metadata": {
    "slideshow": {
     "slide_type": "slide"
    }
   },
   "source": [
    "## Web APIs in Python (IV/V)\n",
    "*Not really there yet. Can we get something more meaningful or structured?*"
   ]
  },
  {
   "cell_type": "markdown",
   "metadata": {},
   "source": [
    "Yes, this output of this API can be converted to JSON"
   ]
  },
  {
   "cell_type": "code",
   "execution_count": 64,
   "metadata": {
    "slideshow": {
     "slide_type": "fragment"
    }
   },
   "outputs": [
    {
     "data": {
      "text/plain": [
       "{'id': 111244798,\n",
       " 'node_id': 'MDEwOlJlcG9zaXRvcnkxMTEyNDQ3OTg=',\n",
       " 'name': 'abjer.github.io',\n",
       " 'full_name': 'abjer/abjer.github.io',\n",
       " 'private': False,\n",
       " 'owner': {'login': 'abjer',\n",
       "  'id': 6363844,\n",
       "  'node_id': 'MDQ6VXNlcjYzNjM4NDQ=',\n",
       "  'avatar_url': 'https://avatars.githubusercontent.com/u/6363844?v=4',\n",
       "  'gravatar_id': '',\n",
       "  'url': 'https://api.github.com/users/abjer',\n",
       "  'html_url': 'https://github.com/abjer',\n",
       "  'followers_url': 'https://api.github.com/users/abjer/followers',\n",
       "  'following_url': 'https://api.github.com/users/abjer/following{/other_user}',\n",
       "  'gists_url': 'https://api.github.com/users/abjer/gists{/gist_id}',\n",
       "  'starred_url': 'https://api.github.com/users/abjer/starred{/owner}{/repo}',\n",
       "  'subscriptions_url': 'https://api.github.com/users/abjer/subscriptions',\n",
       "  'organizations_url': 'https://api.github.com/users/abjer/orgs',\n",
       "  'repos_url': 'https://api.github.com/users/abjer/repos',\n",
       "  'events_url': 'https://api.github.com/users/abjer/events{/privacy}',\n",
       "  'received_events_url': 'https://api.github.com/users/abjer/received_events',\n",
       "  'type': 'User',\n",
       "  'site_admin': False},\n",
       " 'html_url': 'https://github.com/abjer/abjer.github.io',\n",
       " 'description': 'Repository for personal webpage https://abjer.github.io',\n",
       " 'fork': False,\n",
       " 'url': 'https://api.github.com/repos/abjer/abjer.github.io',\n",
       " 'forks_url': 'https://api.github.com/repos/abjer/abjer.github.io/forks',\n",
       " 'keys_url': 'https://api.github.com/repos/abjer/abjer.github.io/keys{/key_id}',\n",
       " 'collaborators_url': 'https://api.github.com/repos/abjer/abjer.github.io/collaborators{/collaborator}',\n",
       " 'teams_url': 'https://api.github.com/repos/abjer/abjer.github.io/teams',\n",
       " 'hooks_url': 'https://api.github.com/repos/abjer/abjer.github.io/hooks',\n",
       " 'issue_events_url': 'https://api.github.com/repos/abjer/abjer.github.io/issues/events{/number}',\n",
       " 'events_url': 'https://api.github.com/repos/abjer/abjer.github.io/events',\n",
       " 'assignees_url': 'https://api.github.com/repos/abjer/abjer.github.io/assignees{/user}',\n",
       " 'branches_url': 'https://api.github.com/repos/abjer/abjer.github.io/branches{/branch}',\n",
       " 'tags_url': 'https://api.github.com/repos/abjer/abjer.github.io/tags',\n",
       " 'blobs_url': 'https://api.github.com/repos/abjer/abjer.github.io/git/blobs{/sha}',\n",
       " 'git_tags_url': 'https://api.github.com/repos/abjer/abjer.github.io/git/tags{/sha}',\n",
       " 'git_refs_url': 'https://api.github.com/repos/abjer/abjer.github.io/git/refs{/sha}',\n",
       " 'trees_url': 'https://api.github.com/repos/abjer/abjer.github.io/git/trees{/sha}',\n",
       " 'statuses_url': 'https://api.github.com/repos/abjer/abjer.github.io/statuses/{sha}',\n",
       " 'languages_url': 'https://api.github.com/repos/abjer/abjer.github.io/languages',\n",
       " 'stargazers_url': 'https://api.github.com/repos/abjer/abjer.github.io/stargazers',\n",
       " 'contributors_url': 'https://api.github.com/repos/abjer/abjer.github.io/contributors',\n",
       " 'subscribers_url': 'https://api.github.com/repos/abjer/abjer.github.io/subscribers',\n",
       " 'subscription_url': 'https://api.github.com/repos/abjer/abjer.github.io/subscription',\n",
       " 'commits_url': 'https://api.github.com/repos/abjer/abjer.github.io/commits{/sha}',\n",
       " 'git_commits_url': 'https://api.github.com/repos/abjer/abjer.github.io/git/commits{/sha}',\n",
       " 'comments_url': 'https://api.github.com/repos/abjer/abjer.github.io/comments{/number}',\n",
       " 'issue_comment_url': 'https://api.github.com/repos/abjer/abjer.github.io/issues/comments{/number}',\n",
       " 'contents_url': 'https://api.github.com/repos/abjer/abjer.github.io/contents/{+path}',\n",
       " 'compare_url': 'https://api.github.com/repos/abjer/abjer.github.io/compare/{base}...{head}',\n",
       " 'merges_url': 'https://api.github.com/repos/abjer/abjer.github.io/merges',\n",
       " 'archive_url': 'https://api.github.com/repos/abjer/abjer.github.io/{archive_format}{/ref}',\n",
       " 'downloads_url': 'https://api.github.com/repos/abjer/abjer.github.io/downloads',\n",
       " 'issues_url': 'https://api.github.com/repos/abjer/abjer.github.io/issues{/number}',\n",
       " 'pulls_url': 'https://api.github.com/repos/abjer/abjer.github.io/pulls{/number}',\n",
       " 'milestones_url': 'https://api.github.com/repos/abjer/abjer.github.io/milestones{/number}',\n",
       " 'notifications_url': 'https://api.github.com/repos/abjer/abjer.github.io/notifications{?since,all,participating}',\n",
       " 'labels_url': 'https://api.github.com/repos/abjer/abjer.github.io/labels{/name}',\n",
       " 'releases_url': 'https://api.github.com/repos/abjer/abjer.github.io/releases{/id}',\n",
       " 'deployments_url': 'https://api.github.com/repos/abjer/abjer.github.io/deployments',\n",
       " 'created_at': '2017-11-18T22:34:19Z',\n",
       " 'updated_at': '2021-04-02T20:31:13Z',\n",
       " 'pushed_at': '2021-04-02T20:31:11Z',\n",
       " 'git_url': 'git://github.com/abjer/abjer.github.io.git',\n",
       " 'ssh_url': 'git@github.com:abjer/abjer.github.io.git',\n",
       " 'clone_url': 'https://github.com/abjer/abjer.github.io.git',\n",
       " 'svn_url': 'https://github.com/abjer/abjer.github.io',\n",
       " 'homepage': None,\n",
       " 'size': 3621,\n",
       " 'stargazers_count': 0,\n",
       " 'watchers_count': 0,\n",
       " 'language': 'HTML',\n",
       " 'has_issues': True,\n",
       " 'has_projects': True,\n",
       " 'has_downloads': True,\n",
       " 'has_wiki': True,\n",
       " 'has_pages': True,\n",
       " 'forks_count': 0,\n",
       " 'mirror_url': None,\n",
       " 'archived': False,\n",
       " 'disabled': False,\n",
       " 'open_issues_count': 0,\n",
       " 'license': None,\n",
       " 'forks': 0,\n",
       " 'open_issues': 0,\n",
       " 'watchers': 0,\n",
       " 'default_branch': 'master'}"
      ]
     },
     "execution_count": 64,
     "metadata": {},
     "output_type": "execute_result"
    }
   ],
   "source": [
    "response_json = response.json()\n",
    "response_json[0]"
   ]
  },
  {
   "cell_type": "markdown",
   "metadata": {
    "slideshow": {
     "slide_type": "slide"
    }
   },
   "source": [
    "## Web APIs in Python (V/V)\n",
    "*And how can we see it even more clearly?*"
   ]
  },
  {
   "cell_type": "code",
   "execution_count": 67,
   "metadata": {
    "slideshow": {
     "slide_type": "-"
    }
   },
   "outputs": [
    {
     "name": "stdout",
     "output_type": "stream",
     "text": [
      "[{'archive_url': 'https://api.github.com/repos/abjer/abjer.github.io/{archive_format}{/ref}',\n",
      "  'archived': False,\n",
      "  'assignees_url': 'https://api.github.com/repos/abjer/abjer.github.io/assignees{/user}',\n",
      "  'blobs_url': 'https://api.github.com/repos/abjer/abjer.github.io/git/blobs{/sha}',\n",
      "  'branches_url': 'https://api.github.com/repos/abjer/abjer.github.io/branches{/branch}',\n",
      "  'clone_url': 'https://github.com/abjer/abjer.github.io.git',\n",
      "  'collaborators_url': 'https://api.github.com/repos/abjer/abjer.github.io/collaborators{/collaborator}',\n",
      "  'comments_url': 'https://api.github.com/repos/abjer/abjer.github.io/comments{/number}',\n",
      "  'commits_url': 'https://api.github.com/repos/abjer/abjer.github.io/commits{/sha}',\n",
      "  'compare_url': 'https://api.github.com/repos/abjer/abjer.github.io/compare/{base}...{head}',\n",
      "  'contents_url': 'https://api.github.com/repos/abjer/abjer.github.io/contents/{+path}',\n",
      "  'contributors_url': 'https://api.github.com/repos/abjer/abjer.github.io/contributors',\n",
      "  'created_at': '2017-11-18T22:34:19Z',\n",
      "  'default_branch': 'master',\n",
      "  'deployments_url': 'https://api.github.com/repos/abjer/abjer.github.io/deployments',\n",
      "  'description': 'Repository for personal webpage https://abjer.github.io',\n",
      "  'disabled': False,\n",
      "  'downloads_url': 'https://api.github.com/repos/abjer/abjer.github.io/downloads',\n",
      "  'events_url': 'https://api.github.com/repos/abjer/abjer.github.io/events',\n",
      "  'fork': False,\n",
      "  'forks': 0,\n",
      "  'forks_count': 0,\n",
      "  'forks_url': 'https://api.github.com/repos/abjer/abjer.github.io/forks',\n",
      "  'full_name': 'abjer/abjer.github.io',\n",
      "  'git_commits_url': 'https://api.github.com/repos/abjer/abjer.github.io/git/commits{/sha}',\n",
      "  'git_refs_url': 'https://api.github.com/repos/abjer/abjer.github.io/git/refs{/sha}',\n",
      "  'git_tags_url': 'https://api.github.com/repos/abjer/abjer.github.io/git/tags{/sha}',\n",
      "  'git_url': 'git://github.com/abjer/abjer.github.io.git',\n",
      "  'has_downloads': True,\n",
      "  'has_issues': True,\n",
      "  'has_pages': True,\n",
      "  'has_projects': True,\n",
      "  'has_wiki': True,\n",
      "  'homepage': None,\n",
      "  'hooks_url': 'https://api.github.com/repos/abjer/abjer.github.io/hooks',\n",
      "  'html_url': 'https://github.com/abjer/abjer.github.io',\n",
      "  'id': 111244798,\n",
      "  'issue_comment_url': 'https://api.github.com/repos/abjer/abjer.github.io/issues/comments{/number}',\n",
      "  'issue_events_url': 'https://api.github.com/repos/abjer/abjer.github.io/issues/events{/number}',\n",
      "  'issues_url': 'https://api.github.com/repos/abjer/abjer.github.io/issues{/number}',\n",
      "  'keys_url': 'https://api.github.com/repos/abjer/abjer.github.io/keys{/key_id}',\n",
      "  'labels_url': 'https://api.github.com/repos/abjer/abjer.github.io/labels{/name}',\n",
      "  'language': 'HTML',\n",
      "  'languages_url': 'https://api.github.com/repos/abjer/abjer.github.io/languages',\n",
      "  'license': None,\n",
      "  'merges_url': 'https://api.github.com/repos/abjer/abjer.github.io/merges',\n",
      "  'milestones_url': 'https://api.github.com/repos/abjer/abjer.github.io/milestones{/number}',\n",
      "  'mirror_url': None,\n",
      "  'name': 'abjer.github.io',\n",
      "  'node_id': 'MDEwOlJlcG9zaXRvcnkxMTEyNDQ3OTg=',\n",
      "  'notifications_url': 'https://api.github.com/repos/abjer/abjer.github.io/notifications{?since,all,participating}',\n",
      "  'open_issues': 0,\n",
      "  'open_issues_count': 0,\n",
      "  'owner': {'avatar_url': 'https://avatars.githubusercontent.com/u/6363844?v=4',\n",
      "            'events_url': 'https://api.github.com/users/abjer/events{/privacy}',\n",
      "            'followers_url': 'https://api.github.com/users/abjer/followers',\n",
      "            'following_url': 'https://api.github.com/users/abjer/following{/other_user}',\n",
      "            'gists_url': 'https://api.github.com/users/abjer/gists{/gist_id}',\n",
      "            'gravatar_id': '',\n",
      "            'html_url': 'https://github.com/abjer',\n",
      "            'id': 6363844,\n",
      "            'login': 'abjer',\n",
      "            'node_id': 'MDQ6VXNlcjYzNjM4NDQ=',\n",
      "            'organizations_url': 'https://api.github.com/users/abjer/orgs',\n",
      "            'received_events_url': 'https://api.github.com/users/abjer/received_events',\n",
      "            'repos_url': 'https://api.github.com/users/abjer/repos',\n",
      "            'site_admin': False,\n",
      "            'starred_url': 'https://api.github.com/users/abjer/starred{/owner}{/repo}',\n",
      "            'subscriptions_url': 'https://api.github.com/users/abjer/subscriptions',\n",
      "            'type': 'User',\n",
      "            'url': 'https://api.github.com/users/abjer'},\n",
      "  'private': False,\n",
      "  'pulls_url': 'https://api.github.com/repos/abjer/abjer.github.io/pulls{/number}',\n",
      "  'pushed_at': '2021-04-02T20:31:11Z',\n",
      "  'releases_url': 'https://api.github.com/repos/abjer/abjer.github.io/releases{/id}',\n",
      "  'size': 3621,\n",
      "  'ssh_url': 'git@github.com:abjer/abjer.github.io.git',\n",
      "  'stargazers_count': 0,\n",
      "  'stargazers_url': 'https://api.github.com/repos/abjer/abjer.github.io/stargazers',\n",
      "  'statuses_url': 'https://api.github.com/repos/abjer/abjer.github.io/statuses/{sha}',\n",
      "  'subscribers_url': 'https://api.github.com/repos/abjer/abjer.github.io/subscribers',\n",
      "  'subscription_url': 'https://api.github.com/repos/abjer/abjer.github.io/subscription',\n",
      "  'svn_url': 'https://github.com/abjer/abjer.github.io',\n",
      "  'tags_url': 'https://api.github.com/repos/abjer/abjer.github.io/tags',\n",
      "  'teams_url': 'https://api.github.com/repos/abjer/abjer.github.io/teams',\n",
      "  'trees_url': 'https://api.github.com/repos/abjer/abjer.github.io/git/trees{/sha}',\n",
      "  'updated_at': '2021-04-02T20:31:13Z',\n",
      "  'url': 'https://api.github.com/repos/abjer/abjer.github.io',\n",
      "  'watchers': 0,\n",
      "  'watchers_count': 0},\n",
      " {'archive_url': 'https://api.github.com/repos/abjer/dask/{archive_format}{/ref}',\n",
      "  'archived': False,\n",
      "  'assignees_url': 'https://api.github.com/repos/abjer/dask/assignees{/user}',\n",
      "  'blobs_url': 'https://api.github.com/repos/abjer/dask/git/blobs{/sha}',\n",
      "  'branches_url': 'https://api.github.com/repos/abjer/dask/branches{/branch}',\n",
      "  'clone_url': 'https://github.com/abjer/dask.git',\n",
      "  'collaborators_url': 'https://api.github.com/repos/abjer/dask/collaborators{/collaborator}',\n",
      "  'comments_url': 'https://api.github.com/repos/abjer/dask/comments{/number}',\n",
      "  'commits_url': 'https://api.github.com/repos/abjer/dask/commits{/sha}',\n",
      "  'compare_url': 'https://api.github.com/repos/abjer/dask/compare/{base}...{head}',\n",
      "  'contents_url': 'https://api.github.com/repos/abjer/dask/contents/{+path}',\n",
      "  'contributors_url': 'https://api.github.com/repos/abjer/dask/contributors',\n",
      "  'created_at': '2018-10-26T12:42:46Z',\n",
      "  'default_branch': 'master',\n",
      "  'deployments_url': 'https://api.github.com/repos/abjer/dask/deployments',\n",
      "  'description': 'Parallel computing with task scheduling',\n",
      "  'disabled': False,\n",
      "  'downloads_url': 'https://api.github.com/repos/abjer/dask/downloads',\n",
      "  'events_url': 'https://api.github.com/repos/abjer/dask/events',\n",
      "  'fork': True,\n",
      "  'forks': 0,\n",
      "  'forks_count': 0,\n",
      "  'forks_url': 'https://api.github.com/repos/abjer/dask/forks',\n",
      "  'full_name': 'abjer/dask',\n",
      "  'git_commits_url': 'https://api.github.com/repos/abjer/dask/git/commits{/sha}',\n",
      "  'git_refs_url': 'https://api.github.com/repos/abjer/dask/git/refs{/sha}',\n",
      "  'git_tags_url': 'https://api.github.com/repos/abjer/dask/git/tags{/sha}',\n",
      "  'git_url': 'git://github.com/abjer/dask.git',\n",
      "  'has_downloads': True,\n",
      "  'has_issues': False,\n",
      "  'has_pages': False,\n",
      "  'has_projects': True,\n",
      "  'has_wiki': True,\n",
      "  'homepage': 'https://dask.org',\n",
      "  'hooks_url': 'https://api.github.com/repos/abjer/dask/hooks',\n",
      "  'html_url': 'https://github.com/abjer/dask',\n",
      "  'id': 154833054,\n",
      "  'issue_comment_url': 'https://api.github.com/repos/abjer/dask/issues/comments{/number}',\n",
      "  'issue_events_url': 'https://api.github.com/repos/abjer/dask/issues/events{/number}',\n",
      "  'issues_url': 'https://api.github.com/repos/abjer/dask/issues{/number}',\n",
      "  'keys_url': 'https://api.github.com/repos/abjer/dask/keys{/key_id}',\n",
      "  'labels_url': 'https://api.github.com/repos/abjer/dask/labels{/name}',\n",
      "  'language': 'Python',\n",
      "  'languages_url': 'https://api.github.com/repos/abjer/dask/languages',\n",
      "  'license': {'key': 'other',\n",
      "              'name': 'Other',\n",
      "              'node_id': 'MDc6TGljZW5zZTA=',\n",
      "              'spdx_id': 'NOASSERTION',\n",
      "              'url': None},\n",
      "  'merges_url': 'https://api.github.com/repos/abjer/dask/merges',\n",
      "  'milestones_url': 'https://api.github.com/repos/abjer/dask/milestones{/number}',\n",
      "  'mirror_url': None,\n",
      "  'name': 'dask',\n",
      "  'node_id': 'MDEwOlJlcG9zaXRvcnkxNTQ4MzMwNTQ=',\n",
      "  'notifications_url': 'https://api.github.com/repos/abjer/dask/notifications{?since,all,participating}',\n",
      "  'open_issues': 0,\n",
      "  'open_issues_count': 0,\n",
      "  'owner': {'avatar_url': 'https://avatars.githubusercontent.com/u/6363844?v=4',\n",
      "            'events_url': 'https://api.github.com/users/abjer/events{/privacy}',\n",
      "            'followers_url': 'https://api.github.com/users/abjer/followers',\n",
      "            'following_url': 'https://api.github.com/users/abjer/following{/other_user}',\n",
      "            'gists_url': 'https://api.github.com/users/abjer/gists{/gist_id}',\n",
      "            'gravatar_id': '',\n",
      "            'html_url': 'https://github.com/abjer',\n",
      "            'id': 6363844,\n",
      "            'login': 'abjer',\n",
      "            'node_id': 'MDQ6VXNlcjYzNjM4NDQ=',\n",
      "            'organizations_url': 'https://api.github.com/users/abjer/orgs',\n",
      "            'received_events_url': 'https://api.github.com/users/abjer/received_events',\n",
      "            'repos_url': 'https://api.github.com/users/abjer/repos',\n",
      "            'site_admin': False,\n",
      "            'starred_url': 'https://api.github.com/users/abjer/starred{/owner}{/repo}',\n",
      "            'subscriptions_url': 'https://api.github.com/users/abjer/subscriptions',\n",
      "            'type': 'User',\n",
      "            'url': 'https://api.github.com/users/abjer'},\n",
      "  'private': False,\n",
      "  'pulls_url': 'https://api.github.com/repos/abjer/dask/pulls{/number}',\n",
      "  'pushed_at': '2018-10-26T12:23:38Z',\n",
      "  'releases_url': 'https://api.github.com/repos/abjer/dask/releases{/id}',\n",
      "  'size': 18265,\n",
      "  'ssh_url': 'git@github.com:abjer/dask.git',\n",
      "  'stargazers_count': 0,\n",
      "  'stargazers_url': 'https://api.github.com/repos/abjer/dask/stargazers',\n",
      "  'statuses_url': 'https://api.github.com/repos/abjer/dask/statuses/{sha}',\n",
      "  'subscribers_url': 'https://api.github.com/repos/abjer/dask/subscribers',\n",
      "  'subscription_url': 'https://api.github.com/repos/abjer/dask/subscription',\n",
      "  'svn_url': 'https://github.com/abjer/dask',\n",
      "  'tags_url': 'https://api.github.com/repos/abjer/dask/tags',\n",
      "  'teams_url': 'https://api.github.com/repos/abjer/dask/teams',\n",
      "  'trees_url': 'https://api.github.com/repos/abjer/dask/git/trees{/sha}',\n",
      "  'updated_at': '2018-10-26T12:42:49Z',\n",
      "  'url': 'https://api.github.com/repos/abjer/dask',\n",
      "  'watchers': 0,\n",
      "  'watchers_count': 0},\n",
      " {'archive_url': 'https://api.github.com/repos/abjer/geopandas/{archive_format}{/ref}',\n",
      "  'archived': False,\n",
      "  'assignees_url': 'https://api.github.com/repos/abjer/geopandas/assignees{/user}',\n",
      "  'blobs_url': 'https://api.github.com/repos/abjer/geopandas/git/blobs{/sha}',\n",
      "  'branches_url': 'https://api.github.com/repos/abjer/geopandas/branches{/branch}',\n",
      "  'clone_url': 'https://github.com/abjer/geopandas.git',\n",
      "  'collaborators_url': 'https://api.github.com/repos/abjer/geopandas/collaborators{/collaborator}',\n",
      "  'comments_url': 'https://api.github.com/repos/abjer/geopandas/comments{/number}',\n",
      "  'commits_url': 'https://api.github.com/repos/abjer/geopandas/commits{/sha}',\n",
      "  'compare_url': 'https://api.github.com/repos/abjer/geopandas/compare/{base}...{head}',\n",
      "  'contents_url': 'https://api.github.com/repos/abjer/geopandas/contents/{+path}',\n",
      "  'contributors_url': 'https://api.github.com/repos/abjer/geopandas/contributors',\n",
      "  'created_at': '2016-06-02T13:02:59Z',\n",
      "  'default_branch': 'master',\n",
      "  'deployments_url': 'https://api.github.com/repos/abjer/geopandas/deployments',\n",
      "  'description': 'Python tools for geographic data',\n",
      "  'disabled': False,\n",
      "  'downloads_url': 'https://api.github.com/repos/abjer/geopandas/downloads',\n",
      "  'events_url': 'https://api.github.com/repos/abjer/geopandas/events',\n",
      "  'fork': True,\n",
      "  'forks': 0,\n",
      "  'forks_count': 0,\n",
      "  'forks_url': 'https://api.github.com/repos/abjer/geopandas/forks',\n",
      "  'full_name': 'abjer/geopandas',\n",
      "  'git_commits_url': 'https://api.github.com/repos/abjer/geopandas/git/commits{/sha}',\n",
      "  'git_refs_url': 'https://api.github.com/repos/abjer/geopandas/git/refs{/sha}',\n",
      "  'git_tags_url': 'https://api.github.com/repos/abjer/geopandas/git/tags{/sha}',\n",
      "  'git_url': 'git://github.com/abjer/geopandas.git',\n",
      "  'has_downloads': True,\n",
      "  'has_issues': False,\n",
      "  'has_pages': False,\n",
      "  'has_projects': True,\n",
      "  'has_wiki': True,\n",
      "  'homepage': '',\n",
      "  'hooks_url': 'https://api.github.com/repos/abjer/geopandas/hooks',\n",
      "  'html_url': 'https://github.com/abjer/geopandas',\n",
      "  'id': 60264492,\n",
      "  'issue_comment_url': 'https://api.github.com/repos/abjer/geopandas/issues/comments{/number}',\n",
      "  'issue_events_url': 'https://api.github.com/repos/abjer/geopandas/issues/events{/number}',\n",
      "  'issues_url': 'https://api.github.com/repos/abjer/geopandas/issues{/number}',\n",
      "  'keys_url': 'https://api.github.com/repos/abjer/geopandas/keys{/key_id}',\n",
      "  'labels_url': 'https://api.github.com/repos/abjer/geopandas/labels{/name}',\n",
      "  'language': 'Python',\n",
      "  'languages_url': 'https://api.github.com/repos/abjer/geopandas/languages',\n",
      "  'license': {'key': 'bsd-3-clause',\n",
      "              'name': 'BSD 3-Clause \"New\" or \"Revised\" License',\n",
      "              'node_id': 'MDc6TGljZW5zZTU=',\n",
      "              'spdx_id': 'BSD-3-Clause',\n",
      "              'url': 'https://api.github.com/licenses/bsd-3-clause'},\n",
      "  'merges_url': 'https://api.github.com/repos/abjer/geopandas/merges',\n",
      "  'milestones_url': 'https://api.github.com/repos/abjer/geopandas/milestones{/number}',\n",
      "  'mirror_url': None,\n",
      "  'name': 'geopandas',\n",
      "  'node_id': 'MDEwOlJlcG9zaXRvcnk2MDI2NDQ5Mg==',\n",
      "  'notifications_url': 'https://api.github.com/repos/abjer/geopandas/notifications{?since,all,participating}',\n",
      "  'open_issues': 0,\n",
      "  'open_issues_count': 0,\n",
      "  'owner': {'avatar_url': 'https://avatars.githubusercontent.com/u/6363844?v=4',\n",
      "            'events_url': 'https://api.github.com/users/abjer/events{/privacy}',\n",
      "            'followers_url': 'https://api.github.com/users/abjer/followers',\n",
      "            'following_url': 'https://api.github.com/users/abjer/following{/other_user}',\n",
      "            'gists_url': 'https://api.github.com/users/abjer/gists{/gist_id}',\n",
      "            'gravatar_id': '',\n",
      "            'html_url': 'https://github.com/abjer',\n",
      "            'id': 6363844,\n",
      "            'login': 'abjer',\n",
      "            'node_id': 'MDQ6VXNlcjYzNjM4NDQ=',\n",
      "            'organizations_url': 'https://api.github.com/users/abjer/orgs',\n",
      "            'received_events_url': 'https://api.github.com/users/abjer/received_events',\n",
      "            'repos_url': 'https://api.github.com/users/abjer/repos',\n",
      "            'site_admin': False,\n",
      "            'starred_url': 'https://api.github.com/users/abjer/starred{/owner}{/repo}',\n",
      "            'subscriptions_url': 'https://api.github.com/users/abjer/subscriptions',\n",
      "            'type': 'User',\n",
      "            'url': 'https://api.github.com/users/abjer'},\n",
      "  'private': False,\n",
      "  'pulls_url': 'https://api.github.com/repos/abjer/geopandas/pulls{/number}',\n",
      "  'pushed_at': '2016-06-17T13:11:35Z',\n",
      "  'releases_url': 'https://api.github.com/repos/abjer/geopandas/releases{/id}',\n",
      "  'size': 3627,\n",
      "  'ssh_url': 'git@github.com:abjer/geopandas.git',\n",
      "  'stargazers_count': 0,\n",
      "  'stargazers_url': 'https://api.github.com/repos/abjer/geopandas/stargazers',\n",
      "  'statuses_url': 'https://api.github.com/repos/abjer/geopandas/statuses/{sha}',\n",
      "  'subscribers_url': 'https://api.github.com/repos/abjer/geopandas/subscribers',\n",
      "  'subscription_url': 'https://api.github.com/repos/abjer/geopandas/subscription',\n",
      "  'svn_url': 'https://github.com/abjer/geopandas',\n",
      "  'tags_url': 'https://api.github.com/repos/abjer/geopandas/tags',\n",
      "  'teams_url': 'https://api.github.com/repos/abjer/geopandas/teams',\n",
      "  'trees_url': 'https://api.github.com/repos/abjer/geopandas/git/trees{/sha}',\n",
      "  'updated_at': '2016-06-02T13:03:00Z',\n",
      "  'url': 'https://api.github.com/repos/abjer/geopandas',\n",
      "  'watchers': 0,\n",
      "  'watchers_count': 0},\n",
      " {'archive_url': 'https://api.github.com/repos/abjer/isds2020/{archive_format}{/ref}',\n",
      "  'archived': False,\n",
      "  'assignees_url': 'https://api.github.com/repos/abjer/isds2020/assignees{/user}',\n",
      "  'blobs_url': 'https://api.github.com/repos/abjer/isds2020/git/blobs{/sha}',\n",
      "  'branches_url': 'https://api.github.com/repos/abjer/isds2020/branches{/branch}',\n",
      "  'clone_url': 'https://github.com/abjer/isds2020.git',\n",
      "  'collaborators_url': 'https://api.github.com/repos/abjer/isds2020/collaborators{/collaborator}',\n",
      "  'comments_url': 'https://api.github.com/repos/abjer/isds2020/comments{/number}',\n",
      "  'commits_url': 'https://api.github.com/repos/abjer/isds2020/commits{/sha}',\n",
      "  'compare_url': 'https://api.github.com/repos/abjer/isds2020/compare/{base}...{head}',\n",
      "  'contents_url': 'https://api.github.com/repos/abjer/isds2020/contents/{+path}',\n",
      "  'contributors_url': 'https://api.github.com/repos/abjer/isds2020/contributors',\n",
      "  'created_at': '2020-06-24T08:43:15Z',\n",
      "  'default_branch': 'master',\n",
      "  'deployments_url': 'https://api.github.com/repos/abjer/isds2020/deployments',\n",
      "  'description': 'Introduction to Social Data Science 2020 - a summer school '\n",
      "                 'course  abjer.github.io/isds2020',\n",
      "  'disabled': False,\n",
      "  'downloads_url': 'https://api.github.com/repos/abjer/isds2020/downloads',\n",
      "  'events_url': 'https://api.github.com/repos/abjer/isds2020/events',\n",
      "  'fork': False,\n",
      "  'forks': 88,\n",
      "  'forks_count': 88,\n",
      "  'forks_url': 'https://api.github.com/repos/abjer/isds2020/forks',\n",
      "  'full_name': 'abjer/isds2020',\n",
      "  'git_commits_url': 'https://api.github.com/repos/abjer/isds2020/git/commits{/sha}',\n",
      "  'git_refs_url': 'https://api.github.com/repos/abjer/isds2020/git/refs{/sha}',\n",
      "  'git_tags_url': 'https://api.github.com/repos/abjer/isds2020/git/tags{/sha}',\n",
      "  'git_url': 'git://github.com/abjer/isds2020.git',\n",
      "  'has_downloads': True,\n",
      "  'has_issues': True,\n",
      "  'has_pages': True,\n",
      "  'has_projects': True,\n",
      "  'has_wiki': True,\n",
      "  'homepage': None,\n",
      "  'hooks_url': 'https://api.github.com/repos/abjer/isds2020/hooks',\n",
      "  'html_url': 'https://github.com/abjer/isds2020',\n",
      "  'id': 274619454,\n",
      "  'issue_comment_url': 'https://api.github.com/repos/abjer/isds2020/issues/comments{/number}',\n",
      "  'issue_events_url': 'https://api.github.com/repos/abjer/isds2020/issues/events{/number}',\n",
      "  'issues_url': 'https://api.github.com/repos/abjer/isds2020/issues{/number}',\n",
      "  'keys_url': 'https://api.github.com/repos/abjer/isds2020/keys{/key_id}',\n",
      "  'labels_url': 'https://api.github.com/repos/abjer/isds2020/labels{/name}',\n",
      "  'language': 'Jupyter Notebook',\n",
      "  'languages_url': 'https://api.github.com/repos/abjer/isds2020/languages',\n",
      "  'license': None,\n",
      "  'merges_url': 'https://api.github.com/repos/abjer/isds2020/merges',\n",
      "  'milestones_url': 'https://api.github.com/repos/abjer/isds2020/milestones{/number}',\n",
      "  'mirror_url': None,\n",
      "  'name': 'isds2020',\n",
      "  'node_id': 'MDEwOlJlcG9zaXRvcnkyNzQ2MTk0NTQ=',\n",
      "  'notifications_url': 'https://api.github.com/repos/abjer/isds2020/notifications{?since,all,participating}',\n",
      "  'open_issues': 36,\n",
      "  'open_issues_count': 36,\n",
      "  'owner': {'avatar_url': 'https://avatars.githubusercontent.com/u/6363844?v=4',\n",
      "            'events_url': 'https://api.github.com/users/abjer/events{/privacy}',\n",
      "            'followers_url': 'https://api.github.com/users/abjer/followers',\n",
      "            'following_url': 'https://api.github.com/users/abjer/following{/other_user}',\n",
      "            'gists_url': 'https://api.github.com/users/abjer/gists{/gist_id}',\n",
      "            'gravatar_id': '',\n",
      "            'html_url': 'https://github.com/abjer',\n",
      "            'id': 6363844,\n",
      "            'login': 'abjer',\n",
      "            'node_id': 'MDQ6VXNlcjYzNjM4NDQ=',\n",
      "            'organizations_url': 'https://api.github.com/users/abjer/orgs',\n",
      "            'received_events_url': 'https://api.github.com/users/abjer/received_events',\n",
      "            'repos_url': 'https://api.github.com/users/abjer/repos',\n",
      "            'site_admin': False,\n",
      "            'starred_url': 'https://api.github.com/users/abjer/starred{/owner}{/repo}',\n",
      "            'subscriptions_url': 'https://api.github.com/users/abjer/subscriptions',\n",
      "            'type': 'User',\n",
      "            'url': 'https://api.github.com/users/abjer'},\n",
      "  'private': False,\n",
      "  'pulls_url': 'https://api.github.com/repos/abjer/isds2020/pulls{/number}',\n",
      "  'pushed_at': '2020-08-30T10:10:50Z',\n",
      "  'releases_url': 'https://api.github.com/repos/abjer/isds2020/releases{/id}',\n",
      "  'size': 67757,\n",
      "  'ssh_url': 'git@github.com:abjer/isds2020.git',\n",
      "  'stargazers_count': 52,\n",
      "  'stargazers_url': 'https://api.github.com/repos/abjer/isds2020/stargazers',\n",
      "  'statuses_url': 'https://api.github.com/repos/abjer/isds2020/statuses/{sha}',\n",
      "  'subscribers_url': 'https://api.github.com/repos/abjer/isds2020/subscribers',\n",
      "  'subscription_url': 'https://api.github.com/repos/abjer/isds2020/subscription',\n",
      "  'svn_url': 'https://github.com/abjer/isds2020',\n",
      "  'tags_url': 'https://api.github.com/repos/abjer/isds2020/tags',\n",
      "  'teams_url': 'https://api.github.com/repos/abjer/isds2020/teams',\n",
      "  'trees_url': 'https://api.github.com/repos/abjer/isds2020/git/trees{/sha}',\n",
      "  'updated_at': '2021-04-18T19:11:41Z',\n",
      "  'url': 'https://api.github.com/repos/abjer/isds2020',\n",
      "  'watchers': 52,\n",
      "  'watchers_count': 52},\n",
      " {'archive_url': 'https://api.github.com/repos/abjer/mle_phd_oslo/{archive_format}{/ref}',\n",
      "  'archived': False,\n",
      "  'assignees_url': 'https://api.github.com/repos/abjer/mle_phd_oslo/assignees{/user}',\n",
      "  'blobs_url': 'https://api.github.com/repos/abjer/mle_phd_oslo/git/blobs{/sha}',\n",
      "  'branches_url': 'https://api.github.com/repos/abjer/mle_phd_oslo/branches{/branch}',\n",
      "  'clone_url': 'https://github.com/abjer/mle_phd_oslo.git',\n",
      "  'collaborators_url': 'https://api.github.com/repos/abjer/mle_phd_oslo/collaborators{/collaborator}',\n",
      "  'comments_url': 'https://api.github.com/repos/abjer/mle_phd_oslo/comments{/number}',\n",
      "  'commits_url': 'https://api.github.com/repos/abjer/mle_phd_oslo/commits{/sha}',\n",
      "  'compare_url': 'https://api.github.com/repos/abjer/mle_phd_oslo/compare/{base}...{head}',\n",
      "  'contents_url': 'https://api.github.com/repos/abjer/mle_phd_oslo/contents/{+path}',\n",
      "  'contributors_url': 'https://api.github.com/repos/abjer/mle_phd_oslo/contributors',\n",
      "  'created_at': '2021-04-28T22:22:38Z',\n",
      "  'default_branch': 'main',\n",
      "  'deployments_url': 'https://api.github.com/repos/abjer/mle_phd_oslo/deployments',\n",
      "  'description': None,\n",
      "  'disabled': False,\n",
      "  'downloads_url': 'https://api.github.com/repos/abjer/mle_phd_oslo/downloads',\n",
      "  'events_url': 'https://api.github.com/repos/abjer/mle_phd_oslo/events',\n",
      "  'fork': False,\n",
      "  'forks': 5,\n",
      "  'forks_count': 5,\n",
      "  'forks_url': 'https://api.github.com/repos/abjer/mle_phd_oslo/forks',\n",
      "  'full_name': 'abjer/mle_phd_oslo',\n",
      "  'git_commits_url': 'https://api.github.com/repos/abjer/mle_phd_oslo/git/commits{/sha}',\n",
      "  'git_refs_url': 'https://api.github.com/repos/abjer/mle_phd_oslo/git/refs{/sha}',\n",
      "  'git_tags_url': 'https://api.github.com/repos/abjer/mle_phd_oslo/git/tags{/sha}',\n",
      "  'git_url': 'git://github.com/abjer/mle_phd_oslo.git',\n",
      "  'has_downloads': True,\n",
      "  'has_issues': True,\n",
      "  'has_pages': False,\n",
      "  'has_projects': True,\n",
      "  'has_wiki': True,\n",
      "  'homepage': None,\n",
      "  'hooks_url': 'https://api.github.com/repos/abjer/mle_phd_oslo/hooks',\n",
      "  'html_url': 'https://github.com/abjer/mle_phd_oslo',\n",
      "  'id': 362621800,\n",
      "  'issue_comment_url': 'https://api.github.com/repos/abjer/mle_phd_oslo/issues/comments{/number}',\n",
      "  'issue_events_url': 'https://api.github.com/repos/abjer/mle_phd_oslo/issues/events{/number}',\n",
      "  'issues_url': 'https://api.github.com/repos/abjer/mle_phd_oslo/issues{/number}',\n",
      "  'keys_url': 'https://api.github.com/repos/abjer/mle_phd_oslo/keys{/key_id}',\n",
      "  'labels_url': 'https://api.github.com/repos/abjer/mle_phd_oslo/labels{/name}',\n",
      "  'language': 'Jupyter Notebook',\n",
      "  'languages_url': 'https://api.github.com/repos/abjer/mle_phd_oslo/languages',\n",
      "  'license': None,\n",
      "  'merges_url': 'https://api.github.com/repos/abjer/mle_phd_oslo/merges',\n",
      "  'milestones_url': 'https://api.github.com/repos/abjer/mle_phd_oslo/milestones{/number}',\n",
      "  'mirror_url': None,\n",
      "  'name': 'mle_phd_oslo',\n",
      "  'node_id': 'MDEwOlJlcG9zaXRvcnkzNjI2MjE4MDA=',\n",
      "  'notifications_url': 'https://api.github.com/repos/abjer/mle_phd_oslo/notifications{?since,all,participating}',\n",
      "  'open_issues': 0,\n",
      "  'open_issues_count': 0,\n",
      "  'owner': {'avatar_url': 'https://avatars.githubusercontent.com/u/6363844?v=4',\n",
      "            'events_url': 'https://api.github.com/users/abjer/events{/privacy}',\n",
      "            'followers_url': 'https://api.github.com/users/abjer/followers',\n",
      "            'following_url': 'https://api.github.com/users/abjer/following{/other_user}',\n",
      "            'gists_url': 'https://api.github.com/users/abjer/gists{/gist_id}',\n",
      "            'gravatar_id': '',\n",
      "            'html_url': 'https://github.com/abjer',\n",
      "            'id': 6363844,\n",
      "            'login': 'abjer',\n",
      "            'node_id': 'MDQ6VXNlcjYzNjM4NDQ=',\n",
      "            'organizations_url': 'https://api.github.com/users/abjer/orgs',\n",
      "            'received_events_url': 'https://api.github.com/users/abjer/received_events',\n",
      "            'repos_url': 'https://api.github.com/users/abjer/repos',\n",
      "            'site_admin': False,\n",
      "            'starred_url': 'https://api.github.com/users/abjer/starred{/owner}{/repo}',\n",
      "            'subscriptions_url': 'https://api.github.com/users/abjer/subscriptions',\n",
      "            'type': 'User',\n",
      "            'url': 'https://api.github.com/users/abjer'},\n",
      "  'private': False,\n",
      "  'pulls_url': 'https://api.github.com/repos/abjer/mle_phd_oslo/pulls{/number}',\n",
      "  'pushed_at': '2021-05-30T10:41:51Z',\n",
      "  'releases_url': 'https://api.github.com/repos/abjer/mle_phd_oslo/releases{/id}',\n",
      "  'size': 3169,\n",
      "  'ssh_url': 'git@github.com:abjer/mle_phd_oslo.git',\n",
      "  'stargazers_count': 1,\n",
      "  'stargazers_url': 'https://api.github.com/repos/abjer/mle_phd_oslo/stargazers',\n",
      "  'statuses_url': 'https://api.github.com/repos/abjer/mle_phd_oslo/statuses/{sha}',\n",
      "  'subscribers_url': 'https://api.github.com/repos/abjer/mle_phd_oslo/subscribers',\n",
      "  'subscription_url': 'https://api.github.com/repos/abjer/mle_phd_oslo/subscription',\n",
      "  'svn_url': 'https://github.com/abjer/mle_phd_oslo',\n",
      "  'tags_url': 'https://api.github.com/repos/abjer/mle_phd_oslo/tags',\n",
      "  'teams_url': 'https://api.github.com/repos/abjer/mle_phd_oslo/teams',\n",
      "  'trees_url': 'https://api.github.com/repos/abjer/mle_phd_oslo/git/trees{/sha}',\n",
      "  'updated_at': '2021-05-30T10:41:54Z',\n",
      "  'url': 'https://api.github.com/repos/abjer/mle_phd_oslo',\n",
      "  'watchers': 1,\n",
      "  'watchers_count': 1},\n",
      " {'archive_url': 'https://api.github.com/repos/abjer/privacy_spatial/{archive_format}{/ref}',\n",
      "  'archived': False,\n",
      "  'assignees_url': 'https://api.github.com/repos/abjer/privacy_spatial/assignees{/user}',\n",
      "  'blobs_url': 'https://api.github.com/repos/abjer/privacy_spatial/git/blobs{/sha}',\n",
      "  'branches_url': 'https://api.github.com/repos/abjer/privacy_spatial/branches{/branch}',\n",
      "  'clone_url': 'https://github.com/abjer/privacy_spatial.git',\n",
      "  'collaborators_url': 'https://api.github.com/repos/abjer/privacy_spatial/collaborators{/collaborator}',\n",
      "  'comments_url': 'https://api.github.com/repos/abjer/privacy_spatial/comments{/number}',\n",
      "  'commits_url': 'https://api.github.com/repos/abjer/privacy_spatial/commits{/sha}',\n",
      "  'compare_url': 'https://api.github.com/repos/abjer/privacy_spatial/compare/{base}...{head}',\n",
      "  'contents_url': 'https://api.github.com/repos/abjer/privacy_spatial/contents/{+path}',\n",
      "  'contributors_url': 'https://api.github.com/repos/abjer/privacy_spatial/contributors',\n",
      "  'created_at': '2018-01-18T10:52:21Z',\n",
      "  'default_branch': 'master',\n",
      "  'deployments_url': 'https://api.github.com/repos/abjer/privacy_spatial/deployments',\n",
      "  'description': 'This is a repository for code companioning the paper '\n",
      "                 '\"Privacy in spatial data with high resolution and time '\n",
      "                 'invariance\" written by Andreas Bjerre-Nielsen and Mikkel '\n",
      "                 'Høst Gandil.',\n",
      "  'disabled': False,\n",
      "  'downloads_url': 'https://api.github.com/repos/abjer/privacy_spatial/downloads',\n",
      "  'events_url': 'https://api.github.com/repos/abjer/privacy_spatial/events',\n",
      "  'fork': False,\n",
      "  'forks': 0,\n",
      "  'forks_count': 0,\n",
      "  'forks_url': 'https://api.github.com/repos/abjer/privacy_spatial/forks',\n",
      "  'full_name': 'abjer/privacy_spatial',\n",
      "  'git_commits_url': 'https://api.github.com/repos/abjer/privacy_spatial/git/commits{/sha}',\n",
      "  'git_refs_url': 'https://api.github.com/repos/abjer/privacy_spatial/git/refs{/sha}',\n",
      "  'git_tags_url': 'https://api.github.com/repos/abjer/privacy_spatial/git/tags{/sha}',\n",
      "  'git_url': 'git://github.com/abjer/privacy_spatial.git',\n",
      "  'has_downloads': True,\n",
      "  'has_issues': True,\n",
      "  'has_pages': False,\n",
      "  'has_projects': True,\n",
      "  'has_wiki': True,\n",
      "  'homepage': None,\n",
      "  'hooks_url': 'https://api.github.com/repos/abjer/privacy_spatial/hooks',\n",
      "  'html_url': 'https://github.com/abjer/privacy_spatial',\n",
      "  'id': 117970609,\n",
      "  'issue_comment_url': 'https://api.github.com/repos/abjer/privacy_spatial/issues/comments{/number}',\n",
      "  'issue_events_url': 'https://api.github.com/repos/abjer/privacy_spatial/issues/events{/number}',\n",
      "  'issues_url': 'https://api.github.com/repos/abjer/privacy_spatial/issues{/number}',\n",
      "  'keys_url': 'https://api.github.com/repos/abjer/privacy_spatial/keys{/key_id}',\n",
      "  'labels_url': 'https://api.github.com/repos/abjer/privacy_spatial/labels{/name}',\n",
      "  'language': 'Jupyter Notebook',\n",
      "  'languages_url': 'https://api.github.com/repos/abjer/privacy_spatial/languages',\n",
      "  'license': {'key': 'mit',\n",
      "              'name': 'MIT License',\n",
      "              'node_id': 'MDc6TGljZW5zZTEz',\n",
      "              'spdx_id': 'MIT',\n",
      "              'url': 'https://api.github.com/licenses/mit'},\n",
      "  'merges_url': 'https://api.github.com/repos/abjer/privacy_spatial/merges',\n",
      "  'milestones_url': 'https://api.github.com/repos/abjer/privacy_spatial/milestones{/number}',\n",
      "  'mirror_url': None,\n",
      "  'name': 'privacy_spatial',\n",
      "  'node_id': 'MDEwOlJlcG9zaXRvcnkxMTc5NzA2MDk=',\n",
      "  'notifications_url': 'https://api.github.com/repos/abjer/privacy_spatial/notifications{?since,all,participating}',\n",
      "  'open_issues': 0,\n",
      "  'open_issues_count': 0,\n",
      "  'owner': {'avatar_url': 'https://avatars.githubusercontent.com/u/6363844?v=4',\n",
      "            'events_url': 'https://api.github.com/users/abjer/events{/privacy}',\n",
      "            'followers_url': 'https://api.github.com/users/abjer/followers',\n",
      "            'following_url': 'https://api.github.com/users/abjer/following{/other_user}',\n",
      "            'gists_url': 'https://api.github.com/users/abjer/gists{/gist_id}',\n",
      "            'gravatar_id': '',\n",
      "            'html_url': 'https://github.com/abjer',\n",
      "            'id': 6363844,\n",
      "            'login': 'abjer',\n",
      "            'node_id': 'MDQ6VXNlcjYzNjM4NDQ=',\n",
      "            'organizations_url': 'https://api.github.com/users/abjer/orgs',\n",
      "            'received_events_url': 'https://api.github.com/users/abjer/received_events',\n",
      "            'repos_url': 'https://api.github.com/users/abjer/repos',\n",
      "            'site_admin': False,\n",
      "            'starred_url': 'https://api.github.com/users/abjer/starred{/owner}{/repo}',\n",
      "            'subscriptions_url': 'https://api.github.com/users/abjer/subscriptions',\n",
      "            'type': 'User',\n",
      "            'url': 'https://api.github.com/users/abjer'},\n",
      "  'private': False,\n",
      "  'pulls_url': 'https://api.github.com/repos/abjer/privacy_spatial/pulls{/number}',\n",
      "  'pushed_at': '2021-04-09T06:26:37Z',\n",
      "  'releases_url': 'https://api.github.com/repos/abjer/privacy_spatial/releases{/id}',\n",
      "  'size': 3417,\n",
      "  'ssh_url': 'git@github.com:abjer/privacy_spatial.git',\n",
      "  'stargazers_count': 0,\n",
      "  'stargazers_url': 'https://api.github.com/repos/abjer/privacy_spatial/stargazers',\n",
      "  'statuses_url': 'https://api.github.com/repos/abjer/privacy_spatial/statuses/{sha}',\n",
      "  'subscribers_url': 'https://api.github.com/repos/abjer/privacy_spatial/subscribers',\n",
      "  'subscription_url': 'https://api.github.com/repos/abjer/privacy_spatial/subscription',\n",
      "  'svn_url': 'https://github.com/abjer/privacy_spatial',\n",
      "  'tags_url': 'https://api.github.com/repos/abjer/privacy_spatial/tags',\n",
      "  'teams_url': 'https://api.github.com/repos/abjer/privacy_spatial/teams',\n",
      "  'trees_url': 'https://api.github.com/repos/abjer/privacy_spatial/git/trees{/sha}',\n",
      "  'updated_at': '2021-04-09T06:26:39Z',\n",
      "  'url': 'https://api.github.com/repos/abjer/privacy_spatial',\n",
      "  'watchers': 0,\n",
      "  'watchers_count': 0},\n",
      " {'archive_url': 'https://api.github.com/repos/abjer/scikit-learn/{archive_format}{/ref}',\n",
      "  'archived': False,\n",
      "  'assignees_url': 'https://api.github.com/repos/abjer/scikit-learn/assignees{/user}',\n",
      "  'blobs_url': 'https://api.github.com/repos/abjer/scikit-learn/git/blobs{/sha}',\n",
      "  'branches_url': 'https://api.github.com/repos/abjer/scikit-learn/branches{/branch}',\n",
      "  'clone_url': 'https://github.com/abjer/scikit-learn.git',\n",
      "  'collaborators_url': 'https://api.github.com/repos/abjer/scikit-learn/collaborators{/collaborator}',\n",
      "  'comments_url': 'https://api.github.com/repos/abjer/scikit-learn/comments{/number}',\n",
      "  'commits_url': 'https://api.github.com/repos/abjer/scikit-learn/commits{/sha}',\n",
      "  'compare_url': 'https://api.github.com/repos/abjer/scikit-learn/compare/{base}...{head}',\n",
      "  'contents_url': 'https://api.github.com/repos/abjer/scikit-learn/contents/{+path}',\n",
      "  'contributors_url': 'https://api.github.com/repos/abjer/scikit-learn/contributors',\n",
      "  'created_at': '2017-08-30T12:45:31Z',\n",
      "  'default_branch': 'master',\n",
      "  'deployments_url': 'https://api.github.com/repos/abjer/scikit-learn/deployments',\n",
      "  'description': 'scikit-learn: machine learning in Python',\n",
      "  'disabled': False,\n",
      "  'downloads_url': 'https://api.github.com/repos/abjer/scikit-learn/downloads',\n",
      "  'events_url': 'https://api.github.com/repos/abjer/scikit-learn/events',\n",
      "  'fork': True,\n",
      "  'forks': 0,\n",
      "  'forks_count': 0,\n",
      "  'forks_url': 'https://api.github.com/repos/abjer/scikit-learn/forks',\n",
      "  'full_name': 'abjer/scikit-learn',\n",
      "  'git_commits_url': 'https://api.github.com/repos/abjer/scikit-learn/git/commits{/sha}',\n",
      "  'git_refs_url': 'https://api.github.com/repos/abjer/scikit-learn/git/refs{/sha}',\n",
      "  'git_tags_url': 'https://api.github.com/repos/abjer/scikit-learn/git/tags{/sha}',\n",
      "  'git_url': 'git://github.com/abjer/scikit-learn.git',\n",
      "  'has_downloads': True,\n",
      "  'has_issues': False,\n",
      "  'has_pages': False,\n",
      "  'has_projects': True,\n",
      "  'has_wiki': True,\n",
      "  'homepage': 'http://scikit-learn.org',\n",
      "  'hooks_url': 'https://api.github.com/repos/abjer/scikit-learn/hooks',\n",
      "  'html_url': 'https://github.com/abjer/scikit-learn',\n",
      "  'id': 101880227,\n",
      "  'issue_comment_url': 'https://api.github.com/repos/abjer/scikit-learn/issues/comments{/number}',\n",
      "  'issue_events_url': 'https://api.github.com/repos/abjer/scikit-learn/issues/events{/number}',\n",
      "  'issues_url': 'https://api.github.com/repos/abjer/scikit-learn/issues{/number}',\n",
      "  'keys_url': 'https://api.github.com/repos/abjer/scikit-learn/keys{/key_id}',\n",
      "  'labels_url': 'https://api.github.com/repos/abjer/scikit-learn/labels{/name}',\n",
      "  'language': 'Python',\n",
      "  'languages_url': 'https://api.github.com/repos/abjer/scikit-learn/languages',\n",
      "  'license': {'key': 'other',\n",
      "              'name': 'Other',\n",
      "              'node_id': 'MDc6TGljZW5zZTA=',\n",
      "              'spdx_id': 'NOASSERTION',\n",
      "              'url': None},\n",
      "  'merges_url': 'https://api.github.com/repos/abjer/scikit-learn/merges',\n",
      "  'milestones_url': 'https://api.github.com/repos/abjer/scikit-learn/milestones{/number}',\n",
      "  'mirror_url': None,\n",
      "  'name': 'scikit-learn',\n",
      "  'node_id': 'MDEwOlJlcG9zaXRvcnkxMDE4ODAyMjc=',\n",
      "  'notifications_url': 'https://api.github.com/repos/abjer/scikit-learn/notifications{?since,all,participating}',\n",
      "  'open_issues': 0,\n",
      "  'open_issues_count': 0,\n",
      "  'owner': {'avatar_url': 'https://avatars.githubusercontent.com/u/6363844?v=4',\n",
      "            'events_url': 'https://api.github.com/users/abjer/events{/privacy}',\n",
      "            'followers_url': 'https://api.github.com/users/abjer/followers',\n",
      "            'following_url': 'https://api.github.com/users/abjer/following{/other_user}',\n",
      "            'gists_url': 'https://api.github.com/users/abjer/gists{/gist_id}',\n",
      "            'gravatar_id': '',\n",
      "            'html_url': 'https://github.com/abjer',\n",
      "            'id': 6363844,\n",
      "            'login': 'abjer',\n",
      "            'node_id': 'MDQ6VXNlcjYzNjM4NDQ=',\n",
      "            'organizations_url': 'https://api.github.com/users/abjer/orgs',\n",
      "            'received_events_url': 'https://api.github.com/users/abjer/received_events',\n",
      "            'repos_url': 'https://api.github.com/users/abjer/repos',\n",
      "            'site_admin': False,\n",
      "            'starred_url': 'https://api.github.com/users/abjer/starred{/owner}{/repo}',\n",
      "            'subscriptions_url': 'https://api.github.com/users/abjer/subscriptions',\n",
      "            'type': 'User',\n",
      "            'url': 'https://api.github.com/users/abjer'},\n",
      "  'private': False,\n",
      "  'pulls_url': 'https://api.github.com/repos/abjer/scikit-learn/pulls{/number}',\n",
      "  'pushed_at': '2017-11-21T08:27:50Z',\n",
      "  'releases_url': 'https://api.github.com/repos/abjer/scikit-learn/releases{/id}',\n",
      "  'size': 86246,\n",
      "  'ssh_url': 'git@github.com:abjer/scikit-learn.git',\n",
      "  'stargazers_count': 0,\n",
      "  'stargazers_url': 'https://api.github.com/repos/abjer/scikit-learn/stargazers',\n",
      "  'statuses_url': 'https://api.github.com/repos/abjer/scikit-learn/statuses/{sha}',\n",
      "  'subscribers_url': 'https://api.github.com/repos/abjer/scikit-learn/subscribers',\n",
      "  'subscription_url': 'https://api.github.com/repos/abjer/scikit-learn/subscription',\n",
      "  'svn_url': 'https://github.com/abjer/scikit-learn',\n",
      "  'tags_url': 'https://api.github.com/repos/abjer/scikit-learn/tags',\n",
      "  'teams_url': 'https://api.github.com/repos/abjer/scikit-learn/teams',\n",
      "  'trees_url': 'https://api.github.com/repos/abjer/scikit-learn/git/trees{/sha}',\n",
      "  'updated_at': '2019-08-30T15:01:03Z',\n",
      "  'url': 'https://api.github.com/repos/abjer/scikit-learn',\n",
      "  'watchers': 0,\n",
      "  'watchers_count': 0},\n",
      " {'archive_url': 'https://api.github.com/repos/abjer/sds/{archive_format}{/ref}',\n",
      "  'archived': False,\n",
      "  'assignees_url': 'https://api.github.com/repos/abjer/sds/assignees{/user}',\n",
      "  'blobs_url': 'https://api.github.com/repos/abjer/sds/git/blobs{/sha}',\n",
      "  'branches_url': 'https://api.github.com/repos/abjer/sds/branches{/branch}',\n",
      "  'clone_url': 'https://github.com/abjer/sds.git',\n",
      "  'collaborators_url': 'https://api.github.com/repos/abjer/sds/collaborators{/collaborator}',\n",
      "  'comments_url': 'https://api.github.com/repos/abjer/sds/comments{/number}',\n",
      "  'commits_url': 'https://api.github.com/repos/abjer/sds/commits{/sha}',\n",
      "  'compare_url': 'https://api.github.com/repos/abjer/sds/compare/{base}...{head}',\n",
      "  'contents_url': 'https://api.github.com/repos/abjer/sds/contents/{+path}',\n",
      "  'contributors_url': 'https://api.github.com/repos/abjer/sds/contributors',\n",
      "  'created_at': '2018-06-25T15:34:49Z',\n",
      "  'default_branch': 'master',\n",
      "  'deployments_url': 'https://api.github.com/repos/abjer/sds/deployments',\n",
      "  'description': 'Social Data Science - a summer school course',\n",
      "  'disabled': False,\n",
      "  'downloads_url': 'https://api.github.com/repos/abjer/sds/downloads',\n",
      "  'events_url': 'https://api.github.com/repos/abjer/sds/events',\n",
      "  'fork': False,\n",
      "  'forks': 34,\n",
      "  'forks_count': 34,\n",
      "  'forks_url': 'https://api.github.com/repos/abjer/sds/forks',\n",
      "  'full_name': 'abjer/sds',\n",
      "  'git_commits_url': 'https://api.github.com/repos/abjer/sds/git/commits{/sha}',\n",
      "  'git_refs_url': 'https://api.github.com/repos/abjer/sds/git/refs{/sha}',\n",
      "  'git_tags_url': 'https://api.github.com/repos/abjer/sds/git/tags{/sha}',\n",
      "  'git_url': 'git://github.com/abjer/sds.git',\n",
      "  'has_downloads': True,\n",
      "  'has_issues': True,\n",
      "  'has_pages': True,\n",
      "  'has_projects': True,\n",
      "  'has_wiki': True,\n",
      "  'homepage': 'https://abjer.github.io/sds',\n",
      "  'hooks_url': 'https://api.github.com/repos/abjer/sds/hooks',\n",
      "  'html_url': 'https://github.com/abjer/sds',\n",
      "  'id': 138614833,\n",
      "  'issue_comment_url': 'https://api.github.com/repos/abjer/sds/issues/comments{/number}',\n",
      "  'issue_events_url': 'https://api.github.com/repos/abjer/sds/issues/events{/number}',\n",
      "  'issues_url': 'https://api.github.com/repos/abjer/sds/issues{/number}',\n",
      "  'keys_url': 'https://api.github.com/repos/abjer/sds/keys{/key_id}',\n",
      "  'labels_url': 'https://api.github.com/repos/abjer/sds/labels{/name}',\n",
      "  'language': 'Jupyter Notebook',\n",
      "  'languages_url': 'https://api.github.com/repos/abjer/sds/languages',\n",
      "  'license': None,\n",
      "  'merges_url': 'https://api.github.com/repos/abjer/sds/merges',\n",
      "  'milestones_url': 'https://api.github.com/repos/abjer/sds/milestones{/number}',\n",
      "  'mirror_url': None,\n",
      "  'name': 'sds',\n",
      "  'node_id': 'MDEwOlJlcG9zaXRvcnkxMzg2MTQ4MzM=',\n",
      "  'notifications_url': 'https://api.github.com/repos/abjer/sds/notifications{?since,all,participating}',\n",
      "  'open_issues': 1,\n",
      "  'open_issues_count': 1,\n",
      "  'owner': {'avatar_url': 'https://avatars.githubusercontent.com/u/6363844?v=4',\n",
      "            'events_url': 'https://api.github.com/users/abjer/events{/privacy}',\n",
      "            'followers_url': 'https://api.github.com/users/abjer/followers',\n",
      "            'following_url': 'https://api.github.com/users/abjer/following{/other_user}',\n",
      "            'gists_url': 'https://api.github.com/users/abjer/gists{/gist_id}',\n",
      "            'gravatar_id': '',\n",
      "            'html_url': 'https://github.com/abjer',\n",
      "            'id': 6363844,\n",
      "            'login': 'abjer',\n",
      "            'node_id': 'MDQ6VXNlcjYzNjM4NDQ=',\n",
      "            'organizations_url': 'https://api.github.com/users/abjer/orgs',\n",
      "            'received_events_url': 'https://api.github.com/users/abjer/received_events',\n",
      "            'repos_url': 'https://api.github.com/users/abjer/repos',\n",
      "            'site_admin': False,\n",
      "            'starred_url': 'https://api.github.com/users/abjer/starred{/owner}{/repo}',\n",
      "            'subscriptions_url': 'https://api.github.com/users/abjer/subscriptions',\n",
      "            'type': 'User',\n",
      "            'url': 'https://api.github.com/users/abjer'},\n",
      "  'private': False,\n",
      "  'pulls_url': 'https://api.github.com/repos/abjer/sds/pulls{/number}',\n",
      "  'pushed_at': '2018-08-31T15:52:46Z',\n",
      "  'releases_url': 'https://api.github.com/repos/abjer/sds/releases{/id}',\n",
      "  'size': 50932,\n",
      "  'ssh_url': 'git@github.com:abjer/sds.git',\n",
      "  'stargazers_count': 16,\n",
      "  'stargazers_url': 'https://api.github.com/repos/abjer/sds/stargazers',\n",
      "  'statuses_url': 'https://api.github.com/repos/abjer/sds/statuses/{sha}',\n",
      "  'subscribers_url': 'https://api.github.com/repos/abjer/sds/subscribers',\n",
      "  'subscription_url': 'https://api.github.com/repos/abjer/sds/subscription',\n",
      "  'svn_url': 'https://github.com/abjer/sds',\n",
      "  'tags_url': 'https://api.github.com/repos/abjer/sds/tags',\n",
      "  'teams_url': 'https://api.github.com/repos/abjer/sds/teams',\n",
      "  'trees_url': 'https://api.github.com/repos/abjer/sds/git/trees{/sha}',\n",
      "  'updated_at': '2021-02-18T15:40:11Z',\n",
      "  'url': 'https://api.github.com/repos/abjer/sds',\n",
      "  'watchers': 16,\n",
      "  'watchers_count': 16},\n",
      " {'archive_url': 'https://api.github.com/repos/abjer/sds2017/{archive_format}{/ref}',\n",
      "  'archived': False,\n",
      "  'assignees_url': 'https://api.github.com/repos/abjer/sds2017/assignees{/user}',\n",
      "  'blobs_url': 'https://api.github.com/repos/abjer/sds2017/git/blobs{/sha}',\n",
      "  'branches_url': 'https://api.github.com/repos/abjer/sds2017/branches{/branch}',\n",
      "  'clone_url': 'https://github.com/abjer/sds2017.git',\n",
      "  'collaborators_url': 'https://api.github.com/repos/abjer/sds2017/collaborators{/collaborator}',\n",
      "  'comments_url': 'https://api.github.com/repos/abjer/sds2017/comments{/number}',\n",
      "  'commits_url': 'https://api.github.com/repos/abjer/sds2017/commits{/sha}',\n",
      "  'compare_url': 'https://api.github.com/repos/abjer/sds2017/compare/{base}...{head}',\n",
      "  'contents_url': 'https://api.github.com/repos/abjer/sds2017/contents/{+path}',\n",
      "  'contributors_url': 'https://api.github.com/repos/abjer/sds2017/contributors',\n",
      "  'created_at': '2017-07-07T14:52:37Z',\n",
      "  'default_branch': 'master',\n",
      "  'deployments_url': 'https://api.github.com/repos/abjer/sds2017/deployments',\n",
      "  'description': 'Social Data Science summer school course',\n",
      "  'disabled': False,\n",
      "  'downloads_url': 'https://api.github.com/repos/abjer/sds2017/downloads',\n",
      "  'events_url': 'https://api.github.com/repos/abjer/sds2017/events',\n",
      "  'fork': True,\n",
      "  'forks': 4,\n",
      "  'forks_count': 4,\n",
      "  'forks_url': 'https://api.github.com/repos/abjer/sds2017/forks',\n",
      "  'full_name': 'abjer/sds2017',\n",
      "  'git_commits_url': 'https://api.github.com/repos/abjer/sds2017/git/commits{/sha}',\n",
      "  'git_refs_url': 'https://api.github.com/repos/abjer/sds2017/git/refs{/sha}',\n",
      "  'git_tags_url': 'https://api.github.com/repos/abjer/sds2017/git/tags{/sha}',\n",
      "  'git_url': 'git://github.com/abjer/sds2017.git',\n",
      "  'has_downloads': True,\n",
      "  'has_issues': False,\n",
      "  'has_pages': True,\n",
      "  'has_projects': True,\n",
      "  'has_wiki': True,\n",
      "  'homepage': 'https://abjer.github.io/sds2017/',\n",
      "  'hooks_url': 'https://api.github.com/repos/abjer/sds2017/hooks',\n",
      "  'html_url': 'https://github.com/abjer/sds2017',\n",
      "  'id': 96548644,\n",
      "  'issue_comment_url': 'https://api.github.com/repos/abjer/sds2017/issues/comments{/number}',\n",
      "  'issue_events_url': 'https://api.github.com/repos/abjer/sds2017/issues/events{/number}',\n",
      "  'issues_url': 'https://api.github.com/repos/abjer/sds2017/issues{/number}',\n",
      "  'keys_url': 'https://api.github.com/repos/abjer/sds2017/keys{/key_id}',\n",
      "  'labels_url': 'https://api.github.com/repos/abjer/sds2017/labels{/name}',\n",
      "  'language': 'Jupyter Notebook',\n",
      "  'languages_url': 'https://api.github.com/repos/abjer/sds2017/languages',\n",
      "  'license': None,\n",
      "  'merges_url': 'https://api.github.com/repos/abjer/sds2017/merges',\n",
      "  'milestones_url': 'https://api.github.com/repos/abjer/sds2017/milestones{/number}',\n",
      "  'mirror_url': None,\n",
      "  'name': 'sds2017',\n",
      "  'node_id': 'MDEwOlJlcG9zaXRvcnk5NjU0ODY0NA==',\n",
      "  'notifications_url': 'https://api.github.com/repos/abjer/sds2017/notifications{?since,all,participating}',\n",
      "  'open_issues': 0,\n",
      "  'open_issues_count': 0,\n",
      "  'owner': {'avatar_url': 'https://avatars.githubusercontent.com/u/6363844?v=4',\n",
      "            'events_url': 'https://api.github.com/users/abjer/events{/privacy}',\n",
      "            'followers_url': 'https://api.github.com/users/abjer/followers',\n",
      "            'following_url': 'https://api.github.com/users/abjer/following{/other_user}',\n",
      "            'gists_url': 'https://api.github.com/users/abjer/gists{/gist_id}',\n",
      "            'gravatar_id': '',\n",
      "            'html_url': 'https://github.com/abjer',\n",
      "            'id': 6363844,\n",
      "            'login': 'abjer',\n",
      "            'node_id': 'MDQ6VXNlcjYzNjM4NDQ=',\n",
      "            'organizations_url': 'https://api.github.com/users/abjer/orgs',\n",
      "            'received_events_url': 'https://api.github.com/users/abjer/received_events',\n",
      "            'repos_url': 'https://api.github.com/users/abjer/repos',\n",
      "            'site_admin': False,\n",
      "            'starred_url': 'https://api.github.com/users/abjer/starred{/owner}{/repo}',\n",
      "            'subscriptions_url': 'https://api.github.com/users/abjer/subscriptions',\n",
      "            'type': 'User',\n",
      "            'url': 'https://api.github.com/users/abjer'},\n",
      "  'private': False,\n",
      "  'pulls_url': 'https://api.github.com/repos/abjer/sds2017/pulls{/number}',\n",
      "  'pushed_at': '2018-07-19T15:04:53Z',\n",
      "  'releases_url': 'https://api.github.com/repos/abjer/sds2017/releases{/id}',\n",
      "  'size': 259720,\n",
      "  'ssh_url': 'git@github.com:abjer/sds2017.git',\n",
      "  'stargazers_count': 1,\n",
      "  'stargazers_url': 'https://api.github.com/repos/abjer/sds2017/stargazers',\n",
      "  'statuses_url': 'https://api.github.com/repos/abjer/sds2017/statuses/{sha}',\n",
      "  'subscribers_url': 'https://api.github.com/repos/abjer/sds2017/subscribers',\n",
      "  'subscription_url': 'https://api.github.com/repos/abjer/sds2017/subscription',\n",
      "  'svn_url': 'https://github.com/abjer/sds2017',\n",
      "  'tags_url': 'https://api.github.com/repos/abjer/sds2017/tags',\n",
      "  'teams_url': 'https://api.github.com/repos/abjer/sds2017/teams',\n",
      "  'trees_url': 'https://api.github.com/repos/abjer/sds2017/git/trees{/sha}',\n",
      "  'updated_at': '2018-07-19T15:04:55Z',\n",
      "  'url': 'https://api.github.com/repos/abjer/sds2017',\n",
      "  'watchers': 1,\n",
      "  'watchers_count': 1},\n",
      " {'archive_url': 'https://api.github.com/repos/abjer/sds2019/{archive_format}{/ref}',\n",
      "  'archived': False,\n",
      "  'assignees_url': 'https://api.github.com/repos/abjer/sds2019/assignees{/user}',\n",
      "  'blobs_url': 'https://api.github.com/repos/abjer/sds2019/git/blobs{/sha}',\n",
      "  'branches_url': 'https://api.github.com/repos/abjer/sds2019/branches{/branch}',\n",
      "  'clone_url': 'https://github.com/abjer/sds2019.git',\n",
      "  'collaborators_url': 'https://api.github.com/repos/abjer/sds2019/collaborators{/collaborator}',\n",
      "  'comments_url': 'https://api.github.com/repos/abjer/sds2019/comments{/number}',\n",
      "  'commits_url': 'https://api.github.com/repos/abjer/sds2019/commits{/sha}',\n",
      "  'compare_url': 'https://api.github.com/repos/abjer/sds2019/compare/{base}...{head}',\n",
      "  'contents_url': 'https://api.github.com/repos/abjer/sds2019/contents/{+path}',\n",
      "  'contributors_url': 'https://api.github.com/repos/abjer/sds2019/contributors',\n",
      "  'created_at': '2019-06-21T21:46:41Z',\n",
      "  'default_branch': 'master',\n",
      "  'deployments_url': 'https://api.github.com/repos/abjer/sds2019/deployments',\n",
      "  'description': 'Social Data Science 2019 - a summer school course ',\n",
      "  'disabled': False,\n",
      "  'downloads_url': 'https://api.github.com/repos/abjer/sds2019/downloads',\n",
      "  'events_url': 'https://api.github.com/repos/abjer/sds2019/events',\n",
      "  'fork': False,\n",
      "  'forks': 98,\n",
      "  'forks_count': 98,\n",
      "  'forks_url': 'https://api.github.com/repos/abjer/sds2019/forks',\n",
      "  'full_name': 'abjer/sds2019',\n",
      "  'git_commits_url': 'https://api.github.com/repos/abjer/sds2019/git/commits{/sha}',\n",
      "  'git_refs_url': 'https://api.github.com/repos/abjer/sds2019/git/refs{/sha}',\n",
      "  'git_tags_url': 'https://api.github.com/repos/abjer/sds2019/git/tags{/sha}',\n",
      "  'git_url': 'git://github.com/abjer/sds2019.git',\n",
      "  'has_downloads': True,\n",
      "  'has_issues': True,\n",
      "  'has_pages': True,\n",
      "  'has_projects': True,\n",
      "  'has_wiki': True,\n",
      "  'homepage': 'https://abjer.github.io/sds2019',\n",
      "  'hooks_url': 'https://api.github.com/repos/abjer/sds2019/hooks',\n",
      "  'html_url': 'https://github.com/abjer/sds2019',\n",
      "  'id': 193163621,\n",
      "  'issue_comment_url': 'https://api.github.com/repos/abjer/sds2019/issues/comments{/number}',\n",
      "  'issue_events_url': 'https://api.github.com/repos/abjer/sds2019/issues/events{/number}',\n",
      "  'issues_url': 'https://api.github.com/repos/abjer/sds2019/issues{/number}',\n",
      "  'keys_url': 'https://api.github.com/repos/abjer/sds2019/keys{/key_id}',\n",
      "  'labels_url': 'https://api.github.com/repos/abjer/sds2019/labels{/name}',\n",
      "  'language': 'Jupyter Notebook',\n",
      "  'languages_url': 'https://api.github.com/repos/abjer/sds2019/languages',\n",
      "  'license': None,\n",
      "  'merges_url': 'https://api.github.com/repos/abjer/sds2019/merges',\n",
      "  'milestones_url': 'https://api.github.com/repos/abjer/sds2019/milestones{/number}',\n",
      "  'mirror_url': None,\n",
      "  'name': 'sds2019',\n",
      "  'node_id': 'MDEwOlJlcG9zaXRvcnkxOTMxNjM2MjE=',\n",
      "  'notifications_url': 'https://api.github.com/repos/abjer/sds2019/notifications{?since,all,participating}',\n",
      "  'open_issues': 36,\n",
      "  'open_issues_count': 36,\n",
      "  'owner': {'avatar_url': 'https://avatars.githubusercontent.com/u/6363844?v=4',\n",
      "            'events_url': 'https://api.github.com/users/abjer/events{/privacy}',\n",
      "            'followers_url': 'https://api.github.com/users/abjer/followers',\n",
      "            'following_url': 'https://api.github.com/users/abjer/following{/other_user}',\n",
      "            'gists_url': 'https://api.github.com/users/abjer/gists{/gist_id}',\n",
      "            'gravatar_id': '',\n",
      "            'html_url': 'https://github.com/abjer',\n",
      "            'id': 6363844,\n",
      "            'login': 'abjer',\n",
      "            'node_id': 'MDQ6VXNlcjYzNjM4NDQ=',\n",
      "            'organizations_url': 'https://api.github.com/users/abjer/orgs',\n",
      "            'received_events_url': 'https://api.github.com/users/abjer/received_events',\n",
      "            'repos_url': 'https://api.github.com/users/abjer/repos',\n",
      "            'site_admin': False,\n",
      "            'starred_url': 'https://api.github.com/users/abjer/starred{/owner}{/repo}',\n",
      "            'subscriptions_url': 'https://api.github.com/users/abjer/subscriptions',\n",
      "            'type': 'User',\n",
      "            'url': 'https://api.github.com/users/abjer'},\n",
      "  'private': False,\n",
      "  'pulls_url': 'https://api.github.com/repos/abjer/sds2019/pulls{/number}',\n",
      "  'pushed_at': '2019-08-26T19:51:16Z',\n",
      "  'releases_url': 'https://api.github.com/repos/abjer/sds2019/releases{/id}',\n",
      "  'size': 38053,\n",
      "  'ssh_url': 'git@github.com:abjer/sds2019.git',\n",
      "  'stargazers_count': 46,\n",
      "  'stargazers_url': 'https://api.github.com/repos/abjer/sds2019/stargazers',\n",
      "  'statuses_url': 'https://api.github.com/repos/abjer/sds2019/statuses/{sha}',\n",
      "  'subscribers_url': 'https://api.github.com/repos/abjer/sds2019/subscribers',\n",
      "  'subscription_url': 'https://api.github.com/repos/abjer/sds2019/subscription',\n",
      "  'svn_url': 'https://github.com/abjer/sds2019',\n",
      "  'tags_url': 'https://api.github.com/repos/abjer/sds2019/tags',\n",
      "  'teams_url': 'https://api.github.com/repos/abjer/sds2019/teams',\n",
      "  'trees_url': 'https://api.github.com/repos/abjer/sds2019/git/trees{/sha}',\n",
      "  'updated_at': '2021-03-03T10:21:19Z',\n",
      "  'url': 'https://api.github.com/repos/abjer/sds2019',\n",
      "  'watchers': 46,\n",
      "  'watchers_count': 46},\n",
      " {'archive_url': 'https://api.github.com/repos/abjer/sds_eml_2020/{archive_format}{/ref}',\n",
      "  'archived': False,\n",
      "  'assignees_url': 'https://api.github.com/repos/abjer/sds_eml_2020/assignees{/user}',\n",
      "  'blobs_url': 'https://api.github.com/repos/abjer/sds_eml_2020/git/blobs{/sha}',\n",
      "  'branches_url': 'https://api.github.com/repos/abjer/sds_eml_2020/branches{/branch}',\n",
      "  'clone_url': 'https://github.com/abjer/sds_eml_2020.git',\n",
      "  'collaborators_url': 'https://api.github.com/repos/abjer/sds_eml_2020/collaborators{/collaborator}',\n",
      "  'comments_url': 'https://api.github.com/repos/abjer/sds_eml_2020/comments{/number}',\n",
      "  'commits_url': 'https://api.github.com/repos/abjer/sds_eml_2020/commits{/sha}',\n",
      "  'compare_url': 'https://api.github.com/repos/abjer/sds_eml_2020/compare/{base}...{head}',\n",
      "  'contents_url': 'https://api.github.com/repos/abjer/sds_eml_2020/contents/{+path}',\n",
      "  'contributors_url': 'https://api.github.com/repos/abjer/sds_eml_2020/contributors',\n",
      "  'created_at': '2020-01-30T09:13:36Z',\n",
      "  'default_branch': 'master',\n",
      "  'deployments_url': 'https://api.github.com/repos/abjer/sds_eml_2020/deployments',\n",
      "  'description': 'Course page for KU course on econometrics and machine '\n",
      "                 'learning',\n",
      "  'disabled': False,\n",
      "  'downloads_url': 'https://api.github.com/repos/abjer/sds_eml_2020/downloads',\n",
      "  'events_url': 'https://api.github.com/repos/abjer/sds_eml_2020/events',\n",
      "  'fork': False,\n",
      "  'forks': 27,\n",
      "  'forks_count': 27,\n",
      "  'forks_url': 'https://api.github.com/repos/abjer/sds_eml_2020/forks',\n",
      "  'full_name': 'abjer/sds_eml_2020',\n",
      "  'git_commits_url': 'https://api.github.com/repos/abjer/sds_eml_2020/git/commits{/sha}',\n",
      "  'git_refs_url': 'https://api.github.com/repos/abjer/sds_eml_2020/git/refs{/sha}',\n",
      "  'git_tags_url': 'https://api.github.com/repos/abjer/sds_eml_2020/git/tags{/sha}',\n",
      "  'git_url': 'git://github.com/abjer/sds_eml_2020.git',\n",
      "  'has_downloads': True,\n",
      "  'has_issues': True,\n",
      "  'has_pages': False,\n",
      "  'has_projects': True,\n",
      "  'has_wiki': True,\n",
      "  'homepage': 'https://kurser.ku.dk/course/A%C3%98KK08400U',\n",
      "  'hooks_url': 'https://api.github.com/repos/abjer/sds_eml_2020/hooks',\n",
      "  'html_url': 'https://github.com/abjer/sds_eml_2020',\n",
      "  'id': 237177147,\n",
      "  'issue_comment_url': 'https://api.github.com/repos/abjer/sds_eml_2020/issues/comments{/number}',\n",
      "  'issue_events_url': 'https://api.github.com/repos/abjer/sds_eml_2020/issues/events{/number}',\n",
      "  'issues_url': 'https://api.github.com/repos/abjer/sds_eml_2020/issues{/number}',\n",
      "  'keys_url': 'https://api.github.com/repos/abjer/sds_eml_2020/keys{/key_id}',\n",
      "  'labels_url': 'https://api.github.com/repos/abjer/sds_eml_2020/labels{/name}',\n",
      "  'language': 'Jupyter Notebook',\n",
      "  'languages_url': 'https://api.github.com/repos/abjer/sds_eml_2020/languages',\n",
      "  'license': None,\n",
      "  'merges_url': 'https://api.github.com/repos/abjer/sds_eml_2020/merges',\n",
      "  'milestones_url': 'https://api.github.com/repos/abjer/sds_eml_2020/milestones{/number}',\n",
      "  'mirror_url': None,\n",
      "  'name': 'sds_eml_2020',\n",
      "  'node_id': 'MDEwOlJlcG9zaXRvcnkyMzcxNzcxNDc=',\n",
      "  'notifications_url': 'https://api.github.com/repos/abjer/sds_eml_2020/notifications{?since,all,participating}',\n",
      "  'open_issues': 1,\n",
      "  'open_issues_count': 1,\n",
      "  'owner': {'avatar_url': 'https://avatars.githubusercontent.com/u/6363844?v=4',\n",
      "            'events_url': 'https://api.github.com/users/abjer/events{/privacy}',\n",
      "            'followers_url': 'https://api.github.com/users/abjer/followers',\n",
      "            'following_url': 'https://api.github.com/users/abjer/following{/other_user}',\n",
      "            'gists_url': 'https://api.github.com/users/abjer/gists{/gist_id}',\n",
      "            'gravatar_id': '',\n",
      "            'html_url': 'https://github.com/abjer',\n",
      "            'id': 6363844,\n",
      "            'login': 'abjer',\n",
      "            'node_id': 'MDQ6VXNlcjYzNjM4NDQ=',\n",
      "            'organizations_url': 'https://api.github.com/users/abjer/orgs',\n",
      "            'received_events_url': 'https://api.github.com/users/abjer/received_events',\n",
      "            'repos_url': 'https://api.github.com/users/abjer/repos',\n",
      "            'site_admin': False,\n",
      "            'starred_url': 'https://api.github.com/users/abjer/starred{/owner}{/repo}',\n",
      "            'subscriptions_url': 'https://api.github.com/users/abjer/subscriptions',\n",
      "            'type': 'User',\n",
      "            'url': 'https://api.github.com/users/abjer'},\n",
      "  'private': False,\n",
      "  'pulls_url': 'https://api.github.com/repos/abjer/sds_eml_2020/pulls{/number}',\n",
      "  'pushed_at': '2020-06-10T12:33:23Z',\n",
      "  'releases_url': 'https://api.github.com/repos/abjer/sds_eml_2020/releases{/id}',\n",
      "  'size': 43402,\n",
      "  'ssh_url': 'git@github.com:abjer/sds_eml_2020.git',\n",
      "  'stargazers_count': 20,\n",
      "  'stargazers_url': 'https://api.github.com/repos/abjer/sds_eml_2020/stargazers',\n",
      "  'statuses_url': 'https://api.github.com/repos/abjer/sds_eml_2020/statuses/{sha}',\n",
      "  'subscribers_url': 'https://api.github.com/repos/abjer/sds_eml_2020/subscribers',\n",
      "  'subscription_url': 'https://api.github.com/repos/abjer/sds_eml_2020/subscription',\n",
      "  'svn_url': 'https://github.com/abjer/sds_eml_2020',\n",
      "  'tags_url': 'https://api.github.com/repos/abjer/sds_eml_2020/tags',\n",
      "  'teams_url': 'https://api.github.com/repos/abjer/sds_eml_2020/teams',\n",
      "  'trees_url': 'https://api.github.com/repos/abjer/sds_eml_2020/git/trees{/sha}',\n",
      "  'updated_at': '2021-03-16T12:24:41Z',\n",
      "  'url': 'https://api.github.com/repos/abjer/sds_eml_2020',\n",
      "  'watchers': 20,\n",
      "  'watchers_count': 20},\n",
      " {'archive_url': 'https://api.github.com/repos/abjer/tsds/{archive_format}{/ref}',\n",
      "  'archived': False,\n",
      "  'assignees_url': 'https://api.github.com/repos/abjer/tsds/assignees{/user}',\n",
      "  'blobs_url': 'https://api.github.com/repos/abjer/tsds/git/blobs{/sha}',\n",
      "  'branches_url': 'https://api.github.com/repos/abjer/tsds/branches{/branch}',\n",
      "  'clone_url': 'https://github.com/abjer/tsds.git',\n",
      "  'collaborators_url': 'https://api.github.com/repos/abjer/tsds/collaborators{/collaborator}',\n",
      "  'comments_url': 'https://api.github.com/repos/abjer/tsds/comments{/number}',\n",
      "  'commits_url': 'https://api.github.com/repos/abjer/tsds/commits{/sha}',\n",
      "  'compare_url': 'https://api.github.com/repos/abjer/tsds/compare/{base}...{head}',\n",
      "  'contents_url': 'https://api.github.com/repos/abjer/tsds/contents/{+path}',\n",
      "  'contributors_url': 'https://api.github.com/repos/abjer/tsds/contributors',\n",
      "  'created_at': '2018-12-17T17:27:55Z',\n",
      "  'default_branch': 'master',\n",
      "  'deployments_url': 'https://api.github.com/repos/abjer/tsds/deployments',\n",
      "  'description': 'Course page for Topics in Social Data Science @ UPCH: '\n",
      "                 'https://kurser.ku.dk/course/a%C3%98kk08371u/2018-2019',\n",
      "  'disabled': False,\n",
      "  'downloads_url': 'https://api.github.com/repos/abjer/tsds/downloads',\n",
      "  'events_url': 'https://api.github.com/repos/abjer/tsds/events',\n",
      "  'fork': False,\n",
      "  'forks': 14,\n",
      "  'forks_count': 14,\n",
      "  'forks_url': 'https://api.github.com/repos/abjer/tsds/forks',\n",
      "  'full_name': 'abjer/tsds',\n",
      "  'git_commits_url': 'https://api.github.com/repos/abjer/tsds/git/commits{/sha}',\n",
      "  'git_refs_url': 'https://api.github.com/repos/abjer/tsds/git/refs{/sha}',\n",
      "  'git_tags_url': 'https://api.github.com/repos/abjer/tsds/git/tags{/sha}',\n",
      "  'git_url': 'git://github.com/abjer/tsds.git',\n",
      "  'has_downloads': True,\n",
      "  'has_issues': True,\n",
      "  'has_pages': False,\n",
      "  'has_projects': True,\n",
      "  'has_wiki': True,\n",
      "  'homepage': None,\n",
      "  'hooks_url': 'https://api.github.com/repos/abjer/tsds/hooks',\n",
      "  'html_url': 'https://github.com/abjer/tsds',\n",
      "  'id': 162166617,\n",
      "  'issue_comment_url': 'https://api.github.com/repos/abjer/tsds/issues/comments{/number}',\n",
      "  'issue_events_url': 'https://api.github.com/repos/abjer/tsds/issues/events{/number}',\n",
      "  'issues_url': 'https://api.github.com/repos/abjer/tsds/issues{/number}',\n",
      "  'keys_url': 'https://api.github.com/repos/abjer/tsds/keys{/key_id}',\n",
      "  'labels_url': 'https://api.github.com/repos/abjer/tsds/labels{/name}',\n",
      "  'language': 'Jupyter Notebook',\n",
      "  'languages_url': 'https://api.github.com/repos/abjer/tsds/languages',\n",
      "  'license': None,\n",
      "  'merges_url': 'https://api.github.com/repos/abjer/tsds/merges',\n",
      "  'milestones_url': 'https://api.github.com/repos/abjer/tsds/milestones{/number}',\n",
      "  'mirror_url': None,\n",
      "  'name': 'tsds',\n",
      "  'node_id': 'MDEwOlJlcG9zaXRvcnkxNjIxNjY2MTc=',\n",
      "  'notifications_url': 'https://api.github.com/repos/abjer/tsds/notifications{?since,all,participating}',\n",
      "  'open_issues': 1,\n",
      "  'open_issues_count': 1,\n",
      "  'owner': {'avatar_url': 'https://avatars.githubusercontent.com/u/6363844?v=4',\n",
      "            'events_url': 'https://api.github.com/users/abjer/events{/privacy}',\n",
      "            'followers_url': 'https://api.github.com/users/abjer/followers',\n",
      "            'following_url': 'https://api.github.com/users/abjer/following{/other_user}',\n",
      "            'gists_url': 'https://api.github.com/users/abjer/gists{/gist_id}',\n",
      "            'gravatar_id': '',\n",
      "            'html_url': 'https://github.com/abjer',\n",
      "            'id': 6363844,\n",
      "            'login': 'abjer',\n",
      "            'node_id': 'MDQ6VXNlcjYzNjM4NDQ=',\n",
      "            'organizations_url': 'https://api.github.com/users/abjer/orgs',\n",
      "            'received_events_url': 'https://api.github.com/users/abjer/received_events',\n",
      "            'repos_url': 'https://api.github.com/users/abjer/repos',\n",
      "            'site_admin': False,\n",
      "            'starred_url': 'https://api.github.com/users/abjer/starred{/owner}{/repo}',\n",
      "            'subscriptions_url': 'https://api.github.com/users/abjer/subscriptions',\n",
      "            'type': 'User',\n",
      "            'url': 'https://api.github.com/users/abjer'},\n",
      "  'private': False,\n",
      "  'pulls_url': 'https://api.github.com/repos/abjer/tsds/pulls{/number}',\n",
      "  'pushed_at': '2019-05-13T17:30:52Z',\n",
      "  'releases_url': 'https://api.github.com/repos/abjer/tsds/releases{/id}',\n",
      "  'size': 80049,\n",
      "  'ssh_url': 'git@github.com:abjer/tsds.git',\n",
      "  'stargazers_count': 5,\n",
      "  'stargazers_url': 'https://api.github.com/repos/abjer/tsds/stargazers',\n",
      "  'statuses_url': 'https://api.github.com/repos/abjer/tsds/statuses/{sha}',\n",
      "  'subscribers_url': 'https://api.github.com/repos/abjer/tsds/subscribers',\n",
      "  'subscription_url': 'https://api.github.com/repos/abjer/tsds/subscription',\n",
      "  'svn_url': 'https://github.com/abjer/tsds',\n",
      "  'tags_url': 'https://api.github.com/repos/abjer/tsds/tags',\n",
      "  'teams_url': 'https://api.github.com/repos/abjer/tsds/teams',\n",
      "  'trees_url': 'https://api.github.com/repos/abjer/tsds/git/trees{/sha}',\n",
      "  'updated_at': '2019-08-21T13:17:16Z',\n",
      "  'url': 'https://api.github.com/repos/abjer/tsds',\n",
      "  'watchers': 5,\n",
      "  'watchers_count': 5},\n",
      " {'archive_url': 'https://api.github.com/repos/abjer/tsds2018/{archive_format}{/ref}',\n",
      "  'archived': False,\n",
      "  'assignees_url': 'https://api.github.com/repos/abjer/tsds2018/assignees{/user}',\n",
      "  'blobs_url': 'https://api.github.com/repos/abjer/tsds2018/git/blobs{/sha}',\n",
      "  'branches_url': 'https://api.github.com/repos/abjer/tsds2018/branches{/branch}',\n",
      "  'clone_url': 'https://github.com/abjer/tsds2018.git',\n",
      "  'collaborators_url': 'https://api.github.com/repos/abjer/tsds2018/collaborators{/collaborator}',\n",
      "  'comments_url': 'https://api.github.com/repos/abjer/tsds2018/comments{/number}',\n",
      "  'commits_url': 'https://api.github.com/repos/abjer/tsds2018/commits{/sha}',\n",
      "  'compare_url': 'https://api.github.com/repos/abjer/tsds2018/compare/{base}...{head}',\n",
      "  'contents_url': 'https://api.github.com/repos/abjer/tsds2018/contents/{+path}',\n",
      "  'contributors_url': 'https://api.github.com/repos/abjer/tsds2018/contributors',\n",
      "  'created_at': '2017-11-20T13:13:52Z',\n",
      "  'default_branch': 'master',\n",
      "  'deployments_url': 'https://api.github.com/repos/abjer/tsds2018/deployments',\n",
      "  'description': 'Course page for Topics in Social Data Science @ UPCH: '\n",
      "                 'https://kurser.ku.dk/course/a%C3%98kk08371u/2017-2018',\n",
      "  'disabled': False,\n",
      "  'downloads_url': 'https://api.github.com/repos/abjer/tsds2018/downloads',\n",
      "  'events_url': 'https://api.github.com/repos/abjer/tsds2018/events',\n",
      "  'fork': False,\n",
      "  'forks': 20,\n",
      "  'forks_count': 20,\n",
      "  'forks_url': 'https://api.github.com/repos/abjer/tsds2018/forks',\n",
      "  'full_name': 'abjer/tsds2018',\n",
      "  'git_commits_url': 'https://api.github.com/repos/abjer/tsds2018/git/commits{/sha}',\n",
      "  'git_refs_url': 'https://api.github.com/repos/abjer/tsds2018/git/refs{/sha}',\n",
      "  'git_tags_url': 'https://api.github.com/repos/abjer/tsds2018/git/tags{/sha}',\n",
      "  'git_url': 'git://github.com/abjer/tsds2018.git',\n",
      "  'has_downloads': True,\n",
      "  'has_issues': True,\n",
      "  'has_pages': False,\n",
      "  'has_projects': True,\n",
      "  'has_wiki': True,\n",
      "  'homepage': '',\n",
      "  'hooks_url': 'https://api.github.com/repos/abjer/tsds2018/hooks',\n",
      "  'html_url': 'https://github.com/abjer/tsds2018',\n",
      "  'id': 111412351,\n",
      "  'issue_comment_url': 'https://api.github.com/repos/abjer/tsds2018/issues/comments{/number}',\n",
      "  'issue_events_url': 'https://api.github.com/repos/abjer/tsds2018/issues/events{/number}',\n",
      "  'issues_url': 'https://api.github.com/repos/abjer/tsds2018/issues{/number}',\n",
      "  'keys_url': 'https://api.github.com/repos/abjer/tsds2018/keys{/key_id}',\n",
      "  'labels_url': 'https://api.github.com/repos/abjer/tsds2018/labels{/name}',\n",
      "  'language': 'Jupyter Notebook',\n",
      "  'languages_url': 'https://api.github.com/repos/abjer/tsds2018/languages',\n",
      "  'license': None,\n",
      "  'merges_url': 'https://api.github.com/repos/abjer/tsds2018/merges',\n",
      "  'milestones_url': 'https://api.github.com/repos/abjer/tsds2018/milestones{/number}',\n",
      "  'mirror_url': None,\n",
      "  'name': 'tsds2018',\n",
      "  'node_id': 'MDEwOlJlcG9zaXRvcnkxMTE0MTIzNTE=',\n",
      "  'notifications_url': 'https://api.github.com/repos/abjer/tsds2018/notifications{?since,all,participating}',\n",
      "  'open_issues': 0,\n",
      "  'open_issues_count': 0,\n",
      "  'owner': {'avatar_url': 'https://avatars.githubusercontent.com/u/6363844?v=4',\n",
      "            'events_url': 'https://api.github.com/users/abjer/events{/privacy}',\n",
      "            'followers_url': 'https://api.github.com/users/abjer/followers',\n",
      "            'following_url': 'https://api.github.com/users/abjer/following{/other_user}',\n",
      "            'gists_url': 'https://api.github.com/users/abjer/gists{/gist_id}',\n",
      "            'gravatar_id': '',\n",
      "            'html_url': 'https://github.com/abjer',\n",
      "            'id': 6363844,\n",
      "            'login': 'abjer',\n",
      "            'node_id': 'MDQ6VXNlcjYzNjM4NDQ=',\n",
      "            'organizations_url': 'https://api.github.com/users/abjer/orgs',\n",
      "            'received_events_url': 'https://api.github.com/users/abjer/received_events',\n",
      "            'repos_url': 'https://api.github.com/users/abjer/repos',\n",
      "            'site_admin': False,\n",
      "            'starred_url': 'https://api.github.com/users/abjer/starred{/owner}{/repo}',\n",
      "            'subscriptions_url': 'https://api.github.com/users/abjer/subscriptions',\n",
      "            'type': 'User',\n",
      "            'url': 'https://api.github.com/users/abjer'},\n",
      "  'private': False,\n",
      "  'pulls_url': 'https://api.github.com/repos/abjer/tsds2018/pulls{/number}',\n",
      "  'pushed_at': '2018-12-17T17:32:17Z',\n",
      "  'releases_url': 'https://api.github.com/repos/abjer/tsds2018/releases{/id}',\n",
      "  'size': 50467,\n",
      "  'ssh_url': 'git@github.com:abjer/tsds2018.git',\n",
      "  'stargazers_count': 14,\n",
      "  'stargazers_url': 'https://api.github.com/repos/abjer/tsds2018/stargazers',\n",
      "  'statuses_url': 'https://api.github.com/repos/abjer/tsds2018/statuses/{sha}',\n",
      "  'subscribers_url': 'https://api.github.com/repos/abjer/tsds2018/subscribers',\n",
      "  'subscription_url': 'https://api.github.com/repos/abjer/tsds2018/subscription',\n",
      "  'svn_url': 'https://github.com/abjer/tsds2018',\n",
      "  'tags_url': 'https://api.github.com/repos/abjer/tsds2018/tags',\n",
      "  'teams_url': 'https://api.github.com/repos/abjer/tsds2018/teams',\n",
      "  'trees_url': 'https://api.github.com/repos/abjer/tsds2018/git/trees{/sha}',\n",
      "  'updated_at': '2020-09-02T14:09:56Z',\n",
      "  'url': 'https://api.github.com/repos/abjer/tsds2018',\n",
      "  'watchers': 14,\n",
      "  'watchers_count': 14}]\n"
     ]
    }
   ],
   "source": [
    "import pprint #Data pretty printer\n",
    "pprint.pprint(response.json()) #Everything is aranged alphabetically and in appropriate levels"
   ]
  },
  {
   "cell_type": "markdown",
   "metadata": {
    "slideshow": {
     "slide_type": "slide"
    }
   },
   "source": [
    "## Text files\n",
    "*How can we save a string as a text file?*"
   ]
  },
  {
   "cell_type": "code",
   "execution_count": 68,
   "metadata": {
    "slideshow": {
     "slide_type": "fragment"
    }
   },
   "outputs": [],
   "source": [
    "my_str = 'This is important...'\n",
    "my_str2 = 'Written in Python!'\n",
    "\n",
    "with open('my_file.txt', 'a') as f:\n",
    "    f.write(my_str+'\\n'+my_str2)"
   ]
  },
  {
   "cell_type": "markdown",
   "metadata": {
    "slideshow": {
     "slide_type": "fragment"
    }
   },
   "source": [
    "*How can we load a string from a text file?*"
   ]
  },
  {
   "cell_type": "code",
   "execution_count": 69,
   "metadata": {
    "slideshow": {
     "slide_type": "fragment"
    }
   },
   "outputs": [
    {
     "name": "stdout",
     "output_type": "stream",
     "text": [
      "This is important...\n",
      "Written in Python!This is important...\n",
      "Written in Python!\n"
     ]
    }
   ],
   "source": [
    "with open('my_file.txt', 'r') as f:    \n",
    "    my_str_load = f.read()\n",
    "print(my_str_load)"
   ]
  },
  {
   "cell_type": "markdown",
   "metadata": {
    "slideshow": {
     "slide_type": "slide"
    }
   },
   "source": [
    "## JSON files\n",
    "*How can we save a JSON file?*"
   ]
  },
  {
   "cell_type": "markdown",
   "metadata": {
    "slideshow": {
     "slide_type": "fragment"
    }
   },
   "source": [
    "The trick is to convert the JSON file to a string. This can be done with `dumps` in the module `json`:"
   ]
  },
  {
   "cell_type": "code",
   "execution_count": 70,
   "metadata": {
    "slideshow": {
     "slide_type": "-"
    }
   },
   "outputs": [],
   "source": [
    "# import JSON module and convert to string\n",
    "import json\n",
    "response_json_str = json.dumps(response_json)\n",
    "\n",
    "# save string as text file\n",
    "with open('my_file.json', 'w') as f:\n",
    "    f.write(response_json_str)"
   ]
  },
  {
   "cell_type": "markdown",
   "metadata": {
    "slideshow": {
     "slide_type": "fragment"
    }
   },
   "source": [
    "We can convert a string to JSON with `loads`."
   ]
  },
  {
   "cell_type": "markdown",
   "metadata": {
    "slideshow": {
     "slide_type": "slide"
    }
   },
   "source": [
    "## File handling\n",
    "*How can we remove a file?*"
   ]
  },
  {
   "cell_type": "markdown",
   "metadata": {
    "slideshow": {
     "slide_type": "fragment"
    }
   },
   "source": [
    "The module `os` can do a lot of file handling tasks, e.g. removing files:"
   ]
  },
  {
   "cell_type": "code",
   "execution_count": 71,
   "metadata": {
    "slideshow": {
     "slide_type": "-"
    }
   },
   "outputs": [],
   "source": [
    "import os\n",
    "\n",
    "os.remove('my_file.json')"
   ]
  },
  {
   "cell_type": "code",
   "execution_count": null,
   "metadata": {},
   "outputs": [],
   "source": [
    "############################################\n",
    "### NOT CLEAR WHERE THIS SLIDE SHOULD BE ###\n",
    "############################################\n",
    "\n",
    "import os\n",
    "\n",
    "# Find current wokring directory\n",
    "print(os.getcwd()) # Check working directory\n",
    "\n",
    "# What files are stored here?\n",
    "print(os.listdir(os.getcwd())) # Check files in working directory\n",
    "\n",
    "# I want to access the folder 'my_csv_file'. How?\n",
    "\n",
    "# I can also change the directory (note 'forward slash'!)\n",
    "os.chdir('C:/Users/xtw562/Documents/isds2021-master/teaching_material/session_2/my_csv_file')\n",
    "print(os.listdir(os.getcwd())) # Check files in working directory\n",
    "\n",
    "# And change back again!\n",
    "os.chdir('C:/Users/xtw562/Documents/isds2021-master/teaching_material/session_2')\n",
    "print(os.listdir(os.getcwd())) # Check files in working directory\n",
    "\n",
    "############################################\n",
    "### NOT CLEAR WHERE THIS SLIDE SHOULD BE ###\n",
    "############################################\n",
    "\n",
    "import pandas as pd\n",
    "\n",
    "# The simple case\n",
    "data = pd.read_csv('my_csv_file/titanic.csv')\n",
    "print(data.head(10))\n",
    "\n",
    "print(dtype)\n",
    "\n",
    "data = pd.read_csv(\n",
    "    'data/files/complex_data_example.tsv',      # relative python path to subdirectory\n",
    "    sep='\\t'           # Tab-separated value file.\n",
    "    quotechar=\"'\",        # single quote allowed as quote character\n",
    "    dtype={\"salary\": int},             # Parse the salary column as an integer \n",
    "    usecols=['name', 'birth_date', 'salary'].   # Only load the three columns specified.\n",
    "    parse_dates=['birth_date'],     # Intepret the birth_date column as a date\n",
    "    skiprows=10,         # Skip the first 10 rows of the file\n",
    "    na_values=['.', '??']       # Take any '.' or '??' values as NA\n",
    ")"
   ]
  }
 ],
 "metadata": {
  "celltoolbar": "Slideshow",
  "kernelspec": {
   "display_name": "Python 3",
   "language": "python",
   "name": "python3"
  },
  "language_info": {
   "codemirror_mode": {
    "name": "ipython",
    "version": 3
   },
   "file_extension": ".py",
   "mimetype": "text/x-python",
   "name": "python",
   "nbconvert_exporter": "python",
   "pygments_lexer": "ipython3",
   "version": "3.8.5"
  }
 },
 "nbformat": 4,
 "nbformat_minor": 4
}
