{
 "cells": [
  {
   "cell_type": "markdown",
   "metadata": {},
   "source": [
    "> **Note:** In most sessions you will be solving exercises posed in a Jupyter notebook that looks like this one. Because you are cloning a Github repository that only we can push to, you should **NEVER EDIT** any of the files you pull from Github. Instead, what you should do, is either make a new notebook and write your solutions in there, or **make a copy of this notebook and save it somewhere else** on your computer, not inside the `isds2020` folder that you cloned, so you can write your answers in there. If you edit the notebook you pulled from Github, those edits (possible your solutions to the exercises) may be overwritten and lost the next time you pull from Github. This is important, so don't hesitate to ask if it is unclear."
   ]
  },
  {
   "cell_type": "markdown",
   "metadata": {},
   "source": [
    "# Session 2: Strings, requests and APIs\n",
    "\n",
    "In this combined teaching module and exercise set you will be working with collecting from the web. We will start out with some basic string operations and build on that to make a query for fetching data.\n",
    "\n",
    "*Alternative sources*: If you get lost, you might find [this page](https://pythonprogramming.net/string-concatenation-formatting-intermediate-python-tutorial/) on pythonprogramming.net useful. [This page](https://www.python-course.eu/python3_sequential_data_types.php) also gives an introduction to the basics of strings and their related data types. "
   ]
  },
  {
   "cell_type": "markdown",
   "metadata": {},
   "source": [
    "# Basic Python (continued)\n",
    "\n",
    "In Assignment 0 we covered a lot about basic Python. We only scratched the surface on many topics and in this session we will be taking a deeper looking at. \n",
    "\n",
    "Start out with watching the introduction video below describing the usefulness of text data and dictionaries."
   ]
  },
  {
   "cell_type": "code",
   "execution_count": 1,
   "metadata": {},
   "outputs": [
    {
     "data": {
      "image/jpeg": "[encoded data removed]",
      "text/html": [
       "\n",
       "        <iframe\n",
       "            width=\"640\"\n",
       "            height=\"360\"\n",
       "            src=\"https://www.youtube.com/embed/QU3AfoezgTE\"\n",
       "            frameborder=\"0\"\n",
       "            allowfullscreen\n",
       "        ></iframe>\n",
       "        "
      ],
      "text/plain": [
       "<IPython.lib.display.YouTubeVideo at 0x2ad298b54c0>"
      ]
     },
     "execution_count": 1,
     "metadata": {},
     "output_type": "execute_result"
    }
   ],
   "source": [
    "from IPython.display import YouTubeVideo\n",
    "YouTubeVideo('QU3AfoezgTE', width=640, height=360)"
   ]
  },
  {
   "cell_type": "markdown",
   "metadata": {},
   "source": [
    "## Strings\n",
    "\n",
    "You might be wondering, what exactly are strings. Strings are sequential containers of characters. In Python we use two kinds of characters:\n",
    "-  American Standard Code (`ascii`)\n",
    "    - Characters from English alphabet, numbers, symbols for writing \n",
    "    - 8 bit information\n",
    "\n",
    "- Unicode (`UTF`)  \n",
    "    - Characters from European and Asian language and much more\n",
    "    - 16 bit information\n",
    "    - Available in URLs recently, e.g. [møn.dk](https://møn.dk)        \n",
    "    \n",
    "    \n",
    "Note that while unicode is a little more heavy and costs more space it is way more flexible and we get less errors when importing data from non-ascii languages. This reason is also why Python adopted unicode since Python 3 as standard.\n",
    "\n",
    "To see that strings are sequential containers, see the example below where we slice them like a list or dataframe/array:"
   ]
  },
  {
   "cell_type": "code",
   "execution_count": 2,
   "metadata": {},
   "outputs": [
    {
     "data": {
      "text/plain": [
       "'lice'"
      ]
     },
     "execution_count": 2,
     "metadata": {},
     "output_type": "execute_result"
    }
   ],
   "source": [
    "str1 = 'police'\n",
    "str1[2:]"
   ]
  },
  {
   "cell_type": "markdown",
   "metadata": {},
   "source": [
    "#### Common string operations \n",
    "\n",
    "Strings have multiple operations and functions associated. In this exercise we investigate a few of these. We also explore the sequence form of a string and how it can be sliced and accessed via indices. In the following we provide a small tour of some of the most important ones.\n",
    "\n",
    "You can alter the sentence-case of strings by using the string methods `upper`, `lower`, `capitalize`. Example:"
   ]
  },
  {
   "cell_type": "code",
   "execution_count": 3,
   "metadata": {},
   "outputs": [
    {
     "name": "stdout",
     "output_type": "stream",
     "text": [
      "POLICE\n",
      "Police\n",
      "police\n"
     ]
    }
   ],
   "source": [
    "str1_up=str1.upper()\n",
    "str1_cap=str1.capitalize()\n",
    "str1_low=str1_up.lower()\n",
    "\n",
    "print(str1_up)\n",
    "print(str1_cap)\n",
    "print(str1_low)"
   ]
  },
  {
   "cell_type": "markdown",
   "metadata": {},
   "source": [
    "We can also use the `replace` method to substitute parts of the strings:"
   ]
  },
  {
   "cell_type": "code",
   "execution_count": 4,
   "metadata": {},
   "outputs": [
    {
     "data": {
      "text/plain": [
       "'malice'"
      ]
     },
     "execution_count": 4,
     "metadata": {},
     "output_type": "execute_result"
    }
   ],
   "source": [
    "str1.replace('po', 'ma')"
   ]
  },
  {
   "cell_type": "markdown",
   "metadata": {},
   "source": [
    "We can also check whether a substring is within a given string and much more. The general syntax is \n",
    "```python \n",
    "T in S\n",
    "``` \n",
    "which checks whether a string `S` contains the substring `T`. See two applications below: "
   ]
  },
  {
   "cell_type": "code",
   "execution_count": 5,
   "metadata": {},
   "outputs": [
    {
     "name": "stdout",
     "output_type": "stream",
     "text": [
      "True False\n"
     ]
    }
   ],
   "source": [
    "print('ice' in str1, 'mice' in str1)"
   ]
  },
  {
   "cell_type": "markdown",
   "metadata": {},
   "source": [
    "Another procedure is to add strings together like below:"
   ]
  },
  {
   "cell_type": "code",
   "execution_count": 6,
   "metadata": {},
   "outputs": [
    {
     "data": {
      "text/plain": [
       "'police officer'"
      ]
     },
     "execution_count": 6,
     "metadata": {},
     "output_type": "execute_result"
    }
   ],
   "source": [
    "str2 = 'officer'\n",
    "str1 + ' ' + str2"
   ]
  },
  {
   "cell_type": "markdown",
   "metadata": {},
   "source": [
    "In the first couple of exercises you should use the examples above to answer\n",
    "\n",
    "> **Ex. 2.1.1**: Let `s1='Chameleon'` and `s2='ham'`. Check whether the string `s2` is a substring of `s1`. Is `'hello'` a substring `'goodbye'`?\n",
    "\n"
   ]
  },
  {
   "cell_type": "code",
   "execution_count": 7,
   "metadata": {},
   "outputs": [
    {
     "name": "stdout",
     "output_type": "stream",
     "text": [
      "True False\n"
     ]
    }
   ],
   "source": [
    "s1 = 'Chameleon'\n",
    "s2 = 'ham'\n",
    "\n",
    "print(s2 in s1, 'hello' in 'goodbye')"
   ]
  },
  {
   "cell_type": "markdown",
   "metadata": {},
   "source": [
    "> **Ex. 2.1.2**: From the string `s1` select the last four characters. What is the index of the character `a` in `s1`?\n",
    "\n",
    "> *Hint*: We can selecting a substring by slicing it with the `[]` notation, from the start to end where start is included and end is excluded. Recall that Python has zero-based indexing, see explanation [here](https://softwareengineering.stackexchange.com/questions/110804/why-are-zero-based-arrays-the-norm).\n"
   ]
  },
  {
   "cell_type": "code",
   "execution_count": 8,
   "metadata": {},
   "outputs": [
    {
     "name": "stdout",
     "output_type": "stream",
     "text": [
      "leon\n",
      "2\n"
     ]
    }
   ],
   "source": [
    "print(s1[-4:])\n",
    "print(s1.index('a'))"
   ]
  },
  {
   "cell_type": "markdown",
   "metadata": {},
   "source": [
    "#### More string operations \n",
    "In addition to the techniques above strings are equipped with an array of _methods_, for solving more complex tasks. For example the `str.join(list)` method will insert a string in between each element of a list. Oppositely `str1.split(str2)` splits `str1` into a list. `.strip()` removes spaces in the beginning and end of a word and the f-string fills in specified blanks in a string.  Below we illustrate the use of each function\n",
    "\n",
    "```python\n",
    ">>> \" \".join(['Hello', 'World!']) \n",
    "'Hello World!'\n",
    "\n",
    ">>> ' Hello World!   '.strip() \n",
    "'Hello World!'\n",
    "\n",
    ">>> w = 'World'\n",
    ">>> f'Hello {w}' \n",
    "'Hello World!'\n",
    "\n",
    ">>> 'a,b,c'.split(',') \n",
    "['a','b','c']\n",
    "```"
   ]
  },
  {
   "cell_type": "markdown",
   "metadata": {},
   "source": [
    "> **Ex. 2.1.3:** Use the `join()` and `strip()` functions to retrieve the sentence `The quick brown fox jumps over the lazy dog` from the list  `list_of_words` in the code cell below."
   ]
  },
  {
   "cell_type": "code",
   "execution_count": 306,
   "metadata": {},
   "outputs": [
    {
     "name": "stdout",
     "output_type": "stream",
     "text": [
      "The quick brown fox jumps over the lazy dog\n",
      "The quick brown fox jumps over the lazy dog\n",
      "The quick brown fox jumps over the lazy dog\n"
     ]
    }
   ],
   "source": [
    "list_of_words = ['       The        ', '   quick   ', '     brown      ',\n",
    "                 ' fox          ', '          jumps     ', '   over ',\n",
    "                 '          the   ', '  lazy     ', '          dog     ']\n",
    "\n",
    "list_of_words = \"\".join(list_of_words)\n",
    "list_of_words = list_of_words.split()\n",
    "list_of_words = \" \".join(list_of_words)\n",
    "print(list_of_words)\n",
    "\n",
    "# OR!\n",
    "list_of_words = ['       The        ', '   quick   ', '     brown      ',\n",
    "                 ' fox          ', '          jumps     ', '   over ',\n",
    "                 '          the   ', '  lazy     ', '          dog     ']\n",
    "for i in range(len(list_of_words)):\n",
    "    for _ in range(10):\n",
    "        list_of_words[i] = list_of_words[i].strip()\n",
    "        \n",
    "list_of_words = \" \".join(list_of_words)        \n",
    "print(list_of_words)\n",
    "\n",
    "# OR!\n",
    "list_of_words = ['       The        ', '   quick   ', '     brown      ',\n",
    "                 ' fox          ', '          jumps     ', '   over ',\n",
    "                 '          the   ', '  lazy     ', '          dog     ']\n",
    "print(\" \".join([word.strip() for word in list_of_words]))"
   ]
  },
  {
   "cell_type": "markdown",
   "metadata": {},
   "source": [
    "> **Ex. 2.1.4:** Let `l1 = ['r ', 'Is', '>', ' < ', 'g ', '?']`. Create from `l1` the sentence \"Is r > g?\" using your knowledge about string formatting. Make sure there is only one space in between worlds.\n",
    ">\n",
    ">> _Hint:_ You should be able to combine the above informations to solve this exercise."
   ]
  },
  {
   "cell_type": "code",
   "execution_count": 40,
   "metadata": {},
   "outputs": [
    {
     "name": "stdout",
     "output_type": "stream",
     "text": [
      "Is r > g?\n"
     ]
    }
   ],
   "source": [
    "l1 = ['r ', 'Is', '>', ' < ', 'g ', '?']\n",
    "print(l1[1] + \" \" + l1[0] + l1[2] + \" \" + l1[4].strip() + l1[5])"
   ]
  },
  {
   "cell_type": "code",
   "execution_count": 41,
   "metadata": {},
   "outputs": [],
   "source": [
    "# HANDIN"
   ]
  },
  {
   "cell_type": "markdown",
   "metadata": {
    "slideshow": {
     "slide_type": "slide"
    }
   },
   "source": [
    "# Saving as text file\n",
    "We saw in Assignment 0 that we could output tabular data as CSV file. This file is essentially a text file with specific structure that allows a computer to identify rows and columns. In the example below we will learn how to actually save a string directly as a text file. Note how we make line break using `\\n` - this is a string escape sequence, read more [here](https://docs.python.org/3/reference/lexical_analysis.html#literals)"
   ]
  },
  {
   "cell_type": "code",
   "execution_count": 42,
   "metadata": {
    "slideshow": {
     "slide_type": "fragment"
    }
   },
   "outputs": [],
   "source": [
    "my_str = 'This is important...'\n",
    "my_str2 = 'Written in Python!'\n",
    "escape_seq = '\\n'\n",
    "\n",
    "with open('my_file.txt', 'w') as f:\n",
    "    f.write(my_str+escape_seq+my_str2)"
   ]
  },
  {
   "cell_type": "markdown",
   "metadata": {
    "slideshow": {
     "slide_type": "fragment"
    }
   },
   "source": [
    "The code below opens the text file and prints the string."
   ]
  },
  {
   "cell_type": "code",
   "execution_count": 43,
   "metadata": {
    "slideshow": {
     "slide_type": "fragment"
    }
   },
   "outputs": [
    {
     "name": "stdout",
     "output_type": "stream",
     "text": [
      "This is important...\n",
      "Written in Python!\n"
     ]
    }
   ],
   "source": [
    "with open('my_file.txt', 'r') as f:    \n",
    "    print(f.read())"
   ]
  },
  {
   "cell_type": "markdown",
   "metadata": {},
   "source": [
    "> **Ex. 2.1.5:** Create a .txt file called `to_do_list.txt` with a to-do list by looping over the list `to_do = ['1. Hit the gym', '2. Pay bills', '3. Meet George', '4. Buy eggs', '5. Read a book']` and writing each element on a seperate line."
   ]
  },
  {
   "cell_type": "code",
   "execution_count": 47,
   "metadata": {},
   "outputs": [
    {
     "name": "stdout",
     "output_type": "stream",
     "text": [
      "1. Hit the gym\n",
      "2. Pay bills\n",
      "3. Meet George\n",
      "4. Buy eggs\n",
      "5. Read a book\n",
      "\n"
     ]
    }
   ],
   "source": [
    "to_do = ['1. Hit the gym', '2. Pay bills', '3. Meet George', '4. Buy eggs', '5. Read a book']\n",
    "\n",
    "with open('to_do_list.txt', 'w') as f:\n",
    "    for i in range(len(to_do)):\n",
    "        my_str = to_do[i]\n",
    "        escape_seq = '\\n'\n",
    "        f.write(my_str+escape_seq)\n",
    "        \n",
    "with open('to_do_list.txt', 'r') as f:    \n",
    "    print(f.read())        "
   ]
  },
  {
   "cell_type": "markdown",
   "metadata": {},
   "source": [
    "## Dictionaries\n",
    "\n",
    "Dictionaries (or simply `dict`) are a central building block of python. Python dicts are constructed from pairs of keys and values making them extremely versatile for data storage. Like list they can contain deep nested structures, e.g. dict of dicts of lists.\n",
    "\n",
    "Try running the code below, where the keys are strings (names from recent Danish prime ministers) and values are also strings (e.g. political affiliation):"
   ]
  },
  {
   "cell_type": "code",
   "execution_count": 48,
   "metadata": {
    "slideshow": {
     "slide_type": "-"
    }
   },
   "outputs": [
    {
     "name": "stdout",
     "output_type": "stream",
     "text": [
      "Socialdemokratiet\n"
     ]
    }
   ],
   "source": [
    "my_dict1 = {'Anders': \"Venstre\",\n",
    "            'Helle': \"Socialdemokratiet\",\n",
    "            'Lars': \"Venstre\",\n",
    "            'Mette': \"Socialdemokratiet\"}\n",
    "\n",
    "print(my_dict1['Mette'])"
   ]
  },
  {
   "cell_type": "markdown",
   "metadata": {
    "slideshow": {
     "slide_type": "slide"
    }
   },
   "source": [
    "Dictionaries can also be constructed from two associated lists. These are tied together with the `zip` function. Try the following code:"
   ]
  },
  {
   "cell_type": "code",
   "execution_count": 51,
   "metadata": {
    "slideshow": {
     "slide_type": "-"
    }
   },
   "outputs": [
    {
     "data": {
      "text/plain": [
       "{'a': 2, 'b': 3, 'c': 4}"
      ]
     },
     "execution_count": 51,
     "metadata": {},
     "output_type": "execute_result"
    }
   ],
   "source": [
    "keys = ['a', 'b', 'c']\n",
    "values = list(range(2,5))\n",
    "\n",
    "key_value_pairs = list(zip(keys, values))\n",
    "\n",
    "my_dict2 = dict(key_value_pairs)\n",
    "my_dict2"
   ]
  },
  {
   "cell_type": "markdown",
   "metadata": {},
   "source": [
    "> **Ex. 2.1.6**: Create an empty dictionary `words` using the `dict()`function. Then add each of the words in `['animal', 'coffee', 'python', 'unit', 'knowledge', 'tread', 'arise']` as a key, with the value being a boolean indicator for whether the word begins with a vowel. The results should look like `{'bacon': False, 'asynchronous': True ...}`\n",
    ">\n",
    ">> _Hint:_ You might want co first construct a function that asseses whether a given word begins with a vowel or not."
   ]
  },
  {
   "cell_type": "code",
   "execution_count": 55,
   "metadata": {},
   "outputs": [
    {
     "name": "stdout",
     "output_type": "stream",
     "text": [
      "{'animal': True, 'coffee': False, 'python': False, 'unit': True, 'knowledge': False, 'tread': False, 'arise': True}\n"
     ]
    }
   ],
   "source": [
    "W = ['animal', 'coffee', 'python', 'unit', 'knowledge', 'tread', 'arise']\n",
    "\n",
    "def vow_fun(a):\n",
    "    if a[0] in ['a', 'e', 'i', 'o', 'u', 'y']:\n",
    "        return True\n",
    "    else:\n",
    "        return False\n",
    "\n",
    "words = {}\n",
    "for i in range(len(W)):\n",
    "    words[W[i]]=vow_fun(W[i])"
   ]
  },
  {
   "cell_type": "code",
   "execution_count": null,
   "metadata": {},
   "outputs": [],
   "source": [
    "# HANDIN"
   ]
  },
  {
   "cell_type": "markdown",
   "metadata": {},
   "source": [
    "> **Ex. 2.1.7:** Loop through the dictionary `words`. In each iteration you should print a proper sentence stating if the current word begins with a vowel or not. \n",
    "\n",
    "> _Hint:_ You can loop through both keys and values simultaneously with the `.items()` method. [This](https://www.tutorialspoint.com/python/python_dictionary.htm) might help you."
   ]
  },
  {
   "cell_type": "code",
   "execution_count": 66,
   "metadata": {},
   "outputs": [
    {
     "name": "stdout",
     "output_type": "stream",
     "text": [
      "Animal starts with a vowel!\n",
      "\n",
      "Coffee does not start with a vowel...\n",
      "\n",
      "Python does not start with a vowel...\n",
      "\n",
      "Unit starts with a vowel!\n",
      "\n",
      "Knowledge does not start with a vowel...\n",
      "\n",
      "Tread does not start with a vowel...\n",
      "\n",
      "Arise starts with a vowel!\n",
      "\n"
     ]
    }
   ],
   "source": [
    "for key in words:\n",
    "    if words[key]==True:\n",
    "        print(key.capitalize() + ' starts with a vowel!' + '\\n')\n",
    "    else:\n",
    "        print(key.capitalize() + ' does not start with a vowel...' + '\\n')"
   ]
  },
  {
   "cell_type": "markdown",
   "metadata": {
    "slideshow": {
     "slide_type": "slide"
    }
   },
   "source": [
    "## Storing Python containers\n",
    "\n",
    "You might wonder does there exist a file format for easy storage of Python containers?\n",
    "\n",
    "Yes, the immensely popular JSON file format, which can store lists and dictionaries. The advantage is that JSON uses the same syntax as Python lists and dictionaries! The only thing we need to add are quotation marks, see example: \n",
    "\n",
    "- Python dict: `{\"a\":1,\"b\":1}`\n",
    "- JSON: `'{\"a\":1,\"b\":1}'`"
   ]
  },
  {
   "cell_type": "markdown",
   "metadata": {
    "slideshow": {
     "slide_type": "slide"
    }
   },
   "source": [
    "The popularity of JSON comes from the fact that it can hold any list or dictionary of any depth which the three fundamental data types: float, int, str. It does not work well with other formats, but in essence it can hold any form of structured data, e.g. text data, spatial data (GeoJSON) etc.\n",
    "\n",
    "The code example below uses the JSON module to save our dictionary. We use a trick by first converting the JSON file to a string. This can be done with the function `dumps` in the module `json`:"
   ]
  },
  {
   "cell_type": "code",
   "execution_count": 67,
   "metadata": {},
   "outputs": [
    {
     "name": "stdout",
     "output_type": "stream",
     "text": [
      "{\"a\": 2, \"b\": 3, \"c\": 4}\n"
     ]
    }
   ],
   "source": [
    "import json\n",
    "with open('my_file.JSON', 'w') as f:\n",
    "    my_json_str = json.dumps(my_dict2) # convert dictonary to string with JSON formatting\n",
    "    f.write(my_json_str) # write the string to file\n",
    "\n",
    "with open('my_file.JSON', 'r') as f:\n",
    "    print(f.read()) # read the string from file"
   ]
  },
  {
   "cell_type": "markdown",
   "metadata": {},
   "source": [
    "<br>\n",
    "\n",
    "# Python and the web\n",
    "\n",
    "The internet is a massive source for collecting data. Watch the video below to get an overview of the most fundamental protocols and how we work with them."
   ]
  },
  {
   "cell_type": "code",
   "execution_count": 68,
   "metadata": {},
   "outputs": [
    {
     "data": {
      "image/jpeg": "[encoded data removed]",
      "text/html": [
       "\n",
       "        <iframe\n",
       "            width=\"640\"\n",
       "            height=\"360\"\n",
       "            src=\"https://www.youtube.com/embed/vfn6zLmIyUY\"\n",
       "            frameborder=\"0\"\n",
       "            allowfullscreen\n",
       "        ></iframe>\n",
       "        "
      ],
      "text/plain": [
       "<IPython.lib.display.YouTubeVideo at 0x2ad299dbc70>"
      ]
     },
     "execution_count": 68,
     "metadata": {},
     "output_type": "execute_result"
    }
   ],
   "source": [
    "YouTubeVideo('vfn6zLmIyUY', width=640, height=360)"
   ]
  },
  {
   "cell_type": "markdown",
   "metadata": {
    "slideshow": {
     "slide_type": "slide"
    }
   },
   "source": [
    "## Application Programming Interface (API)\n",
    "\n",
    "APIs are protocols that allow us to request information and/or services from the provider of the API. In this course, we are mainly interested in APIs that provide data as a response to our requests. Watch the video below to get a sense of what APIs exist and how they work."
   ]
  },
  {
   "cell_type": "code",
   "execution_count": 71,
   "metadata": {},
   "outputs": [
    {
     "data": {
      "image/jpeg": "[encoded data removed]",
      "text/html": [
       "\n",
       "        <iframe\n",
       "            width=\"640\"\n",
       "            height=\"360\"\n",
       "            src=\"https://www.youtube.com/embed/abQl_BD-rQo\"\n",
       "            frameborder=\"0\"\n",
       "            allowfullscreen\n",
       "        ></iframe>\n",
       "        "
      ],
      "text/plain": [
       "<IPython.lib.display.YouTubeVideo at 0x2ad299db2b0>"
      ]
     },
     "execution_count": 71,
     "metadata": {},
     "output_type": "execute_result"
    }
   ],
   "source": [
    "    YouTubeVideo('abQl_BD-rQo', width=640, height=360)"
   ]
  },
  {
   "cell_type": "markdown",
   "metadata": {},
   "source": [
    "#### Building the queries\n",
    "We will now move on to understanding how we can interact with a web API in Python. First we will see how to build a query, which simply a web address. By typing in a specific web address the web server will receive information from us.\n",
    "\n",
    "In the example below we build a URL that allows us to check out which repositories Andreas BN has publicly available."
   ]
  },
  {
   "cell_type": "code",
   "execution_count": 73,
   "metadata": {
    "slideshow": {
     "slide_type": "fragment"
    }
   },
   "outputs": [
    {
     "name": "stdout",
     "output_type": "stream",
     "text": [
      "https://api.github.com/users/abjer/repos\n"
     ]
    }
   ],
   "source": [
    "server_url = 'https://api.github.com'\n",
    "endpoint_path = '/users/abjer/repos'\n",
    "url = server_url + endpoint_path\n",
    "print(url)"
   ]
  },
  {
   "cell_type": "markdown",
   "metadata": {
    "slideshow": {
     "slide_type": "slide"
    }
   },
   "source": [
    "#### Sending the query\n",
    "Python has a smart module, named `requests`, that allows us to interact with the web. When we request a URL we get a response in return. Among other things it allows us to inspect the HTML code. In the example below we query the URL for the GitHub API we made above. "
   ]
  },
  {
   "cell_type": "code",
   "execution_count": 74,
   "metadata": {
    "slideshow": {
     "slide_type": "fragment"
    }
   },
   "outputs": [],
   "source": [
    "import requests # import the module requests\n",
    "\n",
    "response = requests.get(url) # submit query with `get` and save response as object"
   ]
  },
  {
   "cell_type": "markdown",
   "metadata": {},
   "source": [
    "When we examine the response, we can see the HTML string is pretty long, so we limit the initial output to the first 1,000 characters. "
   ]
  },
  {
   "cell_type": "code",
   "execution_count": 75,
   "metadata": {
    "slideshow": {
     "slide_type": "fragment"
    }
   },
   "outputs": [
    {
     "name": "stdout",
     "output_type": "stream",
     "text": [
      "61114 \n",
      "\n",
      "[{\"id\":111244798,\"node_id\":\"MDEwOlJlcG9zaXRvcnkxMTEyNDQ3OTg=\",\"name\":\"abjer.github.io\",\"full_name\":\"abjer/abjer.github.io\",\"private\":false,\"owner\":{\"login\":\"abjer\",\"id\":6363844,\"node_id\":\"MDQ6VXNlcjYzNjM4NDQ=\",\"avatar_url\":\"https://avatars.githubusercontent.com/u/6363844?v=4\",\"gravatar_id\":\"\",\"url\":\"https://api.github.com/users/abjer\",\"html_url\":\"https://github.com/abjer\",\"followers_url\":\"https://api.github.com/users/abjer/followers\",\"following_url\":\"https://api.github.com/users/abjer/following{/other_user}\",\"gists_url\":\"https://api.github.com/users/abjer/gists{/gist_id}\",\"starred_url\":\"https://api.github.com/users/abjer/starred{/owner}{/repo}\",\"subscriptions_url\":\"https://api.github.com/users/abjer/subscriptions\",\"organizations_url\":\"https://api.github.com/users/abjer/orgs\",\"repos_url\":\"https://api.github.com/users/abjer/repos\",\"events_url\":\"https://api.github.com/users/abjer/events{/privacy}\",\"received_events_url\":\"https://api.github.com/users/abjer/received_events\",\"type\":\"User\",\"si \n",
      "\n"
     ]
    }
   ],
   "source": [
    "print(len(response.text),'\\n') # print length of HTML\n",
    "print(response.text[:1000],'\\n') # print first 1,000 characters of HTML "
   ]
  },
  {
   "cell_type": "markdown",
   "metadata": {},
   "source": [
    "We notice how the structure resembles lists and dictionaries. Therefore, we try to convert it by assuming that it is structured as JSON. Voila! It now makes a lot of sense!"
   ]
  },
  {
   "cell_type": "code",
   "execution_count": 76,
   "metadata": {
    "scrolled": true
   },
   "outputs": [
    {
     "data": {
      "text/plain": [
       "{'id': 111244798,\n",
       " 'node_id': 'MDEwOlJlcG9zaXRvcnkxMTEyNDQ3OTg=',\n",
       " 'name': 'abjer.github.io',\n",
       " 'full_name': 'abjer/abjer.github.io',\n",
       " 'private': False,\n",
       " 'owner': {'login': 'abjer',\n",
       "  'id': 6363844,\n",
       "  'node_id': 'MDQ6VXNlcjYzNjM4NDQ=',\n",
       "  'avatar_url': 'https://avatars.githubusercontent.com/u/6363844?v=4',\n",
       "  'gravatar_id': '',\n",
       "  'url': 'https://api.github.com/users/abjer',\n",
       "  'html_url': 'https://github.com/abjer',\n",
       "  'followers_url': 'https://api.github.com/users/abjer/followers',\n",
       "  'following_url': 'https://api.github.com/users/abjer/following{/other_user}',\n",
       "  'gists_url': 'https://api.github.com/users/abjer/gists{/gist_id}',\n",
       "  'starred_url': 'https://api.github.com/users/abjer/starred{/owner}{/repo}',\n",
       "  'subscriptions_url': 'https://api.github.com/users/abjer/subscriptions',\n",
       "  'organizations_url': 'https://api.github.com/users/abjer/orgs',\n",
       "  'repos_url': 'https://api.github.com/users/abjer/repos',\n",
       "  'events_url': 'https://api.github.com/users/abjer/events{/privacy}',\n",
       "  'received_events_url': 'https://api.github.com/users/abjer/received_events',\n",
       "  'type': 'User',\n",
       "  'site_admin': False},\n",
       " 'html_url': 'https://github.com/abjer/abjer.github.io',\n",
       " 'description': 'Repository for personal webpage https://abjer.github.io',\n",
       " 'fork': False,\n",
       " 'url': 'https://api.github.com/repos/abjer/abjer.github.io',\n",
       " 'forks_url': 'https://api.github.com/repos/abjer/abjer.github.io/forks',\n",
       " 'keys_url': 'https://api.github.com/repos/abjer/abjer.github.io/keys{/key_id}',\n",
       " 'collaborators_url': 'https://api.github.com/repos/abjer/abjer.github.io/collaborators{/collaborator}',\n",
       " 'teams_url': 'https://api.github.com/repos/abjer/abjer.github.io/teams',\n",
       " 'hooks_url': 'https://api.github.com/repos/abjer/abjer.github.io/hooks',\n",
       " 'issue_events_url': 'https://api.github.com/repos/abjer/abjer.github.io/issues/events{/number}',\n",
       " 'events_url': 'https://api.github.com/repos/abjer/abjer.github.io/events',\n",
       " 'assignees_url': 'https://api.github.com/repos/abjer/abjer.github.io/assignees{/user}',\n",
       " 'branches_url': 'https://api.github.com/repos/abjer/abjer.github.io/branches{/branch}',\n",
       " 'tags_url': 'https://api.github.com/repos/abjer/abjer.github.io/tags',\n",
       " 'blobs_url': 'https://api.github.com/repos/abjer/abjer.github.io/git/blobs{/sha}',\n",
       " 'git_tags_url': 'https://api.github.com/repos/abjer/abjer.github.io/git/tags{/sha}',\n",
       " 'git_refs_url': 'https://api.github.com/repos/abjer/abjer.github.io/git/refs{/sha}',\n",
       " 'trees_url': 'https://api.github.com/repos/abjer/abjer.github.io/git/trees{/sha}',\n",
       " 'statuses_url': 'https://api.github.com/repos/abjer/abjer.github.io/statuses/{sha}',\n",
       " 'languages_url': 'https://api.github.com/repos/abjer/abjer.github.io/languages',\n",
       " 'stargazers_url': 'https://api.github.com/repos/abjer/abjer.github.io/stargazers',\n",
       " 'contributors_url': 'https://api.github.com/repos/abjer/abjer.github.io/contributors',\n",
       " 'subscribers_url': 'https://api.github.com/repos/abjer/abjer.github.io/subscribers',\n",
       " 'subscription_url': 'https://api.github.com/repos/abjer/abjer.github.io/subscription',\n",
       " 'commits_url': 'https://api.github.com/repos/abjer/abjer.github.io/commits{/sha}',\n",
       " 'git_commits_url': 'https://api.github.com/repos/abjer/abjer.github.io/git/commits{/sha}',\n",
       " 'comments_url': 'https://api.github.com/repos/abjer/abjer.github.io/comments{/number}',\n",
       " 'issue_comment_url': 'https://api.github.com/repos/abjer/abjer.github.io/issues/comments{/number}',\n",
       " 'contents_url': 'https://api.github.com/repos/abjer/abjer.github.io/contents/{+path}',\n",
       " 'compare_url': 'https://api.github.com/repos/abjer/abjer.github.io/compare/{base}...{head}',\n",
       " 'merges_url': 'https://api.github.com/repos/abjer/abjer.github.io/merges',\n",
       " 'archive_url': 'https://api.github.com/repos/abjer/abjer.github.io/{archive_format}{/ref}',\n",
       " 'downloads_url': 'https://api.github.com/repos/abjer/abjer.github.io/downloads',\n",
       " 'issues_url': 'https://api.github.com/repos/abjer/abjer.github.io/issues{/number}',\n",
       " 'pulls_url': 'https://api.github.com/repos/abjer/abjer.github.io/pulls{/number}',\n",
       " 'milestones_url': 'https://api.github.com/repos/abjer/abjer.github.io/milestones{/number}',\n",
       " 'notifications_url': 'https://api.github.com/repos/abjer/abjer.github.io/notifications{?since,all,participating}',\n",
       " 'labels_url': 'https://api.github.com/repos/abjer/abjer.github.io/labels{/name}',\n",
       " 'releases_url': 'https://api.github.com/repos/abjer/abjer.github.io/releases{/id}',\n",
       " 'deployments_url': 'https://api.github.com/repos/abjer/abjer.github.io/deployments',\n",
       " 'created_at': '2017-11-18T22:34:19Z',\n",
       " 'updated_at': '2021-04-02T20:31:13Z',\n",
       " 'pushed_at': '2021-04-02T20:31:11Z',\n",
       " 'git_url': 'git://github.com/abjer/abjer.github.io.git',\n",
       " 'ssh_url': 'git@github.com:abjer/abjer.github.io.git',\n",
       " 'clone_url': 'https://github.com/abjer/abjer.github.io.git',\n",
       " 'svn_url': 'https://github.com/abjer/abjer.github.io',\n",
       " 'homepage': None,\n",
       " 'size': 3621,\n",
       " 'stargazers_count': 0,\n",
       " 'watchers_count': 0,\n",
       " 'language': 'HTML',\n",
       " 'has_issues': True,\n",
       " 'has_projects': True,\n",
       " 'has_downloads': True,\n",
       " 'has_wiki': True,\n",
       " 'has_pages': True,\n",
       " 'forks_count': 0,\n",
       " 'mirror_url': None,\n",
       " 'archived': False,\n",
       " 'disabled': False,\n",
       " 'open_issues_count': 0,\n",
       " 'license': None,\n",
       " 'forks': 0,\n",
       " 'open_issues': 0,\n",
       " 'watchers': 0,\n",
       " 'default_branch': 'master'}"
      ]
     },
     "execution_count": 76,
     "metadata": {},
     "output_type": "execute_result"
    }
   ],
   "source": [
    "response_json = response.json() # convert response to a list of dicts\n",
    "response_json[0]"
   ]
  },
  {
   "cell_type": "markdown",
   "metadata": {},
   "source": [
    "## Introducing the punk API\n",
    "The [punk API](https://punkapi.com/) serves information about _beers_. It is a well made and well documented API which makes it great for learning about APIs. \n",
    "\n",
    "> **Ex. 2.2.1:** Read the documentation on the Punk API available [here](https://punkapi.com/documentation/v2). What is the server url (i.e. root endpoint) of the Punk API? Does it require authentication? Then use the Punk API to make a request for beers brewed before December, 2008 with an ABV of at least 8."
   ]
  },
  {
   "cell_type": "code",
   "execution_count": 154,
   "metadata": {},
   "outputs": [
    {
     "name": "stdout",
     "output_type": "stream",
     "text": [
      "URL: https://api.punkapi.com/v2/beers?brewed_before=12-2008&abv_gt=8\n",
      "Length of response: 7895 \n",
      "\n",
      "Zephyr has an abv of 12.5 and was first brewed in 10/2008\n",
      "Paradox Islay has an abv of 10 and was first brewed in 04/2007\n",
      "Coffee Imperial Stout has an abv of 9 and was first brewed in 11/2008\n",
      "AB:03 has an abv of 10.5 and was first brewed in 09/2008\n"
     ]
    }
   ],
   "source": [
    "# One approach\n",
    "\n",
    "server_url = 'https://api.punkapi.com/v2/beers'\n",
    "endpoint_path = '?brewed_before=12-2008&abv_gt=8'\n",
    "url = server_url + endpoint_path\n",
    "print('URL:',url)\n",
    "\n",
    "response = requests.get(url)\n",
    "print('Length of response:',len(response.text),'\\n')\n",
    "response_json = response.json() # convert response to a list of dicts\n",
    "\n",
    "for i in range(len(response_json)):\n",
    "    print(response_json[i]['name'],'has an abv of',response_json[i]['abv'],'and was first brewed in',response_json[i]['first_brewed'])"
   ]
  },
  {
   "cell_type": "markdown",
   "metadata": {},
   "source": [
    "> **Ex. 2.2.2:** What object type is the API's JSON response? What about the individual items in the container? Convert the response object to a suitable format and answer the following questions:\n",
    ">> 1) How many beers are in the JSON object?\n",
    ">>\n",
    ">> 2) Print the names of the beers in the JSON object using lower case characters.\n",
    ">>\n",
    ">> 3) Select the beer called Paradox Islay from the JSON object.\n",
    ">>\n",
    ">> 4) Which hop ingredients does the Paradox Islay contain?\n"
   ]
  },
  {
   "cell_type": "code",
   "execution_count": 196,
   "metadata": {},
   "outputs": [
    {
     "name": "stdout",
     "output_type": "stream",
     "text": [
      "4\n",
      "zephyr\n",
      "paradox islay\n",
      "coffee imperial stout\n",
      "ab:03\n",
      "key is 1\n",
      "Hop ingredients in Paradox Islay are Columbus, Saaz and First Gold.\n"
     ]
    }
   ],
   "source": [
    "# Dict\n",
    "# strings\n",
    "\n",
    "print(len(response_json))\n",
    "\n",
    "[print(response_json[i]['name'].lower()) for i in range(len(response_json))]\n",
    "\n",
    "for i in range(len(response_json)):\n",
    "    if response_json[i]['name'] == 'Paradox Islay':\n",
    "        print('key is',i)\n",
    "        hops = []\n",
    "        for j in range(len(response_json[i]['ingredients']['hops'])):\n",
    "             hops.append(response_json[i]['ingredients']['hops'][j]['name'])\n",
    "        hops = list(dict.fromkeys(hops))\n",
    "        mystring = ''\n",
    "        for j in range(len(hops)):\n",
    "            if j<len(hops)-2:\n",
    "                mystring = mystring + hops[j] + ', '\n",
    "            if j==len(hops)-2:\n",
    "                mystring = mystring + hops[j] + ' and '\n",
    "            if j==len(hops)-1:\n",
    "                mystring = mystring + hops[j] + '.'\n",
    "        print('Hop ingredients in',response_json[i]['name'], 'are', mystring)"
   ]
  },
  {
   "cell_type": "markdown",
   "metadata": {},
   "source": [
    "> **Ex. 2.2.3:** Save the beers as a JSON file on your machine.\n",
    "\n",
    "> _Hint:_ you might want to take a look at the [json](https://docs.python.org/3/library/json.html) module.\n"
   ]
  },
  {
   "cell_type": "code",
   "execution_count": 198,
   "metadata": {},
   "outputs": [],
   "source": [
    "with open('json_testing.json', 'w') as json_file:\n",
    "    json.dump(response_json, json_file)"
   ]
  },
  {
   "cell_type": "markdown",
   "metadata": {},
   "source": [
    "<br>\n",
    "\n",
    "## The API for Statistics Denmark \n",
    "\n",
    "Statistics Denmark (DST) provide an API access to their aggregate data. For developers they supply a [console](https://api.statbank.dk/console) for testing. In this exercise we will code up a simple script which can collect data from the DST API. \n",
    "\n",
    "> **Ex 2.3.1:** Use the API console to construct a GET request which retrieves the table FOLK1A split by quarter. The return should be in JSON format. We want all available dates.\n",
    ">\n",
    ">Then write a function `construct_link()` which takes as inputs: a table ID (e.g. `'FOLK1A'`) and a list of strings like `['var1=*', 'var2=somevalue']`. The function should return the proper URL for getting a dataset with the specified variables (e.g. in this case all levels of var1, but only where var2=somevalue).\n",
    "\n",
    "> _Hint:_ The time variable is called 'tid'. To select all available values, set the value-id to '*'. Spend a little time with the console to get a sense of how the URLs are constructed.\n"
   ]
  },
  {
   "cell_type": "code",
   "execution_count": 212,
   "metadata": {},
   "outputs": [
    {
     "data": {
      "text/plain": [
       "'https://api.statbank.dk/v1/data/FOLK1A/JSONSTAT?lang=en&Tid=*'"
      ]
     },
     "execution_count": 212,
     "metadata": {},
     "output_type": "execute_result"
    }
   ],
   "source": [
    "# EXAMPLE ANSWER\n",
    "# This is the manually constructed link\n",
    "'https://api.statbank.dk/v1/data/FOLK1A/JSONSTAT?lang=en&Tid=*'\n",
    "\n",
    "# This function will do it for you\n",
    "def construct_link(table_id, variables):\n",
    "    base = f'https://api.statbank.dk/v1/data/{table_id}/JSONSTAT?lang=en'\n",
    "    \n",
    "    for var in variables:\n",
    "        base += f'&{var}'\n",
    "\n",
    "    return base \n",
    "\n",
    "construct_link('FOLK1A', ['Tid=*'])"
   ]
  },
  {
   "cell_type": "markdown",
   "metadata": {},
   "source": [
    "When executing the request in the console you should get a json file as output. Next lets write some code to load these json files directly into python. \n",
    "\n",
    "\n",
    "> **Ex. 2.3.2:** use the `requests` module (get it with `pip install requests`) and `construct_link()` to request birth data from the \"FOD\" table. Get all available years (variable \"Tid\"), but only female births (BARNKON=P) . Unpack the json payload and store the result. Wrap the whole thing in a function which takes an url as input and returns the corresponding output.\n",
    "\n",
    "> _Hint:_ The `requests.response` object has a `.json()` method. "
   ]
  },
  {
   "cell_type": "code",
   "execution_count": 301,
   "metadata": {},
   "outputs": [],
   "source": [
    "url = construct_link('FOD', ['Tid=*', 'BARNKON=P'])\n",
    "\n",
    "def create_data(url):\n",
    "    response = requests.get(url).json()\n",
    "    births = response['dataset']['value']\n",
    "    years = response['dataset']['dimension']['Tid']['category']['index']\n",
    "    years = list(map(int, years))\n",
    "    data = dict(zip(years, births))\n",
    "    return data\n",
    "\n",
    "data = create_data(url)"
   ]
  },
  {
   "cell_type": "code",
   "execution_count": null,
   "metadata": {},
   "outputs": [],
   "source": [
    "# HANDIN"
   ]
  },
  {
   "cell_type": "markdown",
   "metadata": {},
   "source": [
    "> **Ex. 2.3.3:** Extract the number of girls born each year. Store the results as a list."
   ]
  },
  {
   "cell_type": "code",
   "execution_count": 302,
   "metadata": {},
   "outputs": [],
   "source": [
    "girls = list(data.values())"
   ]
  },
  {
   "cell_type": "markdown",
   "metadata": {},
   "source": [
    "> **Ex. 2.3.4:** Repeat 2.3.2 and 2.3.3 but this time only get boy births (BARNKON=D). Store the numbers in a new list and use the `plot_births` (supplied below) function to plot the data. If you don't already have matplotlib installed run `pip install matplotlib`."
   ]
  },
  {
   "cell_type": "code",
   "execution_count": 345,
   "metadata": {},
   "outputs": [],
   "source": [
    "# Just run this once, do not change it.\n",
    "import matplotlib.pyplot as plt \n",
    "\n",
    "def plot_births(boys, girls):\n",
    "    \"\"\" Plots lineplot of the number of births split by gender.\n",
    "    \n",
    "    Args: \n",
    "        boys: a list of boy births by year\n",
    "        girls: a list of girl births by year\n",
    "    \"\"\"\n",
    "    if not len(boys) == len(girls):\n",
    "        raise ValueError('There must be the same number of observations for boys and girls')\n",
    "    \n",
    "    labels = [f'{year}' for year in range(1973,2018)]\n",
    "    \n",
    "    plt.plot(range(len(boys)), boys, color = 'blue', label = 'boys')\n",
    "    plt.plot(range(len(boys)), girls, color = 'red', label = 'girls')\n",
    "    plt.xticks([i for i in range(len(boys)) if i%4 == 0],\n",
    "               [l for i,l in zip(range(len(boys)),labels) if i%4 == 0],\n",
    "               rotation = 'vertical')\n",
    "    plt.legend()\n",
    "    plt.show()"
   ]
  },
  {
   "cell_type": "code",
   "execution_count": 346,
   "metadata": {},
   "outputs": [
    {
     "data": {
      "image/png": "[encoded data removed]",
      "text/plain": [
       "<Figure size 432x288 with 1 Axes>"
      ]
     },
     "metadata": {},
     "output_type": "display_data"
    }
   ],
   "source": [
    "url = construct_link('FOD', ['Tid=*', 'BARNKON=D'])\n",
    "\n",
    "data = create_data(url)\n",
    "boys = list(data.values())\n",
    "\n",
    "plot_births(boys, girls)"
   ]
  },
  {
   "cell_type": "markdown",
   "metadata": {},
   "source": [
    "The final question in this module is optional and only for those curious in learning more.\n",
    "\n",
    ">**(Bonus question) Ex. 2.3.5:** In this exercise we are going to use the PyDST package from [https://github.com/Kristianuruplarsen/PyDST](https://github.com/Kristianuruplarsen/PyDST). To install this package write `pip install git+https://github.com/Kristianuruplarsen/pydst.git` in your terminal or Anaconda Prompt. Try to replicate the birth figure from 2.3.4 using PyDST. Instructions for basic usage are given on the front page of the [github repository](https://github.com/Kristianuruplarsen/PyDST)"
   ]
  },
  {
   "cell_type": "code",
   "execution_count": 383,
   "metadata": {
    "scrolled": true
   },
   "outputs": [
    {
     "name": "stdout",
     "output_type": "stream",
     "text": [
      "TID;BARNKON;INDHOLD\r\n",
      "1973;Boys;36899\r\n",
      "1973;Girls;34996\r\n",
      "1974;Boys;36556\r\n",
      "1974;Girls;34771\r\n",
      "1975;Boys;36811\r\n",
      "1975;Girls;35260\r\n",
      "1976;Boys;33734\r\n",
      "1976;Girls;31533\r\n",
      "1977;Boys;31823\r\n",
      "1977;Girls;30055\r\n",
      "1978;Boys;31875\r\n",
      "1978;Girls;30161\r\n",
      "1979;Boys;30555\r\n",
      "1979;Girls;28909\r\n",
      "1980;Boys;29352\r\n",
      "1980;Girls;27941\r\n",
      "1981;Boys;27117\r\n",
      "1981;Girls;25972\r\n",
      "1982;Boys;27063\r\n",
      "1982;Girls;25595\r\n",
      "1983;Boys;26001\r\n",
      "1983;Girls;24821\r\n",
      "1984;Boys;26572\r\n",
      "1984;Girls;25228\r\n",
      "1985;Boys;27465\r\n",
      "1985;Girls;26284\r\n",
      "1986;Boys;28434\r\n",
      "1986;Girls;26878\r\n",
      "1987;Boys;29079\r\n",
      "1987;Girls;27142\r\n",
      "1988;Boys;30324\r\n",
      "1988;Girls;28520\r\n",
      "1989;Boys;31475\r\n",
      "1989;Girls;29876\r\n",
      "1990;Boys;32620\r\n",
      "1990;Girls;30813\r\n",
      "1991;Boys;33005\r\n",
      "1991;Girls;31353\r\n",
      "1992;Boys;34812\r\n",
      "1992;Girls;32914\r\n",
      "1993;Boys;34609\r\n",
      "1993;Girls;32760\r\n",
      "1994;Boys;35639\r\n",
      "1994;Girls;34027\r\n",
      "1995;Boys;35886\r\n",
      "1995;Girls;33885\r\n",
      "1996;Boys;34819\r\n",
      "1996;Girls;32819\r\n",
      "1997;Boys;34749\r\n",
      "1997;Girls;32899\r\n",
      "1998;Boys;34058\r\n",
      "1998;Girls;32116\r\n",
      "1999;Boys;33879\r\n",
      "1999;Girls;32341\r\n",
      "2000;Boys;34432\r\n",
      "2000;Girls;32652\r\n",
      "2001;Boys;33497\r\n",
      "2001;Girls;31961\r\n",
      "2002;Boys;32966\r\n",
      "2002;Girls;31109\r\n",
      "2003;Boys;33158\r\n",
      "2003;Girls;31441\r\n",
      "2004;Boys;33070\r\n",
      "2004;Girls;31539\r\n",
      "2005;Boys;32823\r\n",
      "2005;Girls;31459\r\n",
      "2006;Boys;33404\r\n",
      "2006;Girls;31580\r\n",
      "2007;Boys;32815\r\n",
      "2007;Girls;31267\r\n",
      "2008;Boys;33531\r\n",
      "2008;Girls;31507\r\n",
      "2009;Boys;32261\r\n",
      "2009;Girls;30557\r\n",
      "2010;Boys;32465\r\n",
      "2010;Girls;30946\r\n",
      "2011;Boys;30014\r\n",
      "2011;Girls;28984\r\n",
      "2012;Boys;29785\r\n",
      "2012;Girls;28131\r\n",
      "2013;Boys;28590\r\n",
      "2013;Girls;27283\r\n",
      "2014;Boys;29254\r\n",
      "2014;Girls;27616\r\n",
      "2015;Boys;29848\r\n",
      "2015;Girls;28357\r\n",
      "2016;Boys;31781\r\n",
      "2016;Girls;29833\r\n",
      "2017;Boys;31467\r\n",
      "2017;Girls;29930\r\n",
      "2018;Boys;31611\r\n",
      "2018;Girls;29865\r\n",
      "2019;Boys;31519\r\n",
      "2019;Girls;29648\r\n",
      "2020;Boys;31175\r\n",
      "2020;Girls;29762\r\n",
      "\n",
      "['1973;Boys;36899', '1973;Girls;34996', '1974;Boys;36556', '1974;Girls;34771', '1975;Boys;36811', '1975;Girls;35260', '1976;Boys;33734', '1976;Girls;31533', '1977;Boys;31823', '1977;Girls;30055', '1978;Boys;31875', '1978;Girls;30161', '1979;Boys;30555', '1979;Girls;28909', '1980;Boys;29352', '1980;Girls;27941', '1981;Boys;27117', '1981;Girls;25972', '1982;Boys;27063', '1982;Girls;25595', '1983;Boys;26001', '1983;Girls;24821', '1984;Boys;26572', '1984;Girls;25228', '1985;Boys;27465', '1985;Girls;26284', '1986;Boys;28434', '1986;Girls;26878', '1987;Boys;29079', '1987;Girls;27142', '1988;Boys;30324', '1988;Girls;28520', '1989;Boys;31475', '1989;Girls;29876', '1990;Boys;32620', '1990;Girls;30813', '1991;Boys;33005', '1991;Girls;31353', '1992;Boys;34812', '1992;Girls;32914', '1993;Boys;34609', '1993;Girls;32760', '1994;Boys;35639', '1994;Girls;34027', '1995;Boys;35886', '1995;Girls;33885', '1996;Boys;34819', '1996;Girls;32819', '1997;Boys;34749', '1997;Girls;32899', '1998;Boys;34058', '1998;Girls;32116', '1999;Boys;33879', '1999;Girls;32341', '2000;Boys;34432', '2000;Girls;32652', '2001;Boys;33497', '2001;Girls;31961', '2002;Boys;32966', '2002;Girls;31109', '2003;Boys;33158', '2003;Girls;31441', '2004;Boys;33070', '2004;Girls;31539', '2005;Boys;32823', '2005;Girls;31459', '2006;Boys;33404', '2006;Girls;31580', '2007;Boys;32815', '2007;Girls;31267', '2008;Boys;33531', '2008;Girls;31507', '2009;Boys;32261', '2009;Girls;30557', '2010;Boys;32465', '2010;Girls;30946', '2011;Boys;30014', '2011;Girls;28984', '2012;Boys;29785', '2012;Girls;28131', '2013;Boys;28590', '2013;Girls;27283', '2014;Boys;29254', '2014;Girls;27616', '2015;Boys;29848', '2015;Girls;28357', '2016;Boys;31781', '2016;Girls;29833', '2017;Boys;31467', '2017;Girls;29930', '2018;Boys;31611', '2018;Girls;29865', '2019;Boys;31519', '2019;Girls;29648', '2020;Boys;31175', '2020;Girls;29762', '']\n"
     ]
    }
   ],
   "source": [
    "# EXAMPLE ANSWER\n",
    "import pandas as pd\n",
    "import matplotlib.pyplot as plt \n",
    "import PyDST\n",
    "import seaborn as sns; sns.set_style(\"whitegrid\")\n",
    "import codecs\n",
    "import numpy as np\n",
    "\n",
    "resp = PyDST.get_data('FOD', {'Tid': '*', 'BARNKON': '*'})\n",
    "data_json = codecs.decode(resp.text.encode(), 'utf-8-sig')\n",
    "values_data = data_json[0:]\n",
    "print(values_data)\n",
    "\n",
    "new = values_data.split(sep=\"\\r\\n\")\n",
    "new = new[1:]\n",
    "\n",
    "new\n",
    "for i"
   ]
  },
  {
   "cell_type": "code",
   "execution_count": null,
   "metadata": {},
   "outputs": [],
   "source": [
    "\n",
    "data_reshaped = np.reshape(values_data,(the_var, 2))\n",
    "\n",
    "\n",
    "assert len(data_reshaped) == dataset_dimensions[-1]    #assert that length of dataframe equals number of years \n",
    "\n",
    "#create dataframe \n",
    "df_barnkon = pd.DataFrame(data_reshaped,\n",
    "                          columns = category_labels.values(),\n",
    "                          index=index_labels)\n",
    "\n",
    "\n",
    "#plot data\n",
    "fig, ax = plt.subplots(figsize=(12, 8))\n",
    "ax.set_xticks([i for i in range(len(df_barnkon)) if i%4 == 0])\n",
    "ax.set_xticklabels([l for i, l in enumerate(index_labels) if i%4 == 0],\n",
    "                   rotation = \"vertical\")\n",
    "ax.set_ylabel(\"Number of births\", fontsize = 12)\n",
    "ax.set_title(f\"Number of births for boys and girls in the years {df_barnkon.index[0]}-{df_barnkon.index[-1]}\",\n",
    "             fontsize=15)\n",
    "sns.lineplot(data = df_barnkon, markers=True, palette = ['blue', 'red'])"
   ]
  }
 ],
 "metadata": {
  "kernelspec": {
   "display_name": "Python 3",
   "language": "python",
   "name": "python3"
  },
  "language_info": {
   "codemirror_mode": {
    "name": "ipython",
    "version": 3
   },
   "file_extension": ".py",
   "mimetype": "text/x-python",
   "name": "python",
   "nbconvert_exporter": "python",
   "pygments_lexer": "ipython3",
   "version": "3.8.5"
  },
  "varInspector": {
   "cols": {
    "lenName": 16,
    "lenType": 16,
    "lenVar": 40
   },
   "kernels_config": {
    "python": {
     "delete_cmd_postfix": "",
     "delete_cmd_prefix": "del ",
     "library": "var_list.py",
     "varRefreshCmd": "print(var_dic_list())"
    },
    "r": {
     "delete_cmd_postfix": ") ",
     "delete_cmd_prefix": "rm(",
     "library": "var_list.r",
     "varRefreshCmd": "cat(var_dic_list()) "
    }
   },
   "types_to_exclude": [
    "module",
    "function",
    "builtin_function_or_method",
    "instance",
    "_Feature"
   ],
   "window_display": false
  }
 },
 "nbformat": 4,
 "nbformat_minor": 4
}
