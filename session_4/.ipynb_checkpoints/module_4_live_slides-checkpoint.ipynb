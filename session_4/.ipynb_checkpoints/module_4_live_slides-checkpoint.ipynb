{
 "cells": [
  {
   "cell_type": "markdown",
   "metadata": {
    "slideshow": {
     "slide_type": "slide"
    }
   },
   "source": [
    "# Session 4: Intro to Visualization\n",
    "\n",
    "*Joachim Kahr Rasmussen*"
   ]
  },
  {
   "cell_type": "markdown",
   "metadata": {
    "slideshow": {
     "slide_type": "slide"
    }
   },
   "source": [
    "# Recap (I/II)\n",
    "\n",
    "*Why is it again that pandas has gained so much traction?*\n"
   ]
  },
  {
   "cell_type": "markdown",
   "metadata": {
    "slideshow": {
     "slide_type": "fragment"
    }
   },
   "source": [
    "Many reasons! Clear advantages over standard python and numpy are:\n",
    "- Data representation: Allows naming columns (and rows), making it much easier to navigate in large sets of data\n",
    "- Features and speed: Has lots of features for data analysis that are both *simple* and *fast* to apply\n",
    "- Method chaining: We can write something fairly complicated in just a few lines"
   ]
  },
  {
   "cell_type": "markdown",
   "metadata": {
    "slideshow": {
     "slide_type": "fragment"
    }
   },
   "source": [
    "*What data types do we typically work with?*"
   ]
  },
  {
   "cell_type": "markdown",
   "metadata": {
    "slideshow": {
     "slide_type": "fragment"
    }
   },
   "source": [
    "We have covered five data types:\n",
    "- Boolean data (binary true/false variables): Often used for data selection\n",
    "- Numeric variables in general: Lots of built in methods for analysis (`describe`, `cut` and much, much more)\n",
    "- Strings: Data consisting of *alphanumeric' characters. Many types of operations possible with pandas.\n",
    "- Categorical data: Numeric data that can only take a (often strictly) limited number of values.\n",
    "- Time Series: Data that has an explicit time dimension (a *time stamp* so to say)."
   ]
  },
  {
   "cell_type": "markdown",
   "metadata": {
    "slideshow": {
     "slide_type": "slide"
    }
   },
   "source": [
    "# Recap (II/II)\n",
    "\n",
    "*OK, so I have a collection of data that I want to analyze. How to get my data ready for analysis?*\n"
   ]
  },
  {
   "cell_type": "markdown",
   "metadata": {
    "slideshow": {
     "slide_type": "fragment"
    }
   },
   "source": [
    "If your data comes in different subsets:\n",
    "- Using `merge`: Combining through one or multiple keys\n",
    "- Using `concat` or `join`: Combining though index\n",
    "- Inner joint? Outer join? Left join? Might create missings."
   ]
  },
  {
   "cell_type": "markdown",
   "metadata": {
    "slideshow": {
     "slide_type": "fragment"
    }
   },
   "source": [
    "Think about how to deal with missings or duplicates:\n",
    "- Missings: Should these be dropped (`.dropna()`) or imputed (`.fillna()`)?\n",
    "- Duplicates: What is a duplicate really? And should they be droppend (`.drop_duplicates()`)?"
   ]
  },
  {
   "cell_type": "markdown",
   "metadata": {
    "slideshow": {
     "slide_type": "fragment"
    }
   },
   "source": [
    "Think about whether your data has the right shape:\n",
    "- Wide format or long format? Use `.stack()` or `.unstack()`"
   ]
  },
  {
   "cell_type": "markdown",
   "metadata": {
    "slideshow": {
     "slide_type": "fragment"
    }
   },
   "source": [
    "Create some aggregate results for your data to hold observations up against:\n",
    "- Use *split-apply-combine* to create all kinds of subgroup characteristics (mean, variance, median, etc.)"
   ]
  },
  {
   "cell_type": "markdown",
   "metadata": {
    "slideshow": {
     "slide_type": "slide"
    }
   },
   "source": [
    "# Questions from This Morning\n",
    "\n",
    "I have tried to gather some questions that seemed to address more general issues:\n",
    "- *4432*\n",
    "\n",
    "Other questions?\n"
   ]
  },
  {
   "cell_type": "markdown",
   "metadata": {
    "slideshow": {
     "slide_type": "slide"
    }
   },
   "source": [
    "# Overview of Session 4\n",
    "\n",
    "Today, we will work with how one can do plotting in Python. In particular, we will cover:\n",
    "1. Understanding Plotting (live)\n",
    "    - What are you plotting?\n",
    "    - Why we plot\n",
    "    - Why are you plotting?\n",
    "2. Plotting in Python: Packages and Grammar (live)\n",
    "    - Intro to `matplotlib` and `seaborn`\n",
    "    - The \"Grammar of Graphics\"\n",
    "3. Plotting the Tips Data (video + notebook)\n",
    "    - Plots for one variable (Series)\n",
    "        - Numeric data\n",
    "        - Categorical\n",
    "    - Plots for two or more variables (DataFrame):         \n",
    "        - Numeric data\n",
    "        - Mixed numerica and categorical data\n",
    "    - Advanced exploratory plotting"
   ]
  },
  {
   "cell_type": "markdown",
   "metadata": {
    "slideshow": {
     "slide_type": "slide"
    }
   },
   "source": [
    "# Associated Readings\n",
    "\n",
    "Wickham (2010), sections 1-3\n",
    "- Fundamentals of a plotting\n",
    "- \"Grammar of Graphics\"\n",
    "\n",
    "PDA, chapter 9:\n",
    "- Basic syntax and fundamental concepts with matplotlib\n",
    "- Combining matplotlib with pandas and using seaborn package\n",
    "\n",
    "Moffitt (2017):\n",
    "- Strengths and weaknesses of matplotlib\n",
    "- Intro to `figure` and `axes`\n",
    "- Using functions in order to improve formatting"
   ]
  },
  {
   "cell_type": "markdown",
   "metadata": {
    "slideshow": {
     "slide_type": "slide"
    }
   },
   "source": [
    "# Understanding Plotting"
   ]
  },
  {
   "cell_type": "markdown",
   "metadata": {
    "slideshow": {
     "slide_type": "fragment"
    }
   },
   "source": [
    "*What are we plotting?*"
   ]
  },
  {
   "cell_type": "markdown",
   "metadata": {
    "slideshow": {
     "slide_type": "fragment"
    }
   },
   "source": [
    "In the last sessions, we worked with generating, cleaning and making operations on data using pandas.\n",
    "- When we plot, we essentially want to make a *visual* and *digestable* representation of these data.!"
   ]
  },
  {
   "cell_type": "markdown",
   "metadata": {
    "slideshow": {
     "slide_type": "fragment"
    }
   },
   "source": [
    "*What are some guidelines on making plots in **general**?*"
   ]
  },
  {
   "cell_type": "markdown",
   "metadata": {
    "slideshow": {
     "slide_type": "fragment"
    }
   },
   "source": [
    "Be aware of *what* you plot\n",
    "- numerical vs. non-numeric (categorical)\n",
    "- raw data vs. model results "
   ]
  },
  {
   "cell_type": "markdown",
   "metadata": {
    "slideshow": {
     "slide_type": "slide"
    }
   },
   "source": [
    "## Why We Plot\n",
    "\n",
    "An English adage\n",
    "> A picture is worth a thousand words\n",
    "\n",
    "Is that always the case?\n"
   ]
  },
  {
   "cell_type": "markdown",
   "metadata": {
    "slideshow": {
     "slide_type": "slide"
    }
   },
   "source": [
    "## What Values Do A,B,C and D Have?\n",
    "<center><img src='https://raw.githubusercontent.com/abjer/sds2017/master/slides/figures/excel1.png'></center>"
   ]
  },
  {
   "cell_type": "markdown",
   "metadata": {
    "slideshow": {
     "slide_type": "slide"
    }
   },
   "source": [
    "## The Shocking Answer\n",
    "<center><img src='https://raw.githubusercontent.com/abjer/sds2017/master/slides/figures/excel2.png'></center>\n"
   ]
  },
  {
   "cell_type": "markdown",
   "metadata": {
    "slideshow": {
     "slide_type": "slide"
    }
   },
   "source": [
    "## Why Are You Plotting?\n",
    "*Who's the audience?*"
   ]
  },
  {
   "cell_type": "markdown",
   "metadata": {
    "slideshow": {
     "slide_type": "fragment"
    }
   },
   "source": [
    "You / your team:"
   ]
  },
  {
   "cell_type": "markdown",
   "metadata": {
    "slideshow": {
     "slide_type": "-"
    }
   },
   "source": [
    "- **Exploratory** plots: Figures for understanding data\n",
    "    - Quick to produce $\\sim$ minimal polishing\n",
    "    - Interesting feature may by implied by the producer\n",
    "    - Be careful showing these out of context"
   ]
  },
  {
   "cell_type": "markdown",
   "metadata": {
    "slideshow": {
     "slide_type": "fragment"
    }
   },
   "source": [
    "Others:"
   ]
  },
  {
   "cell_type": "markdown",
   "metadata": {
    "slideshow": {
     "slide_type": "-"
    }
   },
   "source": [
    "- **Explanatory** plots: Figures to convey a message\n",
    "    - Polished figures\n",
    "    - Direct attention to interesting feature in the data\n",
    "    - Minimize risk of misunderstanding"
   ]
  },
  {
   "cell_type": "markdown",
   "metadata": {
    "slideshow": {
     "slide_type": "slide"
    }
   },
   "source": [
    "## How Should You Plot?\n",
    "*What are some tips for making **explanatory** plots in a report?*  ***<font color=\"red\">(Exam relevant!)</font>***"
   ]
  },
  {
   "cell_type": "markdown",
   "metadata": {
    "slideshow": {
     "slide_type": "fragment"
    }
   },
   "source": [
    "- Clear narratives - should convey key point(s)\n",
    "  - If you want to show difference between groups in data make sure it is easy to distinguish them."
   ]
  },
  {
   "cell_type": "markdown",
   "metadata": {
    "slideshow": {
     "slide_type": "fragment"
    }
   },
   "source": [
    "- Self explanatory\n",
    "  - Contain axis label, title, footnotes in text containing relevant information."
   ]
  },
  {
   "cell_type": "markdown",
   "metadata": {
    "slideshow": {
     "slide_type": "fragment"
    }
   },
   "source": [
    "- Nice appereance \n",
    "  - Choose the right plot type.\n",
    "  - Make sure font type, size, colors, line width."
   ]
  },
  {
   "cell_type": "markdown",
   "metadata": {
    "slideshow": {
     "slide_type": "fragment"
    }
   },
   "source": [
    "- Keep simplicity.\n",
    "  - Anything unnecessary should be removed, see [this post](https://www.darkhorseanalytics.com/blog/data-looks-better-naked/)."
   ]
  },
  {
   "cell_type": "markdown",
   "metadata": {
    "slideshow": {
     "slide_type": "fragment"
    }
   },
   "source": [
    "*Some practical advice on making **explanatory** plots?*"
   ]
  },
  {
   "cell_type": "markdown",
   "metadata": {
    "slideshow": {
     "slide_type": "fragment"
    }
   },
   "source": [
    "1. Try out a few plot types, using exploratory analysis - use what works.\n",
    "1. Apply the *layered grammer of graphics*.\n",
    "    - Start with an empty canvas\n",
    "    - Fill the necessary things (axis, ticks, bars/lines, labels)"
   ]
  },
  {
   "cell_type": "markdown",
   "metadata": {
    "slideshow": {
     "slide_type": "slide"
    }
   },
   "source": [
    "<img src=\"https://matplotlib.org/stable/_images/sphx_glr_anatomy_001.png\" alt=\"drawing\" width=\"600\"/>"
   ]
  },
  {
   "cell_type": "markdown",
   "metadata": {
    "slideshow": {
     "slide_type": "slide"
    }
   },
   "source": [
    "# Plotting in Python: Packages and Grammar"
   ]
  },
  {
   "cell_type": "markdown",
   "metadata": {
    "slideshow": {
     "slide_type": "slide"
    }
   },
   "source": [
    "## How Are You Plotting?\n",
    "There are two overall approaches to plotting:\n",
    "\n",
    "- make a fast, decent figure\n",
    "    - iteratively adjust if necessary\n",
    "    - start out in `seaborn` continue to `matplotlib`\n",
    "\n",
    "\n",
    "- from empty canvas to figure\n",
    "    - iteratively add material and layers\n",
    "    - performed in `matplotlib`\n",
    "   "
   ]
  },
  {
   "cell_type": "markdown",
   "metadata": {
    "slideshow": {
     "slide_type": "slide"
    }
   },
   "source": [
    "## Packages for Python Plotting (I/II)\n",
    "*What is the fundamental tool for making plots in Python?*"
   ]
  },
  {
   "cell_type": "markdown",
   "metadata": {
    "slideshow": {
     "slide_type": "fragment"
    }
   },
   "source": [
    "**Matplotlib** is the fundamental plotting module\n",
    "- Can make almost any 2d plot.\n",
    "- Can build publication ready figures.\n",
    "- Caveat: \n",
    "    - requires time consuming customization;\n",
    "    - requires practice."
   ]
  },
  {
   "cell_type": "code",
   "execution_count": 3,
   "metadata": {
    "slideshow": {
     "slide_type": "fragment"
    }
   },
   "outputs": [],
   "source": [
    "import matplotlib.pyplot as plt\n",
    "# allow printing in notebook\n",
    "%matplotlib inline "
   ]
  },
  {
   "cell_type": "markdown",
   "metadata": {
    "slideshow": {
     "slide_type": "slide"
    }
   },
   "source": [
    "## Packages for Python Plotting (II/II)\n",
    "*What are good tools for fast, exploratory plots?*"
   ]
  },
  {
   "cell_type": "markdown",
   "metadata": {
    "slideshow": {
     "slide_type": "fragment"
    }
   },
   "source": [
    "`seaborn` has built-in capabilities to make plots\n",
    "- Analyzing data, e.g. splitting by subsets\n",
    "- Make interpolation of data to smooth out noise.\n",
    "\n",
    "`pandas` can easily convert Series and DataFrames to plots"
   ]
  }
 ],
 "metadata": {
  "celltoolbar": "Slideshow",
  "kernelspec": {
   "display_name": "Python 3",
   "language": "python",
   "name": "python3"
  },
  "language_info": {
   "codemirror_mode": {
    "name": "ipython",
    "version": 3
   },
   "file_extension": ".py",
   "mimetype": "text/x-python",
   "name": "python",
   "nbconvert_exporter": "python",
   "pygments_lexer": "ipython3",
   "version": "3.8.5"
  }
 },
 "nbformat": 4,
 "nbformat_minor": 4
}
