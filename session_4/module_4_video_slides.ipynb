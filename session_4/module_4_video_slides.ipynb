{
 "cells": [
  {
   "cell_type": "markdown",
   "metadata": {
    "slideshow": {
     "slide_type": "slide"
    }
   },
   "source": [
    "# Loading stuff"
   ]
  },
  {
   "cell_type": "code",
   "execution_count": 1,
   "metadata": {},
   "outputs": [],
   "source": [
    "# Loading libraries\n",
    "import numpy as np\n",
    "import pandas as pd # For data structuring\n",
    "import matplotlib.pyplot as plt # For plotting\n",
    "import seaborn as sns # Add-on toolkit for plt"
   ]
  },
  {
   "cell_type": "code",
   "execution_count": 2,
   "metadata": {},
   "outputs": [],
   "source": [
    "# Loading data\n",
    "tips = sns.load_dataset('tips')\n",
    "tb = tips['total_bill']\n",
    "\n",
    "# Ignore some annoying warnings\n",
    "import warnings\n",
    "warnings.filterwarnings('ignore')"
   ]
  },
  {
   "cell_type": "markdown",
   "metadata": {
    "slideshow": {
     "slide_type": "slide"
    }
   },
   "source": [
    "# VIDEO 1: The Grammar of Graphics"
   ]
  },
  {
   "cell_type": "markdown",
   "metadata": {
    "slideshow": {
     "slide_type": "slide"
    }
   },
   "source": [
    "## Matplotlib and the Grammar of Graphics (I/IV)\n",
    "*Where do I start when making a plot?*"
   ]
  },
  {
   "cell_type": "markdown",
   "metadata": {
    "slideshow": {
     "slide_type": "fragment"
    }
   },
   "source": [
    "We will begin with the fundamental and flexible way. We start with our plotting canvas."
   ]
  },
  {
   "cell_type": "code",
   "execution_count": 6,
   "metadata": {
    "slideshow": {
     "slide_type": "-"
    }
   },
   "outputs": [
    {
     "data": {
      "image/png": "[encoded data removed]",
      "text/plain": [
       "<Figure size 700x300 with 1 Axes>"
      ]
     },
     "metadata": {},
     "output_type": "display_data"
    }
   ],
   "source": [
    "fig, ax = plt.subplots(figsize = (7, 3)) # create placeholder for plot"
   ]
  },
  {
   "cell_type": "markdown",
   "metadata": {
    "slideshow": {
     "slide_type": "-"
    }
   },
   "source": [
    "`fig` and `ax` are interrelated, but it is important to distinguish the two from each other:\n",
    "- `ax` contains most of the chart content as objects: \n",
    "    -  grid axes, labels, shapes we draw etc.\n",
    "- `fig` the actual plot which is displayed (export to pdf etc.)"
   ]
  },
  {
   "cell_type": "markdown",
   "metadata": {
    "slideshow": {
     "slide_type": "slide"
    }
   },
   "source": [
    "## Matplotlib and the Grammar of Graphics (II/IV)\n",
    "*Is there a way to change the fundamental style of the plot?*"
   ]
  },
  {
   "cell_type": "markdown",
   "metadata": {
    "slideshow": {
     "slide_type": "fragment"
    }
   },
   "source": [
    "Yes, you can set a plotting style. Usually, however, you will not set this explicitly. There are lots of styles..."
   ]
  },
  {
   "cell_type": "code",
   "execution_count": 7,
   "metadata": {
    "slideshow": {
     "slide_type": "-"
    }
   },
   "outputs": [
    {
     "name": "stdout",
     "output_type": "stream",
     "text": [
      "['Solarize_Light2', '_classic_test_patch', 'bmh', 'bright', 'classic', 'dark_background', 'fast', 'fivethirtyeight', 'ggplot', 'grayscale', 'grid', 'high-contrast', 'high-vis', 'ieee', 'light', 'muted', 'no-latex', 'notebook', 'pgf', 'retro', 'scatter', 'science', 'seaborn', 'seaborn-bright', 'seaborn-colorblind', 'seaborn-dark', 'seaborn-dark-palette', 'seaborn-darkgrid', 'seaborn-deep', 'seaborn-muted', 'seaborn-notebook', 'seaborn-paper', 'seaborn-pastel', 'seaborn-poster', 'seaborn-talk', 'seaborn-ticks', 'seaborn-white', 'seaborn-whitegrid', 'std-colors', 'tableau-colorblind10', 'vibrant']\n"
     ]
    }
   ],
   "source": [
    "print(plt.style.available)"
   ]
  },
  {
   "cell_type": "markdown",
   "metadata": {
    "slideshow": {
     "slide_type": "fragment"
    }
   },
   "source": [
    "Can recomment `ggplot` or simply `default` as tyles."
   ]
  },
  {
   "cell_type": "markdown",
   "metadata": {
    "slideshow": {
     "slide_type": "slide"
    }
   },
   "source": [
    "## Matplotlib and the Grammar of Graphics (III/IV)\n",
    "*Are there any other defaults, that can be changed?*"
   ]
  },
  {
   "cell_type": "markdown",
   "metadata": {
    "slideshow": {
     "slide_type": "fragment"
    }
   },
   "source": [
    "A lot. With `plt.rc()`, we can change all sorts of default plotting styles. Consider the following:"
   ]
  },
  {
   "cell_type": "code",
   "execution_count": 8,
   "metadata": {
    "slideshow": {
     "slide_type": "-"
    }
   },
   "outputs": [],
   "source": [
    "plt.style.use('default') # set style (colors, background, size, gridlines etc.) # ggplot, default\n",
    "\n",
    "plt.rc('figure', figsize=(6, 3)) # set default size of plots\n",
    "\n",
    "font_options = {'family' : 'monospace', # define default font options\n",
    "                'weight' : 'bold',\n",
    "                'size'   : 12}\n",
    "\n",
    "plt.rc('font', **font_options) # set default font options"
   ]
  },
  {
   "cell_type": "markdown",
   "metadata": {
    "slideshow": {
     "slide_type": "slide"
    }
   },
   "source": [
    "## Matplotlib and the Grammar of Graphics (IV/IV)\n",
    "*Now, let's take a look at our canvas*"
   ]
  },
  {
   "cell_type": "code",
   "execution_count": 9,
   "metadata": {
    "scrolled": true,
    "slideshow": {
     "slide_type": "-"
    }
   },
   "outputs": [
    {
     "data": {
      "image/png": "[encoded data removed]",
      "text/plain": [
       "<Figure size 600x300 with 1 Axes>"
      ]
     },
     "metadata": {},
     "output_type": "display_data"
    }
   ],
   "source": [
    "fig, ax = plt.subplots() # recreate placeholder for plot"
   ]
  },
  {
   "cell_type": "markdown",
   "metadata": {
    "slideshow": {
     "slide_type": "slide"
    }
   },
   "source": [
    "## Plotting Something on Our Canvas (I/III)\n",
    "\n",
    "Now, we want to plot something on our canvas! Luckily, Seaborn comes with some illustrative datasets. \n",
    "\n",
    "We load `tips` and explore it a bit..."
   ]
  },
  {
   "cell_type": "code",
   "execution_count": null,
   "metadata": {
    "scrolled": true,
    "slideshow": {
     "slide_type": "-"
    }
   },
   "outputs": [],
   "source": [
    "tips = sns.load_dataset('tips')\n",
    "print('Number of rows:',len(tips),'\\n')\n",
    "print(tips.head(5))"
   ]
  },
  {
   "cell_type": "markdown",
   "metadata": {
    "slideshow": {
     "slide_type": "slide"
    }
   },
   "source": [
    "## Plotting Something on Our Canvas (II/III)\n",
    "We will now draw plots of the tips data on the canvas. Let's plot the *numeric* variable `total_bill`:"
   ]
  },
  {
   "cell_type": "code",
   "execution_count": null,
   "metadata": {
    "slideshow": {
     "slide_type": "-"
    }
   },
   "outputs": [],
   "source": [
    "tb = tips['total_bill']\n",
    "\n",
    "fig, ax = plt.subplots()\n",
    "ax.hist(tb)\n",
    "ax.plot()"
   ]
  },
  {
   "cell_type": "markdown",
   "metadata": {
    "slideshow": {
     "slide_type": "slide"
    }
   },
   "source": [
    "## Plotting Something on Our Canvas (III/III)\n",
    "Let's make some additional variable-specific customization and display:"
   ]
  },
  {
   "cell_type": "code",
   "execution_count": 10,
   "metadata": {
    "slideshow": {
     "slide_type": "-"
    }
   },
   "outputs": [
    {
     "data": {
      "text/plain": [
       "[]"
      ]
     },
     "execution_count": 10,
     "metadata": {},
     "output_type": "execute_result"
    },
    {
     "data": {
      "image/png": "[encoded data removed]",
      "text/plain": [
       "<Figure size 600x300 with 1 Axes>"
      ]
     },
     "metadata": {},
     "output_type": "display_data"
    }
   ],
   "source": [
    "props = {\n",
    "    'title': 'Distribution of bill size',\n",
    "    'xlabel': 'Total bill ($)',\n",
    "    'ylabel': 'Count',\n",
    "    'xlim': [0, 60]\n",
    "}\n",
    "\n",
    "fig, ax = plt.subplots()\n",
    "ax.set(**props)\n",
    "ax.hist(tb)\n",
    "\n",
    "ax.plot()"
   ]
  },
  {
   "cell_type": "markdown",
   "metadata": {
    "slideshow": {
     "slide_type": "slide"
    }
   },
   "source": [
    "# VIDEO 2: Plotting One Variable"
   ]
  },
  {
   "cell_type": "markdown",
   "metadata": {
    "slideshow": {
     "slide_type": "slide"
    }
   },
   "source": [
    "## The Kernel Density Plot (I/IV)\n",
    "Let's now try with Seaborn and no customization:"
   ]
  },
  {
   "cell_type": "code",
   "execution_count": 11,
   "metadata": {
    "slideshow": {
     "slide_type": "-"
    }
   },
   "outputs": [
    {
     "data": {
      "text/plain": [
       "<AxesSubplot:xlabel='total_bill', ylabel='Density'>"
      ]
     },
     "execution_count": 11,
     "metadata": {},
     "output_type": "execute_result"
    },
    {
     "data": {
      "image/png": "[encoded data removed]",
      "text/plain": [
       "<Figure size 600x300 with 1 Axes>"
      ]
     },
     "metadata": {},
     "output_type": "display_data"
    }
   ],
   "source": [
    "sns.distplot(tb,hist=True)"
   ]
  },
  {
   "cell_type": "markdown",
   "metadata": {
    "slideshow": {
     "slide_type": "slide"
    }
   },
   "source": [
    "## The Kernel Density Plot (II/IV)\n",
    "Quite useful, right? Let's customize this a bit too..."
   ]
  },
  {
   "cell_type": "code",
   "execution_count": 12,
   "metadata": {
    "slideshow": {
     "slide_type": "-"
    }
   },
   "outputs": [
    {
     "data": {
      "image/png": "[encoded data removed]",
      "text/plain": [
       "<Figure size 600x300 with 1 Axes>"
      ]
     },
     "metadata": {},
     "output_type": "display_data"
    }
   ],
   "source": [
    "ax = sns.distplot(tb,hist=True)\n",
    "ax.set(xlabel='Total bill ($)')\n",
    "sns.despine()"
   ]
  },
  {
   "cell_type": "markdown",
   "metadata": {
    "slideshow": {
     "slide_type": "slide"
    }
   },
   "source": [
    "## The Kernel Density Plot (III/IV)\n",
    "We can also easily plot the cumulative distribution. Customization..."
   ]
  },
  {
   "cell_type": "code",
   "execution_count": 13,
   "metadata": {
    "slideshow": {
     "slide_type": "-"
    }
   },
   "outputs": [
    {
     "data": {
      "image/png": "[encoded data removed]",
      "text/plain": [
       "<Figure size 600x300 with 1 Axes>"
      ]
     },
     "metadata": {},
     "output_type": "display_data"
    }
   ],
   "source": [
    "ax = sns.distplot(tb, hist_kws={'cumulative': True}, kde_kws={'cumulative': True}) \n",
    "ax.set(xlabel='Total bill ($)', ylabel='Cumulative density')\n",
    "sns.despine()"
   ]
  },
  {
   "cell_type": "markdown",
   "metadata": {
    "slideshow": {
     "slide_type": "slide"
    }
   },
   "source": [
    "## The Kernel Density Plot (IV/IV)\n",
    "There are still many things that we can play around with such as...\n",
    "- Thickness?\n",
    "- Color? \n",
    "- Showing raw data? \n",
    "- Make KDE plot by subgroups? (exercise)\n",
    "\n",
    "Try and play around with this when you have time!"
   ]
  },
  {
   "cell_type": "markdown",
   "metadata": {
    "slideshow": {
     "slide_type": "slide"
    }
   },
   "source": [
    "## Plotting One Categorical Variable (I/II)\n",
    "\n",
    "Before, we plotted the *distribution* of a *numeric* variable."
   ]
  },
  {
   "cell_type": "markdown",
   "metadata": {
    "slideshow": {
     "slide_type": "fragment"
    }
   },
   "source": [
    "Suppose we have data on gender. What does the distribution look like in the data?\n",
    "\n",
    "Pie chart? Unfortunately, not possible with Seaborn..."
   ]
  },
  {
   "cell_type": "code",
   "execution_count": 14,
   "metadata": {
    "slideshow": {
     "slide_type": "-"
    }
   },
   "outputs": [
    {
     "data": {
      "text/plain": [
       "<AxesSubplot:xlabel='time', ylabel='count'>"
      ]
     },
     "execution_count": 14,
     "metadata": {},
     "output_type": "execute_result"
    },
    {
     "data": {
      "image/png": "[encoded data removed]",
      "text/plain": [
       "<Figure size 600x300 with 1 Axes>"
      ]
     },
     "metadata": {},
     "output_type": "display_data"
    }
   ],
   "source": [
    "sns.countplot(x='time', data=tips)"
   ]
  },
  {
   "cell_type": "markdown",
   "metadata": {
    "slideshow": {
     "slide_type": "slide"
    }
   },
   "source": [
    "## Plotting One Categorical Variable (II/II)\n",
    "\n",
    "That was not very informative. You might as well just present the actual numbers.\n",
    "\n",
    "Luckily, this works for `matplotlib`:"
   ]
  },
  {
   "cell_type": "code",
   "execution_count": 15,
   "metadata": {
    "scrolled": true,
    "slideshow": {
     "slide_type": "-"
    }
   },
   "outputs": [
    {
     "data": {
      "image/png": "[encoded data removed]",
      "text/plain": [
       "<Figure size 600x300 with 1 Axes>"
      ]
     },
     "metadata": {},
     "output_type": "display_data"
    }
   ],
   "source": [
    "sizes =  tips.groupby('sex')['sex'].count() # Get size of different groups\n",
    "\n",
    "fig, ax = plt.subplots()\n",
    "ax.pie(sizes, labels=['Male', 'Female'], autopct='%1.2f%%')  # Make pie representation\n",
    "plt.show()"
   ]
  },
  {
   "cell_type": "markdown",
   "metadata": {
    "slideshow": {
     "slide_type": "slide"
    }
   },
   "source": [
    "## Wrapping Up on One Variable\n",
    "\n",
    "How did our tools perform? \n",
    "\n",
    "- Matplotlib is good for customization (explanatory plots)\n",
    "- Seaborn and Pandas are good quick and dirty plots (exploratory)\n",
    "\n",
    "Certain things are cumbersome in one package and straighforward in another!"
   ]
  },
  {
   "cell_type": "markdown",
   "metadata": {
    "slideshow": {
     "slide_type": "slide"
    }
   },
   "source": [
    "# VIDEO 3: Plotting Multiple Variables"
   ]
  },
  {
   "cell_type": "markdown",
   "metadata": {
    "slideshow": {
     "slide_type": "slide"
    }
   },
   "source": [
    "## Two Numeric Variables (I/IX)\n",
    "*Now, how do we plot two numeric variables?*"
   ]
  },
  {
   "cell_type": "markdown",
   "metadata": {
    "slideshow": {
     "slide_type": "fragment"
    }
   },
   "source": [
    "If we do not have too many observations, we can make a point cloud, i.e. a scatter plot."
   ]
  },
  {
   "cell_type": "code",
   "execution_count": null,
   "metadata": {
    "scrolled": false,
    "slideshow": {
     "slide_type": "-"
    }
   },
   "outputs": [],
   "source": [
    "fig, ax = plt.subplots(figsize=(10, 3))\n",
    "ax.scatter(x=tips['total_bill'], y=tips['tip'])\n",
    "ax.set(xlabel='Total bill ($)', ylabel='Tips ($)')"
   ]
  },
  {
   "cell_type": "markdown",
   "metadata": {
    "slideshow": {
     "slide_type": "slide"
    }
   },
   "source": [
    "## Two Numeric Variables (III/IX)\n",
    "*What happens if we do have 'too' many observations?*"
   ]
  },
  {
   "cell_type": "markdown",
   "metadata": {
    "slideshow": {
     "slide_type": "fragment"
    }
   },
   "source": [
    "Simulate some data..."
   ]
  },
  {
   "cell_type": "code",
   "execution_count": null,
   "metadata": {
    "scrolled": true,
    "slideshow": {
     "slide_type": "-"
    }
   },
   "outputs": [],
   "source": [
    "X = np.random.normal(0, 1, size=(2*10**4, 1))\n",
    "Y = 2*X+0.5*np.random.normal(0, 1, size=(2*10**4, 1))\n",
    "\n",
    "data = np.concatenate((Y,X),axis=1)\n",
    "df= pd.DataFrame(data, columns=['Y','X'])"
   ]
  },
  {
   "cell_type": "markdown",
   "metadata": {
    "slideshow": {
     "slide_type": "slide"
    }
   },
   "source": [
    "## Two Numeric Variables (IV/IX)\n",
    "... and display!"
   ]
  },
  {
   "cell_type": "code",
   "execution_count": null,
   "metadata": {
    "scrolled": true,
    "slideshow": {
     "slide_type": "-"
    }
   },
   "outputs": [],
   "source": [
    "fig, axes = plt.subplots(2, 2, sharex=True, sharey=True)\n",
    "sizes=0\n",
    "for i in range(0,2):\n",
    "    for j in range(0,2):\n",
    "        sizes=sizes+1\n",
    "        axes[i, j].scatter(x=df['X'][:2*10**sizes], y=df['Y'][:2*10**sizes])\n",
    "plt.subplots_adjust(wspace=0.05, hspace=0.15)"
   ]
  },
  {
   "cell_type": "markdown",
   "metadata": {
    "slideshow": {
     "slide_type": "slide"
    }
   },
   "source": [
    "## Two Numeric Variables (V/IX)\n",
    "\n",
    "If you insist on making a scatter plot, you can change the size of the scatters..."
   ]
  },
  {
   "cell_type": "code",
   "execution_count": null,
   "metadata": {
    "slideshow": {
     "slide_type": "-"
    }
   },
   "outputs": [],
   "source": [
    "fig, axes = plt.subplots(2, 2, sharex=True, sharey=True)\n",
    "sizes=0\n",
    "for i in range(0,2):\n",
    "    for j in range(0,2):\n",
    "        sizes=sizes+1\n",
    "        axes[i, j].scatter(x=df['X'][:2*10**sizes], y=df['Y'][:2*10**sizes], s=10**1.5/(10**(sizes-1)))\n",
    "plt.subplots_adjust(wspace=0.05, hspace=0.15)"
   ]
  },
  {
   "cell_type": "markdown",
   "metadata": {
    "slideshow": {
     "slide_type": "slide"
    }
   },
   "source": [
    "## Two Numeric Variables (VI/IX)\n",
    "\n",
    "And you can also tweek the opacity:"
   ]
  },
  {
   "cell_type": "code",
   "execution_count": null,
   "metadata": {
    "scrolled": true,
    "slideshow": {
     "slide_type": "-"
    }
   },
   "outputs": [],
   "source": [
    "fig, axes = plt.subplots(2, 2, sharex=True, sharey=True)\n",
    "sizes=0\n",
    "for i in range(0,2):\n",
    "    for j in range(0,2):\n",
    "        sizes=sizes+1\n",
    "        axes[i, j].scatter(x=df['X'][:2*10**sizes], y=df['Y'][:2*10**sizes],\n",
    "                           s=10**1.5/(10**(sizes-1)), alpha=0.2**((sizes-1)/2))\n",
    "plt.subplots_adjust(wspace=0.05, hspace=0.15)"
   ]
  },
  {
   "cell_type": "markdown",
   "metadata": {
    "slideshow": {
     "slide_type": "slide"
    }
   },
   "source": [
    "## Two numeric variables (VII/IX)\n",
    "*How might we alter the scatter plot?*"
   ]
  },
  {
   "cell_type": "markdown",
   "metadata": {
    "slideshow": {
     "slide_type": "fragment"
    }
   },
   "source": [
    "We can interpolate the data and jointly plot the marginal and joint distribution:"
   ]
  },
  {
   "cell_type": "code",
   "execution_count": null,
   "metadata": {
    "scrolled": false,
    "slideshow": {
     "slide_type": "-"
    }
   },
   "outputs": [],
   "source": [
    "ax = sns.jointplot(x='total_bill', y='tip', data=tips, kind='kde', size=4) # hex, reg, resid\n",
    "ax.set_axis_labels('Total bill ($)', 'Tips ($)')"
   ]
  },
  {
   "cell_type": "markdown",
   "metadata": {
    "slideshow": {
     "slide_type": "slide"
    }
   },
   "source": [
    "## Two numeric variables (VIII/IX)\n",
    "In spite being fairly slow, this can be particularly useful with moderately large data sets:"
   ]
  },
  {
   "cell_type": "code",
   "execution_count": null,
   "metadata": {
    "scrolled": false,
    "slideshow": {
     "slide_type": "-"
    }
   },
   "outputs": [],
   "source": [
    "sizes=4\n",
    "sns.jointplot(x=df['X'][:2*10**sizes], y=df['Y'][:2*10**sizes], kind='kde', size=4) # hex"
   ]
  },
  {
   "cell_type": "markdown",
   "metadata": {
    "slideshow": {
     "slide_type": "slide"
    }
   },
   "source": [
    "## Two numeric variables (IX/IX)\n",
    "*What if we want to see the linear relationship?*"
   ]
  },
  {
   "cell_type": "markdown",
   "metadata": {
    "slideshow": {
     "slide_type": "fragment"
    }
   },
   "source": [
    "We use the linear model plot:"
   ]
  },
  {
   "cell_type": "code",
   "execution_count": null,
   "metadata": {
    "slideshow": {
     "slide_type": "-"
    }
   },
   "outputs": [],
   "source": [
    "ax = sns.lmplot(x='total_bill', y='tip', data=tips, size=3, aspect=2.5) \n",
    "ax.set(xlabel='Total bill ($)', ylabel='Tips ($)')"
   ]
  },
  {
   "cell_type": "markdown",
   "metadata": {
    "slideshow": {
     "slide_type": "slide"
    }
   },
   "source": [
    "## Mixed: Categorical and Numeric Variables (I/VI)\n",
    "\n",
    "*How might we use categorical variables?*"
   ]
  },
  {
   "cell_type": "markdown",
   "metadata": {
    "slideshow": {
     "slide_type": "fragment"
    }
   },
   "source": [
    "- We can split data and make plots based on subsets of data!"
   ]
  },
  {
   "cell_type": "markdown",
   "metadata": {
    "slideshow": {
     "slide_type": "slide"
    }
   },
   "source": [
    "## Mixed: Categorical and Numeric Variables (II/VI)\n",
    "\n",
    "*Can we say anything about gender-specific tipping behavior?*"
   ]
  },
  {
   "cell_type": "markdown",
   "metadata": {
    "slideshow": {
     "slide_type": "fragment"
    }
   },
   "source": [
    "- One simple way of getting an idea of the core traits of your data is to use the `catplot`"
   ]
  },
  {
   "cell_type": "code",
   "execution_count": null,
   "metadata": {
    "slideshow": {
     "slide_type": "-"
    }
   },
   "outputs": [],
   "source": [
    "ax = sns.catplot(x=\"sex\", y=\"tip\", kind=\"swarm\", data=tips, size=3)\n",
    "ax.set(xlabel='Sex', ylabel='Tips ($)')"
   ]
  },
  {
   "cell_type": "markdown",
   "metadata": {
    "slideshow": {
     "slide_type": "slide"
    }
   },
   "source": [
    "## Mixed: Categorical and Numeric Variables (III/VI)\n",
    "\n",
    "We can add a third dimension to this..."
   ]
  },
  {
   "cell_type": "code",
   "execution_count": null,
   "metadata": {
    "slideshow": {
     "slide_type": "-"
    }
   },
   "outputs": [],
   "source": [
    "ax = sns.catplot(x=\"sex\", y=\"tip\", hue=\"time\", kind=\"swarm\", data=tips, size=3)\n",
    "ax.set(xlabel='Sex', ylabel='Tips ($)')"
   ]
  },
  {
   "cell_type": "markdown",
   "metadata": {
    "slideshow": {
     "slide_type": "slide"
    }
   },
   "source": [
    "## Mixed: Categorical and Numeric Variables (IV/VI)\n",
    "\n",
    "And even utilize a kernel to smooth the (conditional) distributions!"
   ]
  },
  {
   "cell_type": "code",
   "execution_count": null,
   "metadata": {
    "scrolled": true,
    "slideshow": {
     "slide_type": "-"
    }
   },
   "outputs": [],
   "source": [
    "ax = sns.violinplot(x='time', y='tip', data=tips, hue='sex')\n",
    "ax.set(xlabel='Time', ylabel='Tips ($)')"
   ]
  },
  {
   "cell_type": "markdown",
   "metadata": {
    "slideshow": {
     "slide_type": "slide"
    }
   },
   "source": [
    "## Mixed: Categorical and Numeric Variables (V/VI)\n",
    "\n",
    "We can also directly assess whether the mean tipping behavior is different conditional on tipping"
   ]
  },
  {
   "cell_type": "code",
   "execution_count": null,
   "metadata": {
    "scrolled": true,
    "slideshow": {
     "slide_type": "-"
    }
   },
   "outputs": [],
   "source": [
    "ax = sns.barplot(x='time', y='tip',  data=tips, hue='sex') \n",
    "ax.set(xlabel='Time', ylabel='Tips ($)')"
   ]
  },
  {
   "cell_type": "markdown",
   "metadata": {
    "slideshow": {
     "slide_type": "slide"
    }
   },
   "source": [
    "## Mixed: Categorical and Numeric Variables (VI/VI)\n",
    "\n",
    "Now, combining two continuous variables with one categorical"
   ]
  },
  {
   "cell_type": "code",
   "execution_count": null,
   "metadata": {
    "slideshow": {
     "slide_type": "-"
    }
   },
   "outputs": [],
   "source": [
    "ax = sns.lmplot('total_bill', 'tip', hue='sex', data=tips, size=3)\n",
    "ax.set(xlabel='Total Bill ($)', ylabel='Tips ($)')"
   ]
  },
  {
   "cell_type": "markdown",
   "metadata": {
    "slideshow": {
     "slide_type": "slide"
    }
   },
   "source": [
    "## Advanced exploratory plotting \n",
    "\n",
    "*How can we plot the relationship for more than two numeric variables?*"
   ]
  },
  {
   "cell_type": "code",
   "execution_count": null,
   "metadata": {
    "scrolled": false,
    "slideshow": {
     "slide_type": "-"
    }
   },
   "outputs": [],
   "source": [
    "sns.pairplot(tips, height=2.3, size=1.4) # make hist and scatter for all"
   ]
  }
 ],
 "metadata": {
  "celltoolbar": "Slideshow",
  "kernelspec": {
   "display_name": "Python 3",
   "language": "python",
   "name": "python3"
  },
  "language_info": {
   "codemirror_mode": {
    "name": "ipython",
    "version": 3
   },
   "file_extension": ".py",
   "mimetype": "text/x-python",
   "name": "python",
   "nbconvert_exporter": "python",
   "pygments_lexer": "ipython3",
   "version": "3.8.5"
  }
 },
 "nbformat": 4,
 "nbformat_minor": 4
}
