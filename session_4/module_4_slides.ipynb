{
 "cells": [
  {
   "cell_type": "markdown",
   "metadata": {
    "slideshow": {
     "slide_type": "slide"
    }
   },
   "source": [
    "# Session 3 Recap\n",
    "\n",
    "*Joachim Kahr Rasmussen*"
   ]
  },
  {
   "cell_type": "markdown",
   "metadata": {
    "slideshow": {
     "slide_type": "slide"
    }
   },
   "source": [
    "## Recap (I/II) \n",
    "\n",
    "We can think of there as being two 'types' of plots:\n",
    "- **Exploratory** plots: Figures for understanding data\n",
    "    - Quick to produce $\\sim$ minimal polishing\n",
    "    - Interesting feature may by implied by the producer\n",
    "    - Be careful showing these out of context\n",
    "- **Explanatory** plots: Figures to convey a message\n",
    "    - Polished figures\n",
    "    - Direct attention to interesting feature in the data\n",
    "    - Minimize risk of misunderstanding"
   ]
  },
  {
   "cell_type": "markdown",
   "metadata": {
    "slideshow": {
     "slide_type": "fragment"
    }
   },
   "source": [
    "There exist several packages for plotting. "
   ]
  },
  {
   "cell_type": "markdown",
   "metadata": {
    "slideshow": {
     "slide_type": "fragment"
    }
   },
   "source": [
    "Some popular ones:\n",
    "- `Matplotlib` is good for customization (explanatory plots)\n",
    "    - Might take a lot of time when customizing!\n",
    "- `Seaborn` and `Pandas` are good quick and dirty plots (exploratory)"
   ]
  },
  {
   "cell_type": "markdown",
   "metadata": {
    "slideshow": {
     "slide_type": "slide"
    }
   },
   "source": [
    "## Recap (II/II) \n",
    "\n",
    "We need to put a lot of thinking in how to present data.\n",
    "\n",
    "In particular, one must consider the *type* of data that is to be presented:"
   ]
  },
  {
   "cell_type": "markdown",
   "metadata": {
    "slideshow": {
     "slide_type": "fragment"
    }
   },
   "source": [
    "- One variable:\n",
    "    - Categorical: Pie charts, simple counts, etc.\n",
    "    - Numeric: Histograms, distplot (/cumulative) in seaborn\n"
   ]
  },
  {
   "cell_type": "markdown",
   "metadata": {
    "slideshow": {
     "slide_type": "fragment"
    }
   },
   "source": [
    "- Multiple variables:\n",
    "    - `scatter` (matplotlib) or `jointplot` (seaborn) for (i) simple descriptives when (ii) both variables are numeric and (iii) there are not too many observations\n",
    "    - `lmplot` (seaborn) when you also want to fit a linear model\n",
    "    - `barplot` (matplotlib), `catplot` and `violinplot` (both seaborn) when one or more variables are categorical\n",
    "    - the option `hue` allows you to add a \"third\" categorical dimension... use with care\n",
    "    - Lots of other plot types and options. Go explore yourself!"
   ]
  },
  {
   "cell_type": "markdown",
   "metadata": {
    "slideshow": {
     "slide_type": "fragment"
    }
   },
   "source": [
    "- When you just want to explore: `pairplot` (seaborn) plots all pairwise correlations"
   ]
  },
  {
   "cell_type": "markdown",
   "metadata": {
    "slideshow": {
     "slide_type": "slide"
    }
   },
   "source": [
    "## Questions?\n",
    "\n",
    "<center><img src='https://media.giphy.com/media/moX4lN4FYlre4eyuVd/giphy.gif' alt=\"Drawing\" style=\"width: 400px;\"/></center>"
   ]
  },
  {
   "cell_type": "markdown",
   "metadata": {
    "slideshow": {
     "slide_type": "slide"
    }
   },
   "source": [
    "# Session 4: Data structuring I\n",
    "\n",
    "### The Pandas way\n",
    "\n",
    "*Joachim Kahr Rasmussen*"
   ]
  },
  {
   "cell_type": "markdown",
   "metadata": {
    "slideshow": {
     "slide_type": "slide"
    }
   },
   "source": [
    "# Small groups\n",
    "\n",
    "Are you 1 or 2 pax in your group > come to me in break.\n"
   ]
  },
  {
   "cell_type": "markdown",
   "metadata": {
    "slideshow": {
     "slide_type": "slide"
    }
   },
   "source": [
    "## Overview of Session\n",
    "\n",
    "Today, we will work with `pandas` and how to structure your data. In particular, we will cover:\n",
    "1. Why we structure data\n",
    "2. Overview of Numpy and Panders\n",
    "3. The Pandas Series\n",
    "    - Working with series and numeric procedures\n",
    "    - The special case of boolean series\n",
    "4. More tools:\n",
    "    - Inpecting and selecting observations\n",
    "    - Modifying dataframes\n",
    "    - Dataframe IO: Loading and storing"
   ]
  },
  {
   "cell_type": "markdown",
   "metadata": {
    "slideshow": {
     "slide_type": "slide"
    }
   },
   "source": [
    "## Associated Readings\n",
    "\n",
    "PDA, chapter 7:\n",
    "- Handling missing data\n",
    "- Data transformations: \n",
    "    - Duplicates \n",
    "    - Mapping\n",
    "    - Replacing\n",
    "    - Renaming axes\n",
    "    - Binning\n",
    "    - Filtering outliers\n",
    "    - Dummies\n",
    "- String manipulations\n",
    "\n",
    "PDA, sections 11.1-11.2:\n",
    "- Dates and time in Python\n",
    "- Working with time series in pandas (time as index)\n",
    "\n",
    "PDA, sections 12.1, 12.3:\n",
    "- Working with categorical data in pandas\n",
    "- Method chaining\n",
    "\n",
    "PML, chapter 4, section 'Handling categorical data':\n",
    "- Encoding class labels with `LabelEncoder`\n",
    "- One-hot encoding"
   ]
  },
  {
   "cell_type": "markdown",
   "metadata": {
    "slideshow": {
     "slide_type": "slide"
    }
   },
   "source": [
    "## Loading Stuff"
   ]
  },
  {
   "cell_type": "code",
   "execution_count": 1,
   "metadata": {
    "slideshow": {
     "slide_type": "skip"
    }
   },
   "outputs": [],
   "source": [
    "# Loading packages\n",
    "import matplotlib.pyplot as plt\n",
    "import numpy as np\n",
    "import pandas as pd\n",
    "import requests\n",
    "import seaborn as sns\n",
    "\n",
    "# Plotting style\n",
    "plt.style.use('ggplot')\n",
    "%matplotlib inline\n",
    "\n",
    "# Adjusting plotting defaults\n",
    "SMALL_SIZE = 16\n",
    "MEDIUM_SIZE = 18\n",
    "BIGGER_SIZE = 20\n",
    "\n",
    "plt.rc('font', size=SMALL_SIZE)          # controls default text sizes\n",
    "plt.rc('axes', titlesize=SMALL_SIZE)     # fontsize of the axes title\n",
    "plt.rc('axes', labelsize=MEDIUM_SIZE)    # fontsize of the x and y labels\n",
    "plt.rc('xtick', labelsize=SMALL_SIZE)    # fontsize of the tick labels\n",
    "plt.rc('ytick', labelsize=SMALL_SIZE)    # fontsize of the tick labels\n",
    "plt.rc('legend', fontsize=SMALL_SIZE)    # legend fontsize\n",
    "plt.rc('figure', titlesize=BIGGER_SIZE)  # fontsize of the figure title"
   ]
  },
  {
   "cell_type": "markdown",
   "metadata": {
    "slideshow": {
     "slide_type": "slide"
    }
   },
   "source": [
    "# Why We Structure Data"
   ]
  },
  {
   "cell_type": "markdown",
   "metadata": {
    "slideshow": {
     "slide_type": "slide"
    }
   },
   "source": [
    "## Motivation\n",
    "*Why do we want to learn data structuring?*"
   ]
  },
  {
   "cell_type": "markdown",
   "metadata": {
    "slideshow": {
     "slide_type": "fragment"
    }
   },
   "source": [
    "- Data rarely comes in the form of our model. We need to 'wrangle' our data."
   ]
  },
  {
   "cell_type": "markdown",
   "metadata": {
    "slideshow": {
     "slide_type": "fragment"
    }
   },
   "source": [
    "*Can our machine learning models not do this for us?* "
   ]
  },
  {
   "cell_type": "markdown",
   "metadata": {
    "slideshow": {
     "slide_type": "fragment"
    }
   },
   "source": [
    "- Not yet :). The current version needs **tidy** data. What is tidy? "
   ]
  },
  {
   "cell_type": "markdown",
   "metadata": {
    "slideshow": {
     "slide_type": "fragment"
    }
   },
   "source": [
    "One row per observation."
   ]
  },
  {
   "cell_type": "markdown",
   "metadata": {
    "slideshow": {
     "slide_type": "fragment"
    }
   },
   "source": [
    "<center><img src='https://raw.githubusercontent.com/abjer/sds2017/master/slides/figures/tidy.png'></center>"
   ]
  },
  {
   "cell_type": "markdown",
   "metadata": {
    "slideshow": {
     "slide_type": "slide"
    }
   },
   "source": [
    "# Numpy and Pandas"
   ]
  },
  {
   "cell_type": "markdown",
   "metadata": {
    "slideshow": {
     "slide_type": "slide"
    }
   },
   "source": [
    "## Numpy Overview\n",
    "*What is the [`numpy`](http://www.numpy.org/) module?*"
   ]
  },
  {
   "cell_type": "markdown",
   "metadata": {
    "slideshow": {
     "slide_type": "fragment"
    }
   },
   "source": [
    "`numpy` is a Python module similar to matlab \n",
    "- fast and versatile for manipulating arrays\n",
    "- linear algebra tools available\n",
    "- used in some machine learning and statistics packages\n",
    "\n",
    "Example from earlier sessions"
   ]
  },
  {
   "cell_type": "code",
   "execution_count": 2,
   "metadata": {
    "slideshow": {
     "slide_type": "-"
    }
   },
   "outputs": [
    {
     "data": {
      "text/plain": [
       "array([[1, 2],\n",
       "       [3, 4]])"
      ]
     },
     "execution_count": 2,
     "metadata": {},
     "output_type": "execute_result"
    }
   ],
   "source": [
    "table = [[1,2],[3,4]]\n",
    "arr = np.array(table)\n",
    "arr"
   ]
  },
  {
   "cell_type": "markdown",
   "metadata": {
    "slideshow": {
     "slide_type": "slide"
    }
   },
   "source": [
    "## Pandas motivation\n",
    "*Why use Pandas?*"
   ]
  },
  {
   "cell_type": "markdown",
   "metadata": {
    "slideshow": {
     "slide_type": "fragment"
    }
   },
   "source": [
    "It is built on numpy:\n",
    "- Simplicity: Pandas is built with Python's simplicity \n",
    "- Powerful and fast tools for manipulating data from numpy\n",
    "\n",
    "Improves on numpy:\n",
    "- Clarity, flexibility by using labels (keys)\n",
    "- Introduces lots of new, useful tools for data analysis (more on this)\n",
    "\n",
    "The future: interesting development combining tools for big and small data\n",
    "\n",
    "Note: Much more similar to common software for data manipulation like, say, Stata"
   ]
  },
  {
   "cell_type": "markdown",
   "metadata": {
    "slideshow": {
     "slide_type": "slide"
    }
   },
   "source": [
    "## Pandas popularity\n",
    "\n",
    "<center><img src='https://www.sqlshack.com/wp-content/uploads/2020/08/pandas-in-python-popularity-from-stack-overflow.png' alt=\"Drawing\" style=\"width: 800px;\"/></center>\n",
    "\n"
   ]
  },
  {
   "cell_type": "markdown",
   "metadata": {
    "slideshow": {
     "slide_type": "slide"
    }
   },
   "source": [
    "## Pandas Data Types\n",
    "*How do we work with data in Pandas?*"
   ]
  },
  {
   "cell_type": "markdown",
   "metadata": {
    "slideshow": {
     "slide_type": "fragment"
    }
   },
   "source": [
    "- We use two fundamental data stuctures: \n",
    "  - ``Series``;\n",
    "  - ``DataFrame``."
   ]
  },
  {
   "cell_type": "markdown",
   "metadata": {
    "slideshow": {
     "slide_type": "slide"
    }
   },
   "source": [
    "## Pandas Data Frames (I/II)\n",
    "\n",
    "*What is a `DataFrame`?*"
   ]
  },
  {
   "cell_type": "markdown",
   "metadata": {
    "slideshow": {
     "slide_type": "fragment"
    }
   },
   "source": [
    "- A 2d-array (matrix) with labelled columns and rows (which are called indices). Examples:"
   ]
  },
  {
   "cell_type": "code",
   "execution_count": 3,
   "metadata": {
    "scrolled": true
   },
   "outputs": [
    {
     "name": "stdout",
     "output_type": "stream",
     "text": [
      "   A  B\n",
      "0  1  2\n",
      "1  3  4 \n",
      "\n",
      "     A  B\n",
      "i   1  2\n",
      "ii  3  4\n"
     ]
    }
   ],
   "source": [
    "df = pd.DataFrame(data=arr,\n",
    "                  columns=['A', 'B'])\n",
    "\n",
    "df2 = pd.DataFrame(data=arr,\n",
    "                  index=['i', 'ii'],\n",
    "                  columns=['A', 'B'])\n",
    "\n",
    "print(df, '\\n\\n', df2)"
   ]
  },
  {
   "cell_type": "markdown",
   "metadata": {
    "slideshow": {
     "slide_type": "fragment"
    }
   },
   "source": [
    "- An object with powerful data tools."
   ]
  },
  {
   "cell_type": "markdown",
   "metadata": {
    "slideshow": {
     "slide_type": "slide"
    }
   },
   "source": [
    "## Pandas Data Frames (II/II)\n",
    "\n",
    "*How are pandas dataframes built?*"
   ]
  },
  {
   "cell_type": "markdown",
   "metadata": {
    "slideshow": {
     "slide_type": "fragment"
    }
   },
   "source": [
    "Pandas dataframes can be thought of as numpy arrays with some additional stuff.\n",
    "- Note that columns can have different datatypes!\n",
    "\n",
    "Most functions from `numpy` can be applied directly to Pandas. We can convert a DataFrame to a `numpy` array with `values` attribute."
   ]
  },
  {
   "cell_type": "code",
   "execution_count": 4,
   "metadata": {
    "slideshow": {
     "slide_type": "-"
    }
   },
   "outputs": [
    {
     "data": {
      "text/plain": [
       "[[1, 2], [3, 4]]"
      ]
     },
     "execution_count": 4,
     "metadata": {},
     "output_type": "execute_result"
    }
   ],
   "source": [
    "df.values.tolist()"
   ]
  },
  {
   "cell_type": "markdown",
   "metadata": {
    "slideshow": {
     "slide_type": "fragment"
    }
   },
   "source": [
    "*To note*: In Python we can describe it as a *list of lists* or a *dict of dicts*."
   ]
  },
  {
   "cell_type": "markdown",
   "metadata": {
    "slideshow": {
     "slide_type": "slide"
    }
   },
   "source": [
    "## Pandas Series\n",
    "*What is a `Series`?*"
   ]
  },
  {
   "cell_type": "markdown",
   "metadata": {
    "slideshow": {
     "slide_type": "fragment"
    }
   },
   "source": [
    "- A vector/list with labels for each entry. Examples:"
   ]
  },
  {
   "cell_type": "code",
   "execution_count": 5,
   "metadata": {
    "slideshow": {
     "slide_type": "-"
    }
   },
   "outputs": [
    {
     "data": {
      "text/plain": [
       "0       1\n",
       "1     1.2\n",
       "2     abc\n",
       "3    True\n",
       "dtype: object"
      ]
     },
     "execution_count": 5,
     "metadata": {},
     "output_type": "execute_result"
    }
   ],
   "source": [
    "L = [1, 1.2, 'abc', True]\n",
    "\n",
    "my_series = pd.Series(L)\n",
    "my_series"
   ]
  },
  {
   "cell_type": "code",
   "execution_count": 6,
   "metadata": {},
   "outputs": [
    {
     "data": {
      "text/plain": [
       "{0: 1, 1: 1.2, 2: 'abc', 3: True}"
      ]
     },
     "execution_count": 6,
     "metadata": {},
     "output_type": "execute_result"
    }
   ],
   "source": [
    "my_series.to_dict()"
   ]
  },
  {
   "cell_type": "markdown",
   "metadata": {
    "slideshow": {
     "slide_type": "fragment"
    }
   },
   "source": [
    "*What data structure does this remind us of?*\n",
    "\n"
   ]
  },
  {
   "cell_type": "markdown",
   "metadata": {
    "collapsed": true,
    "slideshow": {
     "slide_type": "fragment"
    }
   },
   "source": [
    "- A mix of Python list and dictionary (more info follows)"
   ]
  },
  {
   "cell_type": "markdown",
   "metadata": {
    "slideshow": {
     "slide_type": "slide"
    }
   },
   "source": [
    "## Series vs DataFrames\n",
    "*How are Series related to DataFrames?*"
   ]
  },
  {
   "cell_type": "markdown",
   "metadata": {
    "slideshow": {
     "slide_type": "fragment"
    }
   },
   "source": [
    "Every column is a series. Example, access as key (recommended):"
   ]
  },
  {
   "cell_type": "code",
   "execution_count": 7,
   "metadata": {
    "slideshow": {
     "slide_type": "-"
    }
   },
   "outputs": [
    {
     "name": "stdout",
     "output_type": "stream",
     "text": [
      "0    2\n",
      "1    4\n",
      "Name: B, dtype: int32\n"
     ]
    }
   ],
   "source": [
    "print(df['B'])"
   ]
  },
  {
   "cell_type": "markdown",
   "metadata": {
    "slideshow": {
     "slide_type": "fragment"
    }
   },
   "source": [
    "Another option is access as object method... smart, but dangerous!\n",
    "\n",
    "To illustrate, add one more column"
   ]
  },
  {
   "cell_type": "code",
   "execution_count": 8,
   "metadata": {
    "slideshow": {
     "slide_type": "-"
    }
   },
   "outputs": [
    {
     "name": "stdout",
     "output_type": "stream",
     "text": [
      "   A  B  count\n",
      "0  1  2      5\n",
      "1  3  4      5\n"
     ]
    }
   ],
   "source": [
    "df['count'] =  5\n",
    "print(df)"
   ]
  },
  {
   "cell_type": "markdown",
   "metadata": {
    "slideshow": {
     "slide_type": "fragment"
    }
   },
   "source": [
    "Print column 'B':"
   ]
  },
  {
   "cell_type": "code",
   "execution_count": 9,
   "metadata": {
    "scrolled": false,
    "slideshow": {
     "slide_type": "-"
    }
   },
   "outputs": [
    {
     "name": "stdout",
     "output_type": "stream",
     "text": [
      "0    2\n",
      "1    4\n",
      "Name: B, dtype: int32\n"
     ]
    }
   ],
   "source": [
    "print(df.B)"
   ]
  },
  {
   "cell_type": "markdown",
   "metadata": {
    "slideshow": {
     "slide_type": "fragment"
    }
   },
   "source": [
    "Went well... Now, print column 'count':"
   ]
  },
  {
   "cell_type": "code",
   "execution_count": 10,
   "metadata": {
    "scrolled": true,
    "slideshow": {
     "slide_type": "-"
    }
   },
   "outputs": [
    {
     "name": "stdout",
     "output_type": "stream",
     "text": [
      "<bound method DataFrame.count of    A  B  count\n",
      "0  1  2      5\n",
      "1  3  4      5>\n"
     ]
    }
   ],
   "source": [
    "print(df.count)"
   ]
  },
  {
   "cell_type": "markdown",
   "metadata": {
    "slideshow": {
     "slide_type": "fragment"
    }
   },
   "source": [
    "\n",
    "Clearly: The first option more robust as variables named same as methods, e.g. `count`, cannot be accesed."
   ]
  },
  {
   "cell_type": "markdown",
   "metadata": {
    "slideshow": {
     "slide_type": "slide"
    }
   },
   "source": [
    "## Indices and Column Names\n",
    "*Why don't we just use numpy arrays and matrices?*\n"
   ]
  },
  {
   "cell_type": "markdown",
   "metadata": {
    "slideshow": {
     "slide_type": "fragment"
    }
   },
   "source": [
    "- Inspection of data is quicker\n",
    "    - What was it that column 18 represented?"
   ]
  },
  {
   "cell_type": "markdown",
   "metadata": {
    "slideshow": {
     "slide_type": "fragment"
    }
   },
   "source": [
    "- Keep track of rows after deletion\n",
    "    - Again.... What was it that column 18 represented!?"
   ]
  },
  {
   "cell_type": "markdown",
   "metadata": {
    "slideshow": {
     "slide_type": "fragment"
    }
   },
   "source": [
    "- Indices may contain fundamentally different data structures \n",
    "    - e.g. time series (more about this later)\n",
    "    - Other datatypes (spatial data $\\rightarrow$ advanced course)"
   ]
  },
  {
   "cell_type": "markdown",
   "metadata": {
    "slideshow": {
     "slide_type": "fragment"
    }
   },
   "source": [
    "- Facilitates complex operation (next session):\n",
    "    - Merging datasets\n",
    "    - Split-apply-combine (operations on subsets of data)\n",
    "    - Method chaining (multiple operations in sequence)"
   ]
  },
  {
   "cell_type": "markdown",
   "metadata": {
    "slideshow": {
     "slide_type": "slide"
    }
   },
   "source": [
    "# Working with Pandas Series"
   ]
  },
  {
   "cell_type": "markdown",
   "metadata": {
    "slideshow": {
     "slide_type": "slide"
    }
   },
   "source": [
    "## Generating a Series (I/IV)\n",
    "Let's revisit our series"
   ]
  },
  {
   "cell_type": "code",
   "execution_count": 11,
   "metadata": {
    "slideshow": {
     "slide_type": "-"
    }
   },
   "outputs": [
    {
     "data": {
      "text/plain": [
       "0       1\n",
       "1     1.2\n",
       "2     abc\n",
       "3    True\n",
       "dtype: object"
      ]
     },
     "execution_count": 11,
     "metadata": {},
     "output_type": "execute_result"
    }
   ],
   "source": [
    "my_series"
   ]
  },
  {
   "cell_type": "markdown",
   "metadata": {
    "slideshow": {
     "slide_type": "fragment"
    }
   },
   "source": [
    "Components in series:"
   ]
  },
  {
   "cell_type": "markdown",
   "metadata": {
    "slideshow": {
     "slide_type": "fragment"
    }
   },
   "source": [
    "- `index`: label for each observation"
   ]
  },
  {
   "cell_type": "markdown",
   "metadata": {
    "slideshow": {
     "slide_type": "fragment"
    }
   },
   "source": [
    "- `values`: observation data"
   ]
  },
  {
   "cell_type": "markdown",
   "metadata": {
    "slideshow": {
     "slide_type": "fragment"
    }
   },
   "source": [
    "- `dtype`: the format of the series (`object` means any data type is allowed)\n",
    "  - examples are fundamental datatypes (`float`, `int`, `bool`)  \n",
    "      - in terms of precision: `float`>`int`>`bool`\n",
    "      - this comes at a cost in the form of speed\n",
    "  - note: the object `dtype` is SLOW!"
   ]
  },
  {
   "cell_type": "markdown",
   "metadata": {
    "slideshow": {
     "slide_type": "slide"
    }
   },
   "source": [
    "## Generating a Series (II/IV)\n",
    "*How do we set custom index?* \n",
    "\n",
    "Example:"
   ]
  },
  {
   "cell_type": "code",
   "execution_count": 12,
   "metadata": {
    "slideshow": {
     "slide_type": "-"
    }
   },
   "outputs": [
    {
     "data": {
      "text/plain": [
       "B    0\n",
       "C    1\n",
       "A    2\n",
       "dtype: int64"
      ]
     },
     "execution_count": 12,
     "metadata": {},
     "output_type": "execute_result"
    }
   ],
   "source": [
    "num_data = range(0,3) # Generate data\n",
    "indices = ['B', 'C', 'A'] # Generate index names\n",
    "my_series2 = pd.Series(data=num_data, index=indices) # Create a pandas series from the two\n",
    "my_series2"
   ]
  },
  {
   "cell_type": "markdown",
   "metadata": {
    "slideshow": {
     "slide_type": "slide"
    }
   },
   "source": [
    "## Generating a Series (III/IV)\n",
    "*Can a dictionary be converted to a series?*"
   ]
  },
  {
   "cell_type": "markdown",
   "metadata": {
    "slideshow": {
     "slide_type": "fragment"
    }
   },
   "source": [
    "Yes, we just put into the Series class constructor. Example:"
   ]
  },
  {
   "cell_type": "code",
   "execution_count": 13,
   "metadata": {
    "slideshow": {
     "slide_type": "-"
    }
   },
   "outputs": [
    {
     "data": {
      "text/plain": [
       "yesterday    0\n",
       "today        1\n",
       "tomorrow     3\n",
       "dtype: int64"
      ]
     },
     "execution_count": 13,
     "metadata": {},
     "output_type": "execute_result"
    }
   ],
   "source": [
    "d = {'yesterday': 0, 'today': 1, 'tomorrow':3} # Create some dictionary\n",
    "my_series3 = pd.Series(d) # Use the constructor\n",
    "my_series3"
   ]
  },
  {
   "cell_type": "markdown",
   "metadata": {
    "slideshow": {
     "slide_type": "fragment"
    }
   },
   "source": [
    "Note: Same is true for DataFrames which requires that each value in the dictionary is also a dictionary. Example"
   ]
  },
  {
   "cell_type": "code",
   "execution_count": 14,
   "metadata": {
    "slideshow": {
     "slide_type": "-"
    }
   },
   "outputs": [
    {
     "data": {
      "text/html": [
       "<div>\n",
       "<style scoped>\n",
       "    .dataframe tbody tr th:only-of-type {\n",
       "        vertical-align: middle;\n",
       "    }\n",
       "\n",
       "    .dataframe tbody tr th {\n",
       "        vertical-align: top;\n",
       "    }\n",
       "\n",
       "    .dataframe thead th {\n",
       "        text-align: right;\n",
       "    }\n",
       "</style>\n",
       "<table border=\"1\" class=\"dataframe\">\n",
       "  <thead>\n",
       "    <tr style=\"text-align: right;\">\n",
       "      <th></th>\n",
       "      <th>january</th>\n",
       "      <th>february</th>\n",
       "      <th>march</th>\n",
       "    </tr>\n",
       "  </thead>\n",
       "  <tbody>\n",
       "    <tr>\n",
       "      <th>1st</th>\n",
       "      <td>0</td>\n",
       "      <td>-3</td>\n",
       "      <td>3</td>\n",
       "    </tr>\n",
       "    <tr>\n",
       "      <th>2nd</th>\n",
       "      <td>1</td>\n",
       "      <td>-1</td>\n",
       "      <td>5</td>\n",
       "    </tr>\n",
       "    <tr>\n",
       "      <th>3rd</th>\n",
       "      <td>3</td>\n",
       "      <td>-2</td>\n",
       "      <td>4</td>\n",
       "    </tr>\n",
       "  </tbody>\n",
       "</table>\n",
       "</div>"
      ],
      "text/plain": [
       "     january  february  march\n",
       "1st        0        -3      3\n",
       "2nd        1        -1      5\n",
       "3rd        3        -2      4"
      ]
     },
     "execution_count": 14,
     "metadata": {},
     "output_type": "execute_result"
    }
   ],
   "source": [
    "djan = {'1st': 0, '2nd': 1, '3rd':3} # Create some dictionary for january\n",
    "dfeb = {'1st': -3, '2nd': -1, '3rd':-2} # Create some dictionary for february\n",
    "dmar = {'1st': 3, '2nd': 5, '3rd':4} # Create some dictionary for march\n",
    "\n",
    "d = {'january': djan, 'february': dfeb, 'march': dmar} # Create dictionary of dictionaries\n",
    "my_df1 = pd.DataFrame(d) # Use the constructor\n",
    "my_df1"
   ]
  },
  {
   "cell_type": "markdown",
   "metadata": {
    "slideshow": {
     "slide_type": "fragment"
    }
   },
   "source": [
    "What happens if keys are not the same? No big deal..."
   ]
  },
  {
   "cell_type": "code",
   "execution_count": 15,
   "metadata": {
    "slideshow": {
     "slide_type": "-"
    }
   },
   "outputs": [
    {
     "data": {
      "text/html": [
       "<div>\n",
       "<style scoped>\n",
       "    .dataframe tbody tr th:only-of-type {\n",
       "        vertical-align: middle;\n",
       "    }\n",
       "\n",
       "    .dataframe tbody tr th {\n",
       "        vertical-align: top;\n",
       "    }\n",
       "\n",
       "    .dataframe thead th {\n",
       "        text-align: right;\n",
       "    }\n",
       "</style>\n",
       "<table border=\"1\" class=\"dataframe\">\n",
       "  <thead>\n",
       "    <tr style=\"text-align: right;\">\n",
       "      <th></th>\n",
       "      <th>january</th>\n",
       "      <th>february</th>\n",
       "      <th>march</th>\n",
       "    </tr>\n",
       "  </thead>\n",
       "  <tbody>\n",
       "    <tr>\n",
       "      <th>1st</th>\n",
       "      <td>0.0</td>\n",
       "      <td>-3.0</td>\n",
       "      <td>3.0</td>\n",
       "    </tr>\n",
       "    <tr>\n",
       "      <th>2nd</th>\n",
       "      <td>1.0</td>\n",
       "      <td>-1.0</td>\n",
       "      <td>5.0</td>\n",
       "    </tr>\n",
       "    <tr>\n",
       "      <th>3rd</th>\n",
       "      <td>3.0</td>\n",
       "      <td>-2.0</td>\n",
       "      <td>NaN</td>\n",
       "    </tr>\n",
       "    <tr>\n",
       "      <th>4th</th>\n",
       "      <td>NaN</td>\n",
       "      <td>NaN</td>\n",
       "      <td>4.0</td>\n",
       "    </tr>\n",
       "  </tbody>\n",
       "</table>\n",
       "</div>"
      ],
      "text/plain": [
       "     january  february  march\n",
       "1st      0.0      -3.0    3.0\n",
       "2nd      1.0      -1.0    5.0\n",
       "3rd      3.0      -2.0    NaN\n",
       "4th      NaN       NaN    4.0"
      ]
     },
     "execution_count": 15,
     "metadata": {},
     "output_type": "execute_result"
    }
   ],
   "source": [
    "djan = {'1st': 0, '2nd': 1, '3rd':3} # Create some dictionary for january\n",
    "dfeb = {'1st': -3, '2nd': -1, '3rd':-2} # Create some dictionary for february\n",
    "dmar = {'1st': 3, '2nd': 5, '4th':4} # Create some dictionary for march\n",
    "\n",
    "d = {'january': djan, 'february': dfeb, 'march': dmar} # Create dictionary of dictionaries\n",
    "my_df2 = pd.DataFrame(d) # Use the constructor\n",
    "my_df2"
   ]
  },
  {
   "cell_type": "markdown",
   "metadata": {
    "slideshow": {
     "slide_type": "slide"
    }
   },
   "source": [
    "## Generating a Series (IV/IV)\n",
    "*Can we convert series to dictionaries?*"
   ]
  },
  {
   "cell_type": "markdown",
   "metadata": {
    "slideshow": {
     "slide_type": "fragment"
    }
   },
   "source": [
    "- Yes, in most cases. "
   ]
  },
  {
   "cell_type": "code",
   "execution_count": 16,
   "metadata": {
    "slideshow": {
     "slide_type": "-"
    }
   },
   "outputs": [
    {
     "data": {
      "text/plain": [
       "{'yesterday': 0, 'today': 1, 'tomorrow': 3}"
      ]
     },
     "execution_count": 16,
     "metadata": {},
     "output_type": "execute_result"
    }
   ],
   "source": [
    "my_series3.to_dict()"
   ]
  },
  {
   "cell_type": "markdown",
   "metadata": {
    "slideshow": {
     "slide_type": "fragment"
    }
   },
   "source": [
    "- **<font color=\"red\">WARNING!#@</font>**: Series indices are NOT unique! Example:"
   ]
  },
  {
   "cell_type": "code",
   "execution_count": 100,
   "metadata": {
    "slideshow": {
     "slide_type": "-"
    }
   },
   "outputs": [
    {
     "name": "stdout",
     "output_type": "stream",
     "text": [
      "A    0\n",
      "A    1\n",
      "A    2\n",
      "dtype: int64\n",
      "\n",
      "[False  True  True]\n",
      "\n",
      "{'A': 2}\n"
     ]
    }
   ],
   "source": [
    "s = pd.Series(range(3), index=['A','A', 'A']) # Create series with same indices\n",
    "print(s) # Print series\n",
    "print()\n",
    "print(s.index.duplicated()) # Check duplicates\n",
    "print()\n",
    "print(s.to_dict()) # So translating to a dict gives..."
   ]
  },
  {
   "cell_type": "markdown",
   "metadata": {
    "slideshow": {
     "slide_type": "slide"
    }
   },
   "source": [
    "## The Power of Pandas\n",
    "*How is the series different from a dict?*"
   ]
  },
  {
   "cell_type": "markdown",
   "metadata": {
    "slideshow": {
     "slide_type": "fragment"
    }
   },
   "source": [
    "- We will see that pandas Series have powerful methods and operations.\n",
    "- It is both key and index  based (i.e. sequential).\n",
    "    - Remember that unlike, say, lists, dictionaries are not sequential!"
   ]
  },
  {
   "cell_type": "markdown",
   "metadata": {
    "slideshow": {
     "slide_type": "slide"
    }
   },
   "source": [
    "## Converting Data Types (I/II)"
   ]
  },
  {
   "cell_type": "markdown",
   "metadata": {
    "slideshow": {
     "slide_type": "-"
    }
   },
   "source": [
    "The data type of a series can be converted with the **astype** method. Example with a float:"
   ]
  },
  {
   "cell_type": "code",
   "execution_count": 98,
   "metadata": {},
   "outputs": [
    {
     "name": "stdout",
     "output_type": "stream",
     "text": [
      "yesterday    0\n",
      "today        1\n",
      "tomorrow     3\n",
      "dtype: object\n",
      "\n",
      "yesterday    00\n",
      "today        11\n",
      "tomorrow     33\n",
      "dtype: object\n"
     ]
    }
   ],
   "source": [
    "print(my_series3.astype(np.str))\n",
    "print()\n",
    "print(my_series3.astype(np.str)*2)"
   ]
  },
  {
   "cell_type": "markdown",
   "metadata": {
    "slideshow": {
     "slide_type": "slide"
    }
   },
   "source": [
    "## Converting Data Types (II/II)"
   ]
  },
  {
   "cell_type": "markdown",
   "metadata": {
    "slideshow": {
     "slide_type": "-"
    }
   },
   "source": [
    "Example with a string:"
   ]
  },
  {
   "cell_type": "code",
   "execution_count": 28,
   "metadata": {},
   "outputs": [
    {
     "name": "stdout",
     "output_type": "stream",
     "text": [
      "yesterday    0\n",
      "today        1\n",
      "tomorrow     3\n",
      "dtype: object\n",
      "\n",
      "\n",
      "yesterday    00\n",
      "today        11\n",
      "tomorrow     33\n",
      "dtype: object\n"
     ]
    }
   ],
   "source": [
    "print(my_series3.astype(np.str))\n",
    "print()\n",
    "print(my_series3.astype(np.str)*2)"
   ]
  },
  {
   "cell_type": "markdown",
   "metadata": {
    "slideshow": {
     "slide_type": "slide"
    }
   },
   "source": [
    "# Numeric Procedures"
   ]
  },
  {
   "cell_type": "markdown",
   "metadata": {
    "slideshow": {
     "slide_type": "slide"
    }
   },
   "source": [
    "## Numeric Operations (I/III)\n",
    "*More generally, how can we make basic arithmetic operations with arrays, series and dataframes?*"
   ]
  },
  {
   "cell_type": "markdown",
   "metadata": {
    "slideshow": {
     "slide_type": "fragment"
    }
   },
   "source": [
    "It really works just like with Python data! An example with squaring:"
   ]
  },
  {
   "cell_type": "code",
   "execution_count": 33,
   "metadata": {
    "slideshow": {
     "slide_type": "-"
    }
   },
   "outputs": [
    {
     "name": "stdout",
     "output_type": "stream",
     "text": [
      "[2 3 2 1 1]\n",
      "[4 9 4 1 1]\n"
     ]
    }
   ],
   "source": [
    "my_arr1 = np.array([2,3,2,1,1])\n",
    "my_arr2 = my_arr1 ** 2\n",
    "\n",
    "print(my_arr1)\n",
    "print(my_arr2)"
   ]
  },
  {
   "cell_type": "markdown",
   "metadata": {
    "slideshow": {
     "slide_type": "slide"
    }
   },
   "source": [
    "## Numeric Operations (II/III)\n",
    "*Are other numeric python operators the same??*"
   ]
  },
  {
   "cell_type": "markdown",
   "metadata": {
    "slideshow": {
     "slide_type": "fragment"
    }
   },
   "source": [
    "Numeric operators work `/`, `//`, `-`, `*`, `**`  as expected.\n",
    "\n",
    "So does comparative (`==`, `!=`, `>`, `<`)"
   ]
  },
  {
   "cell_type": "markdown",
   "metadata": {
    "slideshow": {
     "slide_type": "fragment"
    }
   },
   "source": [
    "*Why is this useful?*"
   ]
  },
  {
   "cell_type": "markdown",
   "metadata": {
    "slideshow": {
     "slide_type": "fragment"
    }
   },
   "source": [
    "- vectorized operations are VERY fast;\n",
    "- requires very little code."
   ]
  },
  {
   "cell_type": "markdown",
   "metadata": {
    "slideshow": {
     "slide_type": "slide"
    }
   },
   "source": [
    "## Numeric Operations (III/III)\n",
    "*Can we do the same with two vectors?*"
   ]
  },
  {
   "cell_type": "markdown",
   "metadata": {
    "slideshow": {
     "slide_type": "fragment"
    }
   },
   "source": [
    "- Yes, we can also do elementwise addition, multiplication, subtractions etc. of series. Example: "
   ]
  },
  {
   "cell_type": "code",
   "execution_count": 34,
   "metadata": {
    "slideshow": {
     "slide_type": "fragment"
    }
   },
   "outputs": [
    {
     "data": {
      "text/plain": [
       "array([ 6, 12,  6,  2,  2])"
      ]
     },
     "execution_count": 34,
     "metadata": {},
     "output_type": "execute_result"
    }
   ],
   "source": [
    "my_arr1 + my_arr2"
   ]
  },
  {
   "cell_type": "markdown",
   "metadata": {
    "slideshow": {
     "slide_type": "slide"
    }
   },
   "source": [
    "## Numeric methods (I/IV)"
   ]
  },
  {
   "cell_type": "markdown",
   "metadata": {
    "slideshow": {
     "slide_type": "fragment"
    }
   },
   "source": [
    "Pandas series have powerful numeric methods built-in. Example of 10 mil. obs:"
   ]
  },
  {
   "cell_type": "code",
   "execution_count": 55,
   "metadata": {
    "slideshow": {
     "slide_type": "fragment"
    }
   },
   "outputs": [
    {
     "data": {
      "text/plain": [
       "-4.558314137490764e-05"
      ]
     },
     "execution_count": 55,
     "metadata": {},
     "output_type": "execute_result"
    }
   ],
   "source": [
    "arr_rand = np.random.randn(10**7) # Draw 10^7 observations from standard normal , arr_rand = np.random.normal(size = 10**7)\n",
    "s2 = pd.Series(arr_rand) # Convert to pandas series\n",
    "s2.median() # Display median\n"
   ]
  },
  {
   "cell_type": "markdown",
   "metadata": {
    "slideshow": {
     "slide_type": "fragment"
    }
   },
   "source": [
    "Other useful methods include: `mean`, `quantile`, `min`, `max`, `std`, `describe`, `quantile` and many more."
   ]
  },
  {
   "cell_type": "code",
   "execution_count": 56,
   "metadata": {
    "slideshow": {
     "slide_type": "-"
    }
   },
   "outputs": [
    {
     "data": {
      "text/plain": [
       "count    10000000.00\n",
       "mean            0.00\n",
       "std             1.00\n",
       "min            -5.53\n",
       "25%            -0.67\n",
       "50%            -0.00\n",
       "75%             0.67\n",
       "max             5.19\n",
       "dtype: float64"
      ]
     },
     "execution_count": 56,
     "metadata": {},
     "output_type": "execute_result"
    }
   ],
   "source": [
    "np.round(s2.describe(),2) # Display other characteristics of distribution (rounded)"
   ]
  },
  {
   "cell_type": "markdown",
   "metadata": {
    "slideshow": {
     "slide_type": "slide"
    }
   },
   "source": [
    "## Numeric methods (II/III)\n",
    "An important method is `value_counts`. This counts number for each observation. "
   ]
  },
  {
   "cell_type": "markdown",
   "metadata": {
    "slideshow": {
     "slide_type": "fragment"
    }
   },
   "source": [
    "Example:"
   ]
  },
  {
   "cell_type": "code",
   "execution_count": 77,
   "metadata": {
    "slideshow": {
     "slide_type": "-"
    }
   },
   "outputs": [],
   "source": [
    "cuts = np.arange(-7, 8, 1) # range from -10 to 10 with intervals of unit size\n",
    "cats = pd.cut(s2, cuts) # cut into categorical data"
   ]
  },
  {
   "cell_type": "code",
   "execution_count": 78,
   "metadata": {
    "slideshow": {
     "slide_type": "-"
    }
   },
   "outputs": [
    {
     "data": {
      "text/plain": [
       "[(-1, 0], (0, 1], (-2, -1], (1, 2], (2, 3], ..., (3, 4], (-5, -4], (4, 5], (5, 6], (-6, -5]]\n",
       "Length: 12\n",
       "Categories (12, interval[int64]): [(-6, -5] < (-5, -4] < (-4, -3] < (-3, -2] ... (2, 3] < (3, 4] < (4, 5] < (5, 6]]"
      ]
     },
     "execution_count": 78,
     "metadata": {},
     "output_type": "execute_result"
    }
   ],
   "source": [
    "cats.unique()"
   ]
  },
  {
   "cell_type": "code",
   "execution_count": 81,
   "metadata": {
    "slideshow": {
     "slide_type": "-"
    }
   },
   "outputs": [
    {
     "data": {
      "text/plain": [
       "(-1, 0]     3413632\n",
       "(0, 1]      3412743\n",
       "(1, 2]      1359912\n",
       "(-2, -1]    1358592\n",
       "(-3, -2]     214482\n",
       "(2, 3]       213647\n",
       "(3, 4]        13192\n",
       "(-4, -3]      13181\n",
       "(-5, -4]        308\n",
       "(4, 5]          304\n",
       "(5, 6]            4\n",
       "(-6, -5]          3\n",
       "(6, 7]            0\n",
       "(-7, -6]          0\n",
       "dtype: int64"
      ]
     },
     "execution_count": 81,
     "metadata": {},
     "output_type": "execute_result"
    }
   ],
   "source": [
    "cats.value_counts()"
   ]
  },
  {
   "cell_type": "markdown",
   "metadata": {
    "slideshow": {
     "slide_type": "-"
    }
   },
   "source": [
    "What is observation in the value_counts output - index or data?"
   ]
  },
  {
   "cell_type": "markdown",
   "metadata": {
    "slideshow": {
     "slide_type": "slide"
    }
   },
   "source": [
    "## Numeric methods (III/III)\n",
    "*Are there other powerful numeric methods?*"
   ]
  },
  {
   "cell_type": "markdown",
   "metadata": {
    "slideshow": {
     "slide_type": "fragment"
    }
   },
   "source": [
    "Yes: examples include \n",
    "- `unique`, `nunique`: the unique elements and the count of unique elements\n",
    "- `cut`, `qcut`: partition series into bins \n",
    "- `diff`: difference every two consecutive observations\n",
    "- `cumsum`: cumulative sum\n",
    "- `nlargest`, `nsmallest`: the n largest elements \n",
    "- `idxmin`, `idxmax`: index which is minimal/maximal \n",
    "- `corr`: correlation matrix\n",
    "\n",
    "Check [series documentation](https://pandas.pydata.org/pandas-docs/stable/generated/pandas.Series.html) for more information."
   ]
  },
  {
   "cell_type": "markdown",
   "metadata": {
    "slideshow": {
     "slide_type": "slide"
    }
   },
   "source": [
    "# Boolean Series"
   ]
  },
  {
   "cell_type": "markdown",
   "metadata": {
    "slideshow": {
     "slide_type": "slide"
    }
   },
   "source": [
    "## Logical Expression for Series (I/II)\n",
    "*Can we test an expression for all elements?*"
   ]
  },
  {
   "cell_type": "markdown",
   "metadata": {
    "slideshow": {
     "slide_type": "fragment"
    }
   },
   "source": [
    "Yes: **==**, **!=** work for a single object or Series with same indices. Example:"
   ]
  },
  {
   "cell_type": "code",
   "execution_count": 97,
   "metadata": {
    "slideshow": {
     "slide_type": "-"
    }
   },
   "outputs": [
    {
     "name": "stdout",
     "output_type": "stream",
     "text": [
      "yesterday    0\n",
      "today        1\n",
      "tomorrow     3\n",
      "dtype: int64\n",
      "\n",
      "yesterday     True\n",
      "today        False\n",
      "tomorrow     False\n",
      "dtype: bool\n"
     ]
    }
   ],
   "source": [
    "print(my_series3)\n",
    "print()\n",
    "print(my_series3 == 0)"
   ]
  },
  {
   "cell_type": "markdown",
   "metadata": {
    "slideshow": {
     "slide_type": "fragment"
    }
   },
   "source": [
    "What datatype is returned? \n"
   ]
  },
  {
   "cell_type": "markdown",
   "metadata": {
    "slideshow": {
     "slide_type": "slide"
    }
   },
   "source": [
    "## Logical Expression in Series  (II/II)\n",
    "*Can we check if elements in a series equal some element in a container?*"
   ]
  },
  {
   "cell_type": "markdown",
   "metadata": {},
   "source": [
    "Yes, the `isin` method. Example:"
   ]
  },
  {
   "cell_type": "code",
   "execution_count": 96,
   "metadata": {},
   "outputs": [
    {
     "name": "stdout",
     "output_type": "stream",
     "text": [
      "[0, 1]\n",
      "\n",
      "yesterday     True\n",
      "today         True\n",
      "tomorrow     False\n",
      "dtype: bool\n"
     ]
    }
   ],
   "source": [
    "my_rng = list(range(2))\n",
    "\n",
    "print(my_rng)\n",
    "print()\n",
    "print(my_series3.isin(my_rng)) "
   ]
  },
  {
   "cell_type": "markdown",
   "metadata": {
    "slideshow": {
     "slide_type": "slide"
    }
   },
   "source": [
    "## Power of Boolean Series (I/II)\n",
    "*Can we combine boolean Series?*"
   ]
  },
  {
   "cell_type": "markdown",
   "metadata": {
    "slideshow": {
     "slide_type": "fragment"
    }
   },
   "source": [
    "Yes, we can use:\n",
    "- the `&` operator (*and*)\n",
    "- the `|` operator (*or*)"
   ]
  },
  {
   "cell_type": "code",
   "execution_count": 93,
   "metadata": {},
   "outputs": [
    {
     "name": "stdout",
     "output_type": "stream",
     "text": [
      "   survived   age     sex\n",
      "0         0  22.0    male\n",
      "1         1  38.0  female\n",
      "2         1  26.0  female\n"
     ]
    }
   ],
   "source": [
    "import seaborn as sns\n",
    "titanic = sns.load_dataset('titanic')\n",
    "print(titanic.loc[range(3),['survived', 'age', 'sex']])"
   ]
  },
  {
   "cell_type": "code",
   "execution_count": 94,
   "metadata": {},
   "outputs": [
    {
     "name": "stdout",
     "output_type": "stream",
     "text": [
      "0    False\n",
      "1     True\n",
      "2    False\n",
      "dtype: bool\n"
     ]
    }
   ],
   "source": [
    "print(((titanic.sex == 'female') & (titanic.age >= 30)).head(3)) # selection by multiple columns"
   ]
  },
  {
   "cell_type": "markdown",
   "metadata": {
    "slideshow": {
     "slide_type": "fragment"
    }
   },
   "source": [
    "What datatype is returned? \n"
   ]
  },
  {
   "cell_type": "markdown",
   "metadata": {
    "slideshow": {
     "slide_type": "slide"
    }
   },
   "source": [
    "## Power of Boolean Series (II/II)\n",
    "*Why do we care for boolean series (and arrays)?*"
   ]
  },
  {
   "cell_type": "markdown",
   "metadata": {
    "slideshow": {
     "slide_type": "fragment"
    }
   },
   "source": [
    "Mainly because we can use them to select rows based on their content."
   ]
  },
  {
   "cell_type": "code",
   "execution_count": 95,
   "metadata": {
    "slideshow": {
     "slide_type": "-"
    }
   },
   "outputs": [
    {
     "name": "stdout",
     "output_type": "stream",
     "text": [
      "yesterday    0\n",
      "today        1\n",
      "dtype: int64\n",
      "\n",
      "yesterday    0\n",
      "today        1\n",
      "tomorrow     3\n",
      "dtype: int64\n"
     ]
    }
   ],
   "source": [
    "print(my_series3[my_series3<3])\n",
    "print()\n",
    "print(my_series3)"
   ]
  },
  {
   "cell_type": "markdown",
   "metadata": {
    "slideshow": {
     "slide_type": "fragment"
    }
   },
   "source": [
    "NOTE: Boolean selection is extremely useful for dataframes!!"
   ]
  },
  {
   "cell_type": "markdown",
   "metadata": {
    "slideshow": {
     "slide_type": "slide"
    }
   },
   "source": [
    "# Inspecting and Selecting Observations"
   ]
  },
  {
   "cell_type": "markdown",
   "metadata": {
    "slideshow": {
     "slide_type": "slide"
    }
   },
   "source": [
    "## Viewing Series and Dataframes\n",
    "*How can we view the contents in our dataset?*\n",
    "- We can use `print` on our dataset\n",
    "- We can visualize patterns by plotting"
   ]
  },
  {
   "cell_type": "markdown",
   "metadata": {
    "slideshow": {
     "slide_type": "slide"
    }
   },
   "source": [
    "## The Head and Tail"
   ]
  },
  {
   "cell_type": "markdown",
   "metadata": {
    "slideshow": {
     "slide_type": "fragment"
    }
   },
   "source": [
    "We select the *first* rows in a DataFrame or Series with the `head` method."
   ]
  },
  {
   "cell_type": "code",
   "execution_count": 108,
   "metadata": {
    "scrolled": true,
    "slideshow": {
     "slide_type": "-"
    }
   },
   "outputs": [
    {
     "data": {
      "text/html": [
       "<div>\n",
       "<style scoped>\n",
       "    .dataframe tbody tr th:only-of-type {\n",
       "        vertical-align: middle;\n",
       "    }\n",
       "\n",
       "    .dataframe tbody tr th {\n",
       "        vertical-align: top;\n",
       "    }\n",
       "\n",
       "    .dataframe thead th {\n",
       "        text-align: right;\n",
       "    }\n",
       "</style>\n",
       "<table border=\"1\" class=\"dataframe\">\n",
       "  <thead>\n",
       "    <tr style=\"text-align: right;\">\n",
       "      <th></th>\n",
       "      <th>survived</th>\n",
       "      <th>pclass</th>\n",
       "      <th>sex</th>\n",
       "      <th>age</th>\n",
       "      <th>sibsp</th>\n",
       "      <th>parch</th>\n",
       "      <th>fare</th>\n",
       "      <th>embarked</th>\n",
       "      <th>class</th>\n",
       "      <th>who</th>\n",
       "      <th>adult_male</th>\n",
       "      <th>deck</th>\n",
       "      <th>embark_town</th>\n",
       "      <th>alive</th>\n",
       "      <th>alone</th>\n",
       "    </tr>\n",
       "  </thead>\n",
       "  <tbody>\n",
       "    <tr>\n",
       "      <th>0</th>\n",
       "      <td>0</td>\n",
       "      <td>3</td>\n",
       "      <td>male</td>\n",
       "      <td>22.0</td>\n",
       "      <td>1</td>\n",
       "      <td>0</td>\n",
       "      <td>7.2500</td>\n",
       "      <td>S</td>\n",
       "      <td>Third</td>\n",
       "      <td>man</td>\n",
       "      <td>True</td>\n",
       "      <td>NaN</td>\n",
       "      <td>Southampton</td>\n",
       "      <td>no</td>\n",
       "      <td>False</td>\n",
       "    </tr>\n",
       "    <tr>\n",
       "      <th>1</th>\n",
       "      <td>1</td>\n",
       "      <td>1</td>\n",
       "      <td>female</td>\n",
       "      <td>38.0</td>\n",
       "      <td>1</td>\n",
       "      <td>0</td>\n",
       "      <td>71.2833</td>\n",
       "      <td>C</td>\n",
       "      <td>First</td>\n",
       "      <td>woman</td>\n",
       "      <td>False</td>\n",
       "      <td>C</td>\n",
       "      <td>Cherbourg</td>\n",
       "      <td>yes</td>\n",
       "      <td>False</td>\n",
       "    </tr>\n",
       "    <tr>\n",
       "      <th>2</th>\n",
       "      <td>1</td>\n",
       "      <td>3</td>\n",
       "      <td>female</td>\n",
       "      <td>26.0</td>\n",
       "      <td>0</td>\n",
       "      <td>0</td>\n",
       "      <td>7.9250</td>\n",
       "      <td>S</td>\n",
       "      <td>Third</td>\n",
       "      <td>woman</td>\n",
       "      <td>False</td>\n",
       "      <td>NaN</td>\n",
       "      <td>Southampton</td>\n",
       "      <td>yes</td>\n",
       "      <td>True</td>\n",
       "    </tr>\n",
       "  </tbody>\n",
       "</table>\n",
       "</div>"
      ],
      "text/plain": [
       "   survived  pclass     sex   age  sibsp  parch     fare embarked  class  \\\n",
       "0         0       3    male  22.0      1      0   7.2500        S  Third   \n",
       "1         1       1  female  38.0      1      0  71.2833        C  First   \n",
       "2         1       3  female  26.0      0      0   7.9250        S  Third   \n",
       "\n",
       "     who  adult_male deck  embark_town alive  alone  \n",
       "0    man        True  NaN  Southampton    no  False  \n",
       "1  woman       False    C    Cherbourg   yes  False  \n",
       "2  woman       False  NaN  Southampton   yes   True  "
      ]
     },
     "execution_count": 108,
     "metadata": {},
     "output_type": "execute_result"
    }
   ],
   "source": [
    "#arr = np.random.normal(size=[100])\n",
    "#my_series7 = pd.Series(arr)\n",
    "titanic.head(3)"
   ]
  },
  {
   "cell_type": "markdown",
   "metadata": {
    "slideshow": {
     "slide_type": "fragment"
    }
   },
   "source": [
    "The `tail` method selects the last observations in a DataFrame. "
   ]
  },
  {
   "cell_type": "markdown",
   "metadata": {
    "slideshow": {
     "slide_type": "slide"
    }
   },
   "source": [
    "## Row Selection (I/III)\n",
    "*How can we select certain rows in a Series when for given index **keys**?* "
   ]
  },
  {
   "cell_type": "markdown",
   "metadata": {
    "slideshow": {
     "slide_type": "fragment"
    }
   },
   "source": [
    "WIth the `loc` attribute. Example:"
   ]
  },
  {
   "cell_type": "code",
   "execution_count": 111,
   "metadata": {
    "slideshow": {
     "slide_type": "-"
    }
   },
   "outputs": [
    {
     "name": "stdout",
     "output_type": "stream",
     "text": [
      "yesterday    0\n",
      "today        1\n",
      "tomorrow     3\n",
      "dtype: int64\n",
      "\n",
      "today       1\n",
      "tomorrow    3\n",
      "dtype: int64\n"
     ]
    }
   ],
   "source": [
    "print(my_series3)\n",
    "\n",
    "my_loc = ['today', 'tomorrow']\n",
    "print()\n",
    "print(my_series3.loc[my_loc])"
   ]
  },
  {
   "cell_type": "markdown",
   "metadata": {
    "slideshow": {
     "slide_type": "slide"
    }
   },
   "source": [
    "## Row selection (II/III)\n",
    "*How can we select certain rows in a Series for given index **integers**?* "
   ]
  },
  {
   "cell_type": "markdown",
   "metadata": {
    "slideshow": {
     "slide_type": "fragment"
    }
   },
   "source": [
    "The `iloc` method selects rows for provided index integers. "
   ]
  },
  {
   "cell_type": "code",
   "execution_count": 112,
   "metadata": {
    "slideshow": {
     "slide_type": "-"
    }
   },
   "outputs": [
    {
     "name": "stdout",
     "output_type": "stream",
     "text": [
      "    survived  pclass     sex   age  sibsp\n",
      "10         1       3  female   4.0      1\n",
      "11         1       1  female  58.0      0\n",
      "12         0       3    male  20.0      0\n",
      "13         0       3    male  39.0      1\n",
      "14         0       3  female  14.0      0\n"
     ]
    }
   ],
   "source": [
    "print(titanic.iloc[10:15,:5])"
   ]
  },
  {
   "cell_type": "markdown",
   "metadata": {
    "slideshow": {
     "slide_type": "fragment"
    }
   },
   "source": [
    "Clearly, this is very similar to working with matrices in numpy! "
   ]
  },
  {
   "cell_type": "markdown",
   "metadata": {
    "slideshow": {
     "slide_type": "slide"
    }
   },
   "source": [
    "## Row selection (III/III)\n",
    "*Do our tools for vieving specific rows, i.e. `loc`, `iloc` work for DataFrames?* "
   ]
  },
  {
   "cell_type": "markdown",
   "metadata": {
    "slideshow": {
     "slide_type": "fragment"
    }
   },
   "source": [
    "- Yes, we can use both `loc` and `iloc`. As default they work the same."
   ]
  },
  {
   "cell_type": "code",
   "execution_count": 190,
   "metadata": {
    "slideshow": {
     "slide_type": "-"
    }
   },
   "outputs": [
    {
     "name": "stdout",
     "output_type": "stream",
     "text": [
      "     a  b\n",
      "i    1  2\n",
      "ii   3  4\n",
      "iii  5  6\n",
      "\n",
      "    a  b\n",
      "i   1  2\n",
      "ii  3  4\n",
      "\n",
      "    a  b\n",
      "i   1  2\n",
      "ii  3  4\n"
     ]
    }
   ],
   "source": [
    "my_idx = ['i', 'ii', 'iii']\n",
    "my_cols = ['a','b']\n",
    "\n",
    "my_data = np.arange(1,7) #my_data = [[1, 2], [3, 4], [5, 6]]\n",
    "my_data = my_data.reshape(3,2)\n",
    "\n",
    "my_df = pd.DataFrame(my_data, columns=my_cols, index=my_idx)\n",
    "\n",
    "print(my_df)\n",
    "print()\n",
    "print(my_df.loc[['i','ii']])\n",
    "print()\n",
    "print(my_df.iloc[:2])"
   ]
  },
  {
   "cell_type": "markdown",
   "metadata": {
    "slideshow": {
     "slide_type": "slide"
    }
   },
   "source": [
    "## Columns Selection (I/II)\n",
    "*How are `loc`, `iloc` different for DataFrames?* "
   ]
  },
  {
   "cell_type": "markdown",
   "metadata": {
    "slideshow": {
     "slide_type": "fragment"
    }
   },
   "source": [
    "- For DataFrames, we can also specify columns."
   ]
  },
  {
   "cell_type": "code",
   "execution_count": 191,
   "metadata": {
    "slideshow": {
     "slide_type": "-"
    }
   },
   "outputs": [
    {
     "name": "stdout",
     "output_type": "stream",
     "text": [
      "    a\n",
      "i   1\n",
      "ii  3\n"
     ]
    }
   ],
   "source": [
    "idx_keep = ['i','ii']\n",
    "cols_keep = ['a']\n",
    "print(my_df.loc[idx_keep, cols_keep])"
   ]
  },
  {
   "cell_type": "markdown",
   "metadata": {
    "slideshow": {
     "slide_type": "slide"
    }
   },
   "source": [
    "## Columns Selection (II/II)\n",
    "*How can we generally select columns in a DataFrame?* "
   ]
  },
  {
   "cell_type": "markdown",
   "metadata": {
    "slideshow": {
     "slide_type": "fragment"
    }
   },
   "source": [
    "- Option 1: using the `[]` and providing a list of columns.\n",
    "- Option 2: using `loc` and setting row selection as `:`."
   ]
  },
  {
   "cell_type": "code",
   "execution_count": 192,
   "metadata": {
    "slideshow": {
     "slide_type": "fragment"
    }
   },
   "outputs": [
    {
     "name": "stdout",
     "output_type": "stream",
     "text": [
      "     b\n",
      "i    2\n",
      "ii   4\n",
      "iii  6\n"
     ]
    }
   ],
   "source": [
    "print(my_df.loc[:,['b']])"
   ]
  },
  {
   "cell_type": "markdown",
   "metadata": {
    "slideshow": {
     "slide_type": "slide"
    }
   },
   "source": [
    "## Selection quiz\n",
    "*What does `:` do in `iloc` or `loc`?* "
   ]
  },
  {
   "cell_type": "markdown",
   "metadata": {
    "slideshow": {
     "slide_type": "fragment"
    }
   },
   "source": [
    "Select all rows (columns)."
   ]
  },
  {
   "cell_type": "markdown",
   "metadata": {
    "slideshow": {
     "slide_type": "slide"
    }
   },
   "source": [
    "# Modifying DataFrames"
   ]
  },
  {
   "cell_type": "markdown",
   "metadata": {
    "slideshow": {
     "slide_type": "slide"
    }
   },
   "source": [
    "## Modyfying DataFrames\n",
    "*Why do we want to modify DataFrames?*\n",
    "\n",
    "- Because data rarely comes in the form we want it.\n"
   ]
  },
  {
   "cell_type": "markdown",
   "metadata": {
    "slideshow": {
     "slide_type": "slide"
    }
   },
   "source": [
    "## Changing the Index (I/III)\n",
    "*How can we change the index of a DataFrame?*"
   ]
  },
  {
   "cell_type": "markdown",
   "metadata": {
    "slideshow": {
     "slide_type": "fragment"
    }
   },
   "source": [
    "We change or set a DataFrame's index using its method `set_index`. Example:"
   ]
  },
  {
   "cell_type": "code",
   "execution_count": 193,
   "metadata": {
    "scrolled": true,
    "slideshow": {
     "slide_type": "-"
    }
   },
   "outputs": [
    {
     "name": "stdout",
     "output_type": "stream",
     "text": [
      "   b\n",
      "a   \n",
      "1  2\n",
      "3  4\n",
      "5  6\n",
      "\n",
      "     a  b\n",
      "i    1  2\n",
      "ii   3  4\n",
      "iii  5  6\n"
     ]
    }
   ],
   "source": [
    "print(my_df.set_index('a'))\n",
    "print()\n",
    "print(my_df)"
   ]
  },
  {
   "cell_type": "markdown",
   "metadata": {
    "slideshow": {
     "slide_type": "fragment"
    }
   },
   "source": [
    "Clearly, doing so, we also implicitly delete the previous index.\n",
    "\n",
    "Also, notice the level shift in *b* due to this."
   ]
  },
  {
   "cell_type": "markdown",
   "metadata": {
    "slideshow": {
     "slide_type": "slide"
    }
   },
   "source": [
    "## Changing the Index (II/III)\n",
    "*Is our DataFrame changed? I.e. does it have a new index?*"
   ]
  },
  {
   "cell_type": "markdown",
   "metadata": {
    "slideshow": {
     "slide_type": "fragment"
    }
   },
   "source": [
    "No, we must overwrite it or make it into a new object:"
   ]
  },
  {
   "cell_type": "code",
   "execution_count": 194,
   "metadata": {
    "slideshow": {
     "slide_type": "-"
    }
   },
   "outputs": [
    {
     "name": "stdout",
     "output_type": "stream",
     "text": [
      "     a  b\n",
      "i    1  2\n",
      "ii   3  4\n",
      "iii  5  6\n",
      "\n",
      "   b\n",
      "a   \n",
      "1  2\n",
      "3  4\n",
      "5  6\n",
      "\n",
      "4\n"
     ]
    }
   ],
   "source": [
    "print(my_df)\n",
    "my_df_a = my_df.set_index('a')\n",
    "print()\n",
    "print(my_df_a)\n",
    "print()\n",
    "print(my_df_a.iloc[1,0])"
   ]
  },
  {
   "cell_type": "markdown",
   "metadata": {
    "slideshow": {
     "slide_type": "slide"
    }
   },
   "source": [
    "## Changing the index (III/III)\n",
    "\n",
    "Sometimes we wish to remove the index. This is done with the `reset_index` method:"
   ]
  },
  {
   "cell_type": "code",
   "execution_count": 195,
   "metadata": {
    "slideshow": {
     "slide_type": "-"
    }
   },
   "outputs": [
    {
     "name": "stdout",
     "output_type": "stream",
     "text": [
      "   a  b\n",
      "0  1  2\n",
      "1  3  4\n",
      "2  5  6\n",
      "\n",
      "   b\n",
      "0  2\n",
      "1  4\n",
      "2  6\n",
      "\n",
      "     a  b\n",
      "i    1  2\n",
      "ii   3  4\n",
      "iii  5  6\n"
     ]
    }
   ],
   "source": [
    "print(my_df_a.reset_index()) # drop=True\n",
    "print()\n",
    "print(my_df_a.reset_index(drop=True)) # drop=True\n",
    "print()\n",
    "print(my_df)"
   ]
  },
  {
   "cell_type": "markdown",
   "metadata": {
    "slideshow": {
     "slide_type": "-"
    }
   },
   "source": [
    "The old indices cannot be restored (that information was lost), but the interim index is by default made into a new variable.\n",
    "\n",
    "By specifying the keyword `drop`=True we delete this index."
   ]
  },
  {
   "cell_type": "markdown",
   "metadata": {
    "slideshow": {
     "slide_type": "-"
    }
   },
   "source": [
    "*To note:* Indices can have multiple levels, in this case `level` can be specified to delete a specific level."
   ]
  },
  {
   "cell_type": "markdown",
   "metadata": {
    "slideshow": {
     "slide_type": "slide"
    }
   },
   "source": [
    "## Changing the Column Names\n",
    "\n",
    "Column names can be changed with"
   ]
  },
  {
   "cell_type": "code",
   "execution_count": 196,
   "metadata": {
    "slideshow": {
     "slide_type": "-"
    }
   },
   "outputs": [
    {
     "name": "stdout",
     "output_type": "stream",
     "text": [
      "     a  b\n",
      "i    1  2\n",
      "ii   3  4\n",
      "iii  5  6\n",
      "\n",
      "     A  B\n",
      "i    1  2\n",
      "ii   3  4\n",
      "iii  5  6\n"
     ]
    }
   ],
   "source": [
    "print(my_df)\n",
    "my_df.columns = ['A', 'B']\n",
    "print()\n",
    "print(my_df)"
   ]
  },
  {
   "cell_type": "markdown",
   "metadata": {
    "slideshow": {
     "slide_type": "-"
    }
   },
   "source": [
    "DataFrame's also have the function called `rename`."
   ]
  },
  {
   "cell_type": "code",
   "execution_count": 197,
   "metadata": {
    "slideshow": {
     "slide_type": "-"
    }
   },
   "outputs": [
    {
     "name": "stdout",
     "output_type": "stream",
     "text": [
      "     A  B\n",
      "i    1  2\n",
      "ii   3  4\n",
      "iii  5  6\n",
      "\n",
      "     A  B\n",
      "i    1  2\n",
      "ii   3  4\n",
      "iii  5  6\n",
      "\n",
      "     Aa  B\n",
      "i     1  2\n",
      "ii    3  4\n",
      "iii   5  6\n"
     ]
    }
   ],
   "source": [
    "print(my_df)\n",
    "my_df.columns = ['A', 'B']\n",
    "print()\n",
    "print(my_df)\n",
    "my_df = my_df.rename(columns={'A': 'Aa'})\n",
    "print()\n",
    "print(my_df)"
   ]
  },
  {
   "cell_type": "markdown",
   "metadata": {
    "slideshow": {
     "slide_type": "slide"
    }
   },
   "source": [
    "## Changing all Column Values\n",
    "*How can we can update values in a DataFrame?*"
   ]
  },
  {
   "cell_type": "code",
   "execution_count": 198,
   "metadata": {},
   "outputs": [
    {
     "name": "stdout",
     "output_type": "stream",
     "text": [
      "     Aa  B\n",
      "i     1  2\n",
      "ii    3  4\n",
      "iii   5  6\n",
      "\n",
      "     Aa  B\n",
      "i     1  3\n",
      "ii    3  3\n",
      "iii   5  3\n",
      "\n",
      "     Aa   B\n",
      "i     1   2\n",
      "ii    3  17\n",
      "iii   5   0\n"
     ]
    }
   ],
   "source": [
    "print(my_df)\n",
    "\n",
    "# # set uniform value\n",
    "my_df['B'] = 3\n",
    "print()\n",
    "print(my_df)\n",
    "\n",
    "# set different values\n",
    "my_df['B'] = [2,17,0] \n",
    "print()\n",
    "print(my_df)"
   ]
  },
  {
   "cell_type": "markdown",
   "metadata": {
    "slideshow": {
     "slide_type": "slide"
    }
   },
   "source": [
    "## Changing Specific Column Values\n",
    "*How can we can update values in a DataFrame?*"
   ]
  },
  {
   "cell_type": "code",
   "execution_count": 202,
   "metadata": {},
   "outputs": [
    {
     "name": "stdout",
     "output_type": "stream",
     "text": [
      "     Aa   B\n",
      "i    10   2\n",
      "ii    3  17\n",
      "iii  10   0\n",
      "\n",
      "     Aa   B\n",
      "i    10   2\n",
      "ii    3  17\n",
      "iii  10   0\n"
     ]
    }
   ],
   "source": [
    "print(my_df)\n",
    "\n",
    "# loc, iloc\n",
    "my_loc2 = ['i', 'iii']\n",
    "my_df.loc[my_loc2, 'Aa'] = 10\n",
    "\n",
    "print()\n",
    "print(my_df)"
   ]
  },
  {
   "cell_type": "markdown",
   "metadata": {
    "slideshow": {
     "slide_type": "slide"
    }
   },
   "source": [
    "## Sorting Data"
   ]
  },
  {
   "cell_type": "markdown",
   "metadata": {
    "slideshow": {
     "slide_type": "-"
    }
   },
   "source": [
    "A DataFrame can be sorted with `sort_values`; this method takes one or more columns to sort by. "
   ]
  },
  {
   "cell_type": "code",
   "execution_count": 203,
   "metadata": {
    "scrolled": true,
    "slideshow": {
     "slide_type": "-"
    }
   },
   "outputs": [
    {
     "name": "stdout",
     "output_type": "stream",
     "text": [
      "     Aa   B\n",
      "ii    3  17\n",
      "i    10   2\n",
      "iii  10   0\n"
     ]
    }
   ],
   "source": [
    "print(my_df.sort_values(by='Aa', ascending=True))"
   ]
  },
  {
   "cell_type": "markdown",
   "metadata": {
    "slideshow": {
     "slide_type": "fragment"
    }
   },
   "source": [
    "*To note:* Many key word arguments are possible for sort_values, including ascending if for one or more valuable we want descending values. \n",
    "\n",
    "Sorting by index is possible with `sort_index`."
   ]
  },
  {
   "cell_type": "code",
   "execution_count": 204,
   "metadata": {
    "scrolled": true,
    "slideshow": {
     "slide_type": "-"
    }
   },
   "outputs": [
    {
     "name": "stdout",
     "output_type": "stream",
     "text": [
      "     Aa   B\n",
      "i    10   2\n",
      "ii    3  17\n",
      "iii  10   0\n"
     ]
    }
   ],
   "source": [
    "print(my_df.sort_index())"
   ]
  },
  {
   "cell_type": "markdown",
   "metadata": {
    "slideshow": {
     "slide_type": "slide"
    }
   },
   "source": [
    "# DataFrame IO: Loading and Storing"
   ]
  },
  {
   "cell_type": "markdown",
   "metadata": {
    "slideshow": {
     "slide_type": "slide"
    }
   },
   "source": [
    "## Reading DataFrames (I/II)"
   ]
  },
  {
   "cell_type": "markdown",
   "metadata": {
    "slideshow": {
     "slide_type": "fragment"
    }
   },
   "source": [
    "Download the file from [URL](https://api.statbank.dk/v1/data/FOLK1A/CSV?lang=en&Tid=*). Open directly in Pandas."
   ]
  },
  {
   "cell_type": "code",
   "execution_count": 216,
   "metadata": {
    "slideshow": {
     "slide_type": "-"
    }
   },
   "outputs": [
    {
     "name": "stdout",
     "output_type": "stream",
     "text": [
      "      TID  INDHOLD\n",
      "0  2008Q1  5475791\n",
      "1  2008Q2  5482266\n",
      "2  2008Q3  5489022\n",
      "3  2008Q4  5505995\n",
      "4  2009Q1  5511451\n"
     ]
    }
   ],
   "source": [
    "url = 'https://api.statbank.dk/v1/data/FOLK1A/CSV?lang=en&Tid=*'\n",
    "df = pd.read_csv(url, sep=';') # open the file as dataframe\n",
    "print(df.head(5))"
   ]
  },
  {
   "cell_type": "markdown",
   "metadata": {
    "slideshow": {
     "slide_type": "-"
    }
   },
   "source": [
    "Tomorrow we'll learn how to parse time column!"
   ]
  },
  {
   "cell_type": "markdown",
   "metadata": {
    "slideshow": {
     "slide_type": "slide"
    }
   },
   "source": [
    "## Reading DataFrames (II/II)\n",
    "\n",
    "Now let's try opening the file from the [URL](https://api.statbank.dk/v1/data/FOLK1A/CSV?lang=en&Tid=*) as a local file:"
   ]
  },
  {
   "cell_type": "code",
   "execution_count": 220,
   "metadata": {
    "slideshow": {
     "slide_type": "-"
    }
   },
   "outputs": [
    {
     "name": "stdout",
     "output_type": "stream",
     "text": [
      "      TID  INDHOLD\n",
      "0  2008Q1  5475791\n",
      "1  2008Q2  5482266\n"
     ]
    }
   ],
   "source": [
    "abs_path = 'C:/Users/xtw562/Downloads/FOLK1A.csv' # absolute path \n",
    "rel_path = 'FOLK1A.csv' # relative path \n",
    "\n",
    "df = pd.read_csv(rel_path, sep=';') # open the file as dataframe\n",
    "print(df.head(2))"
   ]
  },
  {
   "cell_type": "markdown",
   "metadata": {
    "slideshow": {
     "slide_type": "-"
    }
   },
   "source": [
    "- absolute path: entire path starting from which disk etc.\n",
    "- relative paths: from where your program, i.e. Jupyter is"
   ]
  },
  {
   "cell_type": "markdown",
   "metadata": {
    "slideshow": {
     "slide_type": "slide"
    }
   },
   "source": [
    "## Reading Other Data Types"
   ]
  },
  {
   "cell_type": "markdown",
   "metadata": {
    "slideshow": {
     "slide_type": "fragment"
    }
   },
   "source": [
    "Other pandas readers include:  excel, sql, sas, stata and many more."
   ]
  },
  {
   "cell_type": "markdown",
   "metadata": {
    "slideshow": {
     "slide_type": "slide"
    }
   },
   "source": [
    "## Storing Data\n",
    "\n",
    "Data can be stored in a particular format with to_(FORMAT) where (FORMAT) is the file type such as csv. Let's try with to_csv:\n",
    "\n"
   ]
  },
  {
   "cell_type": "code",
   "execution_count": 221,
   "metadata": {
    "slideshow": {
     "slide_type": "-"
    }
   },
   "outputs": [],
   "source": [
    "df.to_csv('DST_people_count.csv', index=False)"
   ]
  },
  {
   "cell_type": "markdown",
   "metadata": {
    "slideshow": {
     "slide_type": "fragment"
    }
   },
   "source": [
    "Should we always set `index=False`? \n",
    "\n",
    "Usually, but maybe indices contain information, e.g. in time series or after groupby operation. "
   ]
  }
 ],
 "metadata": {
  "celltoolbar": "Slideshow",
  "kernelspec": {
   "display_name": "Python 3",
   "language": "python",
   "name": "python3"
  },
  "language_info": {
   "codemirror_mode": {
    "name": "ipython",
    "version": 3
   },
   "file_extension": ".py",
   "mimetype": "text/x-python",
   "name": "python",
   "nbconvert_exporter": "python",
   "pygments_lexer": "ipython3",
   "version": "3.8.5"
  }
 },
 "nbformat": 4,
 "nbformat_minor": 2
}
