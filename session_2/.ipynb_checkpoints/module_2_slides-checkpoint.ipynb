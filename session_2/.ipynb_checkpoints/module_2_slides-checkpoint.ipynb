{
 "cells": [
  {
   "cell_type": "markdown",
   "metadata": {
    "slideshow": {
     "slide_type": "slide"
    }
   },
   "source": [
    "# Session 1 Recap"
   ]
  },
  {
   "cell_type": "markdown",
   "metadata": {
    "slideshow": {
     "slide_type": "slide"
    }
   },
   "source": [
    "## Recap (I/III) \n",
    "\n",
    "Three trends driving increasing interest in data science:\n",
    "- **Data** is increasingly available\n",
    "- Faster and bigger **computers**\n",
    "- Improved **algorithms**, methods for computation amd accessability of tools\n",
    "\n",
    "*Social data science* captures certain applications of data science within social sciences:\n",
    "- **Handling** (big) sets of structured (tabular) and unstructured (image, text and social media) data\n",
    "- **Analyzing** data with machine learning techniques (statistics, causal inference and economic modelling)"
   ]
  },
  {
   "cell_type": "markdown",
   "metadata": {
    "slideshow": {
     "slide_type": "slide"
    }
   },
   "source": [
    "## Recap (II/III) \n",
    "\n",
    "In this course, we use Python for most tasks:\n",
    "- **Other popular languages** out there (e.g. R and Julia)\n",
    "- However, Python is becoming increasingly popular due to**broad applicability** (data structuring, ML, general programming) and **ease of learning**\n",
    "\n",
    "However, not that easy to learn... Remember:\n",
    "- Coding takes **time** and **practice** to learn\n",
    "- We are here to **help** you!\n",
    "- Eventually, you will **learn the fundamentals**\n",
    "\n",
    "When you have learned the fundamentals, there are other margins to focus on:\n",
    "- **Speed**: Use functions and classes when possible\n",
    "- **Clarity**: Remember to annotate code so that others (including 'future you') understand what you have done"
   ]
  },
  {
   "cell_type": "markdown",
   "metadata": {
    "slideshow": {
     "slide_type": "slide"
    }
   },
   "source": [
    "## Recap (III/III) \n",
    "\n",
    "Git is popular for file sharing and collaborative coding\n",
    "- **Track changes** system for files (log of all changes is kept)\n",
    "- **Share the files** you want, how you want (you can 'copy' repositories)\n",
    "\n",
    "Markdown is an easy and flexible alternative to LaTeX for building slides:\n",
    "- **Coding** is easy and fast!\n",
    "- Works well with **Jupyter**"
   ]
  },
  {
   "cell_type": "markdown",
   "metadata": {
    "slideshow": {
     "slide_type": "slide"
    }
   },
   "source": [
    "## Questions?\n",
    "\n",
    "<center><img src='https://media.giphy.com/media/7PfwoiCwBp6Ra/giphy.gif' alt=\"Drawing\" style=\"width: 400px;\"/></center>"
   ]
  },
  {
   "cell_type": "markdown",
   "metadata": {
    "slideshow": {
     "slide_type": "slide"
    }
   },
   "source": [
    "# Session 2: Strings and APIs"
   ]
  },
  {
   "cell_type": "markdown",
   "metadata": {
    "slideshow": {
     "slide_type": "slide"
    }
   },
   "source": [
    "## Overview of Session\n",
    "\n",
    "Today, we will work with strings, requests and APIs. In particular, we will cover:\n",
    "- Text as data:\n",
    "    - What is a string, and how do we work with it?\n",
    "    - What kinds of text data does there exist?\n",
    "- Interacting with the web:\n",
    "    - What is HTTP and HTML?\n",
    "    - What is an API, and how do interact with it?\n",
    "- Leveraging APIs:\n",
    "    - What kinds of data can be extracted via an API?\n",
    "    - How do we translate an API into useful data?"
   ]
  },
  {
   "cell_type": "markdown",
   "metadata": {
    "slideshow": {
     "slide_type": "slide"
    }
   },
   "source": [
    "## Associated Readings\n",
    "\n",
    "Gazarov (2016): \"What is an API? In English, please.\"\n",
    "- Excellent and easily understood intro to the concept\n",
    "- Examples of different 'types' of APIs\n",
    "- Intro to the concepts of servers, clients and HTML\n",
    "\n",
    "PDA:\n",
    "- Section 2.3: How to work with strings in Python\n",
    "- Section 3.3: Opening text files, interpreting characters\n",
    "- Section 6.1: Opening and working with CSV files\n",
    "- Section 6.3: Intro to interacting with APIs\n",
    "- Section 7.3: Manipulating strings"
   ]
  },
  {
   "cell_type": "markdown",
   "metadata": {
    "slideshow": {
     "slide_type": "slide"
    }
   },
   "source": [
    "# Text Data and Containers"
   ]
  },
  {
   "cell_type": "markdown",
   "metadata": {
    "slideshow": {
     "slide_type": "slide"
    }
   },
   "source": [
    "## Why Text Data\n",
    "\n",
    "Data is everywhere... and collection is taking speed! \n",
    "- Personal devices and [what we have at home](https://www.washingtonpost.com/technology/2019/05/06/alexa-has-been-eavesdropping-you-this-whole-time/)\n",
    "- Online in terms of news websites, wikipedia, social media, blogs, document archives \n",
    "\n",
    "Working with text data opens up interesting new avenues for analysis and research. Some cool examples:\n",
    "  - [The predictive information from central bank meeting minutes](https://sekhansen.github.io/pdf_files/qje_2018.pdf)\n",
    "  - [Choice of words by politicians - which shows increased polarization](https://www.brown.edu/Research/Shapiro/pdfs/politext.pdf)"
   ]
  },
  {
   "cell_type": "markdown",
   "metadata": {
    "slideshow": {
     "slide_type": "slide"
    }
   },
   "source": [
    "## How Text Data\n",
    "\n",
    "Data from the web often comes in HTML or other text format\n",
    "\n",
    "In this course, you will get tools to do basic work with text as data.\n",
    "\n",
    "However, in order to do that:\n",
    "\n",
    "- learn how to manipulate and save strings\n",
    "- save our text data in smart ways (JSON)\n",
    "- interact with the web\n",
    "\n"
   ]
  },
  {
   "cell_type": "markdown",
   "metadata": {
    "slideshow": {
     "slide_type": "slide"
    }
   },
   "source": [
    "# Interacting with the Web"
   ]
  },
  {
   "cell_type": "markdown",
   "metadata": {
    "slideshow": {
     "slide_type": "slide"
    }
   },
   "source": [
    "## The Internet as Data (I/II)\n",
    "\n",
    "When we surf around the internet we are exposed to a wealth of information."
   ]
  },
  {
   "cell_type": "markdown",
   "metadata": {
    "slideshow": {
     "slide_type": "fragment"
    }
   },
   "source": [
    "- What if we could take this and analyze it?"
   ]
  },
  {
   "cell_type": "markdown",
   "metadata": {
    "slideshow": {
     "slide_type": "fragment"
    }
   },
   "source": [
    "Well, we can. And we will. "
   ]
  },
  {
   "cell_type": "markdown",
   "metadata": {
    "slideshow": {
     "slide_type": "fragment"
    }
   },
   "source": [
    "Examples: Facebook, Twitter, Reddit, Wikipedia, Airbnb etc."
   ]
  },
  {
   "cell_type": "markdown",
   "metadata": {
    "slideshow": {
     "slide_type": "slide"
    }
   },
   "source": [
    "## The Internet as Data (II/II)\n",
    "\n",
    "Sometimes we get lucky. The data is served to us."
   ]
  },
  {
   "cell_type": "markdown",
   "metadata": {
    "slideshow": {
     "slide_type": "fragment"
    }
   },
   "source": [
    "- The data is provided as an `API` service (today)\n",
    "- The data can extracted by queries on underlying tables (scraping sessions)\n"
   ]
  },
  {
   "cell_type": "markdown",
   "metadata": {
    "slideshow": {
     "slide_type": "fragment"
    }
   },
   "source": [
    "However, often we need to do the work ourselves (scraping sessions)\n",
    "\n",
    "- We need to explore the structure of the webpage we are interested in\n",
    "- We can extract relevant elements \n",
    "   "
   ]
  },
  {
   "cell_type": "markdown",
   "metadata": {
    "slideshow": {
     "slide_type": "slide"
    }
   },
   "source": [
    "## Web Interactions\n",
    "\n",
    "In the words of Gazarov (2016): The web can be seen as a large network of connected servers\n",
    "- Every page on the internet is stored somewhere on a remote server\n",
    "    - Remove server $\\sim$ remotely located computer that is optimized to process requests"
   ]
  },
  {
   "cell_type": "markdown",
   "metadata": {
    "slideshow": {
     "slide_type": "fragment"
    }
   },
   "source": [
    "- When accessing a web page through browser:\n",
    "    - Your browser (the *client*) sends a request to the website's server\n",
    "    - The server then sends code back to the browser\n",
    "    - This code is interpreted by the browser and displayed\n"
   ]
  },
  {
   "cell_type": "markdown",
   "metadata": {
    "slideshow": {
     "slide_type": "fragment"
    }
   },
   "source": [
    "- Websites come in the form of HTML $-$ APIs only contain data (often in *JSON* format) without presentational overhead"
   ]
  },
  {
   "cell_type": "markdown",
   "metadata": {
    "slideshow": {
     "slide_type": "slide"
    }
   },
   "source": [
    "## The Web Protocol\n",
    "*What is `http` and where is it used?*"
   ]
  },
  {
   "cell_type": "markdown",
   "metadata": {
    "slideshow": {
     "slide_type": "fragment"
    }
   },
   "source": [
    "- `http` stands for HyperText Transfer Protocol.\n",
    "- `http` is good for transmitting the data when a webpage is visited:\n",
    "   - the visiting client sends request for URL or object;\n",
    "   - the server returns relevant data if active."
   ]
  },
  {
   "cell_type": "markdown",
   "metadata": {
    "slideshow": {
     "slide_type": "fragment"
    }
   },
   "source": [
    "*Should we care about `http`?*"
   ]
  },
  {
   "cell_type": "markdown",
   "metadata": {
    "slideshow": {
     "slide_type": "fragment"
    }
   },
   "source": [
    "- In this course we ***do not*** care explicitly about `http`. \n",
    "- We use a Python module called `requests` as a `http` interface.\n",
    "- However... Some useful advice - you should **always**:\n",
    "  - use the encrypted version, `https`;\n",
    "  - use authenticated connection, i.e. private login, whenever possible."
   ]
  },
  {
   "cell_type": "markdown",
   "metadata": {
    "slideshow": {
     "slide_type": "slide"
    }
   },
   "source": [
    "## Markup Language\n",
    "*What is `html` and where is it used?*"
   ]
  },
  {
   "cell_type": "markdown",
   "metadata": {
    "slideshow": {
     "slide_type": "fragment"
    }
   },
   "source": [
    "- HyperText Markup Lanugage\n",
    "- `html` is a language for communicating how a webpage looks like and behaves.\n",
    "  - That is, `html` contains: content, design, available actions."
   ]
  },
  {
   "cell_type": "markdown",
   "metadata": {
    "slideshow": {
     "slide_type": "fragment"
    }
   },
   "source": [
    "*Should we care about `html`?*"
   ]
  },
  {
   "cell_type": "markdown",
   "metadata": {
    "slideshow": {
     "slide_type": "fragment"
    }
   },
   "source": [
    "- Yes, `html` is often where the interesting data can be found.\n",
    "- Sometimes, we are lucky, and instead of `html` we get a JSON in return. \n",
    "- Getting data from `html` will the topic of the subsequent scraping sessions."
   ]
  },
  {
   "cell_type": "markdown",
   "metadata": {
    "slideshow": {
     "slide_type": "slide"
    }
   },
   "source": [
    "# Web APIs "
   ]
  },
  {
   "cell_type": "markdown",
   "metadata": {
    "slideshow": {
     "slide_type": "slide"
    }
   },
   "source": [
    "## Web APIs (I/III)\n",
    "*So when do we get lucky, i.e. when is `html` not important?*"
   ]
  },
  {
   "cell_type": "markdown",
   "metadata": {
    "slideshow": {
     "slide_type": "fragment"
    }
   },
   "source": [
    "- When we get a Application Programming Interface (`API`) on the web\n",
    "- What does this mean?\n",
    "  - We send a query to the Web API \n",
    "  - We get a response from the Web API with data back in return, typically as JSON.\n",
    "  - The API usually provides access to a database or some service"
   ]
  },
  {
   "cell_type": "markdown",
   "metadata": {
    "slideshow": {
     "slide_type": "slide"
    }
   },
   "source": [
    "## Web APIs (II/III)\n",
    "*So where is the API?*"
   ]
  },
  {
   "cell_type": "markdown",
   "metadata": {
    "slideshow": {
     "slide_type": "fragment"
    }
   },
   "source": [
    "- Usually on separate sub-domain, e.g. `api.github.com`\n",
    "- Sometimes hidden in code (see sessions on scraping) "
   ]
  },
  {
   "cell_type": "markdown",
   "metadata": {
    "slideshow": {
     "slide_type": "fragment"
    }
   },
   "source": [
    "*So how do we know how the API works?*"
   ]
  },
  {
   "cell_type": "markdown",
   "metadata": {
    "slideshow": {
     "slide_type": "fragment"
    }
   },
   "source": [
    "- There usually is some documentation. E.g. google [\"api github com\"](https://www.google.com/search?q=api+github)"
   ]
  },
  {
   "cell_type": "markdown",
   "metadata": {
    "slideshow": {
     "slide_type": "slide"
    }
   },
   "source": [
    "## Web APIs (III/III)\n",
    "*So is data free? As in free lunch?*"
   ]
  },
  {
   "cell_type": "markdown",
   "metadata": {
    "slideshow": {
     "slide_type": "fragment"
    }
   },
   "source": [
    "- Most commercial APIs require authentication and have limited free usage\n",
    "  - e.g. Google Maps, various weather services\n",
    "- Some open APIs that are free\n",
    "  - Danish \n",
    "    - Danish statistics (DST)\n",
    "    - Danish weather data (DMI, this fall)\n",
    "    - Danish spatial data (DAWA, danish addresses) \n",
    "  - Global\n",
    "      - OpenStreetMaps, Wikipedia\n",
    "- If no authentication is required the API may be delimited.\n",
    "  - This means only a certain number of requests can be handled per second or per hour from a given IP address."
   ]
  },
  {
   "cell_type": "code",
   "execution_count": null,
   "metadata": {},
   "outputs": [],
   "source": [
    "############################################\n",
    "### NOT CLEAR WHERE THIS SLIDE SHOULD BE ###\n",
    "############################################\n",
    "\n",
    "import os\n",
    "\n",
    "# Find current wokring directory\n",
    "print(os.getcwd()) # Check working directory\n",
    "\n",
    "# What files are stored here?\n",
    "print(os.listdir(os.getcwd())) # Check files in working directory\n",
    "\n",
    "# I want to access the folder 'my_csv_file'. How?\n",
    "\n",
    "# I can also change the directory (note 'forward slash'!)\n",
    "os.chdir('C:/Users/xtw562/Documents/isds2021-master/teaching_material/session_2/my_csv_file')\n",
    "print(os.listdir(os.getcwd())) # Check files in working directory\n",
    "\n",
    "# And change back again!\n",
    "os.chdir('C:/Users/xtw562/Documents/isds2021-master/teaching_material/session_2')\n",
    "print(os.listdir(os.getcwd())) # Check files in working directory\n",
    "\n",
    "############################################\n",
    "### NOT CLEAR WHERE THIS SLIDE SHOULD BE ###\n",
    "############################################\n",
    "\n",
    "import pandas as pd\n",
    "\n",
    "# The simple case\n",
    "data = pd.read_csv('my_csv_file/titanic.csv')\n",
    "print(data.head(10))\n",
    "\n",
    "print(dtype)\n",
    "\n",
    "data = pd.read_csv(\n",
    "    'data/files/complex_data_example.tsv',      # relative python path to subdirectory\n",
    "    sep='\\t'           # Tab-separated value file.\n",
    "    quotechar=\"'\",        # single quote allowed as quote character\n",
    "    dtype={\"salary\": int},             # Parse the salary column as an integer \n",
    "    usecols=['name', 'birth_date', 'salary'].   # Only load the three columns specified.\n",
    "    parse_dates=['birth_date'],     # Intepret the birth_date column as a date\n",
    "    skiprows=10,         # Skip the first 10 rows of the file\n",
    "    na_values=['.', '??']       # Take any '.' or '??' values as NA\n",
    ")"
   ]
  }
 ],
 "metadata": {
  "celltoolbar": "Slideshow",
  "kernelspec": {
   "display_name": "Python 3",
   "language": "python",
   "name": "python3"
  },
  "language_info": {
   "codemirror_mode": {
    "name": "ipython",
    "version": 3
   },
   "file_extension": ".py",
   "mimetype": "text/x-python",
   "name": "python",
   "nbconvert_exporter": "python",
   "pygments_lexer": "ipython3",
   "version": "3.8.5"
  }
 },
 "nbformat": 4,
 "nbformat_minor": 4
}
