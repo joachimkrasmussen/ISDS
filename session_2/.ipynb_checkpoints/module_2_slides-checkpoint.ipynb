{
 "cells": [
  {
   "cell_type": "markdown",
   "metadata": {
    "slideshow": {
     "slide_type": "slide"
    }
   },
   "source": [
    "# Session 1 Recap"
   ]
  },
  {
   "cell_type": "markdown",
   "metadata": {
    "slideshow": {
     "slide_type": "slide"
    }
   },
   "source": []
  },
  {
   "cell_type": "markdown",
   "metadata": {
    "slideshow": {
     "slide_type": "slide"
    }
   },
   "source": [
    "## Recap (II/III) \n",
    "\n",
    "In this course, we use Python for most tasks:\n",
    "- **Other popular languages** out there (e.g. R and Julia)\n",
    "- However, Python is becoming increasingly popular due to**broad applicability** (data structuring, ML, general programming) and **ease of learning**\n",
    "\n",
    "However, not that easy to learn... Remember:\n",
    "- Coding takes **time** and **practice** to learn\n",
    "- We are here to **help** you!\n",
    "- Eventually, you will **learn the fundamentals**\n",
    "\n",
    "When you have learned the fundamentals, there are other margins to focus on:\n",
    "- **Speed**: Use functions and classes when possible\n",
    "- **Clarity**: Remember to annotate code so that others (including 'future you') understand what you have done"
   ]
  },
  {
   "cell_type": "markdown",
   "metadata": {
    "slideshow": {
     "slide_type": "slide"
    }
   },
   "source": [
    "## Recap (III/III) \n",
    "\n",
    "Git is popular for file sharing and collaborative coding\n",
    "- **Track changes** system for files (log of all changes is kept)\n",
    "- **Share the files** you want, how you want (you can 'copy' repositories)\n",
    "\n",
    "Markdown is an easy and flexible alternative to LaTeX for building slides:\n",
    "- **Coding** is easy and fast!\n",
    "- Works well with **Jupyter**"
   ]
  },
  {
   "cell_type": "markdown",
   "metadata": {
    "slideshow": {
     "slide_type": "slide"
    }
   },
   "source": [
    "## Questions?\n",
    "\n",
    "<center><img src='https://media.giphy.com/media/7PfwoiCwBp6Ra/giphy.gif' alt=\"Drawing\" style=\"width: 400px;\"/></center>"
   ]
  },
  {
   "cell_type": "code",
   "execution_count": 25,
   "metadata": {},
   "outputs": [
    {
     "name": "stdout",
     "output_type": "stream",
     "text": [
      "C:\\Users\\xtw562\\Documents\\isds2021-master\\teaching_material\\session_2\n",
      "['.ipynb_checkpoints', 'json_testing.json', 'module_2.ipynb', 'module_2_mysol.ipynb', 'module_2_slides.ipynb', 'module_2_solution.ipynb', 'my_csv_file', 'my_file.JSON', 'my_file.txt', 'to_do_list.txt']\n",
      "['titanic.csv']\n",
      "['.ipynb_checkpoints', 'json_testing.json', 'module_2.ipynb', 'module_2_mysol.ipynb', 'module_2_slides.ipynb', 'module_2_solution.ipynb', 'my_csv_file', 'my_file.JSON', 'my_file.txt', 'to_do_list.txt']\n"
     ]
    }
   ],
   "source": [
    "############################################\n",
    "### NOT CLEAR WHERE THIS SLIDE SHOULD BE ###\n",
    "############################################\n",
    "\n",
    "import os\n",
    "\n",
    "# Find current wokring directory\n",
    "print(os.getcwd()) # Check working directory\n",
    "\n",
    "# What files are stored here?\n",
    "print(os.listdir(os.getcwd())) # Check files in working directory\n",
    "\n",
    "# I want to access the folder 'my_csv_file'. How?\n",
    "\n",
    "# I can also change the directory (note 'forward slash'!)\n",
    "os.chdir('C:/Users/xtw562/Documents/isds2021-master/teaching_material/session_2/my_csv_file')\n",
    "print(os.listdir(os.getcwd())) # Check files in working directory\n",
    "\n",
    "# And change back again!\n",
    "os.chdir('C:/Users/xtw562/Documents/isds2021-master/teaching_material/session_2')\n",
    "print(os.listdir(os.getcwd())) # Check files in working directory"
   ]
  },
  {
   "cell_type": "code",
   "execution_count": 41,
   "metadata": {},
   "outputs": [
    {
     "name": "stdout",
     "output_type": "stream",
     "text": [
      "   id      class     age  sex survived\n",
      "0   1  1st class  adults  man      yes\n",
      "1   2  1st class  adults  man      yes\n",
      "2   3  1st class  adults  man      yes\n",
      "3   4  1st class  adults  man      yes\n",
      "4   5  1st class  adults  man      yes\n",
      "5   6  1st class  adults  man      yes\n",
      "6   7  1st class  adults  man      yes\n",
      "7   8  1st class  adults  man      yes\n",
      "8   9  1st class  adults  man      yes\n",
      "9  10  1st class  adults  man      yes\n"
     ]
    },
    {
     "ename": "NameError",
     "evalue": "name 'dtype' is not defined",
     "output_type": "error",
     "traceback": [
      "\u001b[1;31m---------------------------------------------------------------------------\u001b[0m",
      "\u001b[1;31mNameError\u001b[0m                                 Traceback (most recent call last)",
      "\u001b[1;32m<ipython-input-41-99d187e4a350>\u001b[0m in \u001b[0;36m<module>\u001b[1;34m\u001b[0m\n\u001b[0;32m      9\u001b[0m \u001b[0mprint\u001b[0m\u001b[1;33m(\u001b[0m\u001b[0mdata\u001b[0m\u001b[1;33m.\u001b[0m\u001b[0mhead\u001b[0m\u001b[1;33m(\u001b[0m\u001b[1;36m10\u001b[0m\u001b[1;33m)\u001b[0m\u001b[1;33m)\u001b[0m\u001b[1;33m\u001b[0m\u001b[1;33m\u001b[0m\u001b[0m\n\u001b[0;32m     10\u001b[0m \u001b[1;33m\u001b[0m\u001b[0m\n\u001b[1;32m---> 11\u001b[1;33m \u001b[0mprint\u001b[0m\u001b[1;33m(\u001b[0m\u001b[0mdtype\u001b[0m\u001b[1;33m)\u001b[0m\u001b[1;33m\u001b[0m\u001b[1;33m\u001b[0m\u001b[0m\n\u001b[0m",
      "\u001b[1;31mNameError\u001b[0m: name 'dtype' is not defined"
     ]
    }
   ],
   "source": [
    "############################################\n",
    "### NOT CLEAR WHERE THIS SLIDE SHOULD BE ###\n",
    "############################################\n",
    "\n",
    "import pandas as pd\n",
    "\n",
    "# The simple case\n",
    "data = pd.read_csv('my_csv_file/titanic.csv')\n",
    "print(data.head(10))\n",
    "\n",
    "print(dtype)"
   ]
  },
  {
   "cell_type": "code",
   "execution_count": null,
   "metadata": {},
   "outputs": [],
   "source": [
    "data = pd.read_csv(\n",
    "    'data/files/complex_data_example.tsv',      # relative python path to subdirectory\n",
    "    sep='\\t'           # Tab-separated value file.\n",
    "    quotechar=\"'\",        # single quote allowed as quote character\n",
    "    dtype={\"salary\": int},             # Parse the salary column as an integer \n",
    "    usecols=['name', 'birth_date', 'salary'].   # Only load the three columns specified.\n",
    "    parse_dates=['birth_date'],     # Intepret the birth_date column as a date\n",
    "    skiprows=10,         # Skip the first 10 rows of the file\n",
    "    na_values=['.', '??']       # Take any '.' or '??' values as NA\n",
    ")"
   ]
  },
  {
   "cell_type": "markdown",
   "metadata": {
    "slideshow": {
     "slide_type": "slide"
    }
   },
   "source": [
    "# Text data and containers"
   ]
  },
  {
   "cell_type": "markdown",
   "metadata": {
    "slideshow": {
     "slide_type": "slide"
    }
   },
   "source": [
    "## Why text data\n",
    "\n",
    "Data is everywhere \n",
    "- from our personal devices and what we have at home\n",
    "- online in terms of news websites, wikipedia, social media, blogs, document archives \n",
    "\n",
    "\n",
    "Data from the web often comes in HTML or other text format\n",
    "\n",
    "Working with text data opens up interesting new avenues for analysis and research:\n",
    "  - [the predictive information from central bank meeting minutes](https://sekhansen.github.io/pdf_files/qje_2018.pdf)\n",
    "  - [choice of words by politicians - which shows increased polarization](https://www.brown.edu/Research/Shapiro/pdfs/politext.pdf)"
   ]
  },
  {
   "cell_type": "markdown",
   "metadata": {
    "slideshow": {
     "slide_type": "slide"
    }
   },
   "source": [
    "## How text data\n",
    "\n",
    "In this course you will get tools to do basic work with text as data.\n",
    "\n",
    "However, in order to do that:\n",
    "\n",
    "- learn how to manipulate and save strings\n",
    "- save our text data in smart ways (JSON)\n",
    "- interact with the web\n",
    "\n"
   ]
  },
  {
   "cell_type": "markdown",
   "metadata": {
    "slideshow": {
     "slide_type": "slide"
    }
   },
   "source": [
    "# Interacting with the web"
   ]
  },
  {
   "cell_type": "markdown",
   "metadata": {
    "slideshow": {
     "slide_type": "slide"
    }
   },
   "source": [
    "## The internet as data\n",
    "\n",
    "When we surf around the internet we are exposed to a wealth of information."
   ]
  },
  {
   "cell_type": "markdown",
   "metadata": {
    "slideshow": {
     "slide_type": "fragment"
    }
   },
   "source": [
    "- What if we could take this and analyze it?"
   ]
  },
  {
   "cell_type": "markdown",
   "metadata": {
    "slideshow": {
     "slide_type": "fragment"
    }
   },
   "source": [
    "Well, we can. And we will. "
   ]
  },
  {
   "cell_type": "markdown",
   "metadata": {
    "slideshow": {
     "slide_type": "fragment"
    }
   },
   "source": [
    "Examples: Facebook, Twitter, Reddit, Wikipedia, Airbnb etc."
   ]
  },
  {
   "cell_type": "markdown",
   "metadata": {
    "slideshow": {
     "slide_type": "slide"
    }
   },
   "source": [
    "## The internet as data (2)\n",
    "\n",
    "Some times we get lucky. The data is served to us."
   ]
  },
  {
   "cell_type": "markdown",
   "metadata": {
    "slideshow": {
     "slide_type": "fragment"
    }
   },
   "source": [
    "- The data is provided as an `API` service (today)\n",
    "- The data can extracted by queries on underlying tables (scraping sessions)\n"
   ]
  },
  {
   "cell_type": "markdown",
   "metadata": {
    "slideshow": {
     "slide_type": "fragment"
    }
   },
   "source": [
    "However, often we need to do the work ourselves (scraping sessions)\n",
    "\n",
    "- We need to explore the structure of the webpage we are interested in\n",
    "- We can extract relevant elements \n",
    "   "
   ]
  },
  {
   "cell_type": "markdown",
   "metadata": {
    "slideshow": {
     "slide_type": "slide"
    }
   },
   "source": [
    "## The web protocol\n",
    "*What is `http` and where is it used?*"
   ]
  },
  {
   "cell_type": "markdown",
   "metadata": {
    "slideshow": {
     "slide_type": "fragment"
    }
   },
   "source": [
    "- `http` stands for HyperText Transfer Protocol.\n",
    "- `http` is good for transmitting the data when a webpage is visited:\n",
    "   - the visiting client sends request for URL or object;\n",
    "   - the server returns relevant data if active."
   ]
  },
  {
   "cell_type": "markdown",
   "metadata": {
    "slideshow": {
     "slide_type": "slide"
    }
   },
   "source": [
    "## The web protocol (2)\n",
    "*Should we care about `http`?*"
   ]
  },
  {
   "cell_type": "markdown",
   "metadata": {
    "slideshow": {
     "slide_type": "fragment"
    }
   },
   "source": [
    "- In this course we ***do not*** care explicitly about `http`. \n",
    "- We use a Python module called `requests` as a `http` interface.\n",
    "- However... Some useful advice - you should **always**:\n",
    "  - use the encrypted version, `https`;\n",
    "  - use authenticated connection, i.e. private login, whenever possible."
   ]
  },
  {
   "cell_type": "markdown",
   "metadata": {
    "slideshow": {
     "slide_type": "slide"
    }
   },
   "source": [
    "## Markup language (1)\n",
    "*What is `html` and where is it used?*"
   ]
  },
  {
   "cell_type": "markdown",
   "metadata": {
    "slideshow": {
     "slide_type": "fragment"
    }
   },
   "source": [
    "- HyperText Markup Lanugage\n",
    "- `html` is a language for communicating how a webpage looks like and behaves.\n",
    "  - That is, `html` contains: content, design, available actions."
   ]
  },
  {
   "cell_type": "markdown",
   "metadata": {
    "slideshow": {
     "slide_type": "slide"
    }
   },
   "source": [
    "## Markup language (2)\n",
    "*Should we care about `html`?*"
   ]
  },
  {
   "cell_type": "markdown",
   "metadata": {
    "slideshow": {
     "slide_type": "fragment"
    }
   },
   "source": [
    "- Yes, `html` is often where the interesting data can be found.\n",
    "- Sometimes, we are lucky, and instead of `html` we get a JSON in return. \n",
    "- Getting data from `html` will the topic of the subsequent scraping sessions."
   ]
  },
  {
   "cell_type": "markdown",
   "metadata": {
    "slideshow": {
     "slide_type": "slide"
    }
   },
   "source": [
    "# Web APIs "
   ]
  },
  {
   "cell_type": "markdown",
   "metadata": {
    "slideshow": {
     "slide_type": "slide"
    }
   },
   "source": [
    "## Web APIs (1)\n",
    "*So when do we get lucky, i.e. when is `html` not important?*"
   ]
  },
  {
   "cell_type": "markdown",
   "metadata": {
    "slideshow": {
     "slide_type": "fragment"
    }
   },
   "source": [
    "- When we get a Application Protocol Interface (`API`) on the web\n",
    "- What does this mean?\n",
    "  - We send a query to the Web API \n",
    "  - We get a response from the Web API with data back in return, typically as JSON.\n",
    "  - The API usually provides access to a database or some service"
   ]
  },
  {
   "cell_type": "markdown",
   "metadata": {
    "slideshow": {
     "slide_type": "slide"
    }
   },
   "source": [
    "## Web APIs (2)\n",
    "*So where is the API?*"
   ]
  },
  {
   "cell_type": "markdown",
   "metadata": {
    "slideshow": {
     "slide_type": "fragment"
    }
   },
   "source": [
    "- Usually on separate sub-domain, e.g. `api.github.com`\n",
    "- Sometimes hidden in code (see sessions on scraping) "
   ]
  },
  {
   "cell_type": "markdown",
   "metadata": {
    "slideshow": {
     "slide_type": "fragment"
    }
   },
   "source": [
    "*So how do we know how the API works?*"
   ]
  },
  {
   "cell_type": "markdown",
   "metadata": {
    "slideshow": {
     "slide_type": "fragment"
    }
   },
   "source": [
    "- There usually is some documentation. E.g. google [\"api github com\"](https://www.google.com/search?q=api+github)"
   ]
  },
  {
   "cell_type": "markdown",
   "metadata": {
    "slideshow": {
     "slide_type": "slide"
    }
   },
   "source": [
    "## Web APIs (3)\n",
    "*So is data free? As in free lunch?*"
   ]
  },
  {
   "cell_type": "markdown",
   "metadata": {
    "slideshow": {
     "slide_type": "fragment"
    }
   },
   "source": [
    "- Most commercial APIs require authentication and have limited free usage\n",
    "  - e.g. Google Maps, various weather services\n",
    "- Some open APIs that are free\n",
    "  - Danish \n",
    "    - Danish statistics (DST)\n",
    "    - Danish weather data (DMI, this fall)\n",
    "    - Danish spatial data (DAWA, danish addresses) \n",
    "  - Global\n",
    "      - OpenStreetMaps, Wikipedia\n",
    "- If no authentication is required the API may be delimited.\n",
    "  - This means only a certain number of requests can be handled per second or per hour from a given IP address."
   ]
  }
 ],
 "metadata": {
  "celltoolbar": "Slideshow",
  "kernelspec": {
   "display_name": "Python 3",
   "language": "python",
   "name": "python3"
  },
  "language_info": {
   "codemirror_mode": {
    "name": "ipython",
    "version": 3
   },
   "file_extension": ".py",
   "mimetype": "text/x-python",
   "name": "python",
   "nbconvert_exporter": "python",
   "pygments_lexer": "ipython3",
   "version": "3.8.5"
  }
 },
 "nbformat": 4,
 "nbformat_minor": 4
}
