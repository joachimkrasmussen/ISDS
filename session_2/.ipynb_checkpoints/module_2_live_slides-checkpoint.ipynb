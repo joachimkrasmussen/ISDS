{
 "cells": [
  {
   "cell_type": "markdown",
   "metadata": {
    "slideshow": {
     "slide_type": "slide"
    }
   },
   "source": [
    "# Session 2A: Python and Social Data Science\n",
    "\n",
    "*Joachim Kahr Rasmussen*\n",
    "\n"
   ]
  },
  {
   "cell_type": "markdown",
   "metadata": {
    "slideshow": {
     "slide_type": "slide"
    }
   },
   "source": [
    "## Agenda for Session 2A\n",
    "\n",
    "1. Module Structure\n",
    "2. Data Science and Beyond\n",
    "3. Python - an Overview\n",
    "4. The Python Language"
   ]
  },
  {
   "cell_type": "markdown",
   "metadata": {
    "slideshow": {
     "slide_type": "slide"
    }
   },
   "source": [
    "## Associated Readings\n",
    "\n",
    "BBB, chapter 1:\n",
    "- Social science 'vs' data science\n",
    "- The Digital Age: Availability of data and computer power\n",
    "- Intro to ethics"
   ]
  },
  {
   "cell_type": "markdown",
   "metadata": {
    "slideshow": {
     "slide_type": "fragment"
    }
   },
   "source": [
    "Grimmer (2015):\n",
    "- Descriptive vs causal inference\n",
    "- Importance of research design\n",
    "- New data: Magnitude and type"
   ]
  },
  {
   "cell_type": "markdown",
   "metadata": {
    "slideshow": {
     "slide_type": "fragment"
    }
   },
   "source": [
    "Insiprational readings:\n",
    "- \"What is code?\": Maybe save it for a rain day.\n",
    "- \"The end of theory: The data deluge makes the scientific method obsolete\": Polemic post about data and models."
   ]
  },
  {
   "cell_type": "markdown",
   "metadata": {
    "slideshow": {
     "slide_type": "slide"
    }
   },
   "source": [
    "# Module Structure"
   ]
  },
  {
   "cell_type": "markdown",
   "metadata": {
    "slideshow": {
     "slide_type": "slide"
    }
   },
   "source": [
    "## The Structure of Classes\n",
    "\n",
    "Most teaching modules will have the following structure\n",
    "\n",
    "- Before lectures and exercise classes: \n",
    "    - Do the **reading** $-$ we have some quality textbooks!\n",
    "    - Watch **previous recorded lectures** $-$ it takes more than one view to get under your skin"
   ]
  },
  {
   "cell_type": "markdown",
   "metadata": {
    "slideshow": {
     "slide_type": "fragment"
    }
   },
   "source": [
    "- Lectures: \n",
    "    - Introduces **new material**, but we are trying something slightly different this year\n",
    "    - The **format will vary** for each module: Generally...\n",
    "        - **Live** recap and introduction\n",
    "        - **Questions** from last time\n",
    "        - Technical content is **recorded** for you to...\n",
    "            - watch at **preferred pace**, and\n",
    "            - potentially ***while* solving exercises**\n",
    "    - When watching videos, you can ALWAYS **ask question**s."
   ]
  },
  {
   "cell_type": "markdown",
   "metadata": {
    "slideshow": {
     "slide_type": "fragment"
    }
   },
   "source": [
    "- Exercise class:\n",
    "    - Continue working on **exercises**\n",
    "    - **Discuss with TA** $-$ use the fact that they are there with the sole purpose of helping you learning"
   ]
  },
  {
   "cell_type": "markdown",
   "metadata": {
    "slideshow": {
     "slide_type": "slide"
    }
   },
   "source": [
    "## Small Groups\n",
    "\n",
    "Are you 1 or 2 pax in your group > come to me in break.\n"
   ]
  },
  {
   "cell_type": "markdown",
   "metadata": {
    "slideshow": {
     "slide_type": "slide"
    }
   },
   "source": [
    "## The Academic Quarter\n",
    "\n",
    "In case you don't know...\n",
    "- 9 means 9.15, \n",
    "- 13 means 13.15 (i.e. 1.15pm)\n",
    "\n",
    "This holds for both exercise classes and lectures!"
   ]
  },
  {
   "cell_type": "markdown",
   "metadata": {
    "slideshow": {
     "slide_type": "slide"
    }
   },
   "source": [
    "## Learning Outcomes After Completing Intro SDS \n",
    "\n",
    "Main elements in this course:\n",
    "- Tidy / transform: Data structuring and text (sessions 2-3, 15)\n",
    "- Visualize: Plotting (session 4)\n",
    "- Import: Scraping and data IO (sessions 5, 6-8)\n",
    "- Ethics: Rules and moral considerations for working with data  (session 9)\n",
    "- Model: Fundamentals of machine learning, application to text (session 10-14)\n",
    "\n",
    "Also a tiny bit on...\n",
    "- Communication and access: Git and Markdown (should have been covered briefly by Andreas earlier today)"
   ]
  },
  {
   "cell_type": "markdown",
   "metadata": {
    "slideshow": {
     "slide_type": "slide"
    }
   },
   "source": [
    "## What We Don't Teach You Now\n",
    "\n",
    "Many more courses that built on this\n",
    "- Statistics: Econometrics and Machine Learning - overlaps\n",
    "- More about data - modelling and processing:\n",
    "    - Text, networks/relational, spatial\n",
    "- Non-linear ML models:\n",
    "    - Tree based and kernel \n",
    "    - Neural networks\n",
    "- ML for dynamic decisions: reinforcment learning\n",
    "- All about privacy\n",
    "\n",
    "In particular, check out [Advanced SDS I](https://kurser.ku.dk/course/asdk20004u/2020-2021) and [Advanced SDS II](https://kurser.ku.dk/course/asdk20006u/2020-2021). Also sometimes possible to write a project (BA, MSc, [seminar](https://kurser.ku.dk/course/a%c3%98kk08411u/2020-2021))."
   ]
  },
  {
   "cell_type": "markdown",
   "metadata": {
    "slideshow": {
     "slide_type": "slide"
    }
   },
   "source": [
    "# Data Science and Beyond"
   ]
  },
  {
   "cell_type": "markdown",
   "metadata": {
    "slideshow": {
     "slide_type": "slide"
    }
   },
   "source": [
    "## Why Data Science Now?\n",
    "\n",
    "Three trends are important for understand the increasing interest in and influence of data science:\n",
    "\n",
    "- **Data** is increasingly available, e.g.\n",
    "    - *Social Media*: Facebook status updates, public 'tweeting', Instagram pictures, etc.\n",
    "    - *Shopping*: Online shopping (track everything, make experiments), in store shopping (memberships, less granular data).\n",
    "    - *Phones*: Patterns in phone calls, GPS logging, phone activity (see recent SODAS studies), etc.\n",
    "- Faster and bigger **computers** ([Waldrop, 2016](https://pubmed.ncbi.nlm.nih.gov/26863965/)):\n",
    "    - Moore’s law $\\sim$ transistors on a microprocessor chip doubles every two years \n",
    "    - Soon coming to a halt due to heat issues...\n",
    "- Improved **algorithms**, methods for computation amd accessability of tools\n",
    "    - Example: Development of effective and accessible libraries in python\n",
    "    - Much more about this later in the course...\n",
    "\n"
   ]
  },
  {
   "cell_type": "markdown",
   "metadata": {
    "slideshow": {
     "slide_type": "slide"
    }
   },
   "source": [
    "## Examples of Major Advances\n",
    "\n",
    "Innovations from data science already create enormous amounts of value and make our lives much easier. Some examples:\n",
    "- Autonomous systems: \n",
    "    - self-driving cars\n",
    "    - computer game bots, \n",
    "    - trading bots, etc.\n",
    "- Image and text recognition: \n",
    "    - face recognition (Facebook, police)\n",
    "    - language parsing with e.g. Google Translate/GPT-3 (Grammarly, auto-correct)\n",
    "- Combined services: \n",
    "    - Virtual assistants (banks, medical diagnosis)\n",
    "    - recommendation systems (amazon, spotify, netflix)\n",
    "    - classification systems (spam, tax fraud, plagiarization)\n",
    "\n",
    "[McKinsey (2018)](https://www.mckinsey.com/~/media/McKinsey/Featured%20Insights/Artificial%20Intelligence/Notes%20from%20the%20frontier%20Modeling%20the%20impact%20of%20AI%20on%20the%20world%20economy/MGI-Notes-from-the-AI-frontier-Modeling-the-impact-of-AI-on-the-world-economy-September-2018.ashx#:~:text=In%20the%20aggregate%2C%20and%20netting,about%201.2%20percent%20a%20year.&text=The%20economic%20impact%20may%20emerge%20gradually%20and%20be%20visible%20only%20over%20time.): 'Artificial Intelligence' has the potential to increase global GDP by 1.2 percent per year"
   ]
  },
  {
   "cell_type": "markdown",
   "metadata": {
    "slideshow": {
     "slide_type": "slide"
    }
   },
   "source": [
    "## Past the Peak? Illustrative example\n",
    "For a couple of years: Data scientists had HIGHEST entry wages in DK.\n",
    "\n",
    "More recent evidence: Not top, but still high..."
   ]
  },
  {
   "cell_type": "markdown",
   "metadata": {
    "slideshow": {
     "slide_type": "fragment"
    }
   },
   "source": [
    "*Why did the mean relative data scientist entry wage decline?*"
   ]
  },
  {
   "cell_type": "markdown",
   "metadata": {
    "slideshow": {
     "slide_type": "fragment"
    }
   },
   "source": [
    "Paradoxically, this is where *you* as social scientists come into the picture!\n",
    "\n",
    "Key issue: Prediction based agenda is flawed. But opens up new opportunities:\n",
    "\n",
    "- Combine with theory: Supply and demand $-$ did supply catch up? Selection?\n",
    "- Combine with causal inference: Instruments, regression discontinuity, matching...\n",
    "\n",
    "Clearly a role for econometrics and structural modelling!"
   ]
  },
  {
   "cell_type": "markdown",
   "metadata": {
    "slideshow": {
     "slide_type": "slide"
    }
   },
   "source": [
    "## Social Data Science (I/II)\n",
    "\n",
    "Social data scientists combine skills and tools from two different fields:\n",
    "- Data scientists in a nutshell (BBB):\n",
    "    - Developing algorithms that are fast and flexible\n",
    "    - Largely concerned with prediction $-$ not causal inference\n",
    "- Social scientist in a nutshell (BBB):\n",
    "    - Study human behavior and interactions\n",
    "    - Causal inference is important for understand implications of e.g. policies\n"
   ]
  },
  {
   "cell_type": "markdown",
   "metadata": {
    "slideshow": {
     "slide_type": "slide"
    }
   },
   "source": [
    "## Social Data Science (II/II)\n",
    "\n",
    "We may say that the skills and ideas of data science are spreading to social data science:\n",
    "- smart, free tools for working with\n",
    "    - small and big data on structured (tabular) data\n",
    "    - unstructured data sources from image, text and social media\n",
    "- incorporate machine learning into\n",
    "    - statistics and causal inference\n",
    "    - economic modelling"
   ]
  },
  {
   "cell_type": "markdown",
   "metadata": {
    "slideshow": {
     "slide_type": "fragment"
    }
   },
   "source": [
    "In particular, data science complements social sciences by:\n",
    "- enhancing existing fields, and\n",
    "- oppening up for new field emerging (new data, combination of methods)"
   ]
  },
  {
   "cell_type": "markdown",
   "metadata": {
    "slideshow": {
     "slide_type": "slide"
    }
   },
   "source": [
    "# Python - an Overview"
   ]
  },
  {
   "cell_type": "markdown",
   "metadata": {
    "slideshow": {
     "slide_type": "slide"
    }
   },
   "source": [
    "## Introducing Python\n",
    "\n",
    "*What is Python useful for?*\n",
    "\n",
    "* It can do \"anything\" and [used everywhere](https://www.python.org/about/success/)\n",
    "    * High-tech manufacturing\n",
    "    * Space shuttles \n",
    "    * Large servers     \n",
    "* Python has incredible resources for machine learning, big data, visualizations."
   ]
  },
  {
   "cell_type": "markdown",
   "metadata": {
    "slideshow": {
     "slide_type": "slide"
    }
   },
   "source": [
    "## Use is Evidently Trending"
   ]
  },
  {
   "cell_type": "markdown",
   "metadata": {
    "slideshow": {
     "slide_type": "-"
    }
   },
   "source": [
    "<center><img src=https://grapecitycontentcdn.azureedge.net/blogs//grapecity/20181026-the-growth-of-major-programming-languages/3.jpg' alt=\"Drawing\" style=\"width: 900px;\"/></center>"
   ]
  },
  {
   "cell_type": "markdown",
   "metadata": {
    "slideshow": {
     "slide_type": "slide"
    }
   },
   "source": [
    "## What and Why?\n",
    "\n",
    "*What is Python?*\n",
    "\n",
    "A multiparadigm, general purpose programming language.\n",
    "  * Can do everything you can imagine a computer can do.\n",
    "  * E.g. manage databases, advanced computation, web etc.\n",
    " "
   ]
  },
  {
   "cell_type": "markdown",
   "metadata": {
    "slideshow": {
     "slide_type": "fragment"
    }
   },
   "source": [
    "*Why Python?*\n",
    "\n",
    "Python's main objective is to make programming more ***effortless***. \n",
    "- This is done by making syntax intuitive.\n",
    "- A side effect: programming can be fun\n",
    "- Downside: not the fastest (solved with packages)"
   ]
  },
  {
   "cell_type": "markdown",
   "metadata": {
    "slideshow": {
     "slide_type": "slide"
    }
   },
   "source": [
    "## Other Programs and Languages (I/II)\n",
    "\n",
    "*Is Python the most popular for statistics and data science?*\n",
    "\n",
    "There are other good languages, e.g. R, Stata or SAS, why not use them?\n",
    "\n",
    "- Python has the best data science packages.\n",
    "- And it is also being used increasingly in statistics."
   ]
  },
  {
   "cell_type": "markdown",
   "metadata": {
    "slideshow": {
     "slide_type": "fragment"
    }
   },
   "source": [
    "Each program/language has their own advantages and similarities (our opinion)\n",
    "\n",
    "|                     | Python | R | Julia |\n",
    "|---------------------|--------|---|-------|\n",
    "| Data structuring    | X      | X | |\n",
    "| Plotting            | X      | X | |\n",
    "| Machine learning    | X      |   | |\n",
    "| Statistics          |        | X | |\n",
    "| General programming and modelling | X      |   | (X)|\n",
    "| Ease of learning    | X      |   | |\n",
    "\n",
    "Other ('statistical') programming languages: SAS, Stata, ...\n"
   ]
  },
  {
   "cell_type": "markdown",
   "metadata": {
    "slideshow": {
     "slide_type": "slide"
    }
   },
   "source": [
    "## Other Programs and Languages (II/II)\n",
    "\n",
    "Tools are increasingly integrated\n",
    "- Jupyter; a shared framework for data science \n",
    "- New software allows direct execution side-by-side: use R within python (vice versa)\n",
    "- New tools becoming available across languages, e.g. data processing engine (arrow)\n",
    "\n",
    "Advice: don't worry. It's likely you need to learn more than one language."
   ]
  },
  {
   "cell_type": "markdown",
   "metadata": {
    "slideshow": {
     "slide_type": "fragment"
    }
   },
   "source": [
    "Advice: don't worry. It's likely you need to learn more than one language."
   ]
  },
  {
   "cell_type": "markdown",
   "metadata": {
    "slideshow": {
     "slide_type": "slide"
    }
   },
   "source": [
    "## The Wheel of Data Science\n",
    "\n",
    "*How does data science work?*\n",
    "\n",
    "<br>\n",
    "<br>\n",
    "<center><img src='https://raw.githubusercontent.com/hadley/r4ds/master/diagrams/data-science.png' alt=\"Drawing\" style=\"width: 700px;\"/></center>"
   ]
  },
  {
   "cell_type": "markdown",
   "metadata": {
    "slideshow": {
     "slide_type": "slide"
    }
   },
   "source": [
    "## Learning How to Code... Not a Free Lunch\n",
    "\n",
    "This course... it ain't easy!\n",
    "\n",
    "<center><img src='https://media.giphy.com/media/h36vh423PiV9K/giphy.gif' alt=\"Drawing\" style=\"width: 300px;\"/></center>"
   ]
  },
  {
   "cell_type": "markdown",
   "metadata": {
    "slideshow": {
     "slide_type": "fragment"
    }
   },
   "source": [
    "But at least you get a lot of help!\n",
    "\n",
    "Learning without supervision, you may struggle with simple stuff..."
   ]
  },
  {
   "cell_type": "markdown",
   "metadata": {
    "slideshow": {
     "slide_type": "slide"
    }
   },
   "source": [
    "## Some Encouragement"
   ]
  },
  {
   "cell_type": "markdown",
   "metadata": {
    "slideshow": {
     "slide_type": "fragment"
    }
   },
   "source": [
    "#### Hadley Wickham\n",
    "\n",
    "> The bad news is that when ever you learn a new skill **you’re going to suck**. It’s going to be **frustrating**. The good news is that is typical and **happens to everyone** and it is **only temporary**. You can’t go from knowing nothing to becoming an expert without going through a **period of great frustration** and great suckiness.\n"
   ]
  },
  {
   "cell_type": "markdown",
   "metadata": {
    "slideshow": {
     "slide_type": "fragment"
    }
   },
   "source": [
    "#### Kosuke Imai\n",
    "\n",
    "> One can learn data analysis **only by doing**, not by reading."
   ]
  },
  {
   "cell_type": "markdown",
   "metadata": {
    "slideshow": {
     "slide_type": "slide"
    }
   },
   "source": [
    "## Light at the End.."
   ]
  },
  {
   "cell_type": "markdown",
   "metadata": {
    "slideshow": {
     "slide_type": "fragment"
    }
   },
   "source": [
    "Why would you go through this pain? You choose one of two paths after this course..."
   ]
  },
  {
   "cell_type": "markdown",
   "metadata": {
    "slideshow": {
     "slide_type": "fragment"
    }
   },
   "source": [
    "i. You move on, you forget some or most of the material."
   ]
  },
  {
   "cell_type": "markdown",
   "metadata": {
    "slideshow": {
     "slide_type": "fragment"
    }
   },
   "source": [
    "ii. You are lit and your life has changed. \n",
    "- You may return to become a better sociologist, anthropologit, economist etc.\n",
    "- Or, you may continue along the new track of data science.\n",
    "- In any case, you keep learning and expanding your programming skills."
   ]
  },
  {
   "cell_type": "markdown",
   "metadata": {
    "slideshow": {
     "slide_type": "slide"
    }
   },
   "source": [
    "## Advice for Coding\n",
    "\n",
    "Three pieces of advice that will take you far!\n",
    "\n",
    "1. Be careful: Think before you code $-$ what you are trying to make it do?\n",
    "\n",
    "2. Be lazy: Reuse code and write Reusable code (e.g. functions)\n",
    "\n",
    "3. Make understandable: Think about audience!\n",
    "    1. Future you? May not recall this at all.    \n",
    "    1. Group members or world? May not understand!\n",
    "    1. Write lots of comments and potentially background explanation/documentation\n",
    "    \n"
   ]
  },
  {
   "cell_type": "markdown",
   "metadata": {
    "slideshow": {
     "slide_type": "fragment"
    }
   },
   "source": [
    "*How do you get there?*\n",
    "\n",
    "- Maintain healthy curiousity  $-$  how could we do things better?\n",
    "- Practice and try as much as possible\n",
    "- Type the code in yourself  $-$ then you see what is going on.\n"
   ]
  },
  {
   "cell_type": "markdown",
   "metadata": {
    "slideshow": {
     "slide_type": "slide"
    }
   },
   "source": [
    "## Help and Advice"
   ]
  },
  {
   "cell_type": "markdown",
   "metadata": {
    "slideshow": {
     "slide_type": "fragment"
    }
   },
   "source": [
    "\n",
    "Whenever you have a question you do as follows:"
   ]
  },
  {
   "cell_type": "markdown",
   "metadata": {
    "slideshow": {
     "slide_type": "fragment"
    }
   },
   "source": [
    "\n",
    "1: You ask other people in your group."
   ]
  },
  {
   "cell_type": "markdown",
   "metadata": {
    "slideshow": {
     "slide_type": "fragment"
    }
   },
   "source": [
    "\n",
    "2: You search on Google (more advice will follow)."
   ]
  },
  {
   "cell_type": "markdown",
   "metadata": {
    "slideshow": {
     "slide_type": "fragment"
    }
   },
   "source": [
    "3: You ask the neighboring groups."
   ]
  },
  {
   "cell_type": "markdown",
   "metadata": {
    "slideshow": {
     "slide_type": "fragment"
    }
   },
   "source": [
    "4: You raise an [issue in our Github repo](https://github.com/abjer/sds/issues) or you ask us."
   ]
  },
  {
   "cell_type": "markdown",
   "metadata": {
    "slideshow": {
     "slide_type": "slide"
    }
   },
   "source": [
    "# The Python Language\n"
   ]
  },
  {
   "cell_type": "markdown",
   "metadata": {
    "slideshow": {
     "slide_type": "slide"
    }
   },
   "source": [
    "## The Python Shell\n",
    "\n",
    "The fundamental way of accessing Python is from your shell by typing *`python`*. On a Windows computer, this would simply be the command prompt.\n",
    "\n",
    "Everyone should be able to run the following commands and reproduce the output."
   ]
  },
  {
   "cell_type": "markdown",
   "metadata": {
    "slideshow": {
     "slide_type": "fragment"
    }
   },
   "source": [
    "``` python\n",
    ">>> print ('hello my friend')\n",
    "hello my friend\n",
    "```"
   ]
  },
  {
   "cell_type": "markdown",
   "metadata": {
    "slideshow": {
     "slide_type": "fragment"
    }
   },
   "source": [
    "``` python\n",
    ">>> 4*5\n",
    "20\n",
    "```"
   ]
  },
  {
   "cell_type": "markdown",
   "metadata": {
    "slideshow": {
     "slide_type": "fragment"
    }
   },
   "source": [
    "You can leave Python again by simply typing *`quit()`*.\n",
    "\n",
    "If you want to close the prompt, simply type *`exit()`*."
   ]
  },
  {
   "cell_type": "markdown",
   "metadata": {
    "slideshow": {
     "slide_type": "slide"
    }
   },
   "source": [
    "## The Python Script (I/III)\n",
    "\n",
    "The power of the interpreter is that it can be used to execute Python scripts. "
   ]
  },
  {
   "cell_type": "markdown",
   "metadata": {
    "slideshow": {
     "slide_type": "fragment"
    }
   },
   "source": [
    "*What is a script?* "
   ]
  },
  {
   "cell_type": "markdown",
   "metadata": {
    "slideshow": {
     "slide_type": "fragment"
    }
   },
   "source": [
    "These are programs containing code blocks."
   ]
  },
  {
   "cell_type": "markdown",
   "metadata": {
    "slideshow": {
     "slide_type": "slide"
    }
   },
   "source": [
    "## The Python Script (II/III)\n",
    "\n",
    "Everyone should be able to make a text file called *`test.py`* on the desktop or in some folder with some content and run it.\n",
    "\n",
    "The file should contain the following two lines:"
   ]
  },
  {
   "cell_type": "markdown",
   "metadata": {
    "slideshow": {
     "slide_type": "fragment"
    }
   },
   "source": [
    "Everyone should be able to make a text file called *`test.py`* on the desktop or in some folder with some content and run it.\n",
    "\n",
    "The file should contain the following two lines:"
   ]
  },
  {
   "cell_type": "markdown",
   "metadata": {
    "slideshow": {
     "slide_type": "fragment"
    }
   },
   "source": [
    "``` python\n",
    "print ('Line 1')\n",
    "print ('Line 2')\n",
    "```"
   ]
  },
  {
   "cell_type": "markdown",
   "metadata": {
    "slideshow": {
     "slide_type": "fragment"
    }
   },
   "source": [
    "I saved mine on the desktop.\n",
    "\n",
    "Reopen the prompt and type something equivalent to..."
   ]
  },
  {
   "cell_type": "markdown",
   "metadata": {
    "slideshow": {
     "slide_type": "fragment"
    }
   },
   "source": [
    "``` python\n",
    "cd \"C:\\Users\\xtw562\\Desktop\"\n",
    "python test.py\n",
    "```"
   ]
  },
  {
   "cell_type": "markdown",
   "metadata": {
    "slideshow": {
     "slide_type": "fragment"
    }
   },
   "source": [
    "This should now yield the following output:\n",
    "\n",
    "```\n",
    "Line 1\n",
    "Line 2\n",
    "```"
   ]
  },
  {
   "cell_type": "markdown",
   "metadata": {
    "slideshow": {
     "slide_type": "slide"
    }
   },
   "source": [
    "## The Python Script (III/III)\n",
    "\n",
    "Now, everyone should be able to make a text file called *`test.py`* in their current folder with some content and run it. Current folder?"
   ]
  },
  {
   "cell_type": "markdown",
   "metadata": {
    "slideshow": {
     "slide_type": "fragment"
    }
   },
   "source": [
    "``` python\n",
    ">>> import os\n",
    ">>> print(\"Current working directory: {0}\".format(os.getcwd()))\n",
    "Current working directory: C:\\Users\\xtw562\n",
    "```"
   ]
  },
  {
   "cell_type": "markdown",
   "metadata": {
    "slideshow": {
     "slide_type": "fragment"
    }
   },
   "source": [
    "Now choose your specify your working directory..."
   ]
  },
  {
   "cell_type": "markdown",
   "metadata": {
    "slideshow": {
     "slide_type": "fragment"
    }
   },
   "source": [
    "``` python\n",
    ">>> os.chdir('C:/Users/xtw562/Desktop')\n",
    ">>> print(\"Current working directory: {0}\".format(os.getcwd()))\n",
    "Current working directory: C:\\Users\\xtw562\\Desktop\n",
    "```"
   ]
  },
  {
   "cell_type": "markdown",
   "metadata": {
    "slideshow": {
     "slide_type": "fragment"
    }
   },
   "source": [
    "Now that we have chosen the working directory, the file should contain the following two lines:"
   ]
  },
  {
   "cell_type": "markdown",
   "metadata": {
    "slideshow": {
     "slide_type": "fragment"
    }
   },
   "source": [
    "Try executing the test file from the shell by typing:\n",
    "\n",
    "*`python test.py`*"
   ]
  },
  {
   "cell_type": "markdown",
   "metadata": {
    "slideshow": {
     "slide_type": "fragment"
    }
   },
   "source": [
    "This should yield the following output:\n",
    "\n",
    "```\n",
    "Line 1\n",
    "Line 2\n",
    "```"
   ]
  },
  {
   "cell_type": "markdown",
   "metadata": {
    "slideshow": {
     "slide_type": "slide"
    }
   },
   "source": [
    "## The Jupyter framework (I/III)\n",
    "\n",
    "*What is Jupyter Notebook?*"
   ]
  },
  {
   "cell_type": "markdown",
   "metadata": {
    "slideshow": {
     "slide_type": "fragment"
    }
   },
   "source": [
    "- Jupyter provides an interactive and visual platform for working with data. \n",
    "- It is an abbreviation of Julia, Python, and R."
   ]
  },
  {
   "cell_type": "markdown",
   "metadata": {
    "slideshow": {
     "slide_type": "fragment"
    }
   },
   "source": [
    "*Why Jupyter notebook?*"
   ]
  },
  {
   "cell_type": "markdown",
   "metadata": {
    "slideshow": {
     "slide_type": "fragment"
    }
   },
   "source": [
    "- great for writing. \n",
    "    - markdown, equations and direct visual output;\n",
    "- interactive allows keeping, changing data etc.\n",
    "- many tools (e.g. create this slideshow)"
   ]
  },
  {
   "cell_type": "markdown",
   "metadata": {
    "slideshow": {
     "slide_type": "fragment"
    }
   },
   "source": [
    "*How do we create a Jupyter Notebook?*"
   ]
  },
  {
   "cell_type": "markdown",
   "metadata": {
    "slideshow": {
     "slide_type": "fragment"
    }
   },
   "source": [
    "We start Jupyter Notebook by typing *`jupyter notebook`* in the shell.\n",
    "\n",
    "Try making a new notebook: \n",
    "- click the button *`New`* in the upper right corner \n",
    "- clicking on *`Python 3`*."
   ]
  },
  {
   "cell_type": "markdown",
   "metadata": {
    "slideshow": {
     "slide_type": "slide"
    }
   },
   "source": [
    "## The Jupyter framework (II/III)\n",
    "\n",
    "\n",
    "*How do we interact with Jupyter?*"
   ]
  },
  {
   "cell_type": "markdown",
   "metadata": {
    "slideshow": {
     "slide_type": "fragment"
    }
   },
   "source": [
    "Jupyter works by having cells in which you can put code. The active cell has a colored bar next to it.\n",
    "\n",
    "A cell is *`edit mode`* when there is a <span style=\"color:green\">*green*</span> bar to the left. To activate *`edit mode`* click on a cell.\n",
    "\n",
    "A cell is in *`command mode`* when the bar to the left is <span style=\"color:blue\">*blue*</span>."
   ]
  },
  {
   "cell_type": "markdown",
   "metadata": {
    "slideshow": {
     "slide_type": "fragment"
    }
   },
   "source": [
    "*How do we add and execute code?*"
   ]
  },
  {
   "cell_type": "markdown",
   "metadata": {
    "slideshow": {
     "slide_type": "fragment"
    }
   },
   "source": [
    "Go into edit mode - add the following:"
   ]
  },
  {
   "cell_type": "code",
   "execution_count": 1,
   "metadata": {
    "slideshow": {
     "slide_type": "-"
    }
   },
   "outputs": [
    {
     "data": {
      "text/plain": [
       "275"
      ]
     },
     "execution_count": 1,
     "metadata": {},
     "output_type": "execute_result"
    }
   ],
   "source": [
    "A = 11\n",
    "B = 25\n",
    "\n",
    "A*B "
   ]
  },
  {
   "cell_type": "markdown",
   "metadata": {
    "slideshow": {
     "slide_type": "fragment"
    }
   },
   "source": [
    "Click the &#9658; to run the code in the cell. What happens if we change A+B to A*B?"
   ]
  },
  {
   "cell_type": "markdown",
   "metadata": {
    "slideshow": {
     "slide_type": "slide"
    }
   },
   "source": [
    "## The Jupyter framework (III/III)\n",
    "\n",
    "\n",
    "*How can we add cells to our notebook?*"
   ]
  },
  {
   "cell_type": "markdown",
   "metadata": {
    "slideshow": {
     "slide_type": "fragment"
    }
   },
   "source": [
    "Try creating a new cell by clicking the **`+`** symbol."
   ]
  },
  {
   "cell_type": "markdown",
   "metadata": {
    "slideshow": {
     "slide_type": "fragment"
    }
   },
   "source": [
    "*Some relevant keyboard short cuts?*"
   ]
  },
  {
   "cell_type": "markdown",
   "metadata": {
    "slideshow": {
     "slide_type": "fragment"
    }
   },
   "source": [
    "Editing and executing cells\n",
    "- enter edit mode: click inside the cell or press `ENTR`\n",
    "- exit edit mode: click outside cell or press `ESC`.\n",
    "- executing code within a cell is `SHFT`+`ENTR` or `CTRL`+`ENTR` (not same!)\n",
    "\n",
    "\n",
    "Adding cell (`a` above, `b` below) and removing cells (press `d` twice)  \n",
    "\n",
    "More info:\n",
    "- For tips [see blog post](https:abjer.github.io/sds2019/post/jupyter) or see list Jupyter keyboard shortcuts in menu (top): `Help > Keyboard Shortcuts`.\n",
    "- General resources in documentation and tutorial available [here](http://jupyter.readthedocs.io/en/latest/)."
   ]
  },
  {
   "cell_type": "markdown",
   "metadata": {
    "slideshow": {
     "slide_type": "slide"
    }
   },
   "source": [
    "## Before Looking Into More Advanced Concepts...\n",
    "\n",
    "... we begin with a quiz!\n",
    "\n",
    "### Go to [kahoot.it]()"
   ]
  },
  {
   "cell_type": "markdown",
   "metadata": {
    "slideshow": {
     "slide_type": "slide"
    }
   },
   "source": [
    "## Fundamental data types (I/II)\n",
    "\n",
    "Recall the four fundamental data types: `int`, `float`, `str` and `bool`.\n",
    "- Sometimes known as elementary, primitive or basic.\n",
    "\n",
    "Some data types we can change between, e.g. between `float` and `int`."
   ]
  },
  {
   "cell_type": "code",
   "execution_count": 2,
   "metadata": {
    "slideshow": {
     "slide_type": "-"
    }
   },
   "outputs": [
    {
     "data": {
      "text/plain": [
       "1"
      ]
     },
     "execution_count": 2,
     "metadata": {},
     "output_type": "execute_result"
    }
   ],
   "source": [
    "int(1.6) # integer conversion always rounds down, i.e. floor "
   ]
  },
  {
   "cell_type": "code",
   "execution_count": 3,
   "metadata": {
    "slideshow": {
     "slide_type": "-"
    }
   },
   "outputs": [
    {
     "data": {
      "text/plain": [
       "1.0"
      ]
     },
     "execution_count": 3,
     "metadata": {},
     "output_type": "execute_result"
    }
   ],
   "source": [
    "float(int(1.6)) # it does not retake its former value"
   ]
  },
  {
   "cell_type": "markdown",
   "metadata": {
    "slideshow": {
     "slide_type": "fragment"
    }
   },
   "source": [
    "We can do the same for converting to `float` and `int` to `str`. Note some conversion are not allowed."
   ]
  },
  {
   "cell_type": "markdown",
   "metadata": {
    "slideshow": {
     "slide_type": "slide"
    }
   },
   "source": [
    "## Fundamental data types (II/II)\n",
    "\n",
    "*What is an object in Python?*"
   ]
  },
  {
   "cell_type": "markdown",
   "metadata": {
    "slideshow": {
     "slide_type": "fragment"
    }
   },
   "source": [
    "- A thing, anything - everything is an object."
   ]
  },
  {
   "cell_type": "markdown",
   "metadata": {
    "slideshow": {
     "slide_type": "fragment"
    }
   },
   "source": [
    "*Why use objects?*"
   ]
  },
  {
   "cell_type": "markdown",
   "metadata": {
    "slideshow": {
     "slide_type": "fragment"
    }
   },
   "source": [
    "- Easy manipulable, powerful methods and flexible attributes. \n",
    "- We can make complex objects, e.g. estimation methods quite easy.\n",
    "- Example of a float method:"
   ]
  },
  {
   "cell_type": "code",
   "execution_count": 4,
   "metadata": {
    "slideshow": {
     "slide_type": "-"
    }
   },
   "outputs": [
    {
     "data": {
      "text/plain": [
       "(3, 2)"
      ]
     },
     "execution_count": 4,
     "metadata": {},
     "output_type": "execute_result"
    }
   ],
   "source": [
    "(1.5).as_integer_ratio()"
   ]
  },
  {
   "cell_type": "markdown",
   "metadata": {
    "slideshow": {
     "slide_type": "slide"
    }
   },
   "source": [
    "## Debugging (I/III)\n",
    "\n",
    "*Code fails all the time!*\n"
   ]
  },
  {
   "cell_type": "code",
   "execution_count": 5,
   "metadata": {
    "slideshow": {
     "slide_type": "fragment"
    }
   },
   "outputs": [
    {
     "ename": "ValueError",
     "evalue": "invalid literal for int() with base 10: 'I am a string'",
     "output_type": "error",
     "traceback": [
      "\u001b[1;31m---------------------------------------------------------------------------\u001b[0m",
      "\u001b[1;31mValueError\u001b[0m                                Traceback (most recent call last)",
      "\u001b[1;32m<ipython-input-5-9f3059310d82>\u001b[0m in \u001b[0;36m<module>\u001b[1;34m\u001b[0m\n\u001b[0;32m      1\u001b[0m \u001b[0mA\u001b[0m\u001b[1;33m=\u001b[0m\u001b[1;34m'I am a string'\u001b[0m\u001b[1;33m\u001b[0m\u001b[1;33m\u001b[0m\u001b[0m\n\u001b[1;32m----> 2\u001b[1;33m \u001b[0mint\u001b[0m\u001b[1;33m(\u001b[0m\u001b[0mA\u001b[0m\u001b[1;33m)\u001b[0m\u001b[1;33m\u001b[0m\u001b[1;33m\u001b[0m\u001b[0m\n\u001b[0m\u001b[0;32m      3\u001b[0m \u001b[0mprint\u001b[0m\u001b[1;33m(\u001b[0m\u001b[0mA\u001b[0m\u001b[1;33m)\u001b[0m\u001b[1;33m\u001b[0m\u001b[1;33m\u001b[0m\u001b[0m\n",
      "\u001b[1;31mValueError\u001b[0m: invalid literal for int() with base 10: 'I am a string'"
     ]
    }
   ],
   "source": [
    "A='I am a string'\n",
    "int(A)\n",
    "print(A)"
   ]
  },
  {
   "cell_type": "markdown",
   "metadata": {
    "slideshow": {
     "slide_type": "slide"
    }
   },
   "source": [
    "## Debugging (II/III)\n",
    "\n",
    "*How do you fix code errors?*\n"
   ]
  },
  {
   "cell_type": "markdown",
   "metadata": {
    "slideshow": {
     "slide_type": "fragment"
    }
   },
   "source": [
    "Look at the error message:\n",
    "1. **Where** is the error? I.e. what linenumber (and which function).\n",
    "  - Inspect the elements from the failure before the error occurs. \n",
    "     - Note: if you use a function you may want to try printing elements\n",
    "  - Try replacing the objects in the line.\n",
    "  \n",
    "2. **What** goes wrong? Examples:\n",
    "  - `SyntaxError`: spelling error; `ValueError`: datatype mismatch.\n",
    "  - Hint: reread it several times, search on Google if you do not understand the error.\n"
   ]
  },
  {
   "cell_type": "markdown",
   "metadata": {
    "slideshow": {
     "slide_type": "slide"
    }
   },
   "source": [
    "## Debugging (III/III)\n",
    "\n",
    "*Exercise: investigate the error we incurred*\n"
   ]
  },
  {
   "cell_type": "markdown",
   "metadata": {
    "slideshow": {
     "slide_type": "fragment"
    }
   },
   "source": [
    "* Look at the answers in this stackoverflow post: [https://stackoverflow.com/questions/8420143](https://stackoverflow.com/questions/8420143).\n",
    "* An explanation by Blender:\n",
    "> Somewhere in your text file, a line has the word `id` in it, which can't really be converted to a number.\n"
   ]
  },
  {
   "cell_type": "markdown",
   "metadata": {
    "slideshow": {
     "slide_type": "slide"
    }
   },
   "source": [
    "## Operators\n",
    "\n",
    "*What computations can python do?*"
   ]
  },
  {
   "cell_type": "markdown",
   "metadata": {
    "slideshow": {
     "slide_type": "fragment"
    }
   },
   "source": [
    "- Numeric operators: Output a numeric value from numeric input. \n",
    "    - `+`; `*`; `-`; `/`.\n",
    "- Comparison operators: Output a boolean value, `True` or `False`\n",
    "    - `==`; `!=` (equal, not equal - input from most object types)\n",
    "    - `>`; `<`. (greater, smaller - input from numeric)\n",
    "- Logical operators: Output a boolean value from boolean input.\n",
    "    - `and` / `&`; `or` / `|`; `not` / `!`\n",
    "\n"
   ]
  },
  {
   "cell_type": "markdown",
   "metadata": {
    "slideshow": {
     "slide_type": "fragment"
    }
   },
   "source": [
    "*How can we test an expression in Python?*"
   ]
  },
  {
   "cell_type": "markdown",
   "metadata": {
    "slideshow": {
     "slide_type": "fragment"
    }
   },
   "source": [
    "We can check the validity of a statement using comparison operations:"
   ]
  },
  {
   "cell_type": "code",
   "execution_count": 6,
   "metadata": {
    "slideshow": {
     "slide_type": "-"
    }
   },
   "outputs": [
    {
     "data": {
      "text/plain": [
       "True"
      ]
     },
     "execution_count": 6,
     "metadata": {},
     "output_type": "execute_result"
    }
   ],
   "source": [
    "3 == (2 + 1) # other ops: >, !=, >="
   ]
  },
  {
   "cell_type": "markdown",
   "metadata": {
    "slideshow": {
     "slide_type": "fragment"
    }
   },
   "source": [
    "And apply logical operations:"
   ]
  },
  {
   "cell_type": "code",
   "execution_count": 15,
   "metadata": {
    "slideshow": {
     "slide_type": "fragment"
    }
   },
   "outputs": [
    {
     "data": {
      "text/plain": [
       "False"
      ]
     },
     "execution_count": 15,
     "metadata": {},
     "output_type": "execute_result"
    }
   ],
   "source": [
    "True & False # When part is false, logically the whole statement is false."
   ]
  },
  {
   "cell_type": "markdown",
   "metadata": {
    "slideshow": {
     "slide_type": "slide"
    }
   },
   "source": [
    "## Control flow (I/II)\n",
    "\n",
    "*How can we activate code based on data?*\n"
   ]
  },
  {
   "cell_type": "markdown",
   "metadata": {
    "slideshow": {
     "slide_type": "fragment"
    }
   },
   "source": [
    "A conditional execution of code, if a condition is true then active code.\n",
    "\n",
    "In Python the syntax is easy with the `if` syntax:\n",
    "\n",
    "```\n",
    "if condition:  \n",
    "    (CODE BLOCK LINE 1)\n",
    "    (CODE BLOCK LINE 2)\n",
    "    ...\n",
    "```"
   ]
  },
  {
   "cell_type": "markdown",
   "metadata": {
    "slideshow": {
     "slide_type": "-"
    }
   },
   "source": [
    "Condition is either a variable or an expression. If statement is `True` then execute a code block."
   ]
  },
  {
   "cell_type": "markdown",
   "metadata": {
    "slideshow": {
     "slide_type": "slide"
    }
   },
   "source": [
    "## Control flow (II/II)\n",
    "\n",
    "We can use comparison and logical operators directly as they output boolean values."
   ]
  },
  {
   "cell_type": "code",
   "execution_count": 16,
   "metadata": {
    "slideshow": {
     "slide_type": "-"
    }
   },
   "outputs": [
    {
     "name": "stdout",
     "output_type": "stream",
     "text": [
      "I'm being executed, yay!\n"
     ]
    }
   ],
   "source": [
    "if 4 == 4:  \n",
    "    print (\"I'm being executed, yay!\")\n",
    "else:      \n",
    "    print (\"Oh no, I'm not being executed!\")"
   ]
  },
  {
   "cell_type": "markdown",
   "metadata": {
    "slideshow": {
     "slide_type": "fragment"
    }
   },
   "source": [
    "We can make deep control flow structures:"
   ]
  },
  {
   "cell_type": "code",
   "execution_count": 17,
   "metadata": {
    "slideshow": {
     "slide_type": "-"
    }
   },
   "outputs": [
    {
     "name": "stdout",
     "output_type": "stream",
     "text": [
      "I'm large and positive!\n"
     ]
    }
   ],
   "source": [
    "A = 11\n",
    "if  A>=0:      \n",
    "    if A==0:\n",
    "        print (\"I'm exactly zero!\")\n",
    "        \n",
    "    elif A<10:\n",
    "        print (\"I'm small but positive!\")\n",
    "        \n",
    "    else:\n",
    "        print (\"I'm large and positive!\")\n",
    "else:      \n",
    "    print (\"Oh shoot, I'm negative!\")"
   ]
  },
  {
   "cell_type": "markdown",
   "metadata": {
    "slideshow": {
     "slide_type": "slide"
    }
   },
   "source": [
    "## Containers\n",
    "\n",
    "*How do we store multiple objects?*"
   ]
  },
  {
   "cell_type": "markdown",
   "metadata": {
    "slideshow": {
     "slide_type": "fragment"
    }
   },
   "source": [
    "- We put objects into containers. (Like a bag)\n",
    "- An example is a `list` where we can add and remove objects"
   ]
  },
  {
   "cell_type": "markdown",
   "metadata": {
    "slideshow": {
     "slide_type": "fragment"
    }
   },
   "source": [
    "*What are they useful for?*"
   ]
  },
  {
   "cell_type": "markdown",
   "metadata": {
    "slideshow": {
     "slide_type": "fragment"
    }
   },
   "source": [
    "- We can use them to compute statistics (max, min, mean)"
   ]
  },
  {
   "cell_type": "markdown",
   "metadata": {
    "slideshow": {
     "slide_type": "slide"
    }
   },
   "source": [
    "## Sequential containers\n",
    "\n",
    "*Which data types are ordered?*"
   ]
  },
  {
   "cell_type": "markdown",
   "metadata": {
    "slideshow": {
     "slide_type": "fragment"
    }
   },
   "source": [
    "- Sequential containers are ordered from first to last. \n",
    "- They can be accessed using their element using integer position/order.\n",
    "    - Done with square bracket syntax `[]` \n",
    "    - Note **first element is 0, and last is n-1!**\n",
    "    - One exception are iterators (`iter`) which are incredibly fast."
   ]
  },
  {
   "cell_type": "markdown",
   "metadata": {
    "slideshow": {
     "slide_type": "fragment"
    }
   },
   "source": [
    "*Which containers are sequential?*"
   ]
  },
  {
   "cell_type": "markdown",
   "metadata": {
    "slideshow": {
     "slide_type": "fragment"
    }
   },
   "source": [
    "- `list` which we can modify (**mutable**).\n",
    "    - useful to collect data on the go\n",
    "- `tuple` which is after initial assignment (**immutable**)\n",
    "     - tuples are faster as they can do less things\n",
    "- `array` \n",
    "    - which is mutable in content (i.e. we can change elements)\n",
    "    - but immutable in size\n",
    "    - great for data analysis\n"
   ]
  },
  {
   "cell_type": "markdown",
   "metadata": {
    "slideshow": {
     "slide_type": "slide"
    }
   },
   "source": [
    "## Lists\n",
    "\n",
    "A list can be modified (mutated) by methods, e.g.\n",
    "- We can `append` objects to it and remove `remove` them again.\n",
    "- We can use operations like `+` and `*`.\n"
   ]
  },
  {
   "cell_type": "code",
   "execution_count": 18,
   "metadata": {
    "slideshow": {
     "slide_type": "-"
    }
   },
   "outputs": [
    {
     "data": {
      "text/plain": [
       "['A', 'B', 'C', 'D']"
      ]
     },
     "execution_count": 18,
     "metadata": {},
     "output_type": "execute_result"
    }
   ],
   "source": [
    "list_1 = ['A', 'B']\n",
    "list_2 = ['C', 'D']\n",
    "list_1 + list_2  "
   ]
  },
  {
   "cell_type": "markdown",
   "metadata": {
    "slideshow": {
     "slide_type": "slide"
    }
   },
   "source": [
    "## Non-sequential types\n",
    "\n",
    "*Are there any non-sequential containers?*\n",
    "- A dictionary (`dict`)  which are accessed by keys (immutable objects).\n",
    "    - Focus of tomorrow.\n",
    "- A `set` where elements are\n",
    "    - unique (no duplicates) \n",
    "    - not ordered\n",
    "    - disadvantage: cannot access specific elements!\n"
   ]
  },
  {
   "cell_type": "markdown",
   "metadata": {
    "slideshow": {
     "slide_type": "slide"
    }
   },
   "source": [
    "## For loops\n",
    "\n",
    "*Why are containers so powerful?*\n",
    "\n"
   ]
  },
  {
   "cell_type": "markdown",
   "metadata": {
    "slideshow": {
     "slide_type": "fragment"
    }
   },
   "source": [
    "We can iterate over elements in a container -  this creates a *finite* loop, called the `for` loop. \n",
    "\n",
    "Example - try the following code:"
   ]
  },
  {
   "cell_type": "code",
   "execution_count": 19,
   "metadata": {
    "slideshow": {
     "slide_type": "-"
    }
   },
   "outputs": [
    {
     "name": "stdout",
     "output_type": "stream",
     "text": [
      "0\n",
      "1\n",
      "4\n",
      "9\n"
     ]
    }
   ],
   "source": [
    "A = []\n",
    "for i in range(4):\n",
    "    i_squared = i**2\n",
    "    A.append(i_squared)\n",
    "\n",
    "for a in A:\n",
    "    print(a)"
   ]
  },
  {
   "cell_type": "markdown",
   "metadata": {
    "slideshow": {
     "slide_type": "fragment"
    }
   },
   "source": [
    "For loops are smart when: iterating over files in a directory; iterating over specific set of columns."
   ]
  },
  {
   "cell_type": "markdown",
   "metadata": {
    "slideshow": {
     "slide_type": "fragment"
    }
   },
   "source": [
    "How does Python know where the code associated with inside of the loop begins?"
   ]
  },
  {
   "cell_type": "markdown",
   "metadata": {
    "slideshow": {
     "slide_type": "slide"
    }
   },
   "source": [
    "## The one line loop\n",
    "\n",
    "*What is the fastest way to write a loop?*"
   ]
  },
  {
   "cell_type": "markdown",
   "metadata": {
    "slideshow": {
     "slide_type": "fragment"
    }
   },
   "source": [
    "Using list comprehension (also work for containers):"
   ]
  },
  {
   "cell_type": "code",
   "execution_count": 20,
   "metadata": {
    "slideshow": {
     "slide_type": "-"
    }
   },
   "outputs": [
    {
     "name": "stdout",
     "output_type": "stream",
     "text": [
      "[0, 1, 4, 9]\n"
     ]
    }
   ],
   "source": [
    "A = [i**2 for i in range(4)]\n",
    "print(A)"
   ]
  },
  {
   "cell_type": "markdown",
   "metadata": {
    "slideshow": {
     "slide_type": "slide"
    }
   },
   "source": [
    "\n",
    "## While loops\n",
    "\n",
    "*Can we make a loop without specifying the end?*"
   ]
  },
  {
   "cell_type": "markdown",
   "metadata": {
    "slideshow": {
     "slide_type": "fragment"
    }
   },
   "source": [
    "Yes, this is called a `while` loop. Example - try the following code:\n"
   ]
  },
  {
   "cell_type": "code",
   "execution_count": 21,
   "metadata": {
    "slideshow": {
     "slide_type": "-"
    }
   },
   "outputs": [
    {
     "name": "stdout",
     "output_type": "stream",
     "text": [
      "[0, 2, 4]\n"
     ]
    }
   ],
   "source": [
    "i = 0\n",
    "L = []\n",
    "while (i<3):\n",
    "    L.append(i*2)\n",
    "    i += 1\n",
    "print(L)"
   ]
  },
  {
   "cell_type": "markdown",
   "metadata": {
    "slideshow": {
     "slide_type": "fragment"
    }
   },
   "source": [
    "Applications\n",
    "- Can be applied in scraping, model which converges, etc.\n",
    "- Make server process that keeps running"
   ]
  },
  {
   "cell_type": "markdown",
   "metadata": {
    "slideshow": {
     "slide_type": "slide"
    }
   },
   "source": [
    "## Making Code Reusable\n"
   ]
  },
  {
   "cell_type": "markdown",
   "metadata": {
    "slideshow": {
     "slide_type": "slide"
    }
   },
   "source": [
    "### Functions\n",
    "Be careful of how you define input/outputs and how objects are created. In particular:"
   ]
  },
  {
   "cell_type": "markdown",
   "metadata": {
    "slideshow": {
     "slide_type": "fragment"
    }
   },
   "source": [
    "- Globals: Objects defined outside function\n",
    "    - Note: These are available both locally and globally (although, they can be overwritten)\n",
    "- Locals: Objects that are created within a sub-level. \n",
    "    - Example: objects defined inside a function\n",
    "    - Cannot use outside, unless we use `return`"
   ]
  },
  {
   "cell_type": "markdown",
   "metadata": {
    "slideshow": {
     "slide_type": "slide"
    }
   },
   "source": [
    "### Checklist for Functions\n",
    "Some key questions that you should often ask yourself:\n",
    "- Should I write a function?\n",
    "    - If you are repeating some process: Yes!\n",
    "    - Makes code easier to write (better overview, less mistakes) and read\n",
    "- If yes:\n",
    "    - What do you intend the function to output? Is the correct output returned?\n",
    "    - Do you use locals where possible? \n",
    "    - Are globals assigned before you define the function in notebook/script?\n",
    "        - (if not, your function may fail! Reason: some used globals are not defined)\n"
   ]
  },
  {
   "cell_type": "markdown",
   "metadata": {
    "slideshow": {
     "slide_type": "slide"
    }
   },
   "source": [
    "### Classes \n",
    "Where do objects come from?"
   ]
  },
  {
   "cell_type": "markdown",
   "metadata": {},
   "source": [
    "- From a collection of pre-defined attributes and methods $-$ this is called a `class`.\n",
    "- We can make our own. It is complex, but powerful.\n",
    "- Examples of classes/objects we will see: \n",
    "    - Dataframes, scraping tools, machine learning models etc.\n",
    "    - (everything is an object)"
   ]
  },
  {
   "cell_type": "markdown",
   "metadata": {
    "slideshow": {
     "slide_type": "slide"
    }
   },
   "source": [
    "## Copy vs. View\n",
    "\n",
    "Important, when writing code `A = B`, then `A` is only a reference to `B`!\n",
    "\n",
    "- In other words: `A` is a **view** of `B`\n",
    "- Implication \n",
    "    - if `A` is mutable, e.g. list, dataframe: changes to `B` shows up in `A` and vice versa \n",
    "\n",
    "We can break this dependency by explicitly making **copy**. \n",
    "- For instance, in pandas use `A = B.copy()` method\n",
    "\n"
   ]
  },
  {
   "cell_type": "markdown",
   "metadata": {
    "slideshow": {
     "slide_type": "slide"
    }
   },
   "source": [
    "## Coding That is Fast"
   ]
  },
  {
   "cell_type": "markdown",
   "metadata": {
    "slideshow": {
     "slide_type": "slide"
    }
   },
   "source": [
    "### One-liners using comprehensions\n",
    "\n",
    "A very compact way of writing code: *comprehension*. Example of list comprehension:\n",
    "```python\n",
    "new_list = [my_proc(a) for a in my_list] \n",
    "```\n",
    "\n",
    "The new thing is that we define loop inside the list! \n"
   ]
  },
  {
   "cell_type": "code",
   "execution_count": 22,
   "metadata": {},
   "outputs": [
    {
     "name": "stdout",
     "output_type": "stream",
     "text": [
      "my_list: [1, 2, 3, 4, 5, 6, 7, 8, 9, 10]\n",
      "new_list: [1, 4, 9, 16, 25, 36, 49, 64, 81, 100]\n"
     ]
    }
   ],
   "source": [
    "# Define function\n",
    "def my_proc(a):\n",
    "    return a**2\n",
    "\n",
    "# Generate a list\n",
    "my_list = []\n",
    "for i in range(10):\n",
    "    my_list.append(i+1)\n",
    "\n",
    "# Use line from before to generate transformation \n",
    "new_list = [my_proc(a) for a in my_list]\n",
    "\n",
    "# Print lists\n",
    "print('my_list:', my_list)\n",
    "print('new_list:', new_list)"
   ]
  },
  {
   "cell_type": "markdown",
   "metadata": {
    "slideshow": {
     "slide_type": "slide"
    }
   },
   "source": [
    "### The Need for Speed\n",
    "Python is elegant and simple\n",
    "\n",
    "However, Python is NOT built for speed. \n",
    "\n",
    "We can compensate by using smart packages that have fast algorithms, e.g. numpy and pandas\n"
   ]
  },
  {
   "cell_type": "markdown",
   "metadata": {
    "slideshow": {
     "slide_type": "slide"
    }
   },
   "source": [
    "### Vectorization\n",
    "\n",
    "An alternative is to write our code in terms of numpy arrays.\n",
    "\n",
    "In example below, we generate a long list by making some transformation of an input... we get around 30 times speed-up by using numpy!"
   ]
  },
  {
   "cell_type": "code",
   "execution_count": 23,
   "metadata": {},
   "outputs": [
    {
     "name": "stdout",
     "output_type": "stream",
     "text": [
      "821 ms ± 21.8 ms per loop (mean ± std. dev. of 7 runs, 1 loop each)\n"
     ]
    }
   ],
   "source": [
    "%%timeit \n",
    "[i+3 for i in range(10**7)]"
   ]
  },
  {
   "cell_type": "code",
   "execution_count": 24,
   "metadata": {},
   "outputs": [],
   "source": [
    "import numpy as np"
   ]
  },
  {
   "cell_type": "code",
   "execution_count": 25,
   "metadata": {},
   "outputs": [
    {
     "name": "stdout",
     "output_type": "stream",
     "text": [
      "24.8 ms ± 1.29 ms per loop (mean ± std. dev. of 7 runs, 10 loops each)\n"
     ]
    }
   ],
   "source": [
    "%%timeit\n",
    "np.arange(10**7)+3"
   ]
  },
  {
   "cell_type": "markdown",
   "metadata": {
    "slideshow": {
     "slide_type": "slide"
    }
   },
   "source": [
    "### Take Away on Speed\n",
    "\n",
    "Use pandas or numpy - they are optimized for speed! \n",
    "\n",
    "Why are pandas and numpy fast? \n",
    "\n",
    "- Because they are written in fast, low-level code with optimized algorithms! \n",
    "\n",
    "Why are we not learning low level? \n",
    "- Requires too much space for simple operations - not efficient!\n",
    "- Too steep learning curve (not like Python!!)"
   ]
  },
  {
   "cell_type": "markdown",
   "metadata": {
    "slideshow": {
     "slide_type": "slide"
    }
   },
   "source": [
    "# Session 2B: Data Structuring in Pandas I\n",
    "\n",
    "*Joachim Kahr Rasmussen*"
   ]
  },
  {
   "cell_type": "markdown",
   "metadata": {
    "slideshow": {
     "slide_type": "slide"
    }
   },
   "source": [
    "## Agenda for Session 2B\n",
    "\n",
    "In this session, we will work with `pandas` and how to structure your data. In particular, we will cover:\n",
    "\n",
    "- Live part:\n",
    "    - Why We Structure Data\n",
    "    - Overview of Numpy and Pandas\n",
    "- Video part integrated with exercises:\n",
    "    1. Welcome (Back to) Pandas\n",
    "    - DataFrames and Series\n",
    "    - Operations with Elementary Data Types\n",
    "        - Boolean Operations\n",
    "        - Numeric Operations and Methods\n",
    "        - String Operations\n",
    "    2. Readible Code and Method Chaining\n",
    "    3. More Advanced Data Types\n",
    "        - Categorical Data\n",
    "        - Time Series Data"
   ]
  },
  {
   "cell_type": "markdown",
   "metadata": {
    "slideshow": {
     "slide_type": "slide"
    }
   },
   "source": [
    "## Associated Readings\n",
    "\n",
    "PDA, chapter 7:\n",
    "- Handling missing data\n",
    "- Data transformations: \n",
    "    - Duplicates \n",
    "    - Mapping\n",
    "    - Replacing\n",
    "    - Renaming axes\n",
    "    - Binning\n",
    "    - Filtering outliers\n",
    "    - Dummies\n",
    "- String manipulations\n",
    "\n",
    "PDA, sections 11.1-11.2:\n",
    "- Dates and time in Python\n",
    "- Working with time series in pandas (time as index)\n",
    "\n",
    "PDA, sections 12.1, 12.3:\n",
    "- Working with categorical data in pandas\n",
    "- Method chaining\n",
    "\n",
    "PML, chapter 4, section 'Handling categorical data':\n",
    "- Encoding class labels with `LabelEncoder`\n",
    "- One-hot encoding"
   ]
  },
  {
   "cell_type": "markdown",
   "metadata": {
    "slideshow": {
     "slide_type": "slide"
    }
   },
   "source": [
    "## Loading Stuff"
   ]
  },
  {
   "cell_type": "code",
   "execution_count": 1,
   "metadata": {
    "slideshow": {
     "slide_type": "skip"
    }
   },
   "outputs": [],
   "source": [
    "# Loading packages\n",
    "import numpy as np"
   ]
  },
  {
   "cell_type": "markdown",
   "metadata": {
    "slideshow": {
     "slide_type": "slide"
    }
   },
   "source": [
    "# Why We Structure Data"
   ]
  },
  {
   "cell_type": "markdown",
   "metadata": {
    "slideshow": {
     "slide_type": "slide"
    }
   },
   "source": [
    "## Motivation\n",
    "*Why do we want to learn data structuring?*"
   ]
  },
  {
   "cell_type": "markdown",
   "metadata": {
    "slideshow": {
     "slide_type": "fragment"
    }
   },
   "source": [
    "- Data rarely comes in the form of our model. We need to 'wrangle' our data.\n",
    "- Someone has to do this - and this person might very well be you\n",
    "- Even as a data science manager, you need to know what is going on with the data structuring: This is the backbone of your analyses!"
   ]
  },
  {
   "cell_type": "markdown",
   "metadata": {
    "slideshow": {
     "slide_type": "fragment"
    }
   },
   "source": [
    "*Can our machine learning models not do this for us?* "
   ]
  },
  {
   "cell_type": "markdown",
   "metadata": {
    "slideshow": {
     "slide_type": "fragment"
    }
   },
   "source": [
    "- Not yet :). The current version needs **tidy** data. What is tidy? "
   ]
  },
  {
   "cell_type": "markdown",
   "metadata": {
    "slideshow": {
     "slide_type": "fragment"
    }
   },
   "source": [
    "One row per observation."
   ]
  },
  {
   "cell_type": "markdown",
   "metadata": {
    "slideshow": {
     "slide_type": "fragment"
    }
   },
   "source": [
    "<center><img src='https://raw.githubusercontent.com/abjer/sds2017/master/slides/figures/tidy.png'></center>"
   ]
  },
  {
   "cell_type": "markdown",
   "metadata": {
    "slideshow": {
     "slide_type": "slide"
    }
   },
   "source": [
    "# Numpy and Pandas"
   ]
  },
  {
   "cell_type": "markdown",
   "metadata": {
    "slideshow": {
     "slide_type": "slide"
    }
   },
   "source": [
    "## Numpy Overview\n",
    "*What is the [`numpy`](http://www.numpy.org/) module?*"
   ]
  },
  {
   "cell_type": "markdown",
   "metadata": {
    "slideshow": {
     "slide_type": "fragment"
    }
   },
   "source": [
    "`numpy` is a Python module similar to matlab \n",
    "- fast and versatile for manipulating arrays\n",
    "- linear algebra tools available\n",
    "- used in some machine learning and statistics packages\n",
    "\n",
    "Example from earlier sessions"
   ]
  },
  {
   "cell_type": "code",
   "execution_count": 2,
   "metadata": {
    "slideshow": {
     "slide_type": "-"
    }
   },
   "outputs": [
    {
     "data": {
      "text/plain": [
       "array([[1, 2],\n",
       "       [3, 4]])"
      ]
     },
     "execution_count": 2,
     "metadata": {},
     "output_type": "execute_result"
    }
   ],
   "source": [
    "table = [[1,2],[3,4]]\n",
    "arr = np.array(table)\n",
    "arr"
   ]
  },
  {
   "cell_type": "markdown",
   "metadata": {
    "slideshow": {
     "slide_type": "slide"
    }
   },
   "source": [
    "## Pandas motivation\n",
    "*Why use Pandas?*"
   ]
  },
  {
   "cell_type": "markdown",
   "metadata": {
    "slideshow": {
     "slide_type": "fragment"
    }
   },
   "source": [
    "It is built on numpy:\n",
    "- Simplicity: Pandas is built with Python's simplicity \n",
    "- Powerful and fast tools for manipulating data from numpy\n",
    "\n",
    "Improves on numpy:\n",
    "- Clarity, flexibility by using labels (keys)\n",
    "- Introduces lots of new, useful tools for data analysis (more on this)\n",
    "\n",
    "The future: interesting development combining tools for big and small data\n",
    "\n",
    "Note: Much more similar to common software for data manipulation like, say, Stata"
   ]
  },
  {
   "cell_type": "markdown",
   "metadata": {
    "slideshow": {
     "slide_type": "slide"
    }
   },
   "source": [
    "## Pandas popularity\n",
    "\n",
    "<center><img src='https://www.sqlshack.com/wp-content/uploads/2020/08/pandas-in-python-popularity-from-stack-overflow.png' alt=\"Drawing\" style=\"width: 800px;\"/></center>\n",
    "\n"
   ]
  },
  {
   "cell_type": "markdown",
   "metadata": {
    "slideshow": {
     "slide_type": "slide"
    }
   },
   "source": [
    "## Videos + Exercises\n",
    "\n",
    "In the exercises, you are going to (i) learn more about data structuring in Pandas and (ii) work with Pandas yourself."
   ]
  },
  {
   "cell_type": "markdown",
   "metadata": {
    "slideshow": {
     "slide_type": "slide"
    }
   },
   "source": [
    "# VIDEO 2.1: DataFrames and Series"
   ]
  },
  {
   "cell_type": "markdown",
   "metadata": {
    "slideshow": {
     "slide_type": "slide"
    }
   },
   "source": [
    "## Loading Stuff"
   ]
  },
  {
   "cell_type": "code",
   "execution_count": 1,
   "metadata": {
    "slideshow": {
     "slide_type": "skip"
    }
   },
   "outputs": [],
   "source": [
    "# Loading packages\n",
    "import matplotlib.pyplot as plt\n",
    "import numpy as np\n",
    "import pandas as pd\n",
    "import requests\n",
    "import seaborn as sns"
   ]
  },
  {
   "cell_type": "markdown",
   "metadata": {
    "slideshow": {
     "slide_type": "slide"
    }
   },
   "source": [
    "## Pandas Data Types\n",
    "*How do we work with data in Pandas?*"
   ]
  },
  {
   "cell_type": "markdown",
   "metadata": {
    "slideshow": {
     "slide_type": "fragment"
    }
   },
   "source": [
    "- We use two fundamental data stuctures: \n",
    "  - ``Series``, and\n",
    "  - ``DataFrame``."
   ]
  },
  {
   "cell_type": "markdown",
   "metadata": {
    "slideshow": {
     "slide_type": "slide"
    }
   },
   "source": [
    "## Pandas Series (I/V)\n",
    "*What is a `Series`?*"
   ]
  },
  {
   "cell_type": "markdown",
   "metadata": {
    "slideshow": {
     "slide_type": "fragment"
    }
   },
   "source": [
    "- A vector/list with labels for each entry. Example:"
   ]
  },
  {
   "cell_type": "code",
   "execution_count": 2,
   "metadata": {
    "slideshow": {
     "slide_type": "-"
    }
   },
   "outputs": [
    {
     "data": {
      "text/plain": [
       "0       1\n",
       "1     1.2\n",
       "2     abc\n",
       "3    True\n",
       "dtype: object"
      ]
     },
     "execution_count": 2,
     "metadata": {},
     "output_type": "execute_result"
    }
   ],
   "source": [
    "L = [1, 1.2, 'abc', True]\n",
    "\n",
    "my_series = pd.Series(L)\n",
    "my_series"
   ]
  },
  {
   "cell_type": "markdown",
   "metadata": {
    "slideshow": {
     "slide_type": "slide"
    }
   },
   "source": [
    "## Pandas Series (II/V)\n",
    "*What are the components in a Series?* "
   ]
  },
  {
   "cell_type": "markdown",
   "metadata": {
    "slideshow": {
     "slide_type": "fragment"
    }
   },
   "source": [
    "From before, we could see that a Series generally consists of three components:"
   ]
  },
  {
   "cell_type": "markdown",
   "metadata": {
    "slideshow": {
     "slide_type": "fragment"
    }
   },
   "source": [
    "- `index`: label for each observation"
   ]
  },
  {
   "cell_type": "markdown",
   "metadata": {
    "slideshow": {
     "slide_type": "fragment"
    }
   },
   "source": [
    "- `values`: observation data"
   ]
  },
  {
   "cell_type": "markdown",
   "metadata": {
    "slideshow": {
     "slide_type": "fragment"
    }
   },
   "source": [
    "- `dtype`: the format of the series (`object` means any data type is allowed)\n",
    "  - examples are fundamental datatypes (`float`, `int`, `bool`)  \n",
    "      - in terms of precision: `float`>`int`>`bool`\n",
    "      - this comes at a cost in the form of speed"
   ]
  },
  {
   "cell_type": "markdown",
   "metadata": {
    "slideshow": {
     "slide_type": "slide"
    }
   },
   "source": [
    "## Pandas Series (III/V)\n",
    "*How do we set custom index?* \n",
    "\n",
    "Indices need not have a sequential structure. To see this, consider the following example"
   ]
  },
  {
   "cell_type": "code",
   "execution_count": 3,
   "metadata": {
    "slideshow": {
     "slide_type": "-"
    }
   },
   "outputs": [],
   "source": [
    "num_data = range(0,3) # Generate data\n",
    "indices = ['B', 'C', 'A'] # Generate index names"
   ]
  },
  {
   "cell_type": "markdown",
   "metadata": {
    "slideshow": {
     "slide_type": "fragment"
    }
   },
   "source": [
    "Now, combine to a series:"
   ]
  },
  {
   "cell_type": "code",
   "execution_count": 4,
   "metadata": {
    "slideshow": {
     "slide_type": "-"
    }
   },
   "outputs": [
    {
     "data": {
      "text/plain": [
       "B    0\n",
       "C    1\n",
       "A    2\n",
       "dtype: int64"
      ]
     },
     "execution_count": 4,
     "metadata": {},
     "output_type": "execute_result"
    }
   ],
   "source": [
    "my_series2 = pd.Series(data=num_data, index=indices) # Create a pandas series from the two\n",
    "my_series2"
   ]
  },
  {
   "cell_type": "markdown",
   "metadata": {
    "slideshow": {
     "slide_type": "slide"
    }
   },
   "source": [
    "## Pandas Series (IV/V)\n",
    "*What data structure does the pandas series remind us of?*"
   ]
  },
  {
   "cell_type": "markdown",
   "metadata": {
    "collapsed": true,
    "slideshow": {
     "slide_type": "fragment"
    }
   },
   "source": [
    "A mix of Python list and dictionary. Consider the following simple transformation:"
   ]
  },
  {
   "cell_type": "code",
   "execution_count": 5,
   "metadata": {
    "scrolled": true,
    "slideshow": {
     "slide_type": "-"
    }
   },
   "outputs": [
    {
     "data": {
      "text/plain": [
       "{0: 1, 1: 1.2, 2: 'abc', 3: True}"
      ]
     },
     "execution_count": 5,
     "metadata": {},
     "output_type": "execute_result"
    }
   ],
   "source": [
    "my_series.to_dict()"
   ]
  },
  {
   "cell_type": "markdown",
   "metadata": {
    "collapsed": true,
    "slideshow": {
     "slide_type": "fragment"
    }
   },
   "source": [
    "*Can we also convert a dictionary to a series?*"
   ]
  },
  {
   "cell_type": "markdown",
   "metadata": {
    "slideshow": {
     "slide_type": "fragment"
    }
   },
   "source": [
    "Yes, we just put into the Series class constructor. Example:"
   ]
  },
  {
   "cell_type": "code",
   "execution_count": 6,
   "metadata": {
    "slideshow": {
     "slide_type": "-"
    }
   },
   "outputs": [
    {
     "data": {
      "text/plain": [
       "yesterday    0\n",
       "today        1\n",
       "tomorrow     3\n",
       "dtype: int64"
      ]
     },
     "execution_count": 6,
     "metadata": {},
     "output_type": "execute_result"
    }
   ],
   "source": [
    "d = {'yesterday': 0, 'today': 1, 'tomorrow':3} # Create some dictionary\n",
    "my_series3 = pd.Series(d) # Use the constructor\n",
    "my_series3"
   ]
  },
  {
   "cell_type": "markdown",
   "metadata": {
    "slideshow": {
     "slide_type": "slide"
    }
   },
   "source": [
    "## Pandas Series (V/V)\n",
    "*How is the series different from a dict?*"
   ]
  },
  {
   "cell_type": "markdown",
   "metadata": {
    "slideshow": {
     "slide_type": "fragment"
    }
   },
   "source": [
    "An important distinction: Series indices are NOT unique! Example:"
   ]
  },
  {
   "cell_type": "code",
   "execution_count": 7,
   "metadata": {
    "slideshow": {
     "slide_type": "-"
    }
   },
   "outputs": [
    {
     "name": "stdout",
     "output_type": "stream",
     "text": [
      "[False  True  True]\n",
      "\n",
      "{'A': 2}\n"
     ]
    }
   ],
   "source": [
    "s = pd.Series(range(3), index=['A','A', 'A']) # Create series with same indices\n",
    "print(s.index.duplicated()) # Check duplicates\n",
    "print()\n",
    "print(s.to_dict()) # So translating to a dict gives..."
   ]
  },
  {
   "cell_type": "markdown",
   "metadata": {
    "slideshow": {
     "slide_type": "fragment"
    }
   },
   "source": [
    "Series are both key and index  based (i.e. sequential).\n",
    "- Remember that unlike, say, lists, dictionaries are not sequential!"
   ]
  },
  {
   "cell_type": "markdown",
   "metadata": {
    "slideshow": {
     "slide_type": "slide"
    }
   },
   "source": [
    "## Pandas Data Frames (I/IV)\n",
    "\n",
    "*OK, so now we know what a series is. What is a `DataFrame` then?*"
   ]
  },
  {
   "cell_type": "markdown",
   "metadata": {
    "slideshow": {
     "slide_type": "fragment"
    }
   },
   "source": [
    "- A 2d-array (matrix) with labelled columns and rows (which are called indices). Example:"
   ]
  },
  {
   "cell_type": "code",
   "execution_count": 8,
   "metadata": {
    "scrolled": true
   },
   "outputs": [
    {
     "data": {
      "text/html": [
       "<div>\n",
       "<style scoped>\n",
       "    .dataframe tbody tr th:only-of-type {\n",
       "        vertical-align: middle;\n",
       "    }\n",
       "\n",
       "    .dataframe tbody tr th {\n",
       "        vertical-align: top;\n",
       "    }\n",
       "\n",
       "    .dataframe thead th {\n",
       "        text-align: right;\n",
       "    }\n",
       "</style>\n",
       "<table border=\"1\" class=\"dataframe\">\n",
       "  <thead>\n",
       "    <tr style=\"text-align: right;\">\n",
       "      <th></th>\n",
       "      <th>A</th>\n",
       "      <th>B</th>\n",
       "    </tr>\n",
       "  </thead>\n",
       "  <tbody>\n",
       "    <tr>\n",
       "      <th>0</th>\n",
       "      <td>1</td>\n",
       "      <td>2</td>\n",
       "    </tr>\n",
       "    <tr>\n",
       "      <th>1</th>\n",
       "      <td>3</td>\n",
       "      <td>4</td>\n",
       "    </tr>\n",
       "  </tbody>\n",
       "</table>\n",
       "</div>"
      ],
      "text/plain": [
       "   A  B\n",
       "0  1  2\n",
       "1  3  4"
      ]
     },
     "execution_count": 8,
     "metadata": {},
     "output_type": "execute_result"
    }
   ],
   "source": [
    "df = pd.DataFrame(data=[[1,2],[3,4]],\n",
    "                  columns=['A', 'B'])\n",
    "df"
   ]
  },
  {
   "cell_type": "markdown",
   "metadata": {
    "slideshow": {
     "slide_type": "slide"
    }
   },
   "source": [
    "## Pandas Data Frames (II/IV)\n",
    "\n",
    "*How can we really think about this*"
   ]
  },
  {
   "cell_type": "markdown",
   "metadata": {
    "slideshow": {
     "slide_type": "fragment"
    }
   },
   "source": [
    "There are at least two simple ways of seeing the pandas DataFrae:\n",
    "1. A numpy arrays with some additional stuff.\n",
    "2. A set of series that have been merged horizontally\n",
    "    - Note that columns can have different datatypes!\n",
    "\n",
    "Most functions from `numpy` can be applied directly to Pandas. We can convert a DataFrame to a `numpy` array with `values` attribute."
   ]
  },
  {
   "cell_type": "code",
   "execution_count": 9,
   "metadata": {
    "slideshow": {
     "slide_type": "-"
    }
   },
   "outputs": [
    {
     "data": {
      "text/plain": [
       "array([[1, 2],\n",
       "       [3, 4]], dtype=int64)"
      ]
     },
     "execution_count": 9,
     "metadata": {},
     "output_type": "execute_result"
    }
   ],
   "source": [
    "df.values"
   ]
  },
  {
   "cell_type": "markdown",
   "metadata": {
    "slideshow": {
     "slide_type": "fragment"
    }
   },
   "source": [
    "*To note*: In Python we can describe it as a *list of lists* or sometimes a *dict of dicts*."
   ]
  },
  {
   "cell_type": "code",
   "execution_count": 10,
   "metadata": {
    "slideshow": {
     "slide_type": "-"
    }
   },
   "outputs": [
    {
     "data": {
      "text/plain": [
       "[[1, 2], [3, 4]]"
      ]
     },
     "execution_count": 10,
     "metadata": {},
     "output_type": "execute_result"
    }
   ],
   "source": [
    "df.values.tolist()"
   ]
  },
  {
   "cell_type": "markdown",
   "metadata": {
    "slideshow": {
     "slide_type": "slide"
    }
   },
   "source": [
    "## Pandas Data Frames (III/IV)\n",
    "\n",
    "*How can larger pandas dataframes be built?*"
   ]
  },
  {
   "cell_type": "markdown",
   "metadata": {
    "slideshow": {
     "slide_type": "fragment"
    }
   },
   "source": [
    "Similar to Series, DataFrames can be built from dictionaries."
   ]
  },
  {
   "cell_type": "markdown",
   "metadata": {
    "slideshow": {
     "slide_type": "fragment"
    }
   },
   "source": [
    "An important difference: When it comes to creating distinct columns, DataFrames require that each value in the dictionary is also a dictionary. Example:"
   ]
  },
  {
   "cell_type": "code",
   "execution_count": 11,
   "metadata": {
    "slideshow": {
     "slide_type": "-"
    }
   },
   "outputs": [
    {
     "data": {
      "text/html": [
       "<div>\n",
       "<style scoped>\n",
       "    .dataframe tbody tr th:only-of-type {\n",
       "        vertical-align: middle;\n",
       "    }\n",
       "\n",
       "    .dataframe tbody tr th {\n",
       "        vertical-align: top;\n",
       "    }\n",
       "\n",
       "    .dataframe thead th {\n",
       "        text-align: right;\n",
       "    }\n",
       "</style>\n",
       "<table border=\"1\" class=\"dataframe\">\n",
       "  <thead>\n",
       "    <tr style=\"text-align: right;\">\n",
       "      <th></th>\n",
       "      <th>january</th>\n",
       "      <th>february</th>\n",
       "      <th>march</th>\n",
       "    </tr>\n",
       "  </thead>\n",
       "  <tbody>\n",
       "    <tr>\n",
       "      <th>1st</th>\n",
       "      <td>0</td>\n",
       "      <td>-3</td>\n",
       "      <td>3</td>\n",
       "    </tr>\n",
       "    <tr>\n",
       "      <th>2nd</th>\n",
       "      <td>1</td>\n",
       "      <td>-1</td>\n",
       "      <td>5</td>\n",
       "    </tr>\n",
       "    <tr>\n",
       "      <th>3rd</th>\n",
       "      <td>3</td>\n",
       "      <td>-2</td>\n",
       "      <td>4</td>\n",
       "    </tr>\n",
       "  </tbody>\n",
       "</table>\n",
       "</div>"
      ],
      "text/plain": [
       "     january  february  march\n",
       "1st        0        -3      3\n",
       "2nd        1        -1      5\n",
       "3rd        3        -2      4"
      ]
     },
     "execution_count": 11,
     "metadata": {},
     "output_type": "execute_result"
    }
   ],
   "source": [
    "djan = {'1st': 0, '2nd': 1, '3rd':3} # Create some dictionary for january\n",
    "dfeb = {'1st': -3, '2nd': -1, '3rd':-2} # Create some dictionary for february\n",
    "dmar = {'1st': 3, '2nd': 5, '3rd':4} # Create some dictionary for march\n",
    "\n",
    "d = {'january': djan, 'february': dfeb, 'march': dmar} # Create dictionary of dictionaries\n",
    "my_df1 = pd.DataFrame(d) # Use the constructor\n",
    "my_df1"
   ]
  },
  {
   "cell_type": "markdown",
   "metadata": {
    "slideshow": {
     "slide_type": "slide"
    }
   },
   "source": [
    "## Pandas Data Frames (IV/IV)\n",
    "\n",
    "*What happens if keys are not the same?*"
   ]
  },
  {
   "cell_type": "markdown",
   "metadata": {
    "slideshow": {
     "slide_type": "fragment"
    }
   },
   "source": [
    "No big deal..."
   ]
  },
  {
   "cell_type": "code",
   "execution_count": 12,
   "metadata": {
    "slideshow": {
     "slide_type": "-"
    }
   },
   "outputs": [
    {
     "data": {
      "text/html": [
       "<div>\n",
       "<style scoped>\n",
       "    .dataframe tbody tr th:only-of-type {\n",
       "        vertical-align: middle;\n",
       "    }\n",
       "\n",
       "    .dataframe tbody tr th {\n",
       "        vertical-align: top;\n",
       "    }\n",
       "\n",
       "    .dataframe thead th {\n",
       "        text-align: right;\n",
       "    }\n",
       "</style>\n",
       "<table border=\"1\" class=\"dataframe\">\n",
       "  <thead>\n",
       "    <tr style=\"text-align: right;\">\n",
       "      <th></th>\n",
       "      <th>january</th>\n",
       "      <th>february</th>\n",
       "      <th>march</th>\n",
       "    </tr>\n",
       "  </thead>\n",
       "  <tbody>\n",
       "    <tr>\n",
       "      <th>1st</th>\n",
       "      <td>0.0</td>\n",
       "      <td>-3.0</td>\n",
       "      <td>3.0</td>\n",
       "    </tr>\n",
       "    <tr>\n",
       "      <th>2nd</th>\n",
       "      <td>1.0</td>\n",
       "      <td>-1.0</td>\n",
       "      <td>5.0</td>\n",
       "    </tr>\n",
       "    <tr>\n",
       "      <th>3rd</th>\n",
       "      <td>3.0</td>\n",
       "      <td>-2.0</td>\n",
       "      <td>NaN</td>\n",
       "    </tr>\n",
       "    <tr>\n",
       "      <th>4th</th>\n",
       "      <td>NaN</td>\n",
       "      <td>NaN</td>\n",
       "      <td>4.0</td>\n",
       "    </tr>\n",
       "  </tbody>\n",
       "</table>\n",
       "</div>"
      ],
      "text/plain": [
       "     january  february  march\n",
       "1st      0.0      -3.0    3.0\n",
       "2nd      1.0      -1.0    5.0\n",
       "3rd      3.0      -2.0    NaN\n",
       "4th      NaN       NaN    4.0"
      ]
     },
     "execution_count": 12,
     "metadata": {},
     "output_type": "execute_result"
    }
   ],
   "source": [
    "djan = {'1st': 0, '2nd': 1, '3rd':3} # Create some dictionary for january\n",
    "dfeb = {'1st': -3, '2nd': -1, '3rd':-2} # Create some dictionary for february\n",
    "dmar = {'1st': 3, '2nd': 5, '4th':4} # Create some dictionary for march\n",
    "\n",
    "d = {'january': djan, 'february': dfeb, 'march': dmar} # Create dictionary of dictionaries\n",
    "my_df2 = pd.DataFrame(d) # Use the constructor\n",
    "my_df2"
   ]
  },
  {
   "cell_type": "markdown",
   "metadata": {
    "slideshow": {
     "slide_type": "slide"
    }
   },
   "source": [
    "## Series vs DataFrames (I/II)\n",
    "*How are Series related to DataFrames?*"
   ]
  },
  {
   "cell_type": "markdown",
   "metadata": {
    "slideshow": {
     "slide_type": "fragment"
    }
   },
   "source": [
    "Putting it simple: Every column is a series. Example, access as key (recommended):"
   ]
  },
  {
   "cell_type": "code",
   "execution_count": 13,
   "metadata": {
    "slideshow": {
     "slide_type": "-"
    }
   },
   "outputs": [
    {
     "name": "stdout",
     "output_type": "stream",
     "text": [
      "0    2\n",
      "1    4\n",
      "Name: B, dtype: int64\n"
     ]
    }
   ],
   "source": [
    "print(df['B'])"
   ]
  },
  {
   "cell_type": "markdown",
   "metadata": {
    "slideshow": {
     "slide_type": "fragment"
    }
   },
   "source": [
    "Another option is access as object method... smart, but dangerous! Sometimes it works..."
   ]
  },
  {
   "cell_type": "code",
   "execution_count": 14,
   "metadata": {
    "slideshow": {
     "slide_type": "-"
    }
   },
   "outputs": [
    {
     "name": "stdout",
     "output_type": "stream",
     "text": [
      "0    2\n",
      "1    4\n",
      "Name: B, dtype: int64\n"
     ]
    }
   ],
   "source": [
    "print(df.B)"
   ]
  },
  {
   "cell_type": "markdown",
   "metadata": {
    "slideshow": {
     "slide_type": "fragment"
    }
   },
   "source": [
    "But sometimes it doesn't... To illustrate, add one more column"
   ]
  },
  {
   "cell_type": "code",
   "execution_count": 15,
   "metadata": {
    "slideshow": {
     "slide_type": "-"
    }
   },
   "outputs": [
    {
     "name": "stdout",
     "output_type": "stream",
     "text": [
      "   A  B  count\n",
      "0  1  2      5\n",
      "1  3  4      5\n"
     ]
    }
   ],
   "source": [
    "df['count'] =  5\n",
    "print(df)"
   ]
  },
  {
   "cell_type": "markdown",
   "metadata": {
    "slideshow": {
     "slide_type": "slide"
    }
   },
   "source": [
    "## Series vs DataFrames (II/II)\n",
    "*But when wouldn't this work?*"
   ]
  },
  {
   "cell_type": "markdown",
   "metadata": {
    "slideshow": {
     "slide_type": "fragment"
    }
   },
   "source": [
    "To illustrate, add one more column:"
   ]
  },
  {
   "cell_type": "code",
   "execution_count": 16,
   "metadata": {
    "slideshow": {
     "slide_type": "-"
    }
   },
   "outputs": [
    {
     "name": "stdout",
     "output_type": "stream",
     "text": [
      "   A  B  count\n",
      "0  1  2      5\n",
      "1  3  4      5\n"
     ]
    }
   ],
   "source": [
    "df['count'] =  5\n",
    "print(df)"
   ]
  },
  {
   "cell_type": "markdown",
   "metadata": {
    "slideshow": {
     "slide_type": "fragment"
    }
   },
   "source": [
    "Now print this and see!"
   ]
  },
  {
   "cell_type": "code",
   "execution_count": 17,
   "metadata": {
    "scrolled": true,
    "slideshow": {
     "slide_type": "-"
    }
   },
   "outputs": [
    {
     "name": "stdout",
     "output_type": "stream",
     "text": [
      "<bound method DataFrame.count of    A  B  count\n",
      "0  1  2      5\n",
      "1  3  4      5>\n"
     ]
    }
   ],
   "source": [
    "print(df.count)"
   ]
  },
  {
   "cell_type": "markdown",
   "metadata": {
    "slideshow": {
     "slide_type": "fragment"
    }
   },
   "source": [
    "\n",
    "Clearly, the key-based option more robust as variables named same as methods, e.g. `count`, cannot be accesed."
   ]
  },
  {
   "cell_type": "markdown",
   "metadata": {
    "slideshow": {
     "slide_type": "slide"
    }
   },
   "source": [
    "## Converting Data Types"
   ]
  },
  {
   "cell_type": "markdown",
   "metadata": {
    "slideshow": {
     "slide_type": "-"
    }
   },
   "source": [
    "The data type of a series can be converted with the **astype** method. Some examples:"
   ]
  },
  {
   "cell_type": "code",
   "execution_count": 18,
   "metadata": {},
   "outputs": [
    {
     "name": "stdout",
     "output_type": "stream",
     "text": [
      "yesterday    0\n",
      "today        1\n",
      "tomorrow     3\n",
      "dtype: int64\n",
      "\n",
      "yesterday    0.0\n",
      "today        1.0\n",
      "tomorrow     3.0\n",
      "dtype: float64\n",
      "\n",
      "yesterday    0\n",
      "today        1\n",
      "tomorrow     3\n",
      "dtype: object\n"
     ]
    }
   ],
   "source": [
    "print(my_series3)\n",
    "print()\n",
    "print(my_series3.astype(np.float))\n",
    "print()\n",
    "print(my_series3.astype(np.str))"
   ]
  },
  {
   "cell_type": "markdown",
   "metadata": {
    "slideshow": {
     "slide_type": "slide"
    }
   },
   "source": [
    "## Indices and Column Names\n",
    "*Why don't we just use numpy arrays and matrices?*\n"
   ]
  },
  {
   "cell_type": "markdown",
   "metadata": {
    "slideshow": {
     "slide_type": "fragment"
    }
   },
   "source": [
    "- Inspection of data is quicker\n",
    "    - What was it that column 18 represented?"
   ]
  },
  {
   "cell_type": "markdown",
   "metadata": {
    "slideshow": {
     "slide_type": "fragment"
    }
   },
   "source": [
    "- Keep track of rows after deletion\n",
    "    - Again.... What was it that column 18 represented!?"
   ]
  },
  {
   "cell_type": "markdown",
   "metadata": {
    "slideshow": {
     "slide_type": "fragment"
    }
   },
   "source": [
    "- Indices may contain fundamentally different data structures \n",
    "    - e.g. time series (more about this later)\n",
    "    - Other datatypes (spatial data $\\rightarrow$ advanced course)"
   ]
  },
  {
   "cell_type": "markdown",
   "metadata": {
    "slideshow": {
     "slide_type": "fragment"
    }
   },
   "source": [
    "- Facilitates complex operation (next session):\n",
    "    - Merging datasets\n",
    "    - Split-apply-combine (operations on subsets of data)\n",
    "    - Method chaining (multiple operations in sequence)"
   ]
  },
  {
   "cell_type": "markdown",
   "metadata": {
    "slideshow": {
     "slide_type": "slide"
    }
   },
   "source": [
    "## Viewing Series and Dataframes\n",
    "*How can we view the contents in our dataset?*\n",
    "- We can use `print` on our dataset\n",
    "- We can visualize patterns by plotting"
   ]
  },
  {
   "cell_type": "markdown",
   "metadata": {
    "slideshow": {
     "slide_type": "slide"
    }
   },
   "source": [
    "## The Head and Tail\n",
    "*But what if we have a large data set with many rows?*"
   ]
  },
  {
   "cell_type": "markdown",
   "metadata": {
    "slideshow": {
     "slide_type": "fragment"
    }
   },
   "source": [
    "Let's load the 'titanic' data set that comes with the *seaborn* library:"
   ]
  },
  {
   "cell_type": "code",
   "execution_count": 19,
   "metadata": {
    "scrolled": false,
    "slideshow": {
     "slide_type": "-"
    }
   },
   "outputs": [],
   "source": [
    "import seaborn as sns\n",
    "titanic = sns.load_dataset('titanic')"
   ]
  },
  {
   "cell_type": "markdown",
   "metadata": {
    "slideshow": {
     "slide_type": "fragment"
    }
   },
   "source": [
    "We now select the *first* 3 rows in a the with the `head` method."
   ]
  },
  {
   "cell_type": "code",
   "execution_count": 20,
   "metadata": {
    "scrolled": true,
    "slideshow": {
     "slide_type": "-"
    }
   },
   "outputs": [
    {
     "data": {
      "text/html": [
       "<div>\n",
       "<style scoped>\n",
       "    .dataframe tbody tr th:only-of-type {\n",
       "        vertical-align: middle;\n",
       "    }\n",
       "\n",
       "    .dataframe tbody tr th {\n",
       "        vertical-align: top;\n",
       "    }\n",
       "\n",
       "    .dataframe thead th {\n",
       "        text-align: right;\n",
       "    }\n",
       "</style>\n",
       "<table border=\"1\" class=\"dataframe\">\n",
       "  <thead>\n",
       "    <tr style=\"text-align: right;\">\n",
       "      <th></th>\n",
       "      <th>survived</th>\n",
       "      <th>pclass</th>\n",
       "      <th>sex</th>\n",
       "      <th>age</th>\n",
       "      <th>sibsp</th>\n",
       "      <th>parch</th>\n",
       "      <th>fare</th>\n",
       "      <th>embarked</th>\n",
       "      <th>class</th>\n",
       "      <th>who</th>\n",
       "      <th>adult_male</th>\n",
       "      <th>deck</th>\n",
       "      <th>embark_town</th>\n",
       "      <th>alive</th>\n",
       "      <th>alone</th>\n",
       "    </tr>\n",
       "  </thead>\n",
       "  <tbody>\n",
       "    <tr>\n",
       "      <th>0</th>\n",
       "      <td>0</td>\n",
       "      <td>3</td>\n",
       "      <td>male</td>\n",
       "      <td>22.0</td>\n",
       "      <td>1</td>\n",
       "      <td>0</td>\n",
       "      <td>7.2500</td>\n",
       "      <td>S</td>\n",
       "      <td>Third</td>\n",
       "      <td>man</td>\n",
       "      <td>True</td>\n",
       "      <td>NaN</td>\n",
       "      <td>Southampton</td>\n",
       "      <td>no</td>\n",
       "      <td>False</td>\n",
       "    </tr>\n",
       "    <tr>\n",
       "      <th>1</th>\n",
       "      <td>1</td>\n",
       "      <td>1</td>\n",
       "      <td>female</td>\n",
       "      <td>38.0</td>\n",
       "      <td>1</td>\n",
       "      <td>0</td>\n",
       "      <td>71.2833</td>\n",
       "      <td>C</td>\n",
       "      <td>First</td>\n",
       "      <td>woman</td>\n",
       "      <td>False</td>\n",
       "      <td>C</td>\n",
       "      <td>Cherbourg</td>\n",
       "      <td>yes</td>\n",
       "      <td>False</td>\n",
       "    </tr>\n",
       "    <tr>\n",
       "      <th>2</th>\n",
       "      <td>1</td>\n",
       "      <td>3</td>\n",
       "      <td>female</td>\n",
       "      <td>26.0</td>\n",
       "      <td>0</td>\n",
       "      <td>0</td>\n",
       "      <td>7.9250</td>\n",
       "      <td>S</td>\n",
       "      <td>Third</td>\n",
       "      <td>woman</td>\n",
       "      <td>False</td>\n",
       "      <td>NaN</td>\n",
       "      <td>Southampton</td>\n",
       "      <td>yes</td>\n",
       "      <td>True</td>\n",
       "    </tr>\n",
       "  </tbody>\n",
       "</table>\n",
       "</div>"
      ],
      "text/plain": [
       "   survived  pclass     sex   age  sibsp  parch     fare embarked  class  \\\n",
       "0         0       3    male  22.0      1      0   7.2500        S  Third   \n",
       "1         1       1  female  38.0      1      0  71.2833        C  First   \n",
       "2         1       3  female  26.0      0      0   7.9250        S  Third   \n",
       "\n",
       "     who  adult_male deck  embark_town alive  alone  \n",
       "0    man        True  NaN  Southampton    no  False  \n",
       "1  woman       False    C    Cherbourg   yes  False  \n",
       "2  woman       False  NaN  Southampton   yes   True  "
      ]
     },
     "execution_count": 20,
     "metadata": {},
     "output_type": "execute_result"
    }
   ],
   "source": [
    "titanic.head(3)"
   ]
  },
  {
   "cell_type": "markdown",
   "metadata": {
    "slideshow": {
     "slide_type": "fragment"
    }
   },
   "source": [
    "The `tail` method selects the last observations in a DataFrame. "
   ]
  },
  {
   "cell_type": "markdown",
   "metadata": {
    "slideshow": {
     "slide_type": "slide"
    }
   },
   "source": [
    "## Row Selection (I/III)\n",
    "*How can we select certain rows in a Series when for given index **keys**?* "
   ]
  },
  {
   "cell_type": "markdown",
   "metadata": {
    "slideshow": {
     "slide_type": "fragment"
    }
   },
   "source": [
    "WIth the `loc` attribute. Example:"
   ]
  },
  {
   "cell_type": "code",
   "execution_count": 21,
   "metadata": {
    "slideshow": {
     "slide_type": "-"
    }
   },
   "outputs": [
    {
     "name": "stdout",
     "output_type": "stream",
     "text": [
      "   survived   age     sex\n",
      "0         0  22.0    male\n",
      "1         1  38.0  female\n",
      "2         1  26.0  female\n"
     ]
    }
   ],
   "source": [
    "print(titanic.loc[range(3),['survived', 'age', 'sex']])"
   ]
  },
  {
   "cell_type": "markdown",
   "metadata": {
    "slideshow": {
     "slide_type": "slide"
    }
   },
   "source": [
    "## Row selection (II/III)\n",
    "*How can we select certain rows in a Series for given index **integers**?* "
   ]
  },
  {
   "cell_type": "markdown",
   "metadata": {
    "slideshow": {
     "slide_type": "fragment"
    }
   },
   "source": [
    "The `iloc` method selects rows for provided index integers. "
   ]
  },
  {
   "cell_type": "code",
   "execution_count": 22,
   "metadata": {
    "slideshow": {
     "slide_type": "-"
    }
   },
   "outputs": [
    {
     "name": "stdout",
     "output_type": "stream",
     "text": [
      "    survived  pclass     sex   age  sibsp\n",
      "10         1       3  female   4.0      1\n",
      "11         1       1  female  58.0      0\n",
      "12         0       3    male  20.0      0\n",
      "13         0       3    male  39.0      1\n",
      "14         0       3  female  14.0      0\n"
     ]
    }
   ],
   "source": [
    "print(titanic.iloc[10:15,:5])"
   ]
  },
  {
   "cell_type": "markdown",
   "metadata": {
    "slideshow": {
     "slide_type": "fragment"
    }
   },
   "source": [
    "Clearly, this is very similar to working with matrices in numpy! "
   ]
  },
  {
   "cell_type": "markdown",
   "metadata": {
    "slideshow": {
     "slide_type": "slide"
    }
   },
   "source": [
    "## Row selection (III/III)\n",
    "*Do our tools for vieving specific rows, i.e. `loc`, `iloc` work for DataFrames?* "
   ]
  },
  {
   "cell_type": "markdown",
   "metadata": {
    "slideshow": {
     "slide_type": "fragment"
    }
   },
   "source": [
    "- Yes, we can use both `loc` and `iloc`. As default they work the same."
   ]
  },
  {
   "cell_type": "code",
   "execution_count": 23,
   "metadata": {
    "slideshow": {
     "slide_type": "-"
    }
   },
   "outputs": [
    {
     "name": "stdout",
     "output_type": "stream",
     "text": [
      "     a  b\n",
      "i    1  2\n",
      "ii   3  4\n",
      "iii  5  6\n",
      "\n",
      "    a  b\n",
      "i   1  2\n",
      "ii  3  4\n",
      "\n",
      "    a  b\n",
      "i   1  2\n",
      "ii  3  4\n"
     ]
    }
   ],
   "source": [
    "my_idx = ['i', 'ii', 'iii']\n",
    "my_cols = ['a','b']\n",
    "\n",
    "my_data = np.arange(1,7) #my_data = [[1, 2], [3, 4], [5, 6]]\n",
    "my_data = my_data.reshape(3,2)\n",
    "\n",
    "my_df = pd.DataFrame(my_data, columns=my_cols, index=my_idx)\n",
    "\n",
    "print(my_df)\n",
    "print()\n",
    "print(my_df.loc[['i','ii']])\n",
    "print()\n",
    "print(my_df.iloc[:2])"
   ]
  },
  {
   "cell_type": "markdown",
   "metadata": {
    "slideshow": {
     "slide_type": "slide"
    }
   },
   "source": [
    "## Columns Selection (I/II)\n",
    "*How are `loc`, `iloc` different for DataFrames?* "
   ]
  },
  {
   "cell_type": "markdown",
   "metadata": {
    "slideshow": {
     "slide_type": "fragment"
    }
   },
   "source": [
    "- For DataFrames, we can also specify columns."
   ]
  },
  {
   "cell_type": "code",
   "execution_count": 24,
   "metadata": {
    "slideshow": {
     "slide_type": "-"
    }
   },
   "outputs": [
    {
     "name": "stdout",
     "output_type": "stream",
     "text": [
      "    a\n",
      "i   1\n",
      "ii  3\n"
     ]
    }
   ],
   "source": [
    "idx_keep = ['i','ii']\n",
    "cols_keep = ['a']\n",
    "print(my_df.loc[idx_keep, cols_keep])"
   ]
  },
  {
   "cell_type": "markdown",
   "metadata": {
    "slideshow": {
     "slide_type": "slide"
    }
   },
   "source": [
    "## Columns Selection (II/II)\n",
    "*How can we generally select columns in a DataFrame?* "
   ]
  },
  {
   "cell_type": "markdown",
   "metadata": {
    "slideshow": {
     "slide_type": "fragment"
    }
   },
   "source": [
    "- Option 1: using the `[]` and providing a list of columns.\n",
    "- Option 2: using `loc` and setting row selection as `:`."
   ]
  },
  {
   "cell_type": "code",
   "execution_count": 25,
   "metadata": {
    "slideshow": {
     "slide_type": "fragment"
    }
   },
   "outputs": [
    {
     "name": "stdout",
     "output_type": "stream",
     "text": [
      "     b\n",
      "i    2\n",
      "ii   4\n",
      "iii  6\n"
     ]
    }
   ],
   "source": [
    "print(my_df.loc[:,['b']])"
   ]
  },
  {
   "cell_type": "markdown",
   "metadata": {
    "slideshow": {
     "slide_type": "slide"
    }
   },
   "source": [
    "## Selection quiz\n",
    "*What does `:` do in `iloc` or `loc`?* "
   ]
  },
  {
   "cell_type": "markdown",
   "metadata": {
    "slideshow": {
     "slide_type": "fragment"
    }
   },
   "source": [
    "Select all rows (columns)."
   ]
  },
  {
   "cell_type": "markdown",
   "metadata": {
    "slideshow": {
     "slide_type": "slide"
    }
   },
   "source": [
    "## Modifying DataFrames\n",
    "*Why do we want to modify DataFrames?*\n",
    "\n",
    "- Because data rarely comes in the form we want it.\n"
   ]
  },
  {
   "cell_type": "markdown",
   "metadata": {
    "slideshow": {
     "slide_type": "slide"
    }
   },
   "source": [
    "## Changing the Index (I/III)\n",
    "*How can we change the index of a DataFrame?*"
   ]
  },
  {
   "cell_type": "markdown",
   "metadata": {
    "slideshow": {
     "slide_type": "fragment"
    }
   },
   "source": [
    "We change or set a DataFrame's index using its method `set_index`. Example:"
   ]
  },
  {
   "cell_type": "code",
   "execution_count": 26,
   "metadata": {
    "scrolled": true,
    "slideshow": {
     "slide_type": "-"
    }
   },
   "outputs": [
    {
     "name": "stdout",
     "output_type": "stream",
     "text": [
      "   b\n",
      "a   \n",
      "1  2\n",
      "3  4\n",
      "5  6\n",
      "\n",
      "     a  b\n",
      "i    1  2\n",
      "ii   3  4\n",
      "iii  5  6\n"
     ]
    }
   ],
   "source": [
    "print(my_df.set_index('a'))\n",
    "print()\n",
    "print(my_df)"
   ]
  },
  {
   "cell_type": "markdown",
   "metadata": {
    "slideshow": {
     "slide_type": "fragment"
    }
   },
   "source": [
    "Clearly, doing so, we also implicitly delete the previous index.\n",
    "\n",
    "Also, notice the level shift in *b* due to this."
   ]
  },
  {
   "cell_type": "markdown",
   "metadata": {
    "slideshow": {
     "slide_type": "slide"
    }
   },
   "source": [
    "## Changing the Index (II/III)\n",
    "*Is our DataFrame changed? I.e. does it have a new index?*"
   ]
  },
  {
   "cell_type": "markdown",
   "metadata": {
    "slideshow": {
     "slide_type": "fragment"
    }
   },
   "source": [
    "No, we must overwrite it or make it into a new object:"
   ]
  },
  {
   "cell_type": "code",
   "execution_count": 27,
   "metadata": {
    "slideshow": {
     "slide_type": "-"
    }
   },
   "outputs": [
    {
     "name": "stdout",
     "output_type": "stream",
     "text": [
      "     a  b\n",
      "i    1  2\n",
      "ii   3  4\n",
      "iii  5  6\n",
      "\n",
      "   b\n",
      "a   \n",
      "1  2\n",
      "3  4\n",
      "5  6\n",
      "\n",
      "4\n"
     ]
    }
   ],
   "source": [
    "print(my_df)\n",
    "my_df_a = my_df.set_index('a')\n",
    "print()\n",
    "print(my_df_a)\n",
    "print()\n",
    "print(my_df_a.iloc[1,0])"
   ]
  },
  {
   "cell_type": "markdown",
   "metadata": {
    "slideshow": {
     "slide_type": "slide"
    }
   },
   "source": [
    "## Changing the index (III/III)\n",
    "\n",
    "Sometimes we wish to remove the index. This is done with the `reset_index` method:"
   ]
  },
  {
   "cell_type": "code",
   "execution_count": 28,
   "metadata": {
    "slideshow": {
     "slide_type": "-"
    }
   },
   "outputs": [
    {
     "name": "stdout",
     "output_type": "stream",
     "text": [
      "   a  b\n",
      "0  1  2\n",
      "1  3  4\n",
      "2  5  6\n",
      "\n",
      "   b\n",
      "0  2\n",
      "1  4\n",
      "2  6\n",
      "\n",
      "     a  b\n",
      "i    1  2\n",
      "ii   3  4\n",
      "iii  5  6\n"
     ]
    }
   ],
   "source": [
    "print(my_df_a.reset_index()) # drop=True\n",
    "print()\n",
    "print(my_df_a.reset_index(drop=True)) # drop=True\n",
    "print()\n",
    "print(my_df)"
   ]
  },
  {
   "cell_type": "markdown",
   "metadata": {
    "slideshow": {
     "slide_type": "-"
    }
   },
   "source": [
    "The old indices cannot be restored (that information was lost), but the interim index is by default made into a new variable.\n",
    "\n",
    "By specifying the keyword `drop`=True we delete this index."
   ]
  },
  {
   "cell_type": "markdown",
   "metadata": {
    "slideshow": {
     "slide_type": "-"
    }
   },
   "source": [
    "*To note:* Indices can have multiple levels, in this case `level` can be specified to delete a specific level."
   ]
  },
  {
   "cell_type": "markdown",
   "metadata": {
    "slideshow": {
     "slide_type": "slide"
    }
   },
   "source": [
    "## Changing the Column Names\n",
    "\n",
    "Column names can simply be changed with `columns`:"
   ]
  },
  {
   "cell_type": "code",
   "execution_count": 29,
   "metadata": {
    "slideshow": {
     "slide_type": "-"
    }
   },
   "outputs": [
    {
     "name": "stdout",
     "output_type": "stream",
     "text": [
      "     a  b\n",
      "i    1  2\n",
      "ii   3  4\n",
      "iii  5  6\n",
      "\n",
      "     A  B\n",
      "i    1  2\n",
      "ii   3  4\n",
      "iii  5  6\n"
     ]
    }
   ],
   "source": [
    "print(my_df)\n",
    "my_df.columns = ['A', 'B']\n",
    "print()\n",
    "print(my_df)"
   ]
  },
  {
   "cell_type": "markdown",
   "metadata": {
    "slideshow": {
     "slide_type": "-"
    }
   },
   "source": [
    "DataFrame's also have the function called `rename`."
   ]
  },
  {
   "cell_type": "code",
   "execution_count": 30,
   "metadata": {
    "slideshow": {
     "slide_type": "-"
    }
   },
   "outputs": [
    {
     "name": "stdout",
     "output_type": "stream",
     "text": [
      "     Aa  B\n",
      "i     1  2\n",
      "ii    3  4\n",
      "iii   5  6\n"
     ]
    }
   ],
   "source": [
    "my_df.rename(columns={'A': 'Aa'}, inplace=True)\n",
    "print(my_df)"
   ]
  },
  {
   "cell_type": "markdown",
   "metadata": {
    "slideshow": {
     "slide_type": "slide"
    }
   },
   "source": [
    "## Changing all Column Values\n",
    "*How can we can update values in a DataFrame?*"
   ]
  },
  {
   "cell_type": "code",
   "execution_count": 31,
   "metadata": {},
   "outputs": [
    {
     "name": "stdout",
     "output_type": "stream",
     "text": [
      "     Aa  B\n",
      "i     1  2\n",
      "ii    3  4\n",
      "iii   5  6\n",
      "\n",
      "     Aa  B\n",
      "i     1  3\n",
      "ii    3  3\n",
      "iii   5  3\n",
      "\n",
      "     Aa   B\n",
      "i     1   2\n",
      "ii    3  17\n",
      "iii   5   0\n"
     ]
    }
   ],
   "source": [
    "print(my_df)\n",
    "\n",
    "# # set uniform value\n",
    "my_df['B'] = 3\n",
    "print()\n",
    "print(my_df)\n",
    "\n",
    "# set different values\n",
    "my_df['B'] = [2,17,0] \n",
    "print()\n",
    "print(my_df)"
   ]
  },
  {
   "cell_type": "markdown",
   "metadata": {
    "slideshow": {
     "slide_type": "slide"
    }
   },
   "source": [
    "## Changing Specific Column Values\n",
    "*How can we can update values in a DataFrame?*"
   ]
  },
  {
   "cell_type": "code",
   "execution_count": 32,
   "metadata": {},
   "outputs": [
    {
     "name": "stdout",
     "output_type": "stream",
     "text": [
      "     Aa   B\n",
      "i     1   2\n",
      "ii    3  17\n",
      "iii   5   0\n",
      "\n",
      "     Aa   B\n",
      "i    10   2\n",
      "ii    3  17\n",
      "iii  10   0\n"
     ]
    }
   ],
   "source": [
    "print(my_df)\n",
    "\n",
    "# loc, iloc\n",
    "my_loc2 = ['i', 'iii']\n",
    "my_df.loc[my_loc2, 'Aa'] = 10\n",
    "\n",
    "print()\n",
    "print(my_df)"
   ]
  },
  {
   "cell_type": "markdown",
   "metadata": {
    "slideshow": {
     "slide_type": "slide"
    }
   },
   "source": [
    "## Sorting Data"
   ]
  },
  {
   "cell_type": "markdown",
   "metadata": {
    "slideshow": {
     "slide_type": "-"
    }
   },
   "source": [
    "A DataFrame can be sorted with `sort_values`; this method takes one or more columns to sort by. "
   ]
  },
  {
   "cell_type": "code",
   "execution_count": 33,
   "metadata": {
    "scrolled": true,
    "slideshow": {
     "slide_type": "-"
    }
   },
   "outputs": [
    {
     "name": "stdout",
     "output_type": "stream",
     "text": [
      "     Aa   B\n",
      "ii    3  17\n",
      "i    10   2\n",
      "iii  10   0\n"
     ]
    }
   ],
   "source": [
    "print(my_df.sort_values(by='Aa', ascending=True))"
   ]
  },
  {
   "cell_type": "markdown",
   "metadata": {
    "slideshow": {
     "slide_type": "fragment"
    }
   },
   "source": [
    "Many key word arguments are possible for sort_values, including ascending if for one or more valuable we want descending values. "
   ]
  },
  {
   "cell_type": "markdown",
   "metadata": {
    "slideshow": {
     "slide_type": "fragment"
    }
   },
   "source": [
    "In addition, sorting by index is also possible with `sort_index`."
   ]
  },
  {
   "cell_type": "code",
   "execution_count": 34,
   "metadata": {
    "scrolled": false,
    "slideshow": {
     "slide_type": "-"
    }
   },
   "outputs": [
    {
     "name": "stdout",
     "output_type": "stream",
     "text": [
      "     Aa   B\n",
      "i    10   2\n",
      "ii    3  17\n",
      "iii  10   0\n"
     ]
    }
   ],
   "source": [
    "print(my_df.sort_index())"
   ]
  },
  {
   "cell_type": "markdown",
   "metadata": {
    "slideshow": {
     "slide_type": "slide"
    }
   },
   "source": [
    "# VIDEO 2: Boolean Data"
   ]
  },
  {
   "cell_type": "markdown",
   "metadata": {
    "slideshow": {
     "slide_type": "slide"
    }
   },
   "source": [
    "## Logical Expression for Series (I/II)\n",
    "*Can we test an expression for all elements?*"
   ]
  },
  {
   "cell_type": "markdown",
   "metadata": {
    "slideshow": {
     "slide_type": "fragment"
    }
   },
   "source": [
    "Yes: **==**, **!=** work for a single object or Series with same indices. Example:"
   ]
  },
  {
   "cell_type": "code",
   "execution_count": 35,
   "metadata": {
    "slideshow": {
     "slide_type": "-"
    }
   },
   "outputs": [
    {
     "name": "stdout",
     "output_type": "stream",
     "text": [
      "yesterday    0\n",
      "today        1\n",
      "tomorrow     3\n",
      "dtype: int64\n",
      "\n",
      "yesterday     True\n",
      "today        False\n",
      "tomorrow     False\n",
      "dtype: bool\n"
     ]
    }
   ],
   "source": [
    "print(my_series3)\n",
    "print()\n",
    "print(my_series3 == 0)"
   ]
  },
  {
   "cell_type": "markdown",
   "metadata": {
    "slideshow": {
     "slide_type": "fragment"
    }
   },
   "source": [
    "What datatype is returned? \n"
   ]
  },
  {
   "cell_type": "markdown",
   "metadata": {
    "slideshow": {
     "slide_type": "slide"
    }
   },
   "source": [
    "## Logical Expression in Series  (II/II)\n",
    "*Can we check if elements in a series equal some element in a container?*"
   ]
  },
  {
   "cell_type": "markdown",
   "metadata": {},
   "source": [
    "Yes, the `isin` method. Example:"
   ]
  },
  {
   "cell_type": "code",
   "execution_count": 36,
   "metadata": {},
   "outputs": [
    {
     "name": "stdout",
     "output_type": "stream",
     "text": [
      "[0, 1]\n",
      "\n",
      "yesterday     True\n",
      "today         True\n",
      "tomorrow     False\n",
      "dtype: bool\n"
     ]
    }
   ],
   "source": [
    "my_rng = list(range(2))\n",
    "\n",
    "print(my_rng)\n",
    "print()\n",
    "print(my_series3.isin(my_rng)) "
   ]
  },
  {
   "cell_type": "markdown",
   "metadata": {
    "slideshow": {
     "slide_type": "slide"
    }
   },
   "source": [
    "## Power of Boolean Series (I/II)\n",
    "*Can we combine boolean Series?*"
   ]
  },
  {
   "cell_type": "markdown",
   "metadata": {
    "slideshow": {
     "slide_type": "fragment"
    }
   },
   "source": [
    "Yes, we can use:\n",
    "- the `&` operator (*and*)\n",
    "- the `|` operator (*or*)"
   ]
  },
  {
   "cell_type": "code",
   "execution_count": 37,
   "metadata": {},
   "outputs": [
    {
     "name": "stdout",
     "output_type": "stream",
     "text": [
      "0    False\n",
      "1     True\n",
      "2    False\n",
      "dtype: bool\n"
     ]
    }
   ],
   "source": [
    "print(((titanic.sex == 'female') & (titanic.age >= 30)).head(3)) # selection by multiple columns"
   ]
  },
  {
   "cell_type": "markdown",
   "metadata": {
    "slideshow": {
     "slide_type": "fragment"
    }
   },
   "source": [
    "What datatype was returned? \n"
   ]
  },
  {
   "cell_type": "markdown",
   "metadata": {
    "slideshow": {
     "slide_type": "slide"
    }
   },
   "source": [
    "## Power of Boolean Series (II/II)\n",
    "*Why do we care for boolean series (and arrays)?*"
   ]
  },
  {
   "cell_type": "markdown",
   "metadata": {
    "slideshow": {
     "slide_type": "fragment"
    }
   },
   "source": [
    "Mainly because we can use them to select rows based on their content."
   ]
  },
  {
   "cell_type": "code",
   "execution_count": 38,
   "metadata": {
    "slideshow": {
     "slide_type": "-"
    }
   },
   "outputs": [
    {
     "name": "stdout",
     "output_type": "stream",
     "text": [
      "yesterday    0\n",
      "today        1\n",
      "tomorrow     3\n",
      "dtype: int64\n",
      "\n",
      "yesterday    0\n",
      "today        1\n",
      "dtype: int64\n"
     ]
    }
   ],
   "source": [
    "print(my_series3)\n",
    "print()\n",
    "print(my_series3[my_series3<3])"
   ]
  },
  {
   "cell_type": "markdown",
   "metadata": {
    "slideshow": {
     "slide_type": "fragment"
    }
   },
   "source": [
    "NOTE: Boolean selection is extremely useful for dataframes!!"
   ]
  },
  {
   "cell_type": "markdown",
   "metadata": {
    "slideshow": {
     "slide_type": "slide"
    }
   },
   "source": [
    "# VIDEO 3: Numeric Operations and Methods"
   ]
  },
  {
   "cell_type": "markdown",
   "metadata": {
    "slideshow": {
     "slide_type": "slide"
    }
   },
   "source": [
    "## Numeric Operations (I/III)\n",
    "*How can we make basic arithmetic operations with arrays, series and dataframes?*"
   ]
  },
  {
   "cell_type": "markdown",
   "metadata": {
    "slideshow": {
     "slide_type": "fragment"
    }
   },
   "source": [
    "It really works just like with Python data, e.g. lists. An example with squaring:"
   ]
  },
  {
   "cell_type": "code",
   "execution_count": 39,
   "metadata": {
    "slideshow": {
     "slide_type": "-"
    }
   },
   "outputs": [
    {
     "name": "stdout",
     "output_type": "stream",
     "text": [
      "0    2\n",
      "1    3\n",
      "2    2\n",
      "3    1\n",
      "4    1\n",
      "dtype: int64\n",
      "0    4\n",
      "1    9\n",
      "2    4\n",
      "3    1\n",
      "4    1\n",
      "dtype: int64\n"
     ]
    }
   ],
   "source": [
    "num_ser1 = pd.Series([2,3,2,1,1])\n",
    "num_ser2 = num_ser1 ** 2\n",
    "\n",
    "print(num_ser1)\n",
    "print(num_ser2)"
   ]
  },
  {
   "cell_type": "markdown",
   "metadata": {
    "slideshow": {
     "slide_type": "slide"
    }
   },
   "source": [
    "## Numeric Operations (II/III)\n",
    "*Are other numeric python operators the same??*"
   ]
  },
  {
   "cell_type": "markdown",
   "metadata": {
    "slideshow": {
     "slide_type": "fragment"
    }
   },
   "source": [
    "Numeric operators work `/`, `//`, `-`, `*`, `**`  as expected.\n",
    "\n",
    "So does comparative (`==`, `!=`, `>`, `<`)"
   ]
  },
  {
   "cell_type": "markdown",
   "metadata": {
    "slideshow": {
     "slide_type": "fragment"
    }
   },
   "source": [
    "*Why is this useful?*"
   ]
  },
  {
   "cell_type": "markdown",
   "metadata": {
    "slideshow": {
     "slide_type": "fragment"
    }
   },
   "source": [
    "- vectorized operations are VERY fast;\n",
    "- requires very little code."
   ]
  },
  {
   "cell_type": "markdown",
   "metadata": {
    "slideshow": {
     "slide_type": "slide"
    }
   },
   "source": [
    "## Numeric  Operations (III/III)\n",
    "*Can we also do this with vectors of data?*"
   ]
  },
  {
   "cell_type": "markdown",
   "metadata": {
    "slideshow": {
     "slide_type": "fragment"
    }
   },
   "source": [
    "Yes, we can also do elementwise addition, multiplication, subtractions etc. of series. Example: "
   ]
  },
  {
   "cell_type": "code",
   "execution_count": 40,
   "metadata": {
    "slideshow": {
     "slide_type": "fragment"
    }
   },
   "outputs": [
    {
     "data": {
      "text/plain": [
       "0     6\n",
       "1    12\n",
       "2     6\n",
       "3     2\n",
       "4     2\n",
       "dtype: int64"
      ]
     },
     "execution_count": 40,
     "metadata": {},
     "output_type": "execute_result"
    }
   ],
   "source": [
    "num_ser1 + num_ser2"
   ]
  },
  {
   "cell_type": "markdown",
   "metadata": {
    "slideshow": {
     "slide_type": "slide"
    }
   },
   "source": [
    "## Numeric methods (I/IV)\n",
    "\n",
    "*OK, these were some quite simple operations with pandas series. Are there other numeric methods?*\n",
    "\n",
    "Yes, pandas series and dataframes have other powerful numeric methods built-in. \n",
    "\n",
    "Consider an example series of 10 million randomly generated observations:"
   ]
  },
  {
   "cell_type": "markdown",
   "metadata": {
    "slideshow": {
     "slide_type": "fragment"
    }
   },
   "source": [
    "Yes, pandas series and dataframes have other powerful numeric methods built-in. Consider an example series of 10 million randomly generated observations:"
   ]
  },
  {
   "cell_type": "code",
   "execution_count": 41,
   "metadata": {
    "slideshow": {
     "slide_type": "fragment"
    }
   },
   "outputs": [
    {
     "data": {
      "text/plain": [
       "0         -0.114982\n",
       "1         -0.142769\n",
       "2         -0.252456\n",
       "3         -0.045497\n",
       "4          0.132941\n",
       "             ...   \n",
       "9999995    0.663020\n",
       "9999996   -0.755392\n",
       "9999997    0.157724\n",
       "9999998    0.611881\n",
       "9999999   -0.778720\n",
       "Length: 10000000, dtype: float64"
      ]
     },
     "execution_count": 41,
     "metadata": {},
     "output_type": "execute_result"
    }
   ],
   "source": [
    "arr_rand = np.random.randn(10**7) # Draw 10^7 observations from standard normal , arr_rand = np.random.normal(size = 10**7)\n",
    "s2 = pd.Series(arr_rand) # Convert to pandas series\n",
    "s2"
   ]
  },
  {
   "cell_type": "markdown",
   "metadata": {
    "slideshow": {
     "slide_type": "fragment"
    }
   },
   "source": [
    "Now, display the median of this distribution:"
   ]
  },
  {
   "cell_type": "code",
   "execution_count": 42,
   "metadata": {},
   "outputs": [
    {
     "data": {
      "text/plain": [
       "0.00016248044579439104"
      ]
     },
     "execution_count": 42,
     "metadata": {},
     "output_type": "execute_result"
    }
   ],
   "source": [
    "s2.median() # Display median"
   ]
  },
  {
   "cell_type": "markdown",
   "metadata": {
    "slideshow": {
     "slide_type": "fragment"
    }
   },
   "source": [
    "Other useful methods include: `mean`, `quantile`, `min`, `max`, `std`, `describe`, `quantile` and many more."
   ]
  },
  {
   "cell_type": "code",
   "execution_count": 43,
   "metadata": {
    "slideshow": {
     "slide_type": "-"
    }
   },
   "outputs": [
    {
     "data": {
      "text/plain": [
       "count    10000000.00\n",
       "mean            0.00\n",
       "std             1.00\n",
       "min            -5.26\n",
       "25%            -0.67\n",
       "50%             0.00\n",
       "75%             0.67\n",
       "max             5.55\n",
       "dtype: float64"
      ]
     },
     "execution_count": 43,
     "metadata": {},
     "output_type": "execute_result"
    }
   ],
   "source": [
    "np.round(s2.describe(),2) # Display other characteristics of distribution (rounded)"
   ]
  },
  {
   "cell_type": "markdown",
   "metadata": {
    "slideshow": {
     "slide_type": "slide"
    }
   },
   "source": [
    "## Numeric methods (II/III)\n",
    "An important method is `value_counts`. This counts number for each observation. "
   ]
  },
  {
   "cell_type": "markdown",
   "metadata": {
    "slideshow": {
     "slide_type": "fragment"
    }
   },
   "source": [
    "Example:"
   ]
  },
  {
   "cell_type": "code",
   "execution_count": 44,
   "metadata": {
    "slideshow": {
     "slide_type": "-"
    }
   },
   "outputs": [],
   "source": [
    "cuts = np.arange(-7, 8, 1) # range from -10 to 10 with intervals of unit size\n",
    "cats = pd.cut(s2, cuts) # cut into categorical data"
   ]
  },
  {
   "cell_type": "code",
   "execution_count": 45,
   "metadata": {
    "slideshow": {
     "slide_type": "-"
    }
   },
   "outputs": [
    {
     "data": {
      "text/plain": [
       "[(-1, 0], (0, 1], (-2, -1], (-3, -2], (1, 2], ..., (-4, -3], (4, 5], (-5, -4], (5, 6], (-6, -5]]\n",
       "Length: 12\n",
       "Categories (12, interval[int64]): [(-6, -5] < (-5, -4] < (-4, -3] < (-3, -2] ... (2, 3] < (3, 4] < (4, 5] < (5, 6]]"
      ]
     },
     "execution_count": 45,
     "metadata": {},
     "output_type": "execute_result"
    }
   ],
   "source": [
    "cats.unique()"
   ]
  },
  {
   "cell_type": "code",
   "execution_count": 46,
   "metadata": {
    "slideshow": {
     "slide_type": "-"
    }
   },
   "outputs": [
    {
     "data": {
      "text/plain": [
       "(0, 1]      3413583\n",
       "(-1, 0]     3413419\n",
       "(1, 2]      1359455\n",
       "(-2, -1]    1358695\n",
       "(2, 3]       214039\n",
       "(-3, -2]     213627\n",
       "(-4, -3]      13274\n",
       "(3, 4]        13256\n",
       "(-5, -4]        330\n",
       "(4, 5]          315\n",
       "(5, 6]            4\n",
       "(-6, -5]          3\n",
       "(6, 7]            0\n",
       "(-7, -6]          0\n",
       "dtype: int64"
      ]
     },
     "execution_count": 46,
     "metadata": {},
     "output_type": "execute_result"
    }
   ],
   "source": [
    "cats.value_counts()"
   ]
  },
  {
   "cell_type": "markdown",
   "metadata": {
    "slideshow": {
     "slide_type": "-"
    }
   },
   "source": [
    "What is observation in the value_counts output - index or data?"
   ]
  },
  {
   "cell_type": "markdown",
   "metadata": {
    "slideshow": {
     "slide_type": "slide"
    }
   },
   "source": [
    "## Numeric methods (III/III)\n",
    "*Are there other powerful numeric methods?*"
   ]
  },
  {
   "cell_type": "markdown",
   "metadata": {
    "slideshow": {
     "slide_type": "fragment"
    }
   },
   "source": [
    "Yes: examples include \n",
    "- `unique`, `nunique`: the unique elements and the count of unique elements\n",
    "- `cut`, `qcut`: partition series into bins \n",
    "- `diff`: difference every two consecutive observations\n",
    "- `cumsum`: cumulative sum\n",
    "- `nlargest`, `nsmallest`: the n largest elements \n",
    "- `idxmin`, `idxmax`: index which is minimal/maximal \n",
    "- `corr`: correlation matrix\n",
    "\n",
    "Check [series documentation](https://pandas.pydata.org/pandas-docs/stable/generated/pandas.Series.html) for more information."
   ]
  },
  {
   "cell_type": "markdown",
   "metadata": {
    "slideshow": {
     "slide_type": "slide"
    }
   },
   "source": [
    "# VIDEO 4: String Operations"
   ]
  },
  {
   "cell_type": "markdown",
   "metadata": {
    "slideshow": {
     "slide_type": "slide"
    }
   },
   "source": [
    "## String Operations (I/III)\n",
    "*Do the numeric python operators also apply to strings?*"
   ]
  },
  {
   "cell_type": "markdown",
   "metadata": {
    "slideshow": {
     "slide_type": "fragment"
    }
   },
   "source": [
    "In some cases yes, and this can be done very elegantly! Consider the following example with a series:"
   ]
  },
  {
   "cell_type": "code",
   "execution_count": 47,
   "metadata": {
    "scrolled": true,
    "slideshow": {
     "slide_type": "fragment"
    }
   },
   "outputs": [
    {
     "data": {
      "text/plain": [
       "0    Andreas\n",
       "1    Joachim\n",
       "2    Nicklas\n",
       "3      Terne\n",
       "dtype: object"
      ]
     },
     "execution_count": 47,
     "metadata": {},
     "output_type": "execute_result"
    }
   ],
   "source": [
    "names_ser1 = pd.Series(['Andreas', 'Joachim', 'Nicklas', 'Terne'])\n",
    "names_ser1"
   ]
  },
  {
   "cell_type": "markdown",
   "metadata": {
    "slideshow": {
     "slide_type": "fragment"
    }
   },
   "source": [
    "Now add another string:"
   ]
  },
  {
   "cell_type": "code",
   "execution_count": 48,
   "metadata": {
    "scrolled": true,
    "slideshow": {
     "slide_type": "fragment"
    }
   },
   "outputs": [
    {
     "data": {
      "text/plain": [
       "0    Andreas works @ SAMF\n",
       "1    Joachim works @ SAMF\n",
       "2    Nicklas works @ SAMF\n",
       "3      Terne works @ SAMF\n",
       "dtype: object"
      ]
     },
     "execution_count": 48,
     "metadata": {},
     "output_type": "execute_result"
    }
   ],
   "source": [
    "names_ser1 + ' works @ SAMF'"
   ]
  },
  {
   "cell_type": "markdown",
   "metadata": {
    "slideshow": {
     "slide_type": "slide"
    }
   },
   "source": [
    "## String Operations (II/III)\n",
    "*Can two vectors of strings also be combined like as with numeric vectors?*"
   ]
  },
  {
   "cell_type": "markdown",
   "metadata": {
    "slideshow": {
     "slide_type": "fragment"
    }
   },
   "source": [
    "Fortunately, yes:"
   ]
  },
  {
   "cell_type": "code",
   "execution_count": 49,
   "metadata": {
    "scrolled": true,
    "slideshow": {
     "slide_type": "fragment"
    }
   },
   "outputs": [
    {
     "data": {
      "text/plain": [
       "0           Andreas teaches ethics\n",
       "1    Joachim teaches python and ML\n",
       "2         Nicklas teaches scraping\n",
       "3       Terne teaches text as data\n",
       "dtype: object"
      ]
     },
     "execution_count": 49,
     "metadata": {},
     "output_type": "execute_result"
    }
   ],
   "source": [
    "names_ser2 = pd.Series(['ethics', 'python and ML', 'scraping', 'text as data'])\n",
    "names_ser1 + ' teaches ' + names_ser2"
   ]
  },
  {
   "cell_type": "markdown",
   "metadata": {
    "slideshow": {
     "slide_type": "slide"
    }
   },
   "source": [
    "## String Operations (III/III)\n",
    "*Any other types of vectorized operations with strings?*"
   ]
  },
  {
   "cell_type": "markdown",
   "metadata": {
    "slideshow": {
     "slide_type": "slide"
    }
   },
   "source": [
    "Many. In particular, there is a large set of string-specific operation (see `.str`-notation below). Some examples (see table 7-5 in PDA for more - we will revisit in session 5):"
   ]
  },
  {
   "cell_type": "code",
   "execution_count": 50,
   "metadata": {
    "scrolled": true,
    "slideshow": {
     "slide_type": "fragment"
    }
   },
   "outputs": [
    {
     "data": {
      "text/plain": [
       "0    ANDREAS\n",
       "1    JOACHIM\n",
       "2    NICKLAS\n",
       "3      TERNE\n",
       "dtype: object"
      ]
     },
     "execution_count": 50,
     "metadata": {},
     "output_type": "execute_result"
    }
   ],
   "source": [
    "names_ser1.str.upper() # works similarly with lower()"
   ]
  },
  {
   "cell_type": "code",
   "execution_count": 51,
   "metadata": {
    "scrolled": true,
    "slideshow": {
     "slide_type": "fragment"
    }
   },
   "outputs": [
    {
     "data": {
      "text/plain": [
       "0     True\n",
       "1    False\n",
       "2     True\n",
       "3    False\n",
       "dtype: bool"
      ]
     },
     "execution_count": 51,
     "metadata": {},
     "output_type": "execute_result"
    }
   ],
   "source": [
    "names_ser1.str.contains('as')"
   ]
  },
  {
   "cell_type": "code",
   "execution_count": 52,
   "metadata": {
    "scrolled": true,
    "slideshow": {
     "slide_type": "fragment"
    }
   },
   "outputs": [
    {
     "data": {
      "text/plain": [
       "0    nd\n",
       "1    oa\n",
       "2    ic\n",
       "3    er\n",
       "dtype: object"
      ]
     },
     "execution_count": 52,
     "metadata": {},
     "output_type": "execute_result"
    }
   ],
   "source": [
    "names_ser1.str[1:3] # We can even do vectorized slicing of strings!"
   ]
  },
  {
   "cell_type": "markdown",
   "metadata": {
    "slideshow": {
     "slide_type": "slide"
    }
   },
   "source": [
    "# VIDEO 5: Categorical Data"
   ]
  },
  {
   "cell_type": "markdown",
   "metadata": {
    "slideshow": {
     "slide_type": "slide"
    }
   },
   "source": [
    "## The Categorical Data Type\n",
    "*Are string (or object) columns attractive to work with?*"
   ]
  },
  {
   "cell_type": "code",
   "execution_count": 53,
   "metadata": {},
   "outputs": [
    {
     "data": {
      "text/plain": [
       "0    Pandas\n",
       "1    series\n",
       "dtype: object"
      ]
     },
     "execution_count": 53,
     "metadata": {},
     "output_type": "execute_result"
    }
   ],
   "source": [
    "pd.Series(['Pandas', 'series'])"
   ]
  },
  {
   "cell_type": "markdown",
   "metadata": {
    "slideshow": {
     "slide_type": "-"
    }
   },
   "source": [
    "Now, sometimes the categorical data type is better:\n",
    "- Use categorical data when many characters are repeated\n",
    "    - Less storage and faster computations\n",
    "- You can put some order (structure) on your string data\n",
    "- It also allows new features:\n",
    "    - Plots have bars, violins etc. sorted according to category order"
   ]
  },
  {
   "cell_type": "markdown",
   "metadata": {
    "slideshow": {
     "slide_type": "slide"
    }
   },
   "source": [
    "## Example of Categorical Data\n",
    "\n",
    "Conversion to categorical data:"
   ]
  },
  {
   "cell_type": "code",
   "execution_count": 54,
   "metadata": {},
   "outputs": [],
   "source": [
    "edu_list = ['BSc Political Science', 'Secondary School'] + ['High School']*2\n",
    "edu_cats = ['Secondary School', 'High School', 'BSc Political Science']\n",
    "\n",
    "str_ser = pd.Series(edu_list*10**5)"
   ]
  },
  {
   "cell_type": "markdown",
   "metadata": {
    "slideshow": {
     "slide_type": "fragment"
    }
   },
   "source": [
    "Option 1: No order"
   ]
  },
  {
   "cell_type": "code",
   "execution_count": 55,
   "metadata": {},
   "outputs": [
    {
     "data": {
      "text/plain": [
       "0    BSc Political Science\n",
       "1         Secondary School\n",
       "2              High School\n",
       "3              High School\n",
       "4    BSc Political Science\n",
       "dtype: category\n",
       "Categories (3, object): ['BSc Political Science', 'High School', 'Secondary School']"
      ]
     },
     "execution_count": 55,
     "metadata": {},
     "output_type": "execute_result"
    }
   ],
   "source": [
    "cat_ser = str_ser.astype('category')\n",
    "cat_ser[:5]"
   ]
  },
  {
   "cell_type": "markdown",
   "metadata": {
    "slideshow": {
     "slide_type": "fragment"
    }
   },
   "source": [
    "Option 2: Order"
   ]
  },
  {
   "cell_type": "code",
   "execution_count": 56,
   "metadata": {},
   "outputs": [
    {
     "data": {
      "text/plain": [
       "0    BSc Political Science\n",
       "1         Secondary School\n",
       "2              High School\n",
       "3              High School\n",
       "4    BSc Political Science\n",
       "dtype: category\n",
       "Categories (3, object): ['Secondary School' < 'High School' < 'BSc Political Science']"
      ]
     },
     "execution_count": 56,
     "metadata": {},
     "output_type": "execute_result"
    }
   ],
   "source": [
    "cats = pd.Categorical(str_ser, categories=edu_cats, ordered=True)\n",
    "cat_ser2 = pd.Series(cats, index=str_ser.index)\n",
    "cat_ser2[:5]"
   ]
  },
  {
   "cell_type": "markdown",
   "metadata": {
    "slideshow": {
     "slide_type": "slide"
    }
   },
   "source": [
    "## Numbers as Categories\n",
    "\n",
    "It is natural to think of measures in categories, e.g. small and large."
   ]
  },
  {
   "cell_type": "markdown",
   "metadata": {
    "slideshow": {
     "slide_type": "fragment"
    }
   },
   "source": [
    "*Can we convert our numerical data to bins in a smart way?*"
   ]
  },
  {
   "cell_type": "markdown",
   "metadata": {
    "slideshow": {
     "slide_type": "fragment"
    }
   },
   "source": [
    "Yes, there are two methods that are useful (and you just applied one of them earlier in this session!):\n",
    "- `cut` which divides data by user specified bins\n",
    "- `qcut` which divides data by user specified quantiles\n",
    "    - E.g. median, $q=0.5$; lower quartile threshold, $q=0.25$; etc."
   ]
  },
  {
   "cell_type": "code",
   "execution_count": 57,
   "metadata": {
    "scrolled": true
   },
   "outputs": [
    {
     "data": {
      "text/plain": [
       "IntervalIndex([(-5.07, -1.964], (-1.964, 1.957], (1.957, 5.01]],\n",
       "              closed='right',\n",
       "              dtype='interval[float64]')"
      ]
     },
     "execution_count": 57,
     "metadata": {},
     "output_type": "execute_result"
    }
   ],
   "source": [
    "x = pd.Series(np.random.normal(size = 10**6))\n",
    "cat_ser3 = pd.qcut(x, q = [0,0.025, 0.975, 1])\n",
    "cat_ser3.cat.categories"
   ]
  },
  {
   "cell_type": "code",
   "execution_count": 58,
   "metadata": {},
   "outputs": [
    {
     "data": {
      "text/plain": [
       "0    1\n",
       "1    1\n",
       "2    1\n",
       "3    1\n",
       "4    1\n",
       "dtype: int8"
      ]
     },
     "execution_count": 58,
     "metadata": {},
     "output_type": "execute_result"
    }
   ],
   "source": [
    "cat_ser3.cat.codes.head(5)"
   ]
  },
  {
   "cell_type": "markdown",
   "metadata": {
    "slideshow": {
     "slide_type": "slide"
    }
   },
   "source": [
    "## Converting to Numeric and Binary\n",
    "\n",
    "For regression, we often want our string / categorical variable as dummy variables:\n",
    "- That is, all categories have their own binary column (0 and 1)\n",
    "    - Note: We may leave one 'reference' category out here (intro statistics)\n",
    "- Rest as numeric"
   ]
  },
  {
   "cell_type": "markdown",
   "metadata": {
    "slideshow": {
     "slide_type": "fragment"
    }
   },
   "source": [
    "*How can we do this?*"
   ]
  },
  {
   "cell_type": "markdown",
   "metadata": {
    "slideshow": {
     "slide_type": "slide"
    }
   },
   "source": [
    "Insert dataframe, `df`, into the function as `pd.get_dummies(df)`"
   ]
  },
  {
   "cell_type": "code",
   "execution_count": 59,
   "metadata": {},
   "outputs": [
    {
     "data": {
      "text/html": [
       "<div>\n",
       "<style scoped>\n",
       "    .dataframe tbody tr th:only-of-type {\n",
       "        vertical-align: middle;\n",
       "    }\n",
       "\n",
       "    .dataframe tbody tr th {\n",
       "        vertical-align: top;\n",
       "    }\n",
       "\n",
       "    .dataframe thead th {\n",
       "        text-align: right;\n",
       "    }\n",
       "</style>\n",
       "<table border=\"1\" class=\"dataframe\">\n",
       "  <thead>\n",
       "    <tr style=\"text-align: right;\">\n",
       "      <th></th>\n",
       "      <th>(-5.07, -1.964]</th>\n",
       "      <th>(-1.964, 1.957]</th>\n",
       "      <th>(1.957, 5.01]</th>\n",
       "    </tr>\n",
       "  </thead>\n",
       "  <tbody>\n",
       "    <tr>\n",
       "      <th>0</th>\n",
       "      <td>0</td>\n",
       "      <td>1</td>\n",
       "      <td>0</td>\n",
       "    </tr>\n",
       "    <tr>\n",
       "      <th>1</th>\n",
       "      <td>0</td>\n",
       "      <td>1</td>\n",
       "      <td>0</td>\n",
       "    </tr>\n",
       "    <tr>\n",
       "      <th>2</th>\n",
       "      <td>0</td>\n",
       "      <td>1</td>\n",
       "      <td>0</td>\n",
       "    </tr>\n",
       "    <tr>\n",
       "      <th>3</th>\n",
       "      <td>0</td>\n",
       "      <td>1</td>\n",
       "      <td>0</td>\n",
       "    </tr>\n",
       "    <tr>\n",
       "      <th>4</th>\n",
       "      <td>0</td>\n",
       "      <td>1</td>\n",
       "      <td>0</td>\n",
       "    </tr>\n",
       "  </tbody>\n",
       "</table>\n",
       "</div>"
      ],
      "text/plain": [
       "   (-5.07, -1.964]  (-1.964, 1.957]  (1.957, 5.01]\n",
       "0                0                1              0\n",
       "1                0                1              0\n",
       "2                0                1              0\n",
       "3                0                1              0\n",
       "4                0                1              0"
      ]
     },
     "execution_count": 59,
     "metadata": {},
     "output_type": "execute_result"
    }
   ],
   "source": [
    "pd.get_dummies(cat_ser3).head(5)"
   ]
  },
  {
   "cell_type": "markdown",
   "metadata": {
    "slideshow": {
     "slide_type": "slide"
    }
   },
   "source": [
    "# VIDEO 6: Time Series Data"
   ]
  },
  {
   "cell_type": "markdown",
   "metadata": {
    "slideshow": {
     "slide_type": "slide"
    }
   },
   "source": [
    "## Temporal Data Type\n",
    "\n",
    "*Why is time so fundamental?*"
   ]
  },
  {
   "cell_type": "markdown",
   "metadata": {
    "slideshow": {
     "slide_type": "slide"
    }
   },
   "source": [
    "Every measurement made by a human was made at some point in time - therefore, it has a \"timestamp\"!"
   ]
  },
  {
   "cell_type": "markdown",
   "metadata": {
    "slideshow": {
     "slide_type": "slide"
    }
   },
   "source": [
    "## Formats for Time\n",
    "\n",
    "*How are time stamps measured?*"
   ]
  },
  {
   "cell_type": "markdown",
   "metadata": {
    "slideshow": {
     "slide_type": "fragment"
    }
   },
   "source": [
    "1. **Datetime** (ISO 8601): Standard calendar\n",
    "    - year, month, day (minute, second, milisecond); timezone\n",
    "    - can come as string in raw data\n",
    "2. **Epoch time**: Seconds since January 1, 1970 - 00:00, GMT (Greenwich time zone)\n",
    "    - nanoseconds in pandas"
   ]
  },
  {
   "cell_type": "markdown",
   "metadata": {
    "slideshow": {
     "slide_type": "slide"
    }
   },
   "source": [
    "## Time Data in Pandas\n",
    "\n",
    "*Does Pandas store it in a smart way?*"
   ]
  },
  {
   "cell_type": "markdown",
   "metadata": {
    "slideshow": {
     "slide_type": "fragment"
    }
   },
   "source": [
    "Pandas and numpy have native support for temporal data combining datetime and epoch time."
   ]
  },
  {
   "cell_type": "code",
   "execution_count": 60,
   "metadata": {},
   "outputs": [
    {
     "data": {
      "text/plain": [
       "0   2017-01-01\n",
       "1   2017-07-27\n",
       "2   2017-08-03\n",
       "3   2017-12-24\n",
       "dtype: datetime64[ns]"
      ]
     },
     "execution_count": 60,
     "metadata": {},
     "output_type": "execute_result"
    }
   ],
   "source": [
    "str_ser2 = pd.Series(['20170101', '20170727', '20170803', '20171224'])\n",
    "dt_ser = pd.to_datetime(str_ser2)\n",
    "dt_ser"
   ]
  },
  {
   "cell_type": "markdown",
   "metadata": {
    "slideshow": {
     "slide_type": "slide"
    }
   },
   "source": [
    "## Example of Passing Temporal Data\n",
    "\n",
    "*How does the input type matter for how time data is passed?*\n",
    "\n",
    "A lot! As we will see, `to_datetime()` may assume either *datetime* or *epoch time* format:"
   ]
  },
  {
   "cell_type": "code",
   "execution_count": 61,
   "metadata": {
    "slideshow": {
     "slide_type": "-"
    }
   },
   "outputs": [
    {
     "data": {
      "text/plain": [
       "0   2017-01-01\n",
       "1   2017-07-27\n",
       "2   2017-08-03\n",
       "3   2017-12-24\n",
       "dtype: datetime64[ns]"
      ]
     },
     "execution_count": 61,
     "metadata": {},
     "output_type": "execute_result"
    }
   ],
   "source": [
    "pd.to_datetime(str_ser2)"
   ]
  },
  {
   "cell_type": "code",
   "execution_count": 62,
   "metadata": {
    "slideshow": {
     "slide_type": "-"
    }
   },
   "outputs": [
    {
     "data": {
      "text/plain": [
       "0   1970-01-01 00:00:00.020170101\n",
       "1   1970-01-01 00:00:00.020170727\n",
       "2   1970-01-01 00:00:00.020170803\n",
       "3   1970-01-01 00:00:00.020171224\n",
       "dtype: datetime64[ns]"
      ]
     },
     "execution_count": 62,
     "metadata": {},
     "output_type": "execute_result"
    }
   ],
   "source": [
    "pd.to_datetime(str_ser2.astype(int))"
   ]
  },
  {
   "cell_type": "markdown",
   "metadata": {
    "slideshow": {
     "slide_type": "slide"
    }
   },
   "source": [
    "## Time Series Data\n",
    "\n",
    "*Why are temporal data powerful?*\n",
    "\n",
    "We can easily make and plot time series. Example of 20 years of Apple stock prices:\n",
    "- Tip: Install in terminal using: *conda install pandas-datareader*"
   ]
  },
  {
   "cell_type": "code",
   "execution_count": 63,
   "metadata": {},
   "outputs": [
    {
     "ename": "RemoteDataError",
     "evalue": "Unable to read URL: https://finance.yahoo.com/quote/AAPL/history?period1=946695600&period2=1625277599&interval=1d&frequency=1d&filter=history\nResponse Text:\nb'<!DOCTYPE html>\\n  <html lang=\"en-us\"><head>\\n  <meta http-equiv=\"content-type\" content=\"text/html; charset=UTF-8\">\\n      <meta charset=\"utf-8\">\\n      <title>Yahoo</title>\\n      <meta name=\"viewport\" content=\"width=device-width,initial-scale=1,minimal-ui\">\\n      <meta http-equiv=\"X-UA-Compatible\" content=\"IE=edge,chrome=1\">\\n      <style>\\n  html {\\n      height: 100%;\\n  }\\n  body {\\n      background: #fafafc url(https://s.yimg.com/nn/img/sad-panda-201402200631.png) 50% 50%;\\n      background-size: cover;\\n      height: 100%;\\n      text-align: center;\\n      font: 300 18px \"helvetica neue\", helvetica, verdana, tahoma, arial, sans-serif;\\n  }\\n  table {\\n      height: 100%;\\n      width: 100%;\\n      table-layout: fixed;\\n      border-collapse: collapse;\\n      border-spacing: 0;\\n      border: none;\\n  }\\n  h1 {\\n      font-size: 42px;\\n      font-weight: 400;\\n      color: #400090;\\n  }\\n  p {\\n      color: #1A1A1A;\\n  }\\n  #message-1 {\\n      font-weight: bold;\\n      margin: 0;\\n  }\\n  #message-2 {\\n      display: inline-block;\\n      *display: inline;\\n      zoom: 1;\\n      max-width: 17em;\\n      _width: 17em;\\n  }\\n      </style>\\n  <script>\\n    document.write(\\'<img src=\"//geo.yahoo.com/b?s=1197757129&t=\\'+new Date().getTime()+\\'&src=aws&err_url=\\'+encodeURIComponent(document.URL)+\\'&err=%<pssc>&test=\\'+encodeURIComponent(\\'%<{Bucket}cqh[:200]>\\')+\\'\" width=\"0px\" height=\"0px\"/>\\');var beacon = new Image();beacon.src=\"//bcn.fp.yahoo.com/p?s=1197757129&t=\"+new Date().getTime()+\"&src=aws&err_url=\"+encodeURIComponent(document.URL)+\"&err=%<pssc>&test=\"+encodeURIComponent(\\'%<{Bucket}cqh[:200]>\\');\\n  </script>\\n  </head>\\n  <body>\\n  <!-- status code : 404 -->\\n  <!-- Not Found on Server -->\\n  <table>\\n  <tbody><tr>\\n      <td>\\n      <img src=\"https://s.yimg.com/rz/p/yahoo_frontpage_en-US_s_f_p_205x58_frontpage.png\" alt=\"Yahoo Logo\">\\n      <h1 style=\"margin-top:20px;\">Will be right back...</h1>\\n      <p id=\"message-1\">Thank you for your patience.</p>\\n      <p id=\"message-2\">Our engineers are working quickly to resolve the issue.</p>\\n      </td>\\n  </tr>\\n  </tbody></table>\\n  </body></html>'",
     "output_type": "error",
     "traceback": [
      "\u001b[1;31m---------------------------------------------------------------------------\u001b[0m",
      "\u001b[1;31mRemoteDataError\u001b[0m                           Traceback (most recent call last)",
      "\u001b[1;32m<ipython-input-63-b316d924c656>\u001b[0m in \u001b[0;36m<module>\u001b[1;34m\u001b[0m\n\u001b[0;32m      1\u001b[0m \u001b[1;32mfrom\u001b[0m \u001b[0mpandas_datareader\u001b[0m \u001b[1;32mimport\u001b[0m \u001b[0mdata\u001b[0m\u001b[1;33m\u001b[0m\u001b[1;33m\u001b[0m\u001b[0m\n\u001b[1;32m----> 2\u001b[1;33m \u001b[0maapl\u001b[0m \u001b[1;33m=\u001b[0m \u001b[0mdata\u001b[0m\u001b[1;33m.\u001b[0m\u001b[0mDataReader\u001b[0m\u001b[1;33m(\u001b[0m\u001b[1;34m'AAPL'\u001b[0m\u001b[1;33m,\u001b[0m \u001b[0mdata_source\u001b[0m\u001b[1;33m=\u001b[0m\u001b[1;34m'yahoo'\u001b[0m\u001b[1;33m,\u001b[0m \u001b[0mstart\u001b[0m\u001b[1;33m=\u001b[0m\u001b[1;34m'2000'\u001b[0m\u001b[1;33m)\u001b[0m\u001b[1;33m[\u001b[0m\u001b[1;34m'Adj Close'\u001b[0m\u001b[1;33m]\u001b[0m\u001b[1;33m\u001b[0m\u001b[1;33m\u001b[0m\u001b[0m\n\u001b[0m\u001b[0;32m      3\u001b[0m \u001b[0maapl\u001b[0m\u001b[1;33m.\u001b[0m\u001b[0mplot\u001b[0m\u001b[1;33m(\u001b[0m\u001b[0mfigsize\u001b[0m \u001b[1;33m=\u001b[0m \u001b[1;33m(\u001b[0m\u001b[1;36m12\u001b[0m\u001b[1;33m,\u001b[0m\u001b[1;36m4\u001b[0m\u001b[1;33m)\u001b[0m\u001b[1;33m,\u001b[0m \u001b[0mlogy\u001b[0m \u001b[1;33m=\u001b[0m \u001b[1;32mTrue\u001b[0m\u001b[1;33m)\u001b[0m\u001b[1;33m\u001b[0m\u001b[1;33m\u001b[0m\u001b[0m\n",
      "\u001b[1;32m~\\Anaconda3\\lib\\site-packages\\pandas\\util\\_decorators.py\u001b[0m in \u001b[0;36mwrapper\u001b[1;34m(*args, **kwargs)\u001b[0m\n\u001b[0;32m    197\u001b[0m                 \u001b[1;32melse\u001b[0m\u001b[1;33m:\u001b[0m\u001b[1;33m\u001b[0m\u001b[1;33m\u001b[0m\u001b[0m\n\u001b[0;32m    198\u001b[0m                     \u001b[0mkwargs\u001b[0m\u001b[1;33m[\u001b[0m\u001b[0mnew_arg_name\u001b[0m\u001b[1;33m]\u001b[0m \u001b[1;33m=\u001b[0m \u001b[0mnew_arg_value\u001b[0m\u001b[1;33m\u001b[0m\u001b[1;33m\u001b[0m\u001b[0m\n\u001b[1;32m--> 199\u001b[1;33m             \u001b[1;32mreturn\u001b[0m \u001b[0mfunc\u001b[0m\u001b[1;33m(\u001b[0m\u001b[1;33m*\u001b[0m\u001b[0margs\u001b[0m\u001b[1;33m,\u001b[0m \u001b[1;33m**\u001b[0m\u001b[0mkwargs\u001b[0m\u001b[1;33m)\u001b[0m\u001b[1;33m\u001b[0m\u001b[1;33m\u001b[0m\u001b[0m\n\u001b[0m\u001b[0;32m    200\u001b[0m \u001b[1;33m\u001b[0m\u001b[0m\n\u001b[0;32m    201\u001b[0m         \u001b[1;32mreturn\u001b[0m \u001b[0mcast\u001b[0m\u001b[1;33m(\u001b[0m\u001b[0mF\u001b[0m\u001b[1;33m,\u001b[0m \u001b[0mwrapper\u001b[0m\u001b[1;33m)\u001b[0m\u001b[1;33m\u001b[0m\u001b[1;33m\u001b[0m\u001b[0m\n",
      "\u001b[1;32m~\\Anaconda3\\lib\\site-packages\\pandas_datareader\\data.py\u001b[0m in \u001b[0;36mDataReader\u001b[1;34m(name, data_source, start, end, retry_count, pause, session, api_key)\u001b[0m\n\u001b[0;32m    374\u001b[0m \u001b[1;33m\u001b[0m\u001b[0m\n\u001b[0;32m    375\u001b[0m     \u001b[1;32mif\u001b[0m \u001b[0mdata_source\u001b[0m \u001b[1;33m==\u001b[0m \u001b[1;34m\"yahoo\"\u001b[0m\u001b[1;33m:\u001b[0m\u001b[1;33m\u001b[0m\u001b[1;33m\u001b[0m\u001b[0m\n\u001b[1;32m--> 376\u001b[1;33m         return YahooDailyReader(\n\u001b[0m\u001b[0;32m    377\u001b[0m             \u001b[0msymbols\u001b[0m\u001b[1;33m=\u001b[0m\u001b[0mname\u001b[0m\u001b[1;33m,\u001b[0m\u001b[1;33m\u001b[0m\u001b[1;33m\u001b[0m\u001b[0m\n\u001b[0;32m    378\u001b[0m             \u001b[0mstart\u001b[0m\u001b[1;33m=\u001b[0m\u001b[0mstart\u001b[0m\u001b[1;33m,\u001b[0m\u001b[1;33m\u001b[0m\u001b[1;33m\u001b[0m\u001b[0m\n",
      "\u001b[1;32m~\\Anaconda3\\lib\\site-packages\\pandas_datareader\\base.py\u001b[0m in \u001b[0;36mread\u001b[1;34m(self)\u001b[0m\n\u001b[0;32m    251\u001b[0m         \u001b[1;31m# If a single symbol, (e.g., 'GOOG')\u001b[0m\u001b[1;33m\u001b[0m\u001b[1;33m\u001b[0m\u001b[1;33m\u001b[0m\u001b[0m\n\u001b[0;32m    252\u001b[0m         \u001b[1;32mif\u001b[0m \u001b[0misinstance\u001b[0m\u001b[1;33m(\u001b[0m\u001b[0mself\u001b[0m\u001b[1;33m.\u001b[0m\u001b[0msymbols\u001b[0m\u001b[1;33m,\u001b[0m \u001b[1;33m(\u001b[0m\u001b[0mstring_types\u001b[0m\u001b[1;33m,\u001b[0m \u001b[0mint\u001b[0m\u001b[1;33m)\u001b[0m\u001b[1;33m)\u001b[0m\u001b[1;33m:\u001b[0m\u001b[1;33m\u001b[0m\u001b[1;33m\u001b[0m\u001b[0m\n\u001b[1;32m--> 253\u001b[1;33m             \u001b[0mdf\u001b[0m \u001b[1;33m=\u001b[0m \u001b[0mself\u001b[0m\u001b[1;33m.\u001b[0m\u001b[0m_read_one_data\u001b[0m\u001b[1;33m(\u001b[0m\u001b[0mself\u001b[0m\u001b[1;33m.\u001b[0m\u001b[0murl\u001b[0m\u001b[1;33m,\u001b[0m \u001b[0mparams\u001b[0m\u001b[1;33m=\u001b[0m\u001b[0mself\u001b[0m\u001b[1;33m.\u001b[0m\u001b[0m_get_params\u001b[0m\u001b[1;33m(\u001b[0m\u001b[0mself\u001b[0m\u001b[1;33m.\u001b[0m\u001b[0msymbols\u001b[0m\u001b[1;33m)\u001b[0m\u001b[1;33m)\u001b[0m\u001b[1;33m\u001b[0m\u001b[1;33m\u001b[0m\u001b[0m\n\u001b[0m\u001b[0;32m    254\u001b[0m         \u001b[1;31m# Or multiple symbols, (e.g., ['GOOG', 'AAPL', 'MSFT'])\u001b[0m\u001b[1;33m\u001b[0m\u001b[1;33m\u001b[0m\u001b[1;33m\u001b[0m\u001b[0m\n\u001b[0;32m    255\u001b[0m         \u001b[1;32melif\u001b[0m \u001b[0misinstance\u001b[0m\u001b[1;33m(\u001b[0m\u001b[0mself\u001b[0m\u001b[1;33m.\u001b[0m\u001b[0msymbols\u001b[0m\u001b[1;33m,\u001b[0m \u001b[0mDataFrame\u001b[0m\u001b[1;33m)\u001b[0m\u001b[1;33m:\u001b[0m\u001b[1;33m\u001b[0m\u001b[1;33m\u001b[0m\u001b[0m\n",
      "\u001b[1;32m~\\Anaconda3\\lib\\site-packages\\pandas_datareader\\yahoo\\daily.py\u001b[0m in \u001b[0;36m_read_one_data\u001b[1;34m(self, url, params)\u001b[0m\n\u001b[0;32m    151\u001b[0m         \u001b[0murl\u001b[0m \u001b[1;33m=\u001b[0m \u001b[0murl\u001b[0m\u001b[1;33m.\u001b[0m\u001b[0mformat\u001b[0m\u001b[1;33m(\u001b[0m\u001b[0msymbol\u001b[0m\u001b[1;33m)\u001b[0m\u001b[1;33m\u001b[0m\u001b[1;33m\u001b[0m\u001b[0m\n\u001b[0;32m    152\u001b[0m \u001b[1;33m\u001b[0m\u001b[0m\n\u001b[1;32m--> 153\u001b[1;33m         \u001b[0mresp\u001b[0m \u001b[1;33m=\u001b[0m \u001b[0mself\u001b[0m\u001b[1;33m.\u001b[0m\u001b[0m_get_response\u001b[0m\u001b[1;33m(\u001b[0m\u001b[0murl\u001b[0m\u001b[1;33m,\u001b[0m \u001b[0mparams\u001b[0m\u001b[1;33m=\u001b[0m\u001b[0mparams\u001b[0m\u001b[1;33m)\u001b[0m\u001b[1;33m\u001b[0m\u001b[1;33m\u001b[0m\u001b[0m\n\u001b[0m\u001b[0;32m    154\u001b[0m         \u001b[0mptrn\u001b[0m \u001b[1;33m=\u001b[0m \u001b[1;34mr\"root\\.App\\.main = (.*?);\\n}\\(this\\)\\);\"\u001b[0m\u001b[1;33m\u001b[0m\u001b[1;33m\u001b[0m\u001b[0m\n\u001b[0;32m    155\u001b[0m         \u001b[1;32mtry\u001b[0m\u001b[1;33m:\u001b[0m\u001b[1;33m\u001b[0m\u001b[1;33m\u001b[0m\u001b[0m\n",
      "\u001b[1;32m~\\Anaconda3\\lib\\site-packages\\pandas_datareader\\base.py\u001b[0m in \u001b[0;36m_get_response\u001b[1;34m(self, url, params, headers)\u001b[0m\n\u001b[0;32m    179\u001b[0m             \u001b[0mmsg\u001b[0m \u001b[1;33m+=\u001b[0m \u001b[1;34m\"\\nResponse Text:\\n{0}\"\u001b[0m\u001b[1;33m.\u001b[0m\u001b[0mformat\u001b[0m\u001b[1;33m(\u001b[0m\u001b[0mlast_response_text\u001b[0m\u001b[1;33m)\u001b[0m\u001b[1;33m\u001b[0m\u001b[1;33m\u001b[0m\u001b[0m\n\u001b[0;32m    180\u001b[0m \u001b[1;33m\u001b[0m\u001b[0m\n\u001b[1;32m--> 181\u001b[1;33m         \u001b[1;32mraise\u001b[0m \u001b[0mRemoteDataError\u001b[0m\u001b[1;33m(\u001b[0m\u001b[0mmsg\u001b[0m\u001b[1;33m)\u001b[0m\u001b[1;33m\u001b[0m\u001b[1;33m\u001b[0m\u001b[0m\n\u001b[0m\u001b[0;32m    182\u001b[0m \u001b[1;33m\u001b[0m\u001b[0m\n\u001b[0;32m    183\u001b[0m     \u001b[1;32mdef\u001b[0m \u001b[0m_get_crumb\u001b[0m\u001b[1;33m(\u001b[0m\u001b[0mself\u001b[0m\u001b[1;33m,\u001b[0m \u001b[1;33m*\u001b[0m\u001b[0margs\u001b[0m\u001b[1;33m)\u001b[0m\u001b[1;33m:\u001b[0m\u001b[1;33m\u001b[0m\u001b[1;33m\u001b[0m\u001b[0m\n",
      "\u001b[1;31mRemoteDataError\u001b[0m: Unable to read URL: https://finance.yahoo.com/quote/AAPL/history?period1=946695600&period2=1625277599&interval=1d&frequency=1d&filter=history\nResponse Text:\nb'<!DOCTYPE html>\\n  <html lang=\"en-us\"><head>\\n  <meta http-equiv=\"content-type\" content=\"text/html; charset=UTF-8\">\\n      <meta charset=\"utf-8\">\\n      <title>Yahoo</title>\\n      <meta name=\"viewport\" content=\"width=device-width,initial-scale=1,minimal-ui\">\\n      <meta http-equiv=\"X-UA-Compatible\" content=\"IE=edge,chrome=1\">\\n      <style>\\n  html {\\n      height: 100%;\\n  }\\n  body {\\n      background: #fafafc url(https://s.yimg.com/nn/img/sad-panda-201402200631.png) 50% 50%;\\n      background-size: cover;\\n      height: 100%;\\n      text-align: center;\\n      font: 300 18px \"helvetica neue\", helvetica, verdana, tahoma, arial, sans-serif;\\n  }\\n  table {\\n      height: 100%;\\n      width: 100%;\\n      table-layout: fixed;\\n      border-collapse: collapse;\\n      border-spacing: 0;\\n      border: none;\\n  }\\n  h1 {\\n      font-size: 42px;\\n      font-weight: 400;\\n      color: #400090;\\n  }\\n  p {\\n      color: #1A1A1A;\\n  }\\n  #message-1 {\\n      font-weight: bold;\\n      margin: 0;\\n  }\\n  #message-2 {\\n      display: inline-block;\\n      *display: inline;\\n      zoom: 1;\\n      max-width: 17em;\\n      _width: 17em;\\n  }\\n      </style>\\n  <script>\\n    document.write(\\'<img src=\"//geo.yahoo.com/b?s=1197757129&t=\\'+new Date().getTime()+\\'&src=aws&err_url=\\'+encodeURIComponent(document.URL)+\\'&err=%<pssc>&test=\\'+encodeURIComponent(\\'%<{Bucket}cqh[:200]>\\')+\\'\" width=\"0px\" height=\"0px\"/>\\');var beacon = new Image();beacon.src=\"//bcn.fp.yahoo.com/p?s=1197757129&t=\"+new Date().getTime()+\"&src=aws&err_url=\"+encodeURIComponent(document.URL)+\"&err=%<pssc>&test=\"+encodeURIComponent(\\'%<{Bucket}cqh[:200]>\\');\\n  </script>\\n  </head>\\n  <body>\\n  <!-- status code : 404 -->\\n  <!-- Not Found on Server -->\\n  <table>\\n  <tbody><tr>\\n      <td>\\n      <img src=\"https://s.yimg.com/rz/p/yahoo_frontpage_en-US_s_f_p_205x58_frontpage.png\" alt=\"Yahoo Logo\">\\n      <h1 style=\"margin-top:20px;\">Will be right back...</h1>\\n      <p id=\"message-1\">Thank you for your patience.</p>\\n      <p id=\"message-2\">Our engineers are working quickly to resolve the issue.</p>\\n      </td>\\n  </tr>\\n  </tbody></table>\\n  </body></html>'"
     ]
    }
   ],
   "source": [
    "from pandas_datareader import data\n",
    "aapl = data.DataReader('AAPL', data_source='yahoo', start='2000')['Adj Close']\n",
    "aapl.plot(figsize = (12,4), logy = True)"
   ]
  },
  {
   "cell_type": "markdown",
   "metadata": {
    "slideshow": {
     "slide_type": "slide"
    }
   },
   "source": [
    "## Time Series Components\n",
    "\n",
    "*What is within the `appl` series? What is a time series*"
   ]
  },
  {
   "cell_type": "code",
   "execution_count": 64,
   "metadata": {},
   "outputs": [
    {
     "ename": "NameError",
     "evalue": "name 'aapl' is not defined",
     "output_type": "error",
     "traceback": [
      "\u001b[1;31m---------------------------------------------------------------------------\u001b[0m",
      "\u001b[1;31mNameError\u001b[0m                                 Traceback (most recent call last)",
      "\u001b[1;32m<ipython-input-64-cfaba5554115>\u001b[0m in \u001b[0;36m<module>\u001b[1;34m\u001b[0m\n\u001b[1;32m----> 1\u001b[1;33m \u001b[0maapl\u001b[0m\u001b[1;33m.\u001b[0m\u001b[0mhead\u001b[0m\u001b[1;33m(\u001b[0m\u001b[1;36m5\u001b[0m\u001b[1;33m)\u001b[0m\u001b[1;33m\u001b[0m\u001b[1;33m\u001b[0m\u001b[0m\n\u001b[0m",
      "\u001b[1;31mNameError\u001b[0m: name 'aapl' is not defined"
     ]
    }
   ],
   "source": [
    "aapl.head(5)"
   ]
  },
  {
   "cell_type": "code",
   "execution_count": 65,
   "metadata": {},
   "outputs": [
    {
     "ename": "NameError",
     "evalue": "name 'aapl' is not defined",
     "output_type": "error",
     "traceback": [
      "\u001b[1;31m---------------------------------------------------------------------------\u001b[0m",
      "\u001b[1;31mNameError\u001b[0m                                 Traceback (most recent call last)",
      "\u001b[1;32m<ipython-input-65-9a57eaa5b068>\u001b[0m in \u001b[0;36m<module>\u001b[1;34m\u001b[0m\n\u001b[1;32m----> 1\u001b[1;33m \u001b[0maapl\u001b[0m\u001b[1;33m.\u001b[0m\u001b[0mhead\u001b[0m\u001b[1;33m(\u001b[0m\u001b[1;36m5\u001b[0m\u001b[1;33m)\u001b[0m\u001b[1;33m.\u001b[0m\u001b[0mindex\u001b[0m\u001b[1;33m\u001b[0m\u001b[1;33m\u001b[0m\u001b[0m\n\u001b[0m",
      "\u001b[1;31mNameError\u001b[0m: name 'aapl' is not defined"
     ]
    }
   ],
   "source": [
    "aapl.head(5).index"
   ]
  },
  {
   "cell_type": "markdown",
   "metadata": {
    "slideshow": {
     "slide_type": "fragment"
    }
   },
   "source": [
    "So in essence, time series in pandas are often just series of data with a time index."
   ]
  },
  {
   "cell_type": "markdown",
   "metadata": {
    "slideshow": {
     "slide_type": "slide"
    }
   },
   "source": [
    "## Pandas and Time Series\n",
    "\n",
    "*Why is pandas good at handling and processing time series data?*\n",
    "\n",
    "It has specific tools for resampling and interpolating data:\n",
    "- See 11.3, 11.5 and 11.6 in PDA textbook\n",
    "\n",
    "It handles irregular data well:\n",
    "- missing values\n",
    "- duplicate entries (`fillna(method='ffill')` or `data.fillna(data.mean())`)\n",
    "\n"
   ]
  },
  {
   "cell_type": "markdown",
   "metadata": {
    "slideshow": {
     "slide_type": "slide"
    }
   },
   "source": [
    "## Datetime in Pandas\n",
    "\n",
    "*What other uses might time data have?*\n",
    "\n",
    "We can extract data from datetime columns. These columns have the `dt` and its sub-methods. Example:"
   ]
  },
  {
   "cell_type": "code",
   "execution_count": 66,
   "metadata": {},
   "outputs": [
    {
     "ename": "NameError",
     "evalue": "name 'aapl' is not defined",
     "output_type": "error",
     "traceback": [
      "\u001b[1;31m---------------------------------------------------------------------------\u001b[0m",
      "\u001b[1;31mNameError\u001b[0m                                 Traceback (most recent call last)",
      "\u001b[1;32m<ipython-input-66-6fb43f7f0e22>\u001b[0m in \u001b[0;36m<module>\u001b[1;34m\u001b[0m\n\u001b[1;32m----> 1\u001b[1;33m \u001b[0mdt_ser2\u001b[0m \u001b[1;33m=\u001b[0m \u001b[0mpd\u001b[0m\u001b[1;33m.\u001b[0m\u001b[0mSeries\u001b[0m\u001b[1;33m(\u001b[0m\u001b[0maapl\u001b[0m\u001b[1;33m.\u001b[0m\u001b[0mindex\u001b[0m\u001b[1;33m)\u001b[0m\u001b[1;33m\u001b[0m\u001b[1;33m\u001b[0m\u001b[0m\n\u001b[0m\u001b[0;32m      2\u001b[0m \u001b[0mdt_ser2\u001b[0m\u001b[1;33m.\u001b[0m\u001b[0mdt\u001b[0m\u001b[1;33m.\u001b[0m\u001b[0mmonth\u001b[0m \u001b[1;31m#also year, weekday, hour, second\u001b[0m\u001b[1;33m\u001b[0m\u001b[1;33m\u001b[0m\u001b[0m\n",
      "\u001b[1;31mNameError\u001b[0m: name 'aapl' is not defined"
     ]
    }
   ],
   "source": [
    "dt_ser2 = pd.Series(aapl.index)\n",
    "dt_ser2.dt.month #also year, weekday, hour, second"
   ]
  },
  {
   "cell_type": "markdown",
   "metadata": {
    "slideshow": {
     "slide_type": "fragment"
    }
   },
   "source": [
    "Many other useful features (e.g. aggregation over time into means, medians, etc.)"
   ]
  },
  {
   "cell_type": "markdown",
   "metadata": {
    "slideshow": {
     "slide_type": "slide"
    }
   },
   "source": [
    "## Datetime in Pandas\n",
    "\n",
    "*What other uses might time data have?*\n",
    "\n",
    "We can extract data from datetime columns. These columns have the `dt` and its sub-methods. Example:"
   ]
  },
  {
   "cell_type": "markdown",
   "metadata": {
    "slideshow": {
     "slide_type": "slide"
    }
   },
   "source": [
    "## Videos + Exercises\n",
    "\n",
    "In the exercises, you are going to (i) learn more about data structuring in Pandas and (ii) work with Pandas yourself."
   ]
  }
 ],
 "metadata": {
  "celltoolbar": "Slideshow",
  "kernelspec": {
   "display_name": "Python 3",
   "language": "python",
   "name": "python3"
  },
  "language_info": {
   "codemirror_mode": {
    "name": "ipython",
    "version": 3
   },
   "file_extension": ".py",
   "mimetype": "text/x-python",
   "name": "python",
   "nbconvert_exporter": "python",
   "pygments_lexer": "ipython3",
   "version": "3.8.5"
  }
 },
 "nbformat": 4,
 "nbformat_minor": 4
}
