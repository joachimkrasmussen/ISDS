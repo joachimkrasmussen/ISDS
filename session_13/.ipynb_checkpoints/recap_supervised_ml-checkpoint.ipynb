{
 "cells": [
  {
   "cell_type": "markdown",
   "metadata": {
    "slideshow": {
     "slide_type": "slide"
    }
   },
   "source": [
    "# Supervised machine learning\n",
    "## A recap and overview"
   ]
  },
  {
   "cell_type": "markdown",
   "metadata": {
    "slideshow": {
     "slide_type": "slide"
    }
   },
   "source": [
    "# Agenda\n",
    "- Whether or not to use machine learning\n",
    "- How machine learning\n",
    "    - Determine model framework \n",
    "    - Implementation details"
   ]
  },
  {
   "cell_type": "markdown",
   "metadata": {
    "slideshow": {
     "slide_type": "slide"
    }
   },
   "source": [
    "# Whether to use ML"
   ]
  },
  {
   "cell_type": "markdown",
   "metadata": {
    "slideshow": {
     "slide_type": "slide"
    }
   },
   "source": [
    "## When to use a model\n",
    "*When should I model data?*\n",
    "\n",
    "Look at your research question. You should use a model when:\n",
    "\n",
    "1. you try to explain or predict a certain variable, and;\n",
    "\n",
    "2. a conclusion can be made without a model.\n",
    "      "
   ]
  },
  {
   "cell_type": "markdown",
   "metadata": {
    "slideshow": {
     "slide_type": "fragment"
    }
   },
   "source": [
    "Great analyses can come without models: inequality graph in 20th century by Piketty, Saez\n",
    "      \n",
    "<center><img src='https://upload.wikimedia.org/wikipedia/commons/thumb/d/d7/2008_Top1percentUSA.png/450px-2008_Top1percentUSA.png' alt=\"Drawing\" style=\"width: 500px;\"/></center>\n",
    "\n",
    "  "
   ]
  },
  {
   "cell_type": "markdown",
   "metadata": {
    "slideshow": {
     "slide_type": "slide"
    }
   },
   "source": [
    "## When to use machine learning\n",
    "*Machine learning is powerful, when should I use it?*\n",
    "\n",
    "What is the goal?.\n",
    "\n",
    "\n",
    "- To make a formal test about model parameters.\n",
    "    - Use econometrics/OLS.\n",
    "- You want  a model with good performance.\n",
    "    - Use machine learning.    \n",
    "    - But can I still investigate partial effects of a variable? We can visualize it:      \n",
    "        - individual conditional expectation (ICE).\n",
    "        - partial dependence plots (PDP).\n"
   ]
  },
  {
   "cell_type": "markdown",
   "metadata": {
    "slideshow": {
     "slide_type": "slide"
    }
   },
   "source": [
    "## What to use machine learning for\n",
    "*What analysis can you do with machine learning?*\n",
    "\n",
    "Ask questions like:\n",
    "\n",
    "- Which model performance is best (with, without reguralarization)?\n",
    "    - Which level of regularization?\n",
    "- Does this new group of features help us predict our target?\n",
    "- Is your model biased/fair? \n",
    "    - E.g. you have explicitly included information about minority groups but you can see that minority groups on average are treated differently."
   ]
  },
  {
   "cell_type": "markdown",
   "metadata": {
    "slideshow": {
     "slide_type": "slide"
    }
   },
   "source": [
    "# Determine model framework"
   ]
  },
  {
   "cell_type": "markdown",
   "metadata": {
    "slideshow": {
     "slide_type": "slide"
    }
   },
   "source": [
    "## Step A: What problem\n",
    "\n",
    "What kind of problem am I working on? My target is,\n",
    "- Continuous:\n",
    "  - We want to use a regression model\n",
    "  - We aim for a model with the least mean squared error (MSE).\n",
    "- Categorical / finite integers:\n",
    "  - We want to use a classification model\n",
    "  - We aim for a model with highest accuracy (ACC).\n"
   ]
  },
  {
   "cell_type": "markdown",
   "metadata": {
    "slideshow": {
     "slide_type": "slide"
    }
   },
   "source": [
    "## Step B: Which model\n",
    "Depending on the problem we pick a specific model. If regression, pick:\n",
    "- A linear model (least squares, lasso, ridge)\n",
    "\n",
    "If classification use:\n",
    "- Logistic regression (w/ or w/o regularization)\n",
    "\n",
    "Note: You are welcome to try out other more complicated models. Note:\n",
    "- You are not given any points for this.\n",
    "- Be sure to explain how the models works in your project."
   ]
  },
  {
   "cell_type": "markdown",
   "metadata": {
    "slideshow": {
     "slide_type": "slide"
    }
   },
   "source": [
    "\n",
    "## Step C: Determine hyperparameters\n",
    "What hyperparameters exist for the model I have chosen?\n",
    "  - Ridge/Lasso: $\\lambda$;\n",
    "  - Elastic net: $\\lambda_1$, $\\lambda_2$;\n",
    "  - Logistic regression with L1 or L2 reg."
   ]
  },
  {
   "cell_type": "markdown",
   "metadata": {
    "slideshow": {
     "slide_type": "slide"
    }
   },
   "source": [
    "\n",
    "# Applying supervised machine learning\n",
    "\n",
    "\n"
   ]
  },
  {
   "cell_type": "markdown",
   "metadata": {
    "slideshow": {
     "slide_type": "slide"
    }
   },
   "source": [
    "## Step 1: data split\n",
    "\n",
    "Split into test and development (train) data.\n",
    "- A normal split is 30 pct. for test and 70 pct. for train if you have ~ observations.\n",
    "- If you have more than 10,000 observations then use 20 pct. for test, 80 pct. for train.\n",
    "\n",
    "Polynomial transformation of features:\n",
    "  - This step is optional - only makes sense for linear and logistic models (e.g. lasso)"
   ]
  },
  {
   "cell_type": "markdown",
   "metadata": {
    "slideshow": {
     "slide_type": "slide"
    }
   },
   "source": [
    "\n",
    "## Step 2: model pipeline\n",
    "Construct a model building pipeline.\n",
    "- Preprocessing phase\n",
    "  - Preprocessing: polynomial expansion, variable scaling (optional)\n",
    "- Supervised model (classification or regression)\n",
    "\n",
    "Note: It is optional on whether to use `make_pipeline`. We recommend using it as there will be fewer mistakes and contain less code."
   ]
  },
  {
   "cell_type": "markdown",
   "metadata": {
    "slideshow": {
     "slide_type": "slide"
    }
   },
   "source": [
    "\n",
    "## Step 3: model selection (1)\n",
    "\n",
    "Main idea:\n",
    "- We want to select the optimal model.\n",
    "- We measure model performance with out-of-sample prediction on validation data.\n",
    "\n",
    "Implementation:\n",
    "- Pick the model which performed the best on the validation data during cross validation."
   ]
  },
  {
   "cell_type": "markdown",
   "metadata": {
    "slideshow": {
     "slide_type": "slide"
    }
   },
   "source": [
    "## Step 3: model selection (2)\n",
    "\n",
    "Cross validation (CV):\n",
    "- We only use the training/development data.\n",
    "- We use 10 fold CV and split this data into 10 even sized validation bins.\n",
    "- For each validation bin:.\n",
    "  - We fit our model on the data outside the validation bin, i.e. in one of the remaining 9 bins..\n",
    "  - We transform and predict the target in the validation bin using our model.\n",
    "  - Note: we must perform our whole model building process and transformation in each fold.\n",
    "\n",
    "Finally we compute the mean across the 10 validation bins for each hyperparameter combination we are testing and pick the one that maximize out-of-sample performance.\n"
   ]
  },
  {
   "cell_type": "markdown",
   "metadata": {
    "slideshow": {
     "slide_type": "slide"
    }
   },
   "source": [
    "## Step 4: check list\n",
    "\n",
    "- Check that we have NO data leakage\n",
    "    - I.e. NEVER fit our model building on validation/test data.\n",
    "- Ensure that model has converged (do not suppress warning)\n",
    "- Am I using a static model and splitting for time series?"
   ]
  },
  {
   "cell_type": "markdown",
   "metadata": {
    "slideshow": {
     "slide_type": "slide"
    }
   },
   "source": [
    "## Step 5: final model training and evaluation\n",
    "\n",
    "We train the model with the optimal hyperparameters on ALL the training/development data.\n",
    "\n",
    "Evaluate the model out-of-sample on the test set.\n"
   ]
  },
  {
   "cell_type": "markdown",
   "metadata": {
    "slideshow": {
     "slide_type": "slide"
    }
   },
   "source": [
    "## A note on analysis with ML models\n",
    "\n",
    "Are you interested in testing whether certain models or features are predictive? \n",
    "- you can use nested cross validation to help you gauge uncertainty of estimates\n",
    "    - formalized in advanced course Social Data Science - Econometrics and Machine Learning, see [here](https://github.com/abjer/sds_eml_2020/blob/master/material/session_1/lecture1.ipynb)\n",
    "- or simply use cross validation at the outer level but keep the model fixed \n",
    "    - (i.e. hyperparameters are constant)"
   ]
  }
 ],
 "metadata": {
  "celltoolbar": "Slideshow",
  "kernelspec": {
   "display_name": "Python 3",
   "language": "python",
   "name": "python3"
  },
  "language_info": {
   "codemirror_mode": {
    "name": "ipython",
    "version": 3
   },
   "file_extension": ".py",
   "mimetype": "text/x-python",
   "name": "python",
   "nbconvert_exporter": "python",
   "pygments_lexer": "ipython3",
   "version": "3.8.5"
  }
 },
 "nbformat": 4,
 "nbformat_minor": 4
}
