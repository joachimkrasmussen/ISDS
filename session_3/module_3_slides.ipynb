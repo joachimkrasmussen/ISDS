{
 "cells": [
  {
   "cell_type": "markdown",
   "metadata": {
    "slideshow": {
     "slide_type": "slide"
    }
   },
   "source": [
    "# Session 2 Recap\n",
    "\n",
    "*Joachim Kahr Rasmussen*"
   ]
  },
  {
   "cell_type": "markdown",
   "metadata": {
    "slideshow": {
     "slide_type": "slide"
    }
   },
   "source": [
    "## Recap (I/II) \n",
    "\n",
    "Git is popular for file sharing and collaborative coding\n",
    "- **Track changes** system for files (log of all changes is kept)\n",
    "- **Share the files** you want, how you want (you can 'copy' repositories)\n",
    "\n",
    "Markdown is an easy and flexible alternative to LaTeX for building slides:\n",
    "- **Coding** is easy and fast!\n",
    "- Works well with **Jupyter**"
   ]
  },
  {
   "cell_type": "markdown",
   "metadata": {
    "slideshow": {
     "slide_type": "slide"
    }
   },
   "source": [
    "## Recap (II/II) \n",
    "\n",
    "With Python, we can easily work with **text as data**:\n",
    "- We can **manipulate strings** in very flexible ways (e.g. 'join', 'replace' and 'split')\n",
    "- Strings and lists work much the same ways ('slice', 'concatenation' and '')\n",
    "\n",
    "With Python, we can also easily **interact with the web**:\n",
    "- When we are lucky, data comes in the form of **APIs** which are easy to fetch\n",
    "- When we are not that lucky, one may need to navigate with **html** (future sessions)\n",
    "\n",
    "We can **save text data** in various ways:\n",
    "- Easy to save files as simple **txt-files**\n",
    "- **JSON** is a popular file format well suited for storing dictionaries and lists of data"
   ]
  },
  {
   "cell_type": "markdown",
   "metadata": {
    "slideshow": {
     "slide_type": "slide"
    }
   },
   "source": [
    "## Questions?\n",
    "\n",
    "<center><img src='https://media.giphy.com/media/KazBpnNZghUmPl8XXJ/source.gif' alt=\"Drawing\" style=\"width: 400px;\"/></center>"
   ]
  },
  {
   "cell_type": "markdown",
   "metadata": {
    "slideshow": {
     "slide_type": "slide"
    }
   },
   "source": [
    "# Session 3: Intro to visualization\n",
    "\n",
    "*Joachim Kahr Rasmussen*"
   ]
  },
  {
   "cell_type": "markdown",
   "metadata": {
    "slideshow": {
     "slide_type": "slide"
    }
   },
   "source": [
    "## Overview of Session\n",
    "\n",
    "Today, we will work with how one can do plotting in Python. In particular, we will cover:\n",
    "1. G\n",
    "    - dsa"
   ]
  },
  {
   "cell_type": "markdown",
   "metadata": {
    "slideshow": {
     "slide_type": "slide"
    }
   },
   "source": [
    "# Agenda\n",
    "\n",
    "1. [Background on plotting](#Understanding-plotting)\n",
    "2. The [Python toolbox for plotting](#Python-plotting)\n",
    "3. [Plots for one variable](#Plot-one-variable) (Series)\n",
    "4. Plots for two or more variables (DataFrame):         \n",
    "    - [numeric](#Plots-of-two-numeric-variables)  data\n",
    "    - [mixed numeric and categorical](#Plots-with-mixed-variables) data\n",
    "5. [Advanced exploratory plotting](#Advanced-exploratory-plotting)  "
   ]
  },
  {
   "cell_type": "markdown",
   "metadata": {
    "slideshow": {
     "slide_type": "slide"
    }
   },
   "source": [
    "## Associated Readings\n",
    "\n",
    "Wickham (2010), sections 1-3\n",
    "- Fundamentals of a plotting\n",
    "- \"Grammar of Graphics\"\n",
    "\n",
    "PDA, chapter 9:\n",
    "- Basic syntax and fundamental concepts with matplotlib\n",
    "- Combining matplotlib with pandas and using seaborn package\n",
    "\n",
    "Moffitt (2017):\n",
    "- Strengths and weaknesses of matplotlib\n",
    "- Intro to `figure` and `axes`\n",
    "- Using functions in order to improve formatting"
   ]
  },
  {
   "cell_type": "markdown",
   "metadata": {
    "slideshow": {
     "slide_type": "slide"
    }
   },
   "source": [
    "# Loading stuff"
   ]
  },
  {
   "cell_type": "code",
   "execution_count": 1,
   "metadata": {},
   "outputs": [],
   "source": [
    "# Loading libraries\n",
    "import numpy as np\n",
    "import pandas as pd # For data structuring\n",
    "import matplotlib.pyplot as plt # For plotting\n",
    "import seaborn as sns # Add-on toolkit for plt"
   ]
  },
  {
   "cell_type": "code",
   "execution_count": 2,
   "metadata": {},
   "outputs": [],
   "source": [
    "# Loading data\n",
    "tips = sns.load_dataset('tips')\n",
    "tb = tips['total_bill']"
   ]
  },
  {
   "cell_type": "markdown",
   "metadata": {
    "slideshow": {
     "slide_type": "slide"
    }
   },
   "source": [
    "# Understanding Plotting"
   ]
  },
  {
   "cell_type": "markdown",
   "metadata": {
    "slideshow": {
     "slide_type": "slide"
    }
   },
   "source": [
    "<img src=\"https://github.com/joachimkrasmussen/ISDS/blob/master/session_3/matplotlib-anatomy.png?raw=true\" alt=\"drawing\" width=\"600\"/>"
   ]
  },
  {
   "cell_type": "markdown",
   "metadata": {
    "slideshow": {
     "slide_type": "slide"
    }
   },
   "source": [
    "## Why We Plot\n",
    "\n",
    "An English adage\n",
    "> A picture is worth a thousand words\n",
    "\n",
    "Is that always the case?\n"
   ]
  },
  {
   "cell_type": "markdown",
   "metadata": {
    "slideshow": {
     "slide_type": "slide"
    }
   },
   "source": [
    "## What Values Do A,B,C and D Have?\n",
    "<center><img src='https://raw.githubusercontent.com/abjer/sds2017/master/slides/figures/excel1.png'></center>"
   ]
  },
  {
   "cell_type": "markdown",
   "metadata": {
    "slideshow": {
     "slide_type": "slide"
    }
   },
   "source": [
    "## The Shocking Answer\n",
    "<center><img src='https://raw.githubusercontent.com/abjer/sds2017/master/slides/figures/excel2.png'></center>\n"
   ]
  },
  {
   "cell_type": "markdown",
   "metadata": {
    "slideshow": {
     "slide_type": "slide"
    }
   },
   "source": [
    "## Is Plotting Always a Good Idea?\n"
   ]
  },
  {
   "cell_type": "markdown",
   "metadata": {
    "slideshow": {
     "slide_type": "fragment"
    }
   },
   "source": [
    "Suppose we have data on gender. We could make the pie chart, should we?"
   ]
  },
  {
   "cell_type": "code",
   "execution_count": 3,
   "metadata": {
    "slideshow": {
     "slide_type": "-"
    }
   },
   "outputs": [
    {
     "data": {
      "text/plain": [
       "<AxesSubplot:xlabel='sex', ylabel='count'>"
      ]
     },
     "execution_count": 3,
     "metadata": {},
     "output_type": "execute_result"
    },
    {
     "data": {
      "image/png": "[encoded data removed]",
      "text/plain": [
       "<Figure size 432x288 with 1 Axes>"
      ]
     },
     "metadata": {
      "needs_background": "light"
     },
     "output_type": "display_data"
    }
   ],
   "source": [
    "sns.countplot(x='sex', data=tips)"
   ]
  },
  {
   "cell_type": "markdown",
   "metadata": {
    "slideshow": {
     "slide_type": "slide"
    }
   },
   "source": [
    "## Why Are You Plotting?\n",
    "*Who's the audience?*"
   ]
  },
  {
   "cell_type": "markdown",
   "metadata": {
    "slideshow": {
     "slide_type": "fragment"
    }
   },
   "source": [
    "You / your team:"
   ]
  },
  {
   "cell_type": "markdown",
   "metadata": {
    "slideshow": {
     "slide_type": "-"
    }
   },
   "source": [
    "- **Exploratory** plots: Figures for understanding data\n",
    "    - Quick to produce $\\sim$ minimal polishing\n",
    "    - Interesting feature may by implied by the producer\n",
    "    - Be careful showing these out of context"
   ]
  },
  {
   "cell_type": "markdown",
   "metadata": {
    "slideshow": {
     "slide_type": "fragment"
    }
   },
   "source": [
    "Others:"
   ]
  },
  {
   "cell_type": "markdown",
   "metadata": {
    "slideshow": {
     "slide_type": "-"
    }
   },
   "source": [
    "- **Explanatory** plots: Figures to convey a message\n",
    "    - Polished figures\n",
    "    - Direct attention to interesting feature in the data\n",
    "    - Minimize risk of misunderstanding"
   ]
  },
  {
   "cell_type": "markdown",
   "metadata": {
    "slideshow": {
     "slide_type": "slide"
    }
   },
   "source": [
    "## How Should You Plot?\n",
    "*What are some tips for making **explanatory** plots in a report?*  ***<font color=\"red\">(Exam relevant!)</font>***"
   ]
  },
  {
   "cell_type": "markdown",
   "metadata": {
    "slideshow": {
     "slide_type": "fragment"
    }
   },
   "source": [
    "- Clear narratives - should convey key point(s)\n",
    "  - If you want to show difference between groups in data make sure it is easy to distinguish them."
   ]
  },
  {
   "cell_type": "markdown",
   "metadata": {
    "slideshow": {
     "slide_type": "fragment"
    }
   },
   "source": [
    "- Self explanatory\n",
    "  - Contain axis label, title, footnotes in text containing relevant information."
   ]
  },
  {
   "cell_type": "markdown",
   "metadata": {
    "slideshow": {
     "slide_type": "fragment"
    }
   },
   "source": [
    "- Nice appereance \n",
    "  - Choose the right plot type.\n",
    "  - Make sure font type, size, colors, line width."
   ]
  },
  {
   "cell_type": "markdown",
   "metadata": {
    "slideshow": {
     "slide_type": "fragment"
    }
   },
   "source": [
    "- Keep simplicity.\n",
    "  - Anything unnecessary should be removed, see [this post](https://www.darkhorseanalytics.com/blog/data-looks-better-naked/)."
   ]
  },
  {
   "cell_type": "markdown",
   "metadata": {
    "slideshow": {
     "slide_type": "fragment"
    }
   },
   "source": [
    "*Some practical advice on making **explanatory** plots?*"
   ]
  },
  {
   "cell_type": "markdown",
   "metadata": {
    "slideshow": {
     "slide_type": "fragment"
    }
   },
   "source": [
    "1. Try out a few plot types, using exploratory analysis - use what works.\n",
    "1. Apply the *\"layered grammer of graphics\"*.\n",
    "    - Start with an empty canvas\n",
    "    - Fill the necessary things (axis, ticks, bars/lines, labels)"
   ]
  },
  {
   "cell_type": "markdown",
   "metadata": {
    "slideshow": {
     "slide_type": "slide"
    }
   },
   "source": [
    "## What Are You Plotting?\n",
    "*What are some guidelines on making plots in **general**?*"
   ]
  },
  {
   "cell_type": "markdown",
   "metadata": {
    "slideshow": {
     "slide_type": "fragment"
    }
   },
   "source": [
    "Be aware of *what* you plot\n",
    "- numerical vs. non-numeric (categorical)\n",
    "- raw data vs. model results "
   ]
  },
  {
   "cell_type": "markdown",
   "metadata": {
    "slideshow": {
     "slide_type": "slide"
    }
   },
   "source": [
    "# Python Plotting "
   ]
  },
  {
   "cell_type": "markdown",
   "metadata": {
    "slideshow": {
     "slide_type": "slide"
    }
   },
   "source": [
    "## How Are You Plotting?\n",
    "There are two overall approaches to plotting:\n",
    "\n",
    "- make a fast, decent figure\n",
    "    - iteratively adjust if necessary\n",
    "    - start out in `seaborn` continue to `matplotlib`\n",
    "\n",
    "\n",
    "- from empty canvas to figure\n",
    "    - iteratively add material and layers\n",
    "    - performed in `matplotlib`\n",
    "   "
   ]
  },
  {
   "cell_type": "markdown",
   "metadata": {
    "slideshow": {
     "slide_type": "slide"
    }
   },
   "source": [
    "## Packages for Python Plotting (I/II)\n",
    "*What is the fundamental tool for making plots in Python?*"
   ]
  },
  {
   "cell_type": "markdown",
   "metadata": {
    "slideshow": {
     "slide_type": "fragment"
    }
   },
   "source": [
    "**Matplotlib** is the fundamental plotting module\n",
    "- Can make almost any 2d plot.\n",
    "- Can build publication ready figures.\n",
    "- Caveat: \n",
    "    - requires time consuming customization;\n",
    "    - requires practice."
   ]
  },
  {
   "cell_type": "code",
   "execution_count": 4,
   "metadata": {
    "slideshow": {
     "slide_type": "fragment"
    }
   },
   "outputs": [],
   "source": [
    "import matplotlib.pyplot as plt\n",
    "# allow printing in notebook\n",
    "%matplotlib inline "
   ]
  },
  {
   "cell_type": "markdown",
   "metadata": {
    "slideshow": {
     "slide_type": "slide"
    }
   },
   "source": [
    "## Packages for Python Plotting (II/II)\n",
    "*What are good tools for fast, exploratory plots?*"
   ]
  },
  {
   "cell_type": "markdown",
   "metadata": {
    "slideshow": {
     "slide_type": "fragment"
    }
   },
   "source": [
    "`seaborn` has built-in capabilities to make plots\n",
    "- Analyzing data, e.g. splitting by subsets\n",
    "- Make interpolation of data to smooth out noise.\n",
    "\n",
    "`pandas` can easily convert Series and DataFrames to plots"
   ]
  },
  {
   "cell_type": "markdown",
   "metadata": {
    "slideshow": {
     "slide_type": "slide"
    }
   },
   "source": [
    "# Plotting One Variable"
   ]
  },
  {
   "cell_type": "markdown",
   "metadata": {
    "slideshow": {
     "slide_type": "slide"
    }
   },
   "source": [
    "## Matplotlib and the Grammar of Graphics (I/VII)\n",
    "*Where do I start with making a plot?*"
   ]
  },
  {
   "cell_type": "markdown",
   "metadata": {
    "slideshow": {
     "slide_type": "fragment"
    }
   },
   "source": [
    "One thing to consider is the plotting style. Usually, however, you will not set this explicitly. \n",
    "\n",
    "There are lots of styles..."
   ]
  },
  {
   "cell_type": "code",
   "execution_count": 11,
   "metadata": {
    "slideshow": {
     "slide_type": "-"
    }
   },
   "outputs": [
    {
     "data": {
      "text/plain": [
       "['Solarize_Light2',\n",
       " '_classic_test_patch',\n",
       " 'bmh',\n",
       " 'bright',\n",
       " 'classic',\n",
       " 'dark_background',\n",
       " 'fast',\n",
       " 'fivethirtyeight',\n",
       " 'ggplot',\n",
       " 'grayscale',\n",
       " 'grid',\n",
       " 'high-contrast',\n",
       " 'high-vis',\n",
       " 'ieee',\n",
       " 'light',\n",
       " 'muted',\n",
       " 'no-latex',\n",
       " 'notebook',\n",
       " 'pgf',\n",
       " 'retro',\n",
       " 'scatter',\n",
       " 'science',\n",
       " 'seaborn',\n",
       " 'seaborn-bright',\n",
       " 'seaborn-colorblind',\n",
       " 'seaborn-dark',\n",
       " 'seaborn-dark-palette',\n",
       " 'seaborn-darkgrid',\n",
       " 'seaborn-deep',\n",
       " 'seaborn-muted',\n",
       " 'seaborn-notebook',\n",
       " 'seaborn-paper',\n",
       " 'seaborn-pastel',\n",
       " 'seaborn-poster',\n",
       " 'seaborn-talk',\n",
       " 'seaborn-ticks',\n",
       " 'seaborn-white',\n",
       " 'seaborn-whitegrid',\n",
       " 'std-colors',\n",
       " 'tableau-colorblind10',\n",
       " 'vibrant']"
      ]
     },
     "execution_count": 11,
     "metadata": {},
     "output_type": "execute_result"
    }
   ],
   "source": [
    "plt.style.available"
   ]
  },
  {
   "cell_type": "markdown",
   "metadata": {
    "slideshow": {
     "slide_type": "slide"
    }
   },
   "source": [
    "## Matplotlib and the Grammar of Graphics (II/VIII)\n",
    "*OK, but where do I then really start when making a plot?*"
   ]
  },
  {
   "cell_type": "markdown",
   "metadata": {
    "slideshow": {
     "slide_type": "fragment"
    }
   },
   "source": [
    "Recommend `ggplot` as style which is also typically the default."
   ]
  },
  {
   "cell_type": "markdown",
   "metadata": {
    "slideshow": {
     "slide_type": "fragment"
    }
   },
   "source": [
    "We will begin with the fundamental and flexible way. We start with our plotting canvas."
   ]
  },
  {
   "cell_type": "code",
   "execution_count": 5,
   "metadata": {
    "slideshow": {
     "slide_type": "-"
    }
   },
   "outputs": [
    {
     "data": {
      "image/png": "[encoded data removed]",
      "text/plain": [
       "<Figure size 504x216 with 1 Axes>"
      ]
     },
     "metadata": {
      "needs_background": "light"
     },
     "output_type": "display_data"
    }
   ],
   "source": [
    "fig, ax = plt.subplots(figsize = (7, 3)) # create placeholder for plot"
   ]
  },
  {
   "cell_type": "markdown",
   "metadata": {
    "slideshow": {
     "slide_type": "-"
    }
   },
   "source": [
    "- `ax` contains most of the chart content as objects: \n",
    "    -  grid axes, labels, shapes we draw etc.\n",
    "- `fig` the actual plot which is displayed (export to pdf etc.)"
   ]
  },
  {
   "cell_type": "markdown",
   "metadata": {
    "slideshow": {
     "slide_type": "slide"
    }
   },
   "source": [
    "## Matplotlib and the Grammar of Graphics (II/VII)\n",
    "*Can we change matplotlib defaults?*"
   ]
  },
  {
   "cell_type": "markdown",
   "metadata": {
    "slideshow": {
     "slide_type": "fragment"
    }
   },
   "source": [
    "Yes, this may be very useful. For instance plot size. Recommend `ggplot` as style."
   ]
  },
  {
   "cell_type": "code",
   "execution_count": 7,
   "metadata": {
    "slideshow": {
     "slide_type": "-"
    }
   },
   "outputs": [],
   "source": [
    "plt.style.use('default') # set style (colors, background, size, gridlines etc.) # ggplot\n",
    "plt.rcParams['figure.figsize'] = 10, 3 # set default size of plots\n",
    "plt.rcParams.update({'font.size': 18}) # set default font size in plots"
   ]
  },
  {
   "cell_type": "code",
   "execution_count": 8,
   "metadata": {
    "scrolled": true
   },
   "outputs": [
    {
     "data": {
      "image/png": "[encoded data removed]",
      "text/plain": [
       "<Figure size 700x300 with 1 Axes>"
      ]
     },
     "metadata": {},
     "output_type": "display_data"
    }
   ],
   "source": [
    "fig, ax = plt.subplots(figsize = (7, 3)) # recreate placeholder for plot"
   ]
  },
  {
   "cell_type": "markdown",
   "metadata": {
    "slideshow": {
     "slide_type": "slide"
    }
   },
   "source": [
    "## Matplotlib and the Grammar of Graphics (III/VII)\n",
    "We can modify our canvas, e.g the axis scaling:"
   ]
  },
  {
   "cell_type": "code",
   "execution_count": null,
   "metadata": {
    "slideshow": {
     "slide_type": "-"
    }
   },
   "outputs": [],
   "source": [
    "fig, ax = plt.subplots(figsize = (8, 4))\n",
    "ax.set_xlim([0, 60]), ax.set_ylim([0,.06]) # add axes cutoffs "
   ]
  },
  {
   "cell_type": "markdown",
   "metadata": {
    "slideshow": {
     "slide_type": "slide"
    }
   },
   "source": [
    "## Matplotlib and the Grammar of Graphics (IV/VII)\n",
    "We can draw plots on the canvas"
   ]
  },
  {
   "cell_type": "code",
   "execution_count": null,
   "metadata": {
    "slideshow": {
     "slide_type": "-"
    }
   },
   "outputs": [],
   "source": [
    "fig, ax = plt.subplots(figsize = (8, 4))\n",
    "ax.set_xlim([0, 60]), ax.set_ylim([0,.06])\n",
    "sns.distplot(tb,hist=False) # make plot"
   ]
  },
  {
   "cell_type": "markdown",
   "metadata": {
    "slideshow": {
     "slide_type": "slide"
    }
   },
   "source": [
    "## Matplotlib and the Grammar of Graphics (V/VII)\n",
    "Add labels for x-axis and y-axis"
   ]
  },
  {
   "cell_type": "code",
   "execution_count": null,
   "metadata": {
    "slideshow": {
     "slide_type": "-"
    }
   },
   "outputs": [],
   "source": [
    "fig, ax = plt.subplots(figsize = (8, 4))\n",
    "ax.set_xlim([0, 60]), ax.set_ylim([0,.06])\n",
    "sns.distplot(tb,hist=False) \n",
    "ax.set_xlabel('Total bill ($)'), ax.set_ylabel('Frequency') # add axis labels"
   ]
  },
  {
   "cell_type": "markdown",
   "metadata": {
    "slideshow": {
     "slide_type": "slide"
    }
   },
   "source": [
    "## Matplotlib and the Grammar of Graphics (VI/VII)\n",
    "Add labels for x-axis and y-axis"
   ]
  },
  {
   "cell_type": "code",
   "execution_count": null,
   "metadata": {
    "slideshow": {
     "slide_type": "-"
    }
   },
   "outputs": [],
   "source": [
    "fig, ax = plt.subplots(figsize = (8, 4))\n",
    "ax.set_xlim([0, 60]), ax.set_ylim([0,.06])\n",
    "sns.distplot(tb,hist=False) \n",
    "sns.distplot(tb,hist=True, bins=10) \n",
    "ax.set_xlabel('Total bill ($)'), ax.set_ylabel('Frequency')\n",
    "sns.despine(ax=ax)"
   ]
  },
  {
   "cell_type": "markdown",
   "metadata": {
    "slideshow": {
     "slide_type": "slide"
    }
   },
   "source": [
    "## Matplotlib and the Grammar of Graphics (VII/VII)\n",
    "What might we change about our plot?\n",
    "- Thickness?\n",
    "- Color? \n",
    "- Showing raw data? \n",
    "- Make KDE plot by subgroups? (exercise)"
   ]
  },
  {
   "cell_type": "markdown",
   "metadata": {
    "slideshow": {
     "slide_type": "slide"
    }
   },
   "source": [
    "# Plots with mixed variables"
   ]
  },
  {
   "cell_type": "markdown",
   "metadata": {
    "slideshow": {
     "slide_type": "slide"
    }
   },
   "source": [
    "## Table format"
   ]
  },
  {
   "cell_type": "markdown",
   "metadata": {
    "slideshow": {
     "slide_type": "fragment"
    }
   },
   "source": [
    "*How did we define a tidy/long table?*"
   ]
  },
  {
   "cell_type": "markdown",
   "metadata": {
    "slideshow": {
     "slide_type": "fragment"
    }
   },
   "source": [
    "One row for each observation"
   ]
  },
  {
   "cell_type": "markdown",
   "metadata": {
    "slideshow": {
     "slide_type": "-"
    }
   },
   "source": [
    "<center><img src='https://raw.githubusercontent.com/abjer/sds2017/master/slides/figures/tidy.png'></center>"
   ]
  },
  {
   "cell_type": "markdown",
   "metadata": {
    "slideshow": {
     "slide_type": "slide"
    }
   },
   "source": [
    "## Mixed types - numeric, categorical "
   ]
  },
  {
   "cell_type": "markdown",
   "metadata": {
    "slideshow": {
     "slide_type": "fragment"
    }
   },
   "source": [
    "*How might we use categorical variables?*\n"
   ]
  },
  {
   "cell_type": "markdown",
   "metadata": {
    "slideshow": {
     "slide_type": "fragment"
    }
   },
   "source": [
    "- We can split data and make plots based on subsets of data!"
   ]
  },
  {
   "cell_type": "markdown",
   "metadata": {
    "slideshow": {
     "slide_type": "fragment"
    }
   },
   "source": [
    "Can we say anything about smokers tipping behavior?"
   ]
  },
  {
   "cell_type": "code",
   "execution_count": null,
   "metadata": {},
   "outputs": [],
   "source": [
    "fig = plt.figure()\n",
    "\n",
    "ax1 = fig.add_subplot(2, 2, 1)\n",
    "ax2 = fig.add_subplot(2, 2, 2)\n",
    "ax3 = fig.add_subplot(2, 2, 3)\n",
    "\n",
    "ax1.hist(np.random.randn(100), bins=20, color='k', alpha=0.3)\n",
    "ax2.plot(np.random.randn(50).cumsum(), 'k--')\n",
    "ax3.scatter(np.arange(30), np.arange(30) + 3 * np.random.randn(30))\n",
    "\n",
    "# Plot type catalogue here: https://matplotlib.org/\n"
   ]
  },
  {
   "cell_type": "code",
   "execution_count": null,
   "metadata": {},
   "outputs": [],
   "source": [
    "fig, axes = plt.subplots(2, 3, sharex=True)"
   ]
  },
  {
   "cell_type": "code",
   "execution_count": null,
   "metadata": {
    "scrolled": true
   },
   "outputs": [],
   "source": [
    "fig, axes = plt.subplots(2, 2, sharex=True, sharey=True)\n",
    "for i in range(2):\n",
    "    for j in range(2):\n",
    "        axes[i, j].hist(np.random.randn(500), bins=50, color='k', alpha=0.5)\n",
    "        plt.subplots_adjust(wspace=0, hspace=0)"
   ]
  },
  {
   "cell_type": "code",
   "execution_count": null,
   "metadata": {},
   "outputs": [],
   "source": [
    "plt.plot(np.random.randn(30).cumsum(), 'ko--')"
   ]
  },
  {
   "cell_type": "code",
   "execution_count": null,
   "metadata": {},
   "outputs": [],
   "source": [
    "plt.plot(np.random.randn(30).cumsum(), color='k', linestyle='dashed', marker='o')"
   ]
  },
  {
   "cell_type": "code",
   "execution_count": null,
   "metadata": {},
   "outputs": [],
   "source": [
    "data = np.random.randn(30).cumsum()\n",
    "plt.plot(data, 'k--', label='Default')\n",
    "plt.plot(data, 'k-', drawstyle='steps-post', label='steps-post')\n",
    "plt.legend(loc='best')"
   ]
  },
  {
   "cell_type": "code",
   "execution_count": null,
   "metadata": {},
   "outputs": [],
   "source": [
    "fig = plt.figure()\n",
    "ax = fig.add_subplot(1, 1, 1)\n",
    "ax.plot(np.random.randn(1000).cumsum())\n",
    "\n",
    "ticks = ax.set_xticks([0, 250, 500, 750, 1000])\n",
    "labels = ax.set_xticklabels(['one', 'two', 'three', 'four', 'five'], rotation=30, fontsize='small')\n",
    "\n",
    "#ax.set_title('My first matplotlib plot')\n",
    "#ax.set_xlabel('Stages')\n",
    "\n",
    "props = {\n",
    "'title': 'My first matplotlib plot',\n",
    "'xlabel': 'Stages'\n",
    "}\n",
    "ax.set(**props)"
   ]
  },
  {
   "cell_type": "code",
   "execution_count": null,
   "metadata": {},
   "outputs": [],
   "source": [
    "fig = plt.figure(); ax = fig.add_subplot(1, 1, 1)\n",
    "ax.plot(np.random.randn(1000).cumsum(), 'k', label='one')\n",
    "ax.plot(np.random.randn(1000).cumsum(), 'k--', label='two')\n",
    "ax.plot(np.random.randn(1000).cumsum(), 'k.', label='_nolegend_')\n",
    "ax.legend(loc='best')"
   ]
  },
  {
   "cell_type": "code",
   "execution_count": null,
   "metadata": {
    "scrolled": true
   },
   "outputs": [],
   "source": [
    "fig = plt.figure()\n",
    "ax = fig.add_subplot(1, 1, 1)\n",
    "\n",
    "rect = plt.Rectangle((0.2, 0.75), 0.4, 0.15, color='k', alpha=0.3)\n",
    "circ = plt.Circle((0.7, 0.2), 0.15, color='b', alpha=0.3)\n",
    "pgon = plt.Polygon([[0.15, 0.15], [0.35, 0.4], [0.2, 0.6]], color='g', alpha=0.5)\n",
    "\n",
    "ax.add_patch(rect)\n",
    "ax.add_patch(circ)\n",
    "ax.add_patch(pgon)\n",
    "\n",
    "plt.savefig('figpath.png', transparent=False, dpi=400, bbox_inches='tight')"
   ]
  },
  {
   "cell_type": "code",
   "execution_count": null,
   "metadata": {},
   "outputs": [],
   "source": [
    "# Changing default parameters when plotting:\n",
    "\n",
    "plt.rc('figure', figsize=(10, 10))\n",
    "\n",
    "font_options = {'family' : 'monospace',\n",
    "                'weight' : 'bold',\n",
    "                'size'   : 12}\n",
    "\n",
    "plt.rc('font', **font_options)"
   ]
  },
  {
   "cell_type": "code",
   "execution_count": null,
   "metadata": {},
   "outputs": [],
   "source": [
    "s = pd.Series(np.random.randn(100).cumsum(), index=np.arange(0, 1000, 10))\n",
    "#s.plot(use_index=False)\n",
    "s.plot(xlim=(0,500))"
   ]
  },
  {
   "cell_type": "code",
   "execution_count": null,
   "metadata": {
    "scrolled": true
   },
   "outputs": [],
   "source": [
    "df = pd.DataFrame(np.random.randn(100, 4).cumsum(0), columns=['A', 'B', 'C', 'D'], index=np.arange(0, 1000, 10))\n",
    "df.plot()"
   ]
  },
  {
   "cell_type": "code",
   "execution_count": null,
   "metadata": {
    "scrolled": true
   },
   "outputs": [],
   "source": [
    "fig, axes = plt.subplots(2, 1)\n",
    "data = pd.Series(np.random.rand(16), index=list('abcdefghijklmnop'))\n",
    "\n",
    "data.plot.bar(ax=axes[0], color='k', alpha=0.7)\n",
    "data.plot.barh(ax=axes[1], color='k', alpha=0.7)"
   ]
  },
  {
   "cell_type": "code",
   "execution_count": null,
   "metadata": {},
   "outputs": [],
   "source": [
    "df = pd.DataFrame(np.round(np.random.rand(6, 4),0), \n",
    "                  index=['one', 'two', 'three', 'four', 'five', 'six'], \n",
    "                  columns=pd.Index(['A', 'B', 'C', 'D'], name='Genus'))\n",
    "\n",
    "print(df)\n",
    "\n",
    "df.plot.barh()\n",
    "df.plot.barh(stacked=True, alpha=0.5)"
   ]
  },
  {
   "cell_type": "code",
   "execution_count": null,
   "metadata": {},
   "outputs": [],
   "source": [
    "df.value_counts().plot.bar()"
   ]
  },
  {
   "cell_type": "code",
   "execution_count": null,
   "metadata": {
    "scrolled": true
   },
   "outputs": [],
   "source": [
    "import seaborn as sns\n",
    "\n",
    "comp1 = np.random.normal(0, 1, size=200)\n",
    "comp2 = np.random.normal(20, 2, size=200)\n",
    "values = pd.Series(np.concatenate([comp1, comp2]))\n",
    "sns.distplot(values, bins=100, color='k')"
   ]
  },
  {
   "cell_type": "code",
   "execution_count": null,
   "metadata": {},
   "outputs": [],
   "source": [
    "import pandas as pd\n",
    "import matplotlib.pyplot as plt\n",
    "from matplotlib.ticker import FuncFormatter\n",
    "\n",
    "df = pd.read_excel(\"https://github.com/chris1610/pbpython/blob/master/data/sample-salesv3.xlsx?raw=true\")\n",
    "print(df.head())\n",
    "df.count()"
   ]
  },
  {
   "cell_type": "code",
   "execution_count": null,
   "metadata": {
    "scrolled": true
   },
   "outputs": [],
   "source": [
    "top_10 = (df.groupby('name')['ext price', 'quantity'].agg({'ext price': 'sum', 'quantity': 'count'})\n",
    "          .sort_values(by='ext price', ascending=False))[:10].reset_index()\n",
    "top_10.rename(columns={'name': 'Name', 'ext price': 'Sales', 'quantity': 'Purchases'}, inplace=True)\n",
    "top_10"
   ]
  },
  {
   "cell_type": "code",
   "execution_count": null,
   "metadata": {},
   "outputs": [],
   "source": [
    "plt.style.use('ggplot')"
   ]
  },
  {
   "cell_type": "code",
   "execution_count": null,
   "metadata": {
    "scrolled": true
   },
   "outputs": [],
   "source": [
    "top_10.plot(kind='barh', y=\"Sales\", x=\"Name\")"
   ]
  },
  {
   "cell_type": "code",
   "execution_count": null,
   "metadata": {
    "scrolled": true
   },
   "outputs": [],
   "source": [
    "fig, ax = plt.subplots()\n",
    "top_10.plot(kind='barh', y=\"Sales\", x=\"Name\", ax=ax)"
   ]
  },
  {
   "cell_type": "code",
   "execution_count": null,
   "metadata": {
    "scrolled": true
   },
   "outputs": [],
   "source": [
    "fig, ax = plt.subplots()\n",
    "top_10.plot(kind='barh', y=\"Sales\", x=\"Name\", ax=ax)\n",
    "ax.set_xlim([-10000, 140000])\n",
    "ax.set_xlabel('Total Revenue')\n",
    "ax.set_ylabel('Customer')"
   ]
  },
  {
   "cell_type": "code",
   "execution_count": null,
   "metadata": {
    "scrolled": true
   },
   "outputs": [],
   "source": [
    "fig, ax = plt.subplots()\n",
    "top_10.plot(kind='barh', y=\"Sales\", x=\"Name\", ax=ax)\n",
    "ax.set_xlim([-10000, 140000])\n",
    "ax.set(title='2014 Revenue', xlabel='Total Revenue', ylabel='Customer')"
   ]
  },
  {
   "cell_type": "code",
   "execution_count": null,
   "metadata": {
    "scrolled": true
   },
   "outputs": [],
   "source": [
    "fig, ax = plt.subplots(figsize=(5, 6))\n",
    "top_10.plot(kind='barh', y=\"Sales\", x=\"Name\", ax=ax)\n",
    "ax.set_xlim([-10000, 140000])\n",
    "ax.set(title='2014 Revenue', xlabel='Total Revenue')\n",
    "#ax.legend().set_visible(False)\n",
    "ax.legend(loc='best')"
   ]
  },
  {
   "cell_type": "code",
   "execution_count": null,
   "metadata": {
    "scrolled": true
   },
   "outputs": [],
   "source": [
    "def currency(x, pos):\n",
    "    'The two args are the value and tick position'\n",
    "    if x >= 1000000:\n",
    "        return '${:1.1f}M'.format(x*1e-6)\n",
    "    return '${:1.0f}K'.format(x*1e-3)\n",
    "\n",
    "fig, ax = plt.subplots()\n",
    "top_10.plot(kind='barh', y=\"Sales\", x=\"Name\", ax=ax)\n",
    "ax.set_xlim([-10000, 140000])\n",
    "ax.set(title='2014 Revenue', xlabel='Total Revenue', ylabel='Customer')\n",
    "formatter = FuncFormatter(currency)\n",
    "ax.xaxis.set_major_formatter(formatter)\n",
    "ax.legend().set_visible(False)"
   ]
  },
  {
   "cell_type": "code",
   "execution_count": null,
   "metadata": {
    "scrolled": true
   },
   "outputs": [],
   "source": [
    "# Create the figure and the axes\n",
    "fig, ax = plt.subplots()\n",
    "\n",
    "# Plot the data and get the averaged\n",
    "top_10.plot(kind='barh', y=\"Sales\", x=\"Name\", ax=ax)\n",
    "avg = top_10['Sales'].mean()\n",
    "\n",
    "# Set limits and labels\n",
    "ax.set_xlim([-10000, 140000])\n",
    "ax.set(title='2014 Revenue', xlabel='Total Revenue', ylabel='Customer')\n",
    "\n",
    "# Add a line for the average\n",
    "ax.axvline(x=avg, color='b', label='Average', linestyle='--', linewidth=1)\n",
    "\n",
    "# Annotate the new customers\n",
    "for cust in [3, 5, 8]:\n",
    "    ax.text(115000, cust, \"New Customer\")\n",
    "\n",
    "# Format the currency\n",
    "formatter = FuncFormatter(currency)\n",
    "ax.xaxis.set_major_formatter(formatter)\n",
    "\n",
    "# Hide the legend\n",
    "ax.legend().set_visible(False)"
   ]
  },
  {
   "cell_type": "code",
   "execution_count": null,
   "metadata": {
    "scrolled": true
   },
   "outputs": [],
   "source": [
    "# Get the figure and the axes\n",
    "fig, (ax0, ax1) = plt.subplots(nrows=1,ncols=2, sharey=True, figsize=(7, 4))\n",
    "top_10.plot(kind='barh', y=\"Sales\", x=\"Name\", ax=ax0)\n",
    "ax0.set_xlim([-10000, 140000])\n",
    "ax0.set(title='Revenue', xlabel='Total Revenue', ylabel='Customers')\n",
    "\n",
    "# Plot the average as a vertical line\n",
    "avg = top_10['Sales'].mean()\n",
    "ax0.axvline(x=avg, color='b', label='Average', linestyle='--', linewidth=1)\n",
    "\n",
    "# Repeat for the unit plot\n",
    "top_10.plot(kind='barh', y=\"Purchases\", x=\"Name\", ax=ax1)\n",
    "avg = top_10['Purchases'].mean()\n",
    "ax1.set(title='Units', xlabel='Total Units', ylabel='')\n",
    "ax1.axvline(x=avg, color='b', label='Average', linestyle='--', linewidth=1)\n",
    "\n",
    "# Title the figure\n",
    "fig.suptitle('2014 Sales Analysis', fontsize=14, fontweight='bold');\n",
    "\n",
    "# Hide the legends\n",
    "ax1.legend().set_visible(False)\n",
    "ax0.legend().set_visible(False)"
   ]
  },
  {
   "cell_type": "code",
   "execution_count": null,
   "metadata": {},
   "outputs": [],
   "source": []
  }
 ],
 "metadata": {
  "celltoolbar": "Slideshow",
  "kernelspec": {
   "display_name": "Python 3",
   "language": "python",
   "name": "python3"
  },
  "language_info": {
   "codemirror_mode": {
    "name": "ipython",
    "version": 3
   },
   "file_extension": ".py",
   "mimetype": "text/x-python",
   "name": "python",
   "nbconvert_exporter": "python",
   "pygments_lexer": "ipython3",
   "version": "3.8.5"
  }
 },
 "nbformat": 4,
 "nbformat_minor": 4
}
