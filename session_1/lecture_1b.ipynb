{
 "cells": [
  {
   "cell_type": "markdown",
   "metadata": {
    "slideshow": {
     "slide_type": "slide"
    }
   },
   "source": [
    "# Python and Social Data Science"
   ]
  },
  {
   "cell_type": "markdown",
   "metadata": {
    "slideshow": {
     "slide_type": "slide"
    }
   },
   "source": [
    "# This talk\n",
    "\n",
    "- Why social data science \n",
    "- Course overview\n",
    "- Learning to code\n",
    "- Python \n",
    "   - Why we chose it\n",
    "   - Advanced concepts\n",
    "- Power tools: git and markdown"
   ]
  },
  {
   "cell_type": "markdown",
   "metadata": {
    "slideshow": {
     "slide_type": "slide"
    }
   },
   "source": [
    "## Data science - an overview\n",
    "\n",
    "Three trends are important for understand the increasing interest in and influence of data science:\n",
    "\n",
    "- **Data** is increasingly available, e.g.\n",
    "    - *Social Media*: Facebook status updates, public 'tweeting', Instagram pictures, etc.\n",
    "    - *Shopping*: Online shopping (track everything, make experiments), in store shopping (memberships, less granular data).\n",
    "    - *Phones*: Patterns in phone calls, GPS logging, phone activity (see recent SODAS studies), etc.\n",
    "- Faster and bigger **computers** ([Waldrop, 2016](https://pubmed.ncbi.nlm.nih.gov/26863965/)):\n",
    "    - Moore’s law $\\sim$ transistors on a microprocessor chip doubles every two years \n",
    "    - Soon coming to a halt due to heat issues...\n",
    "- Improved **algorithms**, methods for computation amd accessability of tools\n",
    "    - Example: Development of effective and accessible libraries in python\n",
    "    - Much more about this later in the course...\n",
    "\n"
   ]
  },
  {
   "cell_type": "markdown",
   "metadata": {
    "slideshow": {
     "slide_type": "slide"
    }
   },
   "source": [
    "## Examples of Major Advances\n",
    "\n",
    "Innovations from data science already create enormous amounts of value and make our lives much easier. Some examples:\n",
    "- Autonomous systems: \n",
    "    - self-driving cars\n",
    "    - computer game bots, \n",
    "    - trading bots, etc.\n",
    "- Image and text recognition: \n",
    "    - face recognition (Facebook, police)\n",
    "    - language parsing with e.g. Google Translate/GPT-3 (Grammarly, auto-correct)\n",
    "- Combined services: \n",
    "    - Virtual assistants (banks, medical diagnosis)\n",
    "    - recommendation systems (amazon, spotify, netflix)\n",
    "    - classification systems (spam, tax fraud, plagiarization)\n",
    "\n",
    "[McKinsey (2018)](https://www.mckinsey.com/~/media/McKinsey/Featured%20Insights/Artificial%20Intelligence/Notes%20from%20the%20frontier%20Modeling%20the%20impact%20of%20AI%20on%20the%20world%20economy/MGI-Notes-from-the-AI-frontier-Modeling-the-impact-of-AI-on-the-world-economy-September-2018.ashx#:~:text=In%20the%20aggregate%2C%20and%20netting,about%201.2%20percent%20a%20year.&text=The%20economic%20impact%20may%20emerge%20gradually%20and%20be%20visible%20only%20over%20time.): 'Artificial Intelligence' has the potential to increase global GDP by 1.2 percent per year"
   ]
  },
  {
   "cell_type": "markdown",
   "metadata": {
    "slideshow": {
     "slide_type": "slide"
    }
   },
   "source": [
    "## Past the Peak? Illustrative example (I/II)\n",
    "For a couple of years: Data scientists had HIGHEST entry wages in DK.\n",
    "\n",
    "More recent evidence: Not top, but still high...\n",
    "\n",
    "Question: *Why did the mean relative data scientist entry wage decline?*"
   ]
  },
  {
   "cell_type": "markdown",
   "metadata": {
    "slideshow": {
     "slide_type": "slide"
    }
   },
   "source": [
    "## Past the Peak? Illustrative example (II/II)\n",
    "\n",
    "Paradoxically, this is where *you* as social scientists come into the picture!\n",
    "\n",
    "Key issue: Prediction based agenda is flawed. But opens up new opportunities:\n",
    "\n",
    "- Combine with theory: Supply and demand $-$ did supply catch up? Selection?\n",
    "- Combine with causal inference: Instruments, regression discontinuity, matching...\n",
    "\n",
    "Clearly a role for econometrics and structural modelling!"
   ]
  },
  {
   "cell_type": "markdown",
   "metadata": {
    "slideshow": {
     "slide_type": "slide"
    }
   },
   "source": [
    "## Social Data Science\n",
    "\n",
    "Social data scientists combine skills and tools from two different fields:\n",
    "- Data scientists in a nutshell (BBB):\n",
    "    - Developing algorithms that are fast and flexible\n",
    "    - Largely concerned with prediction $-$ not causal inference\n",
    "- Social scientist in a nutshell (BBB):\n",
    "    - Study human behavior and interactions\n",
    "    - Causal inference is important for understand implications of e.g. policies\n",
    "\n",
    "The skills and ideas of data science are spreading to social data science:\n",
    "- smart, free tools for working with\n",
    "    - small and big data on structured (tabular) data\n",
    "    - unstructured data sources from image, text and social media\n",
    "- incorporate machine learning into\n",
    "    - statistics and causal inference\n",
    "    - economic modelling\n",
    "   \n",
    "\n",
    "Data science complements social sciences by:\n",
    "- enhancing existing fields, and\n",
    "- oppening up for new field emerging (new data, combination of methods)\n",
    "\n"
   ]
  },
  {
   "cell_type": "markdown",
   "metadata": {
    "slideshow": {
     "slide_type": "slide"
    }
   },
   "source": [
    "# Course Overview"
   ]
  },
  {
   "cell_type": "markdown",
   "metadata": {
    "slideshow": {
     "slide_type": "slide"
    }
   },
   "source": [
    "## Module Structure\n",
    "\n",
    "Most teaching modules will have the following struture\n",
    "\n",
    "1. Before exercise class: \n",
    "    - Watch previous recorded lectures and do the reading\n",
    "    - If you have time, you may attempt to solve exercises\n",
    "2. Exercise class:\n",
    "    - Continue working on exercises\n",
    "    - Discuss with TA $-$ use the fact that they are there with the sole purpose of helping you learning\n",
    "3. Lectures: \n",
    "    - Introduces new material, but a bit different due to Covid 19\n",
    "    - The format will vary for each module: Generally...\n",
    "        - Live recap and introduction\n",
    "        - Technical content is recorded for you to watch at preferred pace\n",
    "    - While watching videos, you can ALWAYS ask questions."
   ]
  },
  {
   "cell_type": "markdown",
   "metadata": {
    "slideshow": {
     "slide_type": "slide"
    }
   },
   "source": [
    "## The Wheel of Data Science\n",
    "<br>\n",
    "<br>\n",
    "<center><img src='https://raw.githubusercontent.com/hadley/r4ds/master/diagrams/data-science.png' alt=\"Drawing\" style=\"width: 700px;\"/></center>\n"
   ]
  },
  {
   "cell_type": "markdown",
   "metadata": {
    "slideshow": {
     "slide_type": "slide"
    }
   },
   "source": [
    "## Learning Outcomes After Completing Intro SDS \n",
    "\n",
    "- Tidy / transform: Data structuring and text (sessions 1-5,15)\n",
    "- Import: Scraping and data IO (sessions 2, 6-8)\n",
    "- Visualize: Plotting (session 3)\n",
    "- Model: Fundamentals of machine learning, application to text (session 11-15)\n",
    "- Communicate: Git and markdown (covered briefly at end of talk)"
   ]
  },
  {
   "cell_type": "markdown",
   "metadata": {
    "slideshow": {
     "slide_type": "slide"
    }
   },
   "source": [
    "## What We Don't Teach You Now\n",
    "\n",
    "Many more courses that built on this\n",
    "- Statistics: Econometrics and Machine Learning - overlaps\n",
    "- More about data - modelling and processing:\n",
    "    - Text, networks/relational, spatial\n",
    "- Non-linear ML models:\n",
    "    - Tree based and kernel \n",
    "    - Neural networks\n",
    "- ML for dynamic decisions: reinforcment learning\n",
    "- All about privacy\n",
    "\n",
    "In particular, check out [Advanced SDS I](https://kurser.ku.dk/course/asdk20004u/2020-2021) and [Advanced SDS II](https://kurser.ku.dk/course/asdk20006u/2020-2021). Also sometimes possible to write a project (BA, MSc, [seminar](https://kurser.ku.dk/course/a%c3%98kk08411u/2020-2021))."
   ]
  },
  {
   "cell_type": "markdown",
   "metadata": {
    "slideshow": {
     "slide_type": "slide"
    }
   },
   "source": [
    "# Learning How to Code"
   ]
  },
  {
   "cell_type": "markdown",
   "metadata": {
    "slideshow": {
     "slide_type": "slide"
    }
   },
   "source": [
    "## Not a Free Lunch\n",
    "\n",
    "This course.. ain't easy.."
   ]
  },
  {
   "cell_type": "markdown",
   "metadata": {
    "slideshow": {
     "slide_type": "fragment"
    }
   },
   "source": [
    "But at least you get a lot of help!\n",
    "\n",
    "Learning without supervision, you may struggle with simple stuff...\n",
    "\n",
    "- - -\n",
    "\n",
    "<center><img src='https://media.giphy.com/media/h36vh423PiV9K/giphy.gif' alt=\"Drawing\" style=\"width: 400px;\"/></center>\n"
   ]
  },
  {
   "cell_type": "markdown",
   "metadata": {
    "slideshow": {
     "slide_type": "slide"
    }
   },
   "source": [
    "## Some Encouragement"
   ]
  },
  {
   "cell_type": "markdown",
   "metadata": {
    "slideshow": {
     "slide_type": "fragment"
    }
   },
   "source": [
    "#### Hadley Wickham\n",
    "\n",
    "> The bad news is that when ever you learn a new skill **you’re going to suck**. It’s going to be **frustrating**. The good news is that is typical and **happens to everyone** and it is **only temporary**. You can’t go from knowing nothing to becoming an expert without going through a **period of great frustration** and great suckiness.\n"
   ]
  },
  {
   "cell_type": "markdown",
   "metadata": {
    "slideshow": {
     "slide_type": "fragment"
    }
   },
   "source": [
    "#### Kosuke Imai\n",
    "\n",
    "> One can learn data analysis **only by doing**, not by reading."
   ]
  },
  {
   "cell_type": "markdown",
   "metadata": {
    "slideshow": {
     "slide_type": "slide"
    }
   },
   "source": [
    "## Light at the End.."
   ]
  },
  {
   "cell_type": "markdown",
   "metadata": {
    "slideshow": {
     "slide_type": "fragment"
    }
   },
   "source": [
    "Why would you go through this pain? You choose one of two paths after this course..."
   ]
  },
  {
   "cell_type": "markdown",
   "metadata": {
    "slideshow": {
     "slide_type": "fragment"
    }
   },
   "source": [
    "i. You move on, you forget some or most of the material."
   ]
  },
  {
   "cell_type": "markdown",
   "metadata": {
    "slideshow": {
     "slide_type": "fragment"
    }
   },
   "source": [
    "ii. You are lit and your life has changed. \n",
    "- You may return to become a better sociologist, anthropologit, economist etc.\n",
    "- Or, you may continue along the new track of data science.\n",
    "- In any case, you keep learning and expanding your programming skills."
   ]
  },
  {
   "cell_type": "markdown",
   "metadata": {
    "slideshow": {
     "slide_type": "slide"
    }
   },
   "source": [
    "## Advice for Coding\n",
    "\n",
    "Three pieces of advice that will take you far!\n",
    "\n",
    "1. Be careful: Think before you code $-$ what you are trying to make it do?\n",
    "\n",
    "2. Be lazy: Reuse code and write Reusable code (e.g. functions)\n",
    "\n",
    "3. Make understandable: Think about audience!\n",
    "    1. Future you? May not recall this at all.    \n",
    "    1. Group members or world? May not understand!\n",
    "    1. Write lots of comments and potentially background explanation/documentation\n",
    "    \n"
   ]
  },
  {
   "cell_type": "markdown",
   "metadata": {
    "slideshow": {
     "slide_type": "slide"
    }
   },
   "source": [
    "## Advice for Learning to Code\n",
    "\n",
    "- Maintain healthy curiousity  $-$  how could we do things better?\n",
    "- Practice and try as much as possible\n",
    "- Type the code in yourself  $-$ then you see what is going on.\n"
   ]
  },
  {
   "cell_type": "markdown",
   "metadata": {
    "slideshow": {
     "slide_type": "slide"
    }
   },
   "source": [
    "# Python vs. R (vs. Julia)"
   ]
  },
  {
   "cell_type": "markdown",
   "metadata": {
    "slideshow": {
     "slide_type": "slide"
    }
   },
   "source": [
    "## Tradeoff?\n",
    "\n",
    "- Each language has their own advantages and similarities (my opinion)\n",
    "\n",
    "|                     | Python | R | Julia |\n",
    "|---------------------|--------|---|---|\n",
    "| Data structuring    | X      | X | |\n",
    "| Plotting            | X      | X | |\n",
    "| Machine learning    | X      |   | |\n",
    "| Statistics          |        | X | |\n",
    "| General programming and modelling | X      |   | (X)|\n",
    "| Ease of learning    | X      |   | |\n"
   ]
  },
  {
   "cell_type": "markdown",
   "metadata": {
    "slideshow": {
     "slide_type": "fragment"
    }
   },
   "source": [
    "- Tools are increasingly integrated\n",
    "    - Jupyter a shared framework for data science \n",
    "    - New software allows direct execution side-by-side: use R within python (vice versa)\n",
    "    - New tools becoming available across languages, e.g. data processing engine (arrow)\n",
    "    \n"
   ]
  },
  {
   "cell_type": "markdown",
   "metadata": {
    "slideshow": {
     "slide_type": "fragment"
    }
   },
   "source": [
    "Advice: don't worry. It's likely you need to learn more than one language."
   ]
  },
  {
   "cell_type": "markdown",
   "metadata": {
    "slideshow": {
     "slide_type": "slide"
    }
   },
   "source": [
    "# Python $-$ Advanced Concepts and Useful Tips\n"
   ]
  },
  {
   "cell_type": "markdown",
   "metadata": {
    "slideshow": {
     "slide_type": "slide"
    }
   },
   "source": [
    "## Making Code Reusable\n"
   ]
  },
  {
   "cell_type": "markdown",
   "metadata": {
    "slideshow": {
     "slide_type": "slide"
    }
   },
   "source": [
    "### Functions\n",
    "Be careful of how you define input/outputs and how objects are created. In particular:"
   ]
  },
  {
   "cell_type": "markdown",
   "metadata": {
    "slideshow": {
     "slide_type": "fragment"
    }
   },
   "source": [
    "- Globals: Objects defined outside function\n",
    "    - Note: These are available both locally and globally (although, they can be overwritten)\n",
    "- Locals: Objects that are created within a sub-level. \n",
    "    - Example: objects defined inside a function\n",
    "    - Cannot use outside, unless we use `return`"
   ]
  },
  {
   "cell_type": "markdown",
   "metadata": {
    "slideshow": {
     "slide_type": "slide"
    }
   },
   "source": [
    "### Checklist for Functions\n",
    "Some key questions that you should often ask yourself:\n",
    "- Should I write a function?\n",
    "    - If you are repeating some process: Yes!\n",
    "    - Makes code easier to write (better overview, less mistakes) and read\n",
    "- If yes:\n",
    "    - What do you intend the function to output? Is the correct output returned?\n",
    "    - Do you use locals where possible? \n",
    "    - Are globals assigned before you define the function in notebook/script?\n",
    "        - (if not, your function may fail! Reason: some used globals are not defined)\n"
   ]
  },
  {
   "cell_type": "markdown",
   "metadata": {
    "slideshow": {
     "slide_type": "slide"
    }
   },
   "source": [
    "### Classes \n",
    "Where do objects come from?"
   ]
  },
  {
   "cell_type": "markdown",
   "metadata": {},
   "source": [
    "- From a collection of pre-defined attributes and methods $-$ this is called a `class`.\n",
    "- We can make our own. It is complex, but powerful.\n",
    "- Examples of classes/objects we will see: \n",
    "    - Dataframes, scraping tools, machine learning models etc.\n",
    "    - (everything is an object)"
   ]
  },
  {
   "cell_type": "markdown",
   "metadata": {
    "slideshow": {
     "slide_type": "slide"
    }
   },
   "source": [
    "## Copy vs. View\n",
    "\n",
    "Important, when writing code `A = B`, then `A` is only a reference to `B`!\n",
    "\n",
    "- In other words: `A` is a **view** of `B`\n",
    "- Implication \n",
    "    - if `A` is mutable, e.g. list, dataframe: changes to `B` shows up in `A` and vice versa \n",
    "\n",
    "We can break this dependency by explicitly making **copy**. \n",
    "- For instance, in pandas use `A = B.copy()` method\n",
    "\n"
   ]
  },
  {
   "cell_type": "markdown",
   "metadata": {
    "slideshow": {
     "slide_type": "slide"
    }
   },
   "source": [
    "## Coding That is Fast"
   ]
  },
  {
   "cell_type": "markdown",
   "metadata": {
    "slideshow": {
     "slide_type": "slide"
    }
   },
   "source": [
    "### One-liners using comprehensions\n",
    "\n",
    "A very compact way of writing code: *comprehension*. Example of list comprehension:\n",
    "```python\n",
    "new_list = [my_proc(a) for a in my_list] \n",
    "```\n",
    "\n",
    "The new thing is that we define loop inside the list! \n"
   ]
  },
  {
   "cell_type": "code",
   "execution_count": 25,
   "metadata": {},
   "outputs": [
    {
     "name": "stdout",
     "output_type": "stream",
     "text": [
      "my_list: [1, 2, 3, 4, 5, 6, 7, 8, 9, 10]\n",
      "new_list: [1, 4, 9, 16, 25, 36, 49, 64, 81, 100]\n"
     ]
    }
   ],
   "source": [
    "# Define function\n",
    "def my_proc(a):\n",
    "    return a**2\n",
    "\n",
    "# Generate a list\n",
    "my_list = []\n",
    "for i in range(10):\n",
    "    my_list.append(i+1)\n",
    "\n",
    "# Use line from before to generate transformation \n",
    "new_list = [my_proc(a) for a in my_list]\n",
    "\n",
    "# Print lists\n",
    "print('my_list:', my_list)\n",
    "print('new_list:', new_list)"
   ]
  },
  {
   "cell_type": "markdown",
   "metadata": {
    "slideshow": {
     "slide_type": "slide"
    }
   },
   "source": [
    "### The Need for Speed\n",
    "Python is elegant and simple\n",
    "\n",
    "However, Python is NOT built for speed. \n",
    "\n",
    "We can compensate by using smart packages that have fast algorithms, e.g. numpy and pandas\n"
   ]
  },
  {
   "cell_type": "markdown",
   "metadata": {
    "slideshow": {
     "slide_type": "slide"
    }
   },
   "source": [
    "### Vectorization\n",
    "\n",
    "An alternative is to write our code in terms of numpy arrays.\n",
    "\n",
    "In example below, we generate a long list by making some transformation of an input... we get around 30 times speed-up by using numpy!"
   ]
  },
  {
   "cell_type": "code",
   "execution_count": 41,
   "metadata": {},
   "outputs": [
    {
     "name": "stdout",
     "output_type": "stream",
     "text": [
      "1.07 s ± 98.7 ms per loop (mean ± std. dev. of 7 runs, 1 loop each)\n"
     ]
    }
   ],
   "source": [
    "%%timeit \n",
    "[i+3 for i in range(10**7)]"
   ]
  },
  {
   "cell_type": "code",
   "execution_count": 42,
   "metadata": {},
   "outputs": [],
   "source": [
    "import numpy as np"
   ]
  },
  {
   "cell_type": "code",
   "execution_count": 43,
   "metadata": {},
   "outputs": [
    {
     "name": "stdout",
     "output_type": "stream",
     "text": [
      "32.2 ms ± 1.25 ms per loop (mean ± std. dev. of 7 runs, 10 loops each)\n"
     ]
    }
   ],
   "source": [
    "%%timeit\n",
    "np.arange(10**7)+3"
   ]
  },
  {
   "cell_type": "markdown",
   "metadata": {
    "slideshow": {
     "slide_type": "slide"
    }
   },
   "source": [
    "### Take Away on Speed\n",
    "\n",
    "Use pandas or numpy - they are optimized for speed! \n",
    "\n",
    "Why are pandas and numpy fast? \n",
    "\n",
    "- Because they are written in fast, low-level code with optimized algorithms! \n",
    "\n",
    "Why are we not learning low level? \n",
    "- Requires too much space for simple operations - not efficient!\n",
    "- Too steep learning curve (not like Python!!)"
   ]
  },
  {
   "cell_type": "markdown",
   "metadata": {
    "slideshow": {
     "slide_type": "slide"
    }
   },
   "source": [
    "# Power tools: git and markdown"
   ]
  },
  {
   "cell_type": "markdown",
   "metadata": {
    "slideshow": {
     "slide_type": "slide"
    }
   },
   "source": [
    "## Git, a non-technical overview\n",
    "\n",
    "Git is a tool for command line:"
   ]
  },
  {
   "cell_type": "markdown",
   "metadata": {
    "slideshow": {
     "slide_type": "fragment"
    }
   },
   "source": [
    "1) \"Track changes\" system for files\n",
    "- A log of all changes is kept - from nothing to current version\n",
    "- All changes are explicitly declared by you, may annotate\n",
    "  - You can try out things, but only save meaningful changes!"
   ]
  },
  {
   "cell_type": "markdown",
   "metadata": {
    "slideshow": {
     "slide_type": "fragment"
    }
   },
   "source": [
    "2) Share the files you want, how you want \n",
    "- A git folder, called **repository**, can be copied by others\n",
    "- Many sites allow public and private repositories - you decide access\n",
    "    \n"
   ]
  },
  {
   "cell_type": "markdown",
   "metadata": {
    "slideshow": {
     "slide_type": "fragment"
    }
   },
   "source": [
    "Not covered explicitly in course. Learn to use point-and-click version for fetching files."
   ]
  },
  {
   "cell_type": "markdown",
   "metadata": {
    "slideshow": {
     "slide_type": "slide"
    }
   },
   "source": [
    "## Markdown\n",
    "\n",
    "[LaTeX](https://en.wikipedia.org/wiki/LaTeX) can create beautiful scientific documents.\n",
    "\n",
    "Problem - background code is heavy to read. Is there alternative?"
   ]
  },
  {
   "cell_type": "markdown",
   "metadata": {
    "slideshow": {
     "slide_type": "fragment"
    }
   },
   "source": [
    "Yes: markdown. Like python, keeps code simple. Example:\n",
    "        \n",
    "Making italic text:\n",
    "- markdown: `*Some text*`\n",
    "- LaTeX: `\\textit{Some text}`\n",
    "\n",
    "How do you learn it? Open our notebook cells or see tutorial in reading lsit"
   ]
  },
  {
   "cell_type": "markdown",
   "metadata": {
    "slideshow": {
     "slide_type": "slide"
    }
   },
   "source": [
    "# Outro\n",
    "\n",
    "- Coding is tough, but worth learning\n",
    "    - Also for social scientists\n",
    "- You can dig deeper into\n",
    "   - Advanced python\n",
    "   - Git for saving and sharing code\n",
    "   \n",
    "- Next lecture this afternoon: Strings, queries and APIs"
   ]
  }
 ],
 "metadata": {
  "celltoolbar": "Slideshow",
  "kernelspec": {
   "display_name": "Python 3",
   "language": "python",
   "name": "python3"
  },
  "language_info": {
   "codemirror_mode": {
    "name": "ipython",
    "version": 3
   },
   "file_extension": ".py",
   "mimetype": "text/x-python",
   "name": "python",
   "nbconvert_exporter": "python",
   "pygments_lexer": "ipython3",
   "version": "3.8.5"
  }
 },
 "nbformat": 4,
 "nbformat_minor": 4
}
