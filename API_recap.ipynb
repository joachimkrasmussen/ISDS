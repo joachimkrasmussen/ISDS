{
 "cells": [
  {
   "cell_type": "markdown",
   "metadata": {
    "slideshow": {
     "slide_type": "slide"
    }
   },
   "source": [
    "# Session API Recap\n",
    "\n",
    "*Joachim Kahr Rasmussen*"
   ]
  },
  {
   "cell_type": "markdown",
   "metadata": {
    "slideshow": {
     "slide_type": "slide"
    }
   },
   "source": [
    "## Recap (I/II) \n",
    "\n",
    "Git is popular for file sharing and collaborative coding\n",
    "- **Track changes** system for files (log of all changes is kept)\n",
    "- **Share the files** you want, how you want (you can 'copy' repositories)\n",
    "\n",
    "Markdown is an easy and flexible alternative to LaTeX for building slides:\n",
    "- **Coding** is easy and fast!\n",
    "- Works well with **Jupyter**"
   ]
  },
  {
   "cell_type": "markdown",
   "metadata": {
    "slideshow": {
     "slide_type": "slide"
    }
   },
   "source": [
    "## Recap (II/II) \n",
    "\n",
    "With Python, we can easily work with **text as data**:\n",
    "- We can **manipulate strings** in very flexible ways (e.g. 'join', 'replace' and 'split')\n",
    "- Strings and lists work much the same ways ('slice', 'concatenation' and '')\n",
    "\n",
    "With Python, we can also easily **interact with the web**:\n",
    "- When we are lucky, data comes in the form of **APIs** which are easy to fetch\n",
    "- When we are not that lucky, one may need to navigate with **html** (future sessions)\n",
    "\n",
    "We can **save text data** in various ways:\n",
    "- Easy to save files as simple **txt-files**\n",
    "- **JSON** is a popular file format well suited for storing dictionaries and lists of data"
   ]
  }
 ],
 "metadata": {
  "celltoolbar": "Slideshow",
  "kernelspec": {
   "display_name": "Python 3",
   "language": "python",
   "name": "python3"
  },
  "language_info": {
   "codemirror_mode": {
    "name": "ipython",
    "version": 3
   },
   "file_extension": ".py",
   "mimetype": "text/x-python",
   "name": "python",
   "nbconvert_exporter": "python",
   "pygments_lexer": "ipython3",
   "version": "3.8.5"
  }
 },
 "nbformat": 4,
 "nbformat_minor": 4
}
