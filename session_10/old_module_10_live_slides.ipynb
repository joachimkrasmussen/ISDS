{
 "cells": [
  {
   "cell_type": "markdown",
   "metadata": {
    "slideshow": {
     "slide_type": "slide"
    }
   },
   "source": [
    "# Session 10: Machine Learning Introduction\n",
    "\n",
    "*Joachim Kahr Rasmussen*"
   ]
  },
  {
   "cell_type": "markdown",
   "metadata": {
    "slideshow": {
     "slide_type": "slide"
    }
   },
   "source": [
    "## What Have We Learned Until Now? (I/II)"
   ]
  },
  {
   "cell_type": "markdown",
   "metadata": {},
   "source": [
    "Python fundamentals (assignment 0)\n",
    "- Data types: Integers, strings, booleans, etc.\n",
    "- Containers: Tuples, lists, dicts, etc.\n",
    "- Loops: For, while\n",
    "- Functions"
   ]
  },
  {
   "cell_type": "markdown",
   "metadata": {},
   "source": [
    "Session 2-3: Data structuring in pandas\n",
    "- The fundamentals:\n",
    "    - Introduction to DataFrames and Series and native handling of data types\n",
    "    - Data representation: Column/row navigation and naming\n",
    "    - Method chaining: Writing something complicated in few lines\n",
    "- Cleaning and preparation:\n",
    "    - Combining data: `merge` (key-based) and `concat`/`join` (index-based)\n",
    "    - Duplicates and missings: `.dropna()`, `.fillna()`, `.drop_duplicates()` and more\n",
    "    - Data shape: `.stack()`, `.unstack()`\n",
    "    - Data aggregation: `.groupby()`, *split-apply-combine*"
   ]
  },
  {
   "cell_type": "markdown",
   "metadata": {
    "slideshow": {
     "slide_type": "slide"
    }
   },
   "source": [
    "## What Have We Learned Until Now? (II/II)"
   ]
  },
  {
   "cell_type": "markdown",
   "metadata": {},
   "source": [
    "Session 4: Plotting in Python\n",
    "- Exploratory vs. explanatory plots\n",
    "- The grammar of graphics\n",
    "- `seaborn` vs `matplotlib` vs `pandas`"
   ]
  },
  {
   "cell_type": "markdown",
   "metadata": {},
   "source": [
    "Session 5-8: Interacting with the Web and scraping\n",
    "- String operations\n",
    "- API vs HTML\n",
    "- Regex, Selenium"
   ]
  },
  {
   "cell_type": "markdown",
   "metadata": {
    "slideshow": {
     "slide_type": "fragment"
    }
   },
   "source": [
    "Session 9: Ethics\n",
    "- Ethical concers: Privacy, statistical discrimination, business ethics, etc.\n",
    "- Legal concerns: GDPR, consent to data collection\n",
    "- Hacking"
   ]
  },
  {
   "cell_type": "markdown",
   "metadata": {
    "slideshow": {
     "slide_type": "slide"
    }
   },
   "source": [
    "# Questions from Earlier Sessions\n",
    "\n",
    "I have tried to gather some questions that seemed to address more general issues:\n",
    "- *4432*\n",
    "\n",
    "Other questions?\n"
   ]
  },
  {
   "cell_type": "markdown",
   "metadata": {
    "slideshow": {
     "slide_type": "slide"
    }
   },
   "source": [
    "## Where Are We Now?\n",
    "\n",
    "Recall the wheel of data science - we are now at the \"model\" part\n",
    "\n",
    "<br>\n",
    "<center><img src='https://raw.githubusercontent.com/hadley/r4ds/master/diagrams/data-science.png' alt=\"Drawing\" style=\"width: 1000px;\"/></center>\n"
   ]
  },
  {
   "cell_type": "markdown",
   "metadata": {
    "slideshow": {
     "slide_type": "slide"
    }
   },
   "source": [
    "# Overview of Session 10\n",
    "\n",
    "Today, we will introduce stastical modelling and the fundamental ideas behind machine learning. In particular, we will cover:\n",
    "1. Why modelling (live)\n",
    "    - What are you plotting?\n",
    "    - Why we plot\n",
    "    - Why are you plotting?\n",
    "2. Review of math and statistics: "
   ]
  },
  {
   "cell_type": "markdown",
   "metadata": {
    "slideshow": {
     "slide_type": "slide"
    }
   },
   "source": [
    "# Associated Readings\n"
   ]
  },
  {
   "cell_type": "markdown",
   "metadata": {
    "slideshow": {
     "slide_type": "slide"
    }
   },
   "source": [
    "# Why We Use Models"
   ]
  },
  {
   "cell_type": "markdown",
   "metadata": {
    "slideshow": {
     "slide_type": "slide"
    }
   },
   "source": [
    "## Function Fitting\n",
    "*What does (supervised) machine learning do?*"
   ]
  },
  {
   "cell_type": "markdown",
   "metadata": {
    "slideshow": {
     "slide_type": "fragment"
    }
   },
   "source": [
    "Suppose that....\n",
    "- we have data with some outcome $y$, and\n",
    "- we want to model/predict this outcome from (a $d\\times1$-dimensional matrix/vector of) input features $\\mathbf{x}$.\n",
    "\n",
    "The aim is now to find a function $f$ such that the distance between actual values $y$ and predicted values $f(x)$ are minimized."
   ]
  },
  {
   "cell_type": "markdown",
   "metadata": {
    "slideshow": {
     "slide_type": "fragment"
    }
   },
   "source": [
    "*What are some examples used in social sciences?*"
   ]
  },
  {
   "cell_type": "markdown",
   "metadata": {
    "slideshow": {
     "slide_type": "fragment"
    }
   },
   "source": [
    "- Linear form: $y=x^T\\beta$.\n",
    "- Non-linear form: $y=g(x^T\\beta)=1/\\left(1+\\text{e}^{-\\boldsymbol{x}^T\\boldsymbol{\\beta}}\\right)$, e.g. $g$ is a logistic function\n",
    "\n",
    "where $x$ is a 1-dimensional array of numbers, e.g.\n",
    "\\begin{align}\\boldsymbol{x}=[x_0,x_1,x_2,..,x_d]\\end{align}\n",
    "\n",
    "and $x^T\\beta=\\beta_0+x_1\\beta_1+x_2\\beta_2+...+x_d\\beta_d$ (a linear index / vector dot product)\n",
    "\n",
    "\n"
   ]
  },
  {
   "cell_type": "markdown",
   "metadata": {
    "slideshow": {
     "slide_type": "slide"
    }
   },
   "source": [
    "## Why We Bother\n",
    "\n",
    "*Why not just stop at visualization?* "
   ]
  },
  {
   "cell_type": "markdown",
   "metadata": {
    "slideshow": {
     "slide_type": "slide"
    }
   },
   "source": [
    "Models combined with formalized statistical methods allow us to:\n",
    "- get qualified answer about hypothesis using statistics, i.e. causal inference and policy evaluation\n",
    "- predict things, e.g. sales tomorrow, spread of epidemics, weather\n",
    "- think about much more complicated relationships than what we can possibly eyeball in a graph"
   ]
  },
  {
   "cell_type": "markdown",
   "metadata": {
    "slideshow": {
     "slide_type": "slide"
    }
   },
   "source": [
    "*Do we all bother for the same reasons?*"
   ]
  },
  {
   "cell_type": "markdown",
   "metadata": {
    "slideshow": {
     "slide_type": "slide"
    }
   },
   "source": [
    "No, models are pursued with differens aims. Putting it simple:\n",
    "\n",
    "Suppose we have a linear model, $y=x\\beta+\\epsilon$.\n",
    "- A social scientist would generally say:\n",
    "    - Models teach us something about the world.\n",
    "    - We want to estimate $\\hat{\\beta}$ and potentially a distribution\n",
    "    - Can we make causal inference?\n",
    "- A data scientist would generally say:\n",
    "    - Models help us make optimal future decisions and precise predictions, i.e. $\\hat{y}$, on new data.  "
   ]
  },
  {
   "cell_type": "markdown",
   "metadata": {
    "slideshow": {
     "slide_type": "slide"
    }
   },
   "source": [
    "# Continuing to the Exercises\n",
    "\n",
    "In the combined teaching module and exercise set, you will:\n",
    "- get an introduction to modelling using data\n",
    "- get an introduction to core concepts and ideas in machine learning\n",
    "- get your first taste of how machine learning algorithms are constructed. In particular:\n",
    "    - implement a [_perceptron_](https://en.wikipedia.org/wiki/Perceptron) model from scratch using the matrix-algebra library NumPy\n",
    "    - train this model on the iris data to predict flower types. "
   ]
  },
  {
   "cell_type": "markdown",
   "metadata": {
    "slideshow": {
     "slide_type": "slide"
    }
   },
   "source": [
    "Many of the concepts from both programming and machine learning are probably new to most of you.\n",
    "- Don't be afraid to ask questions about either! \n",
    "- Note: Much of this lecture/exercise set lays the foundation for the upcoming sessions. "
   ]
  }
 ],
 "metadata": {
  "celltoolbar": "Slideshow",
  "kernelspec": {
   "display_name": "Python 3",
   "language": "python",
   "name": "python3"
  },
  "language_info": {
   "codemirror_mode": {
    "name": "ipython",
    "version": 3
   },
   "file_extension": ".py",
   "mimetype": "text/x-python",
   "name": "python",
   "nbconvert_exporter": "python",
   "pygments_lexer": "ipython3",
   "version": "3.8.5"
  }
 },
 "nbformat": 4,
 "nbformat_minor": 2
}
