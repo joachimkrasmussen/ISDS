{
 "cells": [
  {
   "cell_type": "markdown",
   "metadata": {},
   "source": [
    "# Exercise Set 3: Strings, requests and APIs\n",
    "\n",
    "*Morning, August 13, 2019*\n",
    "\n",
    "In this exercise set you will be working with collecting from the web. We will start out with some basic string operations and build on that to make a query for fetching data.\n",
    "\n",
    "In addition to DataCamp, you might find [this page](https://pythonprogramming.net/string-concatenation-formatting-intermediate-python-tutorial/) on pythonprogramming.net useful. [This page](https://www.python-course.eu/python3_sequential_data_types.php) give an introduction to the basics of strings and their related data types. "
   ]
  },
  {
   "cell_type": "markdown",
   "metadata": {},
   "source": [
    "## Exercise Section 3.1: Basic string operations and dictionaries"
   ]
  },
  {
   "cell_type": "markdown",
   "metadata": {},
   "source": [
    "Strings have multiple operations and functions associated. In this exercise we investigate a few of these. We also explore the sequence form of a string and how it can be sliced and accessed via indices.\n",
    "\n",
    "> **Ex. 3.1.1**: Let `s1='Chameleon'` and `s2='ham'`. Check whether the string `s2` is a substring of `s1`. Is `'hello'` a substring `'goodbye'`?\n",
    "\n",
    "> *Hint*: One string operation is to check whether a string `S` contains a substring `T`, this can be done with the `in` operator: `S in T`. "
   ]
  },
  {
   "cell_type": "code",
   "execution_count": 5,
   "metadata": {},
   "outputs": [],
   "source": [
    "# [Answer to Ex. 3.1.1]"
   ]
  },
  {
   "cell_type": "code",
   "execution_count": 4,
   "metadata": {},
   "outputs": [
    {
     "name": "stdout",
     "output_type": "stream",
     "text": [
      "True\n",
      "False\n"
     ]
    }
   ],
   "source": [
    "s1 = 'Chameleon'\n",
    "s2 = 'ham'\n",
    "\n",
    "print(s2 in s1)\n",
    "\n",
    "print('hello' in 'goodbye')"
   ]
  },
  {
   "cell_type": "markdown",
   "metadata": {},
   "source": [
    "> **Ex. 3.1.2**: From the string `s1` select the last four characters. What is the index of the character `a` in `s1`?\n",
    "\n",
    "> *Hint*: We can selecting a substring by slicing it with the `[]` notation, from the start to end where start is included and end is excluded. Recall that Python has zero-based indexing, see explanation [here](https://softwareengineering.stackexchange.com/questions/110804/why-are-zero-based-arrays-the-norm).\n"
   ]
  },
  {
   "cell_type": "code",
   "execution_count": 5,
   "metadata": {},
   "outputs": [],
   "source": [
    "# [Answer to Ex. 3.1.2]"
   ]
  },
  {
   "cell_type": "code",
   "execution_count": 7,
   "metadata": {},
   "outputs": [
    {
     "name": "stdout",
     "output_type": "stream",
     "text": [
      "leon\n",
      "2\n"
     ]
    }
   ],
   "source": [
    "print(s1[-4:])\n",
    "\n",
    "print(s1.index('a'))"
   ]
  },
  {
   "cell_type": "markdown",
   "metadata": {},
   "source": [
    "In addition to the techniques above, strings are equipped with an array of _methods_, for solving more complex tasks. \n",
    "\n",
    "For example the `str.join(list)` method will insert a string in between each element of a list. \n",
    "\n",
    "Oppositely `str1.split(str2)` splits `str1` into a list. \n",
    "\n",
    "The technique `.strip()` removes spaces in the beginning and end of a word. \n",
    "\n",
    "Finally, `.format()` fills in specified blanks in a string.  Below we illustrate the use of each function\n",
    "\n",
    "```python\n",
    ">>> ','.join(['a','b']) \n",
    "'a,b'\n",
    "\n",
    ">>> ' Hello World! '.strip() \n",
    "'Hello World!'\n",
    "\n",
    ">>> 'Hello {w}'.format(w='World!') \n",
    "'Hello World!'\n",
    "\n",
    ">>> 'a,b,c'.split(',') \n",
    "['a','b','c']\n",
    "```"
   ]
  },
  {
   "cell_type": "markdown",
   "metadata": {},
   "source": [
    "> **Ex. 3.1.3:** Let `l1 = ['r ', 'Is', '>', ' < ', 'g ', '?']`. Create from `l1` the sentence \"Is r > g?\" using your knowledge about string formatting. Make sure there is only one space in between worlds.\n",
    ">\n",
    ">> _Hint:_ You should be able to combine the above informations to solve this exercise."
   ]
  },
  {
   "cell_type": "code",
   "execution_count": 5,
   "metadata": {},
   "outputs": [],
   "source": [
    "# [Answer to Ex. 3.1.3]"
   ]
  },
  {
   "cell_type": "code",
   "execution_count": 32,
   "metadata": {},
   "outputs": [
    {
     "data": {
      "text/plain": [
       "'Is r > g?'"
      ]
     },
     "execution_count": 32,
     "metadata": {},
     "output_type": "execute_result"
    }
   ],
   "source": [
    "l1 = ['r ', 'Is', '>', ' < ', 'g ', '?']\n",
    "l2 = [l1[x].strip() for x in range(len(l1))]\n",
    "' '.join([l2[1], l2[0], l2[2], l2[-2]])+l2[-1]"
   ]
  },
  {
   "cell_type": "markdown",
   "metadata": {},
   "source": [
    "### Dictionaries\n",
    "\n",
    "Dictionaries (or simply dicts) are a central building block of python. Python dicts are constructed from pairs of keys and values making them extremely versatile for data storage. Furthermore dicts correspond directly to the json file format.  \n",
    "\n",
    "> **Ex. 3.1.4**: Create an empty dictionary `words` using the `dict()`function. Then add each of the words in `['animal', 'coffee', 'python', 'unit', 'knowledge', 'tread', 'arise']` as a key, with the value being a boolean indicator for whether the word begins with a vowel. The results should look like `{'bacon': False, 'asynchronous': True ...}`\n",
    ">\n",
    ">> _Hint:_ You might want co first construct a function that asseses whether a given word begins with a vowel or not."
   ]
  },
  {
   "cell_type": "code",
   "execution_count": 7,
   "metadata": {},
   "outputs": [],
   "source": [
    "# [Answer to Ex. 3.1.4]"
   ]
  },
  {
   "cell_type": "code",
   "execution_count": 49,
   "metadata": {},
   "outputs": [
    {
     "name": "stdout",
     "output_type": "stream",
     "text": [
      "{'animal': True, 'coffee': False, 'python': False, 'unit': True, 'knowledge': False, 'tread': False, 'arise': True}\n"
     ]
    }
   ],
   "source": [
    "words = {}\n",
    "keys = ['animal', 'coffee', 'python', 'unit', 'knowledge', 'tread', 'arise']\n",
    "vowels = ['a', 'e', 'i', 'o', 'u', 'y']\n",
    "\n",
    "#def my_fun(key, vowels):\n",
    "#    return key[0] in vowels\n",
    "\n",
    "#for i in keys:\n",
    "#    words[i] = my_fun(i, vowels)\n",
    "\n",
    "for i in keys:\n",
    "    words[i] = i[0] in vowels\n",
    "    \n",
    "print(words)"
   ]
  },
  {
   "cell_type": "markdown",
   "metadata": {},
   "source": [
    "> **Ex. 3.1.5:** Loop through the dictionary `words`. In each iteration you should print a proper sentence stating if the current word begins with a vowel or not. \n",
    "\n",
    "> _Hint:_ You can loop through both keys and values simultaneously with the `.items()` method. [This](https://www.tutorialspoint.com/python/python_dictionary.htm) might help you."
   ]
  },
  {
   "cell_type": "code",
   "execution_count": 9,
   "metadata": {},
   "outputs": [],
   "source": [
    "# [Answer to Ex. 3.1.5]"
   ]
  },
  {
   "cell_type": "code",
   "execution_count": 56,
   "metadata": {},
   "outputs": [
    {
     "name": "stdout",
     "output_type": "stream",
     "text": [
      "Animal begins with vowel!\n",
      "No... Coffee does not begin with a vowel...\n",
      "No... Python does not begin with a vowel...\n",
      "Unit begins with vowel!\n",
      "No... Knowledge does not begin with a vowel...\n",
      "No... Tread does not begin with a vowel...\n",
      "Arise begins with vowel!\n"
     ]
    }
   ],
   "source": [
    "for key in keys:\n",
    "    if words[key]==True:\n",
    "        print(\"{word} begins with vowel!\".format(word=key.capitalize()))\n",
    "    else:\n",
    "        print(\"No... {word} does not begin with a vowel...\".format(word=key.capitalize()))"
   ]
  },
  {
   "cell_type": "markdown",
   "metadata": {},
   "source": [
    "<br>\n",
    "\n",
    "## Exercise Section 3.2: The punk API\n",
    "The [punk API](https://punkapi.com/) serves information about _beers_. It is a well made and well documented API which makes it great for learning about APIs. \n",
    "\n",
    "> **Ex. 3.2.1:** Read the documentation on the Punk API available [here](https://punkapi.com/documentation/v2). What is the server url (i.e. root endpoint) of the Punk API? Does it require authentication? Then use the Punk API to make a request for beers brewed before December, 2008 with an ABV of at least 8."
   ]
  },
  {
   "cell_type": "code",
   "execution_count": 11,
   "metadata": {},
   "outputs": [],
   "source": [
    "# [Answer to Ex. 3.2.1]"
   ]
  },
  {
   "cell_type": "code",
   "execution_count": 59,
   "metadata": {},
   "outputs": [],
   "source": [
    "import requests\n",
    "\n",
    "url = \"https://api.punkapi.com/v2/beers?brewed_before=12-2008&abv_gt=8\"\n",
    "\n",
    "response = requests.get(url)\n",
    "response.text"
   ]
  },
  {
   "cell_type": "markdown",
   "metadata": {},
   "source": [
    "> **Ex. 3.2.2:** What object type is the API's JSON response? What about the individual items in the container? Convert the response object to a suitable format and answer the following questions:\n",
    ">> 1) How many beers are in the JSON object?\n",
    ">>\n",
    ">> 2) Print the names of the beers in the JSON object using lower case characters.\n",
    ">>\n",
    ">> 3) Select the beer called Paradox Islay from the JSON object.\n",
    ">>\n",
    ">> 4) Which hop ingredients does the Paradox Islay contain?\n"
   ]
  },
  {
   "cell_type": "code",
   "execution_count": 120,
   "metadata": {},
   "outputs": [
    {
     "name": "stdout",
     "output_type": "stream",
     "text": [
      "There are 4 beers satisfying criteria.\n",
      "The names of the beers are Zephyr, Paradox Islay, Coffee Imperial Stout, and AB:03\n",
      "The different types of hops used in Paradox Islay are Columbus, Saaz, and First Gold\n"
     ]
    }
   ],
   "source": [
    "import pandas as pd\n",
    "response_json = response.json()\n",
    "\n",
    "print(\"There are {number} beers satisfying criteria.\".format(number=len(response_json)))\n",
    "\n",
    "names=[]\n",
    "for i in range(len(response_json)):\n",
    "    if i<len(response_json)-1:\n",
    "        names.append(response_json[i]['name'])\n",
    "    else:\n",
    "        names.append(\"and \" + response_json[i]['name'])\n",
    "    \n",
    "print(\"The names of the beers are \" + ', '.join(names))\n",
    "\n",
    "pi = response_json[names.index('Paradox Islay')]\n",
    "hops=[]\n",
    "for i in range(len(pi['ingredients']['hops'])):\n",
    "    if i<len(pi['ingredients']['hops'])-1:\n",
    "        hops.append(pi['ingredients']['hops'][i]['name'])\n",
    "    else:\n",
    "        hops.append(\"and \" + pi['ingredients']['hops'][i]['name'])\n",
    "\n",
    "hops = list(dict.fromkeys(hops))        \n",
    "        \n",
    "print(\"The different types of hops used in Paradox Islay are \" + ', '.join(hops))\n",
    "\n",
    "#train = pd.DataFrame.from_dict(response_json)\n",
    "#train"
   ]
  },
  {
   "cell_type": "markdown",
   "metadata": {},
   "source": [
    "> **Ex. 3.2.3:** Save the beers as a JSON file on your machine.\n",
    "\n",
    "> _Hint:_ you might want to take a look at the [json](https://docs.python.org/3/library/json.html) module.\n"
   ]
  },
  {
   "cell_type": "code",
   "execution_count": 15,
   "metadata": {},
   "outputs": [],
   "source": [
    "# [Answer to Ex. 3.2.3]"
   ]
  },
  {
   "cell_type": "code",
   "execution_count": 122,
   "metadata": {},
   "outputs": [],
   "source": [
    "import json\n",
    "response_json_str = json.dumps(response_json)\n",
    "\n",
    "with open('my_file.json', 'w') as f:\n",
    "    f.write(response_json_str)"
   ]
  },
  {
   "cell_type": "markdown",
   "metadata": {},
   "source": [
    "<br>\n",
    "\n",
    "## Exercise Section 3.3: The DST API\n",
    "\n",
    "DST (Statistics Denmark) provide an API access to their aggregate data. For developers they supply a [console](https://api.statbank.dk/console) for testing. In this exercise we will first code up a simple script which can collect data from the DST API, and then introduce the [PyDST](https://kristianuruplarsen.github.io/PyDST/) package. \n",
    "\n",
    "> **Ex 3.3.1:** Use the API console to construct a GET request which retrieves the table FOLK1A split by quarter. The return should be in JSON format. We want all available dates.\n",
    ">\n",
    ">Then write a function `construct_link()` which takes as inputs: a table ID (e.g. `'FOLK1A'`) and a list of strings like `['var1=*', 'var2=somevalue']`. The function should return the proper URL for getting a dataset with the specified variables (e.g. in this case all levels of var1, but only where var2=somevalue).\n",
    "\n",
    "> _Hint:_ The time variable is called 'tid'. To select all available values, set the value-id to '*'. Spend a little time with the console to get a sense of how the URLs are constructed.\n"
   ]
  },
  {
   "cell_type": "code",
   "execution_count": 17,
   "metadata": {},
   "outputs": [],
   "source": [
    "# [Answer to Ex. 3.3.1]"
   ]
  },
  {
   "cell_type": "code",
   "execution_count": 134,
   "metadata": {},
   "outputs": [],
   "source": [
    "\"https://api.statbank.dk/v1/data/FOLK1A/JSONSTAT?lang=en&Tid=*\"\n",
    "\n",
    "def construct_link(table_id, variables):\n",
    "    v = '&'.join(variables)\n",
    "    url = \"https://api.statbank.dk/v1/data/\"+table_id+\"/JSONSTAT?lang=en&\"+v\n",
    "    return url\n",
    "\n",
    "table_id = 'FOLK1A'\n",
    "variables = ['Tid=*']\n",
    "\n",
    "url = construct_link(table_id, variables)"
   ]
  },
  {
   "cell_type": "markdown",
   "metadata": {},
   "source": [
    "When executing the request in the console you should get a json file as output. Next lets write some code to load these json files directly into python. \n",
    "\n",
    "\n",
    "> **Ex. 3.3.2:** use the `requests` module (get it with `pip install requests`) and `construct_link()` to request birth data from the \"FOD\" table. Get all available years (variable \"Tid\"), but only female births (BARNKON=P) . Unpack the json payload and store the result. Wrap the whole thing in a function which takes an url as input and returns the corresponding output.\n",
    "\n",
    "> _Hint:_ The `requests.response` object has a `.json()` method. "
   ]
  },
  {
   "cell_type": "code",
   "execution_count": 135,
   "metadata": {},
   "outputs": [],
   "source": [
    "# [Answer to Ex. 3.3.2]"
   ]
  },
  {
   "cell_type": "code",
   "execution_count": 189,
   "metadata": {},
   "outputs": [],
   "source": [
    "table_id = 'FOD'\n",
    "variables = ['Tid=*', 'BARNKON=P']\n",
    "\n",
    "def get_data(table_id, variables):\n",
    "    url = construct_link(table_id, variables)\n",
    "    response = requests.get(url)\n",
    "    return response.json()['dataset']\n",
    "\n",
    "data = get_data(table_id, variables)"
   ]
  },
  {
   "cell_type": "markdown",
   "metadata": {},
   "source": [
    "> **Ex. 3.3.3:** Extract the number of girls born each year. Store the results as a list."
   ]
  },
  {
   "cell_type": "code",
   "execution_count": 190,
   "metadata": {},
   "outputs": [],
   "source": [
    "# [Answer to Ex. 3.3.3]"
   ]
  },
  {
   "cell_type": "code",
   "execution_count": 191,
   "metadata": {},
   "outputs": [
    {
     "data": {
      "text/plain": [
       "[34996,\n",
       " 34771,\n",
       " 35260,\n",
       " 31533,\n",
       " 30055,\n",
       " 30161,\n",
       " 28909,\n",
       " 27941,\n",
       " 25972,\n",
       " 25595,\n",
       " 24821,\n",
       " 25228,\n",
       " 26284,\n",
       " 26878,\n",
       " 27142,\n",
       " 28520,\n",
       " 29876,\n",
       " 30813,\n",
       " 31353,\n",
       " 32914,\n",
       " 32760,\n",
       " 34027,\n",
       " 33885,\n",
       " 32819,\n",
       " 32899,\n",
       " 32116,\n",
       " 32341,\n",
       " 32652,\n",
       " 31961,\n",
       " 31109,\n",
       " 31441,\n",
       " 31539,\n",
       " 31459,\n",
       " 31580,\n",
       " 31267,\n",
       " 31507,\n",
       " 30557,\n",
       " 30946,\n",
       " 28984,\n",
       " 28131,\n",
       " 27283,\n",
       " 27616,\n",
       " 28357,\n",
       " 29833,\n",
       " 29930,\n",
       " 29865,\n",
       " 29648,\n",
       " 29762]"
      ]
     },
     "execution_count": 191,
     "metadata": {},
     "output_type": "execute_result"
    }
   ],
   "source": [
    "girls=data['value']\n",
    "girls"
   ]
  },
  {
   "cell_type": "markdown",
   "metadata": {},
   "source": [
    "> **Ex.3.3.4:** Repeat 3.3.2 and 3.3.3 but this time only get boy births (BARNKON=D). Store the numbers in a new list and use the `plot_births` (supplied below) function to plot the data. If you don't already have matplotlib installed run `pip install matplotlib`."
   ]
  },
  {
   "cell_type": "code",
   "execution_count": 198,
   "metadata": {},
   "outputs": [],
   "source": [
    "# Just run this once, do not change it.\n",
    "import matplotlib.pyplot as plt \n",
    "\n",
    "def plot_births(boys, girls):\n",
    "    \"\"\" Plots lineplot of the number of births split by gender.\n",
    "    \n",
    "    Args: \n",
    "        boys: a list of boy births by year\n",
    "        girls: a list of girl births by year\n",
    "    \"\"\"\n",
    "    if not len(boys) == len(girls):\n",
    "        raise ValueError('There must be the same number of observations for boys and girls')\n",
    "    \n",
    "    labels = ['{y}'.format(y=year) for year in range(1974,2021)]\n",
    "    \n",
    "    plt.plot(range(len(boys)), boys, color = 'blue', label = 'boys')\n",
    "    plt.plot(range(len(boys)), girls, color = 'red', label = 'girls')\n",
    "    plt.xticks([i for i in range(len(boys)) if i%4 == 0], [l for i,l in zip(range(len(boys)),labels) if i%4 == 0],\n",
    "               rotation = 'vertical')\n",
    "    plt.legend()\n",
    "    plt.show()"
   ]
  },
  {
   "cell_type": "code",
   "execution_count": 199,
   "metadata": {},
   "outputs": [],
   "source": [
    "# [Answer to Ex. 3.3.4]"
   ]
  },
  {
   "cell_type": "code",
   "execution_count": 200,
   "metadata": {},
   "outputs": [
    {
     "data": {
      "image/png": "[encoded data removed]",
      "text/plain": [
       "<Figure size 432x288 with 1 Axes>"
      ]
     },
     "metadata": {
      "needs_background": "light"
     },
     "output_type": "display_data"
    }
   ],
   "source": [
    "table_id = 'FOD'\n",
    "variables = ['Tid=*', 'BARNKON=D']\n",
    "             \n",
    "data = get_data(table_id, variables)\n",
    "\n",
    "boys=data['value']\n",
    "boys\n",
    "\n",
    "plot_births(boys, girls)             "
   ]
  },
  {
   "cell_type": "code",
   "execution_count": 197,
   "metadata": {},
   "outputs": [
    {
     "data": {
      "text/html": [
       "<div>\n",
       "<style scoped>\n",
       "    .dataframe tbody tr th:only-of-type {\n",
       "        vertical-align: middle;\n",
       "    }\n",
       "\n",
       "    .dataframe tbody tr th {\n",
       "        vertical-align: top;\n",
       "    }\n",
       "\n",
       "    .dataframe thead th {\n",
       "        text-align: right;\n",
       "    }\n",
       "</style>\n",
       "<table border=\"1\" class=\"dataframe\">\n",
       "  <thead>\n",
       "    <tr style=\"text-align: right;\">\n",
       "      <th></th>\n",
       "      <th>Boys</th>\n",
       "      <th>Girls</th>\n",
       "      <th>diff</th>\n",
       "    </tr>\n",
       "    <tr>\n",
       "      <th>Year</th>\n",
       "      <th></th>\n",
       "      <th></th>\n",
       "      <th></th>\n",
       "    </tr>\n",
       "  </thead>\n",
       "  <tbody>\n",
       "    <tr>\n",
       "      <th>1974</th>\n",
       "      <td>36899</td>\n",
       "      <td>34996</td>\n",
       "      <td>0.054378</td>\n",
       "    </tr>\n",
       "    <tr>\n",
       "      <th>1975</th>\n",
       "      <td>36556</td>\n",
       "      <td>34771</td>\n",
       "      <td>0.051336</td>\n",
       "    </tr>\n",
       "    <tr>\n",
       "      <th>1976</th>\n",
       "      <td>36811</td>\n",
       "      <td>35260</td>\n",
       "      <td>0.043988</td>\n",
       "    </tr>\n",
       "    <tr>\n",
       "      <th>1977</th>\n",
       "      <td>33734</td>\n",
       "      <td>31533</td>\n",
       "      <td>0.069800</td>\n",
       "    </tr>\n",
       "    <tr>\n",
       "      <th>1978</th>\n",
       "      <td>31823</td>\n",
       "      <td>30055</td>\n",
       "      <td>0.058825</td>\n",
       "    </tr>\n",
       "    <tr>\n",
       "      <th>1979</th>\n",
       "      <td>31875</td>\n",
       "      <td>30161</td>\n",
       "      <td>0.056828</td>\n",
       "    </tr>\n",
       "    <tr>\n",
       "      <th>1980</th>\n",
       "      <td>30555</td>\n",
       "      <td>28909</td>\n",
       "      <td>0.056937</td>\n",
       "    </tr>\n",
       "    <tr>\n",
       "      <th>1981</th>\n",
       "      <td>29352</td>\n",
       "      <td>27941</td>\n",
       "      <td>0.050499</td>\n",
       "    </tr>\n",
       "    <tr>\n",
       "      <th>1982</th>\n",
       "      <td>27117</td>\n",
       "      <td>25972</td>\n",
       "      <td>0.044086</td>\n",
       "    </tr>\n",
       "    <tr>\n",
       "      <th>1983</th>\n",
       "      <td>27063</td>\n",
       "      <td>25595</td>\n",
       "      <td>0.057355</td>\n",
       "    </tr>\n",
       "    <tr>\n",
       "      <th>1984</th>\n",
       "      <td>26001</td>\n",
       "      <td>24821</td>\n",
       "      <td>0.047540</td>\n",
       "    </tr>\n",
       "    <tr>\n",
       "      <th>1985</th>\n",
       "      <td>26572</td>\n",
       "      <td>25228</td>\n",
       "      <td>0.053274</td>\n",
       "    </tr>\n",
       "    <tr>\n",
       "      <th>1986</th>\n",
       "      <td>27465</td>\n",
       "      <td>26284</td>\n",
       "      <td>0.044932</td>\n",
       "    </tr>\n",
       "    <tr>\n",
       "      <th>1987</th>\n",
       "      <td>28434</td>\n",
       "      <td>26878</td>\n",
       "      <td>0.057891</td>\n",
       "    </tr>\n",
       "    <tr>\n",
       "      <th>1988</th>\n",
       "      <td>29079</td>\n",
       "      <td>27142</td>\n",
       "      <td>0.071365</td>\n",
       "    </tr>\n",
       "    <tr>\n",
       "      <th>1989</th>\n",
       "      <td>30324</td>\n",
       "      <td>28520</td>\n",
       "      <td>0.063254</td>\n",
       "    </tr>\n",
       "    <tr>\n",
       "      <th>1990</th>\n",
       "      <td>31475</td>\n",
       "      <td>29876</td>\n",
       "      <td>0.053521</td>\n",
       "    </tr>\n",
       "    <tr>\n",
       "      <th>1991</th>\n",
       "      <td>32620</td>\n",
       "      <td>30813</td>\n",
       "      <td>0.058644</td>\n",
       "    </tr>\n",
       "    <tr>\n",
       "      <th>1992</th>\n",
       "      <td>33005</td>\n",
       "      <td>31353</td>\n",
       "      <td>0.052690</td>\n",
       "    </tr>\n",
       "    <tr>\n",
       "      <th>1993</th>\n",
       "      <td>34812</td>\n",
       "      <td>32914</td>\n",
       "      <td>0.057665</td>\n",
       "    </tr>\n",
       "    <tr>\n",
       "      <th>1994</th>\n",
       "      <td>34609</td>\n",
       "      <td>32760</td>\n",
       "      <td>0.056441</td>\n",
       "    </tr>\n",
       "    <tr>\n",
       "      <th>1995</th>\n",
       "      <td>35639</td>\n",
       "      <td>34027</td>\n",
       "      <td>0.047374</td>\n",
       "    </tr>\n",
       "    <tr>\n",
       "      <th>1996</th>\n",
       "      <td>35886</td>\n",
       "      <td>33885</td>\n",
       "      <td>0.059053</td>\n",
       "    </tr>\n",
       "    <tr>\n",
       "      <th>1997</th>\n",
       "      <td>34819</td>\n",
       "      <td>32819</td>\n",
       "      <td>0.060940</td>\n",
       "    </tr>\n",
       "    <tr>\n",
       "      <th>1998</th>\n",
       "      <td>34749</td>\n",
       "      <td>32899</td>\n",
       "      <td>0.056233</td>\n",
       "    </tr>\n",
       "    <tr>\n",
       "      <th>1999</th>\n",
       "      <td>34058</td>\n",
       "      <td>32116</td>\n",
       "      <td>0.060468</td>\n",
       "    </tr>\n",
       "    <tr>\n",
       "      <th>2000</th>\n",
       "      <td>33879</td>\n",
       "      <td>32341</td>\n",
       "      <td>0.047556</td>\n",
       "    </tr>\n",
       "    <tr>\n",
       "      <th>2001</th>\n",
       "      <td>34432</td>\n",
       "      <td>32652</td>\n",
       "      <td>0.054514</td>\n",
       "    </tr>\n",
       "    <tr>\n",
       "      <th>2002</th>\n",
       "      <td>33497</td>\n",
       "      <td>31961</td>\n",
       "      <td>0.048059</td>\n",
       "    </tr>\n",
       "    <tr>\n",
       "      <th>2003</th>\n",
       "      <td>32966</td>\n",
       "      <td>31109</td>\n",
       "      <td>0.059693</td>\n",
       "    </tr>\n",
       "    <tr>\n",
       "      <th>2004</th>\n",
       "      <td>33158</td>\n",
       "      <td>31441</td>\n",
       "      <td>0.054610</td>\n",
       "    </tr>\n",
       "    <tr>\n",
       "      <th>2005</th>\n",
       "      <td>33070</td>\n",
       "      <td>31539</td>\n",
       "      <td>0.048543</td>\n",
       "    </tr>\n",
       "    <tr>\n",
       "      <th>2006</th>\n",
       "      <td>32823</td>\n",
       "      <td>31459</td>\n",
       "      <td>0.043358</td>\n",
       "    </tr>\n",
       "    <tr>\n",
       "      <th>2007</th>\n",
       "      <td>33404</td>\n",
       "      <td>31580</td>\n",
       "      <td>0.057758</td>\n",
       "    </tr>\n",
       "    <tr>\n",
       "      <th>2008</th>\n",
       "      <td>32815</td>\n",
       "      <td>31267</td>\n",
       "      <td>0.049509</td>\n",
       "    </tr>\n",
       "    <tr>\n",
       "      <th>2009</th>\n",
       "      <td>33531</td>\n",
       "      <td>31507</td>\n",
       "      <td>0.064240</td>\n",
       "    </tr>\n",
       "    <tr>\n",
       "      <th>2010</th>\n",
       "      <td>32261</td>\n",
       "      <td>30557</td>\n",
       "      <td>0.055765</td>\n",
       "    </tr>\n",
       "    <tr>\n",
       "      <th>2011</th>\n",
       "      <td>32465</td>\n",
       "      <td>30946</td>\n",
       "      <td>0.049086</td>\n",
       "    </tr>\n",
       "    <tr>\n",
       "      <th>2012</th>\n",
       "      <td>30014</td>\n",
       "      <td>28984</td>\n",
       "      <td>0.035537</td>\n",
       "    </tr>\n",
       "    <tr>\n",
       "      <th>2013</th>\n",
       "      <td>29785</td>\n",
       "      <td>28131</td>\n",
       "      <td>0.058796</td>\n",
       "    </tr>\n",
       "    <tr>\n",
       "      <th>2014</th>\n",
       "      <td>28590</td>\n",
       "      <td>27283</td>\n",
       "      <td>0.047905</td>\n",
       "    </tr>\n",
       "    <tr>\n",
       "      <th>2015</th>\n",
       "      <td>29254</td>\n",
       "      <td>27616</td>\n",
       "      <td>0.059313</td>\n",
       "    </tr>\n",
       "    <tr>\n",
       "      <th>2016</th>\n",
       "      <td>29848</td>\n",
       "      <td>28357</td>\n",
       "      <td>0.052580</td>\n",
       "    </tr>\n",
       "    <tr>\n",
       "      <th>2017</th>\n",
       "      <td>31781</td>\n",
       "      <td>29833</td>\n",
       "      <td>0.065297</td>\n",
       "    </tr>\n",
       "    <tr>\n",
       "      <th>2018</th>\n",
       "      <td>31467</td>\n",
       "      <td>29930</td>\n",
       "      <td>0.051353</td>\n",
       "    </tr>\n",
       "    <tr>\n",
       "      <th>2019</th>\n",
       "      <td>31611</td>\n",
       "      <td>29865</td>\n",
       "      <td>0.058463</td>\n",
       "    </tr>\n",
       "    <tr>\n",
       "      <th>2020</th>\n",
       "      <td>31519</td>\n",
       "      <td>29648</td>\n",
       "      <td>0.063107</td>\n",
       "    </tr>\n",
       "  </tbody>\n",
       "</table>\n",
       "</div>"
      ],
      "text/plain": [
       "       Boys  Girls      diff\n",
       "Year                        \n",
       "1974  36899  34996  0.054378\n",
       "1975  36556  34771  0.051336\n",
       "1976  36811  35260  0.043988\n",
       "1977  33734  31533  0.069800\n",
       "1978  31823  30055  0.058825\n",
       "1979  31875  30161  0.056828\n",
       "1980  30555  28909  0.056937\n",
       "1981  29352  27941  0.050499\n",
       "1982  27117  25972  0.044086\n",
       "1983  27063  25595  0.057355\n",
       "1984  26001  24821  0.047540\n",
       "1985  26572  25228  0.053274\n",
       "1986  27465  26284  0.044932\n",
       "1987  28434  26878  0.057891\n",
       "1988  29079  27142  0.071365\n",
       "1989  30324  28520  0.063254\n",
       "1990  31475  29876  0.053521\n",
       "1991  32620  30813  0.058644\n",
       "1992  33005  31353  0.052690\n",
       "1993  34812  32914  0.057665\n",
       "1994  34609  32760  0.056441\n",
       "1995  35639  34027  0.047374\n",
       "1996  35886  33885  0.059053\n",
       "1997  34819  32819  0.060940\n",
       "1998  34749  32899  0.056233\n",
       "1999  34058  32116  0.060468\n",
       "2000  33879  32341  0.047556\n",
       "2001  34432  32652  0.054514\n",
       "2002  33497  31961  0.048059\n",
       "2003  32966  31109  0.059693\n",
       "2004  33158  31441  0.054610\n",
       "2005  33070  31539  0.048543\n",
       "2006  32823  31459  0.043358\n",
       "2007  33404  31580  0.057758\n",
       "2008  32815  31267  0.049509\n",
       "2009  33531  31507  0.064240\n",
       "2010  32261  30557  0.055765\n",
       "2011  32465  30946  0.049086\n",
       "2012  30014  28984  0.035537\n",
       "2013  29785  28131  0.058796\n",
       "2014  28590  27283  0.047905\n",
       "2015  29254  27616  0.059313\n",
       "2016  29848  28357  0.052580\n",
       "2017  31781  29833  0.065297\n",
       "2018  31467  29930  0.051353\n",
       "2019  31611  29865  0.058463\n",
       "2020  31519  29648  0.063107"
      ]
     },
     "execution_count": 197,
     "metadata": {},
     "output_type": "execute_result"
    }
   ],
   "source": [
    "years = ['{y}'.format(y=year) for year in range(1974,2021)]\n",
    "data_tuples = list(zip(boys,girls,years))\n",
    "df = pd.DataFrame(data_tuples, columns=['Boys','Girls','Year'])\n",
    "df = df.set_index('Year')\n",
    "df['diff']=(df['Boys']-df['Girls'])/df['Girls']\n",
    "df"
   ]
  },
  {
   "cell_type": "markdown",
   "metadata": {},
   "source": [
    ">**(Bonus question) Ex. 3.3.5:** Go to [https://kristianuruplarsen.github.io/PyDST/](https://kristianuruplarsen.github.io/PyDST/) follow the installation instructions and import PyDST. Try to replicate the birth figure from 3.3.4 using PyDST. Use [the documentation](https://kristianuruplarsen.github.io/PyDST/connection) to learn how the package works.\n",
    "\n",
    "> _Hint:_ PyDST does not use json or dicts as its primary data format, instead it uses pandas DataFrames. When you install PyDST it will install pandas as a dependency. If this doesn't work simply run `pip install pandas` in your console. DataFrames are very intuitive to work with, for example accessing a column named 'name' is simply `data['name']` or `data.name`.\n",
    ">\n",
    "> In the next session you will learn more about pandas and DataFrames. If you are more comfortable with dicts, the data_response class has a `.dict` method you can use. "
   ]
  },
  {
   "cell_type": "code",
   "execution_count": 26,
   "metadata": {},
   "outputs": [],
   "source": [
    "# [Answer to Ex. 3.3.5]"
   ]
  }
 ],
 "metadata": {
  "kernelspec": {
   "display_name": "Python 3",
   "language": "python",
   "name": "python3"
  },
  "language_info": {
   "codemirror_mode": {
    "name": "ipython",
    "version": 3
   },
   "file_extension": ".py",
   "mimetype": "text/x-python",
   "name": "python",
   "nbconvert_exporter": "python",
   "pygments_lexer": "ipython3",
   "version": "3.8.5"
  }
 },
 "nbformat": 4,
 "nbformat_minor": 2
}
