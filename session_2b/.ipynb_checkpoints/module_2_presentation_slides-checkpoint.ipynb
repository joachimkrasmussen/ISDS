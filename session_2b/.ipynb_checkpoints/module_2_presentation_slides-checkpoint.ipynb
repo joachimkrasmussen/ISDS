{
 "cells": [
  {
   "cell_type": "markdown",
   "metadata": {
    "slideshow": {
     "slide_type": "slide"
    }
   },
   "source": [
    "# Session 1b: Python and Social Data Science\n",
    "\n",
    "*Joachim Kahr Rasmussen*\n",
    "\n"
   ]
  },
  {
   "cell_type": "markdown",
   "metadata": {
    "slideshow": {
     "slide_type": "slide"
    }
   },
   "source": [
    "## Agenda\n",
    "\n",
    "1. [Module Structure](#Module-structure)\n",
    "2. [Data Science and Beyond](#Data-science-and-beyond)\n",
    "3. [Python - an Overview](#Python-\\--an-Overview)\n",
    "4. [The Python Language](#The-Python-Language)"
   ]
  },
  {
   "cell_type": "markdown",
   "metadata": {
    "slideshow": {
     "slide_type": "slide"
    }
   },
   "source": [
    "# Associated Readings\n",
    "\n",
    "BBB, chapter 1:\n",
    "- Social science 'vs' data science\n",
    "- The Digital Age: Availability of data and computer power\n",
    "- Intro to ethics"
   ]
  },
  {
   "cell_type": "markdown",
   "metadata": {
    "slideshow": {
     "slide_type": "fragment"
    }
   },
   "source": [
    "Grimmer (2015):\n",
    "- Descriptive vs causal inference\n",
    "- Importance of research design\n",
    "- New data: Magnitude and type"
   ]
  },
  {
   "cell_type": "markdown",
   "metadata": {
    "slideshow": {
     "slide_type": "fragment"
    }
   },
   "source": [
    "Insiprational readings:\n",
    "- \"What is code?\": Maybe save it for a rain day.\n",
    "- \"The end of theory: The data deluge makes the scientific method obsolete\": Polemic post about data and models."
   ]
  },
  {
   "cell_type": "markdown",
   "metadata": {
    "slideshow": {
     "slide_type": "slide"
    }
   },
   "source": [
    "# Module Structure"
   ]
  },
  {
   "cell_type": "markdown",
   "metadata": {
    "slideshow": {
     "slide_type": "slide"
    }
   },
   "source": [
    "## The Structure of Classes\n",
    "\n",
    "Most teaching modules will have the following structure\n",
    "\n",
    "- Before lectures and exercise classes: \n",
    "    - Do the **reading** $-$ we have some quality textbooks!\n",
    "    - Watch **previous recorded lectures** $-$ it takes more than one view to get under your skin"
   ]
  },
  {
   "cell_type": "markdown",
   "metadata": {
    "slideshow": {
     "slide_type": "fragment"
    }
   },
   "source": [
    "- Lectures: \n",
    "    - Introduces **new material**, but we are trying something slightly different this year\n",
    "    - The **format will vary** for each module: Generally...\n",
    "        - **Live** recap and introduction\n",
    "        - **Questions** from last time\n",
    "        - Technical content is **recorded** for you to...\n",
    "            - watch at **preferred pace**, and\n",
    "            - potentially ***while* solving exercises**\n",
    "    - When watching videos, you can ALWAYS **ask question**s."
   ]
  },
  {
   "cell_type": "markdown",
   "metadata": {
    "slideshow": {
     "slide_type": "fragment"
    }
   },
   "source": [
    "- Exercise class:\n",
    "    - Continue working on **exercises**\n",
    "    - **Discuss with TA** $-$ use the fact that they are there with the sole purpose of helping you learning"
   ]
  },
  {
   "cell_type": "markdown",
   "metadata": {
    "slideshow": {
     "slide_type": "slide"
    }
   },
   "source": [
    "## The Academic Quarter\n",
    "\n",
    "In case you don't know...\n",
    "- 9 means 9.15, \n",
    "- 13 means 13.15 (i.e. 1.15pm)\n",
    "\n",
    "This holds for both exercise classes and lectures!"
   ]
  },
  {
   "cell_type": "markdown",
   "metadata": {
    "slideshow": {
     "slide_type": "slide"
    }
   },
   "source": [
    "## Learning Outcomes After Completing Intro SDS \n",
    "\n",
    "Main elements in this course:\n",
    "- Tidy / transform: Data structuring and text (sessions 2-3, 15)\n",
    "- Visualize: Plotting (session 4)\n",
    "- Import: Scraping and data IO (sessions 5, 6-8)\n",
    "- Ethics: Rules and moral considerations for working with data  (session 9)\n",
    "- Model: Fundamentals of machine learning, application to text (session 10-14)\n",
    "\n",
    "Also a tiny bit on...\n",
    "- Communication and access: Git and Markdown (should have been covered briefly by Andreas earlier today)"
   ]
  },
  {
   "cell_type": "markdown",
   "metadata": {
    "slideshow": {
     "slide_type": "slide"
    }
   },
   "source": [
    "## What We Don't Teach You Now\n",
    "\n",
    "Many more courses that built on this\n",
    "- Statistics: Econometrics and Machine Learning - overlaps\n",
    "- More about data - modelling and processing:\n",
    "    - Text, networks/relational, spatial\n",
    "- Non-linear ML models:\n",
    "    - Tree based and kernel \n",
    "    - Neural networks\n",
    "- ML for dynamic decisions: reinforcment learning\n",
    "- All about privacy\n",
    "\n",
    "In particular, check out [Advanced SDS I](https://kurser.ku.dk/course/asdk20004u/2020-2021) and [Advanced SDS II](https://kurser.ku.dk/course/asdk20006u/2020-2021). Also sometimes possible to write a project (BA, MSc, [seminar](https://kurser.ku.dk/course/a%c3%98kk08411u/2020-2021))."
   ]
  },
  {
   "cell_type": "markdown",
   "metadata": {
    "slideshow": {
     "slide_type": "slide"
    }
   },
   "source": [
    "# Data Science and Beyond"
   ]
  },
  {
   "cell_type": "markdown",
   "metadata": {
    "slideshow": {
     "slide_type": "slide"
    }
   },
   "source": [
    "## Why Data Science Now?\n",
    "\n",
    "Three trends are important for understand the increasing interest in and influence of data science:\n",
    "\n",
    "- **Data** is increasingly available, e.g.\n",
    "    - *Social Media*: Facebook status updates, public 'tweeting', Instagram pictures, etc.\n",
    "    - *Shopping*: Online shopping (track everything, make experiments), in store shopping (memberships, less granular data).\n",
    "    - *Phones*: Patterns in phone calls, GPS logging, phone activity (see recent SODAS studies), etc.\n",
    "- Faster and bigger **computers** ([Waldrop, 2016](https://pubmed.ncbi.nlm.nih.gov/26863965/)):\n",
    "    - Moore’s law $\\sim$ transistors on a microprocessor chip doubles every two years \n",
    "    - Soon coming to a halt due to heat issues...\n",
    "- Improved **algorithms**, methods for computation amd accessability of tools\n",
    "    - Example: Development of effective and accessible libraries in python\n",
    "    - Much more about this later in the course...\n",
    "\n"
   ]
  },
  {
   "cell_type": "markdown",
   "metadata": {
    "slideshow": {
     "slide_type": "slide"
    }
   },
   "source": [
    "## Examples of Major Advances\n",
    "\n",
    "Innovations from data science already create enormous amounts of value and make our lives much easier. Some examples:\n",
    "- Autonomous systems: \n",
    "    - self-driving cars\n",
    "    - computer game bots, \n",
    "    - trading bots, etc.\n",
    "- Image and text recognition: \n",
    "    - face recognition (Facebook, police)\n",
    "    - language parsing with e.g. Google Translate/GPT-3 (Grammarly, auto-correct)\n",
    "- Combined services: \n",
    "    - Virtual assistants (banks, medical diagnosis)\n",
    "    - recommendation systems (amazon, spotify, netflix)\n",
    "    - classification systems (spam, tax fraud, plagiarization)\n",
    "\n",
    "[McKinsey (2018)](https://www.mckinsey.com/~/media/McKinsey/Featured%20Insights/Artificial%20Intelligence/Notes%20from%20the%20frontier%20Modeling%20the%20impact%20of%20AI%20on%20the%20world%20economy/MGI-Notes-from-the-AI-frontier-Modeling-the-impact-of-AI-on-the-world-economy-September-2018.ashx#:~:text=In%20the%20aggregate%2C%20and%20netting,about%201.2%20percent%20a%20year.&text=The%20economic%20impact%20may%20emerge%20gradually%20and%20be%20visible%20only%20over%20time.): 'Artificial Intelligence' has the potential to increase global GDP by 1.2 percent per year"
   ]
  },
  {
   "cell_type": "markdown",
   "metadata": {
    "slideshow": {
     "slide_type": "slide"
    }
   },
   "source": [
    "## Past the Peak? Illustrative example\n",
    "For a couple of years: Data scientists had HIGHEST entry wages in DK.\n",
    "\n",
    "More recent evidence: Not top, but still high..."
   ]
  },
  {
   "cell_type": "markdown",
   "metadata": {
    "slideshow": {
     "slide_type": "fragment"
    }
   },
   "source": [
    "*Why did the mean relative data scientist entry wage decline?*"
   ]
  },
  {
   "cell_type": "markdown",
   "metadata": {
    "slideshow": {
     "slide_type": "fragment"
    }
   },
   "source": [
    "Paradoxically, this is where *you* as social scientists come into the picture!\n",
    "\n",
    "Key issue: Prediction based agenda is flawed. But opens up new opportunities:\n",
    "\n",
    "- Combine with theory: Supply and demand $-$ did supply catch up? Selection?\n",
    "- Combine with causal inference: Instruments, regression discontinuity, matching...\n",
    "\n",
    "Clearly a role for econometrics and structural modelling!"
   ]
  },
  {
   "cell_type": "markdown",
   "metadata": {
    "slideshow": {
     "slide_type": "slide"
    }
   },
   "source": [
    "## Social Data Science (I/II)\n",
    "\n",
    "Social data scientists combine skills and tools from two different fields:\n",
    "- Data scientists in a nutshell (BBB):\n",
    "    - Developing algorithms that are fast and flexible\n",
    "    - Largely concerned with prediction $-$ not causal inference\n",
    "- Social scientist in a nutshell (BBB):\n",
    "    - Study human behavior and interactions\n",
    "    - Causal inference is important for understand implications of e.g. policies\n"
   ]
  },
  {
   "cell_type": "markdown",
   "metadata": {
    "slideshow": {
     "slide_type": "slide"
    }
   },
   "source": [
    "## Social Data Science (II/II)\n",
    "\n",
    "We may say that the skills and ideas of data science are spreading to social data science:\n",
    "- smart, free tools for working with\n",
    "    - small and big data on structured (tabular) data\n",
    "    - unstructured data sources from image, text and social media\n",
    "- incorporate machine learning into\n",
    "    - statistics and causal inference\n",
    "    - economic modelling"
   ]
  },
  {
   "cell_type": "markdown",
   "metadata": {
    "slideshow": {
     "slide_type": "fragment"
    }
   },
   "source": [
    "In particular, data science complements social sciences by:\n",
    "- enhancing existing fields, and\n",
    "- oppening up for new field emerging (new data, combination of methods)"
   ]
  },
  {
   "cell_type": "markdown",
   "metadata": {
    "slideshow": {
     "slide_type": "slide"
    }
   },
   "source": [
    "# Python - an Overview"
   ]
  },
  {
   "cell_type": "markdown",
   "metadata": {
    "slideshow": {
     "slide_type": "slide"
    }
   },
   "source": [
    "## Introducing Python\n",
    "\n",
    "*What is Python useful for?*\n",
    "\n",
    "* It can do \"anything\" and [used everywhere](https://www.python.org/about/success/)\n",
    "    * High-tech manufacturing\n",
    "    * Space shuttles \n",
    "    * Large servers     \n",
    "* Python has incredible resources for machine learning, big data, visualizations."
   ]
  },
  {
   "cell_type": "markdown",
   "metadata": {
    "slideshow": {
     "slide_type": "slide"
    }
   },
   "source": [
    "## Use is Evidently Trending"
   ]
  },
  {
   "cell_type": "markdown",
   "metadata": {
    "slideshow": {
     "slide_type": "-"
    }
   },
   "source": [
    "<center><img src=https://grapecitycontentcdn.azureedge.net/blogs//grapecity/20181026-the-growth-of-major-programming-languages/3.jpg' alt=\"Drawing\" style=\"width: 900px;\"/></center>"
   ]
  },
  {
   "cell_type": "markdown",
   "metadata": {
    "slideshow": {
     "slide_type": "slide"
    }
   },
   "source": [
    "## What and Why?\n",
    "\n",
    "*What is Python?*\n",
    "\n",
    "A multiparadigm, general purpose programming language.\n",
    "  * Can do everything you can imagine a computer can do.\n",
    "  * E.g. manage databases, advanced computation, web etc.\n",
    " "
   ]
  },
  {
   "cell_type": "markdown",
   "metadata": {
    "slideshow": {
     "slide_type": "fragment"
    }
   },
   "source": [
    "*Why Python?*\n",
    "\n",
    "Python's main objective is to make programming more ***effortless***. \n",
    "- This is done by making syntax intuitive.\n",
    "- A side effect: programming can be fun\n",
    "- Downside: not the fastest (solved with packages)"
   ]
  },
  {
   "cell_type": "markdown",
   "metadata": {
    "slideshow": {
     "slide_type": "slide"
    }
   },
   "source": [
    "## Other Programs and Languages (I/II)\n",
    "\n",
    "*Is Python the most popular for statistics and data science?*\n",
    "\n",
    "There are other good languages, e.g. R, Stata or SAS, why not use them?\n",
    "\n",
    "- Python has the best data science packages.\n",
    "- And it is also being used increasingly in statistics."
   ]
  },
  {
   "cell_type": "markdown",
   "metadata": {
    "slideshow": {
     "slide_type": "fragment"
    }
   },
   "source": [
    "Each program/language has their own advantages and similarities (our opinion)\n",
    "\n",
    "|                     | Python | R | Julia |\n",
    "|---------------------|--------|---|-------|\n",
    "| Data structuring    | X      | X | |\n",
    "| Plotting            | X      | X | |\n",
    "| Machine learning    | X      |   | |\n",
    "| Statistics          |        | X | |\n",
    "| General programming and modelling | X      |   | (X)|\n",
    "| Ease of learning    | X      |   | |\n",
    "\n",
    "Other ('statistical') programming languages: SAS, Stata, ...\n"
   ]
  },
  {
   "cell_type": "markdown",
   "metadata": {
    "slideshow": {
     "slide_type": "slide"
    }
   },
   "source": [
    "## Other Programs and Languages (II/II)\n",
    "\n",
    "Tools are increasingly integrated\n",
    "- Jupyter; a shared framework for data science \n",
    "- New software allows direct execution side-by-side: use R within python (vice versa)\n",
    "- New tools becoming available across languages, e.g. data processing engine (arrow)\n",
    "\n",
    "Advice: don't worry. It's likely you need to learn more than one language."
   ]
  },
  {
   "cell_type": "markdown",
   "metadata": {
    "slideshow": {
     "slide_type": "fragment"
    }
   },
   "source": [
    "Advice: don't worry. It's likely you need to learn more than one language."
   ]
  },
  {
   "cell_type": "markdown",
   "metadata": {
    "slideshow": {
     "slide_type": "slide"
    }
   },
   "source": [
    "## The Wheel of Data Science\n",
    "\n",
    "*How does data science work?*\n",
    "\n",
    "<br>\n",
    "<br>\n",
    "<center><img src='https://raw.githubusercontent.com/hadley/r4ds/master/diagrams/data-science.png' alt=\"Drawing\" style=\"width: 700px;\"/></center>"
   ]
  },
  {
   "cell_type": "markdown",
   "metadata": {
    "slideshow": {
     "slide_type": "slide"
    }
   },
   "source": [
    "## Learning How to Code... Not a Free Lunch\n",
    "\n",
    "This course... it ain't easy!\n",
    "\n",
    "<center><img src='https://media.giphy.com/media/h36vh423PiV9K/giphy.gif' alt=\"Drawing\" style=\"width: 300px;\"/></center>"
   ]
  },
  {
   "cell_type": "markdown",
   "metadata": {
    "slideshow": {
     "slide_type": "fragment"
    }
   },
   "source": [
    "But at least you get a lot of help!\n",
    "\n",
    "Learning without supervision, you may struggle with simple stuff..."
   ]
  },
  {
   "cell_type": "markdown",
   "metadata": {
    "slideshow": {
     "slide_type": "slide"
    }
   },
   "source": [
    "## Some Encouragement"
   ]
  },
  {
   "cell_type": "markdown",
   "metadata": {
    "slideshow": {
     "slide_type": "fragment"
    }
   },
   "source": [
    "#### Hadley Wickham\n",
    "\n",
    "> The bad news is that when ever you learn a new skill **you’re going to suck**. It’s going to be **frustrating**. The good news is that is typical and **happens to everyone** and it is **only temporary**. You can’t go from knowing nothing to becoming an expert without going through a **period of great frustration** and great suckiness.\n"
   ]
  },
  {
   "cell_type": "markdown",
   "metadata": {
    "slideshow": {
     "slide_type": "fragment"
    }
   },
   "source": [
    "#### Kosuke Imai\n",
    "\n",
    "> One can learn data analysis **only by doing**, not by reading."
   ]
  },
  {
   "cell_type": "markdown",
   "metadata": {
    "slideshow": {
     "slide_type": "slide"
    }
   },
   "source": [
    "## Light at the End.."
   ]
  },
  {
   "cell_type": "markdown",
   "metadata": {
    "slideshow": {
     "slide_type": "fragment"
    }
   },
   "source": [
    "Why would you go through this pain? You choose one of two paths after this course..."
   ]
  },
  {
   "cell_type": "markdown",
   "metadata": {
    "slideshow": {
     "slide_type": "fragment"
    }
   },
   "source": [
    "i. You move on, you forget some or most of the material."
   ]
  },
  {
   "cell_type": "markdown",
   "metadata": {
    "slideshow": {
     "slide_type": "fragment"
    }
   },
   "source": [
    "ii. You are lit and your life has changed. \n",
    "- You may return to become a better sociologist, anthropologit, economist etc.\n",
    "- Or, you may continue along the new track of data science.\n",
    "- In any case, you keep learning and expanding your programming skills."
   ]
  },
  {
   "cell_type": "markdown",
   "metadata": {
    "slideshow": {
     "slide_type": "slide"
    }
   },
   "source": [
    "## Advice for Coding\n",
    "\n",
    "Three pieces of advice that will take you far!\n",
    "\n",
    "1. Be careful: Think before you code $-$ what you are trying to make it do?\n",
    "\n",
    "2. Be lazy: Reuse code and write Reusable code (e.g. functions)\n",
    "\n",
    "3. Make understandable: Think about audience!\n",
    "    1. Future you? May not recall this at all.    \n",
    "    1. Group members or world? May not understand!\n",
    "    1. Write lots of comments and potentially background explanation/documentation\n",
    "    \n"
   ]
  },
  {
   "cell_type": "markdown",
   "metadata": {
    "slideshow": {
     "slide_type": "fragment"
    }
   },
   "source": [
    "*How do you get there?*\n",
    "\n",
    "- Maintain healthy curiousity  $-$  how could we do things better?\n",
    "- Practice and try as much as possible\n",
    "- Type the code in yourself  $-$ then you see what is going on.\n"
   ]
  },
  {
   "cell_type": "markdown",
   "metadata": {
    "slideshow": {
     "slide_type": "slide"
    }
   },
   "source": [
    "## Help and Advice"
   ]
  },
  {
   "cell_type": "markdown",
   "metadata": {
    "slideshow": {
     "slide_type": "fragment"
    }
   },
   "source": [
    "\n",
    "Whenever you have a question you do as follows:"
   ]
  },
  {
   "cell_type": "markdown",
   "metadata": {
    "slideshow": {
     "slide_type": "fragment"
    }
   },
   "source": [
    "\n",
    "1: You ask other people in your group."
   ]
  },
  {
   "cell_type": "markdown",
   "metadata": {
    "slideshow": {
     "slide_type": "fragment"
    }
   },
   "source": [
    "\n",
    "2: You search on Google (more advice will follow)."
   ]
  },
  {
   "cell_type": "markdown",
   "metadata": {
    "slideshow": {
     "slide_type": "fragment"
    }
   },
   "source": [
    "3: You ask the neighboring groups."
   ]
  },
  {
   "cell_type": "markdown",
   "metadata": {
    "slideshow": {
     "slide_type": "fragment"
    }
   },
   "source": [
    "4: You raise an [issue in our Github repo](https://github.com/abjer/sds/issues) or you ask us."
   ]
  },
  {
   "cell_type": "markdown",
   "metadata": {
    "slideshow": {
     "slide_type": "slide"
    }
   },
   "source": [
    "# The Python Language\n"
   ]
  },
  {
   "cell_type": "markdown",
   "metadata": {
    "slideshow": {
     "slide_type": "slide"
    }
   },
   "source": [
    "## The Python Shell\n",
    "\n",
    "The fundamental way of accessing Python is from your shell by typing *`python`*. On a Windows computer, this would simply be the command prompt.\n",
    "\n",
    "Everyone should be able to run the following commands and reproduce the output."
   ]
  },
  {
   "cell_type": "markdown",
   "metadata": {
    "slideshow": {
     "slide_type": "fragment"
    }
   },
   "source": [
    "``` python\n",
    ">>> print ('hello my friend')\n",
    "hello my friend\n",
    "```"
   ]
  },
  {
   "cell_type": "markdown",
   "metadata": {
    "slideshow": {
     "slide_type": "fragment"
    }
   },
   "source": [
    "``` python\n",
    ">>> 4*5\n",
    "20\n",
    "```"
   ]
  },
  {
   "cell_type": "markdown",
   "metadata": {
    "slideshow": {
     "slide_type": "fragment"
    }
   },
   "source": [
    "You can leave Python again by simply typing *`quit()`*.\n",
    "\n",
    "If you want to close the prompt, simply type *`exit()`*."
   ]
  },
  {
   "cell_type": "markdown",
   "metadata": {
    "slideshow": {
     "slide_type": "slide"
    }
   },
   "source": [
    "## The Python Script (I/III)\n",
    "\n",
    "The power of the interpreter is that it can be used to execute Python scripts. "
   ]
  },
  {
   "cell_type": "markdown",
   "metadata": {
    "slideshow": {
     "slide_type": "fragment"
    }
   },
   "source": [
    "*What is a script?* "
   ]
  },
  {
   "cell_type": "markdown",
   "metadata": {
    "slideshow": {
     "slide_type": "fragment"
    }
   },
   "source": [
    "These are programs containing code blocks."
   ]
  },
  {
   "cell_type": "markdown",
   "metadata": {
    "slideshow": {
     "slide_type": "slide"
    }
   },
   "source": [
    "## The Python Script (II/III)\n",
    "\n",
    "Everyone should be able to make a text file called *`test.py`* on the desktop or in some folder with some content and run it.\n",
    "\n",
    "The file should contain the following two lines:"
   ]
  },
  {
   "cell_type": "markdown",
   "metadata": {
    "slideshow": {
     "slide_type": "fragment"
    }
   },
   "source": [
    "Everyone should be able to make a text file called *`test.py`* on the desktop or in some folder with some content and run it.\n",
    "\n",
    "The file should contain the following two lines:"
   ]
  },
  {
   "cell_type": "markdown",
   "metadata": {
    "slideshow": {
     "slide_type": "fragment"
    }
   },
   "source": [
    "``` python\n",
    "print ('Line 1')\n",
    "print ('Line 2')\n",
    "```"
   ]
  },
  {
   "cell_type": "markdown",
   "metadata": {
    "slideshow": {
     "slide_type": "fragment"
    }
   },
   "source": [
    "I saved mine on the desktop.\n",
    "\n",
    "Reopen the prompt and type something equivalent to..."
   ]
  },
  {
   "cell_type": "markdown",
   "metadata": {
    "slideshow": {
     "slide_type": "fragment"
    }
   },
   "source": [
    "``` python\n",
    "cd \"C:\\Users\\xtw562\\Desktop\"\n",
    "python test.py\n",
    "```"
   ]
  },
  {
   "cell_type": "markdown",
   "metadata": {
    "slideshow": {
     "slide_type": "fragment"
    }
   },
   "source": [
    "This should now yield the following output:\n",
    "\n",
    "```\n",
    "Line 1\n",
    "Line 2\n",
    "```"
   ]
  },
  {
   "cell_type": "markdown",
   "metadata": {
    "slideshow": {
     "slide_type": "slide"
    }
   },
   "source": [
    "## The Python Script (III/III)\n",
    "\n",
    "Now, everyone should be able to make a text file called *`test.py`* in their current folder with some content and run it. Current folder?"
   ]
  },
  {
   "cell_type": "markdown",
   "metadata": {
    "slideshow": {
     "slide_type": "fragment"
    }
   },
   "source": [
    "``` python\n",
    ">>> import os\n",
    ">>> print(\"Current working directory: {0}\".format(os.getcwd()))\n",
    "Current working directory: C:\\Users\\xtw562\n",
    "```"
   ]
  },
  {
   "cell_type": "markdown",
   "metadata": {
    "slideshow": {
     "slide_type": "fragment"
    }
   },
   "source": [
    "Now choose your specify your working directory..."
   ]
  },
  {
   "cell_type": "markdown",
   "metadata": {
    "slideshow": {
     "slide_type": "fragment"
    }
   },
   "source": [
    "``` python\n",
    ">>> os.chdir('C:/Users/xtw562/Desktop')\n",
    ">>> print(\"Current working directory: {0}\".format(os.getcwd()))\n",
    "Current working directory: C:\\Users\\xtw562\\Desktop\n",
    "```"
   ]
  },
  {
   "cell_type": "markdown",
   "metadata": {
    "slideshow": {
     "slide_type": "fragment"
    }
   },
   "source": [
    "Now that we have chosen the working directory, the file should contain the following two lines:"
   ]
  },
  {
   "cell_type": "markdown",
   "metadata": {
    "slideshow": {
     "slide_type": "fragment"
    }
   },
   "source": [
    "Try executing the test file from the shell by typing:\n",
    "\n",
    "*`python test.py`*"
   ]
  },
  {
   "cell_type": "markdown",
   "metadata": {
    "slideshow": {
     "slide_type": "fragment"
    }
   },
   "source": [
    "This should yield the following output:\n",
    "\n",
    "```\n",
    "Line 1\n",
    "Line 2\n",
    "```"
   ]
  },
  {
   "cell_type": "markdown",
   "metadata": {
    "slideshow": {
     "slide_type": "slide"
    }
   },
   "source": [
    "## The Jupyter framework (I/III)\n",
    "\n",
    "*What is Jupyter Notebook?*"
   ]
  },
  {
   "cell_type": "markdown",
   "metadata": {
    "slideshow": {
     "slide_type": "fragment"
    }
   },
   "source": [
    "- Jupyter provides an interactive and visual platform for working with data. \n",
    "- It is an abbreviation of Julia, Python, and R."
   ]
  },
  {
   "cell_type": "markdown",
   "metadata": {
    "slideshow": {
     "slide_type": "fragment"
    }
   },
   "source": [
    "*Why Jupyter notebook?*"
   ]
  },
  {
   "cell_type": "markdown",
   "metadata": {
    "slideshow": {
     "slide_type": "fragment"
    }
   },
   "source": [
    "- great for writing. \n",
    "    - markdown, equations and direct visual output;\n",
    "- interactive allows keeping, changing data etc.\n",
    "- many tools (e.g. create this slideshow)"
   ]
  },
  {
   "cell_type": "markdown",
   "metadata": {
    "slideshow": {
     "slide_type": "fragment"
    }
   },
   "source": [
    "*How do we create a Jupyter Notebook?*"
   ]
  },
  {
   "cell_type": "markdown",
   "metadata": {
    "slideshow": {
     "slide_type": "fragment"
    }
   },
   "source": [
    "We start Jupyter Notebook by typing *`jupyter notebook`* in the shell.\n",
    "\n",
    "Try making a new notebook: \n",
    "- click the button *`New`* in the upper right corner \n",
    "- clicking on *`Python 3`*."
   ]
  },
  {
   "cell_type": "markdown",
   "metadata": {
    "slideshow": {
     "slide_type": "slide"
    }
   },
   "source": [
    "## The Jupyter framework (II/III)\n",
    "\n",
    "\n",
    "*How do we interact with Jupyter?*"
   ]
  },
  {
   "cell_type": "markdown",
   "metadata": {
    "slideshow": {
     "slide_type": "fragment"
    }
   },
   "source": [
    "Jupyter works by having cells in which you can put code. The active cell has a colored bar next to it.\n",
    "\n",
    "A cell is *`edit mode`* when there is a <span style=\"color:green\">*green*</span> bar to the left. To activate *`edit mode`* click on a cell.\n",
    "\n",
    "A cell is in *`command mode`* when the bar to the left is <span style=\"color:blue\">*blue*</span>."
   ]
  },
  {
   "cell_type": "markdown",
   "metadata": {
    "slideshow": {
     "slide_type": "fragment"
    }
   },
   "source": [
    "*How do we add and execute code?*"
   ]
  },
  {
   "cell_type": "markdown",
   "metadata": {
    "slideshow": {
     "slide_type": "fragment"
    }
   },
   "source": [
    "Go into edit mode - add the following:"
   ]
  },
  {
   "cell_type": "code",
   "execution_count": 1,
   "metadata": {
    "slideshow": {
     "slide_type": "-"
    }
   },
   "outputs": [
    {
     "data": {
      "text/plain": [
       "275"
      ]
     },
     "execution_count": 1,
     "metadata": {},
     "output_type": "execute_result"
    }
   ],
   "source": [
    "A = 11\n",
    "B = 25\n",
    "\n",
    "A*B "
   ]
  },
  {
   "cell_type": "markdown",
   "metadata": {
    "slideshow": {
     "slide_type": "fragment"
    }
   },
   "source": [
    "Click the &#9658; to run the code in the cell. What happens if we change A+B to A*B?"
   ]
  },
  {
   "cell_type": "markdown",
   "metadata": {
    "slideshow": {
     "slide_type": "slide"
    }
   },
   "source": [
    "## The Jupyter framework (III/III)\n",
    "\n",
    "\n",
    "*How can we add cells to our notebook?*"
   ]
  },
  {
   "cell_type": "markdown",
   "metadata": {
    "slideshow": {
     "slide_type": "fragment"
    }
   },
   "source": [
    "Try creating a new cell by clicking the **`+`** symbol."
   ]
  },
  {
   "cell_type": "markdown",
   "metadata": {
    "slideshow": {
     "slide_type": "fragment"
    }
   },
   "source": [
    "*Some relevant keyboard short cuts?*"
   ]
  },
  {
   "cell_type": "markdown",
   "metadata": {
    "slideshow": {
     "slide_type": "fragment"
    }
   },
   "source": [
    "Editing and executing cells\n",
    "- enter edit mode: click inside the cell or press `ENTR`\n",
    "- exit edit mode: click outside cell or press `ESC`.\n",
    "- executing code within a cell is `SHFT`+`ENTR` or `CTRL`+`ENTR` (not same!)\n",
    "\n",
    "\n",
    "Adding cell (`a` above, `b` below) and removing cells (press `d` twice)  \n",
    "\n",
    "More info:\n",
    "- For tips [see blog post](https:abjer.github.io/sds2019/post/jupyter) or see list Jupyter keyboard shortcuts in menu (top): `Help > Keyboard Shortcuts`.\n",
    "- General resources in documentation and tutorial available [here](http://jupyter.readthedocs.io/en/latest/)."
   ]
  },
  {
   "cell_type": "markdown",
   "metadata": {
    "slideshow": {
     "slide_type": "slide"
    }
   },
   "source": [
    "## Before Looking Into More Advanced Concepts...\n",
    "\n",
    "... we begin with a quiz!\n",
    "\n",
    "### Go to [kahoot.it]()"
   ]
  },
  {
   "cell_type": "markdown",
   "metadata": {
    "slideshow": {
     "slide_type": "slide"
    }
   },
   "source": [
    "## Fundamental data types (I/II)\n",
    "\n",
    "Recall the four fundamental data types: `int`, `float`, `str` and `bool`.\n",
    "- Sometimes known as elementary, primitive or basic.\n",
    "\n",
    "Some data types we can change between, e.g. between `float` and `int`."
   ]
  },
  {
   "cell_type": "code",
   "execution_count": 2,
   "metadata": {
    "slideshow": {
     "slide_type": "-"
    }
   },
   "outputs": [
    {
     "data": {
      "text/plain": [
       "1"
      ]
     },
     "execution_count": 2,
     "metadata": {},
     "output_type": "execute_result"
    }
   ],
   "source": [
    "int(1.6) # integer conversion always rounds down, i.e. floor "
   ]
  },
  {
   "cell_type": "code",
   "execution_count": 3,
   "metadata": {
    "slideshow": {
     "slide_type": "-"
    }
   },
   "outputs": [
    {
     "data": {
      "text/plain": [
       "1.0"
      ]
     },
     "execution_count": 3,
     "metadata": {},
     "output_type": "execute_result"
    }
   ],
   "source": [
    "float(int(1.6)) # it does not retake its former value"
   ]
  },
  {
   "cell_type": "markdown",
   "metadata": {
    "slideshow": {
     "slide_type": "fragment"
    }
   },
   "source": [
    "We can do the same for converting to `float` and `int` to `str`. Note some conversion are not allowed."
   ]
  },
  {
   "cell_type": "markdown",
   "metadata": {
    "slideshow": {
     "slide_type": "slide"
    }
   },
   "source": [
    "## Fundamental data types (II/II)\n",
    "\n",
    "*What is an object in Python?*"
   ]
  },
  {
   "cell_type": "markdown",
   "metadata": {
    "slideshow": {
     "slide_type": "fragment"
    }
   },
   "source": [
    "- A thing, anything - everything is an object."
   ]
  },
  {
   "cell_type": "markdown",
   "metadata": {
    "slideshow": {
     "slide_type": "fragment"
    }
   },
   "source": [
    "*Why use objects?*"
   ]
  },
  {
   "cell_type": "markdown",
   "metadata": {
    "slideshow": {
     "slide_type": "fragment"
    }
   },
   "source": [
    "- Easy manipulable, powerful methods and flexible attributes. \n",
    "- We can make complex objects, e.g. estimation methods quite easy.\n",
    "- Example of a float method:"
   ]
  },
  {
   "cell_type": "code",
   "execution_count": 4,
   "metadata": {
    "slideshow": {
     "slide_type": "-"
    }
   },
   "outputs": [
    {
     "data": {
      "text/plain": [
       "(3, 2)"
      ]
     },
     "execution_count": 4,
     "metadata": {},
     "output_type": "execute_result"
    }
   ],
   "source": [
    "(1.5).as_integer_ratio()"
   ]
  },
  {
   "cell_type": "markdown",
   "metadata": {
    "slideshow": {
     "slide_type": "slide"
    }
   },
   "source": [
    "## Debugging (I/III)\n",
    "\n",
    "*Code fails all the time!*\n"
   ]
  },
  {
   "cell_type": "code",
   "execution_count": 5,
   "metadata": {
    "slideshow": {
     "slide_type": "fragment"
    }
   },
   "outputs": [
    {
     "ename": "ValueError",
     "evalue": "invalid literal for int() with base 10: 'I am a string'",
     "output_type": "error",
     "traceback": [
      "\u001b[1;31m---------------------------------------------------------------------------\u001b[0m",
      "\u001b[1;31mValueError\u001b[0m                                Traceback (most recent call last)",
      "\u001b[1;32m<ipython-input-5-9f3059310d82>\u001b[0m in \u001b[0;36m<module>\u001b[1;34m\u001b[0m\n\u001b[0;32m      1\u001b[0m \u001b[0mA\u001b[0m\u001b[1;33m=\u001b[0m\u001b[1;34m'I am a string'\u001b[0m\u001b[1;33m\u001b[0m\u001b[1;33m\u001b[0m\u001b[0m\n\u001b[1;32m----> 2\u001b[1;33m \u001b[0mint\u001b[0m\u001b[1;33m(\u001b[0m\u001b[0mA\u001b[0m\u001b[1;33m)\u001b[0m\u001b[1;33m\u001b[0m\u001b[1;33m\u001b[0m\u001b[0m\n\u001b[0m\u001b[0;32m      3\u001b[0m \u001b[0mprint\u001b[0m\u001b[1;33m(\u001b[0m\u001b[0mA\u001b[0m\u001b[1;33m)\u001b[0m\u001b[1;33m\u001b[0m\u001b[1;33m\u001b[0m\u001b[0m\n",
      "\u001b[1;31mValueError\u001b[0m: invalid literal for int() with base 10: 'I am a string'"
     ]
    }
   ],
   "source": [
    "A='I am a string'\n",
    "int(A)\n",
    "print(A)"
   ]
  },
  {
   "cell_type": "markdown",
   "metadata": {
    "slideshow": {
     "slide_type": "slide"
    }
   },
   "source": [
    "## Debugging (II/III)\n",
    "\n",
    "*How do you fix code errors?*\n"
   ]
  },
  {
   "cell_type": "markdown",
   "metadata": {
    "slideshow": {
     "slide_type": "fragment"
    }
   },
   "source": [
    "Look at the error message:\n",
    "1. **Where** is the error? I.e. what linenumber (and which function).\n",
    "  - Inspect the elements from the failure before the error occurs. \n",
    "     - Note: if you use a function you may want to try printing elements\n",
    "  - Try replacing the objects in the line.\n",
    "  \n",
    "2. **What** goes wrong? Examples:\n",
    "  - `SyntaxError`: spelling error; `ValueError`: datatype mismatch.\n",
    "  - Hint: reread it several times, search on Google if you do not understand the error.\n"
   ]
  },
  {
   "cell_type": "markdown",
   "metadata": {
    "slideshow": {
     "slide_type": "slide"
    }
   },
   "source": [
    "## Debugging (III/III)\n",
    "\n",
    "*Exercise: investigate the error we incurred*\n"
   ]
  },
  {
   "cell_type": "markdown",
   "metadata": {
    "slideshow": {
     "slide_type": "fragment"
    }
   },
   "source": [
    "* Look at the answers in this stackoverflow post: [https://stackoverflow.com/questions/8420143](https://stackoverflow.com/questions/8420143).\n",
    "* An explanation by Blender:\n",
    "> Somewhere in your text file, a line has the word `id` in it, which can't really be converted to a number.\n"
   ]
  },
  {
   "cell_type": "markdown",
   "metadata": {
    "slideshow": {
     "slide_type": "slide"
    }
   },
   "source": [
    "## Operators\n",
    "\n",
    "*What computations can python do?*"
   ]
  },
  {
   "cell_type": "markdown",
   "metadata": {
    "slideshow": {
     "slide_type": "fragment"
    }
   },
   "source": [
    "- Numeric operators: Output a numeric value from numeric input. \n",
    "    - `+`; `*`; `-`; `/`.\n",
    "- Comparison operators: Output a boolean value, `True` or `False`\n",
    "    - `==`; `!=` (equal, not equal - input from most object types)\n",
    "    - `>`; `<`. (greater, smaller - input from numeric)\n",
    "- Logical operators: Output a boolean value from boolean input.\n",
    "    - `and` / `&`; `or` / `|`; `not` / `!`\n",
    "\n"
   ]
  },
  {
   "cell_type": "markdown",
   "metadata": {
    "slideshow": {
     "slide_type": "fragment"
    }
   },
   "source": [
    "*How can we test an expression in Python?*"
   ]
  },
  {
   "cell_type": "markdown",
   "metadata": {
    "slideshow": {
     "slide_type": "fragment"
    }
   },
   "source": [
    "We can check the validity of a statement using comparison operations:"
   ]
  },
  {
   "cell_type": "code",
   "execution_count": 6,
   "metadata": {
    "slideshow": {
     "slide_type": "-"
    }
   },
   "outputs": [
    {
     "data": {
      "text/plain": [
       "True"
      ]
     },
     "execution_count": 6,
     "metadata": {},
     "output_type": "execute_result"
    }
   ],
   "source": [
    "3 == (2 + 1) # other ops: >, !=, >="
   ]
  },
  {
   "cell_type": "markdown",
   "metadata": {
    "slideshow": {
     "slide_type": "fragment"
    }
   },
   "source": [
    "And apply logical operations:"
   ]
  },
  {
   "cell_type": "code",
   "execution_count": 15,
   "metadata": {
    "slideshow": {
     "slide_type": "fragment"
    }
   },
   "outputs": [
    {
     "data": {
      "text/plain": [
       "False"
      ]
     },
     "execution_count": 15,
     "metadata": {},
     "output_type": "execute_result"
    }
   ],
   "source": [
    "True & False # When part is false, logically the whole statement is false."
   ]
  },
  {
   "cell_type": "markdown",
   "metadata": {
    "slideshow": {
     "slide_type": "slide"
    }
   },
   "source": [
    "## Control flow (I/II)\n",
    "\n",
    "*How can we activate code based on data?*\n"
   ]
  },
  {
   "cell_type": "markdown",
   "metadata": {
    "slideshow": {
     "slide_type": "fragment"
    }
   },
   "source": [
    "A conditional execution of code, if a condition is true then active code.\n",
    "\n",
    "In Python the syntax is easy with the `if` syntax:\n",
    "\n",
    "```\n",
    "if condition:  \n",
    "    (CODE BLOCK LINE 1)\n",
    "    (CODE BLOCK LINE 2)\n",
    "    ...\n",
    "```"
   ]
  },
  {
   "cell_type": "markdown",
   "metadata": {
    "slideshow": {
     "slide_type": "-"
    }
   },
   "source": [
    "Condition is either a variable or an expression. If statement is `True` then execute a code block."
   ]
  },
  {
   "cell_type": "markdown",
   "metadata": {
    "slideshow": {
     "slide_type": "slide"
    }
   },
   "source": [
    "## Control flow (II/II)\n",
    "\n",
    "We can use comparison and logical operators directly as they output boolean values."
   ]
  },
  {
   "cell_type": "code",
   "execution_count": 16,
   "metadata": {
    "slideshow": {
     "slide_type": "-"
    }
   },
   "outputs": [
    {
     "name": "stdout",
     "output_type": "stream",
     "text": [
      "I'm being executed, yay!\n"
     ]
    }
   ],
   "source": [
    "if 4 == 4:  \n",
    "    print (\"I'm being executed, yay!\")\n",
    "else:      \n",
    "    print (\"Oh no, I'm not being executed!\")"
   ]
  },
  {
   "cell_type": "markdown",
   "metadata": {
    "slideshow": {
     "slide_type": "fragment"
    }
   },
   "source": [
    "We can make deep control flow structures:"
   ]
  },
  {
   "cell_type": "code",
   "execution_count": 17,
   "metadata": {
    "slideshow": {
     "slide_type": "-"
    }
   },
   "outputs": [
    {
     "name": "stdout",
     "output_type": "stream",
     "text": [
      "I'm large and positive!\n"
     ]
    }
   ],
   "source": [
    "A = 11\n",
    "if  A>=0:      \n",
    "    if A==0:\n",
    "        print (\"I'm exactly zero!\")\n",
    "        \n",
    "    elif A<10:\n",
    "        print (\"I'm small but positive!\")\n",
    "        \n",
    "    else:\n",
    "        print (\"I'm large and positive!\")\n",
    "else:      \n",
    "    print (\"Oh shoot, I'm negative!\")"
   ]
  },
  {
   "cell_type": "markdown",
   "metadata": {
    "slideshow": {
     "slide_type": "slide"
    }
   },
   "source": [
    "## Containers\n",
    "\n",
    "*How do we store multiple objects?*"
   ]
  },
  {
   "cell_type": "markdown",
   "metadata": {
    "slideshow": {
     "slide_type": "fragment"
    }
   },
   "source": [
    "- We put objects into containers. (Like a bag)\n",
    "- An example is a `list` where we can add and remove objects"
   ]
  },
  {
   "cell_type": "markdown",
   "metadata": {
    "slideshow": {
     "slide_type": "fragment"
    }
   },
   "source": [
    "*What are they useful for?*"
   ]
  },
  {
   "cell_type": "markdown",
   "metadata": {
    "slideshow": {
     "slide_type": "fragment"
    }
   },
   "source": [
    "- We can use them to compute statistics (max, min, mean)"
   ]
  },
  {
   "cell_type": "markdown",
   "metadata": {
    "slideshow": {
     "slide_type": "slide"
    }
   },
   "source": [
    "## Sequential containers\n",
    "\n",
    "*Which data types are ordered?*"
   ]
  },
  {
   "cell_type": "markdown",
   "metadata": {
    "slideshow": {
     "slide_type": "fragment"
    }
   },
   "source": [
    "- Sequential containers are ordered from first to last. \n",
    "- They can be accessed using their element using integer position/order.\n",
    "    - Done with square bracket syntax `[]` \n",
    "    - Note **first element is 0, and last is n-1!**\n",
    "    - One exception are iterators (`iter`) which are incredibly fast."
   ]
  },
  {
   "cell_type": "markdown",
   "metadata": {
    "slideshow": {
     "slide_type": "fragment"
    }
   },
   "source": [
    "*Which containers are sequential?*"
   ]
  },
  {
   "cell_type": "markdown",
   "metadata": {
    "slideshow": {
     "slide_type": "fragment"
    }
   },
   "source": [
    "- `list` which we can modify (**mutable**).\n",
    "    - useful to collect data on the go\n",
    "- `tuple` which is after initial assignment (**immutable**)\n",
    "     - tuples are faster as they can do less things\n",
    "- `array` \n",
    "    - which is mutable in content (i.e. we can change elements)\n",
    "    - but immutable in size\n",
    "    - great for data analysis\n"
   ]
  },
  {
   "cell_type": "markdown",
   "metadata": {
    "slideshow": {
     "slide_type": "slide"
    }
   },
   "source": [
    "## Lists\n",
    "\n",
    "A list can be modified (mutated) by methods, e.g.\n",
    "- We can `append` objects to it and remove `remove` them again.\n",
    "- We can use operations like `+` and `*`.\n"
   ]
  },
  {
   "cell_type": "code",
   "execution_count": 18,
   "metadata": {
    "slideshow": {
     "slide_type": "-"
    }
   },
   "outputs": [
    {
     "data": {
      "text/plain": [
       "['A', 'B', 'C', 'D']"
      ]
     },
     "execution_count": 18,
     "metadata": {},
     "output_type": "execute_result"
    }
   ],
   "source": [
    "list_1 = ['A', 'B']\n",
    "list_2 = ['C', 'D']\n",
    "list_1 + list_2  "
   ]
  },
  {
   "cell_type": "markdown",
   "metadata": {
    "slideshow": {
     "slide_type": "slide"
    }
   },
   "source": [
    "## Non-sequential types\n",
    "\n",
    "*Are there any non-sequential containers?*\n",
    "- A dictionary (`dict`)  which are accessed by keys (immutable objects).\n",
    "    - Focus of tomorrow.\n",
    "- A `set` where elements are\n",
    "    - unique (no duplicates) \n",
    "    - not ordered\n",
    "    - disadvantage: cannot access specific elements!\n"
   ]
  },
  {
   "cell_type": "markdown",
   "metadata": {
    "slideshow": {
     "slide_type": "slide"
    }
   },
   "source": [
    "## For loops\n",
    "\n",
    "*Why are containers so powerful?*\n",
    "\n"
   ]
  },
  {
   "cell_type": "markdown",
   "metadata": {
    "slideshow": {
     "slide_type": "fragment"
    }
   },
   "source": [
    "We can iterate over elements in a container -  this creates a *finite* loop, called the `for` loop. \n",
    "\n",
    "Example - try the following code:"
   ]
  },
  {
   "cell_type": "code",
   "execution_count": 19,
   "metadata": {
    "slideshow": {
     "slide_type": "-"
    }
   },
   "outputs": [
    {
     "name": "stdout",
     "output_type": "stream",
     "text": [
      "0\n",
      "1\n",
      "4\n",
      "9\n"
     ]
    }
   ],
   "source": [
    "A = []\n",
    "for i in range(4):\n",
    "    i_squared = i**2\n",
    "    A.append(i_squared)\n",
    "\n",
    "for a in A:\n",
    "    print(a)"
   ]
  },
  {
   "cell_type": "markdown",
   "metadata": {
    "slideshow": {
     "slide_type": "fragment"
    }
   },
   "source": [
    "For loops are smart when: iterating over files in a directory; iterating over specific set of columns."
   ]
  },
  {
   "cell_type": "markdown",
   "metadata": {
    "slideshow": {
     "slide_type": "fragment"
    }
   },
   "source": [
    "How does Python know where the code associated with inside of the loop begins?"
   ]
  },
  {
   "cell_type": "markdown",
   "metadata": {
    "slideshow": {
     "slide_type": "slide"
    }
   },
   "source": [
    "## The one line loop\n",
    "\n",
    "*What is the fastest way to write a loop?*"
   ]
  },
  {
   "cell_type": "markdown",
   "metadata": {
    "slideshow": {
     "slide_type": "fragment"
    }
   },
   "source": [
    "Using list comprehension (also work for containers):"
   ]
  },
  {
   "cell_type": "code",
   "execution_count": 20,
   "metadata": {
    "slideshow": {
     "slide_type": "-"
    }
   },
   "outputs": [
    {
     "name": "stdout",
     "output_type": "stream",
     "text": [
      "[0, 1, 4, 9]\n"
     ]
    }
   ],
   "source": [
    "A = [i**2 for i in range(4)]\n",
    "print(A)"
   ]
  },
  {
   "cell_type": "markdown",
   "metadata": {
    "slideshow": {
     "slide_type": "slide"
    }
   },
   "source": [
    "\n",
    "## While loops\n",
    "\n",
    "*Can we make a loop without specifying the end?*"
   ]
  },
  {
   "cell_type": "markdown",
   "metadata": {
    "slideshow": {
     "slide_type": "fragment"
    }
   },
   "source": [
    "Yes, this is called a `while` loop. Example - try the following code:\n"
   ]
  },
  {
   "cell_type": "code",
   "execution_count": 21,
   "metadata": {
    "slideshow": {
     "slide_type": "-"
    }
   },
   "outputs": [
    {
     "name": "stdout",
     "output_type": "stream",
     "text": [
      "[0, 2, 4]\n"
     ]
    }
   ],
   "source": [
    "i = 0\n",
    "L = []\n",
    "while (i<3):\n",
    "    L.append(i*2)\n",
    "    i += 1\n",
    "print(L)"
   ]
  },
  {
   "cell_type": "markdown",
   "metadata": {
    "slideshow": {
     "slide_type": "fragment"
    }
   },
   "source": [
    "Applications\n",
    "- Can be applied in scraping, model which converges, etc.\n",
    "- Make server process that keeps running"
   ]
  },
  {
   "cell_type": "markdown",
   "metadata": {
    "slideshow": {
     "slide_type": "slide"
    }
   },
   "source": [
    "## Making Code Reusable\n"
   ]
  },
  {
   "cell_type": "markdown",
   "metadata": {
    "slideshow": {
     "slide_type": "slide"
    }
   },
   "source": [
    "### Functions\n",
    "Be careful of how you define input/outputs and how objects are created. In particular:"
   ]
  },
  {
   "cell_type": "markdown",
   "metadata": {
    "slideshow": {
     "slide_type": "fragment"
    }
   },
   "source": [
    "- Globals: Objects defined outside function\n",
    "    - Note: These are available both locally and globally (although, they can be overwritten)\n",
    "- Locals: Objects that are created within a sub-level. \n",
    "    - Example: objects defined inside a function\n",
    "    - Cannot use outside, unless we use `return`"
   ]
  },
  {
   "cell_type": "markdown",
   "metadata": {
    "slideshow": {
     "slide_type": "slide"
    }
   },
   "source": [
    "### Checklist for Functions\n",
    "Some key questions that you should often ask yourself:\n",
    "- Should I write a function?\n",
    "    - If you are repeating some process: Yes!\n",
    "    - Makes code easier to write (better overview, less mistakes) and read\n",
    "- If yes:\n",
    "    - What do you intend the function to output? Is the correct output returned?\n",
    "    - Do you use locals where possible? \n",
    "    - Are globals assigned before you define the function in notebook/script?\n",
    "        - (if not, your function may fail! Reason: some used globals are not defined)\n"
   ]
  },
  {
   "cell_type": "markdown",
   "metadata": {
    "slideshow": {
     "slide_type": "slide"
    }
   },
   "source": [
    "### Classes \n",
    "Where do objects come from?"
   ]
  },
  {
   "cell_type": "markdown",
   "metadata": {},
   "source": [
    "- From a collection of pre-defined attributes and methods $-$ this is called a `class`.\n",
    "- We can make our own. It is complex, but powerful.\n",
    "- Examples of classes/objects we will see: \n",
    "    - Dataframes, scraping tools, machine learning models etc.\n",
    "    - (everything is an object)"
   ]
  },
  {
   "cell_type": "markdown",
   "metadata": {
    "slideshow": {
     "slide_type": "slide"
    }
   },
   "source": [
    "## Copy vs. View\n",
    "\n",
    "Important, when writing code `A = B`, then `A` is only a reference to `B`!\n",
    "\n",
    "- In other words: `A` is a **view** of `B`\n",
    "- Implication \n",
    "    - if `A` is mutable, e.g. list, dataframe: changes to `B` shows up in `A` and vice versa \n",
    "\n",
    "We can break this dependency by explicitly making **copy**. \n",
    "- For instance, in pandas use `A = B.copy()` method\n",
    "\n"
   ]
  },
  {
   "cell_type": "markdown",
   "metadata": {
    "slideshow": {
     "slide_type": "slide"
    }
   },
   "source": [
    "## Coding That is Fast"
   ]
  },
  {
   "cell_type": "markdown",
   "metadata": {
    "slideshow": {
     "slide_type": "slide"
    }
   },
   "source": [
    "### One-liners using comprehensions\n",
    "\n",
    "A very compact way of writing code: *comprehension*. Example of list comprehension:\n",
    "```python\n",
    "new_list = [my_proc(a) for a in my_list] \n",
    "```\n",
    "\n",
    "The new thing is that we define loop inside the list! \n"
   ]
  },
  {
   "cell_type": "code",
   "execution_count": 22,
   "metadata": {},
   "outputs": [
    {
     "name": "stdout",
     "output_type": "stream",
     "text": [
      "my_list: [1, 2, 3, 4, 5, 6, 7, 8, 9, 10]\n",
      "new_list: [1, 4, 9, 16, 25, 36, 49, 64, 81, 100]\n"
     ]
    }
   ],
   "source": [
    "# Define function\n",
    "def my_proc(a):\n",
    "    return a**2\n",
    "\n",
    "# Generate a list\n",
    "my_list = []\n",
    "for i in range(10):\n",
    "    my_list.append(i+1)\n",
    "\n",
    "# Use line from before to generate transformation \n",
    "new_list = [my_proc(a) for a in my_list]\n",
    "\n",
    "# Print lists\n",
    "print('my_list:', my_list)\n",
    "print('new_list:', new_list)"
   ]
  },
  {
   "cell_type": "markdown",
   "metadata": {
    "slideshow": {
     "slide_type": "slide"
    }
   },
   "source": [
    "### The Need for Speed\n",
    "Python is elegant and simple\n",
    "\n",
    "However, Python is NOT built for speed. \n",
    "\n",
    "We can compensate by using smart packages that have fast algorithms, e.g. numpy and pandas\n"
   ]
  },
  {
   "cell_type": "markdown",
   "metadata": {
    "slideshow": {
     "slide_type": "slide"
    }
   },
   "source": [
    "### Vectorization\n",
    "\n",
    "An alternative is to write our code in terms of numpy arrays.\n",
    "\n",
    "In example below, we generate a long list by making some transformation of an input... we get around 30 times speed-up by using numpy!"
   ]
  },
  {
   "cell_type": "code",
   "execution_count": 23,
   "metadata": {},
   "outputs": [
    {
     "name": "stdout",
     "output_type": "stream",
     "text": [
      "821 ms ± 21.8 ms per loop (mean ± std. dev. of 7 runs, 1 loop each)\n"
     ]
    }
   ],
   "source": [
    "%%timeit \n",
    "[i+3 for i in range(10**7)]"
   ]
  },
  {
   "cell_type": "code",
   "execution_count": 24,
   "metadata": {},
   "outputs": [],
   "source": [
    "import numpy as np"
   ]
  },
  {
   "cell_type": "code",
   "execution_count": 25,
   "metadata": {},
   "outputs": [
    {
     "name": "stdout",
     "output_type": "stream",
     "text": [
      "24.8 ms ± 1.29 ms per loop (mean ± std. dev. of 7 runs, 10 loops each)\n"
     ]
    }
   ],
   "source": [
    "%%timeit\n",
    "np.arange(10**7)+3"
   ]
  },
  {
   "cell_type": "markdown",
   "metadata": {
    "slideshow": {
     "slide_type": "slide"
    }
   },
   "source": [
    "### Take Away on Speed\n",
    "\n",
    "Use pandas or numpy - they are optimized for speed! \n",
    "\n",
    "Why are pandas and numpy fast? \n",
    "\n",
    "- Because they are written in fast, low-level code with optimized algorithms! \n",
    "\n",
    "Why are we not learning low level? \n",
    "- Requires too much space for simple operations - not efficient!\n",
    "- Too steep learning curve (not like Python!!)"
   ]
  },
  {
   "cell_type": "markdown",
   "metadata": {
    "slideshow": {
     "slide_type": "slide"
    }
   },
   "source": [
    "# Outro\n",
    "\n",
    "- Coding is tough, but worth learning\n",
    "    - Also for social scientists\n",
    "- You can dig deeper into\n",
    "   - Advanced python\n",
    "   - Git for saving and sharing code\n",
    "   \n",
    "- Next lecture this afternoon: Strings, queries and APIs"
   ]
  }
 ],
 "metadata": {
  "celltoolbar": "Slideshow",
  "kernelspec": {
   "display_name": "Python 3",
   "language": "python",
   "name": "python3"
  },
  "language_info": {
   "codemirror_mode": {
    "name": "ipython",
    "version": 3
   },
   "file_extension": ".py",
   "mimetype": "text/x-python",
   "name": "python",
   "nbconvert_exporter": "python",
   "pygments_lexer": "ipython3",
   "version": "3.8.5"
  }
 },
 "nbformat": 4,
 "nbformat_minor": 4
}
