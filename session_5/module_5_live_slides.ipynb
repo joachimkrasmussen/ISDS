{
 "cells": [
  {
   "cell_type": "markdown",
   "metadata": {
    "slideshow": {
     "slide_type": "slide"
    }
   },
   "source": [
    "<style>\n",
    ".rendered_html * + ul {\n",
    "\tmargin-top: 0.5em;\n",
    "}\n",
    "    div.text_cell_render {\n",
    "    padding: 0.0em 0.0em 0.0em 0.0em;\n",
    "}\n",
    "    .reveal p {\n",
    "    margin: 20px 10;\n",
    "    line-height: 1.3;\n",
    "}\n",
    "    html, body, .reveal div, .reveal span, .reveal applet, .reveal object, .reveal iframe, .reveal h1, .reveal h2, .reveal h3, .reveal h4, .reveal h5, .reveal h6, .reveal p, .reveal blockquote, .reveal pre, .reveal a, .reveal abbr, .reveal acronym, .reveal address, .reveal big, .reveal cite, .reveal code, .reveal del, .reveal dfn, .reveal em, .reveal img, .reveal ins, .reveal kbd, .reveal q, .reveal s, .reveal samp, .reveal small, .reveal strike, .reveal strong, .reveal sub, .reveal sup, .reveal tt, .reveal var, .reveal b, .reveal u, .reveal center, .reveal dl, .reveal dt, .reveal dd, .reveal ol, .reveal ul, .reveal li, .reveal fieldset, .reveal form, .reveal label, .reveal legend, .reveal table, .reveal caption, .reveal tbody, .reveal tfoot, .reveal thead, .reveal tr, .reveal th, .reveal td, .reveal article, .reveal aside, .reveal canvas, .reveal details, .reveal embed, .reveal figure, .reveal figcaption, .reveal footer, .reveal header, .reveal hgroup, .reveal menu, .reveal nav, .reveal output, .reveal ruby, .reveal section, .reveal summary, .reveal time, .reveal mark, .reveal audio, .reveal video {\n",
    "    margin-bottom: -1px;\n",
    "}\n",
    "    div.text_cell_render {\n",
    "    padding: 0em 0em 0.5em 0.0em;\n",
    "}\n",
    "</style>\n",
    "\n",
    "# Session 5: Strings, Queries and APIs\n",
    "\n",
    "*Joachim Kahr Rasmussen*"
   ]
  },
  {
   "cell_type": "markdown",
   "metadata": {
    "slideshow": {
     "slide_type": "slide"
    }
   },
   "source": [
    "## Recap (I/II) \n",
    "\n",
    "We can think of there as being two 'types' of plots:\n",
    "- **Exploratory** plots: Figures for understanding data\n",
    "    - Quick to produce $\\sim$ minimal polishing\n",
    "    - Interesting feature may by implied by the producer\n",
    "    - Be careful showing these out of context\n",
    "- **Explanatory** plots: Figures to convey a message\n",
    "    - Polished figures\n",
    "    - Direct attention to interesting feature in the data\n",
    "    - Minimize risk of misunderstanding"
   ]
  },
  {
   "cell_type": "markdown",
   "metadata": {
    "slideshow": {
     "slide_type": "fragment"
    }
   },
   "source": [
    "There exist several packages for plotting. "
   ]
  },
  {
   "cell_type": "markdown",
   "metadata": {
    "slideshow": {
     "slide_type": "fragment"
    }
   },
   "source": [
    "Some popular ones:\n",
    "- `Matplotlib` is good for customization (explanatory plots)\n",
    "    - Might take a lot of time when customizing!\n",
    "- `Seaborn` and `Pandas` are good quick and dirty plots (exploratory)"
   ]
  },
  {
   "cell_type": "markdown",
   "metadata": {
    "slideshow": {
     "slide_type": "slide"
    }
   },
   "source": [
    "## Recap (II/II) \n",
    "\n",
    "We need to put a lot of thinking in how to present data.\n",
    "\n",
    "In particular, one must consider the *type* of data that is to be presented:"
   ]
  },
  {
   "cell_type": "markdown",
   "metadata": {
    "slideshow": {
     "slide_type": "fragment"
    }
   },
   "source": [
    "- One variable:\n",
    "    - Categorical: Pie charts, simple counts, etc.\n",
    "    - Numeric: Histograms, distplot (/cumulative) in seaborn\n"
   ]
  },
  {
   "cell_type": "markdown",
   "metadata": {
    "slideshow": {
     "slide_type": "fragment"
    }
   },
   "source": [
    "- Multiple variables:\n",
    "    - `scatter` (matplotlib) or `jointplot` (seaborn) for (i) simple descriptives when (ii) both variables are numeric and (iii) there are not too many observations\n",
    "    - `lmplot` or `regplot` (seaborn) when you also want to fit a linear model\n",
    "    - `barplot` (matplotlib), `catplot` and `violinplot` (both seaborn) when one or more variables are categorical\n",
    "    - the option `hue` allows you to add a \"third\" categorical dimension... use with care\n",
    "    - Lots of other plot types and options. Go explore yourself!"
   ]
  },
  {
   "cell_type": "markdown",
   "metadata": {
    "slideshow": {
     "slide_type": "fragment"
    }
   },
   "source": [
    "- When you just want to explore: `pairplot` (seaborn) plots all pairwise correlations"
   ]
  },
  {
   "cell_type": "markdown",
   "metadata": {
    "slideshow": {
     "slide_type": "slide"
    }
   },
   "source": [
    "# Questions from Yesterday\n",
    "\n",
    "I have tried to gather some questions that seemed to address more general issues:\n",
    "- *4432*\n",
    "\n",
    "Other questions?\n"
   ]
  },
  {
   "cell_type": "markdown",
   "metadata": {
    "slideshow": {
     "slide_type": "slide"
    }
   },
   "source": [
    "# Overview of Session 5\n",
    "\n",
    "Today, we will work with strings, requests and APIs. In particular, we will cover:\n",
    "1. Git for version control:\n",
    "    - It is useful when several people are colaborating on the same code. \n",
    "    - Today: Motivation for trying Git\n",
    "2. Markdown for exposition:\n",
    "    - How to start using Markdown \n",
    "3. Text as data:\n",
    "    - What is a string, and how do we work with it?\n",
    "    - What kinds of text data does there exist?\n",
    "4. Key Based Containers:\n",
    "    - What is a dictionary, and how is this different from lists and tuples?\n",
    "    - When are dictionaries useful, and how do we work with them?\n",
    "5. Interacting with the web:\n",
    "    - What is HTTP and HTML?\n",
    "    - What is an API, and how do interact with it?\n",
    "6. Leveraging APIs:\n",
    "    - What kinds of data can be extracted via an API?\n",
    "    - How do we translate an API into useful data?"
   ]
  },
  {
   "cell_type": "markdown",
   "metadata": {
    "slideshow": {
     "slide_type": "slide"
    }
   },
   "source": [
    "# Associated Readings\n",
    "\n",
    "PDA:\n",
    "- Section 2.3: How to work with strings in Python\n",
    "- Section 3.3: Opening text files, interpreting characters\n",
    "- Section 6.1: Opening and working with CSV files\n",
    "- Section 6.3: Intro to interacting with APIs\n",
    "- Section 7.3: Manipulating strings\n",
    "\n",
    "Gazarov (2016): \"What is an API? In English, please.\"\n",
    "- Excellent and easily understood intro to the concept\n",
    "- Examples of different 'types' of APIs\n",
    "- Intro to the concepts of servers, clients and HTML"
   ]
  },
  {
   "cell_type": "markdown",
   "metadata": {
    "slideshow": {
     "slide_type": "slide"
    }
   },
   "source": [
    "# Text as Data"
   ]
  },
  {
   "cell_type": "markdown",
   "metadata": {
    "slideshow": {
     "slide_type": "slide"
    }
   },
   "source": [
    "## Why Text Data\n",
    "\n",
    "Data is everywhere... and collection is taking speed! \n",
    "- Personal devices and [what we have at home](https://www.washingtonpost.com/technology/2019/05/06/alexa-has-been-eavesdropping-you-this-whole-time/)\n",
    "- Online in terms of news websites, wikipedia, social media, blogs, document archives \n",
    "\n",
    "Working with text data opens up interesting new avenues for analysis and research. Some cool examples:\n",
    "  - [The predictive information from central bank meeting minutes](https://sekhansen.github.io/pdf_files/qje_2018.pdf)\n",
    "  - [Choice of words by politicians - which shows increased polarization](https://www.brown.edu/Research/Shapiro/pdfs/politext.pdf)"
   ]
  },
  {
   "cell_type": "markdown",
   "metadata": {
    "slideshow": {
     "slide_type": "slide"
    }
   },
   "source": [
    "## How Text Data\n",
    "\n",
    "Data from the web often comes in HTML or other text format\n",
    "\n",
    "In this course, you will get tools to do basic work with text as data.\n",
    "\n",
    "However, in order to do that:\n",
    "\n",
    "- learn how to manipulate and save strings\n",
    "- save our text data in smart ways (JSON)\n",
    "- interact with the web\n",
    "\n",
    "First things first..."
   ]
  },
  {
   "cell_type": "markdown",
   "metadata": {
    "slideshow": {
     "slide_type": "slide"
    }
   },
   "source": [
    "# Video 5.1: Key Based Containers"
   ]
  },
  {
   "cell_type": "markdown",
   "metadata": {
    "slideshow": {
     "slide_type": "slide"
    }
   },
   "source": [
    "## Containers Recap (I/II)\n",
    "\n",
    "*What are containers? Which have we seen?*"
   ]
  },
  {
   "cell_type": "markdown",
   "metadata": {
    "slideshow": {
     "slide_type": "fragment"
    }
   },
   "source": [
    "Sequential containers:\n",
    "- `list` which we can modify (**mutable**).\n",
    "    - useful to collect data on the go\n",
    "- `tuple` which is after initial assignment **immutable**\n",
    "     - tuples are faster as they can do less things\n",
    "- `array` \n",
    "    - which is mutable in content (i.e. we can change elements)\n",
    "    - but immutable in size\n",
    "    - great for data analysis"
   ]
  },
  {
   "cell_type": "markdown",
   "metadata": {
    "slideshow": {
     "slide_type": "slide"
    }
   },
   "source": [
    "## Containers Recap (II/II)"
   ]
  },
  {
   "cell_type": "markdown",
   "metadata": {
    "slideshow": {
     "slide_type": "fragment"
    }
   },
   "source": [
    "Non-sequential containers:\n",
    "- Dictionaries (`dict`) which are accessed by keys (immutable objects).\n",
    "- Sets (`set`) where elements are\n",
    "    - unique (no duplicates) \n",
    "    - not ordered\n",
    "    - disadvantage: cannot access specific elements!"
   ]
  },
  {
   "cell_type": "markdown",
   "metadata": {
    "slideshow": {
     "slide_type": "slide"
    }
   },
   "source": [
    "## Dictionaries Recap (I/II)\n",
    "\n",
    "*How did we make a container which is accessed by arbitrary keys?*"
   ]
  },
  {
   "cell_type": "markdown",
   "metadata": {
    "slideshow": {
     "slide_type": "fragment"
    }
   },
   "source": [
    "By using a dictionary, `dict`. Simple way of constructing a `dict`:"
   ]
  },
  {
   "cell_type": "code",
   "execution_count": 3,
   "metadata": {
    "slideshow": {
     "slide_type": "-"
    }
   },
   "outputs": [],
   "source": [
    "my_dict = {'Andreas': 'Assistant Professor',\n",
    "           'Joachim': 'PhD Fellow',\n",
    "           'Nicklas': 'PhD Fellow',\n",
    "           'Terne': 'PhD Fellow'}"
   ]
  },
  {
   "cell_type": "code",
   "execution_count": 2,
   "metadata": {
    "slideshow": {
     "slide_type": "-"
    }
   },
   "outputs": [
    {
     "name": "stdout",
     "output_type": "stream",
     "text": [
      "PhD Fellow\n"
     ]
    }
   ],
   "source": [
    "print(my_dict['Joachim'])"
   ]
  },
  {
   "cell_type": "code",
   "execution_count": 49,
   "metadata": {
    "slideshow": {
     "slide_type": "-"
    }
   },
   "outputs": [
    {
     "name": "stdout",
     "output_type": "stream",
     "text": [
      "1000\n"
     ]
    }
   ],
   "source": [
    "my_new_dict = {}\n",
    "for a in range(0,100):\n",
    "    my_new_dict[\"cube%s\" %a] = a**3\n",
    "    \n",
    "print(my_new_dict['cube10'])"
   ]
  },
  {
   "cell_type": "markdown",
   "metadata": {
    "slideshow": {
     "slide_type": "slide"
    }
   },
   "source": [
    "## Dictionaries Recap (II/II)\n",
    "\n",
    "Dictionaries can also be constructed from two associated lists. These are tied together with the `zip` function. Try the following code:"
   ]
  },
  {
   "cell_type": "code",
   "execution_count": 51,
   "metadata": {
    "slideshow": {
     "slide_type": "-"
    }
   },
   "outputs": [
    {
     "name": "stdout",
     "output_type": "stream",
     "text": [
      "[('a', 2), ('b', 3), ('c', 4)]\n"
     ]
    }
   ],
   "source": [
    "keys = ['a', 'b', 'c']\n",
    "values = range(2,5)\n",
    "\n",
    "key_value_pairs = list(zip(keys, values))\n",
    "print(key_value_pairs) #Print as a list of tuples"
   ]
  },
  {
   "cell_type": "code",
   "execution_count": 54,
   "metadata": {
    "scrolled": true,
    "slideshow": {
     "slide_type": "-"
    }
   },
   "outputs": [
    {
     "name": "stdout",
     "output_type": "stream",
     "text": [
      "{'a': 2, 'b': 3, 'c': 4}\n"
     ]
    }
   ],
   "source": [
    "my_dict2 = dict(key_value_pairs)\n",
    "print(my_dict2) #Print dictionary"
   ]
  },
  {
   "cell_type": "code",
   "execution_count": 55,
   "metadata": {},
   "outputs": [
    {
     "name": "stdout",
     "output_type": "stream",
     "text": [
      "2\n"
     ]
    }
   ],
   "source": [
    "print(my_dict2['a']) #Fetch the value associated with 'a'"
   ]
  },
  {
   "cell_type": "markdown",
   "metadata": {
    "slideshow": {
     "slide_type": "slide"
    }
   },
   "source": [
    "## Storing Containers\n",
    "\n",
    "*Does there exist a file format for easy storage of containers?*"
   ]
  },
  {
   "cell_type": "markdown",
   "metadata": {
    "slideshow": {
     "slide_type": "fragment"
    }
   },
   "source": [
    "Yes, the JSON file format.\n",
    "- Can store lists and dictionaries.\n",
    "- Syntax is the same as Python lists and dictionaries - only add quotation marks. \n",
    "    - Example: `'{\"a\":1,\"b\":1}'`"
   ]
  },
  {
   "cell_type": "markdown",
   "metadata": {
    "slideshow": {
     "slide_type": "fragment"
    }
   },
   "source": [
    "*Why is JSON so useful?*"
   ]
  },
  {
   "cell_type": "markdown",
   "metadata": {
    "slideshow": {
     "slide_type": "fragment"
    }
   },
   "source": [
    "- Standard format that looks exactly like Python.\n",
    "- Extreme flexibility:\n",
    "    - Can hold any list or dictionary of any depth which contains only float, int, str.\n",
    "    - Does not work well with other formats, but normally holds any structured data.\n",
    "        - Extension to spatial data: GeoJSON"
   ]
  },
  {
   "cell_type": "markdown",
   "metadata": {
    "slideshow": {
     "slide_type": "slide"
    }
   },
   "source": [
    "# VIDEO: Interacting with the Web"
   ]
  },
  {
   "cell_type": "markdown",
   "metadata": {
    "slideshow": {
     "slide_type": "slide"
    }
   },
   "source": [
    "## The Internet as Data (I/II)\n",
    "\n",
    "When we surf around the internet we are exposed to a wealth of information."
   ]
  },
  {
   "cell_type": "markdown",
   "metadata": {
    "slideshow": {
     "slide_type": "fragment"
    }
   },
   "source": [
    "- What if we could take this and analyze it?"
   ]
  },
  {
   "cell_type": "markdown",
   "metadata": {
    "slideshow": {
     "slide_type": "fragment"
    }
   },
   "source": [
    "Well, we can. And we will. "
   ]
  },
  {
   "cell_type": "markdown",
   "metadata": {
    "slideshow": {
     "slide_type": "fragment"
    }
   },
   "source": [
    "Examples: Facebook, Twitter, Reddit, Wikipedia, Airbnb etc."
   ]
  },
  {
   "cell_type": "markdown",
   "metadata": {
    "slideshow": {
     "slide_type": "slide"
    }
   },
   "source": [
    "## The Internet as Data (II/II)\n",
    "\n",
    "Sometimes we get lucky. The data is served to us."
   ]
  },
  {
   "cell_type": "markdown",
   "metadata": {
    "slideshow": {
     "slide_type": "fragment"
    }
   },
   "source": [
    "- The data is provided as an `API` service (today)\n",
    "- The data can extracted by queries on underlying tables (scraping sessions)\n"
   ]
  },
  {
   "cell_type": "markdown",
   "metadata": {
    "slideshow": {
     "slide_type": "fragment"
    }
   },
   "source": [
    "However, often we need to do the work ourselves (scraping sessions)\n",
    "\n",
    "- We need to explore the structure of the webpage we are interested in\n",
    "- We can extract relevant elements \n",
    "   "
   ]
  },
  {
   "cell_type": "markdown",
   "metadata": {
    "slideshow": {
     "slide_type": "slide"
    }
   },
   "source": [
    "## Web Interactions\n",
    "\n",
    "In the words of Gazarov (2016): The web can be seen as a large network of connected servers\n",
    "- Every page on the internet is stored somewhere on a remote server\n",
    "    - Remove server $\\sim$ remotely located computer that is optimized to process requests"
   ]
  },
  {
   "cell_type": "markdown",
   "metadata": {
    "slideshow": {
     "slide_type": "fragment"
    }
   },
   "source": [
    "- When accessing a web page through browser:\n",
    "    - Your browser (the *client*) sends a request to the website's server\n",
    "    - The server then sends code back to the browser\n",
    "    - This code is interpreted by the browser and displayed\n"
   ]
  },
  {
   "cell_type": "markdown",
   "metadata": {
    "slideshow": {
     "slide_type": "fragment"
    }
   },
   "source": [
    "- Websites come in the form of HTML $-$ APIs only contain data (often in *JSON* format) without presentational overhead"
   ]
  },
  {
   "cell_type": "markdown",
   "metadata": {
    "slideshow": {
     "slide_type": "slide"
    }
   },
   "source": [
    "## The Web Protocol\n",
    "*What is `http` and where is it used?*"
   ]
  },
  {
   "cell_type": "markdown",
   "metadata": {
    "slideshow": {
     "slide_type": "fragment"
    }
   },
   "source": [
    "- `http` stands for HyperText Transfer Protocol.\n",
    "- `http` is good for transmitting the data when a webpage is visited:\n",
    "   - the visiting client sends request for URL or object;\n",
    "   - the server returns relevant data if active."
   ]
  },
  {
   "cell_type": "markdown",
   "metadata": {
    "slideshow": {
     "slide_type": "fragment"
    }
   },
   "source": [
    "*Should we care about `http`?*"
   ]
  },
  {
   "cell_type": "markdown",
   "metadata": {
    "slideshow": {
     "slide_type": "fragment"
    }
   },
   "source": [
    "- In this course we ***do not*** care explicitly about `http`. \n",
    "- We use a Python module called `requests` as a `http` interface.\n",
    "- However... Some useful advice - you should **always**:\n",
    "  - use the encrypted version, `https`;\n",
    "  - use authenticated connection, i.e. private login, whenever possible."
   ]
  },
  {
   "cell_type": "markdown",
   "metadata": {
    "slideshow": {
     "slide_type": "slide"
    }
   },
   "source": [
    "## Markup Language\n",
    "*What is `html` and where is it used?*"
   ]
  },
  {
   "cell_type": "markdown",
   "metadata": {
    "slideshow": {
     "slide_type": "fragment"
    }
   },
   "source": [
    "- HyperText Markup Lanugage\n",
    "- `html` is a language for communicating how a webpage looks like and behaves.\n",
    "  - That is, `html` contains: content, design, available actions."
   ]
  },
  {
   "cell_type": "markdown",
   "metadata": {
    "slideshow": {
     "slide_type": "fragment"
    }
   },
   "source": [
    "*Should we care about `html`?*"
   ]
  },
  {
   "cell_type": "markdown",
   "metadata": {
    "slideshow": {
     "slide_type": "fragment"
    }
   },
   "source": [
    "- Yes, `html` is often where the interesting data can be found.\n",
    "- Sometimes, we are lucky, and instead of `html` we get a JSON in return. \n",
    "- Getting data from `html` will the topic of the subsequent scraping sessions."
   ]
  },
  {
   "cell_type": "markdown",
   "metadata": {
    "slideshow": {
     "slide_type": "slide"
    }
   },
   "source": [
    "# VIDEO: Leveraging APIs "
   ]
  },
  {
   "cell_type": "markdown",
   "metadata": {
    "slideshow": {
     "slide_type": "slide"
    }
   },
   "source": [
    "## Web APIs (I/IV)\n",
    "*So when do we get lucky, i.e. when is `html` not important?*"
   ]
  },
  {
   "cell_type": "markdown",
   "metadata": {
    "slideshow": {
     "slide_type": "fragment"
    }
   },
   "source": [
    "- When we get a Application Programming Interface (`API`) on the web\n",
    "- What does this mean?\n",
    "  - We send a query to the Web API \n",
    "  - We get a response from the Web API with data back in return, typically as JSON.\n",
    "  - The API usually provides access to a database or some service"
   ]
  },
  {
   "cell_type": "markdown",
   "metadata": {
    "slideshow": {
     "slide_type": "slide"
    }
   },
   "source": [
    "## Web APIs (II/IV)\n",
    "*So where is the API?*"
   ]
  },
  {
   "cell_type": "markdown",
   "metadata": {
    "slideshow": {
     "slide_type": "fragment"
    }
   },
   "source": [
    "- Usually on separate sub-domain, e.g. `api.github.com`\n",
    "- Sometimes hidden in code (see sessions on scraping) "
   ]
  },
  {
   "cell_type": "markdown",
   "metadata": {
    "slideshow": {
     "slide_type": "fragment"
    }
   },
   "source": [
    "*So how do we know how the API works?*"
   ]
  },
  {
   "cell_type": "markdown",
   "metadata": {
    "slideshow": {
     "slide_type": "fragment"
    }
   },
   "source": [
    "- There usually is some documentation. E.g. google [\"api github com\"](https://www.google.com/search?q=api+github)"
   ]
  },
  {
   "cell_type": "markdown",
   "metadata": {
    "slideshow": {
     "slide_type": "slide"
    }
   },
   "source": [
    "## Web APIs (III/IV)\n",
    "*So is data free? As in free lunch?*"
   ]
  },
  {
   "cell_type": "markdown",
   "metadata": {
    "slideshow": {
     "slide_type": "fragment"
    }
   },
   "source": [
    "- Most commercial APIs require authentication and have limited free usage\n",
    "  - e.g. Google Maps, various weather services\n",
    "- Some open APIs that are free\n",
    "  - Danish \n",
    "    - Danish statistics (DST)\n",
    "    - Danish weather data (DMI, this fall)\n",
    "    - Danish spatial data (DAWA, danish addresses) \n",
    "  - Global\n",
    "      - OpenStreetMaps, Wikipedia\n",
    "- If no authentication is required the API may be delimited.\n",
    "  - This means only a certain number of requests can be handled per second or per hour from a given IP address."
   ]
  },
  {
   "cell_type": "markdown",
   "metadata": {
    "slideshow": {
     "slide_type": "slide"
    }
   },
   "source": [
    "## Web APIs (IV/IV)\n",
    "*So how do make the URLs?*"
   ]
  },
  {
   "cell_type": "markdown",
   "metadata": {
    "slideshow": {
     "slide_type": "fragment"
    }
   },
   "source": [
    "- An `API` query is a URL consisting of:\n",
    "  - Server URL, e.g. `https://api.github.com`\n",
    "  - Endpoint path, `/users/isdsucph/repos`"
   ]
  },
  {
   "cell_type": "markdown",
   "metadata": {
    "slideshow": {
     "slide_type": "fragment"
    }
   },
   "source": [
    "We can convert a string to JSON with `loads`."
   ]
  },
  {
   "cell_type": "markdown",
   "metadata": {
    "slideshow": {
     "slide_type": "slide"
    }
   },
   "source": [
    "## File handling\n",
    "*How can we remove a file?*"
   ]
  },
  {
   "cell_type": "markdown",
   "metadata": {
    "slideshow": {
     "slide_type": "fragment"
    }
   },
   "source": [
    "The module `os` can do a lot of file handling tasks, e.g. removing files:"
   ]
  },
  {
   "cell_type": "code",
   "execution_count": 71,
   "metadata": {
    "slideshow": {
     "slide_type": "-"
    }
   },
   "outputs": [],
   "source": [
    "import os\n",
    "\n",
    "os.remove('my_file.json')"
   ]
  },
  {
   "cell_type": "code",
   "execution_count": null,
   "metadata": {},
   "outputs": [],
   "source": [
    "############################################\n",
    "### NOT CLEAR WHERE THIS SLIDE SHOULD BE ###\n",
    "############################################\n",
    "\n",
    "import os\n",
    "\n",
    "# Find current wokring directory\n",
    "print(os.getcwd()) # Check working directory\n",
    "\n",
    "# What files are stored here?\n",
    "print(os.listdir(os.getcwd())) # Check files in working directory\n",
    "\n",
    "# I want to access the folder 'my_csv_file'. How?\n",
    "\n",
    "# I can also change the directory (note 'forward slash'!)\n",
    "os.chdir('C:/Users/xtw562/Documents/isds2021-master/teaching_material/session_2/my_csv_file')\n",
    "print(os.listdir(os.getcwd())) # Check files in working directory\n",
    "\n",
    "# And change back again!\n",
    "os.chdir('C:/Users/xtw562/Documents/isds2021-master/teaching_material/session_2')\n",
    "print(os.listdir(os.getcwd())) # Check files in working directory\n",
    "\n",
    "############################################\n",
    "### NOT CLEAR WHERE THIS SLIDE SHOULD BE ###\n",
    "############################################\n",
    "\n",
    "import pandas as pd\n",
    "\n",
    "# The simple case\n",
    "data = pd.read_csv('my_csv_file/titanic.csv')\n",
    "print(data.head(10))\n",
    "\n",
    "print(dtype)\n",
    "\n",
    "data = pd.read_csv(\n",
    "    'data/files/complex_data_example.tsv',      # relative python path to subdirectory\n",
    "    sep='\\t'           # Tab-separated value file.\n",
    "    quotechar=\"'\",        # single quote allowed as quote character\n",
    "    dtype={\"salary\": int},             # Parse the salary column as an integer \n",
    "    usecols=['name', 'birth_date', 'salary'].   # Only load the three columns specified.\n",
    "    parse_dates=['birth_date'],     # Intepret the birth_date column as a date\n",
    "    skiprows=10,         # Skip the first 10 rows of the file\n",
    "    na_values=['.', '??']       # Take any '.' or '??' values as NA\n",
    ")"
   ]
  },
  {
   "cell_type": "markdown",
   "metadata": {
    "slideshow": {
     "slide_type": "slide"
    }
   },
   "source": [
    "## How Text Data\n",
    "\n",
    "Data from the web often comes in HTML or other text format\n",
    "\n",
    "In this course, you will get tools to do basic work with text as data.\n",
    "\n",
    "However, in order to do that:\n",
    "\n",
    "- learn how to manipulate and save strings\n",
    "- save our text data in smart ways (JSON)\n",
    "- interact with the web\n",
    "\n",
    "First things first..."
   ]
  }
 ],
 "metadata": {
  "celltoolbar": "Slideshow",
  "kernelspec": {
   "display_name": "Python 3",
   "language": "python",
   "name": "python3"
  },
  "language_info": {
   "codemirror_mode": {
    "name": "ipython",
    "version": 3
   },
   "file_extension": ".py",
   "mimetype": "text/x-python",
   "name": "python",
   "nbconvert_exporter": "python",
   "pygments_lexer": "ipython3",
   "version": "3.8.5"
  }
 },
 "nbformat": 4,
 "nbformat_minor": 4
}
